{
 "cells": [
  {
   "cell_type": "markdown",
   "id": "716f9253",
   "metadata": {},
   "source": [
    "map, filter, lambda"
   ]
  },
  {
   "cell_type": "code",
   "execution_count": 2,
   "id": "d4d9e800",
   "metadata": {},
   "outputs": [],
   "source": [
    "def karesini_al(x):\n",
    "    return x**2"
   ]
  },
  {
   "cell_type": "code",
   "execution_count": 3,
   "id": "6cd3179a",
   "metadata": {},
   "outputs": [
    {
     "data": {
      "text/plain": [
       "25"
      ]
     },
     "execution_count": 3,
     "metadata": {},
     "output_type": "execute_result"
    }
   ],
   "source": [
    "karesini_al(5)"
   ]
  },
  {
   "cell_type": "code",
   "execution_count": 10,
   "id": "7612081b",
   "metadata": {},
   "outputs": [
    {
     "data": {
      "text/plain": [
       "[1, 2, 3, 4, 5]"
      ]
     },
     "execution_count": 10,
     "metadata": {},
     "output_type": "execute_result"
    }
   ],
   "source": [
    "sayilar = [*range(1,6)]\n",
    "sayilar"
   ]
  },
  {
   "cell_type": "code",
   "execution_count": 15,
   "id": "0eb526ec",
   "metadata": {},
   "outputs": [
    {
     "name": "stdout",
     "output_type": "stream",
     "text": [
      "[1, 2, 3, 4, 5]\n",
      "[1, 4, 9, 16, 25]\n"
     ]
    }
   ],
   "source": [
    "sayilar = [1, 2, 3, 4, 5]\n",
    "print(sayilar)\n",
    "for index in range(len(sayilar)):\n",
    "    sayilar[index] = karesini_al(sayilar[index])\n",
    "print(sayilar)\n"
   ]
  },
  {
   "cell_type": "code",
   "execution_count": 21,
   "id": "2dcdc08a",
   "metadata": {},
   "outputs": [
    {
     "name": "stdout",
     "output_type": "stream",
     "text": [
      "[1, 4, 9, 16, 25]\n"
     ]
    }
   ],
   "source": [
    "sayilar = [*range(1, 6)]\n",
    "karesi_alinanlar = [*map(karesini_al, sayilar)]\n",
    "print(karesi_alinanlar)"
   ]
  },
  {
   "cell_type": "code",
   "execution_count": 23,
   "id": "cdfc4014",
   "metadata": {},
   "outputs": [
    {
     "name": "stdout",
     "output_type": "stream",
     "text": [
      "[None, 2, None, 4, None, 6, None, 8, None, 10, None, 12]\n"
     ]
    }
   ],
   "source": [
    "sayilar = [*range(1, 13)]\n",
    "def cift_sayilari_filtrele(x):\n",
    "    if x % 2 == 0:\n",
    "        return x\n",
    "    else:\n",
    "        return None\n",
    "cift_sayilar = [*map(cift_sayilari_filtrele, sayilar)]\n",
    "print(cift_sayilar)"
   ]
  },
  {
   "cell_type": "code",
   "execution_count": 25,
   "id": "003d32b6",
   "metadata": {},
   "outputs": [
    {
     "name": "stdout",
     "output_type": "stream",
     "text": [
      "[None, 2, None, 4, None, 6, None, 8, None, 10, None, 12, None, 14, None, 16, None]\n"
     ]
    }
   ],
   "source": [
    "#farklı bir alternatif\n",
    "sayilar = [*range(1, 18)]\n",
    "def cift_sayilari_filtrele(x):\n",
    "    return x if x % 2 == 0 else None\n",
    "cift_sayilar = [*map(cift_sayilari_filtrele, sayilar)]\n",
    "print(cift_sayilar)"
   ]
  },
  {
   "cell_type": "code",
   "execution_count": 27,
   "id": "c7741155",
   "metadata": {},
   "outputs": [
    {
     "data": {
      "text/plain": [
       "[2, 4, 6, 8, 10, 12, 14, 16, 18, 20, 22, 24]"
      ]
     },
     "execution_count": 27,
     "metadata": {},
     "output_type": "execute_result"
    }
   ],
   "source": [
    "sayilar = [*range(1, 25)]\n",
    "[*filter(cift_sayilari_filtrele, sayilar)]\n"
   ]
  },
  {
   "cell_type": "code",
   "execution_count": 29,
   "id": "f400d4f9",
   "metadata": {},
   "outputs": [
    {
     "data": {
      "text/plain": [
       "[1, 4, 9, 16, 25, 36]"
      ]
     },
     "execution_count": 29,
     "metadata": {},
     "output_type": "execute_result"
    }
   ],
   "source": [
    "list(map(lambda sayi: sayi**2, range(1, 7)))\n"
   ]
  },
  {
   "cell_type": "code",
   "execution_count": 30,
   "id": "ede4091b",
   "metadata": {},
   "outputs": [
    {
     "data": {
      "text/plain": [
       "[2, 4, 6, 8, 10, 12, 14, 16]"
      ]
     },
     "execution_count": 30,
     "metadata": {},
     "output_type": "execute_result"
    }
   ],
   "source": [
    "list(filter(lambda sayi: sayi % 2 == 0, range(1, 17)))"
   ]
  },
  {
   "cell_type": "code",
   "execution_count": 33,
   "id": "af39465c",
   "metadata": {},
   "outputs": [
    {
     "data": {
      "text/plain": [
       "[2, 4, 6, 8, 10, 12]"
      ]
     },
     "execution_count": 33,
     "metadata": {},
     "output_type": "execute_result"
    }
   ],
   "source": [
    "sayilar = [*range(1, 13)]\n",
    "list(filter(lambda sayi: sayi % 2 == 0, sayilar))"
   ]
  },
  {
   "cell_type": "markdown",
   "id": "e1ca87da",
   "metadata": {},
   "source": [
    "input"
   ]
  },
  {
   "cell_type": "code",
   "execution_count": 41,
   "id": "11386fb7",
   "metadata": {},
   "outputs": [
    {
     "name": "stdout",
     "output_type": "stream",
     "text": [
      "Emre Şimşek\n"
     ]
    }
   ],
   "source": [
    "print(input(\"Bir şeyler yazın: \"))"
   ]
  },
  {
   "cell_type": "code",
   "execution_count": 43,
   "id": "bac88f1d",
   "metadata": {},
   "outputs": [
    {
     "name": "stdout",
     "output_type": "stream",
     "text": [
      "15\n",
      "<class 'str'>\n"
     ]
    }
   ],
   "source": [
    "sayi = input(\"Bir sayı giriniz: \")\n",
    "print(sayi)\n",
    "print(type(sayi))"
   ]
  },
  {
   "cell_type": "code",
   "execution_count": 46,
   "id": "69e0a302",
   "metadata": {},
   "outputs": [
    {
     "name": "stdout",
     "output_type": "stream",
     "text": [
      "18\n",
      "<class 'int'>\n"
     ]
    }
   ],
   "source": [
    "sayi = int(input(\"Bir sayı giriniz : \"))\n",
    "print(sayi)\n",
    "print(type(sayi))"
   ]
  },
  {
   "cell_type": "code",
   "execution_count": 48,
   "id": "ea191a31",
   "metadata": {},
   "outputs": [
    {
     "data": {
      "text/plain": [
       "'891 sayısı tektir.'"
      ]
     },
     "execution_count": 48,
     "metadata": {},
     "output_type": "execute_result"
    }
   ],
   "source": [
    "def ciftmi_tekmi():\n",
    "    girdi = int(input(\"Bir sayı giriniz : \"))\n",
    "    islem = input(\"Çift mi tek mi kontrol edilsin? (c/t): \")\n",
    "\n",
    "    if islem == \"c\":\n",
    "        if(girdi % 2 == 0):\n",
    "            return f\"{girdi} sayısı çifttir.\"\n",
    "        elif(girdi % 2 == 1):\n",
    "            return f\"{girdi} sayısı tektir.\"\n",
    "        else:\n",
    "            return \"Lütfen geçerli bir sayı giriniz.\"\n",
    "\n",
    "ciftmi_tekmi()"
   ]
  },
  {
   "cell_type": "code",
   "execution_count": null,
   "id": "10ddaa47",
   "metadata": {},
   "outputs": [
    {
     "data": {
      "text/plain": [
       "'86 girdiniz bir integer sayı tipidir.'"
      ]
     },
     "execution_count": 4,
     "metadata": {},
     "output_type": "execute_result"
    }
   ],
   "source": [
    "def sayi_girdisi_kontrol():\n",
    "    girdi = input(\"Bir sayi giriniz: \")\n",
    "\n",
    "    if girdi.isdigit():\n",
    "        return f\"{girdi} girdiniz bir sayı tipidir.\"\n",
    "    else:\n",
    "        return f\"{girdi} girdiniz bir sayı tipi değildir.\"\n",
    "    \n",
    "sayi_girdisi_kontrol()    "
   ]
  },
  {
   "cell_type": "code",
   "execution_count": null,
   "id": "ff8d34c7",
   "metadata": {},
   "outputs": [
    {
     "name": "stdout",
     "output_type": "stream",
     "text": [
      "H bir sayı tipi değildir. Lütfen tekrar deneyiniz.\n",
      "EMre bir sayı tipi değildir. Lütfen tekrar deneyiniz.\n"
     ]
    },
    {
     "data": {
      "text/plain": [
       "'235541095 girdiniz bir integer sayi tipidir.'"
      ]
     },
     "execution_count": 5,
     "metadata": {},
     "output_type": "execute_result"
    }
   ],
   "source": [
    "def sayi_girdisi_kontrol_dongusu1():\n",
    "    girdi = input(\"Bir sayi giriniz: \")\n",
    "\n",
    "    while not girdi.isdigit():\n",
    "        print(f\"{girdi} bir sayı tipi değildir. Lütfen tekrar deneyiniz.\")\n",
    "        girdi = input(\"Geçerli bir sayi giriniz: \")\n",
    "\n",
    "    else:   \n",
    "        return f\"{girdi} girdiniz bir sayi tipidir.\"\n",
    "    \n",
    "sayi_girdisi_kontrol_dongusu1()\n"
   ]
  },
  {
   "cell_type": "code",
   "execution_count": 10,
   "id": "4ce3273b",
   "metadata": {},
   "outputs": [
    {
     "name": "stdout",
     "output_type": "stream",
     "text": [
      "emre@firat geçerli bir e-posta adresi değildir.\n",
      "simsek@firat.edu.tr geçerli bir e-posta adresidir.\n"
     ]
    }
   ],
   "source": [
    "def eposta_kontrol():\n",
    "    eposta = input(\"Lütfen bir E-posta adrtesi giriniz:\")\n",
    "\n",
    "    while not ((\"@\" in eposta) and (\".\" in eposta)):\n",
    "        print(f\"{eposta} geçerli bir e-posta adresi değildir.\")\n",
    "        eposta = input(\"Lütfen geçerli bir e-posta adresi giriniz: \")\n",
    "\n",
    "    else: \n",
    "        print(f\"{eposta} geçerli bir e-posta adresidir.\")\n",
    "\n",
    "eposta_kontrol()"
   ]
  }
 ],
 "metadata": {
  "kernelspec": {
   "display_name": "Python 3",
   "language": "python",
   "name": "python3"
  },
  "language_info": {
   "codemirror_mode": {
    "name": "ipython",
    "version": 3
   },
   "file_extension": ".py",
   "mimetype": "text/x-python",
   "name": "python",
   "nbconvert_exporter": "python",
   "pygments_lexer": "ipython3",
   "version": "3.14.0"
  }
 },
 "nbformat": 4,
 "nbformat_minor": 5
}
