{
 "cells": [
  {
   "cell_type": "code",
   "execution_count": 3,
   "id": "8e6d067c",
   "metadata": {},
   "outputs": [
    {
     "name": "stdout",
     "output_type": "stream",
     "text": [
      "1\n",
      "2\n"
     ]
    }
   ],
   "source": [
    "print(round(1.3))\n",
    "print(round(1.7))"
   ]
  },
  {
   "cell_type": "code",
   "execution_count": 10,
   "id": "f737d356",
   "metadata": {},
   "outputs": [
    {
     "name": "stdout",
     "output_type": "stream",
     "text": [
      "Yuvarlama isleminin sonucu : 14\n"
     ]
    }
   ],
   "source": [
    "def tam_sayiya_cevir():\n",
    "    girdi = input(\"Bir ondalik sayi giriniz: \")\n",
    "\n",
    "    print(f\"Yuvarlama isleminin sonucu : {round(float(girdi))}\")\n",
    "\n",
    "tam_sayiya_cevir()"
   ]
  },
  {
   "cell_type": "code",
   "execution_count": null,
   "id": "78438f56",
   "metadata": {},
   "outputs": [
    {
     "name": "stdout",
     "output_type": "stream",
     "text": [
      "a girdisi ondaklik sayiya cevrilemez.\n"
     ]
    }
   ],
   "source": [
    "def tam_sayiya_cevir():\n",
    "    girdi = input(\"Bir ondalik sayi giriniz: \")\n",
    "\n",
    "    try:\n",
    "        girdi = float(girdi)\n",
    "        print(f\"Yuvarlama isleminin sonucu: {round(girdi)}\")\n",
    "    except:\n",
    "        print(f\"{girdi} girdisi ondaklik sayiya cevrilemez.\")\n",
    "\n",
    "\n",
    "tam_sayiya_cevir()"
   ]
  },
  {
   "cell_type": "code",
   "execution_count": 16,
   "id": "0d6fbc71",
   "metadata": {},
   "outputs": [
    {
     "name": "stdout",
     "output_type": "stream",
     "text": [
      "Yuvarlama isleminin sonucu: 82\n",
      "Tam sayiya cevirme islemi basarili!\n"
     ]
    }
   ],
   "source": [
    "def tam_sayiya_cevir():\n",
    "    girdi = input(\"Bir ondalik sayi giriniz: \")\n",
    "    status = \"\"\n",
    "\n",
    "    try:\n",
    "        girdi = float(girdi)\n",
    "        print(f\"Yuvarlama isleminin sonucu: {round(girdi)}\")\n",
    "        status = \"basarili!\"\n",
    "    except:\n",
    "        print(f\"{girdi} girdisi ondaklik sayiya cevrilemez.\")\n",
    "        status = \"basarisiz!\"\n",
    "    finally:\n",
    "        print(f\"Tam sayiya cevirme islemi {status}\")\n",
    "\n",
    "\n",
    "tam_sayiya_cevir()"
   ]
  },
  {
   "cell_type": "code",
   "execution_count": 19,
   "id": "ff6713ef",
   "metadata": {},
   "outputs": [
    {
     "name": "stdout",
     "output_type": "stream",
     "text": [
      "a girdisi ondaklik sayiya cevrilemez.\n",
      "b girdisi ondaklik sayiya cevrilemez.\n",
      "c girdisi ondaklik sayiya cevrilemez.\n",
      "Yuvarlama isleminin sonucu: 31\n"
     ]
    }
   ],
   "source": [
    "def tam_sayiya_cevir():\n",
    "    \n",
    "\n",
    "    while True:\n",
    "        girdi = input(\"Bir ondalik sayi giriniz: \")\n",
    "\n",
    "        try:\n",
    "            girdi = float(girdi)\n",
    "            print(f\"Yuvarlama isleminin sonucu: {round(girdi)}\")\n",
    "            break\n",
    "        except:\n",
    "            print(f\"{girdi} girdisi ondaklik sayiya cevrilemez.\")\n",
    "            pass\n",
    "\n",
    "\n",
    "tam_sayiya_cevir()"
   ]
  },
  {
   "cell_type": "code",
   "execution_count": 24,
   "id": "f050d647",
   "metadata": {},
   "outputs": [
    {
     "name": "stdout",
     "output_type": "stream",
     "text": [
      "Emre\n"
     ]
    }
   ],
   "source": [
    "vatandas = {\n",
    "    \"Ad\" : \"Emre\",\n",
    "    \"Soyad\" : \"Simsek\",\n",
    "    \"Yas\" : 20\n",
    "}\n",
    "\n",
    "try:\n",
    "    print(vatandas[\"Ad\"])\n",
    "except IndexError:\n",
    "    print(\"Index Hatasi!\")\n",
    "except KeyError:\n",
    "    print(\"Boyle bir anahtar yok!\")\n",
    "except:\n",
    "    print(\"Bir hata olustu!\")"
   ]
  },
  {
   "cell_type": "code",
   "execution_count": null,
   "id": "56297c81",
   "metadata": {},
   "outputs": [],
   "source": [
    "liste = []\n",
    "try:\n",
    "    liste[-1]\n",
    "except:\n",
    "    print(\"Bir hata olustu!\")\n",
    "except IndexError:\n",
    "    print(\"Index bulunamadi!\")\n",
    "# IndexError except blogunun hicbir zaman calismayacagi icin bu sekilde kullanilmaz."
   ]
  },
  {
   "cell_type": "code",
   "execution_count": 23,
   "id": "eb11777a",
   "metadata": {},
   "outputs": [
    {
     "name": "stdout",
     "output_type": "stream",
     "text": [
      "Index bulunamadi!\n"
     ]
    }
   ],
   "source": [
    "liste = []\n",
    "try:\n",
    "    liste[-1]\n",
    "except IndexError:\n",
    "    print(\"Index bulunamadi!\")\n",
    "except:\n",
    "    print(\"Bir hata olustu!\")"
   ]
  },
  {
   "cell_type": "code",
   "execution_count": null,
   "id": "13df8dc2",
   "metadata": {},
   "outputs": [],
   "source": []
  }
 ],
 "metadata": {
  "kernelspec": {
   "display_name": "Python 3",
   "language": "python",
   "name": "python3"
  },
  "language_info": {
   "codemirror_mode": {
    "name": "ipython",
    "version": 3
   },
   "file_extension": ".py",
   "mimetype": "text/x-python",
   "name": "python",
   "nbconvert_exporter": "python",
   "pygments_lexer": "ipython3",
   "version": "3.14.0"
  }
 },
 "nbformat": 4,
 "nbformat_minor": 5
}
