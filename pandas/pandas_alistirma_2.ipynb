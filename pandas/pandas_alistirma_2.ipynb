{
 "cells": [
  {
   "cell_type": "markdown",
   "id": "be87aa37",
   "metadata": {},
   "source": [
    "1) df_tips içindeki Payment ID column'unun son 3 rakamını çekin. Bu işlemi 3 farklı yolla da yapmaya çalışın.\n",
    "2) df_tips içindeki Payer Name sütununda isim ve soy isim bilgileri bulunuyor. O sütundan sadece isim bilgileri çekin ve 'JustName' adında yeni bir column oluşturun. (Bu biraz zorlayıcı olabilir, Önce kendiniz yapmaya çalışın fakat yapamazsanız ChatGPT'ye soruyu düzgünce sorarak cevabını kod olarak alabilirsiniz, ardından döndürülen kodu anlamaya çalışmanız yeterlidir.)\n",
    "3) 2.Soruda yeni oluşturduğunuz 'JustName' sütunundaki verilerin her birinden kaç tane olduğuna uygun methodu kullanarak bakın.\n",
    "4) 3.Soruda gördüğünüz gibi JustName sütununda 'Jason' isminden 9 tane, 'Michael' isminden 7 tane , 'James' isminden 6 tane bulunuyor. Peki bunların hepsi gerçekten farklı kişiler mi ? Hemen 'Payer Name' sütunundaki verilerin adetlerini de saydırtarak bir kıyaslama yapın. 'JustName' sütununu kullanmanın faydasız ve yanıltıcı olabileceğini görün ardından oluşturduğumuz 'JustName' sütununu kalıcı olarak drop edin. (Oluşturmanız için bir pratikti bu sütun sadece :D)"
   ]
  },
  {
   "cell_type": "code",
   "execution_count": 2,
   "id": "c9fb837f",
   "metadata": {},
   "outputs": [],
   "source": [
    "import numpy as np\n",
    "import pandas as pd"
   ]
  },
  {
   "cell_type": "code",
   "execution_count": 46,
   "id": "908bdcb5",
   "metadata": {},
   "outputs": [
    {
     "data": {
      "application/vnd.microsoft.datawrangler.viewer.v0+json": {
       "columns": [
        {
         "name": "index",
         "rawType": "int64",
         "type": "integer"
        },
        {
         "name": "total_bill",
         "rawType": "float64",
         "type": "float"
        },
        {
         "name": "tip",
         "rawType": "float64",
         "type": "float"
        },
        {
         "name": "sex",
         "rawType": "object",
         "type": "string"
        },
        {
         "name": "smoker",
         "rawType": "object",
         "type": "string"
        },
        {
         "name": "day",
         "rawType": "object",
         "type": "string"
        },
        {
         "name": "time",
         "rawType": "object",
         "type": "string"
        },
        {
         "name": "size",
         "rawType": "int64",
         "type": "integer"
        },
        {
         "name": "price_per_person",
         "rawType": "float64",
         "type": "float"
        },
        {
         "name": "Payer Name",
         "rawType": "object",
         "type": "string"
        },
        {
         "name": "CC Number",
         "rawType": "int64",
         "type": "integer"
        },
        {
         "name": "Payment ID",
         "rawType": "object",
         "type": "string"
        }
       ],
       "ref": "8b9dfac2-34a2-4ef6-b805-ba6409f54b3d",
       "rows": [
        [
         "0",
         "16.99",
         "1.01",
         "Female",
         "No",
         "Sun",
         "Dinner",
         "2",
         "8.49",
         "Christy Cunningham",
         "3560325168603410",
         "Sun2959"
        ],
        [
         "1",
         "10.34",
         "1.66",
         "Male",
         "No",
         "Sun",
         "Dinner",
         "3",
         "3.45",
         "Douglas Tucker",
         "4478071379779230",
         "Sun4608"
        ],
        [
         "2",
         "21.01",
         "3.5",
         "Male",
         "No",
         "Sun",
         "Dinner",
         "3",
         "7.0",
         "Travis Walters",
         "6011812112971322",
         "Sun4458"
        ],
        [
         "3",
         "23.68",
         "3.31",
         "Male",
         "No",
         "Sun",
         "Dinner",
         "2",
         "11.84",
         "Nathaniel Harris",
         "4676137647685994",
         "Sun5260"
        ],
        [
         "4",
         "24.59",
         "3.61",
         "Female",
         "No",
         "Sun",
         "Dinner",
         "4",
         "6.15",
         "Tonya Carter",
         "4832732618637221",
         "Sun2251"
        ]
       ],
       "shape": {
        "columns": 11,
        "rows": 5
       }
      },
      "text/html": [
       "<div>\n",
       "<style scoped>\n",
       "    .dataframe tbody tr th:only-of-type {\n",
       "        vertical-align: middle;\n",
       "    }\n",
       "\n",
       "    .dataframe tbody tr th {\n",
       "        vertical-align: top;\n",
       "    }\n",
       "\n",
       "    .dataframe thead th {\n",
       "        text-align: right;\n",
       "    }\n",
       "</style>\n",
       "<table border=\"1\" class=\"dataframe\">\n",
       "  <thead>\n",
       "    <tr style=\"text-align: right;\">\n",
       "      <th></th>\n",
       "      <th>total_bill</th>\n",
       "      <th>tip</th>\n",
       "      <th>sex</th>\n",
       "      <th>smoker</th>\n",
       "      <th>day</th>\n",
       "      <th>time</th>\n",
       "      <th>size</th>\n",
       "      <th>price_per_person</th>\n",
       "      <th>Payer Name</th>\n",
       "      <th>CC Number</th>\n",
       "      <th>Payment ID</th>\n",
       "    </tr>\n",
       "  </thead>\n",
       "  <tbody>\n",
       "    <tr>\n",
       "      <th>0</th>\n",
       "      <td>16.99</td>\n",
       "      <td>1.01</td>\n",
       "      <td>Female</td>\n",
       "      <td>No</td>\n",
       "      <td>Sun</td>\n",
       "      <td>Dinner</td>\n",
       "      <td>2</td>\n",
       "      <td>8.49</td>\n",
       "      <td>Christy Cunningham</td>\n",
       "      <td>3560325168603410</td>\n",
       "      <td>Sun2959</td>\n",
       "    </tr>\n",
       "    <tr>\n",
       "      <th>1</th>\n",
       "      <td>10.34</td>\n",
       "      <td>1.66</td>\n",
       "      <td>Male</td>\n",
       "      <td>No</td>\n",
       "      <td>Sun</td>\n",
       "      <td>Dinner</td>\n",
       "      <td>3</td>\n",
       "      <td>3.45</td>\n",
       "      <td>Douglas Tucker</td>\n",
       "      <td>4478071379779230</td>\n",
       "      <td>Sun4608</td>\n",
       "    </tr>\n",
       "    <tr>\n",
       "      <th>2</th>\n",
       "      <td>21.01</td>\n",
       "      <td>3.50</td>\n",
       "      <td>Male</td>\n",
       "      <td>No</td>\n",
       "      <td>Sun</td>\n",
       "      <td>Dinner</td>\n",
       "      <td>3</td>\n",
       "      <td>7.00</td>\n",
       "      <td>Travis Walters</td>\n",
       "      <td>6011812112971322</td>\n",
       "      <td>Sun4458</td>\n",
       "    </tr>\n",
       "    <tr>\n",
       "      <th>3</th>\n",
       "      <td>23.68</td>\n",
       "      <td>3.31</td>\n",
       "      <td>Male</td>\n",
       "      <td>No</td>\n",
       "      <td>Sun</td>\n",
       "      <td>Dinner</td>\n",
       "      <td>2</td>\n",
       "      <td>11.84</td>\n",
       "      <td>Nathaniel Harris</td>\n",
       "      <td>4676137647685994</td>\n",
       "      <td>Sun5260</td>\n",
       "    </tr>\n",
       "    <tr>\n",
       "      <th>4</th>\n",
       "      <td>24.59</td>\n",
       "      <td>3.61</td>\n",
       "      <td>Female</td>\n",
       "      <td>No</td>\n",
       "      <td>Sun</td>\n",
       "      <td>Dinner</td>\n",
       "      <td>4</td>\n",
       "      <td>6.15</td>\n",
       "      <td>Tonya Carter</td>\n",
       "      <td>4832732618637221</td>\n",
       "      <td>Sun2251</td>\n",
       "    </tr>\n",
       "  </tbody>\n",
       "</table>\n",
       "</div>"
      ],
      "text/plain": [
       "   total_bill   tip     sex smoker  day    time  size  price_per_person  \\\n",
       "0       16.99  1.01  Female     No  Sun  Dinner     2              8.49   \n",
       "1       10.34  1.66    Male     No  Sun  Dinner     3              3.45   \n",
       "2       21.01  3.50    Male     No  Sun  Dinner     3              7.00   \n",
       "3       23.68  3.31    Male     No  Sun  Dinner     2             11.84   \n",
       "4       24.59  3.61  Female     No  Sun  Dinner     4              6.15   \n",
       "\n",
       "           Payer Name         CC Number Payment ID  \n",
       "0  Christy Cunningham  3560325168603410    Sun2959  \n",
       "1      Douglas Tucker  4478071379779230    Sun4608  \n",
       "2      Travis Walters  6011812112971322    Sun4458  \n",
       "3    Nathaniel Harris  4676137647685994    Sun5260  \n",
       "4        Tonya Carter  4832732618637221    Sun2251  "
      ]
     },
     "execution_count": 46,
     "metadata": {},
     "output_type": "execute_result"
    }
   ],
   "source": [
    "df_tips = pd.read_csv(\"tips.csv\")\n",
    "df_tips.head()"
   ]
  },
  {
   "cell_type": "code",
   "execution_count": 4,
   "id": "93734ad0",
   "metadata": {},
   "outputs": [
    {
     "data": {
      "application/vnd.microsoft.datawrangler.viewer.v0+json": {
       "columns": [
        {
         "name": "index",
         "rawType": "int64",
         "type": "integer"
        },
        {
         "name": "Payment ID",
         "rawType": "object",
         "type": "string"
        }
       ],
       "ref": "19540cd4-fcc2-4d9c-8771-727605b83041",
       "rows": [
        [
         "0",
         "959"
        ],
        [
         "1",
         "608"
        ],
        [
         "2",
         "458"
        ],
        [
         "3",
         "260"
        ],
        [
         "4",
         "251"
        ],
        [
         "5",
         "679"
        ],
        [
         "6",
         "985"
        ],
        [
         "7",
         "157"
        ],
        [
         "8",
         "820"
        ],
        [
         "9",
         "775"
        ],
        [
         "10",
         "546"
        ],
        [
         "11",
         "686"
        ],
        [
         "12",
         "300"
        ],
        [
         "13",
         "971"
        ],
        [
         "14",
         "848"
        ],
        [
         "15",
         "878"
        ],
        [
         "16",
         "715"
        ],
        [
         "17",
         "998"
        ],
        [
         "18",
         "789"
        ],
        [
         "19",
         "213"
        ],
        [
         "20",
         "709"
        ],
        [
         "21",
         "618"
        ],
        [
         "22",
         "786"
        ],
        [
         "23",
         "239"
        ],
        [
         "24",
         "236"
        ],
        [
         "25",
         "907"
        ],
        [
         "26",
         "651"
        ],
        [
         "27",
         "394"
        ],
        [
         "28",
         "697"
        ],
        [
         "29",
         "467"
        ],
        [
         "30",
         "099"
        ],
        [
         "31",
         "947"
        ],
        [
         "32",
         "327"
        ],
        [
         "33",
         "649"
        ],
        [
         "34",
         "124"
        ],
        [
         "35",
         "632"
        ],
        [
         "36",
         "139"
        ],
        [
         "37",
         "406"
        ],
        [
         "38",
         "056"
        ],
        [
         "39",
         "373"
        ],
        [
         "40",
         "549"
        ],
        [
         "41",
         "460"
        ],
        [
         "42",
         "699"
        ],
        [
         "43",
         "279"
        ],
        [
         "44",
         "274"
        ],
        [
         "45",
         "643"
        ],
        [
         "46",
         "097"
        ],
        [
         "47",
         "677"
        ],
        [
         "48",
         "142"
        ],
        [
         "49",
         "774"
        ]
       ],
       "shape": {
        "columns": 1,
        "rows": 244
       }
      },
      "text/plain": [
       "0      959\n",
       "1      608\n",
       "2      458\n",
       "3      260\n",
       "4      251\n",
       "      ... \n",
       "239    657\n",
       "240    766\n",
       "241    880\n",
       "242    t17\n",
       "243    672\n",
       "Name: Payment ID, Length: 244, dtype: object"
      ]
     },
     "execution_count": 4,
     "metadata": {},
     "output_type": "execute_result"
    }
   ],
   "source": [
    "df_tips[\"Payment ID\"].astype(str).str[-3:]"
   ]
  },
  {
   "cell_type": "code",
   "execution_count": 5,
   "id": "afd3449e",
   "metadata": {},
   "outputs": [
    {
     "data": {
      "application/vnd.microsoft.datawrangler.viewer.v0+json": {
       "columns": [
        {
         "name": "index",
         "rawType": "int64",
         "type": "integer"
        },
        {
         "name": "Payer Name",
         "rawType": "object",
         "type": "string"
        }
       ],
       "ref": "ed61c6c6-77b8-4491-bf92-021e2035d050",
       "rows": [
        [
         "0",
         "Christy Cunningham"
        ],
        [
         "1",
         "Douglas Tucker"
        ],
        [
         "2",
         "Travis Walters"
        ],
        [
         "3",
         "Nathaniel Harris"
        ],
        [
         "4",
         "Tonya Carter"
        ],
        [
         "5",
         "Erik Smith"
        ],
        [
         "6",
         "Kristopher Johnson"
        ],
        [
         "7",
         "Robert Buck"
        ],
        [
         "8",
         "Joseph Mcdonald"
        ],
        [
         "9",
         "Jerome Abbott"
        ],
        [
         "10",
         "William Riley"
        ],
        [
         "11",
         "Diane Macias"
        ],
        [
         "12",
         "Chad Harrington"
        ],
        [
         "13",
         "Joshua Jones"
        ],
        [
         "14",
         "Vanessa Jones"
        ],
        [
         "15",
         "Matthew Reilly"
        ],
        [
         "16",
         "Elizabeth Foster"
        ],
        [
         "17",
         "John Pittman"
        ],
        [
         "18",
         "Laura Martinez"
        ],
        [
         "19",
         "Timothy Oneal"
        ],
        [
         "20",
         "Thomas Rice"
        ],
        [
         "21",
         "Natalie Gardner"
        ],
        [
         "22",
         "Ashley Shelton"
        ],
        [
         "23",
         "Lance Peterson"
        ],
        [
         "24",
         "Christopher Ross"
        ],
        [
         "25",
         "Robert Perkins"
        ],
        [
         "26",
         "Kyle Avery"
        ],
        [
         "27",
         "Patrick Barber"
        ],
        [
         "28",
         "David Collier"
        ],
        [
         "29",
         "Melinda Murphy"
        ],
        [
         "30",
         "Grant Hall"
        ],
        [
         "31",
         "Danny Santiago"
        ],
        [
         "32",
         "Amanda Wilson"
        ],
        [
         "33",
         "Amber Francis"
        ],
        [
         "34",
         "Jacob Castillo"
        ],
        [
         "35",
         "Joseph Mullins"
        ],
        [
         "36",
         "William Ford"
        ],
        [
         "37",
         "Erin Lewis"
        ],
        [
         "38",
         "Brandon Bradley"
        ],
        [
         "39",
         "Mr. Brandon Berry"
        ],
        [
         "40",
         "Adam Edwards"
        ],
        [
         "41",
         "David Boyer"
        ],
        [
         "42",
         "Bryan Brown"
        ],
        [
         "43",
         "Christopher Spears"
        ],
        [
         "44",
         "Todd Cooper"
        ],
        [
         "45",
         "Richard Fitzgerald"
        ],
        [
         "46",
         "Joshua Gilmore"
        ],
        [
         "47",
         "James Barnes"
        ],
        [
         "48",
         "Austin Fisher"
        ],
        [
         "49",
         "William Roth"
        ]
       ],
       "shape": {
        "columns": 1,
        "rows": 244
       }
      },
      "text/plain": [
       "0      Christy Cunningham\n",
       "1          Douglas Tucker\n",
       "2          Travis Walters\n",
       "3        Nathaniel Harris\n",
       "4            Tonya Carter\n",
       "              ...        \n",
       "239         Michael Avila\n",
       "240        Monica Sanders\n",
       "241            Keith Wong\n",
       "242          Dennis Dixon\n",
       "243       Michelle Hardin\n",
       "Name: Payer Name, Length: 244, dtype: object"
      ]
     },
     "execution_count": 5,
     "metadata": {},
     "output_type": "execute_result"
    }
   ],
   "source": [
    "df_tips[\"Payer Name\"]"
   ]
  },
  {
   "cell_type": "code",
   "execution_count": 6,
   "id": "ff57ffe0",
   "metadata": {},
   "outputs": [],
   "source": [
    "df_tips[\"Just_Name\"] = df_tips[\"Payer Name\"].str.split().str[0]"
   ]
  },
  {
   "cell_type": "code",
   "execution_count": 7,
   "id": "37826dd2",
   "metadata": {},
   "outputs": [
    {
     "data": {
      "application/vnd.microsoft.datawrangler.viewer.v0+json": {
       "columns": [
        {
         "name": "index",
         "rawType": "int64",
         "type": "integer"
        },
        {
         "name": "total_bill",
         "rawType": "float64",
         "type": "float"
        },
        {
         "name": "tip",
         "rawType": "float64",
         "type": "float"
        },
        {
         "name": "sex",
         "rawType": "object",
         "type": "string"
        },
        {
         "name": "smoker",
         "rawType": "object",
         "type": "string"
        },
        {
         "name": "day",
         "rawType": "object",
         "type": "string"
        },
        {
         "name": "time",
         "rawType": "object",
         "type": "string"
        },
        {
         "name": "size",
         "rawType": "int64",
         "type": "integer"
        },
        {
         "name": "price_per_person",
         "rawType": "float64",
         "type": "float"
        },
        {
         "name": "Payer Name",
         "rawType": "object",
         "type": "string"
        },
        {
         "name": "CC Number",
         "rawType": "int64",
         "type": "integer"
        },
        {
         "name": "Payment ID",
         "rawType": "object",
         "type": "string"
        },
        {
         "name": "Just_Name",
         "rawType": "object",
         "type": "string"
        }
       ],
       "ref": "145502ae-8514-4f46-8a74-543532f19062",
       "rows": [
        [
         "0",
         "16.99",
         "1.01",
         "Female",
         "No",
         "Sun",
         "Dinner",
         "2",
         "8.49",
         "Christy Cunningham",
         "3560325168603410",
         "Sun2959",
         "Christy"
        ],
        [
         "1",
         "10.34",
         "1.66",
         "Male",
         "No",
         "Sun",
         "Dinner",
         "3",
         "3.45",
         "Douglas Tucker",
         "4478071379779230",
         "Sun4608",
         "Douglas"
        ],
        [
         "2",
         "21.01",
         "3.5",
         "Male",
         "No",
         "Sun",
         "Dinner",
         "3",
         "7.0",
         "Travis Walters",
         "6011812112971322",
         "Sun4458",
         "Travis"
        ],
        [
         "3",
         "23.68",
         "3.31",
         "Male",
         "No",
         "Sun",
         "Dinner",
         "2",
         "11.84",
         "Nathaniel Harris",
         "4676137647685994",
         "Sun5260",
         "Nathaniel"
        ],
        [
         "4",
         "24.59",
         "3.61",
         "Female",
         "No",
         "Sun",
         "Dinner",
         "4",
         "6.15",
         "Tonya Carter",
         "4832732618637221",
         "Sun2251",
         "Tonya"
        ],
        [
         "5",
         "25.29",
         "4.71",
         "Male",
         "No",
         "Sun",
         "Dinner",
         "4",
         "6.32",
         "Erik Smith",
         "213140353657882",
         "Sun9679",
         "Erik"
        ],
        [
         "6",
         "8.77",
         "2.0",
         "Male",
         "No",
         "Sun",
         "Dinner",
         "2",
         "4.38",
         "Kristopher Johnson",
         "2223727524230344",
         "Sun5985",
         "Kristopher"
        ],
        [
         "7",
         "26.88",
         "3.12",
         "Male",
         "No",
         "Sun",
         "Dinner",
         "4",
         "6.72",
         "Robert Buck",
         "3514785077705092",
         "Sun8157",
         "Robert"
        ],
        [
         "8",
         "15.04",
         "1.96",
         "Male",
         "No",
         "Sun",
         "Dinner",
         "2",
         "7.52",
         "Joseph Mcdonald",
         "3522866365840377",
         "Sun6820",
         "Joseph"
        ],
        [
         "9",
         "14.78",
         "3.23",
         "Male",
         "No",
         "Sun",
         "Dinner",
         "2",
         "7.39",
         "Jerome Abbott",
         "3532124519049786",
         "Sun3775",
         "Jerome"
        ],
        [
         "10",
         "10.27",
         "1.71",
         "Male",
         "No",
         "Sun",
         "Dinner",
         "2",
         "5.14",
         "William Riley",
         "566287581219",
         "Sun2546",
         "William"
        ],
        [
         "11",
         "35.26",
         "5.0",
         "Female",
         "No",
         "Sun",
         "Dinner",
         "4",
         "8.82",
         "Diane Macias",
         "4577817359320969",
         "Sun6686",
         "Diane"
        ],
        [
         "12",
         "15.42",
         "1.57",
         "Male",
         "No",
         "Sun",
         "Dinner",
         "2",
         "7.71",
         "Chad Harrington",
         "577040572932",
         "Sun1300",
         "Chad"
        ],
        [
         "13",
         "18.43",
         "3.0",
         "Male",
         "No",
         "Sun",
         "Dinner",
         "4",
         "4.61",
         "Joshua Jones",
         "6011163105616890",
         "Sun2971",
         "Joshua"
        ],
        [
         "14",
         "14.83",
         "3.02",
         "Female",
         "No",
         "Sun",
         "Dinner",
         "2",
         "7.42",
         "Vanessa Jones",
         "30016702287574",
         "Sun3848",
         "Vanessa"
        ],
        [
         "15",
         "21.58",
         "3.92",
         "Male",
         "No",
         "Sun",
         "Dinner",
         "2",
         "10.79",
         "Matthew Reilly",
         "180073029785069",
         "Sun1878",
         "Matthew"
        ],
        [
         "16",
         "10.33",
         "1.67",
         "Female",
         "No",
         "Sun",
         "Dinner",
         "3",
         "3.44",
         "Elizabeth Foster",
         "4240025044626033",
         "Sun9715",
         "Elizabeth"
        ],
        [
         "17",
         "16.29",
         "3.71",
         "Male",
         "No",
         "Sun",
         "Dinner",
         "3",
         "5.43",
         "John Pittman",
         "6521340257218708",
         "Sun2998",
         "John"
        ],
        [
         "18",
         "16.97",
         "3.5",
         "Female",
         "No",
         "Sun",
         "Dinner",
         "3",
         "5.66",
         "Laura Martinez",
         "30422275171379",
         "Sun2789",
         "Laura"
        ],
        [
         "19",
         "20.65",
         "3.35",
         "Male",
         "No",
         "Sat",
         "Dinner",
         "3",
         "6.88",
         "Timothy Oneal",
         "6568069240986485",
         "Sat9213",
         "Timothy"
        ],
        [
         "20",
         "17.92",
         "4.08",
         "Male",
         "No",
         "Sat",
         "Dinner",
         "2",
         "8.96",
         "Thomas Rice",
         "4403296224639756",
         "Sat1709",
         "Thomas"
        ],
        [
         "21",
         "20.29",
         "2.75",
         "Female",
         "No",
         "Sat",
         "Dinner",
         "2",
         "10.14",
         "Natalie Gardner",
         "5448125351489749",
         "Sat9618",
         "Natalie"
        ],
        [
         "22",
         "15.77",
         "2.23",
         "Female",
         "No",
         "Sat",
         "Dinner",
         "2",
         "7.88",
         "Ashley Shelton",
         "3524119516293213",
         "Sat9786",
         "Ashley"
        ],
        [
         "23",
         "39.42",
         "7.58",
         "Male",
         "No",
         "Sat",
         "Dinner",
         "4",
         "9.86",
         "Lance Peterson",
         "3542584061609808",
         "Sat239",
         "Lance"
        ],
        [
         "24",
         "19.82",
         "3.18",
         "Male",
         "No",
         "Sat",
         "Dinner",
         "2",
         "9.91",
         "Christopher Ross",
         "36739148167928",
         "Sat6236",
         "Christopher"
        ],
        [
         "25",
         "17.81",
         "2.34",
         "Male",
         "No",
         "Sat",
         "Dinner",
         "4",
         "4.45",
         "Robert Perkins",
         "30502930499388",
         "Sat907",
         "Robert"
        ],
        [
         "26",
         "13.37",
         "2.0",
         "Male",
         "No",
         "Sat",
         "Dinner",
         "2",
         "6.68",
         "Kyle Avery",
         "6531339539615499",
         "Sat6651",
         "Kyle"
        ],
        [
         "27",
         "12.69",
         "2.0",
         "Male",
         "No",
         "Sat",
         "Dinner",
         "2",
         "6.34",
         "Patrick Barber",
         "30155551880343",
         "Sat394",
         "Patrick"
        ],
        [
         "28",
         "21.7",
         "4.3",
         "Male",
         "No",
         "Sat",
         "Dinner",
         "2",
         "10.85",
         "David Collier",
         "5529694315416009",
         "Sat3697",
         "David"
        ],
        [
         "29",
         "19.65",
         "3.0",
         "Female",
         "No",
         "Sat",
         "Dinner",
         "2",
         "9.82",
         "Melinda Murphy",
         "5489272944576051",
         "Sat2467",
         "Melinda"
        ],
        [
         "30",
         "9.55",
         "1.45",
         "Male",
         "No",
         "Sat",
         "Dinner",
         "2",
         "4.78",
         "Grant Hall",
         "30196517521548",
         "Sat4099",
         "Grant"
        ],
        [
         "31",
         "18.35",
         "2.5",
         "Male",
         "No",
         "Sat",
         "Dinner",
         "4",
         "4.59",
         "Danny Santiago",
         "630415546013",
         "Sat4947",
         "Danny"
        ],
        [
         "32",
         "15.06",
         "3.0",
         "Female",
         "No",
         "Sat",
         "Dinner",
         "2",
         "7.53",
         "Amanda Wilson",
         "213186304291560",
         "Sat1327",
         "Amanda"
        ],
        [
         "33",
         "20.69",
         "2.45",
         "Female",
         "No",
         "Sat",
         "Dinner",
         "4",
         "5.17",
         "Amber Francis",
         "377742985258914",
         "Sat6649",
         "Amber"
        ],
        [
         "34",
         "17.78",
         "3.27",
         "Male",
         "No",
         "Sat",
         "Dinner",
         "2",
         "8.89",
         "Jacob Castillo",
         "3551492000704805",
         "Sat8124",
         "Jacob"
        ],
        [
         "35",
         "24.06",
         "3.6",
         "Male",
         "No",
         "Sat",
         "Dinner",
         "3",
         "8.02",
         "Joseph Mullins",
         "5519770449260299",
         "Sat632",
         "Joseph"
        ],
        [
         "36",
         "16.31",
         "2.0",
         "Male",
         "No",
         "Sat",
         "Dinner",
         "3",
         "5.44",
         "William Ford",
         "3527691170179398",
         "Sat9139",
         "William"
        ],
        [
         "37",
         "16.93",
         "3.07",
         "Female",
         "No",
         "Sat",
         "Dinner",
         "3",
         "5.64",
         "Erin Lewis",
         "5161695527390786",
         "Sat6406",
         "Erin"
        ],
        [
         "38",
         "18.69",
         "2.31",
         "Male",
         "No",
         "Sat",
         "Dinner",
         "3",
         "6.23",
         "Brandon Bradley",
         "4427601595688633",
         "Sat4056",
         "Brandon"
        ],
        [
         "39",
         "31.27",
         "5.0",
         "Male",
         "No",
         "Sat",
         "Dinner",
         "3",
         "10.42",
         "Mr. Brandon Berry",
         "6011525851069856",
         "Sat6373",
         "Mr."
        ],
        [
         "40",
         "16.04",
         "2.24",
         "Male",
         "No",
         "Sat",
         "Dinner",
         "3",
         "5.35",
         "Adam Edwards",
         "3544447755679420",
         "Sat8549",
         "Adam"
        ],
        [
         "41",
         "17.46",
         "2.54",
         "Male",
         "No",
         "Sun",
         "Dinner",
         "2",
         "8.73",
         "David Boyer",
         "3536678244278149",
         "Sun9460",
         "David"
        ],
        [
         "42",
         "13.94",
         "3.06",
         "Male",
         "No",
         "Sun",
         "Dinner",
         "2",
         "6.97",
         "Bryan Brown",
         "36231182760859",
         "Sun1699",
         "Bryan"
        ],
        [
         "43",
         "9.68",
         "1.32",
         "Male",
         "No",
         "Sun",
         "Dinner",
         "2",
         "4.84",
         "Christopher Spears",
         "4387671121369212",
         "Sun3279",
         "Christopher"
        ],
        [
         "44",
         "30.4",
         "5.6",
         "Male",
         "No",
         "Sun",
         "Dinner",
         "4",
         "7.6",
         "Todd Cooper",
         "503846761263",
         "Sun2274",
         "Todd"
        ],
        [
         "45",
         "18.29",
         "3.0",
         "Male",
         "No",
         "Sun",
         "Dinner",
         "2",
         "9.14",
         "Richard Fitzgerald",
         "375156610762053",
         "Sun8643",
         "Richard"
        ],
        [
         "46",
         "22.23",
         "5.0",
         "Male",
         "No",
         "Sun",
         "Dinner",
         "2",
         "11.12",
         "Joshua Gilmore",
         "4292072734899",
         "Sun7097",
         "Joshua"
        ],
        [
         "47",
         "32.4",
         "6.0",
         "Male",
         "No",
         "Sun",
         "Dinner",
         "4",
         "8.1",
         "James Barnes",
         "3552002592874186",
         "Sun9677",
         "James"
        ],
        [
         "48",
         "28.55",
         "2.05",
         "Male",
         "No",
         "Sun",
         "Dinner",
         "3",
         "9.52",
         "Austin Fisher",
         "6011481668986587",
         "Sun4142",
         "Austin"
        ],
        [
         "49",
         "18.04",
         "3.0",
         "Male",
         "No",
         "Sun",
         "Dinner",
         "2",
         "9.02",
         "William Roth",
         "6573923967142503",
         "Sun9774",
         "William"
        ]
       ],
       "shape": {
        "columns": 12,
        "rows": 244
       }
      },
      "text/html": [
       "<div>\n",
       "<style scoped>\n",
       "    .dataframe tbody tr th:only-of-type {\n",
       "        vertical-align: middle;\n",
       "    }\n",
       "\n",
       "    .dataframe tbody tr th {\n",
       "        vertical-align: top;\n",
       "    }\n",
       "\n",
       "    .dataframe thead th {\n",
       "        text-align: right;\n",
       "    }\n",
       "</style>\n",
       "<table border=\"1\" class=\"dataframe\">\n",
       "  <thead>\n",
       "    <tr style=\"text-align: right;\">\n",
       "      <th></th>\n",
       "      <th>total_bill</th>\n",
       "      <th>tip</th>\n",
       "      <th>sex</th>\n",
       "      <th>smoker</th>\n",
       "      <th>day</th>\n",
       "      <th>time</th>\n",
       "      <th>size</th>\n",
       "      <th>price_per_person</th>\n",
       "      <th>Payer Name</th>\n",
       "      <th>CC Number</th>\n",
       "      <th>Payment ID</th>\n",
       "      <th>Just_Name</th>\n",
       "    </tr>\n",
       "  </thead>\n",
       "  <tbody>\n",
       "    <tr>\n",
       "      <th>0</th>\n",
       "      <td>16.99</td>\n",
       "      <td>1.01</td>\n",
       "      <td>Female</td>\n",
       "      <td>No</td>\n",
       "      <td>Sun</td>\n",
       "      <td>Dinner</td>\n",
       "      <td>2</td>\n",
       "      <td>8.49</td>\n",
       "      <td>Christy Cunningham</td>\n",
       "      <td>3560325168603410</td>\n",
       "      <td>Sun2959</td>\n",
       "      <td>Christy</td>\n",
       "    </tr>\n",
       "    <tr>\n",
       "      <th>1</th>\n",
       "      <td>10.34</td>\n",
       "      <td>1.66</td>\n",
       "      <td>Male</td>\n",
       "      <td>No</td>\n",
       "      <td>Sun</td>\n",
       "      <td>Dinner</td>\n",
       "      <td>3</td>\n",
       "      <td>3.45</td>\n",
       "      <td>Douglas Tucker</td>\n",
       "      <td>4478071379779230</td>\n",
       "      <td>Sun4608</td>\n",
       "      <td>Douglas</td>\n",
       "    </tr>\n",
       "    <tr>\n",
       "      <th>2</th>\n",
       "      <td>21.01</td>\n",
       "      <td>3.50</td>\n",
       "      <td>Male</td>\n",
       "      <td>No</td>\n",
       "      <td>Sun</td>\n",
       "      <td>Dinner</td>\n",
       "      <td>3</td>\n",
       "      <td>7.00</td>\n",
       "      <td>Travis Walters</td>\n",
       "      <td>6011812112971322</td>\n",
       "      <td>Sun4458</td>\n",
       "      <td>Travis</td>\n",
       "    </tr>\n",
       "    <tr>\n",
       "      <th>3</th>\n",
       "      <td>23.68</td>\n",
       "      <td>3.31</td>\n",
       "      <td>Male</td>\n",
       "      <td>No</td>\n",
       "      <td>Sun</td>\n",
       "      <td>Dinner</td>\n",
       "      <td>2</td>\n",
       "      <td>11.84</td>\n",
       "      <td>Nathaniel Harris</td>\n",
       "      <td>4676137647685994</td>\n",
       "      <td>Sun5260</td>\n",
       "      <td>Nathaniel</td>\n",
       "    </tr>\n",
       "    <tr>\n",
       "      <th>4</th>\n",
       "      <td>24.59</td>\n",
       "      <td>3.61</td>\n",
       "      <td>Female</td>\n",
       "      <td>No</td>\n",
       "      <td>Sun</td>\n",
       "      <td>Dinner</td>\n",
       "      <td>4</td>\n",
       "      <td>6.15</td>\n",
       "      <td>Tonya Carter</td>\n",
       "      <td>4832732618637221</td>\n",
       "      <td>Sun2251</td>\n",
       "      <td>Tonya</td>\n",
       "    </tr>\n",
       "    <tr>\n",
       "      <th>...</th>\n",
       "      <td>...</td>\n",
       "      <td>...</td>\n",
       "      <td>...</td>\n",
       "      <td>...</td>\n",
       "      <td>...</td>\n",
       "      <td>...</td>\n",
       "      <td>...</td>\n",
       "      <td>...</td>\n",
       "      <td>...</td>\n",
       "      <td>...</td>\n",
       "      <td>...</td>\n",
       "      <td>...</td>\n",
       "    </tr>\n",
       "    <tr>\n",
       "      <th>239</th>\n",
       "      <td>29.03</td>\n",
       "      <td>5.92</td>\n",
       "      <td>Male</td>\n",
       "      <td>No</td>\n",
       "      <td>Sat</td>\n",
       "      <td>Dinner</td>\n",
       "      <td>3</td>\n",
       "      <td>9.68</td>\n",
       "      <td>Michael Avila</td>\n",
       "      <td>5296068606052842</td>\n",
       "      <td>Sat2657</td>\n",
       "      <td>Michael</td>\n",
       "    </tr>\n",
       "    <tr>\n",
       "      <th>240</th>\n",
       "      <td>27.18</td>\n",
       "      <td>2.00</td>\n",
       "      <td>Female</td>\n",
       "      <td>Yes</td>\n",
       "      <td>Sat</td>\n",
       "      <td>Dinner</td>\n",
       "      <td>2</td>\n",
       "      <td>13.59</td>\n",
       "      <td>Monica Sanders</td>\n",
       "      <td>3506806155565404</td>\n",
       "      <td>Sat1766</td>\n",
       "      <td>Monica</td>\n",
       "    </tr>\n",
       "    <tr>\n",
       "      <th>241</th>\n",
       "      <td>22.67</td>\n",
       "      <td>2.00</td>\n",
       "      <td>Male</td>\n",
       "      <td>Yes</td>\n",
       "      <td>Sat</td>\n",
       "      <td>Dinner</td>\n",
       "      <td>2</td>\n",
       "      <td>11.34</td>\n",
       "      <td>Keith Wong</td>\n",
       "      <td>6011891618747196</td>\n",
       "      <td>Sat3880</td>\n",
       "      <td>Keith</td>\n",
       "    </tr>\n",
       "    <tr>\n",
       "      <th>242</th>\n",
       "      <td>17.82</td>\n",
       "      <td>1.75</td>\n",
       "      <td>Male</td>\n",
       "      <td>No</td>\n",
       "      <td>Sat</td>\n",
       "      <td>Dinner</td>\n",
       "      <td>2</td>\n",
       "      <td>8.91</td>\n",
       "      <td>Dennis Dixon</td>\n",
       "      <td>4375220550950</td>\n",
       "      <td>Sat17</td>\n",
       "      <td>Dennis</td>\n",
       "    </tr>\n",
       "    <tr>\n",
       "      <th>243</th>\n",
       "      <td>18.78</td>\n",
       "      <td>3.00</td>\n",
       "      <td>Female</td>\n",
       "      <td>No</td>\n",
       "      <td>Thur</td>\n",
       "      <td>Dinner</td>\n",
       "      <td>2</td>\n",
       "      <td>9.39</td>\n",
       "      <td>Michelle Hardin</td>\n",
       "      <td>3511451626698139</td>\n",
       "      <td>Thur672</td>\n",
       "      <td>Michelle</td>\n",
       "    </tr>\n",
       "  </tbody>\n",
       "</table>\n",
       "<p>244 rows × 12 columns</p>\n",
       "</div>"
      ],
      "text/plain": [
       "     total_bill   tip     sex smoker   day    time  size  price_per_person  \\\n",
       "0         16.99  1.01  Female     No   Sun  Dinner     2              8.49   \n",
       "1         10.34  1.66    Male     No   Sun  Dinner     3              3.45   \n",
       "2         21.01  3.50    Male     No   Sun  Dinner     3              7.00   \n",
       "3         23.68  3.31    Male     No   Sun  Dinner     2             11.84   \n",
       "4         24.59  3.61  Female     No   Sun  Dinner     4              6.15   \n",
       "..          ...   ...     ...    ...   ...     ...   ...               ...   \n",
       "239       29.03  5.92    Male     No   Sat  Dinner     3              9.68   \n",
       "240       27.18  2.00  Female    Yes   Sat  Dinner     2             13.59   \n",
       "241       22.67  2.00    Male    Yes   Sat  Dinner     2             11.34   \n",
       "242       17.82  1.75    Male     No   Sat  Dinner     2              8.91   \n",
       "243       18.78  3.00  Female     No  Thur  Dinner     2              9.39   \n",
       "\n",
       "             Payer Name         CC Number Payment ID  Just_Name  \n",
       "0    Christy Cunningham  3560325168603410    Sun2959    Christy  \n",
       "1        Douglas Tucker  4478071379779230    Sun4608    Douglas  \n",
       "2        Travis Walters  6011812112971322    Sun4458     Travis  \n",
       "3      Nathaniel Harris  4676137647685994    Sun5260  Nathaniel  \n",
       "4          Tonya Carter  4832732618637221    Sun2251      Tonya  \n",
       "..                  ...               ...        ...        ...  \n",
       "239       Michael Avila  5296068606052842    Sat2657    Michael  \n",
       "240      Monica Sanders  3506806155565404    Sat1766     Monica  \n",
       "241          Keith Wong  6011891618747196    Sat3880      Keith  \n",
       "242        Dennis Dixon     4375220550950      Sat17     Dennis  \n",
       "243     Michelle Hardin  3511451626698139    Thur672   Michelle  \n",
       "\n",
       "[244 rows x 12 columns]"
      ]
     },
     "execution_count": 7,
     "metadata": {},
     "output_type": "execute_result"
    }
   ],
   "source": [
    "df_tips"
   ]
  },
  {
   "cell_type": "code",
   "execution_count": 9,
   "id": "38297e46",
   "metadata": {},
   "outputs": [
    {
     "data": {
      "application/vnd.microsoft.datawrangler.viewer.v0+json": {
       "columns": [
        {
         "name": "Just_Name",
         "rawType": "object",
         "type": "string"
        },
        {
         "name": "count",
         "rawType": "int64",
         "type": "integer"
        }
       ],
       "ref": "c32d1711-99f6-454c-9850-1c33e5ffb5e5",
       "rows": [
        [
         "Jason",
         "9"
        ],
        [
         "Michael",
         "7"
        ],
        [
         "James",
         "6"
        ],
        [
         "David",
         "6"
        ],
        [
         "Joseph",
         "5"
        ],
        [
         "Christopher",
         "5"
        ],
        [
         "Ashley",
         "5"
        ],
        [
         "John",
         "4"
        ],
        [
         "William",
         "4"
        ],
        [
         "Eric",
         "4"
        ],
        [
         "Brian",
         "4"
        ],
        [
         "Daniel",
         "4"
        ],
        [
         "Jessica",
         "3"
        ],
        [
         "Robert",
         "3"
        ],
        [
         "Laura",
         "3"
        ],
        [
         "Dr.",
         "3"
        ],
        [
         "Shawn",
         "3"
        ],
        [
         "Natalie",
         "2"
        ],
        [
         "Thomas",
         "2"
        ],
        [
         "Matthew",
         "2"
        ],
        [
         "Joshua",
         "2"
        ],
        [
         "Vanessa",
         "2"
        ],
        [
         "Tiffany",
         "2"
        ],
        [
         "Chad",
         "2"
        ],
        [
         "Travis",
         "2"
        ],
        [
         "Ricky",
         "2"
        ],
        [
         "Julie",
         "2"
        ],
        [
         "Steven",
         "2"
        ],
        [
         "Keith",
         "2"
        ],
        [
         "Brandon",
         "2"
        ],
        [
         "Mr.",
         "2"
        ],
        [
         "Jacob",
         "2"
        ],
        [
         "Kayla",
         "2"
        ],
        [
         "Amy",
         "2"
        ],
        [
         "Gregory",
         "2"
        ],
        [
         "Jennifer",
         "2"
        ],
        [
         "Ronald",
         "2"
        ],
        [
         "Adam",
         "2"
        ],
        [
         "Amanda",
         "2"
        ],
        [
         "Todd",
         "2"
        ],
        [
         "Ryan",
         "2"
        ],
        [
         "Kenneth",
         "2"
        ],
        [
         "Melanie",
         "2"
        ],
        [
         "Linda",
         "2"
        ],
        [
         "Scott",
         "2"
        ],
        [
         "Raymond",
         "2"
        ],
        [
         "Richard",
         "2"
        ],
        [
         "Diane",
         "1"
        ],
        [
         "Timothy",
         "1"
        ],
        [
         "Tonya",
         "1"
        ]
       ],
       "shape": {
        "columns": 1,
        "rows": 153
       }
      },
      "text/plain": [
       "Just_Name\n",
       "Jason       9\n",
       "Michael     7\n",
       "James       6\n",
       "David       6\n",
       "Joseph      5\n",
       "           ..\n",
       "Sean        1\n",
       "Kimberly    1\n",
       "Monica      1\n",
       "Dennis      1\n",
       "Michelle    1\n",
       "Name: count, Length: 153, dtype: int64"
      ]
     },
     "execution_count": 9,
     "metadata": {},
     "output_type": "execute_result"
    }
   ],
   "source": [
    "df_tips[\"Just_Name\"].value_counts()"
   ]
  },
  {
   "cell_type": "code",
   "execution_count": 10,
   "id": "11ecede9",
   "metadata": {},
   "outputs": [
    {
     "data": {
      "application/vnd.microsoft.datawrangler.viewer.v0+json": {
       "columns": [
        {
         "name": "Payer Name",
         "rawType": "object",
         "type": "string"
        },
        {
         "name": "count",
         "rawType": "int64",
         "type": "integer"
        }
       ],
       "ref": "50ce7ae4-7f13-43ef-b436-8100f1f10c49",
       "rows": [
        [
         "Christy Cunningham",
         "1"
        ],
        [
         "Douglas Tucker",
         "1"
        ],
        [
         "Travis Walters",
         "1"
        ],
        [
         "Nathaniel Harris",
         "1"
        ],
        [
         "Tonya Carter",
         "1"
        ],
        [
         "Erik Smith",
         "1"
        ],
        [
         "Kristopher Johnson",
         "1"
        ],
        [
         "Robert Buck",
         "1"
        ],
        [
         "Joseph Mcdonald",
         "1"
        ],
        [
         "Jerome Abbott",
         "1"
        ],
        [
         "William Riley",
         "1"
        ],
        [
         "Diane Macias",
         "1"
        ],
        [
         "Chad Harrington",
         "1"
        ],
        [
         "Joshua Jones",
         "1"
        ],
        [
         "Vanessa Jones",
         "1"
        ],
        [
         "Matthew Reilly",
         "1"
        ],
        [
         "Elizabeth Foster",
         "1"
        ],
        [
         "John Pittman",
         "1"
        ],
        [
         "Laura Martinez",
         "1"
        ],
        [
         "Timothy Oneal",
         "1"
        ],
        [
         "Thomas Rice",
         "1"
        ],
        [
         "Natalie Gardner",
         "1"
        ],
        [
         "Ashley Shelton",
         "1"
        ],
        [
         "Lance Peterson",
         "1"
        ],
        [
         "Christopher Ross",
         "1"
        ],
        [
         "Robert Perkins",
         "1"
        ],
        [
         "Kyle Avery",
         "1"
        ],
        [
         "Patrick Barber",
         "1"
        ],
        [
         "David Collier",
         "1"
        ],
        [
         "Melinda Murphy",
         "1"
        ],
        [
         "Grant Hall",
         "1"
        ],
        [
         "Danny Santiago",
         "1"
        ],
        [
         "Amanda Wilson",
         "1"
        ],
        [
         "Amber Francis",
         "1"
        ],
        [
         "Jacob Castillo",
         "1"
        ],
        [
         "Joseph Mullins",
         "1"
        ],
        [
         "William Ford",
         "1"
        ],
        [
         "Erin Lewis",
         "1"
        ],
        [
         "Brandon Bradley",
         "1"
        ],
        [
         "Mr. Brandon Berry",
         "1"
        ],
        [
         "Adam Edwards",
         "1"
        ],
        [
         "David Boyer",
         "1"
        ],
        [
         "Bryan Brown",
         "1"
        ],
        [
         "Christopher Spears",
         "1"
        ],
        [
         "Todd Cooper",
         "1"
        ],
        [
         "Richard Fitzgerald",
         "1"
        ],
        [
         "Joshua Gilmore",
         "1"
        ],
        [
         "James Barnes",
         "1"
        ],
        [
         "Austin Fisher",
         "1"
        ],
        [
         "William Roth",
         "1"
        ]
       ],
       "shape": {
        "columns": 1,
        "rows": 244
       }
      },
      "text/plain": [
       "Payer Name\n",
       "Christy Cunningham    1\n",
       "Douglas Tucker        1\n",
       "Travis Walters        1\n",
       "Nathaniel Harris      1\n",
       "Tonya Carter          1\n",
       "                     ..\n",
       "Michael Avila         1\n",
       "Monica Sanders        1\n",
       "Keith Wong            1\n",
       "Dennis Dixon          1\n",
       "Michelle Hardin       1\n",
       "Name: count, Length: 244, dtype: int64"
      ]
     },
     "execution_count": 10,
     "metadata": {},
     "output_type": "execute_result"
    }
   ],
   "source": [
    "df_tips[\"Payer Name\"].value_counts()"
   ]
  },
  {
   "cell_type": "code",
   "execution_count": null,
   "id": "95b64e39",
   "metadata": {},
   "outputs": [],
   "source": [
    "# Payer Name sutunundaki herkes farklı kisilerden olusuyor. Ayrica Just_Name sutunundaki en cok tekrar eden isim \"John\" dur."
   ]
  },
  {
   "cell_type": "code",
   "execution_count": 11,
   "id": "c31c4bc4",
   "metadata": {},
   "outputs": [],
   "source": [
    "df_tips.drop(\"Just_Name\", axis = 1, inplace = True)"
   ]
  },
  {
   "cell_type": "code",
   "execution_count": 12,
   "id": "d061817e",
   "metadata": {},
   "outputs": [
    {
     "data": {
      "application/vnd.microsoft.datawrangler.viewer.v0+json": {
       "columns": [
        {
         "name": "index",
         "rawType": "int64",
         "type": "integer"
        },
        {
         "name": "total_bill",
         "rawType": "float64",
         "type": "float"
        },
        {
         "name": "tip",
         "rawType": "float64",
         "type": "float"
        },
        {
         "name": "sex",
         "rawType": "object",
         "type": "string"
        },
        {
         "name": "smoker",
         "rawType": "object",
         "type": "string"
        },
        {
         "name": "day",
         "rawType": "object",
         "type": "string"
        },
        {
         "name": "time",
         "rawType": "object",
         "type": "string"
        },
        {
         "name": "size",
         "rawType": "int64",
         "type": "integer"
        },
        {
         "name": "price_per_person",
         "rawType": "float64",
         "type": "float"
        },
        {
         "name": "Payer Name",
         "rawType": "object",
         "type": "string"
        },
        {
         "name": "CC Number",
         "rawType": "int64",
         "type": "integer"
        },
        {
         "name": "Payment ID",
         "rawType": "object",
         "type": "string"
        }
       ],
       "ref": "ddd5f112-4020-4036-b5f8-11e873740a41",
       "rows": [
        [
         "0",
         "16.99",
         "1.01",
         "Female",
         "No",
         "Sun",
         "Dinner",
         "2",
         "8.49",
         "Christy Cunningham",
         "3560325168603410",
         "Sun2959"
        ],
        [
         "1",
         "10.34",
         "1.66",
         "Male",
         "No",
         "Sun",
         "Dinner",
         "3",
         "3.45",
         "Douglas Tucker",
         "4478071379779230",
         "Sun4608"
        ],
        [
         "2",
         "21.01",
         "3.5",
         "Male",
         "No",
         "Sun",
         "Dinner",
         "3",
         "7.0",
         "Travis Walters",
         "6011812112971322",
         "Sun4458"
        ],
        [
         "3",
         "23.68",
         "3.31",
         "Male",
         "No",
         "Sun",
         "Dinner",
         "2",
         "11.84",
         "Nathaniel Harris",
         "4676137647685994",
         "Sun5260"
        ],
        [
         "4",
         "24.59",
         "3.61",
         "Female",
         "No",
         "Sun",
         "Dinner",
         "4",
         "6.15",
         "Tonya Carter",
         "4832732618637221",
         "Sun2251"
        ]
       ],
       "shape": {
        "columns": 11,
        "rows": 5
       }
      },
      "text/html": [
       "<div>\n",
       "<style scoped>\n",
       "    .dataframe tbody tr th:only-of-type {\n",
       "        vertical-align: middle;\n",
       "    }\n",
       "\n",
       "    .dataframe tbody tr th {\n",
       "        vertical-align: top;\n",
       "    }\n",
       "\n",
       "    .dataframe thead th {\n",
       "        text-align: right;\n",
       "    }\n",
       "</style>\n",
       "<table border=\"1\" class=\"dataframe\">\n",
       "  <thead>\n",
       "    <tr style=\"text-align: right;\">\n",
       "      <th></th>\n",
       "      <th>total_bill</th>\n",
       "      <th>tip</th>\n",
       "      <th>sex</th>\n",
       "      <th>smoker</th>\n",
       "      <th>day</th>\n",
       "      <th>time</th>\n",
       "      <th>size</th>\n",
       "      <th>price_per_person</th>\n",
       "      <th>Payer Name</th>\n",
       "      <th>CC Number</th>\n",
       "      <th>Payment ID</th>\n",
       "    </tr>\n",
       "  </thead>\n",
       "  <tbody>\n",
       "    <tr>\n",
       "      <th>0</th>\n",
       "      <td>16.99</td>\n",
       "      <td>1.01</td>\n",
       "      <td>Female</td>\n",
       "      <td>No</td>\n",
       "      <td>Sun</td>\n",
       "      <td>Dinner</td>\n",
       "      <td>2</td>\n",
       "      <td>8.49</td>\n",
       "      <td>Christy Cunningham</td>\n",
       "      <td>3560325168603410</td>\n",
       "      <td>Sun2959</td>\n",
       "    </tr>\n",
       "    <tr>\n",
       "      <th>1</th>\n",
       "      <td>10.34</td>\n",
       "      <td>1.66</td>\n",
       "      <td>Male</td>\n",
       "      <td>No</td>\n",
       "      <td>Sun</td>\n",
       "      <td>Dinner</td>\n",
       "      <td>3</td>\n",
       "      <td>3.45</td>\n",
       "      <td>Douglas Tucker</td>\n",
       "      <td>4478071379779230</td>\n",
       "      <td>Sun4608</td>\n",
       "    </tr>\n",
       "    <tr>\n",
       "      <th>2</th>\n",
       "      <td>21.01</td>\n",
       "      <td>3.50</td>\n",
       "      <td>Male</td>\n",
       "      <td>No</td>\n",
       "      <td>Sun</td>\n",
       "      <td>Dinner</td>\n",
       "      <td>3</td>\n",
       "      <td>7.00</td>\n",
       "      <td>Travis Walters</td>\n",
       "      <td>6011812112971322</td>\n",
       "      <td>Sun4458</td>\n",
       "    </tr>\n",
       "    <tr>\n",
       "      <th>3</th>\n",
       "      <td>23.68</td>\n",
       "      <td>3.31</td>\n",
       "      <td>Male</td>\n",
       "      <td>No</td>\n",
       "      <td>Sun</td>\n",
       "      <td>Dinner</td>\n",
       "      <td>2</td>\n",
       "      <td>11.84</td>\n",
       "      <td>Nathaniel Harris</td>\n",
       "      <td>4676137647685994</td>\n",
       "      <td>Sun5260</td>\n",
       "    </tr>\n",
       "    <tr>\n",
       "      <th>4</th>\n",
       "      <td>24.59</td>\n",
       "      <td>3.61</td>\n",
       "      <td>Female</td>\n",
       "      <td>No</td>\n",
       "      <td>Sun</td>\n",
       "      <td>Dinner</td>\n",
       "      <td>4</td>\n",
       "      <td>6.15</td>\n",
       "      <td>Tonya Carter</td>\n",
       "      <td>4832732618637221</td>\n",
       "      <td>Sun2251</td>\n",
       "    </tr>\n",
       "  </tbody>\n",
       "</table>\n",
       "</div>"
      ],
      "text/plain": [
       "   total_bill   tip     sex smoker  day    time  size  price_per_person  \\\n",
       "0       16.99  1.01  Female     No  Sun  Dinner     2              8.49   \n",
       "1       10.34  1.66    Male     No  Sun  Dinner     3              3.45   \n",
       "2       21.01  3.50    Male     No  Sun  Dinner     3              7.00   \n",
       "3       23.68  3.31    Male     No  Sun  Dinner     2             11.84   \n",
       "4       24.59  3.61  Female     No  Sun  Dinner     4              6.15   \n",
       "\n",
       "           Payer Name         CC Number Payment ID  \n",
       "0  Christy Cunningham  3560325168603410    Sun2959  \n",
       "1      Douglas Tucker  4478071379779230    Sun4608  \n",
       "2      Travis Walters  6011812112971322    Sun4458  \n",
       "3    Nathaniel Harris  4676137647685994    Sun5260  \n",
       "4        Tonya Carter  4832732618637221    Sun2251  "
      ]
     },
     "execution_count": 12,
     "metadata": {},
     "output_type": "execute_result"
    }
   ],
   "source": [
    "df_tips.head()"
   ]
  },
  {
   "cell_type": "markdown",
   "id": "1bf209e8",
   "metadata": {},
   "source": [
    "5) Erkeklerin ve kadınların davranış patternlerini ayrı ayrı inceleyip yorumda bulunabilmek için 'df_male' ve 'df_female' adında 2 dataframe oluşturun. Birinde sadece 157 erkek verisi, diğerinde sadece 87 kadın verisi bulunsun.\n",
    "6) Ardından bu 'df_male' ile 'df_female' 'in ödedikleri bahşişler toplamını bulup karşılaştırın.\n",
    "7) 6.Soruda erkeklerin ve kadınların ödedikleri bahşişler toplamına bakıldığında Erkeklerin kadınlara kıyasla toplamda daha çok bahşiş ödediğini görüyoruz. Fakat biz biliyoruz ki bizim verimizde 157 Erkek, 87 kadın verisi vardı. Dolayısıyla Erkek sayısı daha fazla olduğu için toplam ödeyecekleri bahşiş miktarlarında da daha fazla çıkması oldukça normal bir durum. Bu yüzden daha mantıklı bir çıkarım için bu sefer df_male ile df_female'in bahşiş ORTALAMALARIN'a bakıp kıyaslayın, aralarında anlamlı ve ciddi bir fark var mı ?\n",
    "8) Oluşturmuş olduğunuz df_male ile çalışarak elimizdeki verideki erkeklerin yüzde kaçının sigara içtiğini bulun. Aynı şekilde elimizdeki kadınların yüzde kaçının sigara içtiğini de bulun. Aralarında anlamlı bir fark mı yorumlayın.\n",
    "9) Erkeklerin zaman olarak dinnerda mı yoksa lunch'da mı daha fazla yemek yediğini yüzdesel olarak bulun. Aynı işlemi kadınlar için de yapın. Yüzdesel olarak erkeklerin ve kadınların yemek yeme vakitleri arasında anlamlı bir fark var mı yok mu yorumlayın.\n",
    "10) CC Number sütununu kalıcı olarak drop edin. Ardından df'in içindeki sütunların birbirleriyle olan ilişkilerini inceleyin ve çıkan sonuçlar hakkında yorumlarınızı belirtin."
   ]
  },
  {
   "cell_type": "code",
   "execution_count": 17,
   "id": "fdd4c010",
   "metadata": {},
   "outputs": [],
   "source": [
    "df_female = df_tips[df_tips[\"sex\"] == \"Female\"]\n",
    "df_male = df_tips[df_tips[\"sex\"] == \"Male\"]"
   ]
  },
  {
   "cell_type": "code",
   "execution_count": 18,
   "id": "d4a7871d",
   "metadata": {},
   "outputs": [
    {
     "data": {
      "application/vnd.microsoft.datawrangler.viewer.v0+json": {
       "columns": [
        {
         "name": "index",
         "rawType": "int64",
         "type": "integer"
        },
        {
         "name": "total_bill",
         "rawType": "float64",
         "type": "float"
        },
        {
         "name": "tip",
         "rawType": "float64",
         "type": "float"
        },
        {
         "name": "sex",
         "rawType": "object",
         "type": "string"
        },
        {
         "name": "smoker",
         "rawType": "object",
         "type": "string"
        },
        {
         "name": "day",
         "rawType": "object",
         "type": "string"
        },
        {
         "name": "time",
         "rawType": "object",
         "type": "string"
        },
        {
         "name": "size",
         "rawType": "int64",
         "type": "integer"
        },
        {
         "name": "price_per_person",
         "rawType": "float64",
         "type": "float"
        },
        {
         "name": "Payer Name",
         "rawType": "object",
         "type": "string"
        },
        {
         "name": "CC Number",
         "rawType": "int64",
         "type": "integer"
        },
        {
         "name": "Payment ID",
         "rawType": "object",
         "type": "string"
        }
       ],
       "ref": "cf942ba5-634f-4f53-9963-fc881fdda782",
       "rows": [
        [
         "1",
         "10.34",
         "1.66",
         "Male",
         "No",
         "Sun",
         "Dinner",
         "3",
         "3.45",
         "Douglas Tucker",
         "4478071379779230",
         "Sun4608"
        ],
        [
         "2",
         "21.01",
         "3.5",
         "Male",
         "No",
         "Sun",
         "Dinner",
         "3",
         "7.0",
         "Travis Walters",
         "6011812112971322",
         "Sun4458"
        ],
        [
         "3",
         "23.68",
         "3.31",
         "Male",
         "No",
         "Sun",
         "Dinner",
         "2",
         "11.84",
         "Nathaniel Harris",
         "4676137647685994",
         "Sun5260"
        ],
        [
         "5",
         "25.29",
         "4.71",
         "Male",
         "No",
         "Sun",
         "Dinner",
         "4",
         "6.32",
         "Erik Smith",
         "213140353657882",
         "Sun9679"
        ],
        [
         "6",
         "8.77",
         "2.0",
         "Male",
         "No",
         "Sun",
         "Dinner",
         "2",
         "4.38",
         "Kristopher Johnson",
         "2223727524230344",
         "Sun5985"
        ],
        [
         "7",
         "26.88",
         "3.12",
         "Male",
         "No",
         "Sun",
         "Dinner",
         "4",
         "6.72",
         "Robert Buck",
         "3514785077705092",
         "Sun8157"
        ],
        [
         "8",
         "15.04",
         "1.96",
         "Male",
         "No",
         "Sun",
         "Dinner",
         "2",
         "7.52",
         "Joseph Mcdonald",
         "3522866365840377",
         "Sun6820"
        ],
        [
         "9",
         "14.78",
         "3.23",
         "Male",
         "No",
         "Sun",
         "Dinner",
         "2",
         "7.39",
         "Jerome Abbott",
         "3532124519049786",
         "Sun3775"
        ],
        [
         "10",
         "10.27",
         "1.71",
         "Male",
         "No",
         "Sun",
         "Dinner",
         "2",
         "5.14",
         "William Riley",
         "566287581219",
         "Sun2546"
        ],
        [
         "12",
         "15.42",
         "1.57",
         "Male",
         "No",
         "Sun",
         "Dinner",
         "2",
         "7.71",
         "Chad Harrington",
         "577040572932",
         "Sun1300"
        ],
        [
         "13",
         "18.43",
         "3.0",
         "Male",
         "No",
         "Sun",
         "Dinner",
         "4",
         "4.61",
         "Joshua Jones",
         "6011163105616890",
         "Sun2971"
        ],
        [
         "15",
         "21.58",
         "3.92",
         "Male",
         "No",
         "Sun",
         "Dinner",
         "2",
         "10.79",
         "Matthew Reilly",
         "180073029785069",
         "Sun1878"
        ],
        [
         "17",
         "16.29",
         "3.71",
         "Male",
         "No",
         "Sun",
         "Dinner",
         "3",
         "5.43",
         "John Pittman",
         "6521340257218708",
         "Sun2998"
        ],
        [
         "19",
         "20.65",
         "3.35",
         "Male",
         "No",
         "Sat",
         "Dinner",
         "3",
         "6.88",
         "Timothy Oneal",
         "6568069240986485",
         "Sat9213"
        ],
        [
         "20",
         "17.92",
         "4.08",
         "Male",
         "No",
         "Sat",
         "Dinner",
         "2",
         "8.96",
         "Thomas Rice",
         "4403296224639756",
         "Sat1709"
        ],
        [
         "23",
         "39.42",
         "7.58",
         "Male",
         "No",
         "Sat",
         "Dinner",
         "4",
         "9.86",
         "Lance Peterson",
         "3542584061609808",
         "Sat239"
        ],
        [
         "24",
         "19.82",
         "3.18",
         "Male",
         "No",
         "Sat",
         "Dinner",
         "2",
         "9.91",
         "Christopher Ross",
         "36739148167928",
         "Sat6236"
        ],
        [
         "25",
         "17.81",
         "2.34",
         "Male",
         "No",
         "Sat",
         "Dinner",
         "4",
         "4.45",
         "Robert Perkins",
         "30502930499388",
         "Sat907"
        ],
        [
         "26",
         "13.37",
         "2.0",
         "Male",
         "No",
         "Sat",
         "Dinner",
         "2",
         "6.68",
         "Kyle Avery",
         "6531339539615499",
         "Sat6651"
        ],
        [
         "27",
         "12.69",
         "2.0",
         "Male",
         "No",
         "Sat",
         "Dinner",
         "2",
         "6.34",
         "Patrick Barber",
         "30155551880343",
         "Sat394"
        ],
        [
         "28",
         "21.7",
         "4.3",
         "Male",
         "No",
         "Sat",
         "Dinner",
         "2",
         "10.85",
         "David Collier",
         "5529694315416009",
         "Sat3697"
        ],
        [
         "30",
         "9.55",
         "1.45",
         "Male",
         "No",
         "Sat",
         "Dinner",
         "2",
         "4.78",
         "Grant Hall",
         "30196517521548",
         "Sat4099"
        ],
        [
         "31",
         "18.35",
         "2.5",
         "Male",
         "No",
         "Sat",
         "Dinner",
         "4",
         "4.59",
         "Danny Santiago",
         "630415546013",
         "Sat4947"
        ],
        [
         "34",
         "17.78",
         "3.27",
         "Male",
         "No",
         "Sat",
         "Dinner",
         "2",
         "8.89",
         "Jacob Castillo",
         "3551492000704805",
         "Sat8124"
        ],
        [
         "35",
         "24.06",
         "3.6",
         "Male",
         "No",
         "Sat",
         "Dinner",
         "3",
         "8.02",
         "Joseph Mullins",
         "5519770449260299",
         "Sat632"
        ],
        [
         "36",
         "16.31",
         "2.0",
         "Male",
         "No",
         "Sat",
         "Dinner",
         "3",
         "5.44",
         "William Ford",
         "3527691170179398",
         "Sat9139"
        ],
        [
         "38",
         "18.69",
         "2.31",
         "Male",
         "No",
         "Sat",
         "Dinner",
         "3",
         "6.23",
         "Brandon Bradley",
         "4427601595688633",
         "Sat4056"
        ],
        [
         "39",
         "31.27",
         "5.0",
         "Male",
         "No",
         "Sat",
         "Dinner",
         "3",
         "10.42",
         "Mr. Brandon Berry",
         "6011525851069856",
         "Sat6373"
        ],
        [
         "40",
         "16.04",
         "2.24",
         "Male",
         "No",
         "Sat",
         "Dinner",
         "3",
         "5.35",
         "Adam Edwards",
         "3544447755679420",
         "Sat8549"
        ],
        [
         "41",
         "17.46",
         "2.54",
         "Male",
         "No",
         "Sun",
         "Dinner",
         "2",
         "8.73",
         "David Boyer",
         "3536678244278149",
         "Sun9460"
        ],
        [
         "42",
         "13.94",
         "3.06",
         "Male",
         "No",
         "Sun",
         "Dinner",
         "2",
         "6.97",
         "Bryan Brown",
         "36231182760859",
         "Sun1699"
        ],
        [
         "43",
         "9.68",
         "1.32",
         "Male",
         "No",
         "Sun",
         "Dinner",
         "2",
         "4.84",
         "Christopher Spears",
         "4387671121369212",
         "Sun3279"
        ],
        [
         "44",
         "30.4",
         "5.6",
         "Male",
         "No",
         "Sun",
         "Dinner",
         "4",
         "7.6",
         "Todd Cooper",
         "503846761263",
         "Sun2274"
        ],
        [
         "45",
         "18.29",
         "3.0",
         "Male",
         "No",
         "Sun",
         "Dinner",
         "2",
         "9.14",
         "Richard Fitzgerald",
         "375156610762053",
         "Sun8643"
        ],
        [
         "46",
         "22.23",
         "5.0",
         "Male",
         "No",
         "Sun",
         "Dinner",
         "2",
         "11.12",
         "Joshua Gilmore",
         "4292072734899",
         "Sun7097"
        ],
        [
         "47",
         "32.4",
         "6.0",
         "Male",
         "No",
         "Sun",
         "Dinner",
         "4",
         "8.1",
         "James Barnes",
         "3552002592874186",
         "Sun9677"
        ],
        [
         "48",
         "28.55",
         "2.05",
         "Male",
         "No",
         "Sun",
         "Dinner",
         "3",
         "9.52",
         "Austin Fisher",
         "6011481668986587",
         "Sun4142"
        ],
        [
         "49",
         "18.04",
         "3.0",
         "Male",
         "No",
         "Sun",
         "Dinner",
         "2",
         "9.02",
         "William Roth",
         "6573923967142503",
         "Sun9774"
        ],
        [
         "50",
         "12.54",
         "2.5",
         "Male",
         "No",
         "Sun",
         "Dinner",
         "2",
         "6.27",
         "Jeremiah Neal",
         "2225400829691416",
         "Sun2021"
        ],
        [
         "53",
         "9.94",
         "1.56",
         "Male",
         "No",
         "Sun",
         "Dinner",
         "2",
         "4.97",
         "Curtis Morgan",
         "4628628020417301",
         "Sun4561"
        ],
        [
         "54",
         "25.56",
         "4.34",
         "Male",
         "No",
         "Sun",
         "Dinner",
         "4",
         "6.39",
         "Ronald Owens",
         "6569607991983380",
         "Sun9470"
        ],
        [
         "55",
         "19.49",
         "3.51",
         "Male",
         "No",
         "Sun",
         "Dinner",
         "2",
         "9.74",
         "Michael Hamilton",
         "6502227786581768",
         "Sun1118"
        ],
        [
         "56",
         "38.01",
         "3.0",
         "Male",
         "Yes",
         "Sat",
         "Dinner",
         "4",
         "9.5",
         "James Christensen DDS",
         "349793629453226",
         "Sat8903"
        ],
        [
         "58",
         "11.24",
         "1.76",
         "Male",
         "Yes",
         "Sat",
         "Dinner",
         "2",
         "5.62",
         "Troy Guerrero",
         "3560782621035582",
         "Sat6683"
        ],
        [
         "59",
         "48.27",
         "6.73",
         "Male",
         "No",
         "Sat",
         "Dinner",
         "4",
         "12.07",
         "Brian Ortiz",
         "6596453823950595",
         "Sat8139"
        ],
        [
         "60",
         "20.29",
         "3.21",
         "Male",
         "Yes",
         "Sat",
         "Dinner",
         "2",
         "10.14",
         "Anthony Mclean",
         "347614304015027",
         "Sat2353"
        ],
        [
         "61",
         "13.81",
         "2.0",
         "Male",
         "Yes",
         "Sat",
         "Dinner",
         "2",
         "6.9",
         "Ryan Hernandez",
         "4766834726806",
         "Sat3030"
        ],
        [
         "62",
         "11.02",
         "1.98",
         "Male",
         "Yes",
         "Sat",
         "Dinner",
         "2",
         "5.51",
         "Joseph Hart",
         "180046232326178",
         "Sat2265"
        ],
        [
         "63",
         "18.29",
         "3.76",
         "Male",
         "Yes",
         "Sat",
         "Dinner",
         "4",
         "4.57",
         "Chad Hart",
         "580171498976",
         "Sat4178"
        ],
        [
         "64",
         "17.59",
         "2.64",
         "Male",
         "No",
         "Sat",
         "Dinner",
         "3",
         "5.86",
         "Michael Johnson",
         "2222114458088108",
         "Sat1667"
        ]
       ],
       "shape": {
        "columns": 11,
        "rows": 157
       }
      },
      "text/html": [
       "<div>\n",
       "<style scoped>\n",
       "    .dataframe tbody tr th:only-of-type {\n",
       "        vertical-align: middle;\n",
       "    }\n",
       "\n",
       "    .dataframe tbody tr th {\n",
       "        vertical-align: top;\n",
       "    }\n",
       "\n",
       "    .dataframe thead th {\n",
       "        text-align: right;\n",
       "    }\n",
       "</style>\n",
       "<table border=\"1\" class=\"dataframe\">\n",
       "  <thead>\n",
       "    <tr style=\"text-align: right;\">\n",
       "      <th></th>\n",
       "      <th>total_bill</th>\n",
       "      <th>tip</th>\n",
       "      <th>sex</th>\n",
       "      <th>smoker</th>\n",
       "      <th>day</th>\n",
       "      <th>time</th>\n",
       "      <th>size</th>\n",
       "      <th>price_per_person</th>\n",
       "      <th>Payer Name</th>\n",
       "      <th>CC Number</th>\n",
       "      <th>Payment ID</th>\n",
       "    </tr>\n",
       "  </thead>\n",
       "  <tbody>\n",
       "    <tr>\n",
       "      <th>1</th>\n",
       "      <td>10.34</td>\n",
       "      <td>1.66</td>\n",
       "      <td>Male</td>\n",
       "      <td>No</td>\n",
       "      <td>Sun</td>\n",
       "      <td>Dinner</td>\n",
       "      <td>3</td>\n",
       "      <td>3.45</td>\n",
       "      <td>Douglas Tucker</td>\n",
       "      <td>4478071379779230</td>\n",
       "      <td>Sun4608</td>\n",
       "    </tr>\n",
       "    <tr>\n",
       "      <th>2</th>\n",
       "      <td>21.01</td>\n",
       "      <td>3.50</td>\n",
       "      <td>Male</td>\n",
       "      <td>No</td>\n",
       "      <td>Sun</td>\n",
       "      <td>Dinner</td>\n",
       "      <td>3</td>\n",
       "      <td>7.00</td>\n",
       "      <td>Travis Walters</td>\n",
       "      <td>6011812112971322</td>\n",
       "      <td>Sun4458</td>\n",
       "    </tr>\n",
       "    <tr>\n",
       "      <th>3</th>\n",
       "      <td>23.68</td>\n",
       "      <td>3.31</td>\n",
       "      <td>Male</td>\n",
       "      <td>No</td>\n",
       "      <td>Sun</td>\n",
       "      <td>Dinner</td>\n",
       "      <td>2</td>\n",
       "      <td>11.84</td>\n",
       "      <td>Nathaniel Harris</td>\n",
       "      <td>4676137647685994</td>\n",
       "      <td>Sun5260</td>\n",
       "    </tr>\n",
       "    <tr>\n",
       "      <th>5</th>\n",
       "      <td>25.29</td>\n",
       "      <td>4.71</td>\n",
       "      <td>Male</td>\n",
       "      <td>No</td>\n",
       "      <td>Sun</td>\n",
       "      <td>Dinner</td>\n",
       "      <td>4</td>\n",
       "      <td>6.32</td>\n",
       "      <td>Erik Smith</td>\n",
       "      <td>213140353657882</td>\n",
       "      <td>Sun9679</td>\n",
       "    </tr>\n",
       "    <tr>\n",
       "      <th>6</th>\n",
       "      <td>8.77</td>\n",
       "      <td>2.00</td>\n",
       "      <td>Male</td>\n",
       "      <td>No</td>\n",
       "      <td>Sun</td>\n",
       "      <td>Dinner</td>\n",
       "      <td>2</td>\n",
       "      <td>4.38</td>\n",
       "      <td>Kristopher Johnson</td>\n",
       "      <td>2223727524230344</td>\n",
       "      <td>Sun5985</td>\n",
       "    </tr>\n",
       "    <tr>\n",
       "      <th>...</th>\n",
       "      <td>...</td>\n",
       "      <td>...</td>\n",
       "      <td>...</td>\n",
       "      <td>...</td>\n",
       "      <td>...</td>\n",
       "      <td>...</td>\n",
       "      <td>...</td>\n",
       "      <td>...</td>\n",
       "      <td>...</td>\n",
       "      <td>...</td>\n",
       "      <td>...</td>\n",
       "    </tr>\n",
       "    <tr>\n",
       "      <th>236</th>\n",
       "      <td>12.60</td>\n",
       "      <td>1.00</td>\n",
       "      <td>Male</td>\n",
       "      <td>Yes</td>\n",
       "      <td>Sat</td>\n",
       "      <td>Dinner</td>\n",
       "      <td>2</td>\n",
       "      <td>6.30</td>\n",
       "      <td>Matthew Myers</td>\n",
       "      <td>3543676378973965</td>\n",
       "      <td>Sat5032</td>\n",
       "    </tr>\n",
       "    <tr>\n",
       "      <th>237</th>\n",
       "      <td>32.83</td>\n",
       "      <td>1.17</td>\n",
       "      <td>Male</td>\n",
       "      <td>Yes</td>\n",
       "      <td>Sat</td>\n",
       "      <td>Dinner</td>\n",
       "      <td>2</td>\n",
       "      <td>16.42</td>\n",
       "      <td>Thomas Brown</td>\n",
       "      <td>4284722681265508</td>\n",
       "      <td>Sat2929</td>\n",
       "    </tr>\n",
       "    <tr>\n",
       "      <th>239</th>\n",
       "      <td>29.03</td>\n",
       "      <td>5.92</td>\n",
       "      <td>Male</td>\n",
       "      <td>No</td>\n",
       "      <td>Sat</td>\n",
       "      <td>Dinner</td>\n",
       "      <td>3</td>\n",
       "      <td>9.68</td>\n",
       "      <td>Michael Avila</td>\n",
       "      <td>5296068606052842</td>\n",
       "      <td>Sat2657</td>\n",
       "    </tr>\n",
       "    <tr>\n",
       "      <th>241</th>\n",
       "      <td>22.67</td>\n",
       "      <td>2.00</td>\n",
       "      <td>Male</td>\n",
       "      <td>Yes</td>\n",
       "      <td>Sat</td>\n",
       "      <td>Dinner</td>\n",
       "      <td>2</td>\n",
       "      <td>11.34</td>\n",
       "      <td>Keith Wong</td>\n",
       "      <td>6011891618747196</td>\n",
       "      <td>Sat3880</td>\n",
       "    </tr>\n",
       "    <tr>\n",
       "      <th>242</th>\n",
       "      <td>17.82</td>\n",
       "      <td>1.75</td>\n",
       "      <td>Male</td>\n",
       "      <td>No</td>\n",
       "      <td>Sat</td>\n",
       "      <td>Dinner</td>\n",
       "      <td>2</td>\n",
       "      <td>8.91</td>\n",
       "      <td>Dennis Dixon</td>\n",
       "      <td>4375220550950</td>\n",
       "      <td>Sat17</td>\n",
       "    </tr>\n",
       "  </tbody>\n",
       "</table>\n",
       "<p>157 rows × 11 columns</p>\n",
       "</div>"
      ],
      "text/plain": [
       "     total_bill   tip   sex smoker  day    time  size  price_per_person  \\\n",
       "1         10.34  1.66  Male     No  Sun  Dinner     3              3.45   \n",
       "2         21.01  3.50  Male     No  Sun  Dinner     3              7.00   \n",
       "3         23.68  3.31  Male     No  Sun  Dinner     2             11.84   \n",
       "5         25.29  4.71  Male     No  Sun  Dinner     4              6.32   \n",
       "6          8.77  2.00  Male     No  Sun  Dinner     2              4.38   \n",
       "..          ...   ...   ...    ...  ...     ...   ...               ...   \n",
       "236       12.60  1.00  Male    Yes  Sat  Dinner     2              6.30   \n",
       "237       32.83  1.17  Male    Yes  Sat  Dinner     2             16.42   \n",
       "239       29.03  5.92  Male     No  Sat  Dinner     3              9.68   \n",
       "241       22.67  2.00  Male    Yes  Sat  Dinner     2             11.34   \n",
       "242       17.82  1.75  Male     No  Sat  Dinner     2              8.91   \n",
       "\n",
       "             Payer Name         CC Number Payment ID  \n",
       "1        Douglas Tucker  4478071379779230    Sun4608  \n",
       "2        Travis Walters  6011812112971322    Sun4458  \n",
       "3      Nathaniel Harris  4676137647685994    Sun5260  \n",
       "5            Erik Smith   213140353657882    Sun9679  \n",
       "6    Kristopher Johnson  2223727524230344    Sun5985  \n",
       "..                  ...               ...        ...  \n",
       "236       Matthew Myers  3543676378973965    Sat5032  \n",
       "237        Thomas Brown  4284722681265508    Sat2929  \n",
       "239       Michael Avila  5296068606052842    Sat2657  \n",
       "241          Keith Wong  6011891618747196    Sat3880  \n",
       "242        Dennis Dixon     4375220550950      Sat17  \n",
       "\n",
       "[157 rows x 11 columns]"
      ]
     },
     "execution_count": 18,
     "metadata": {},
     "output_type": "execute_result"
    }
   ],
   "source": [
    "df_male"
   ]
  },
  {
   "cell_type": "code",
   "execution_count": 19,
   "id": "d426b3ee",
   "metadata": {},
   "outputs": [
    {
     "data": {
      "application/vnd.microsoft.datawrangler.viewer.v0+json": {
       "columns": [
        {
         "name": "index",
         "rawType": "int64",
         "type": "integer"
        },
        {
         "name": "total_bill",
         "rawType": "float64",
         "type": "float"
        },
        {
         "name": "tip",
         "rawType": "float64",
         "type": "float"
        },
        {
         "name": "sex",
         "rawType": "object",
         "type": "string"
        },
        {
         "name": "smoker",
         "rawType": "object",
         "type": "string"
        },
        {
         "name": "day",
         "rawType": "object",
         "type": "string"
        },
        {
         "name": "time",
         "rawType": "object",
         "type": "string"
        },
        {
         "name": "size",
         "rawType": "int64",
         "type": "integer"
        },
        {
         "name": "price_per_person",
         "rawType": "float64",
         "type": "float"
        },
        {
         "name": "Payer Name",
         "rawType": "object",
         "type": "string"
        },
        {
         "name": "CC Number",
         "rawType": "int64",
         "type": "integer"
        },
        {
         "name": "Payment ID",
         "rawType": "object",
         "type": "string"
        }
       ],
       "ref": "13e56699-83c3-4030-aea2-b14c2a6a9d63",
       "rows": [
        [
         "0",
         "16.99",
         "1.01",
         "Female",
         "No",
         "Sun",
         "Dinner",
         "2",
         "8.49",
         "Christy Cunningham",
         "3560325168603410",
         "Sun2959"
        ],
        [
         "4",
         "24.59",
         "3.61",
         "Female",
         "No",
         "Sun",
         "Dinner",
         "4",
         "6.15",
         "Tonya Carter",
         "4832732618637221",
         "Sun2251"
        ],
        [
         "11",
         "35.26",
         "5.0",
         "Female",
         "No",
         "Sun",
         "Dinner",
         "4",
         "8.82",
         "Diane Macias",
         "4577817359320969",
         "Sun6686"
        ],
        [
         "14",
         "14.83",
         "3.02",
         "Female",
         "No",
         "Sun",
         "Dinner",
         "2",
         "7.42",
         "Vanessa Jones",
         "30016702287574",
         "Sun3848"
        ],
        [
         "16",
         "10.33",
         "1.67",
         "Female",
         "No",
         "Sun",
         "Dinner",
         "3",
         "3.44",
         "Elizabeth Foster",
         "4240025044626033",
         "Sun9715"
        ],
        [
         "18",
         "16.97",
         "3.5",
         "Female",
         "No",
         "Sun",
         "Dinner",
         "3",
         "5.66",
         "Laura Martinez",
         "30422275171379",
         "Sun2789"
        ],
        [
         "21",
         "20.29",
         "2.75",
         "Female",
         "No",
         "Sat",
         "Dinner",
         "2",
         "10.14",
         "Natalie Gardner",
         "5448125351489749",
         "Sat9618"
        ],
        [
         "22",
         "15.77",
         "2.23",
         "Female",
         "No",
         "Sat",
         "Dinner",
         "2",
         "7.88",
         "Ashley Shelton",
         "3524119516293213",
         "Sat9786"
        ],
        [
         "29",
         "19.65",
         "3.0",
         "Female",
         "No",
         "Sat",
         "Dinner",
         "2",
         "9.82",
         "Melinda Murphy",
         "5489272944576051",
         "Sat2467"
        ],
        [
         "32",
         "15.06",
         "3.0",
         "Female",
         "No",
         "Sat",
         "Dinner",
         "2",
         "7.53",
         "Amanda Wilson",
         "213186304291560",
         "Sat1327"
        ],
        [
         "33",
         "20.69",
         "2.45",
         "Female",
         "No",
         "Sat",
         "Dinner",
         "4",
         "5.17",
         "Amber Francis",
         "377742985258914",
         "Sat6649"
        ],
        [
         "37",
         "16.93",
         "3.07",
         "Female",
         "No",
         "Sat",
         "Dinner",
         "3",
         "5.64",
         "Erin Lewis",
         "5161695527390786",
         "Sat6406"
        ],
        [
         "51",
         "10.29",
         "2.6",
         "Female",
         "No",
         "Sun",
         "Dinner",
         "2",
         "5.14",
         "Jessica Ibarra",
         "4999759463713",
         "Sun4474"
        ],
        [
         "52",
         "34.81",
         "5.2",
         "Female",
         "No",
         "Sun",
         "Dinner",
         "4",
         "8.7",
         "Emily Daniel",
         "4291280793094374",
         "Sun6165"
        ],
        [
         "57",
         "26.41",
         "1.5",
         "Female",
         "No",
         "Sat",
         "Dinner",
         "2",
         "13.2",
         "Melody Simon",
         "4745394421258160",
         "Sat8980"
        ],
        [
         "66",
         "16.45",
         "2.47",
         "Female",
         "No",
         "Sat",
         "Dinner",
         "2",
         "8.22",
         "Rachel Vaughn",
         "3569262692675583",
         "Sat4750"
        ],
        [
         "67",
         "3.07",
         "1.0",
         "Female",
         "Yes",
         "Sat",
         "Dinner",
         "1",
         "3.07",
         "Tiffany Brock",
         "4359488526995267",
         "Sat3455"
        ],
        [
         "71",
         "17.07",
         "3.0",
         "Female",
         "No",
         "Sat",
         "Dinner",
         "3",
         "5.69",
         "Teresa Fisher",
         "5442222963796367",
         "Sat3469"
        ],
        [
         "72",
         "26.86",
         "3.14",
         "Female",
         "Yes",
         "Sat",
         "Dinner",
         "2",
         "13.43",
         "Victoria Obrien MD",
         "4216245673726",
         "Sat1967"
        ],
        [
         "73",
         "25.28",
         "5.0",
         "Female",
         "Yes",
         "Sat",
         "Dinner",
         "2",
         "12.64",
         "Julie Holmes",
         "5418689346409571",
         "Sat6065"
        ],
        [
         "74",
         "14.73",
         "2.2",
         "Female",
         "No",
         "Sat",
         "Dinner",
         "2",
         "7.36",
         "Ashley Harris",
         "501828723483",
         "Sat6548"
        ],
        [
         "82",
         "10.07",
         "1.83",
         "Female",
         "No",
         "Thur",
         "Lunch",
         "1",
         "10.07",
         "Julie Moody",
         "630413282843",
         "Thur4909"
        ],
        [
         "85",
         "34.83",
         "5.17",
         "Female",
         "No",
         "Thur",
         "Lunch",
         "4",
         "8.71",
         "Shawna Cook",
         "6011787464177340",
         "Thur7972"
        ],
        [
         "92",
         "5.75",
         "1.0",
         "Female",
         "Yes",
         "Fri",
         "Dinner",
         "2",
         "2.88",
         "Leah Ramirez",
         "3508911676966392",
         "Fri3780"
        ],
        [
         "93",
         "16.32",
         "4.3",
         "Female",
         "Yes",
         "Fri",
         "Dinner",
         "2",
         "8.16",
         "Natalie Nguyen",
         "5181236182893396",
         "Fri6963"
        ],
        [
         "94",
         "22.75",
         "3.25",
         "Female",
         "No",
         "Fri",
         "Dinner",
         "2",
         "11.38",
         "Jamie Garza",
         "676318332068",
         "Fri2318"
        ],
        [
         "100",
         "11.35",
         "2.5",
         "Female",
         "Yes",
         "Fri",
         "Dinner",
         "2",
         "5.68",
         "Lori Lynch",
         "38558279384492",
         "Fri4106"
        ],
        [
         "101",
         "15.38",
         "3.0",
         "Female",
         "Yes",
         "Fri",
         "Dinner",
         "2",
         "7.69",
         "Tiffany Colon",
         "6011012799432041",
         "Fri8382"
        ],
        [
         "102",
         "44.3",
         "2.5",
         "Female",
         "Yes",
         "Sat",
         "Dinner",
         "3",
         "14.77",
         "Heather Cohen",
         "379771118886604",
         "Sat6240"
        ],
        [
         "103",
         "22.42",
         "3.48",
         "Female",
         "Yes",
         "Sat",
         "Dinner",
         "2",
         "11.21",
         "Kathleen Hawkins",
         "348009865484721",
         "Sat1015"
        ],
        [
         "104",
         "20.92",
         "4.08",
         "Female",
         "No",
         "Sat",
         "Dinner",
         "2",
         "10.46",
         "Gabrielle Frederick",
         "4013010878990106",
         "Sat3194"
        ],
        [
         "109",
         "14.31",
         "4.0",
         "Female",
         "Yes",
         "Sat",
         "Dinner",
         "2",
         "7.16",
         "Amanda Anderson",
         "375638820334211",
         "Sat2614"
        ],
        [
         "111",
         "7.25",
         "1.0",
         "Female",
         "No",
         "Sat",
         "Dinner",
         "1",
         "7.25",
         "Terri Jones",
         "3559221007826887",
         "Sat4801"
        ],
        [
         "114",
         "25.71",
         "4.0",
         "Female",
         "No",
         "Sun",
         "Dinner",
         "3",
         "8.57",
         "Katie Smith",
         "5400160161311292",
         "Sun6492"
        ],
        [
         "115",
         "17.31",
         "3.5",
         "Female",
         "No",
         "Sun",
         "Dinner",
         "2",
         "8.65",
         "Kayla Stone",
         "379494319310858",
         "Sun8746"
        ],
        [
         "117",
         "10.65",
         "1.5",
         "Female",
         "No",
         "Thur",
         "Lunch",
         "2",
         "5.32",
         "Linda Zhang",
         "3560509622598239",
         "Thur9593"
        ],
        [
         "118",
         "12.43",
         "1.8",
         "Female",
         "No",
         "Thur",
         "Lunch",
         "2",
         "6.22",
         "Dr. Caroline Tucker",
         "502047186908",
         "Thur8084"
        ],
        [
         "119",
         "24.08",
         "2.92",
         "Female",
         "No",
         "Thur",
         "Lunch",
         "4",
         "6.02",
         "Melanie Jordan",
         "676212062720",
         "Thur8063"
        ],
        [
         "121",
         "13.42",
         "1.68",
         "Female",
         "No",
         "Thur",
         "Lunch",
         "2",
         "6.71",
         "Laura Garcia",
         "5181484390945653",
         "Thur2158"
        ],
        [
         "124",
         "12.48",
         "2.52",
         "Female",
         "No",
         "Thur",
         "Lunch",
         "2",
         "6.24",
         "Jordan Diaz",
         "4472778228206399",
         "Thur208"
        ],
        [
         "125",
         "29.8",
         "4.2",
         "Female",
         "No",
         "Thur",
         "Lunch",
         "6",
         "4.97",
         "Angela Sanchez",
         "503857080488",
         "Thur3948"
        ],
        [
         "127",
         "14.52",
         "2.0",
         "Female",
         "No",
         "Thur",
         "Lunch",
         "2",
         "7.26",
         "Jessica Simmons",
         "213102478792200",
         "Thur1512"
        ],
        [
         "128",
         "11.38",
         "2.0",
         "Female",
         "No",
         "Thur",
         "Lunch",
         "2",
         "5.69",
         "Christine Perkins",
         "3548391118913991",
         "Thur8551"
        ],
        [
         "131",
         "20.27",
         "2.83",
         "Female",
         "No",
         "Thur",
         "Lunch",
         "2",
         "10.14",
         "Ashley Burke",
         "5394652998970066",
         "Thur9005"
        ],
        [
         "132",
         "11.17",
         "1.5",
         "Female",
         "No",
         "Thur",
         "Lunch",
         "2",
         "5.58",
         "Taylor Gonzalez",
         "6011990685390011",
         "Thur7783"
        ],
        [
         "133",
         "12.26",
         "2.0",
         "Female",
         "No",
         "Thur",
         "Lunch",
         "2",
         "6.13",
         "Kaitlin Wolf",
         "676348318145",
         "Thur1561"
        ],
        [
         "134",
         "18.26",
         "3.25",
         "Female",
         "No",
         "Thur",
         "Lunch",
         "2",
         "9.13",
         "Karen Rodriguez",
         "4952604748911",
         "Thur75"
        ],
        [
         "135",
         "8.51",
         "1.25",
         "Female",
         "No",
         "Thur",
         "Lunch",
         "2",
         "4.26",
         "Rebecca Harris",
         "4320272020376174",
         "Thur6600"
        ],
        [
         "136",
         "10.33",
         "2.0",
         "Female",
         "No",
         "Thur",
         "Lunch",
         "2",
         "5.16",
         "Donna Kelly",
         "180048553626376",
         "Thur1393"
        ],
        [
         "137",
         "14.15",
         "2.0",
         "Female",
         "No",
         "Thur",
         "Lunch",
         "2",
         "7.08",
         "Vanessa Morris",
         "213189344156819",
         "Thur3890"
        ]
       ],
       "shape": {
        "columns": 11,
        "rows": 87
       }
      },
      "text/html": [
       "<div>\n",
       "<style scoped>\n",
       "    .dataframe tbody tr th:only-of-type {\n",
       "        vertical-align: middle;\n",
       "    }\n",
       "\n",
       "    .dataframe tbody tr th {\n",
       "        vertical-align: top;\n",
       "    }\n",
       "\n",
       "    .dataframe thead th {\n",
       "        text-align: right;\n",
       "    }\n",
       "</style>\n",
       "<table border=\"1\" class=\"dataframe\">\n",
       "  <thead>\n",
       "    <tr style=\"text-align: right;\">\n",
       "      <th></th>\n",
       "      <th>total_bill</th>\n",
       "      <th>tip</th>\n",
       "      <th>sex</th>\n",
       "      <th>smoker</th>\n",
       "      <th>day</th>\n",
       "      <th>time</th>\n",
       "      <th>size</th>\n",
       "      <th>price_per_person</th>\n",
       "      <th>Payer Name</th>\n",
       "      <th>CC Number</th>\n",
       "      <th>Payment ID</th>\n",
       "    </tr>\n",
       "  </thead>\n",
       "  <tbody>\n",
       "    <tr>\n",
       "      <th>0</th>\n",
       "      <td>16.99</td>\n",
       "      <td>1.01</td>\n",
       "      <td>Female</td>\n",
       "      <td>No</td>\n",
       "      <td>Sun</td>\n",
       "      <td>Dinner</td>\n",
       "      <td>2</td>\n",
       "      <td>8.49</td>\n",
       "      <td>Christy Cunningham</td>\n",
       "      <td>3560325168603410</td>\n",
       "      <td>Sun2959</td>\n",
       "    </tr>\n",
       "    <tr>\n",
       "      <th>4</th>\n",
       "      <td>24.59</td>\n",
       "      <td>3.61</td>\n",
       "      <td>Female</td>\n",
       "      <td>No</td>\n",
       "      <td>Sun</td>\n",
       "      <td>Dinner</td>\n",
       "      <td>4</td>\n",
       "      <td>6.15</td>\n",
       "      <td>Tonya Carter</td>\n",
       "      <td>4832732618637221</td>\n",
       "      <td>Sun2251</td>\n",
       "    </tr>\n",
       "    <tr>\n",
       "      <th>11</th>\n",
       "      <td>35.26</td>\n",
       "      <td>5.00</td>\n",
       "      <td>Female</td>\n",
       "      <td>No</td>\n",
       "      <td>Sun</td>\n",
       "      <td>Dinner</td>\n",
       "      <td>4</td>\n",
       "      <td>8.82</td>\n",
       "      <td>Diane Macias</td>\n",
       "      <td>4577817359320969</td>\n",
       "      <td>Sun6686</td>\n",
       "    </tr>\n",
       "    <tr>\n",
       "      <th>14</th>\n",
       "      <td>14.83</td>\n",
       "      <td>3.02</td>\n",
       "      <td>Female</td>\n",
       "      <td>No</td>\n",
       "      <td>Sun</td>\n",
       "      <td>Dinner</td>\n",
       "      <td>2</td>\n",
       "      <td>7.42</td>\n",
       "      <td>Vanessa Jones</td>\n",
       "      <td>30016702287574</td>\n",
       "      <td>Sun3848</td>\n",
       "    </tr>\n",
       "    <tr>\n",
       "      <th>16</th>\n",
       "      <td>10.33</td>\n",
       "      <td>1.67</td>\n",
       "      <td>Female</td>\n",
       "      <td>No</td>\n",
       "      <td>Sun</td>\n",
       "      <td>Dinner</td>\n",
       "      <td>3</td>\n",
       "      <td>3.44</td>\n",
       "      <td>Elizabeth Foster</td>\n",
       "      <td>4240025044626033</td>\n",
       "      <td>Sun9715</td>\n",
       "    </tr>\n",
       "    <tr>\n",
       "      <th>...</th>\n",
       "      <td>...</td>\n",
       "      <td>...</td>\n",
       "      <td>...</td>\n",
       "      <td>...</td>\n",
       "      <td>...</td>\n",
       "      <td>...</td>\n",
       "      <td>...</td>\n",
       "      <td>...</td>\n",
       "      <td>...</td>\n",
       "      <td>...</td>\n",
       "      <td>...</td>\n",
       "    </tr>\n",
       "    <tr>\n",
       "      <th>226</th>\n",
       "      <td>10.09</td>\n",
       "      <td>2.00</td>\n",
       "      <td>Female</td>\n",
       "      <td>Yes</td>\n",
       "      <td>Fri</td>\n",
       "      <td>Lunch</td>\n",
       "      <td>2</td>\n",
       "      <td>5.04</td>\n",
       "      <td>Ruth Weiss</td>\n",
       "      <td>5268689490381635</td>\n",
       "      <td>Fri6359</td>\n",
       "    </tr>\n",
       "    <tr>\n",
       "      <th>229</th>\n",
       "      <td>22.12</td>\n",
       "      <td>2.88</td>\n",
       "      <td>Female</td>\n",
       "      <td>Yes</td>\n",
       "      <td>Sat</td>\n",
       "      <td>Dinner</td>\n",
       "      <td>2</td>\n",
       "      <td>11.06</td>\n",
       "      <td>Jennifer Russell</td>\n",
       "      <td>4793003293608</td>\n",
       "      <td>Sat3943</td>\n",
       "    </tr>\n",
       "    <tr>\n",
       "      <th>238</th>\n",
       "      <td>35.83</td>\n",
       "      <td>4.67</td>\n",
       "      <td>Female</td>\n",
       "      <td>No</td>\n",
       "      <td>Sat</td>\n",
       "      <td>Dinner</td>\n",
       "      <td>3</td>\n",
       "      <td>11.94</td>\n",
       "      <td>Kimberly Crane</td>\n",
       "      <td>676184013727</td>\n",
       "      <td>Sat9777</td>\n",
       "    </tr>\n",
       "    <tr>\n",
       "      <th>240</th>\n",
       "      <td>27.18</td>\n",
       "      <td>2.00</td>\n",
       "      <td>Female</td>\n",
       "      <td>Yes</td>\n",
       "      <td>Sat</td>\n",
       "      <td>Dinner</td>\n",
       "      <td>2</td>\n",
       "      <td>13.59</td>\n",
       "      <td>Monica Sanders</td>\n",
       "      <td>3506806155565404</td>\n",
       "      <td>Sat1766</td>\n",
       "    </tr>\n",
       "    <tr>\n",
       "      <th>243</th>\n",
       "      <td>18.78</td>\n",
       "      <td>3.00</td>\n",
       "      <td>Female</td>\n",
       "      <td>No</td>\n",
       "      <td>Thur</td>\n",
       "      <td>Dinner</td>\n",
       "      <td>2</td>\n",
       "      <td>9.39</td>\n",
       "      <td>Michelle Hardin</td>\n",
       "      <td>3511451626698139</td>\n",
       "      <td>Thur672</td>\n",
       "    </tr>\n",
       "  </tbody>\n",
       "</table>\n",
       "<p>87 rows × 11 columns</p>\n",
       "</div>"
      ],
      "text/plain": [
       "     total_bill   tip     sex smoker   day    time  size  price_per_person  \\\n",
       "0         16.99  1.01  Female     No   Sun  Dinner     2              8.49   \n",
       "4         24.59  3.61  Female     No   Sun  Dinner     4              6.15   \n",
       "11        35.26  5.00  Female     No   Sun  Dinner     4              8.82   \n",
       "14        14.83  3.02  Female     No   Sun  Dinner     2              7.42   \n",
       "16        10.33  1.67  Female     No   Sun  Dinner     3              3.44   \n",
       "..          ...   ...     ...    ...   ...     ...   ...               ...   \n",
       "226       10.09  2.00  Female    Yes   Fri   Lunch     2              5.04   \n",
       "229       22.12  2.88  Female    Yes   Sat  Dinner     2             11.06   \n",
       "238       35.83  4.67  Female     No   Sat  Dinner     3             11.94   \n",
       "240       27.18  2.00  Female    Yes   Sat  Dinner     2             13.59   \n",
       "243       18.78  3.00  Female     No  Thur  Dinner     2              9.39   \n",
       "\n",
       "             Payer Name         CC Number Payment ID  \n",
       "0    Christy Cunningham  3560325168603410    Sun2959  \n",
       "4          Tonya Carter  4832732618637221    Sun2251  \n",
       "11         Diane Macias  4577817359320969    Sun6686  \n",
       "14        Vanessa Jones    30016702287574    Sun3848  \n",
       "16     Elizabeth Foster  4240025044626033    Sun9715  \n",
       "..                  ...               ...        ...  \n",
       "226          Ruth Weiss  5268689490381635    Fri6359  \n",
       "229    Jennifer Russell     4793003293608    Sat3943  \n",
       "238      Kimberly Crane      676184013727    Sat9777  \n",
       "240      Monica Sanders  3506806155565404    Sat1766  \n",
       "243     Michelle Hardin  3511451626698139    Thur672  \n",
       "\n",
       "[87 rows x 11 columns]"
      ]
     },
     "execution_count": 19,
     "metadata": {},
     "output_type": "execute_result"
    }
   ],
   "source": [
    "df_female"
   ]
  },
  {
   "cell_type": "code",
   "execution_count": 21,
   "id": "d3e6135f",
   "metadata": {},
   "outputs": [
    {
     "data": {
      "text/plain": [
       "np.float64(485.07)"
      ]
     },
     "execution_count": 21,
     "metadata": {},
     "output_type": "execute_result"
    }
   ],
   "source": [
    "df_male[\"tip\"].sum()"
   ]
  },
  {
   "cell_type": "code",
   "execution_count": 22,
   "id": "9e9e8aae",
   "metadata": {},
   "outputs": [
    {
     "data": {
      "text/plain": [
       "np.float64(246.50999999999996)"
      ]
     },
     "execution_count": 22,
     "metadata": {},
     "output_type": "execute_result"
    }
   ],
   "source": [
    "df_female[\"tip\"].sum()"
   ]
  },
  {
   "cell_type": "code",
   "execution_count": 25,
   "id": "55b369f0",
   "metadata": {},
   "outputs": [
    {
     "data": {
      "text/plain": [
       "np.float64(238.56000000000003)"
      ]
     },
     "execution_count": 25,
     "metadata": {},
     "output_type": "execute_result"
    }
   ],
   "source": [
    "df_male[\"tip\"].sum() - df_female[\"tip\"].sum() # erkekler kadinlardan 238.56 daha fazla bahsis vermisler"
   ]
  },
  {
   "cell_type": "code",
   "execution_count": 26,
   "id": "cd208dbc",
   "metadata": {},
   "outputs": [
    {
     "data": {
      "text/plain": [
       "np.float64(2.8334482758620685)"
      ]
     },
     "execution_count": 26,
     "metadata": {},
     "output_type": "execute_result"
    }
   ],
   "source": [
    "df_female[\"tip\"].mean()"
   ]
  },
  {
   "cell_type": "code",
   "execution_count": 27,
   "id": "b21090f1",
   "metadata": {},
   "outputs": [
    {
     "data": {
      "text/plain": [
       "np.float64(3.0896178343949043)"
      ]
     },
     "execution_count": 27,
     "metadata": {},
     "output_type": "execute_result"
    }
   ],
   "source": [
    "df_male[\"tip\"].mean()"
   ]
  },
  {
   "cell_type": "code",
   "execution_count": null,
   "id": "cb993ba3",
   "metadata": {},
   "outputs": [
    {
     "data": {
      "text/plain": [
       "np.float64(0.25616955853283585)"
      ]
     },
     "execution_count": 29,
     "metadata": {},
     "output_type": "execute_result"
    }
   ],
   "source": [
    "df_male[\"tip\"].mean() - df_female[\"tip\"].mean() # erkekler kadinlardan ortalama 0.2560 daha fazla bahsis vermisler"
   ]
  },
  {
   "cell_type": "code",
   "execution_count": 30,
   "id": "8469f0cf",
   "metadata": {},
   "outputs": [
    {
     "data": {
      "application/vnd.microsoft.datawrangler.viewer.v0+json": {
       "columns": [
        {
         "name": "smoker",
         "rawType": "object",
         "type": "string"
        },
        {
         "name": "count",
         "rawType": "int64",
         "type": "integer"
        }
       ],
       "ref": "89841c46-c499-4066-8367-bcaaf33d3555",
       "rows": [
        [
         "No",
         "97"
        ],
        [
         "Yes",
         "60"
        ]
       ],
       "shape": {
        "columns": 1,
        "rows": 2
       }
      },
      "text/plain": [
       "smoker\n",
       "No     97\n",
       "Yes    60\n",
       "Name: count, dtype: int64"
      ]
     },
     "execution_count": 30,
     "metadata": {},
     "output_type": "execute_result"
    }
   ],
   "source": [
    "df_male[\"smoker\"].value_counts()"
   ]
  },
  {
   "cell_type": "code",
   "execution_count": null,
   "id": "f4ccc324",
   "metadata": {},
   "outputs": [
    {
     "data": {
      "text/plain": [
       "38.21656050955414"
      ]
     },
     "execution_count": 33,
     "metadata": {},
     "output_type": "execute_result"
    }
   ],
   "source": [
    "(60 / (97 + 60)) * 100 # Erkeklerin %38.21'i sigara kullaniyor"
   ]
  },
  {
   "cell_type": "code",
   "execution_count": 34,
   "id": "fb9ec32b",
   "metadata": {},
   "outputs": [
    {
     "data": {
      "application/vnd.microsoft.datawrangler.viewer.v0+json": {
       "columns": [
        {
         "name": "smoker",
         "rawType": "object",
         "type": "string"
        },
        {
         "name": "count",
         "rawType": "int64",
         "type": "integer"
        }
       ],
       "ref": "8e451ee9-ba5e-4735-a298-ad6d324bdf81",
       "rows": [
        [
         "No",
         "54"
        ],
        [
         "Yes",
         "33"
        ]
       ],
       "shape": {
        "columns": 1,
        "rows": 2
       }
      },
      "text/plain": [
       "smoker\n",
       "No     54\n",
       "Yes    33\n",
       "Name: count, dtype: int64"
      ]
     },
     "execution_count": 34,
     "metadata": {},
     "output_type": "execute_result"
    }
   ],
   "source": [
    "df_female[\"smoker\"].value_counts()"
   ]
  },
  {
   "cell_type": "code",
   "execution_count": 35,
   "id": "9b88babd",
   "metadata": {},
   "outputs": [
    {
     "data": {
      "text/plain": [
       "37.93103448275862"
      ]
     },
     "execution_count": 35,
     "metadata": {},
     "output_type": "execute_result"
    }
   ],
   "source": [
    "(33 / (54 + 33)) * 100 # Kadinlarin %37.93'u sigara kullaniyor"
   ]
  },
  {
   "cell_type": "markdown",
   "id": "860479a9",
   "metadata": {},
   "source": [
    "### erkekler ile kadinlarin sigara icme orani birbirine cok yakin"
   ]
  },
  {
   "cell_type": "code",
   "execution_count": 37,
   "id": "c4e57fa1",
   "metadata": {},
   "outputs": [
    {
     "data": {
      "application/vnd.microsoft.datawrangler.viewer.v0+json": {
       "columns": [
        {
         "name": "time",
         "rawType": "object",
         "type": "string"
        },
        {
         "name": "count",
         "rawType": "int64",
         "type": "integer"
        }
       ],
       "ref": "c9964109-cae3-417a-b4fc-4768ea444729",
       "rows": [
        [
         "Dinner",
         "124"
        ],
        [
         "Lunch",
         "33"
        ]
       ],
       "shape": {
        "columns": 1,
        "rows": 2
       }
      },
      "text/plain": [
       "time\n",
       "Dinner    124\n",
       "Lunch      33\n",
       "Name: count, dtype: int64"
      ]
     },
     "execution_count": 37,
     "metadata": {},
     "output_type": "execute_result"
    }
   ],
   "source": [
    "df_male[\"time\"].value_counts()"
   ]
  },
  {
   "cell_type": "code",
   "execution_count": 39,
   "id": "caf2c377",
   "metadata": {},
   "outputs": [
    {
     "data": {
      "text/plain": [
       "21.019108280254777"
      ]
     },
     "execution_count": 39,
     "metadata": {},
     "output_type": "execute_result"
    }
   ],
   "source": [
    "(33 / (124 + 33)) * 100 # Erkeklerin %21.01'u ogle yemeginde, %78.99'si aksam yemeginde bulunmus"
   ]
  },
  {
   "cell_type": "code",
   "execution_count": 40,
   "id": "cc373efc",
   "metadata": {},
   "outputs": [
    {
     "data": {
      "application/vnd.microsoft.datawrangler.viewer.v0+json": {
       "columns": [
        {
         "name": "time",
         "rawType": "object",
         "type": "string"
        },
        {
         "name": "count",
         "rawType": "int64",
         "type": "integer"
        }
       ],
       "ref": "8c24c7f6-2155-4f16-a92f-46c06241644b",
       "rows": [
        [
         "Dinner",
         "52"
        ],
        [
         "Lunch",
         "35"
        ]
       ],
       "shape": {
        "columns": 1,
        "rows": 2
       }
      },
      "text/plain": [
       "time\n",
       "Dinner    52\n",
       "Lunch     35\n",
       "Name: count, dtype: int64"
      ]
     },
     "execution_count": 40,
     "metadata": {},
     "output_type": "execute_result"
    }
   ],
   "source": [
    "df_female[\"time\"].value_counts()"
   ]
  },
  {
   "cell_type": "code",
   "execution_count": 42,
   "id": "f3466f7e",
   "metadata": {},
   "outputs": [
    {
     "data": {
      "text/plain": [
       "40.229885057471265"
      ]
     },
     "execution_count": 42,
     "metadata": {},
     "output_type": "execute_result"
    }
   ],
   "source": [
    "(35 / (52 + 35)) * 100 # Kadinlarin %40.22'u ogle yemeginde, %59.78'si aksam yemeginde bulunmus"
   ]
  },
  {
   "cell_type": "markdown",
   "id": "a4aff664",
   "metadata": {},
   "source": [
    "### kadinlar, erkeklere gore daha cok oglen yemegi yiyor"
   ]
  },
  {
   "cell_type": "code",
   "execution_count": 47,
   "id": "b5f3f5ee",
   "metadata": {},
   "outputs": [
    {
     "data": {
      "application/vnd.microsoft.datawrangler.viewer.v0+json": {
       "columns": [
        {
         "name": "index",
         "rawType": "object",
         "type": "string"
        },
        {
         "name": "total_bill",
         "rawType": "float64",
         "type": "float"
        },
        {
         "name": "tip",
         "rawType": "float64",
         "type": "float"
        },
        {
         "name": "size",
         "rawType": "float64",
         "type": "float"
        },
        {
         "name": "price_per_person",
         "rawType": "float64",
         "type": "float"
        }
       ],
       "ref": "e974151c-f2b6-44d8-ad20-7815a3aedd3b",
       "rows": [
        [
         "total_bill",
         "1.0",
         "0.6757341092113648",
         "0.5983151309049014",
         "0.6475536299671444"
        ],
        [
         "tip",
         "0.6757341092113648",
         "1.0",
         "0.48929877523035714",
         "0.3474053326501849"
        ],
        [
         "size",
         "0.5983151309049014",
         "0.48929877523035714",
         "1.0",
         "-0.17535875491145994"
        ],
        [
         "price_per_person",
         "0.6475536299671444",
         "0.3474053326501849",
         "-0.17535875491145994",
         "1.0"
        ]
       ],
       "shape": {
        "columns": 4,
        "rows": 4
       }
      },
      "text/html": [
       "<div>\n",
       "<style scoped>\n",
       "    .dataframe tbody tr th:only-of-type {\n",
       "        vertical-align: middle;\n",
       "    }\n",
       "\n",
       "    .dataframe tbody tr th {\n",
       "        vertical-align: top;\n",
       "    }\n",
       "\n",
       "    .dataframe thead th {\n",
       "        text-align: right;\n",
       "    }\n",
       "</style>\n",
       "<table border=\"1\" class=\"dataframe\">\n",
       "  <thead>\n",
       "    <tr style=\"text-align: right;\">\n",
       "      <th></th>\n",
       "      <th>total_bill</th>\n",
       "      <th>tip</th>\n",
       "      <th>size</th>\n",
       "      <th>price_per_person</th>\n",
       "    </tr>\n",
       "  </thead>\n",
       "  <tbody>\n",
       "    <tr>\n",
       "      <th>total_bill</th>\n",
       "      <td>1.000000</td>\n",
       "      <td>0.675734</td>\n",
       "      <td>0.598315</td>\n",
       "      <td>0.647554</td>\n",
       "    </tr>\n",
       "    <tr>\n",
       "      <th>tip</th>\n",
       "      <td>0.675734</td>\n",
       "      <td>1.000000</td>\n",
       "      <td>0.489299</td>\n",
       "      <td>0.347405</td>\n",
       "    </tr>\n",
       "    <tr>\n",
       "      <th>size</th>\n",
       "      <td>0.598315</td>\n",
       "      <td>0.489299</td>\n",
       "      <td>1.000000</td>\n",
       "      <td>-0.175359</td>\n",
       "    </tr>\n",
       "    <tr>\n",
       "      <th>price_per_person</th>\n",
       "      <td>0.647554</td>\n",
       "      <td>0.347405</td>\n",
       "      <td>-0.175359</td>\n",
       "      <td>1.000000</td>\n",
       "    </tr>\n",
       "  </tbody>\n",
       "</table>\n",
       "</div>"
      ],
      "text/plain": [
       "                  total_bill       tip      size  price_per_person\n",
       "total_bill          1.000000  0.675734  0.598315          0.647554\n",
       "tip                 0.675734  1.000000  0.489299          0.347405\n",
       "size                0.598315  0.489299  1.000000         -0.175359\n",
       "price_per_person    0.647554  0.347405 -0.175359          1.000000"
      ]
     },
     "execution_count": 47,
     "metadata": {},
     "output_type": "execute_result"
    }
   ],
   "source": [
    "df_tips.drop(\"CC Number\", axis = 1, inplace = True)\n",
    "df_tips.corr(numeric_only = True)"
   ]
  },
  {
   "cell_type": "markdown",
   "id": "96f9f981",
   "metadata": {},
   "source": [
    "### birakilan bahsis ile toplam odeme arasinda yuksek bir oran var bu da demek oluyor ki odenen tutar arttikca bahsis tutari artiyor"
   ]
  },
  {
   "cell_type": "markdown",
   "id": "f4ef7b3e",
   "metadata": {},
   "source": [
    "### ayrica kisi sayisi arttikca da odenen toplam tutar orani artiyor"
   ]
  }
 ],
 "metadata": {
  "kernelspec": {
   "display_name": "Python 3",
   "language": "python",
   "name": "python3"
  },
  "language_info": {
   "codemirror_mode": {
    "name": "ipython",
    "version": 3
   },
   "file_extension": ".py",
   "mimetype": "text/x-python",
   "name": "python",
   "nbconvert_exporter": "python",
   "pygments_lexer": "ipython3",
   "version": "3.14.0"
  }
 },
 "nbformat": 4,
 "nbformat_minor": 5
}
