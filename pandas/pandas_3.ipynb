{
 "cells": [
  {
   "cell_type": "code",
   "execution_count": 2,
   "id": "313d5ec6",
   "metadata": {},
   "outputs": [],
   "source": [
    "import numpy as np\n",
    "import pandas as pd"
   ]
  },
  {
   "cell_type": "code",
   "execution_count": 3,
   "id": "a74dd261",
   "metadata": {},
   "outputs": [
    {
     "data": {
      "application/vnd.microsoft.datawrangler.viewer.v0+json": {
       "columns": [
        {
         "name": "index",
         "rawType": "int64",
         "type": "integer"
        },
        {
         "name": "Transaction ID",
         "rawType": "object",
         "type": "string"
        },
        {
         "name": "Item",
         "rawType": "object",
         "type": "unknown"
        },
        {
         "name": "Quantity",
         "rawType": "object",
         "type": "unknown"
        },
        {
         "name": "Price Per Unit",
         "rawType": "object",
         "type": "unknown"
        },
        {
         "name": "Total Spent",
         "rawType": "object",
         "type": "unknown"
        },
        {
         "name": "Payment Method",
         "rawType": "object",
         "type": "unknown"
        },
        {
         "name": "Location",
         "rawType": "object",
         "type": "unknown"
        },
        {
         "name": "Transaction Date",
         "rawType": "object",
         "type": "unknown"
        }
       ],
       "ref": "c6d330b6-d576-4532-92ab-8f1408d4e830",
       "rows": [
        [
         "0",
         "TXN_1961373",
         "Coffee",
         "2",
         "2.0",
         "4.0",
         "Credit Card",
         "Takeaway",
         "2023-09-08"
        ],
        [
         "1",
         "TXN_4977031",
         "Cake",
         "4",
         "3.0",
         "12.0",
         "Cash",
         "In-store",
         "2023-05-16"
        ],
        [
         "2",
         "TXN_4271903",
         "Cookie",
         "4",
         "1.0",
         "ERROR",
         "Credit Card",
         "In-store",
         "2023-07-19"
        ],
        [
         "3",
         "TXN_7034554",
         "Salad",
         "2",
         "5.0",
         "10.0",
         "UNKNOWN",
         "UNKNOWN",
         "2023-04-27"
        ],
        [
         "4",
         "TXN_3160411",
         "Coffee",
         "2",
         "2.0",
         "4.0",
         "Digital Wallet",
         "In-store",
         "2023-06-11"
        ],
        [
         "5",
         "TXN_2602893",
         "Smoothie",
         "5",
         "4.0",
         "20.0",
         "Credit Card",
         null,
         "2023-03-31"
        ],
        [
         "6",
         "TXN_4433211",
         "UNKNOWN",
         "3",
         "3.0",
         "9.0",
         "ERROR",
         "Takeaway",
         "2023-10-06"
        ],
        [
         "7",
         "TXN_6699534",
         "Sandwich",
         "4",
         "4.0",
         "16.0",
         "Cash",
         "UNKNOWN",
         "2023-10-28"
        ],
        [
         "8",
         "TXN_4717867",
         null,
         "5",
         "3.0",
         "15.0",
         null,
         "Takeaway",
         "2023-07-28"
        ],
        [
         "9",
         "TXN_2064365",
         "Sandwich",
         "5",
         "4.0",
         "20.0",
         null,
         "In-store",
         "2023-12-31"
        ],
        [
         "10",
         "TXN_2548360",
         "Salad",
         "5",
         "5.0",
         "25.0",
         "Cash",
         "Takeaway",
         "2023-11-07"
        ],
        [
         "11",
         "TXN_3051279",
         "Sandwich",
         "2",
         "4.0",
         "8.0",
         "Credit Card",
         "Takeaway",
         "ERROR"
        ],
        [
         "12",
         "TXN_7619095",
         "Sandwich",
         "2",
         "4.0",
         "8.0",
         "Cash",
         "In-store",
         "2023-05-03"
        ],
        [
         "13",
         "TXN_9437049",
         "Cookie",
         "5",
         "1.0",
         "5.0",
         null,
         "Takeaway",
         "2023-06-01"
        ],
        [
         "14",
         "TXN_8915701",
         "ERROR",
         "2",
         "1.5",
         "3.0",
         null,
         "In-store",
         "2023-03-21"
        ],
        [
         "15",
         "TXN_2847255",
         "Salad",
         "3",
         "5.0",
         "15.0",
         "Credit Card",
         "In-store",
         "2023-11-15"
        ],
        [
         "16",
         "TXN_3765707",
         "Sandwich",
         "1",
         "4.0",
         "4.0",
         null,
         null,
         "2023-06-10"
        ],
        [
         "17",
         "TXN_6769710",
         "Juice",
         "2",
         "3.0",
         "6.0",
         "Cash",
         "In-store",
         "2023-02-24"
        ],
        [
         "18",
         "TXN_8876618",
         "Cake",
         "5",
         "3.0",
         "15.0",
         "Cash",
         "ERROR",
         "2023-03-25"
        ],
        [
         "19",
         "TXN_3709394",
         "Juice",
         "4",
         "3.0",
         "12.0",
         "Cash",
         "Takeaway",
         "2023-01-15"
        ],
        [
         "20",
         "TXN_3522028",
         "Smoothie",
         "ERROR",
         "4.0",
         "20.0",
         "Cash",
         "In-store",
         "2023-04-04"
        ],
        [
         "21",
         "TXN_3567645",
         "Smoothie",
         "4",
         "4.0",
         "16.0",
         "Credit Card",
         "Takeaway",
         "2023-03-30"
        ],
        [
         "22",
         "TXN_5132361",
         "Sandwich",
         "3",
         "4.0",
         "12.0",
         "Digital Wallet",
         "Takeaway",
         "2023-12-01"
        ],
        [
         "23",
         "TXN_2616390",
         "Sandwich",
         "2",
         "4.0",
         "8.0",
         null,
         null,
         "2023-09-18"
        ],
        [
         "24",
         "TXN_9400181",
         "Sandwich",
         "5",
         "4.0",
         "20.0",
         "Cash",
         "In-store",
         "2023-06-03"
        ],
        [
         "25",
         "TXN_7958992",
         "Smoothie",
         "3",
         "4.0",
         null,
         "UNKNOWN",
         "UNKNOWN",
         "2023-12-13"
        ],
        [
         "26",
         "TXN_5183041",
         "Cookie",
         "5",
         "1.0",
         "5.0",
         "Credit Card",
         "In-store",
         "2023-04-20"
        ],
        [
         "27",
         "TXN_5695074",
         "Juice",
         "4",
         "3.0",
         "12.0",
         "Credit Card",
         "Takeaway",
         "2023-04-10"
        ],
        [
         "28",
         "TXN_8467949",
         "Smoothie",
         "5",
         "4.0",
         "20.0",
         "Credit Card",
         null,
         "2023-03-11"
        ],
        [
         "29",
         "TXN_7640952",
         "Cake",
         "4",
         "3.0",
         "12.0",
         "Digital Wallet",
         "Takeaway",
         "ERROR"
        ],
        [
         "30",
         "TXN_1736287",
         null,
         "5",
         "2.0",
         "10.0",
         "Digital Wallet",
         null,
         "2023-06-02"
        ],
        [
         "31",
         "TXN_8927252",
         "UNKNOWN",
         "2",
         "1.0",
         "ERROR",
         "Credit Card",
         "ERROR",
         "2023-11-06"
        ],
        [
         "32",
         "TXN_9677376",
         "Smoothie",
         "4",
         "4.0",
         "16.0",
         null,
         "In-store",
         "2023-08-15"
        ],
        [
         "33",
         "TXN_7710508",
         "UNKNOWN",
         "5",
         "1.0",
         "5.0",
         "Cash",
         null,
         "ERROR"
        ],
        [
         "34",
         "TXN_8853997",
         "Smoothie",
         "2",
         "4.0",
         "8.0",
         "Digital Wallet",
         "Takeaway",
         "2023-10-09"
        ],
        [
         "35",
         "TXN_9130559",
         "Sandwich",
         "1",
         "4.0",
         "4.0",
         "Credit Card",
         "UNKNOWN",
         "2023-05-28"
        ],
        [
         "36",
         "TXN_6855453",
         "UNKNOWN",
         "4",
         "3.0",
         "12.0",
         null,
         "In-store",
         "2023-07-17"
        ],
        [
         "37",
         "TXN_1080432",
         "Salad",
         "2",
         "5.0",
         "10.0",
         "Credit Card",
         "In-store",
         "2023-04-29"
        ],
        [
         "38",
         "TXN_2655815",
         "Smoothie",
         "4",
         "4.0",
         "16.0",
         null,
         "Takeaway",
         "2023-06-08"
        ],
        [
         "39",
         "TXN_6688524",
         "Coffee",
         "4",
         "2.0",
         "8.0",
         "ERROR",
         null,
         "2023-06-29"
        ],
        [
         "40",
         "TXN_2083138",
         "Smoothie",
         "3",
         "4.0",
         "12.0",
         null,
         "In-store",
         "2023-04-17"
        ],
        [
         "41",
         "TXN_2427584",
         "Sandwich",
         "4",
         "4.0",
         "16.0",
         null,
         "Takeaway",
         "2023-12-22"
        ],
        [
         "42",
         "TXN_6650263",
         "Tea",
         "2",
         "1.5",
         "UNKNOWN",
         null,
         "Takeaway",
         "2023-01-10"
        ],
        [
         "43",
         "TXN_9620080",
         "Juice",
         "4",
         "3.0",
         "12.0",
         null,
         "Takeaway",
         "2023-10-02"
        ],
        [
         "44",
         "TXN_1491578",
         "Cookie",
         "2",
         "1.0",
         "2.0",
         null,
         null,
         "2023-02-23"
        ],
        [
         "45",
         "TXN_5455792",
         "Salad",
         "3",
         "5.0",
         "15.0",
         "Cash",
         null,
         "2023-03-22"
        ],
        [
         "46",
         "TXN_8078640",
         "Juice",
         "4",
         "3.0",
         "12.0",
         "Digital Wallet",
         "In-store",
         "2023-11-03"
        ],
        [
         "47",
         "TXN_9499313",
         "Juice",
         "5",
         "3.0",
         "15.0",
         null,
         null,
         "2023-03-02"
        ],
        [
         "48",
         "TXN_8201146",
         "Juice",
         "5",
         "3.0",
         "15.0",
         "Cash",
         null,
         "2023-06-26"
        ],
        [
         "49",
         "TXN_8230936",
         "Cake",
         "3",
         "3.0",
         "9.0",
         null,
         "ERROR",
         "2023-05-02"
        ]
       ],
       "shape": {
        "columns": 8,
        "rows": 10000
       }
      },
      "text/html": [
       "<div>\n",
       "<style scoped>\n",
       "    .dataframe tbody tr th:only-of-type {\n",
       "        vertical-align: middle;\n",
       "    }\n",
       "\n",
       "    .dataframe tbody tr th {\n",
       "        vertical-align: top;\n",
       "    }\n",
       "\n",
       "    .dataframe thead th {\n",
       "        text-align: right;\n",
       "    }\n",
       "</style>\n",
       "<table border=\"1\" class=\"dataframe\">\n",
       "  <thead>\n",
       "    <tr style=\"text-align: right;\">\n",
       "      <th></th>\n",
       "      <th>Transaction ID</th>\n",
       "      <th>Item</th>\n",
       "      <th>Quantity</th>\n",
       "      <th>Price Per Unit</th>\n",
       "      <th>Total Spent</th>\n",
       "      <th>Payment Method</th>\n",
       "      <th>Location</th>\n",
       "      <th>Transaction Date</th>\n",
       "    </tr>\n",
       "  </thead>\n",
       "  <tbody>\n",
       "    <tr>\n",
       "      <th>0</th>\n",
       "      <td>TXN_1961373</td>\n",
       "      <td>Coffee</td>\n",
       "      <td>2</td>\n",
       "      <td>2.0</td>\n",
       "      <td>4.0</td>\n",
       "      <td>Credit Card</td>\n",
       "      <td>Takeaway</td>\n",
       "      <td>2023-09-08</td>\n",
       "    </tr>\n",
       "    <tr>\n",
       "      <th>1</th>\n",
       "      <td>TXN_4977031</td>\n",
       "      <td>Cake</td>\n",
       "      <td>4</td>\n",
       "      <td>3.0</td>\n",
       "      <td>12.0</td>\n",
       "      <td>Cash</td>\n",
       "      <td>In-store</td>\n",
       "      <td>2023-05-16</td>\n",
       "    </tr>\n",
       "    <tr>\n",
       "      <th>2</th>\n",
       "      <td>TXN_4271903</td>\n",
       "      <td>Cookie</td>\n",
       "      <td>4</td>\n",
       "      <td>1.0</td>\n",
       "      <td>ERROR</td>\n",
       "      <td>Credit Card</td>\n",
       "      <td>In-store</td>\n",
       "      <td>2023-07-19</td>\n",
       "    </tr>\n",
       "    <tr>\n",
       "      <th>3</th>\n",
       "      <td>TXN_7034554</td>\n",
       "      <td>Salad</td>\n",
       "      <td>2</td>\n",
       "      <td>5.0</td>\n",
       "      <td>10.0</td>\n",
       "      <td>UNKNOWN</td>\n",
       "      <td>UNKNOWN</td>\n",
       "      <td>2023-04-27</td>\n",
       "    </tr>\n",
       "    <tr>\n",
       "      <th>4</th>\n",
       "      <td>TXN_3160411</td>\n",
       "      <td>Coffee</td>\n",
       "      <td>2</td>\n",
       "      <td>2.0</td>\n",
       "      <td>4.0</td>\n",
       "      <td>Digital Wallet</td>\n",
       "      <td>In-store</td>\n",
       "      <td>2023-06-11</td>\n",
       "    </tr>\n",
       "    <tr>\n",
       "      <th>...</th>\n",
       "      <td>...</td>\n",
       "      <td>...</td>\n",
       "      <td>...</td>\n",
       "      <td>...</td>\n",
       "      <td>...</td>\n",
       "      <td>...</td>\n",
       "      <td>...</td>\n",
       "      <td>...</td>\n",
       "    </tr>\n",
       "    <tr>\n",
       "      <th>9995</th>\n",
       "      <td>TXN_7672686</td>\n",
       "      <td>Coffee</td>\n",
       "      <td>2</td>\n",
       "      <td>2.0</td>\n",
       "      <td>4.0</td>\n",
       "      <td>NaN</td>\n",
       "      <td>UNKNOWN</td>\n",
       "      <td>2023-08-30</td>\n",
       "    </tr>\n",
       "    <tr>\n",
       "      <th>9996</th>\n",
       "      <td>TXN_9659401</td>\n",
       "      <td>NaN</td>\n",
       "      <td>3</td>\n",
       "      <td>NaN</td>\n",
       "      <td>3.0</td>\n",
       "      <td>Digital Wallet</td>\n",
       "      <td>NaN</td>\n",
       "      <td>2023-06-02</td>\n",
       "    </tr>\n",
       "    <tr>\n",
       "      <th>9997</th>\n",
       "      <td>TXN_5255387</td>\n",
       "      <td>Coffee</td>\n",
       "      <td>4</td>\n",
       "      <td>2.0</td>\n",
       "      <td>8.0</td>\n",
       "      <td>Digital Wallet</td>\n",
       "      <td>NaN</td>\n",
       "      <td>2023-03-02</td>\n",
       "    </tr>\n",
       "    <tr>\n",
       "      <th>9998</th>\n",
       "      <td>TXN_7695629</td>\n",
       "      <td>Cookie</td>\n",
       "      <td>3</td>\n",
       "      <td>NaN</td>\n",
       "      <td>3.0</td>\n",
       "      <td>Digital Wallet</td>\n",
       "      <td>NaN</td>\n",
       "      <td>2023-12-02</td>\n",
       "    </tr>\n",
       "    <tr>\n",
       "      <th>9999</th>\n",
       "      <td>TXN_6170729</td>\n",
       "      <td>Sandwich</td>\n",
       "      <td>3</td>\n",
       "      <td>4.0</td>\n",
       "      <td>12.0</td>\n",
       "      <td>Cash</td>\n",
       "      <td>In-store</td>\n",
       "      <td>2023-11-07</td>\n",
       "    </tr>\n",
       "  </tbody>\n",
       "</table>\n",
       "<p>10000 rows × 8 columns</p>\n",
       "</div>"
      ],
      "text/plain": [
       "     Transaction ID      Item Quantity Price Per Unit Total Spent  \\\n",
       "0       TXN_1961373    Coffee        2            2.0         4.0   \n",
       "1       TXN_4977031      Cake        4            3.0        12.0   \n",
       "2       TXN_4271903    Cookie        4            1.0       ERROR   \n",
       "3       TXN_7034554     Salad        2            5.0        10.0   \n",
       "4       TXN_3160411    Coffee        2            2.0         4.0   \n",
       "...             ...       ...      ...            ...         ...   \n",
       "9995    TXN_7672686    Coffee        2            2.0         4.0   \n",
       "9996    TXN_9659401       NaN        3            NaN         3.0   \n",
       "9997    TXN_5255387    Coffee        4            2.0         8.0   \n",
       "9998    TXN_7695629    Cookie        3            NaN         3.0   \n",
       "9999    TXN_6170729  Sandwich        3            4.0        12.0   \n",
       "\n",
       "      Payment Method  Location Transaction Date  \n",
       "0        Credit Card  Takeaway       2023-09-08  \n",
       "1               Cash  In-store       2023-05-16  \n",
       "2        Credit Card  In-store       2023-07-19  \n",
       "3            UNKNOWN   UNKNOWN       2023-04-27  \n",
       "4     Digital Wallet  In-store       2023-06-11  \n",
       "...              ...       ...              ...  \n",
       "9995             NaN   UNKNOWN       2023-08-30  \n",
       "9996  Digital Wallet       NaN       2023-06-02  \n",
       "9997  Digital Wallet       NaN       2023-03-02  \n",
       "9998  Digital Wallet       NaN       2023-12-02  \n",
       "9999            Cash  In-store       2023-11-07  \n",
       "\n",
       "[10000 rows x 8 columns]"
      ]
     },
     "execution_count": 3,
     "metadata": {},
     "output_type": "execute_result"
    }
   ],
   "source": [
    "df = pd.read_csv(\"csv1.csv\")\n",
    "df"
   ]
  },
  {
   "cell_type": "code",
   "execution_count": 4,
   "id": "081a48c4",
   "metadata": {},
   "outputs": [
    {
     "data": {
      "application/vnd.microsoft.datawrangler.viewer.v0+json": {
       "columns": [
        {
         "name": "index",
         "rawType": "int64",
         "type": "integer"
        },
        {
         "name": "Transaction ID",
         "rawType": "object",
         "type": "string"
        },
        {
         "name": "Item",
         "rawType": "object",
         "type": "string"
        },
        {
         "name": "Quantity",
         "rawType": "object",
         "type": "string"
        },
        {
         "name": "Price Per Unit",
         "rawType": "object",
         "type": "string"
        },
        {
         "name": "Total Spent",
         "rawType": "object",
         "type": "string"
        },
        {
         "name": "Payment Method",
         "rawType": "object",
         "type": "string"
        },
        {
         "name": "Location",
         "rawType": "object",
         "type": "string"
        },
        {
         "name": "Transaction Date",
         "rawType": "object",
         "type": "string"
        }
       ],
       "ref": "15dc65cf-8e5c-48d5-a483-553eb460c86c",
       "rows": [
        [
         "0",
         "TXN_1961373",
         "Coffee",
         "2",
         "2.0",
         "4.0",
         "Credit Card",
         "Takeaway",
         "2023-09-08"
        ],
        [
         "1",
         "TXN_4977031",
         "Cake",
         "4",
         "3.0",
         "12.0",
         "Cash",
         "In-store",
         "2023-05-16"
        ],
        [
         "2",
         "TXN_4271903",
         "Cookie",
         "4",
         "1.0",
         "ERROR",
         "Credit Card",
         "In-store",
         "2023-07-19"
        ],
        [
         "3",
         "TXN_7034554",
         "Salad",
         "2",
         "5.0",
         "10.0",
         "UNKNOWN",
         "UNKNOWN",
         "2023-04-27"
        ],
        [
         "4",
         "TXN_3160411",
         "Coffee",
         "2",
         "2.0",
         "4.0",
         "Digital Wallet",
         "In-store",
         "2023-06-11"
        ]
       ],
       "shape": {
        "columns": 8,
        "rows": 5
       }
      },
      "text/html": [
       "<div>\n",
       "<style scoped>\n",
       "    .dataframe tbody tr th:only-of-type {\n",
       "        vertical-align: middle;\n",
       "    }\n",
       "\n",
       "    .dataframe tbody tr th {\n",
       "        vertical-align: top;\n",
       "    }\n",
       "\n",
       "    .dataframe thead th {\n",
       "        text-align: right;\n",
       "    }\n",
       "</style>\n",
       "<table border=\"1\" class=\"dataframe\">\n",
       "  <thead>\n",
       "    <tr style=\"text-align: right;\">\n",
       "      <th></th>\n",
       "      <th>Transaction ID</th>\n",
       "      <th>Item</th>\n",
       "      <th>Quantity</th>\n",
       "      <th>Price Per Unit</th>\n",
       "      <th>Total Spent</th>\n",
       "      <th>Payment Method</th>\n",
       "      <th>Location</th>\n",
       "      <th>Transaction Date</th>\n",
       "    </tr>\n",
       "  </thead>\n",
       "  <tbody>\n",
       "    <tr>\n",
       "      <th>0</th>\n",
       "      <td>TXN_1961373</td>\n",
       "      <td>Coffee</td>\n",
       "      <td>2</td>\n",
       "      <td>2.0</td>\n",
       "      <td>4.0</td>\n",
       "      <td>Credit Card</td>\n",
       "      <td>Takeaway</td>\n",
       "      <td>2023-09-08</td>\n",
       "    </tr>\n",
       "    <tr>\n",
       "      <th>1</th>\n",
       "      <td>TXN_4977031</td>\n",
       "      <td>Cake</td>\n",
       "      <td>4</td>\n",
       "      <td>3.0</td>\n",
       "      <td>12.0</td>\n",
       "      <td>Cash</td>\n",
       "      <td>In-store</td>\n",
       "      <td>2023-05-16</td>\n",
       "    </tr>\n",
       "    <tr>\n",
       "      <th>2</th>\n",
       "      <td>TXN_4271903</td>\n",
       "      <td>Cookie</td>\n",
       "      <td>4</td>\n",
       "      <td>1.0</td>\n",
       "      <td>ERROR</td>\n",
       "      <td>Credit Card</td>\n",
       "      <td>In-store</td>\n",
       "      <td>2023-07-19</td>\n",
       "    </tr>\n",
       "    <tr>\n",
       "      <th>3</th>\n",
       "      <td>TXN_7034554</td>\n",
       "      <td>Salad</td>\n",
       "      <td>2</td>\n",
       "      <td>5.0</td>\n",
       "      <td>10.0</td>\n",
       "      <td>UNKNOWN</td>\n",
       "      <td>UNKNOWN</td>\n",
       "      <td>2023-04-27</td>\n",
       "    </tr>\n",
       "    <tr>\n",
       "      <th>4</th>\n",
       "      <td>TXN_3160411</td>\n",
       "      <td>Coffee</td>\n",
       "      <td>2</td>\n",
       "      <td>2.0</td>\n",
       "      <td>4.0</td>\n",
       "      <td>Digital Wallet</td>\n",
       "      <td>In-store</td>\n",
       "      <td>2023-06-11</td>\n",
       "    </tr>\n",
       "  </tbody>\n",
       "</table>\n",
       "</div>"
      ],
      "text/plain": [
       "  Transaction ID    Item Quantity Price Per Unit Total Spent  Payment Method  \\\n",
       "0    TXN_1961373  Coffee        2            2.0         4.0     Credit Card   \n",
       "1    TXN_4977031    Cake        4            3.0        12.0            Cash   \n",
       "2    TXN_4271903  Cookie        4            1.0       ERROR     Credit Card   \n",
       "3    TXN_7034554   Salad        2            5.0        10.0         UNKNOWN   \n",
       "4    TXN_3160411  Coffee        2            2.0         4.0  Digital Wallet   \n",
       "\n",
       "   Location Transaction Date  \n",
       "0  Takeaway       2023-09-08  \n",
       "1  In-store       2023-05-16  \n",
       "2  In-store       2023-07-19  \n",
       "3   UNKNOWN       2023-04-27  \n",
       "4  In-store       2023-06-11  "
      ]
     },
     "execution_count": 4,
     "metadata": {},
     "output_type": "execute_result"
    }
   ],
   "source": [
    "df.head() # ilk 5 satiri getirir"
   ]
  },
  {
   "cell_type": "code",
   "execution_count": 5,
   "id": "342801d7",
   "metadata": {},
   "outputs": [
    {
     "data": {
      "application/vnd.microsoft.datawrangler.viewer.v0+json": {
       "columns": [
        {
         "name": "index",
         "rawType": "int64",
         "type": "integer"
        },
        {
         "name": "Transaction ID",
         "rawType": "object",
         "type": "string"
        },
        {
         "name": "Item",
         "rawType": "object",
         "type": "string"
        },
        {
         "name": "Quantity",
         "rawType": "object",
         "type": "string"
        },
        {
         "name": "Price Per Unit",
         "rawType": "object",
         "type": "string"
        },
        {
         "name": "Total Spent",
         "rawType": "object",
         "type": "string"
        },
        {
         "name": "Payment Method",
         "rawType": "object",
         "type": "string"
        },
        {
         "name": "Location",
         "rawType": "object",
         "type": "string"
        },
        {
         "name": "Transaction Date",
         "rawType": "object",
         "type": "string"
        }
       ],
       "ref": "704a9ab1-63a1-4844-a627-43c3bc558ca2",
       "rows": [
        [
         "0",
         "TXN_1961373",
         "Coffee",
         "2",
         "2.0",
         "4.0",
         "Credit Card",
         "Takeaway",
         "2023-09-08"
        ],
        [
         "1",
         "TXN_4977031",
         "Cake",
         "4",
         "3.0",
         "12.0",
         "Cash",
         "In-store",
         "2023-05-16"
        ],
        [
         "2",
         "TXN_4271903",
         "Cookie",
         "4",
         "1.0",
         "ERROR",
         "Credit Card",
         "In-store",
         "2023-07-19"
        ]
       ],
       "shape": {
        "columns": 8,
        "rows": 3
       }
      },
      "text/html": [
       "<div>\n",
       "<style scoped>\n",
       "    .dataframe tbody tr th:only-of-type {\n",
       "        vertical-align: middle;\n",
       "    }\n",
       "\n",
       "    .dataframe tbody tr th {\n",
       "        vertical-align: top;\n",
       "    }\n",
       "\n",
       "    .dataframe thead th {\n",
       "        text-align: right;\n",
       "    }\n",
       "</style>\n",
       "<table border=\"1\" class=\"dataframe\">\n",
       "  <thead>\n",
       "    <tr style=\"text-align: right;\">\n",
       "      <th></th>\n",
       "      <th>Transaction ID</th>\n",
       "      <th>Item</th>\n",
       "      <th>Quantity</th>\n",
       "      <th>Price Per Unit</th>\n",
       "      <th>Total Spent</th>\n",
       "      <th>Payment Method</th>\n",
       "      <th>Location</th>\n",
       "      <th>Transaction Date</th>\n",
       "    </tr>\n",
       "  </thead>\n",
       "  <tbody>\n",
       "    <tr>\n",
       "      <th>0</th>\n",
       "      <td>TXN_1961373</td>\n",
       "      <td>Coffee</td>\n",
       "      <td>2</td>\n",
       "      <td>2.0</td>\n",
       "      <td>4.0</td>\n",
       "      <td>Credit Card</td>\n",
       "      <td>Takeaway</td>\n",
       "      <td>2023-09-08</td>\n",
       "    </tr>\n",
       "    <tr>\n",
       "      <th>1</th>\n",
       "      <td>TXN_4977031</td>\n",
       "      <td>Cake</td>\n",
       "      <td>4</td>\n",
       "      <td>3.0</td>\n",
       "      <td>12.0</td>\n",
       "      <td>Cash</td>\n",
       "      <td>In-store</td>\n",
       "      <td>2023-05-16</td>\n",
       "    </tr>\n",
       "    <tr>\n",
       "      <th>2</th>\n",
       "      <td>TXN_4271903</td>\n",
       "      <td>Cookie</td>\n",
       "      <td>4</td>\n",
       "      <td>1.0</td>\n",
       "      <td>ERROR</td>\n",
       "      <td>Credit Card</td>\n",
       "      <td>In-store</td>\n",
       "      <td>2023-07-19</td>\n",
       "    </tr>\n",
       "  </tbody>\n",
       "</table>\n",
       "</div>"
      ],
      "text/plain": [
       "  Transaction ID    Item Quantity Price Per Unit Total Spent Payment Method  \\\n",
       "0    TXN_1961373  Coffee        2            2.0         4.0    Credit Card   \n",
       "1    TXN_4977031    Cake        4            3.0        12.0           Cash   \n",
       "2    TXN_4271903  Cookie        4            1.0       ERROR    Credit Card   \n",
       "\n",
       "   Location Transaction Date  \n",
       "0  Takeaway       2023-09-08  \n",
       "1  In-store       2023-05-16  \n",
       "2  In-store       2023-07-19  "
      ]
     },
     "execution_count": 5,
     "metadata": {},
     "output_type": "execute_result"
    }
   ],
   "source": [
    "df.head(3) # ilk 3 satiri getirir"
   ]
  },
  {
   "cell_type": "code",
   "execution_count": 6,
   "id": "6a9b8626",
   "metadata": {},
   "outputs": [
    {
     "data": {
      "application/vnd.microsoft.datawrangler.viewer.v0+json": {
       "columns": [
        {
         "name": "index",
         "rawType": "int64",
         "type": "integer"
        },
        {
         "name": "Transaction ID",
         "rawType": "object",
         "type": "string"
        },
        {
         "name": "Item",
         "rawType": "object",
         "type": "unknown"
        },
        {
         "name": "Quantity",
         "rawType": "object",
         "type": "string"
        },
        {
         "name": "Price Per Unit",
         "rawType": "object",
         "type": "unknown"
        },
        {
         "name": "Total Spent",
         "rawType": "object",
         "type": "string"
        },
        {
         "name": "Payment Method",
         "rawType": "object",
         "type": "unknown"
        },
        {
         "name": "Location",
         "rawType": "object",
         "type": "unknown"
        },
        {
         "name": "Transaction Date",
         "rawType": "object",
         "type": "string"
        }
       ],
       "ref": "c68d8c3f-71bb-4693-a705-b3c8c384fbee",
       "rows": [
        [
         "9995",
         "TXN_7672686",
         "Coffee",
         "2",
         "2.0",
         "4.0",
         null,
         "UNKNOWN",
         "2023-08-30"
        ],
        [
         "9996",
         "TXN_9659401",
         null,
         "3",
         null,
         "3.0",
         "Digital Wallet",
         null,
         "2023-06-02"
        ],
        [
         "9997",
         "TXN_5255387",
         "Coffee",
         "4",
         "2.0",
         "8.0",
         "Digital Wallet",
         null,
         "2023-03-02"
        ],
        [
         "9998",
         "TXN_7695629",
         "Cookie",
         "3",
         null,
         "3.0",
         "Digital Wallet",
         null,
         "2023-12-02"
        ],
        [
         "9999",
         "TXN_6170729",
         "Sandwich",
         "3",
         "4.0",
         "12.0",
         "Cash",
         "In-store",
         "2023-11-07"
        ]
       ],
       "shape": {
        "columns": 8,
        "rows": 5
       }
      },
      "text/html": [
       "<div>\n",
       "<style scoped>\n",
       "    .dataframe tbody tr th:only-of-type {\n",
       "        vertical-align: middle;\n",
       "    }\n",
       "\n",
       "    .dataframe tbody tr th {\n",
       "        vertical-align: top;\n",
       "    }\n",
       "\n",
       "    .dataframe thead th {\n",
       "        text-align: right;\n",
       "    }\n",
       "</style>\n",
       "<table border=\"1\" class=\"dataframe\">\n",
       "  <thead>\n",
       "    <tr style=\"text-align: right;\">\n",
       "      <th></th>\n",
       "      <th>Transaction ID</th>\n",
       "      <th>Item</th>\n",
       "      <th>Quantity</th>\n",
       "      <th>Price Per Unit</th>\n",
       "      <th>Total Spent</th>\n",
       "      <th>Payment Method</th>\n",
       "      <th>Location</th>\n",
       "      <th>Transaction Date</th>\n",
       "    </tr>\n",
       "  </thead>\n",
       "  <tbody>\n",
       "    <tr>\n",
       "      <th>9995</th>\n",
       "      <td>TXN_7672686</td>\n",
       "      <td>Coffee</td>\n",
       "      <td>2</td>\n",
       "      <td>2.0</td>\n",
       "      <td>4.0</td>\n",
       "      <td>NaN</td>\n",
       "      <td>UNKNOWN</td>\n",
       "      <td>2023-08-30</td>\n",
       "    </tr>\n",
       "    <tr>\n",
       "      <th>9996</th>\n",
       "      <td>TXN_9659401</td>\n",
       "      <td>NaN</td>\n",
       "      <td>3</td>\n",
       "      <td>NaN</td>\n",
       "      <td>3.0</td>\n",
       "      <td>Digital Wallet</td>\n",
       "      <td>NaN</td>\n",
       "      <td>2023-06-02</td>\n",
       "    </tr>\n",
       "    <tr>\n",
       "      <th>9997</th>\n",
       "      <td>TXN_5255387</td>\n",
       "      <td>Coffee</td>\n",
       "      <td>4</td>\n",
       "      <td>2.0</td>\n",
       "      <td>8.0</td>\n",
       "      <td>Digital Wallet</td>\n",
       "      <td>NaN</td>\n",
       "      <td>2023-03-02</td>\n",
       "    </tr>\n",
       "    <tr>\n",
       "      <th>9998</th>\n",
       "      <td>TXN_7695629</td>\n",
       "      <td>Cookie</td>\n",
       "      <td>3</td>\n",
       "      <td>NaN</td>\n",
       "      <td>3.0</td>\n",
       "      <td>Digital Wallet</td>\n",
       "      <td>NaN</td>\n",
       "      <td>2023-12-02</td>\n",
       "    </tr>\n",
       "    <tr>\n",
       "      <th>9999</th>\n",
       "      <td>TXN_6170729</td>\n",
       "      <td>Sandwich</td>\n",
       "      <td>3</td>\n",
       "      <td>4.0</td>\n",
       "      <td>12.0</td>\n",
       "      <td>Cash</td>\n",
       "      <td>In-store</td>\n",
       "      <td>2023-11-07</td>\n",
       "    </tr>\n",
       "  </tbody>\n",
       "</table>\n",
       "</div>"
      ],
      "text/plain": [
       "     Transaction ID      Item Quantity Price Per Unit Total Spent  \\\n",
       "9995    TXN_7672686    Coffee        2            2.0         4.0   \n",
       "9996    TXN_9659401       NaN        3            NaN         3.0   \n",
       "9997    TXN_5255387    Coffee        4            2.0         8.0   \n",
       "9998    TXN_7695629    Cookie        3            NaN         3.0   \n",
       "9999    TXN_6170729  Sandwich        3            4.0        12.0   \n",
       "\n",
       "      Payment Method  Location Transaction Date  \n",
       "9995             NaN   UNKNOWN       2023-08-30  \n",
       "9996  Digital Wallet       NaN       2023-06-02  \n",
       "9997  Digital Wallet       NaN       2023-03-02  \n",
       "9998  Digital Wallet       NaN       2023-12-02  \n",
       "9999            Cash  In-store       2023-11-07  "
      ]
     },
     "execution_count": 6,
     "metadata": {},
     "output_type": "execute_result"
    }
   ],
   "source": [
    "df.tail() # son 5 satiri getirir"
   ]
  },
  {
   "cell_type": "code",
   "execution_count": 7,
   "id": "6e63d929",
   "metadata": {},
   "outputs": [
    {
     "data": {
      "application/vnd.microsoft.datawrangler.viewer.v0+json": {
       "columns": [
        {
         "name": "index",
         "rawType": "int64",
         "type": "integer"
        },
        {
         "name": "Transaction ID",
         "rawType": "object",
         "type": "string"
        },
        {
         "name": "Item",
         "rawType": "object",
         "type": "unknown"
        },
        {
         "name": "Quantity",
         "rawType": "object",
         "type": "string"
        },
        {
         "name": "Price Per Unit",
         "rawType": "object",
         "type": "unknown"
        },
        {
         "name": "Total Spent",
         "rawType": "object",
         "type": "unknown"
        },
        {
         "name": "Payment Method",
         "rawType": "object",
         "type": "unknown"
        },
        {
         "name": "Location",
         "rawType": "object",
         "type": "unknown"
        },
        {
         "name": "Transaction Date",
         "rawType": "object",
         "type": "string"
        }
       ],
       "ref": "24e9fef9-ad94-4701-894d-89432e16c8e9",
       "rows": [
        [
         "9990",
         "TXN_1538510",
         "Coffee",
         "5",
         "2.0",
         "10.0",
         "Digital Wallet",
         null,
         "2023-05-22"
        ],
        [
         "9991",
         "TXN_3897619",
         "Sandwich",
         "3",
         "4.0",
         "12.0",
         "Cash",
         "Takeaway",
         "2023-02-24"
        ],
        [
         "9992",
         "TXN_2739140",
         "Smoothie",
         "4",
         "4.0",
         "16.0",
         "UNKNOWN",
         "In-store",
         "2023-07-05"
        ],
        [
         "9993",
         "TXN_4766549",
         "Smoothie",
         "2",
         "4.0",
         null,
         "Cash",
         null,
         "2023-10-20"
        ],
        [
         "9994",
         "TXN_7851634",
         "UNKNOWN",
         "4",
         "4.0",
         "16.0",
         null,
         null,
         "2023-01-08"
        ],
        [
         "9995",
         "TXN_7672686",
         "Coffee",
         "2",
         "2.0",
         "4.0",
         null,
         "UNKNOWN",
         "2023-08-30"
        ],
        [
         "9996",
         "TXN_9659401",
         null,
         "3",
         null,
         "3.0",
         "Digital Wallet",
         null,
         "2023-06-02"
        ],
        [
         "9997",
         "TXN_5255387",
         "Coffee",
         "4",
         "2.0",
         "8.0",
         "Digital Wallet",
         null,
         "2023-03-02"
        ],
        [
         "9998",
         "TXN_7695629",
         "Cookie",
         "3",
         null,
         "3.0",
         "Digital Wallet",
         null,
         "2023-12-02"
        ],
        [
         "9999",
         "TXN_6170729",
         "Sandwich",
         "3",
         "4.0",
         "12.0",
         "Cash",
         "In-store",
         "2023-11-07"
        ]
       ],
       "shape": {
        "columns": 8,
        "rows": 10
       }
      },
      "text/html": [
       "<div>\n",
       "<style scoped>\n",
       "    .dataframe tbody tr th:only-of-type {\n",
       "        vertical-align: middle;\n",
       "    }\n",
       "\n",
       "    .dataframe tbody tr th {\n",
       "        vertical-align: top;\n",
       "    }\n",
       "\n",
       "    .dataframe thead th {\n",
       "        text-align: right;\n",
       "    }\n",
       "</style>\n",
       "<table border=\"1\" class=\"dataframe\">\n",
       "  <thead>\n",
       "    <tr style=\"text-align: right;\">\n",
       "      <th></th>\n",
       "      <th>Transaction ID</th>\n",
       "      <th>Item</th>\n",
       "      <th>Quantity</th>\n",
       "      <th>Price Per Unit</th>\n",
       "      <th>Total Spent</th>\n",
       "      <th>Payment Method</th>\n",
       "      <th>Location</th>\n",
       "      <th>Transaction Date</th>\n",
       "    </tr>\n",
       "  </thead>\n",
       "  <tbody>\n",
       "    <tr>\n",
       "      <th>9990</th>\n",
       "      <td>TXN_1538510</td>\n",
       "      <td>Coffee</td>\n",
       "      <td>5</td>\n",
       "      <td>2.0</td>\n",
       "      <td>10.0</td>\n",
       "      <td>Digital Wallet</td>\n",
       "      <td>NaN</td>\n",
       "      <td>2023-05-22</td>\n",
       "    </tr>\n",
       "    <tr>\n",
       "      <th>9991</th>\n",
       "      <td>TXN_3897619</td>\n",
       "      <td>Sandwich</td>\n",
       "      <td>3</td>\n",
       "      <td>4.0</td>\n",
       "      <td>12.0</td>\n",
       "      <td>Cash</td>\n",
       "      <td>Takeaway</td>\n",
       "      <td>2023-02-24</td>\n",
       "    </tr>\n",
       "    <tr>\n",
       "      <th>9992</th>\n",
       "      <td>TXN_2739140</td>\n",
       "      <td>Smoothie</td>\n",
       "      <td>4</td>\n",
       "      <td>4.0</td>\n",
       "      <td>16.0</td>\n",
       "      <td>UNKNOWN</td>\n",
       "      <td>In-store</td>\n",
       "      <td>2023-07-05</td>\n",
       "    </tr>\n",
       "    <tr>\n",
       "      <th>9993</th>\n",
       "      <td>TXN_4766549</td>\n",
       "      <td>Smoothie</td>\n",
       "      <td>2</td>\n",
       "      <td>4.0</td>\n",
       "      <td>NaN</td>\n",
       "      <td>Cash</td>\n",
       "      <td>NaN</td>\n",
       "      <td>2023-10-20</td>\n",
       "    </tr>\n",
       "    <tr>\n",
       "      <th>9994</th>\n",
       "      <td>TXN_7851634</td>\n",
       "      <td>UNKNOWN</td>\n",
       "      <td>4</td>\n",
       "      <td>4.0</td>\n",
       "      <td>16.0</td>\n",
       "      <td>NaN</td>\n",
       "      <td>NaN</td>\n",
       "      <td>2023-01-08</td>\n",
       "    </tr>\n",
       "    <tr>\n",
       "      <th>9995</th>\n",
       "      <td>TXN_7672686</td>\n",
       "      <td>Coffee</td>\n",
       "      <td>2</td>\n",
       "      <td>2.0</td>\n",
       "      <td>4.0</td>\n",
       "      <td>NaN</td>\n",
       "      <td>UNKNOWN</td>\n",
       "      <td>2023-08-30</td>\n",
       "    </tr>\n",
       "    <tr>\n",
       "      <th>9996</th>\n",
       "      <td>TXN_9659401</td>\n",
       "      <td>NaN</td>\n",
       "      <td>3</td>\n",
       "      <td>NaN</td>\n",
       "      <td>3.0</td>\n",
       "      <td>Digital Wallet</td>\n",
       "      <td>NaN</td>\n",
       "      <td>2023-06-02</td>\n",
       "    </tr>\n",
       "    <tr>\n",
       "      <th>9997</th>\n",
       "      <td>TXN_5255387</td>\n",
       "      <td>Coffee</td>\n",
       "      <td>4</td>\n",
       "      <td>2.0</td>\n",
       "      <td>8.0</td>\n",
       "      <td>Digital Wallet</td>\n",
       "      <td>NaN</td>\n",
       "      <td>2023-03-02</td>\n",
       "    </tr>\n",
       "    <tr>\n",
       "      <th>9998</th>\n",
       "      <td>TXN_7695629</td>\n",
       "      <td>Cookie</td>\n",
       "      <td>3</td>\n",
       "      <td>NaN</td>\n",
       "      <td>3.0</td>\n",
       "      <td>Digital Wallet</td>\n",
       "      <td>NaN</td>\n",
       "      <td>2023-12-02</td>\n",
       "    </tr>\n",
       "    <tr>\n",
       "      <th>9999</th>\n",
       "      <td>TXN_6170729</td>\n",
       "      <td>Sandwich</td>\n",
       "      <td>3</td>\n",
       "      <td>4.0</td>\n",
       "      <td>12.0</td>\n",
       "      <td>Cash</td>\n",
       "      <td>In-store</td>\n",
       "      <td>2023-11-07</td>\n",
       "    </tr>\n",
       "  </tbody>\n",
       "</table>\n",
       "</div>"
      ],
      "text/plain": [
       "     Transaction ID      Item Quantity Price Per Unit Total Spent  \\\n",
       "9990    TXN_1538510    Coffee        5            2.0        10.0   \n",
       "9991    TXN_3897619  Sandwich        3            4.0        12.0   \n",
       "9992    TXN_2739140  Smoothie        4            4.0        16.0   \n",
       "9993    TXN_4766549  Smoothie        2            4.0         NaN   \n",
       "9994    TXN_7851634   UNKNOWN        4            4.0        16.0   \n",
       "9995    TXN_7672686    Coffee        2            2.0         4.0   \n",
       "9996    TXN_9659401       NaN        3            NaN         3.0   \n",
       "9997    TXN_5255387    Coffee        4            2.0         8.0   \n",
       "9998    TXN_7695629    Cookie        3            NaN         3.0   \n",
       "9999    TXN_6170729  Sandwich        3            4.0        12.0   \n",
       "\n",
       "      Payment Method  Location Transaction Date  \n",
       "9990  Digital Wallet       NaN       2023-05-22  \n",
       "9991            Cash  Takeaway       2023-02-24  \n",
       "9992         UNKNOWN  In-store       2023-07-05  \n",
       "9993            Cash       NaN       2023-10-20  \n",
       "9994             NaN       NaN       2023-01-08  \n",
       "9995             NaN   UNKNOWN       2023-08-30  \n",
       "9996  Digital Wallet       NaN       2023-06-02  \n",
       "9997  Digital Wallet       NaN       2023-03-02  \n",
       "9998  Digital Wallet       NaN       2023-12-02  \n",
       "9999            Cash  In-store       2023-11-07  "
      ]
     },
     "execution_count": 7,
     "metadata": {},
     "output_type": "execute_result"
    }
   ],
   "source": [
    "df.tail(10) # son 10 satiri getirir"
   ]
  },
  {
   "cell_type": "code",
   "execution_count": 8,
   "id": "48023d48",
   "metadata": {},
   "outputs": [
    {
     "data": {
      "application/vnd.microsoft.datawrangler.viewer.v0+json": {
       "columns": [
        {
         "name": "index",
         "rawType": "int64",
         "type": "integer"
        },
        {
         "name": "Transaction ID",
         "rawType": "object",
         "type": "string"
        },
        {
         "name": "Item",
         "rawType": "object",
         "type": "string"
        },
        {
         "name": "Quantity",
         "rawType": "object",
         "type": "string"
        },
        {
         "name": "Price Per Unit",
         "rawType": "object",
         "type": "string"
        },
        {
         "name": "Total Spent",
         "rawType": "object",
         "type": "string"
        },
        {
         "name": "Payment Method",
         "rawType": "object",
         "type": "unknown"
        },
        {
         "name": "Location",
         "rawType": "object",
         "type": "unknown"
        },
        {
         "name": "Transaction Date",
         "rawType": "object",
         "type": "string"
        }
       ],
       "ref": "0daf9e02-2fa0-4baf-9b0d-a4378299288b",
       "rows": [
        [
         "3026",
         "TXN_9942247",
         "Coffee",
         "2",
         "2.0",
         "UNKNOWN",
         "Cash",
         "Takeaway",
         "2023-10-15"
        ],
        [
         "977",
         "TXN_7470910",
         "Salad",
         "2",
         "5.0",
         "10.0",
         "Cash",
         "In-store",
         "2023-11-22"
        ],
        [
         "2922",
         "TXN_4641838",
         "Cookie",
         "5",
         "1.0",
         "5.0",
         "Credit Card",
         null,
         "2023-04-30"
        ],
        [
         "7587",
         "TXN_3827851",
         "Coffee",
         "1",
         "2.0",
         "2.0",
         null,
         null,
         "2023-01-09"
        ],
        [
         "283",
         "TXN_1842675",
         "ERROR",
         "4",
         "1.0",
         "4.0",
         "Credit Card",
         "Takeaway",
         "2023-06-23"
        ]
       ],
       "shape": {
        "columns": 8,
        "rows": 5
       }
      },
      "text/html": [
       "<div>\n",
       "<style scoped>\n",
       "    .dataframe tbody tr th:only-of-type {\n",
       "        vertical-align: middle;\n",
       "    }\n",
       "\n",
       "    .dataframe tbody tr th {\n",
       "        vertical-align: top;\n",
       "    }\n",
       "\n",
       "    .dataframe thead th {\n",
       "        text-align: right;\n",
       "    }\n",
       "</style>\n",
       "<table border=\"1\" class=\"dataframe\">\n",
       "  <thead>\n",
       "    <tr style=\"text-align: right;\">\n",
       "      <th></th>\n",
       "      <th>Transaction ID</th>\n",
       "      <th>Item</th>\n",
       "      <th>Quantity</th>\n",
       "      <th>Price Per Unit</th>\n",
       "      <th>Total Spent</th>\n",
       "      <th>Payment Method</th>\n",
       "      <th>Location</th>\n",
       "      <th>Transaction Date</th>\n",
       "    </tr>\n",
       "  </thead>\n",
       "  <tbody>\n",
       "    <tr>\n",
       "      <th>3026</th>\n",
       "      <td>TXN_9942247</td>\n",
       "      <td>Coffee</td>\n",
       "      <td>2</td>\n",
       "      <td>2.0</td>\n",
       "      <td>UNKNOWN</td>\n",
       "      <td>Cash</td>\n",
       "      <td>Takeaway</td>\n",
       "      <td>2023-10-15</td>\n",
       "    </tr>\n",
       "    <tr>\n",
       "      <th>977</th>\n",
       "      <td>TXN_7470910</td>\n",
       "      <td>Salad</td>\n",
       "      <td>2</td>\n",
       "      <td>5.0</td>\n",
       "      <td>10.0</td>\n",
       "      <td>Cash</td>\n",
       "      <td>In-store</td>\n",
       "      <td>2023-11-22</td>\n",
       "    </tr>\n",
       "    <tr>\n",
       "      <th>2922</th>\n",
       "      <td>TXN_4641838</td>\n",
       "      <td>Cookie</td>\n",
       "      <td>5</td>\n",
       "      <td>1.0</td>\n",
       "      <td>5.0</td>\n",
       "      <td>Credit Card</td>\n",
       "      <td>NaN</td>\n",
       "      <td>2023-04-30</td>\n",
       "    </tr>\n",
       "    <tr>\n",
       "      <th>7587</th>\n",
       "      <td>TXN_3827851</td>\n",
       "      <td>Coffee</td>\n",
       "      <td>1</td>\n",
       "      <td>2.0</td>\n",
       "      <td>2.0</td>\n",
       "      <td>NaN</td>\n",
       "      <td>NaN</td>\n",
       "      <td>2023-01-09</td>\n",
       "    </tr>\n",
       "    <tr>\n",
       "      <th>283</th>\n",
       "      <td>TXN_1842675</td>\n",
       "      <td>ERROR</td>\n",
       "      <td>4</td>\n",
       "      <td>1.0</td>\n",
       "      <td>4.0</td>\n",
       "      <td>Credit Card</td>\n",
       "      <td>Takeaway</td>\n",
       "      <td>2023-06-23</td>\n",
       "    </tr>\n",
       "  </tbody>\n",
       "</table>\n",
       "</div>"
      ],
      "text/plain": [
       "     Transaction ID    Item Quantity Price Per Unit Total Spent  \\\n",
       "3026    TXN_9942247  Coffee        2            2.0     UNKNOWN   \n",
       "977     TXN_7470910   Salad        2            5.0        10.0   \n",
       "2922    TXN_4641838  Cookie        5            1.0         5.0   \n",
       "7587    TXN_3827851  Coffee        1            2.0         2.0   \n",
       "283     TXN_1842675   ERROR        4            1.0         4.0   \n",
       "\n",
       "     Payment Method  Location Transaction Date  \n",
       "3026           Cash  Takeaway       2023-10-15  \n",
       "977            Cash  In-store       2023-11-22  \n",
       "2922    Credit Card       NaN       2023-04-30  \n",
       "7587            NaN       NaN       2023-01-09  \n",
       "283     Credit Card  Takeaway       2023-06-23  "
      ]
     },
     "execution_count": 8,
     "metadata": {},
     "output_type": "execute_result"
    }
   ],
   "source": [
    "df.sample(5) # rastgele 5 satiri getirir"
   ]
  },
  {
   "cell_type": "code",
   "execution_count": 9,
   "id": "d878cd6f",
   "metadata": {},
   "outputs": [
    {
     "data": {
      "text/plain": [
       "(10000, 8)"
      ]
     },
     "execution_count": 9,
     "metadata": {},
     "output_type": "execute_result"
    }
   ],
   "source": [
    "df.shape # (satir sayisi, sutun sayisi)"
   ]
  },
  {
   "cell_type": "code",
   "execution_count": 10,
   "id": "18c1780c",
   "metadata": {},
   "outputs": [
    {
     "data": {
      "text/plain": [
       "Index(['Transaction ID', 'Item', 'Quantity', 'Price Per Unit', 'Total Spent',\n",
       "       'Payment Method', 'Location', 'Transaction Date'],\n",
       "      dtype='object')"
      ]
     },
     "execution_count": 10,
     "metadata": {},
     "output_type": "execute_result"
    }
   ],
   "source": [
    "df.columns # sutun isimleri"
   ]
  },
  {
   "cell_type": "code",
   "execution_count": 11,
   "id": "7f79da08",
   "metadata": {},
   "outputs": [
    {
     "name": "stdout",
     "output_type": "stream",
     "text": [
      "<class 'pandas.core.frame.DataFrame'>\n",
      "RangeIndex: 10000 entries, 0 to 9999\n",
      "Data columns (total 8 columns):\n",
      " #   Column            Non-Null Count  Dtype \n",
      "---  ------            --------------  ----- \n",
      " 0   Transaction ID    10000 non-null  object\n",
      " 1   Item              9667 non-null   object\n",
      " 2   Quantity          9862 non-null   object\n",
      " 3   Price Per Unit    9821 non-null   object\n",
      " 4   Total Spent       9827 non-null   object\n",
      " 5   Payment Method    7421 non-null   object\n",
      " 6   Location          6735 non-null   object\n",
      " 7   Transaction Date  9841 non-null   object\n",
      "dtypes: object(8)\n",
      "memory usage: 625.1+ KB\n"
     ]
    }
   ],
   "source": [
    "df.info() # veri seti hakkinda genel bilgi"
   ]
  },
  {
   "cell_type": "code",
   "execution_count": 12,
   "id": "a0979dce",
   "metadata": {},
   "outputs": [
    {
     "data": {
      "application/vnd.microsoft.datawrangler.viewer.v0+json": {
       "columns": [
        {
         "name": "index",
         "rawType": "object",
         "type": "string"
        },
        {
         "name": "Transaction ID",
         "rawType": "object",
         "type": "unknown"
        },
        {
         "name": "Item",
         "rawType": "object",
         "type": "unknown"
        },
        {
         "name": "Quantity",
         "rawType": "object",
         "type": "unknown"
        },
        {
         "name": "Price Per Unit",
         "rawType": "object",
         "type": "unknown"
        },
        {
         "name": "Total Spent",
         "rawType": "object",
         "type": "unknown"
        },
        {
         "name": "Payment Method",
         "rawType": "object",
         "type": "unknown"
        },
        {
         "name": "Location",
         "rawType": "object",
         "type": "unknown"
        },
        {
         "name": "Transaction Date",
         "rawType": "object",
         "type": "unknown"
        }
       ],
       "ref": "3e8c3acd-ba8e-4f90-9a32-6550037762ec",
       "rows": [
        [
         "count",
         "10000",
         "9667",
         "9862",
         "9821",
         "9827",
         "7421",
         "6735",
         "9841"
        ],
        [
         "unique",
         "10000",
         "10",
         "7",
         "8",
         "19",
         "5",
         "4",
         "367"
        ],
        [
         "top",
         "TXN_1961373",
         "Juice",
         "5",
         "3.0",
         "6.0",
         "Digital Wallet",
         "Takeaway",
         "UNKNOWN"
        ],
        [
         "freq",
         "1",
         "1171",
         "2013",
         "2429",
         "979",
         "2291",
         "3022",
         "159"
        ]
       ],
       "shape": {
        "columns": 8,
        "rows": 4
       }
      },
      "text/html": [
       "<div>\n",
       "<style scoped>\n",
       "    .dataframe tbody tr th:only-of-type {\n",
       "        vertical-align: middle;\n",
       "    }\n",
       "\n",
       "    .dataframe tbody tr th {\n",
       "        vertical-align: top;\n",
       "    }\n",
       "\n",
       "    .dataframe thead th {\n",
       "        text-align: right;\n",
       "    }\n",
       "</style>\n",
       "<table border=\"1\" class=\"dataframe\">\n",
       "  <thead>\n",
       "    <tr style=\"text-align: right;\">\n",
       "      <th></th>\n",
       "      <th>Transaction ID</th>\n",
       "      <th>Item</th>\n",
       "      <th>Quantity</th>\n",
       "      <th>Price Per Unit</th>\n",
       "      <th>Total Spent</th>\n",
       "      <th>Payment Method</th>\n",
       "      <th>Location</th>\n",
       "      <th>Transaction Date</th>\n",
       "    </tr>\n",
       "  </thead>\n",
       "  <tbody>\n",
       "    <tr>\n",
       "      <th>count</th>\n",
       "      <td>10000</td>\n",
       "      <td>9667</td>\n",
       "      <td>9862</td>\n",
       "      <td>9821</td>\n",
       "      <td>9827</td>\n",
       "      <td>7421</td>\n",
       "      <td>6735</td>\n",
       "      <td>9841</td>\n",
       "    </tr>\n",
       "    <tr>\n",
       "      <th>unique</th>\n",
       "      <td>10000</td>\n",
       "      <td>10</td>\n",
       "      <td>7</td>\n",
       "      <td>8</td>\n",
       "      <td>19</td>\n",
       "      <td>5</td>\n",
       "      <td>4</td>\n",
       "      <td>367</td>\n",
       "    </tr>\n",
       "    <tr>\n",
       "      <th>top</th>\n",
       "      <td>TXN_1961373</td>\n",
       "      <td>Juice</td>\n",
       "      <td>5</td>\n",
       "      <td>3.0</td>\n",
       "      <td>6.0</td>\n",
       "      <td>Digital Wallet</td>\n",
       "      <td>Takeaway</td>\n",
       "      <td>UNKNOWN</td>\n",
       "    </tr>\n",
       "    <tr>\n",
       "      <th>freq</th>\n",
       "      <td>1</td>\n",
       "      <td>1171</td>\n",
       "      <td>2013</td>\n",
       "      <td>2429</td>\n",
       "      <td>979</td>\n",
       "      <td>2291</td>\n",
       "      <td>3022</td>\n",
       "      <td>159</td>\n",
       "    </tr>\n",
       "  </tbody>\n",
       "</table>\n",
       "</div>"
      ],
      "text/plain": [
       "       Transaction ID   Item Quantity Price Per Unit Total Spent  \\\n",
       "count           10000   9667     9862           9821        9827   \n",
       "unique          10000     10        7              8          19   \n",
       "top       TXN_1961373  Juice        5            3.0         6.0   \n",
       "freq                1   1171     2013           2429         979   \n",
       "\n",
       "        Payment Method  Location Transaction Date  \n",
       "count             7421      6735             9841  \n",
       "unique               5         4              367  \n",
       "top     Digital Wallet  Takeaway          UNKNOWN  \n",
       "freq              2291      3022              159  "
      ]
     },
     "execution_count": 12,
     "metadata": {},
     "output_type": "execute_result"
    }
   ],
   "source": [
    "df.describe() # sayisal degiskenler icin ozet istatistikler"
   ]
  },
  {
   "cell_type": "code",
   "execution_count": 13,
   "id": "4d6049d1",
   "metadata": {},
   "outputs": [
    {
     "data": {
      "application/vnd.microsoft.datawrangler.viewer.v0+json": {
       "columns": [
        {
         "name": "index",
         "rawType": "object",
         "type": "string"
        },
        {
         "name": "count",
         "rawType": "object",
         "type": "unknown"
        },
        {
         "name": "unique",
         "rawType": "object",
         "type": "unknown"
        },
        {
         "name": "top",
         "rawType": "object",
         "type": "string"
        },
        {
         "name": "freq",
         "rawType": "object",
         "type": "unknown"
        }
       ],
       "ref": "4bce92de-6c4d-41f0-8e9a-dc84671ed361",
       "rows": [
        [
         "Transaction ID",
         "10000",
         "10000",
         "TXN_1961373",
         "1"
        ],
        [
         "Item",
         "9667",
         "10",
         "Juice",
         "1171"
        ],
        [
         "Quantity",
         "9862",
         "7",
         "5",
         "2013"
        ],
        [
         "Price Per Unit",
         "9821",
         "8",
         "3.0",
         "2429"
        ],
        [
         "Total Spent",
         "9827",
         "19",
         "6.0",
         "979"
        ],
        [
         "Payment Method",
         "7421",
         "5",
         "Digital Wallet",
         "2291"
        ],
        [
         "Location",
         "6735",
         "4",
         "Takeaway",
         "3022"
        ],
        [
         "Transaction Date",
         "9841",
         "367",
         "UNKNOWN",
         "159"
        ]
       ],
       "shape": {
        "columns": 4,
        "rows": 8
       }
      },
      "text/html": [
       "<div>\n",
       "<style scoped>\n",
       "    .dataframe tbody tr th:only-of-type {\n",
       "        vertical-align: middle;\n",
       "    }\n",
       "\n",
       "    .dataframe tbody tr th {\n",
       "        vertical-align: top;\n",
       "    }\n",
       "\n",
       "    .dataframe thead th {\n",
       "        text-align: right;\n",
       "    }\n",
       "</style>\n",
       "<table border=\"1\" class=\"dataframe\">\n",
       "  <thead>\n",
       "    <tr style=\"text-align: right;\">\n",
       "      <th></th>\n",
       "      <th>count</th>\n",
       "      <th>unique</th>\n",
       "      <th>top</th>\n",
       "      <th>freq</th>\n",
       "    </tr>\n",
       "  </thead>\n",
       "  <tbody>\n",
       "    <tr>\n",
       "      <th>Transaction ID</th>\n",
       "      <td>10000</td>\n",
       "      <td>10000</td>\n",
       "      <td>TXN_1961373</td>\n",
       "      <td>1</td>\n",
       "    </tr>\n",
       "    <tr>\n",
       "      <th>Item</th>\n",
       "      <td>9667</td>\n",
       "      <td>10</td>\n",
       "      <td>Juice</td>\n",
       "      <td>1171</td>\n",
       "    </tr>\n",
       "    <tr>\n",
       "      <th>Quantity</th>\n",
       "      <td>9862</td>\n",
       "      <td>7</td>\n",
       "      <td>5</td>\n",
       "      <td>2013</td>\n",
       "    </tr>\n",
       "    <tr>\n",
       "      <th>Price Per Unit</th>\n",
       "      <td>9821</td>\n",
       "      <td>8</td>\n",
       "      <td>3.0</td>\n",
       "      <td>2429</td>\n",
       "    </tr>\n",
       "    <tr>\n",
       "      <th>Total Spent</th>\n",
       "      <td>9827</td>\n",
       "      <td>19</td>\n",
       "      <td>6.0</td>\n",
       "      <td>979</td>\n",
       "    </tr>\n",
       "    <tr>\n",
       "      <th>Payment Method</th>\n",
       "      <td>7421</td>\n",
       "      <td>5</td>\n",
       "      <td>Digital Wallet</td>\n",
       "      <td>2291</td>\n",
       "    </tr>\n",
       "    <tr>\n",
       "      <th>Location</th>\n",
       "      <td>6735</td>\n",
       "      <td>4</td>\n",
       "      <td>Takeaway</td>\n",
       "      <td>3022</td>\n",
       "    </tr>\n",
       "    <tr>\n",
       "      <th>Transaction Date</th>\n",
       "      <td>9841</td>\n",
       "      <td>367</td>\n",
       "      <td>UNKNOWN</td>\n",
       "      <td>159</td>\n",
       "    </tr>\n",
       "  </tbody>\n",
       "</table>\n",
       "</div>"
      ],
      "text/plain": [
       "                  count unique             top  freq\n",
       "Transaction ID    10000  10000     TXN_1961373     1\n",
       "Item               9667     10           Juice  1171\n",
       "Quantity           9862      7               5  2013\n",
       "Price Per Unit     9821      8             3.0  2429\n",
       "Total Spent        9827     19             6.0   979\n",
       "Payment Method     7421      5  Digital Wallet  2291\n",
       "Location           6735      4        Takeaway  3022\n",
       "Transaction Date   9841    367         UNKNOWN   159"
      ]
     },
     "execution_count": 13,
     "metadata": {},
     "output_type": "execute_result"
    }
   ],
   "source": [
    "df.describe().T # sayisal degiskenler icin ozet istatistikler (transpoze)"
   ]
  },
  {
   "cell_type": "markdown",
   "id": "6735368e",
   "metadata": {},
   "source": [
    "***Column (Sutun) Islemleri***"
   ]
  },
  {
   "cell_type": "code",
   "execution_count": 14,
   "id": "c000c545",
   "metadata": {},
   "outputs": [
    {
     "data": {
      "application/vnd.microsoft.datawrangler.viewer.v0+json": {
       "columns": [
        {
         "name": "index",
         "rawType": "int64",
         "type": "integer"
        },
        {
         "name": "Transaction ID",
         "rawType": "object",
         "type": "string"
        },
        {
         "name": "Item",
         "rawType": "object",
         "type": "string"
        },
        {
         "name": "Quantity",
         "rawType": "object",
         "type": "string"
        },
        {
         "name": "Price Per Unit",
         "rawType": "object",
         "type": "string"
        },
        {
         "name": "Total Spent",
         "rawType": "object",
         "type": "string"
        },
        {
         "name": "Payment Method",
         "rawType": "object",
         "type": "string"
        },
        {
         "name": "Location",
         "rawType": "object",
         "type": "string"
        },
        {
         "name": "Transaction Date",
         "rawType": "object",
         "type": "string"
        }
       ],
       "ref": "46f5bd7b-7439-4a15-ae0f-1a90c31d9d57",
       "rows": [
        [
         "0",
         "TXN_1961373",
         "Coffee",
         "2",
         "2.0",
         "4.0",
         "Credit Card",
         "Takeaway",
         "2023-09-08"
        ],
        [
         "1",
         "TXN_4977031",
         "Cake",
         "4",
         "3.0",
         "12.0",
         "Cash",
         "In-store",
         "2023-05-16"
        ],
        [
         "2",
         "TXN_4271903",
         "Cookie",
         "4",
         "1.0",
         "ERROR",
         "Credit Card",
         "In-store",
         "2023-07-19"
        ],
        [
         "3",
         "TXN_7034554",
         "Salad",
         "2",
         "5.0",
         "10.0",
         "UNKNOWN",
         "UNKNOWN",
         "2023-04-27"
        ],
        [
         "4",
         "TXN_3160411",
         "Coffee",
         "2",
         "2.0",
         "4.0",
         "Digital Wallet",
         "In-store",
         "2023-06-11"
        ]
       ],
       "shape": {
        "columns": 8,
        "rows": 5
       }
      },
      "text/html": [
       "<div>\n",
       "<style scoped>\n",
       "    .dataframe tbody tr th:only-of-type {\n",
       "        vertical-align: middle;\n",
       "    }\n",
       "\n",
       "    .dataframe tbody tr th {\n",
       "        vertical-align: top;\n",
       "    }\n",
       "\n",
       "    .dataframe thead th {\n",
       "        text-align: right;\n",
       "    }\n",
       "</style>\n",
       "<table border=\"1\" class=\"dataframe\">\n",
       "  <thead>\n",
       "    <tr style=\"text-align: right;\">\n",
       "      <th></th>\n",
       "      <th>Transaction ID</th>\n",
       "      <th>Item</th>\n",
       "      <th>Quantity</th>\n",
       "      <th>Price Per Unit</th>\n",
       "      <th>Total Spent</th>\n",
       "      <th>Payment Method</th>\n",
       "      <th>Location</th>\n",
       "      <th>Transaction Date</th>\n",
       "    </tr>\n",
       "  </thead>\n",
       "  <tbody>\n",
       "    <tr>\n",
       "      <th>0</th>\n",
       "      <td>TXN_1961373</td>\n",
       "      <td>Coffee</td>\n",
       "      <td>2</td>\n",
       "      <td>2.0</td>\n",
       "      <td>4.0</td>\n",
       "      <td>Credit Card</td>\n",
       "      <td>Takeaway</td>\n",
       "      <td>2023-09-08</td>\n",
       "    </tr>\n",
       "    <tr>\n",
       "      <th>1</th>\n",
       "      <td>TXN_4977031</td>\n",
       "      <td>Cake</td>\n",
       "      <td>4</td>\n",
       "      <td>3.0</td>\n",
       "      <td>12.0</td>\n",
       "      <td>Cash</td>\n",
       "      <td>In-store</td>\n",
       "      <td>2023-05-16</td>\n",
       "    </tr>\n",
       "    <tr>\n",
       "      <th>2</th>\n",
       "      <td>TXN_4271903</td>\n",
       "      <td>Cookie</td>\n",
       "      <td>4</td>\n",
       "      <td>1.0</td>\n",
       "      <td>ERROR</td>\n",
       "      <td>Credit Card</td>\n",
       "      <td>In-store</td>\n",
       "      <td>2023-07-19</td>\n",
       "    </tr>\n",
       "    <tr>\n",
       "      <th>3</th>\n",
       "      <td>TXN_7034554</td>\n",
       "      <td>Salad</td>\n",
       "      <td>2</td>\n",
       "      <td>5.0</td>\n",
       "      <td>10.0</td>\n",
       "      <td>UNKNOWN</td>\n",
       "      <td>UNKNOWN</td>\n",
       "      <td>2023-04-27</td>\n",
       "    </tr>\n",
       "    <tr>\n",
       "      <th>4</th>\n",
       "      <td>TXN_3160411</td>\n",
       "      <td>Coffee</td>\n",
       "      <td>2</td>\n",
       "      <td>2.0</td>\n",
       "      <td>4.0</td>\n",
       "      <td>Digital Wallet</td>\n",
       "      <td>In-store</td>\n",
       "      <td>2023-06-11</td>\n",
       "    </tr>\n",
       "  </tbody>\n",
       "</table>\n",
       "</div>"
      ],
      "text/plain": [
       "  Transaction ID    Item Quantity Price Per Unit Total Spent  Payment Method  \\\n",
       "0    TXN_1961373  Coffee        2            2.0         4.0     Credit Card   \n",
       "1    TXN_4977031    Cake        4            3.0        12.0            Cash   \n",
       "2    TXN_4271903  Cookie        4            1.0       ERROR     Credit Card   \n",
       "3    TXN_7034554   Salad        2            5.0        10.0         UNKNOWN   \n",
       "4    TXN_3160411  Coffee        2            2.0         4.0  Digital Wallet   \n",
       "\n",
       "   Location Transaction Date  \n",
       "0  Takeaway       2023-09-08  \n",
       "1  In-store       2023-05-16  \n",
       "2  In-store       2023-07-19  \n",
       "3   UNKNOWN       2023-04-27  \n",
       "4  In-store       2023-06-11  "
      ]
     },
     "execution_count": 14,
     "metadata": {},
     "output_type": "execute_result"
    }
   ],
   "source": [
    "df.head()"
   ]
  },
  {
   "cell_type": "code",
   "execution_count": 15,
   "id": "b28baa79",
   "metadata": {},
   "outputs": [
    {
     "data": {
      "application/vnd.microsoft.datawrangler.viewer.v0+json": {
       "columns": [
        {
         "name": "index",
         "rawType": "int64",
         "type": "integer"
        },
        {
         "name": "Item",
         "rawType": "object",
         "type": "unknown"
        }
       ],
       "ref": "6b5fa109-85c3-490e-b443-d45f58e56018",
       "rows": [
        [
         "0",
         "Coffee"
        ],
        [
         "1",
         "Cake"
        ],
        [
         "2",
         "Cookie"
        ],
        [
         "3",
         "Salad"
        ],
        [
         "4",
         "Coffee"
        ],
        [
         "5",
         "Smoothie"
        ],
        [
         "6",
         "UNKNOWN"
        ],
        [
         "7",
         "Sandwich"
        ],
        [
         "8",
         null
        ],
        [
         "9",
         "Sandwich"
        ],
        [
         "10",
         "Salad"
        ],
        [
         "11",
         "Sandwich"
        ],
        [
         "12",
         "Sandwich"
        ],
        [
         "13",
         "Cookie"
        ],
        [
         "14",
         "ERROR"
        ],
        [
         "15",
         "Salad"
        ],
        [
         "16",
         "Sandwich"
        ],
        [
         "17",
         "Juice"
        ],
        [
         "18",
         "Cake"
        ],
        [
         "19",
         "Juice"
        ],
        [
         "20",
         "Smoothie"
        ],
        [
         "21",
         "Smoothie"
        ],
        [
         "22",
         "Sandwich"
        ],
        [
         "23",
         "Sandwich"
        ],
        [
         "24",
         "Sandwich"
        ],
        [
         "25",
         "Smoothie"
        ],
        [
         "26",
         "Cookie"
        ],
        [
         "27",
         "Juice"
        ],
        [
         "28",
         "Smoothie"
        ],
        [
         "29",
         "Cake"
        ],
        [
         "30",
         null
        ],
        [
         "31",
         "UNKNOWN"
        ],
        [
         "32",
         "Smoothie"
        ],
        [
         "33",
         "UNKNOWN"
        ],
        [
         "34",
         "Smoothie"
        ],
        [
         "35",
         "Sandwich"
        ],
        [
         "36",
         "UNKNOWN"
        ],
        [
         "37",
         "Salad"
        ],
        [
         "38",
         "Smoothie"
        ],
        [
         "39",
         "Coffee"
        ],
        [
         "40",
         "Smoothie"
        ],
        [
         "41",
         "Sandwich"
        ],
        [
         "42",
         "Tea"
        ],
        [
         "43",
         "Juice"
        ],
        [
         "44",
         "Cookie"
        ],
        [
         "45",
         "Salad"
        ],
        [
         "46",
         "Juice"
        ],
        [
         "47",
         "Juice"
        ],
        [
         "48",
         "Juice"
        ],
        [
         "49",
         "Cake"
        ]
       ],
       "shape": {
        "columns": 1,
        "rows": 10000
       }
      },
      "text/plain": [
       "0         Coffee\n",
       "1           Cake\n",
       "2         Cookie\n",
       "3          Salad\n",
       "4         Coffee\n",
       "          ...   \n",
       "9995      Coffee\n",
       "9996         NaN\n",
       "9997      Coffee\n",
       "9998      Cookie\n",
       "9999    Sandwich\n",
       "Name: Item, Length: 10000, dtype: object"
      ]
     },
     "execution_count": 15,
     "metadata": {},
     "output_type": "execute_result"
    }
   ],
   "source": [
    "df[\"Item\"] # \"Item\" sutununu getirir"
   ]
  },
  {
   "cell_type": "code",
   "execution_count": 16,
   "id": "276f82f2",
   "metadata": {},
   "outputs": [
    {
     "data": {
      "application/vnd.microsoft.datawrangler.viewer.v0+json": {
       "columns": [
        {
         "name": "index",
         "rawType": "int64",
         "type": "integer"
        },
        {
         "name": "Item",
         "rawType": "object",
         "type": "unknown"
        }
       ],
       "ref": "27dae8e2-a795-4b19-8717-b62b462c9187",
       "rows": [
        [
         "0",
         "Coffee"
        ],
        [
         "1",
         "Cake"
        ],
        [
         "2",
         "Cookie"
        ],
        [
         "3",
         "Salad"
        ],
        [
         "4",
         "Coffee"
        ],
        [
         "5",
         "Smoothie"
        ],
        [
         "6",
         "UNKNOWN"
        ],
        [
         "7",
         "Sandwich"
        ],
        [
         "8",
         null
        ],
        [
         "9",
         "Sandwich"
        ],
        [
         "10",
         "Salad"
        ],
        [
         "11",
         "Sandwich"
        ],
        [
         "12",
         "Sandwich"
        ],
        [
         "13",
         "Cookie"
        ],
        [
         "14",
         "ERROR"
        ],
        [
         "15",
         "Salad"
        ],
        [
         "16",
         "Sandwich"
        ],
        [
         "17",
         "Juice"
        ],
        [
         "18",
         "Cake"
        ],
        [
         "19",
         "Juice"
        ],
        [
         "20",
         "Smoothie"
        ],
        [
         "21",
         "Smoothie"
        ],
        [
         "22",
         "Sandwich"
        ],
        [
         "23",
         "Sandwich"
        ],
        [
         "24",
         "Sandwich"
        ],
        [
         "25",
         "Smoothie"
        ],
        [
         "26",
         "Cookie"
        ],
        [
         "27",
         "Juice"
        ],
        [
         "28",
         "Smoothie"
        ],
        [
         "29",
         "Cake"
        ],
        [
         "30",
         null
        ],
        [
         "31",
         "UNKNOWN"
        ],
        [
         "32",
         "Smoothie"
        ],
        [
         "33",
         "UNKNOWN"
        ],
        [
         "34",
         "Smoothie"
        ],
        [
         "35",
         "Sandwich"
        ],
        [
         "36",
         "UNKNOWN"
        ],
        [
         "37",
         "Salad"
        ],
        [
         "38",
         "Smoothie"
        ],
        [
         "39",
         "Coffee"
        ],
        [
         "40",
         "Smoothie"
        ],
        [
         "41",
         "Sandwich"
        ],
        [
         "42",
         "Tea"
        ],
        [
         "43",
         "Juice"
        ],
        [
         "44",
         "Cookie"
        ],
        [
         "45",
         "Salad"
        ],
        [
         "46",
         "Juice"
        ],
        [
         "47",
         "Juice"
        ],
        [
         "48",
         "Juice"
        ],
        [
         "49",
         "Cake"
        ]
       ],
       "shape": {
        "columns": 1,
        "rows": 10000
       }
      },
      "text/html": [
       "<div>\n",
       "<style scoped>\n",
       "    .dataframe tbody tr th:only-of-type {\n",
       "        vertical-align: middle;\n",
       "    }\n",
       "\n",
       "    .dataframe tbody tr th {\n",
       "        vertical-align: top;\n",
       "    }\n",
       "\n",
       "    .dataframe thead th {\n",
       "        text-align: right;\n",
       "    }\n",
       "</style>\n",
       "<table border=\"1\" class=\"dataframe\">\n",
       "  <thead>\n",
       "    <tr style=\"text-align: right;\">\n",
       "      <th></th>\n",
       "      <th>Item</th>\n",
       "    </tr>\n",
       "  </thead>\n",
       "  <tbody>\n",
       "    <tr>\n",
       "      <th>0</th>\n",
       "      <td>Coffee</td>\n",
       "    </tr>\n",
       "    <tr>\n",
       "      <th>1</th>\n",
       "      <td>Cake</td>\n",
       "    </tr>\n",
       "    <tr>\n",
       "      <th>2</th>\n",
       "      <td>Cookie</td>\n",
       "    </tr>\n",
       "    <tr>\n",
       "      <th>3</th>\n",
       "      <td>Salad</td>\n",
       "    </tr>\n",
       "    <tr>\n",
       "      <th>4</th>\n",
       "      <td>Coffee</td>\n",
       "    </tr>\n",
       "    <tr>\n",
       "      <th>...</th>\n",
       "      <td>...</td>\n",
       "    </tr>\n",
       "    <tr>\n",
       "      <th>9995</th>\n",
       "      <td>Coffee</td>\n",
       "    </tr>\n",
       "    <tr>\n",
       "      <th>9996</th>\n",
       "      <td>NaN</td>\n",
       "    </tr>\n",
       "    <tr>\n",
       "      <th>9997</th>\n",
       "      <td>Coffee</td>\n",
       "    </tr>\n",
       "    <tr>\n",
       "      <th>9998</th>\n",
       "      <td>Cookie</td>\n",
       "    </tr>\n",
       "    <tr>\n",
       "      <th>9999</th>\n",
       "      <td>Sandwich</td>\n",
       "    </tr>\n",
       "  </tbody>\n",
       "</table>\n",
       "<p>10000 rows × 1 columns</p>\n",
       "</div>"
      ],
      "text/plain": [
       "          Item\n",
       "0       Coffee\n",
       "1         Cake\n",
       "2       Cookie\n",
       "3        Salad\n",
       "4       Coffee\n",
       "...        ...\n",
       "9995    Coffee\n",
       "9996       NaN\n",
       "9997    Coffee\n",
       "9998    Cookie\n",
       "9999  Sandwich\n",
       "\n",
       "[10000 rows x 1 columns]"
      ]
     },
     "execution_count": 16,
     "metadata": {},
     "output_type": "execute_result"
    }
   ],
   "source": [
    "df[[\"Item\"]] # \"Item\" sutununu dataframe olarak getirir"
   ]
  },
  {
   "cell_type": "code",
   "execution_count": 17,
   "id": "4b8f551c",
   "metadata": {},
   "outputs": [
    {
     "data": {
      "application/vnd.microsoft.datawrangler.viewer.v0+json": {
       "columns": [
        {
         "name": "index",
         "rawType": "int64",
         "type": "integer"
        },
        {
         "name": "Item",
         "rawType": "object",
         "type": "unknown"
        },
        {
         "name": "Quantity",
         "rawType": "object",
         "type": "unknown"
        },
        {
         "name": "Price Per Unit",
         "rawType": "object",
         "type": "unknown"
        },
        {
         "name": "Total Spent",
         "rawType": "object",
         "type": "unknown"
        }
       ],
       "ref": "d5a4e661-fdf6-4441-8ee5-2377bd61778f",
       "rows": [
        [
         "0",
         "Coffee",
         "2",
         "2.0",
         "4.0"
        ],
        [
         "1",
         "Cake",
         "4",
         "3.0",
         "12.0"
        ],
        [
         "2",
         "Cookie",
         "4",
         "1.0",
         "ERROR"
        ],
        [
         "3",
         "Salad",
         "2",
         "5.0",
         "10.0"
        ],
        [
         "4",
         "Coffee",
         "2",
         "2.0",
         "4.0"
        ],
        [
         "5",
         "Smoothie",
         "5",
         "4.0",
         "20.0"
        ],
        [
         "6",
         "UNKNOWN",
         "3",
         "3.0",
         "9.0"
        ],
        [
         "7",
         "Sandwich",
         "4",
         "4.0",
         "16.0"
        ],
        [
         "8",
         null,
         "5",
         "3.0",
         "15.0"
        ],
        [
         "9",
         "Sandwich",
         "5",
         "4.0",
         "20.0"
        ],
        [
         "10",
         "Salad",
         "5",
         "5.0",
         "25.0"
        ],
        [
         "11",
         "Sandwich",
         "2",
         "4.0",
         "8.0"
        ],
        [
         "12",
         "Sandwich",
         "2",
         "4.0",
         "8.0"
        ],
        [
         "13",
         "Cookie",
         "5",
         "1.0",
         "5.0"
        ],
        [
         "14",
         "ERROR",
         "2",
         "1.5",
         "3.0"
        ],
        [
         "15",
         "Salad",
         "3",
         "5.0",
         "15.0"
        ],
        [
         "16",
         "Sandwich",
         "1",
         "4.0",
         "4.0"
        ],
        [
         "17",
         "Juice",
         "2",
         "3.0",
         "6.0"
        ],
        [
         "18",
         "Cake",
         "5",
         "3.0",
         "15.0"
        ],
        [
         "19",
         "Juice",
         "4",
         "3.0",
         "12.0"
        ],
        [
         "20",
         "Smoothie",
         "ERROR",
         "4.0",
         "20.0"
        ],
        [
         "21",
         "Smoothie",
         "4",
         "4.0",
         "16.0"
        ],
        [
         "22",
         "Sandwich",
         "3",
         "4.0",
         "12.0"
        ],
        [
         "23",
         "Sandwich",
         "2",
         "4.0",
         "8.0"
        ],
        [
         "24",
         "Sandwich",
         "5",
         "4.0",
         "20.0"
        ],
        [
         "25",
         "Smoothie",
         "3",
         "4.0",
         null
        ],
        [
         "26",
         "Cookie",
         "5",
         "1.0",
         "5.0"
        ],
        [
         "27",
         "Juice",
         "4",
         "3.0",
         "12.0"
        ],
        [
         "28",
         "Smoothie",
         "5",
         "4.0",
         "20.0"
        ],
        [
         "29",
         "Cake",
         "4",
         "3.0",
         "12.0"
        ],
        [
         "30",
         null,
         "5",
         "2.0",
         "10.0"
        ],
        [
         "31",
         "UNKNOWN",
         "2",
         "1.0",
         "ERROR"
        ],
        [
         "32",
         "Smoothie",
         "4",
         "4.0",
         "16.0"
        ],
        [
         "33",
         "UNKNOWN",
         "5",
         "1.0",
         "5.0"
        ],
        [
         "34",
         "Smoothie",
         "2",
         "4.0",
         "8.0"
        ],
        [
         "35",
         "Sandwich",
         "1",
         "4.0",
         "4.0"
        ],
        [
         "36",
         "UNKNOWN",
         "4",
         "3.0",
         "12.0"
        ],
        [
         "37",
         "Salad",
         "2",
         "5.0",
         "10.0"
        ],
        [
         "38",
         "Smoothie",
         "4",
         "4.0",
         "16.0"
        ],
        [
         "39",
         "Coffee",
         "4",
         "2.0",
         "8.0"
        ],
        [
         "40",
         "Smoothie",
         "3",
         "4.0",
         "12.0"
        ],
        [
         "41",
         "Sandwich",
         "4",
         "4.0",
         "16.0"
        ],
        [
         "42",
         "Tea",
         "2",
         "1.5",
         "UNKNOWN"
        ],
        [
         "43",
         "Juice",
         "4",
         "3.0",
         "12.0"
        ],
        [
         "44",
         "Cookie",
         "2",
         "1.0",
         "2.0"
        ],
        [
         "45",
         "Salad",
         "3",
         "5.0",
         "15.0"
        ],
        [
         "46",
         "Juice",
         "4",
         "3.0",
         "12.0"
        ],
        [
         "47",
         "Juice",
         "5",
         "3.0",
         "15.0"
        ],
        [
         "48",
         "Juice",
         "5",
         "3.0",
         "15.0"
        ],
        [
         "49",
         "Cake",
         "3",
         "3.0",
         "9.0"
        ]
       ],
       "shape": {
        "columns": 4,
        "rows": 10000
       }
      },
      "text/html": [
       "<div>\n",
       "<style scoped>\n",
       "    .dataframe tbody tr th:only-of-type {\n",
       "        vertical-align: middle;\n",
       "    }\n",
       "\n",
       "    .dataframe tbody tr th {\n",
       "        vertical-align: top;\n",
       "    }\n",
       "\n",
       "    .dataframe thead th {\n",
       "        text-align: right;\n",
       "    }\n",
       "</style>\n",
       "<table border=\"1\" class=\"dataframe\">\n",
       "  <thead>\n",
       "    <tr style=\"text-align: right;\">\n",
       "      <th></th>\n",
       "      <th>Item</th>\n",
       "      <th>Quantity</th>\n",
       "      <th>Price Per Unit</th>\n",
       "      <th>Total Spent</th>\n",
       "    </tr>\n",
       "  </thead>\n",
       "  <tbody>\n",
       "    <tr>\n",
       "      <th>0</th>\n",
       "      <td>Coffee</td>\n",
       "      <td>2</td>\n",
       "      <td>2.0</td>\n",
       "      <td>4.0</td>\n",
       "    </tr>\n",
       "    <tr>\n",
       "      <th>1</th>\n",
       "      <td>Cake</td>\n",
       "      <td>4</td>\n",
       "      <td>3.0</td>\n",
       "      <td>12.0</td>\n",
       "    </tr>\n",
       "    <tr>\n",
       "      <th>2</th>\n",
       "      <td>Cookie</td>\n",
       "      <td>4</td>\n",
       "      <td>1.0</td>\n",
       "      <td>ERROR</td>\n",
       "    </tr>\n",
       "    <tr>\n",
       "      <th>3</th>\n",
       "      <td>Salad</td>\n",
       "      <td>2</td>\n",
       "      <td>5.0</td>\n",
       "      <td>10.0</td>\n",
       "    </tr>\n",
       "    <tr>\n",
       "      <th>4</th>\n",
       "      <td>Coffee</td>\n",
       "      <td>2</td>\n",
       "      <td>2.0</td>\n",
       "      <td>4.0</td>\n",
       "    </tr>\n",
       "    <tr>\n",
       "      <th>...</th>\n",
       "      <td>...</td>\n",
       "      <td>...</td>\n",
       "      <td>...</td>\n",
       "      <td>...</td>\n",
       "    </tr>\n",
       "    <tr>\n",
       "      <th>9995</th>\n",
       "      <td>Coffee</td>\n",
       "      <td>2</td>\n",
       "      <td>2.0</td>\n",
       "      <td>4.0</td>\n",
       "    </tr>\n",
       "    <tr>\n",
       "      <th>9996</th>\n",
       "      <td>NaN</td>\n",
       "      <td>3</td>\n",
       "      <td>NaN</td>\n",
       "      <td>3.0</td>\n",
       "    </tr>\n",
       "    <tr>\n",
       "      <th>9997</th>\n",
       "      <td>Coffee</td>\n",
       "      <td>4</td>\n",
       "      <td>2.0</td>\n",
       "      <td>8.0</td>\n",
       "    </tr>\n",
       "    <tr>\n",
       "      <th>9998</th>\n",
       "      <td>Cookie</td>\n",
       "      <td>3</td>\n",
       "      <td>NaN</td>\n",
       "      <td>3.0</td>\n",
       "    </tr>\n",
       "    <tr>\n",
       "      <th>9999</th>\n",
       "      <td>Sandwich</td>\n",
       "      <td>3</td>\n",
       "      <td>4.0</td>\n",
       "      <td>12.0</td>\n",
       "    </tr>\n",
       "  </tbody>\n",
       "</table>\n",
       "<p>10000 rows × 4 columns</p>\n",
       "</div>"
      ],
      "text/plain": [
       "          Item Quantity Price Per Unit Total Spent\n",
       "0       Coffee        2            2.0         4.0\n",
       "1         Cake        4            3.0        12.0\n",
       "2       Cookie        4            1.0       ERROR\n",
       "3        Salad        2            5.0        10.0\n",
       "4       Coffee        2            2.0         4.0\n",
       "...        ...      ...            ...         ...\n",
       "9995    Coffee        2            2.0         4.0\n",
       "9996       NaN        3            NaN         3.0\n",
       "9997    Coffee        4            2.0         8.0\n",
       "9998    Cookie        3            NaN         3.0\n",
       "9999  Sandwich        3            4.0        12.0\n",
       "\n",
       "[10000 rows x 4 columns]"
      ]
     },
     "execution_count": 17,
     "metadata": {},
     "output_type": "execute_result"
    }
   ],
   "source": [
    "df[[\"Item\", \"Quantity\", \"Price Per Unit\", \"Total Spent\"]] # birden fazla sutunu dataframe olarak getirir"
   ]
  },
  {
   "cell_type": "code",
   "execution_count": 18,
   "id": "01e6609e",
   "metadata": {},
   "outputs": [
    {
     "data": {
      "application/vnd.microsoft.datawrangler.viewer.v0+json": {
       "columns": [
        {
         "name": "index",
         "rawType": "int64",
         "type": "integer"
        },
        {
         "name": "0",
         "rawType": "float64",
         "type": "float"
        }
       ],
       "ref": "2a0744d0-1c3c-4b75-b3db-3879b1d2bd81",
       "rows": [
        [
         "0",
         "4.0"
        ],
        [
         "1",
         "12.0"
        ],
        [
         "2",
         "4.0"
        ],
        [
         "3",
         "10.0"
        ],
        [
         "4",
         "4.0"
        ]
       ],
       "shape": {
        "columns": 1,
        "rows": 5
       }
      },
      "text/plain": [
       "0     4.0\n",
       "1    12.0\n",
       "2     4.0\n",
       "3    10.0\n",
       "4     4.0\n",
       "dtype: float64"
      ]
     },
     "execution_count": 18,
     "metadata": {},
     "output_type": "execute_result"
    }
   ],
   "source": [
    "df[\"Quantity\"].head().astype(float) * df[\"Price Per Unit\"].head().astype(float) # iki sutunla islem yapma\n",
    "# astype(float) ile donusum yapmamizin nedeni bizim csv dosyasinda verilerin object (string) olarak okunmasi\n",
    "# eger sectigimiz satirlarda UNKNOWN vb. deger olursa hata verir"
   ]
  },
  {
   "cell_type": "code",
   "execution_count": 19,
   "id": "6ff036b8",
   "metadata": {},
   "outputs": [],
   "source": [
    "df[\"ilk_bes_satir_toplam\"] = df[\"Quantity\"].head().astype(float) * df[\"Price Per Unit\"].head().astype(float)"
   ]
  },
  {
   "cell_type": "code",
   "execution_count": 20,
   "id": "f725cf9b",
   "metadata": {},
   "outputs": [
    {
     "data": {
      "application/vnd.microsoft.datawrangler.viewer.v0+json": {
       "columns": [
        {
         "name": "index",
         "rawType": "int64",
         "type": "integer"
        },
        {
         "name": "Transaction ID",
         "rawType": "object",
         "type": "string"
        },
        {
         "name": "Item",
         "rawType": "object",
         "type": "unknown"
        },
        {
         "name": "Quantity",
         "rawType": "object",
         "type": "string"
        },
        {
         "name": "Price Per Unit",
         "rawType": "object",
         "type": "string"
        },
        {
         "name": "Total Spent",
         "rawType": "object",
         "type": "string"
        },
        {
         "name": "Payment Method",
         "rawType": "object",
         "type": "unknown"
        },
        {
         "name": "Location",
         "rawType": "object",
         "type": "unknown"
        },
        {
         "name": "Transaction Date",
         "rawType": "object",
         "type": "string"
        },
        {
         "name": "ilk_bes_satir_toplam",
         "rawType": "float64",
         "type": "float"
        }
       ],
       "ref": "c21909a2-beb3-425b-ac41-880aae517b7d",
       "rows": [
        [
         "0",
         "TXN_1961373",
         "Coffee",
         "2",
         "2.0",
         "4.0",
         "Credit Card",
         "Takeaway",
         "2023-09-08",
         "4.0"
        ],
        [
         "1",
         "TXN_4977031",
         "Cake",
         "4",
         "3.0",
         "12.0",
         "Cash",
         "In-store",
         "2023-05-16",
         "12.0"
        ],
        [
         "2",
         "TXN_4271903",
         "Cookie",
         "4",
         "1.0",
         "ERROR",
         "Credit Card",
         "In-store",
         "2023-07-19",
         "4.0"
        ],
        [
         "3",
         "TXN_7034554",
         "Salad",
         "2",
         "5.0",
         "10.0",
         "UNKNOWN",
         "UNKNOWN",
         "2023-04-27",
         "10.0"
        ],
        [
         "4",
         "TXN_3160411",
         "Coffee",
         "2",
         "2.0",
         "4.0",
         "Digital Wallet",
         "In-store",
         "2023-06-11",
         "4.0"
        ],
        [
         "5",
         "TXN_2602893",
         "Smoothie",
         "5",
         "4.0",
         "20.0",
         "Credit Card",
         null,
         "2023-03-31",
         null
        ],
        [
         "6",
         "TXN_4433211",
         "UNKNOWN",
         "3",
         "3.0",
         "9.0",
         "ERROR",
         "Takeaway",
         "2023-10-06",
         null
        ],
        [
         "7",
         "TXN_6699534",
         "Sandwich",
         "4",
         "4.0",
         "16.0",
         "Cash",
         "UNKNOWN",
         "2023-10-28",
         null
        ],
        [
         "8",
         "TXN_4717867",
         null,
         "5",
         "3.0",
         "15.0",
         null,
         "Takeaway",
         "2023-07-28",
         null
        ],
        [
         "9",
         "TXN_2064365",
         "Sandwich",
         "5",
         "4.0",
         "20.0",
         null,
         "In-store",
         "2023-12-31",
         null
        ]
       ],
       "shape": {
        "columns": 9,
        "rows": 10
       }
      },
      "text/html": [
       "<div>\n",
       "<style scoped>\n",
       "    .dataframe tbody tr th:only-of-type {\n",
       "        vertical-align: middle;\n",
       "    }\n",
       "\n",
       "    .dataframe tbody tr th {\n",
       "        vertical-align: top;\n",
       "    }\n",
       "\n",
       "    .dataframe thead th {\n",
       "        text-align: right;\n",
       "    }\n",
       "</style>\n",
       "<table border=\"1\" class=\"dataframe\">\n",
       "  <thead>\n",
       "    <tr style=\"text-align: right;\">\n",
       "      <th></th>\n",
       "      <th>Transaction ID</th>\n",
       "      <th>Item</th>\n",
       "      <th>Quantity</th>\n",
       "      <th>Price Per Unit</th>\n",
       "      <th>Total Spent</th>\n",
       "      <th>Payment Method</th>\n",
       "      <th>Location</th>\n",
       "      <th>Transaction Date</th>\n",
       "      <th>ilk_bes_satir_toplam</th>\n",
       "    </tr>\n",
       "  </thead>\n",
       "  <tbody>\n",
       "    <tr>\n",
       "      <th>0</th>\n",
       "      <td>TXN_1961373</td>\n",
       "      <td>Coffee</td>\n",
       "      <td>2</td>\n",
       "      <td>2.0</td>\n",
       "      <td>4.0</td>\n",
       "      <td>Credit Card</td>\n",
       "      <td>Takeaway</td>\n",
       "      <td>2023-09-08</td>\n",
       "      <td>4.0</td>\n",
       "    </tr>\n",
       "    <tr>\n",
       "      <th>1</th>\n",
       "      <td>TXN_4977031</td>\n",
       "      <td>Cake</td>\n",
       "      <td>4</td>\n",
       "      <td>3.0</td>\n",
       "      <td>12.0</td>\n",
       "      <td>Cash</td>\n",
       "      <td>In-store</td>\n",
       "      <td>2023-05-16</td>\n",
       "      <td>12.0</td>\n",
       "    </tr>\n",
       "    <tr>\n",
       "      <th>2</th>\n",
       "      <td>TXN_4271903</td>\n",
       "      <td>Cookie</td>\n",
       "      <td>4</td>\n",
       "      <td>1.0</td>\n",
       "      <td>ERROR</td>\n",
       "      <td>Credit Card</td>\n",
       "      <td>In-store</td>\n",
       "      <td>2023-07-19</td>\n",
       "      <td>4.0</td>\n",
       "    </tr>\n",
       "    <tr>\n",
       "      <th>3</th>\n",
       "      <td>TXN_7034554</td>\n",
       "      <td>Salad</td>\n",
       "      <td>2</td>\n",
       "      <td>5.0</td>\n",
       "      <td>10.0</td>\n",
       "      <td>UNKNOWN</td>\n",
       "      <td>UNKNOWN</td>\n",
       "      <td>2023-04-27</td>\n",
       "      <td>10.0</td>\n",
       "    </tr>\n",
       "    <tr>\n",
       "      <th>4</th>\n",
       "      <td>TXN_3160411</td>\n",
       "      <td>Coffee</td>\n",
       "      <td>2</td>\n",
       "      <td>2.0</td>\n",
       "      <td>4.0</td>\n",
       "      <td>Digital Wallet</td>\n",
       "      <td>In-store</td>\n",
       "      <td>2023-06-11</td>\n",
       "      <td>4.0</td>\n",
       "    </tr>\n",
       "    <tr>\n",
       "      <th>5</th>\n",
       "      <td>TXN_2602893</td>\n",
       "      <td>Smoothie</td>\n",
       "      <td>5</td>\n",
       "      <td>4.0</td>\n",
       "      <td>20.0</td>\n",
       "      <td>Credit Card</td>\n",
       "      <td>NaN</td>\n",
       "      <td>2023-03-31</td>\n",
       "      <td>NaN</td>\n",
       "    </tr>\n",
       "    <tr>\n",
       "      <th>6</th>\n",
       "      <td>TXN_4433211</td>\n",
       "      <td>UNKNOWN</td>\n",
       "      <td>3</td>\n",
       "      <td>3.0</td>\n",
       "      <td>9.0</td>\n",
       "      <td>ERROR</td>\n",
       "      <td>Takeaway</td>\n",
       "      <td>2023-10-06</td>\n",
       "      <td>NaN</td>\n",
       "    </tr>\n",
       "    <tr>\n",
       "      <th>7</th>\n",
       "      <td>TXN_6699534</td>\n",
       "      <td>Sandwich</td>\n",
       "      <td>4</td>\n",
       "      <td>4.0</td>\n",
       "      <td>16.0</td>\n",
       "      <td>Cash</td>\n",
       "      <td>UNKNOWN</td>\n",
       "      <td>2023-10-28</td>\n",
       "      <td>NaN</td>\n",
       "    </tr>\n",
       "    <tr>\n",
       "      <th>8</th>\n",
       "      <td>TXN_4717867</td>\n",
       "      <td>NaN</td>\n",
       "      <td>5</td>\n",
       "      <td>3.0</td>\n",
       "      <td>15.0</td>\n",
       "      <td>NaN</td>\n",
       "      <td>Takeaway</td>\n",
       "      <td>2023-07-28</td>\n",
       "      <td>NaN</td>\n",
       "    </tr>\n",
       "    <tr>\n",
       "      <th>9</th>\n",
       "      <td>TXN_2064365</td>\n",
       "      <td>Sandwich</td>\n",
       "      <td>5</td>\n",
       "      <td>4.0</td>\n",
       "      <td>20.0</td>\n",
       "      <td>NaN</td>\n",
       "      <td>In-store</td>\n",
       "      <td>2023-12-31</td>\n",
       "      <td>NaN</td>\n",
       "    </tr>\n",
       "  </tbody>\n",
       "</table>\n",
       "</div>"
      ],
      "text/plain": [
       "  Transaction ID      Item Quantity Price Per Unit Total Spent  \\\n",
       "0    TXN_1961373    Coffee        2            2.0         4.0   \n",
       "1    TXN_4977031      Cake        4            3.0        12.0   \n",
       "2    TXN_4271903    Cookie        4            1.0       ERROR   \n",
       "3    TXN_7034554     Salad        2            5.0        10.0   \n",
       "4    TXN_3160411    Coffee        2            2.0         4.0   \n",
       "5    TXN_2602893  Smoothie        5            4.0        20.0   \n",
       "6    TXN_4433211   UNKNOWN        3            3.0         9.0   \n",
       "7    TXN_6699534  Sandwich        4            4.0        16.0   \n",
       "8    TXN_4717867       NaN        5            3.0        15.0   \n",
       "9    TXN_2064365  Sandwich        5            4.0        20.0   \n",
       "\n",
       "   Payment Method  Location Transaction Date  ilk_bes_satir_toplam  \n",
       "0     Credit Card  Takeaway       2023-09-08                   4.0  \n",
       "1            Cash  In-store       2023-05-16                  12.0  \n",
       "2     Credit Card  In-store       2023-07-19                   4.0  \n",
       "3         UNKNOWN   UNKNOWN       2023-04-27                  10.0  \n",
       "4  Digital Wallet  In-store       2023-06-11                   4.0  \n",
       "5     Credit Card       NaN       2023-03-31                   NaN  \n",
       "6           ERROR  Takeaway       2023-10-06                   NaN  \n",
       "7            Cash   UNKNOWN       2023-10-28                   NaN  \n",
       "8             NaN  Takeaway       2023-07-28                   NaN  \n",
       "9             NaN  In-store       2023-12-31                   NaN  "
      ]
     },
     "execution_count": 20,
     "metadata": {},
     "output_type": "execute_result"
    }
   ],
   "source": [
    "df.head(10)"
   ]
  },
  {
   "cell_type": "code",
   "execution_count": 21,
   "id": "f90890c6",
   "metadata": {},
   "outputs": [
    {
     "data": {
      "application/vnd.microsoft.datawrangler.viewer.v0+json": {
       "columns": [
        {
         "name": "index",
         "rawType": "int64",
         "type": "integer"
        },
        {
         "name": "Transaction ID",
         "rawType": "object",
         "type": "string"
        },
        {
         "name": "Item",
         "rawType": "object",
         "type": "unknown"
        },
        {
         "name": "Quantity",
         "rawType": "object",
         "type": "unknown"
        },
        {
         "name": "Price Per Unit",
         "rawType": "object",
         "type": "unknown"
        },
        {
         "name": "Total Spent",
         "rawType": "object",
         "type": "unknown"
        },
        {
         "name": "Payment Method",
         "rawType": "object",
         "type": "unknown"
        },
        {
         "name": "Location",
         "rawType": "object",
         "type": "unknown"
        },
        {
         "name": "Transaction Date",
         "rawType": "object",
         "type": "unknown"
        }
       ],
       "ref": "7e9cf92a-80fd-44a4-9e94-f940f8845fb8",
       "rows": [
        [
         "0",
         "TXN_1961373",
         "Coffee",
         "2",
         "2.0",
         "4.0",
         "Credit Card",
         "Takeaway",
         "2023-09-08"
        ],
        [
         "1",
         "TXN_4977031",
         "Cake",
         "4",
         "3.0",
         "12.0",
         "Cash",
         "In-store",
         "2023-05-16"
        ],
        [
         "2",
         "TXN_4271903",
         "Cookie",
         "4",
         "1.0",
         "ERROR",
         "Credit Card",
         "In-store",
         "2023-07-19"
        ],
        [
         "3",
         "TXN_7034554",
         "Salad",
         "2",
         "5.0",
         "10.0",
         "UNKNOWN",
         "UNKNOWN",
         "2023-04-27"
        ],
        [
         "4",
         "TXN_3160411",
         "Coffee",
         "2",
         "2.0",
         "4.0",
         "Digital Wallet",
         "In-store",
         "2023-06-11"
        ],
        [
         "5",
         "TXN_2602893",
         "Smoothie",
         "5",
         "4.0",
         "20.0",
         "Credit Card",
         null,
         "2023-03-31"
        ],
        [
         "6",
         "TXN_4433211",
         "UNKNOWN",
         "3",
         "3.0",
         "9.0",
         "ERROR",
         "Takeaway",
         "2023-10-06"
        ],
        [
         "7",
         "TXN_6699534",
         "Sandwich",
         "4",
         "4.0",
         "16.0",
         "Cash",
         "UNKNOWN",
         "2023-10-28"
        ],
        [
         "8",
         "TXN_4717867",
         null,
         "5",
         "3.0",
         "15.0",
         null,
         "Takeaway",
         "2023-07-28"
        ],
        [
         "9",
         "TXN_2064365",
         "Sandwich",
         "5",
         "4.0",
         "20.0",
         null,
         "In-store",
         "2023-12-31"
        ],
        [
         "10",
         "TXN_2548360",
         "Salad",
         "5",
         "5.0",
         "25.0",
         "Cash",
         "Takeaway",
         "2023-11-07"
        ],
        [
         "11",
         "TXN_3051279",
         "Sandwich",
         "2",
         "4.0",
         "8.0",
         "Credit Card",
         "Takeaway",
         "ERROR"
        ],
        [
         "12",
         "TXN_7619095",
         "Sandwich",
         "2",
         "4.0",
         "8.0",
         "Cash",
         "In-store",
         "2023-05-03"
        ],
        [
         "13",
         "TXN_9437049",
         "Cookie",
         "5",
         "1.0",
         "5.0",
         null,
         "Takeaway",
         "2023-06-01"
        ],
        [
         "14",
         "TXN_8915701",
         "ERROR",
         "2",
         "1.5",
         "3.0",
         null,
         "In-store",
         "2023-03-21"
        ],
        [
         "15",
         "TXN_2847255",
         "Salad",
         "3",
         "5.0",
         "15.0",
         "Credit Card",
         "In-store",
         "2023-11-15"
        ],
        [
         "16",
         "TXN_3765707",
         "Sandwich",
         "1",
         "4.0",
         "4.0",
         null,
         null,
         "2023-06-10"
        ],
        [
         "17",
         "TXN_6769710",
         "Juice",
         "2",
         "3.0",
         "6.0",
         "Cash",
         "In-store",
         "2023-02-24"
        ],
        [
         "18",
         "TXN_8876618",
         "Cake",
         "5",
         "3.0",
         "15.0",
         "Cash",
         "ERROR",
         "2023-03-25"
        ],
        [
         "19",
         "TXN_3709394",
         "Juice",
         "4",
         "3.0",
         "12.0",
         "Cash",
         "Takeaway",
         "2023-01-15"
        ],
        [
         "20",
         "TXN_3522028",
         "Smoothie",
         "ERROR",
         "4.0",
         "20.0",
         "Cash",
         "In-store",
         "2023-04-04"
        ],
        [
         "21",
         "TXN_3567645",
         "Smoothie",
         "4",
         "4.0",
         "16.0",
         "Credit Card",
         "Takeaway",
         "2023-03-30"
        ],
        [
         "22",
         "TXN_5132361",
         "Sandwich",
         "3",
         "4.0",
         "12.0",
         "Digital Wallet",
         "Takeaway",
         "2023-12-01"
        ],
        [
         "23",
         "TXN_2616390",
         "Sandwich",
         "2",
         "4.0",
         "8.0",
         null,
         null,
         "2023-09-18"
        ],
        [
         "24",
         "TXN_9400181",
         "Sandwich",
         "5",
         "4.0",
         "20.0",
         "Cash",
         "In-store",
         "2023-06-03"
        ],
        [
         "25",
         "TXN_7958992",
         "Smoothie",
         "3",
         "4.0",
         null,
         "UNKNOWN",
         "UNKNOWN",
         "2023-12-13"
        ],
        [
         "26",
         "TXN_5183041",
         "Cookie",
         "5",
         "1.0",
         "5.0",
         "Credit Card",
         "In-store",
         "2023-04-20"
        ],
        [
         "27",
         "TXN_5695074",
         "Juice",
         "4",
         "3.0",
         "12.0",
         "Credit Card",
         "Takeaway",
         "2023-04-10"
        ],
        [
         "28",
         "TXN_8467949",
         "Smoothie",
         "5",
         "4.0",
         "20.0",
         "Credit Card",
         null,
         "2023-03-11"
        ],
        [
         "29",
         "TXN_7640952",
         "Cake",
         "4",
         "3.0",
         "12.0",
         "Digital Wallet",
         "Takeaway",
         "ERROR"
        ],
        [
         "30",
         "TXN_1736287",
         null,
         "5",
         "2.0",
         "10.0",
         "Digital Wallet",
         null,
         "2023-06-02"
        ],
        [
         "31",
         "TXN_8927252",
         "UNKNOWN",
         "2",
         "1.0",
         "ERROR",
         "Credit Card",
         "ERROR",
         "2023-11-06"
        ],
        [
         "32",
         "TXN_9677376",
         "Smoothie",
         "4",
         "4.0",
         "16.0",
         null,
         "In-store",
         "2023-08-15"
        ],
        [
         "33",
         "TXN_7710508",
         "UNKNOWN",
         "5",
         "1.0",
         "5.0",
         "Cash",
         null,
         "ERROR"
        ],
        [
         "34",
         "TXN_8853997",
         "Smoothie",
         "2",
         "4.0",
         "8.0",
         "Digital Wallet",
         "Takeaway",
         "2023-10-09"
        ],
        [
         "35",
         "TXN_9130559",
         "Sandwich",
         "1",
         "4.0",
         "4.0",
         "Credit Card",
         "UNKNOWN",
         "2023-05-28"
        ],
        [
         "36",
         "TXN_6855453",
         "UNKNOWN",
         "4",
         "3.0",
         "12.0",
         null,
         "In-store",
         "2023-07-17"
        ],
        [
         "37",
         "TXN_1080432",
         "Salad",
         "2",
         "5.0",
         "10.0",
         "Credit Card",
         "In-store",
         "2023-04-29"
        ],
        [
         "38",
         "TXN_2655815",
         "Smoothie",
         "4",
         "4.0",
         "16.0",
         null,
         "Takeaway",
         "2023-06-08"
        ],
        [
         "39",
         "TXN_6688524",
         "Coffee",
         "4",
         "2.0",
         "8.0",
         "ERROR",
         null,
         "2023-06-29"
        ],
        [
         "40",
         "TXN_2083138",
         "Smoothie",
         "3",
         "4.0",
         "12.0",
         null,
         "In-store",
         "2023-04-17"
        ],
        [
         "41",
         "TXN_2427584",
         "Sandwich",
         "4",
         "4.0",
         "16.0",
         null,
         "Takeaway",
         "2023-12-22"
        ],
        [
         "42",
         "TXN_6650263",
         "Tea",
         "2",
         "1.5",
         "UNKNOWN",
         null,
         "Takeaway",
         "2023-01-10"
        ],
        [
         "43",
         "TXN_9620080",
         "Juice",
         "4",
         "3.0",
         "12.0",
         null,
         "Takeaway",
         "2023-10-02"
        ],
        [
         "44",
         "TXN_1491578",
         "Cookie",
         "2",
         "1.0",
         "2.0",
         null,
         null,
         "2023-02-23"
        ],
        [
         "45",
         "TXN_5455792",
         "Salad",
         "3",
         "5.0",
         "15.0",
         "Cash",
         null,
         "2023-03-22"
        ],
        [
         "46",
         "TXN_8078640",
         "Juice",
         "4",
         "3.0",
         "12.0",
         "Digital Wallet",
         "In-store",
         "2023-11-03"
        ],
        [
         "47",
         "TXN_9499313",
         "Juice",
         "5",
         "3.0",
         "15.0",
         null,
         null,
         "2023-03-02"
        ],
        [
         "48",
         "TXN_8201146",
         "Juice",
         "5",
         "3.0",
         "15.0",
         "Cash",
         null,
         "2023-06-26"
        ],
        [
         "49",
         "TXN_8230936",
         "Cake",
         "3",
         "3.0",
         "9.0",
         null,
         "ERROR",
         "2023-05-02"
        ]
       ],
       "shape": {
        "columns": 8,
        "rows": 10000
       }
      },
      "text/html": [
       "<div>\n",
       "<style scoped>\n",
       "    .dataframe tbody tr th:only-of-type {\n",
       "        vertical-align: middle;\n",
       "    }\n",
       "\n",
       "    .dataframe tbody tr th {\n",
       "        vertical-align: top;\n",
       "    }\n",
       "\n",
       "    .dataframe thead th {\n",
       "        text-align: right;\n",
       "    }\n",
       "</style>\n",
       "<table border=\"1\" class=\"dataframe\">\n",
       "  <thead>\n",
       "    <tr style=\"text-align: right;\">\n",
       "      <th></th>\n",
       "      <th>Transaction ID</th>\n",
       "      <th>Item</th>\n",
       "      <th>Quantity</th>\n",
       "      <th>Price Per Unit</th>\n",
       "      <th>Total Spent</th>\n",
       "      <th>Payment Method</th>\n",
       "      <th>Location</th>\n",
       "      <th>Transaction Date</th>\n",
       "    </tr>\n",
       "  </thead>\n",
       "  <tbody>\n",
       "    <tr>\n",
       "      <th>0</th>\n",
       "      <td>TXN_1961373</td>\n",
       "      <td>Coffee</td>\n",
       "      <td>2</td>\n",
       "      <td>2.0</td>\n",
       "      <td>4.0</td>\n",
       "      <td>Credit Card</td>\n",
       "      <td>Takeaway</td>\n",
       "      <td>2023-09-08</td>\n",
       "    </tr>\n",
       "    <tr>\n",
       "      <th>1</th>\n",
       "      <td>TXN_4977031</td>\n",
       "      <td>Cake</td>\n",
       "      <td>4</td>\n",
       "      <td>3.0</td>\n",
       "      <td>12.0</td>\n",
       "      <td>Cash</td>\n",
       "      <td>In-store</td>\n",
       "      <td>2023-05-16</td>\n",
       "    </tr>\n",
       "    <tr>\n",
       "      <th>2</th>\n",
       "      <td>TXN_4271903</td>\n",
       "      <td>Cookie</td>\n",
       "      <td>4</td>\n",
       "      <td>1.0</td>\n",
       "      <td>ERROR</td>\n",
       "      <td>Credit Card</td>\n",
       "      <td>In-store</td>\n",
       "      <td>2023-07-19</td>\n",
       "    </tr>\n",
       "    <tr>\n",
       "      <th>3</th>\n",
       "      <td>TXN_7034554</td>\n",
       "      <td>Salad</td>\n",
       "      <td>2</td>\n",
       "      <td>5.0</td>\n",
       "      <td>10.0</td>\n",
       "      <td>UNKNOWN</td>\n",
       "      <td>UNKNOWN</td>\n",
       "      <td>2023-04-27</td>\n",
       "    </tr>\n",
       "    <tr>\n",
       "      <th>4</th>\n",
       "      <td>TXN_3160411</td>\n",
       "      <td>Coffee</td>\n",
       "      <td>2</td>\n",
       "      <td>2.0</td>\n",
       "      <td>4.0</td>\n",
       "      <td>Digital Wallet</td>\n",
       "      <td>In-store</td>\n",
       "      <td>2023-06-11</td>\n",
       "    </tr>\n",
       "    <tr>\n",
       "      <th>...</th>\n",
       "      <td>...</td>\n",
       "      <td>...</td>\n",
       "      <td>...</td>\n",
       "      <td>...</td>\n",
       "      <td>...</td>\n",
       "      <td>...</td>\n",
       "      <td>...</td>\n",
       "      <td>...</td>\n",
       "    </tr>\n",
       "    <tr>\n",
       "      <th>9995</th>\n",
       "      <td>TXN_7672686</td>\n",
       "      <td>Coffee</td>\n",
       "      <td>2</td>\n",
       "      <td>2.0</td>\n",
       "      <td>4.0</td>\n",
       "      <td>NaN</td>\n",
       "      <td>UNKNOWN</td>\n",
       "      <td>2023-08-30</td>\n",
       "    </tr>\n",
       "    <tr>\n",
       "      <th>9996</th>\n",
       "      <td>TXN_9659401</td>\n",
       "      <td>NaN</td>\n",
       "      <td>3</td>\n",
       "      <td>NaN</td>\n",
       "      <td>3.0</td>\n",
       "      <td>Digital Wallet</td>\n",
       "      <td>NaN</td>\n",
       "      <td>2023-06-02</td>\n",
       "    </tr>\n",
       "    <tr>\n",
       "      <th>9997</th>\n",
       "      <td>TXN_5255387</td>\n",
       "      <td>Coffee</td>\n",
       "      <td>4</td>\n",
       "      <td>2.0</td>\n",
       "      <td>8.0</td>\n",
       "      <td>Digital Wallet</td>\n",
       "      <td>NaN</td>\n",
       "      <td>2023-03-02</td>\n",
       "    </tr>\n",
       "    <tr>\n",
       "      <th>9998</th>\n",
       "      <td>TXN_7695629</td>\n",
       "      <td>Cookie</td>\n",
       "      <td>3</td>\n",
       "      <td>NaN</td>\n",
       "      <td>3.0</td>\n",
       "      <td>Digital Wallet</td>\n",
       "      <td>NaN</td>\n",
       "      <td>2023-12-02</td>\n",
       "    </tr>\n",
       "    <tr>\n",
       "      <th>9999</th>\n",
       "      <td>TXN_6170729</td>\n",
       "      <td>Sandwich</td>\n",
       "      <td>3</td>\n",
       "      <td>4.0</td>\n",
       "      <td>12.0</td>\n",
       "      <td>Cash</td>\n",
       "      <td>In-store</td>\n",
       "      <td>2023-11-07</td>\n",
       "    </tr>\n",
       "  </tbody>\n",
       "</table>\n",
       "<p>10000 rows × 8 columns</p>\n",
       "</div>"
      ],
      "text/plain": [
       "     Transaction ID      Item Quantity Price Per Unit Total Spent  \\\n",
       "0       TXN_1961373    Coffee        2            2.0         4.0   \n",
       "1       TXN_4977031      Cake        4            3.0        12.0   \n",
       "2       TXN_4271903    Cookie        4            1.0       ERROR   \n",
       "3       TXN_7034554     Salad        2            5.0        10.0   \n",
       "4       TXN_3160411    Coffee        2            2.0         4.0   \n",
       "...             ...       ...      ...            ...         ...   \n",
       "9995    TXN_7672686    Coffee        2            2.0         4.0   \n",
       "9996    TXN_9659401       NaN        3            NaN         3.0   \n",
       "9997    TXN_5255387    Coffee        4            2.0         8.0   \n",
       "9998    TXN_7695629    Cookie        3            NaN         3.0   \n",
       "9999    TXN_6170729  Sandwich        3            4.0        12.0   \n",
       "\n",
       "      Payment Method  Location Transaction Date  \n",
       "0        Credit Card  Takeaway       2023-09-08  \n",
       "1               Cash  In-store       2023-05-16  \n",
       "2        Credit Card  In-store       2023-07-19  \n",
       "3            UNKNOWN   UNKNOWN       2023-04-27  \n",
       "4     Digital Wallet  In-store       2023-06-11  \n",
       "...              ...       ...              ...  \n",
       "9995             NaN   UNKNOWN       2023-08-30  \n",
       "9996  Digital Wallet       NaN       2023-06-02  \n",
       "9997  Digital Wallet       NaN       2023-03-02  \n",
       "9998  Digital Wallet       NaN       2023-12-02  \n",
       "9999            Cash  In-store       2023-11-07  \n",
       "\n",
       "[10000 rows x 8 columns]"
      ]
     },
     "execution_count": 21,
     "metadata": {},
     "output_type": "execute_result"
    }
   ],
   "source": [
    "df.drop(\"ilk_bes_satir_toplam\", axis = 1) # belirtilen sutunu siler (kalici degildir), axis=1 sutun islemi oldugunu belirtir\n",
    "# df.drop(\"ilk_bes_satir_toplam\", axis = 1, inplace=True) # inplace = True --> kalici silme islemi yapar"
   ]
  },
  {
   "cell_type": "code",
   "execution_count": 22,
   "id": "26725b28",
   "metadata": {},
   "outputs": [
    {
     "data": {
      "application/vnd.microsoft.datawrangler.viewer.v0+json": {
       "columns": [
        {
         "name": "index",
         "rawType": "int64",
         "type": "integer"
        },
        {
         "name": "Transaction ID",
         "rawType": "object",
         "type": "string"
        },
        {
         "name": "Item",
         "rawType": "object",
         "type": "string"
        },
        {
         "name": "Quantity",
         "rawType": "object",
         "type": "string"
        },
        {
         "name": "Price Per Unit",
         "rawType": "object",
         "type": "string"
        },
        {
         "name": "Total Spent",
         "rawType": "object",
         "type": "string"
        },
        {
         "name": "Payment Method",
         "rawType": "object",
         "type": "string"
        },
        {
         "name": "Location",
         "rawType": "object",
         "type": "string"
        },
        {
         "name": "Transaction Date",
         "rawType": "object",
         "type": "string"
        },
        {
         "name": "ilk_bes_satir_toplam",
         "rawType": "float64",
         "type": "float"
        }
       ],
       "ref": "0c9ca781-9f35-482c-af36-e7a27fdd214e",
       "rows": [
        [
         "0",
         "TXN_1961373",
         "Coffee",
         "2",
         "2.0",
         "4.0",
         "Credit Card",
         "Takeaway",
         "2023-09-08",
         "4.0"
        ],
        [
         "1",
         "TXN_4977031",
         "Cake",
         "4",
         "3.0",
         "12.0",
         "Cash",
         "In-store",
         "2023-05-16",
         "12.0"
        ],
        [
         "2",
         "TXN_4271903",
         "Cookie",
         "4",
         "1.0",
         "ERROR",
         "Credit Card",
         "In-store",
         "2023-07-19",
         "4.0"
        ],
        [
         "3",
         "TXN_7034554",
         "Salad",
         "2",
         "5.0",
         "10.0",
         "UNKNOWN",
         "UNKNOWN",
         "2023-04-27",
         "10.0"
        ],
        [
         "4",
         "TXN_3160411",
         "Coffee",
         "2",
         "2.0",
         "4.0",
         "Digital Wallet",
         "In-store",
         "2023-06-11",
         "4.0"
        ]
       ],
       "shape": {
        "columns": 9,
        "rows": 5
       }
      },
      "text/html": [
       "<div>\n",
       "<style scoped>\n",
       "    .dataframe tbody tr th:only-of-type {\n",
       "        vertical-align: middle;\n",
       "    }\n",
       "\n",
       "    .dataframe tbody tr th {\n",
       "        vertical-align: top;\n",
       "    }\n",
       "\n",
       "    .dataframe thead th {\n",
       "        text-align: right;\n",
       "    }\n",
       "</style>\n",
       "<table border=\"1\" class=\"dataframe\">\n",
       "  <thead>\n",
       "    <tr style=\"text-align: right;\">\n",
       "      <th></th>\n",
       "      <th>Transaction ID</th>\n",
       "      <th>Item</th>\n",
       "      <th>Quantity</th>\n",
       "      <th>Price Per Unit</th>\n",
       "      <th>Total Spent</th>\n",
       "      <th>Payment Method</th>\n",
       "      <th>Location</th>\n",
       "      <th>Transaction Date</th>\n",
       "      <th>ilk_bes_satir_toplam</th>\n",
       "    </tr>\n",
       "  </thead>\n",
       "  <tbody>\n",
       "    <tr>\n",
       "      <th>0</th>\n",
       "      <td>TXN_1961373</td>\n",
       "      <td>Coffee</td>\n",
       "      <td>2</td>\n",
       "      <td>2.0</td>\n",
       "      <td>4.0</td>\n",
       "      <td>Credit Card</td>\n",
       "      <td>Takeaway</td>\n",
       "      <td>2023-09-08</td>\n",
       "      <td>4.0</td>\n",
       "    </tr>\n",
       "    <tr>\n",
       "      <th>1</th>\n",
       "      <td>TXN_4977031</td>\n",
       "      <td>Cake</td>\n",
       "      <td>4</td>\n",
       "      <td>3.0</td>\n",
       "      <td>12.0</td>\n",
       "      <td>Cash</td>\n",
       "      <td>In-store</td>\n",
       "      <td>2023-05-16</td>\n",
       "      <td>12.0</td>\n",
       "    </tr>\n",
       "    <tr>\n",
       "      <th>2</th>\n",
       "      <td>TXN_4271903</td>\n",
       "      <td>Cookie</td>\n",
       "      <td>4</td>\n",
       "      <td>1.0</td>\n",
       "      <td>ERROR</td>\n",
       "      <td>Credit Card</td>\n",
       "      <td>In-store</td>\n",
       "      <td>2023-07-19</td>\n",
       "      <td>4.0</td>\n",
       "    </tr>\n",
       "    <tr>\n",
       "      <th>3</th>\n",
       "      <td>TXN_7034554</td>\n",
       "      <td>Salad</td>\n",
       "      <td>2</td>\n",
       "      <td>5.0</td>\n",
       "      <td>10.0</td>\n",
       "      <td>UNKNOWN</td>\n",
       "      <td>UNKNOWN</td>\n",
       "      <td>2023-04-27</td>\n",
       "      <td>10.0</td>\n",
       "    </tr>\n",
       "    <tr>\n",
       "      <th>4</th>\n",
       "      <td>TXN_3160411</td>\n",
       "      <td>Coffee</td>\n",
       "      <td>2</td>\n",
       "      <td>2.0</td>\n",
       "      <td>4.0</td>\n",
       "      <td>Digital Wallet</td>\n",
       "      <td>In-store</td>\n",
       "      <td>2023-06-11</td>\n",
       "      <td>4.0</td>\n",
       "    </tr>\n",
       "  </tbody>\n",
       "</table>\n",
       "</div>"
      ],
      "text/plain": [
       "  Transaction ID    Item Quantity Price Per Unit Total Spent  Payment Method  \\\n",
       "0    TXN_1961373  Coffee        2            2.0         4.0     Credit Card   \n",
       "1    TXN_4977031    Cake        4            3.0        12.0            Cash   \n",
       "2    TXN_4271903  Cookie        4            1.0       ERROR     Credit Card   \n",
       "3    TXN_7034554   Salad        2            5.0        10.0         UNKNOWN   \n",
       "4    TXN_3160411  Coffee        2            2.0         4.0  Digital Wallet   \n",
       "\n",
       "   Location Transaction Date  ilk_bes_satir_toplam  \n",
       "0  Takeaway       2023-09-08                   4.0  \n",
       "1  In-store       2023-05-16                  12.0  \n",
       "2  In-store       2023-07-19                   4.0  \n",
       "3   UNKNOWN       2023-04-27                  10.0  \n",
       "4  In-store       2023-06-11                   4.0  "
      ]
     },
     "execution_count": 22,
     "metadata": {},
     "output_type": "execute_result"
    }
   ],
   "source": [
    "df.head()"
   ]
  },
  {
   "cell_type": "code",
   "execution_count": 23,
   "id": "8ee67a89",
   "metadata": {},
   "outputs": [
    {
     "data": {
      "application/vnd.microsoft.datawrangler.viewer.v0+json": {
       "columns": [
        {
         "name": "index",
         "rawType": "int64",
         "type": "integer"
        },
        {
         "name": "Transaction ID",
         "rawType": "object",
         "type": "string"
        },
        {
         "name": "Price Per Unit",
         "rawType": "object",
         "type": "unknown"
        },
        {
         "name": "Total Spent",
         "rawType": "object",
         "type": "unknown"
        },
        {
         "name": "Payment Method",
         "rawType": "object",
         "type": "unknown"
        },
        {
         "name": "Location",
         "rawType": "object",
         "type": "unknown"
        },
        {
         "name": "Transaction Date",
         "rawType": "object",
         "type": "unknown"
        },
        {
         "name": "ilk_bes_satir_toplam",
         "rawType": "float64",
         "type": "float"
        }
       ],
       "ref": "c387e4bc-1de8-4d3d-95a0-cd26a53bb386",
       "rows": [
        [
         "0",
         "TXN_1961373",
         "2.0",
         "4.0",
         "Credit Card",
         "Takeaway",
         "2023-09-08",
         "4.0"
        ],
        [
         "1",
         "TXN_4977031",
         "3.0",
         "12.0",
         "Cash",
         "In-store",
         "2023-05-16",
         "12.0"
        ],
        [
         "2",
         "TXN_4271903",
         "1.0",
         "ERROR",
         "Credit Card",
         "In-store",
         "2023-07-19",
         "4.0"
        ],
        [
         "3",
         "TXN_7034554",
         "5.0",
         "10.0",
         "UNKNOWN",
         "UNKNOWN",
         "2023-04-27",
         "10.0"
        ],
        [
         "4",
         "TXN_3160411",
         "2.0",
         "4.0",
         "Digital Wallet",
         "In-store",
         "2023-06-11",
         "4.0"
        ],
        [
         "5",
         "TXN_2602893",
         "4.0",
         "20.0",
         "Credit Card",
         null,
         "2023-03-31",
         null
        ],
        [
         "6",
         "TXN_4433211",
         "3.0",
         "9.0",
         "ERROR",
         "Takeaway",
         "2023-10-06",
         null
        ],
        [
         "7",
         "TXN_6699534",
         "4.0",
         "16.0",
         "Cash",
         "UNKNOWN",
         "2023-10-28",
         null
        ],
        [
         "8",
         "TXN_4717867",
         "3.0",
         "15.0",
         null,
         "Takeaway",
         "2023-07-28",
         null
        ],
        [
         "9",
         "TXN_2064365",
         "4.0",
         "20.0",
         null,
         "In-store",
         "2023-12-31",
         null
        ],
        [
         "10",
         "TXN_2548360",
         "5.0",
         "25.0",
         "Cash",
         "Takeaway",
         "2023-11-07",
         null
        ],
        [
         "11",
         "TXN_3051279",
         "4.0",
         "8.0",
         "Credit Card",
         "Takeaway",
         "ERROR",
         null
        ],
        [
         "12",
         "TXN_7619095",
         "4.0",
         "8.0",
         "Cash",
         "In-store",
         "2023-05-03",
         null
        ],
        [
         "13",
         "TXN_9437049",
         "1.0",
         "5.0",
         null,
         "Takeaway",
         "2023-06-01",
         null
        ],
        [
         "14",
         "TXN_8915701",
         "1.5",
         "3.0",
         null,
         "In-store",
         "2023-03-21",
         null
        ],
        [
         "15",
         "TXN_2847255",
         "5.0",
         "15.0",
         "Credit Card",
         "In-store",
         "2023-11-15",
         null
        ],
        [
         "16",
         "TXN_3765707",
         "4.0",
         "4.0",
         null,
         null,
         "2023-06-10",
         null
        ],
        [
         "17",
         "TXN_6769710",
         "3.0",
         "6.0",
         "Cash",
         "In-store",
         "2023-02-24",
         null
        ],
        [
         "18",
         "TXN_8876618",
         "3.0",
         "15.0",
         "Cash",
         "ERROR",
         "2023-03-25",
         null
        ],
        [
         "19",
         "TXN_3709394",
         "3.0",
         "12.0",
         "Cash",
         "Takeaway",
         "2023-01-15",
         null
        ],
        [
         "20",
         "TXN_3522028",
         "4.0",
         "20.0",
         "Cash",
         "In-store",
         "2023-04-04",
         null
        ],
        [
         "21",
         "TXN_3567645",
         "4.0",
         "16.0",
         "Credit Card",
         "Takeaway",
         "2023-03-30",
         null
        ],
        [
         "22",
         "TXN_5132361",
         "4.0",
         "12.0",
         "Digital Wallet",
         "Takeaway",
         "2023-12-01",
         null
        ],
        [
         "23",
         "TXN_2616390",
         "4.0",
         "8.0",
         null,
         null,
         "2023-09-18",
         null
        ],
        [
         "24",
         "TXN_9400181",
         "4.0",
         "20.0",
         "Cash",
         "In-store",
         "2023-06-03",
         null
        ],
        [
         "25",
         "TXN_7958992",
         "4.0",
         null,
         "UNKNOWN",
         "UNKNOWN",
         "2023-12-13",
         null
        ],
        [
         "26",
         "TXN_5183041",
         "1.0",
         "5.0",
         "Credit Card",
         "In-store",
         "2023-04-20",
         null
        ],
        [
         "27",
         "TXN_5695074",
         "3.0",
         "12.0",
         "Credit Card",
         "Takeaway",
         "2023-04-10",
         null
        ],
        [
         "28",
         "TXN_8467949",
         "4.0",
         "20.0",
         "Credit Card",
         null,
         "2023-03-11",
         null
        ],
        [
         "29",
         "TXN_7640952",
         "3.0",
         "12.0",
         "Digital Wallet",
         "Takeaway",
         "ERROR",
         null
        ],
        [
         "30",
         "TXN_1736287",
         "2.0",
         "10.0",
         "Digital Wallet",
         null,
         "2023-06-02",
         null
        ],
        [
         "31",
         "TXN_8927252",
         "1.0",
         "ERROR",
         "Credit Card",
         "ERROR",
         "2023-11-06",
         null
        ],
        [
         "32",
         "TXN_9677376",
         "4.0",
         "16.0",
         null,
         "In-store",
         "2023-08-15",
         null
        ],
        [
         "33",
         "TXN_7710508",
         "1.0",
         "5.0",
         "Cash",
         null,
         "ERROR",
         null
        ],
        [
         "34",
         "TXN_8853997",
         "4.0",
         "8.0",
         "Digital Wallet",
         "Takeaway",
         "2023-10-09",
         null
        ],
        [
         "35",
         "TXN_9130559",
         "4.0",
         "4.0",
         "Credit Card",
         "UNKNOWN",
         "2023-05-28",
         null
        ],
        [
         "36",
         "TXN_6855453",
         "3.0",
         "12.0",
         null,
         "In-store",
         "2023-07-17",
         null
        ],
        [
         "37",
         "TXN_1080432",
         "5.0",
         "10.0",
         "Credit Card",
         "In-store",
         "2023-04-29",
         null
        ],
        [
         "38",
         "TXN_2655815",
         "4.0",
         "16.0",
         null,
         "Takeaway",
         "2023-06-08",
         null
        ],
        [
         "39",
         "TXN_6688524",
         "2.0",
         "8.0",
         "ERROR",
         null,
         "2023-06-29",
         null
        ],
        [
         "40",
         "TXN_2083138",
         "4.0",
         "12.0",
         null,
         "In-store",
         "2023-04-17",
         null
        ],
        [
         "41",
         "TXN_2427584",
         "4.0",
         "16.0",
         null,
         "Takeaway",
         "2023-12-22",
         null
        ],
        [
         "42",
         "TXN_6650263",
         "1.5",
         "UNKNOWN",
         null,
         "Takeaway",
         "2023-01-10",
         null
        ],
        [
         "43",
         "TXN_9620080",
         "3.0",
         "12.0",
         null,
         "Takeaway",
         "2023-10-02",
         null
        ],
        [
         "44",
         "TXN_1491578",
         "1.0",
         "2.0",
         null,
         null,
         "2023-02-23",
         null
        ],
        [
         "45",
         "TXN_5455792",
         "5.0",
         "15.0",
         "Cash",
         null,
         "2023-03-22",
         null
        ],
        [
         "46",
         "TXN_8078640",
         "3.0",
         "12.0",
         "Digital Wallet",
         "In-store",
         "2023-11-03",
         null
        ],
        [
         "47",
         "TXN_9499313",
         "3.0",
         "15.0",
         null,
         null,
         "2023-03-02",
         null
        ],
        [
         "48",
         "TXN_8201146",
         "3.0",
         "15.0",
         "Cash",
         null,
         "2023-06-26",
         null
        ],
        [
         "49",
         "TXN_8230936",
         "3.0",
         "9.0",
         null,
         "ERROR",
         "2023-05-02",
         null
        ]
       ],
       "shape": {
        "columns": 7,
        "rows": 10000
       }
      },
      "text/html": [
       "<div>\n",
       "<style scoped>\n",
       "    .dataframe tbody tr th:only-of-type {\n",
       "        vertical-align: middle;\n",
       "    }\n",
       "\n",
       "    .dataframe tbody tr th {\n",
       "        vertical-align: top;\n",
       "    }\n",
       "\n",
       "    .dataframe thead th {\n",
       "        text-align: right;\n",
       "    }\n",
       "</style>\n",
       "<table border=\"1\" class=\"dataframe\">\n",
       "  <thead>\n",
       "    <tr style=\"text-align: right;\">\n",
       "      <th></th>\n",
       "      <th>Transaction ID</th>\n",
       "      <th>Price Per Unit</th>\n",
       "      <th>Total Spent</th>\n",
       "      <th>Payment Method</th>\n",
       "      <th>Location</th>\n",
       "      <th>Transaction Date</th>\n",
       "      <th>ilk_bes_satir_toplam</th>\n",
       "    </tr>\n",
       "  </thead>\n",
       "  <tbody>\n",
       "    <tr>\n",
       "      <th>0</th>\n",
       "      <td>TXN_1961373</td>\n",
       "      <td>2.0</td>\n",
       "      <td>4.0</td>\n",
       "      <td>Credit Card</td>\n",
       "      <td>Takeaway</td>\n",
       "      <td>2023-09-08</td>\n",
       "      <td>4.0</td>\n",
       "    </tr>\n",
       "    <tr>\n",
       "      <th>1</th>\n",
       "      <td>TXN_4977031</td>\n",
       "      <td>3.0</td>\n",
       "      <td>12.0</td>\n",
       "      <td>Cash</td>\n",
       "      <td>In-store</td>\n",
       "      <td>2023-05-16</td>\n",
       "      <td>12.0</td>\n",
       "    </tr>\n",
       "    <tr>\n",
       "      <th>2</th>\n",
       "      <td>TXN_4271903</td>\n",
       "      <td>1.0</td>\n",
       "      <td>ERROR</td>\n",
       "      <td>Credit Card</td>\n",
       "      <td>In-store</td>\n",
       "      <td>2023-07-19</td>\n",
       "      <td>4.0</td>\n",
       "    </tr>\n",
       "    <tr>\n",
       "      <th>3</th>\n",
       "      <td>TXN_7034554</td>\n",
       "      <td>5.0</td>\n",
       "      <td>10.0</td>\n",
       "      <td>UNKNOWN</td>\n",
       "      <td>UNKNOWN</td>\n",
       "      <td>2023-04-27</td>\n",
       "      <td>10.0</td>\n",
       "    </tr>\n",
       "    <tr>\n",
       "      <th>4</th>\n",
       "      <td>TXN_3160411</td>\n",
       "      <td>2.0</td>\n",
       "      <td>4.0</td>\n",
       "      <td>Digital Wallet</td>\n",
       "      <td>In-store</td>\n",
       "      <td>2023-06-11</td>\n",
       "      <td>4.0</td>\n",
       "    </tr>\n",
       "    <tr>\n",
       "      <th>...</th>\n",
       "      <td>...</td>\n",
       "      <td>...</td>\n",
       "      <td>...</td>\n",
       "      <td>...</td>\n",
       "      <td>...</td>\n",
       "      <td>...</td>\n",
       "      <td>...</td>\n",
       "    </tr>\n",
       "    <tr>\n",
       "      <th>9995</th>\n",
       "      <td>TXN_7672686</td>\n",
       "      <td>2.0</td>\n",
       "      <td>4.0</td>\n",
       "      <td>NaN</td>\n",
       "      <td>UNKNOWN</td>\n",
       "      <td>2023-08-30</td>\n",
       "      <td>NaN</td>\n",
       "    </tr>\n",
       "    <tr>\n",
       "      <th>9996</th>\n",
       "      <td>TXN_9659401</td>\n",
       "      <td>NaN</td>\n",
       "      <td>3.0</td>\n",
       "      <td>Digital Wallet</td>\n",
       "      <td>NaN</td>\n",
       "      <td>2023-06-02</td>\n",
       "      <td>NaN</td>\n",
       "    </tr>\n",
       "    <tr>\n",
       "      <th>9997</th>\n",
       "      <td>TXN_5255387</td>\n",
       "      <td>2.0</td>\n",
       "      <td>8.0</td>\n",
       "      <td>Digital Wallet</td>\n",
       "      <td>NaN</td>\n",
       "      <td>2023-03-02</td>\n",
       "      <td>NaN</td>\n",
       "    </tr>\n",
       "    <tr>\n",
       "      <th>9998</th>\n",
       "      <td>TXN_7695629</td>\n",
       "      <td>NaN</td>\n",
       "      <td>3.0</td>\n",
       "      <td>Digital Wallet</td>\n",
       "      <td>NaN</td>\n",
       "      <td>2023-12-02</td>\n",
       "      <td>NaN</td>\n",
       "    </tr>\n",
       "    <tr>\n",
       "      <th>9999</th>\n",
       "      <td>TXN_6170729</td>\n",
       "      <td>4.0</td>\n",
       "      <td>12.0</td>\n",
       "      <td>Cash</td>\n",
       "      <td>In-store</td>\n",
       "      <td>2023-11-07</td>\n",
       "      <td>NaN</td>\n",
       "    </tr>\n",
       "  </tbody>\n",
       "</table>\n",
       "<p>10000 rows × 7 columns</p>\n",
       "</div>"
      ],
      "text/plain": [
       "     Transaction ID Price Per Unit Total Spent  Payment Method  Location  \\\n",
       "0       TXN_1961373            2.0         4.0     Credit Card  Takeaway   \n",
       "1       TXN_4977031            3.0        12.0            Cash  In-store   \n",
       "2       TXN_4271903            1.0       ERROR     Credit Card  In-store   \n",
       "3       TXN_7034554            5.0        10.0         UNKNOWN   UNKNOWN   \n",
       "4       TXN_3160411            2.0         4.0  Digital Wallet  In-store   \n",
       "...             ...            ...         ...             ...       ...   \n",
       "9995    TXN_7672686            2.0         4.0             NaN   UNKNOWN   \n",
       "9996    TXN_9659401            NaN         3.0  Digital Wallet       NaN   \n",
       "9997    TXN_5255387            2.0         8.0  Digital Wallet       NaN   \n",
       "9998    TXN_7695629            NaN         3.0  Digital Wallet       NaN   \n",
       "9999    TXN_6170729            4.0        12.0            Cash  In-store   \n",
       "\n",
       "     Transaction Date  ilk_bes_satir_toplam  \n",
       "0          2023-09-08                   4.0  \n",
       "1          2023-05-16                  12.0  \n",
       "2          2023-07-19                   4.0  \n",
       "3          2023-04-27                  10.0  \n",
       "4          2023-06-11                   4.0  \n",
       "...               ...                   ...  \n",
       "9995       2023-08-30                   NaN  \n",
       "9996       2023-06-02                   NaN  \n",
       "9997       2023-03-02                   NaN  \n",
       "9998       2023-12-02                   NaN  \n",
       "9999       2023-11-07                   NaN  \n",
       "\n",
       "[10000 rows x 7 columns]"
      ]
     },
     "execution_count": 23,
     "metadata": {},
     "output_type": "execute_result"
    }
   ],
   "source": [
    "df.drop([\"Item\", \"Quantity\"], axis = 1) # birden fazla sutunu siler (kalici degildir)"
   ]
  },
  {
   "cell_type": "markdown",
   "id": "e9c7e225",
   "metadata": {},
   "source": [
    "***Satir (Row) Islemleri***\n",
    "\n",
    "satir cekme islemleri .loc ve .iloc metodlari ile yapilir"
   ]
  },
  {
   "cell_type": "code",
   "execution_count": 25,
   "id": "45de5ffc",
   "metadata": {},
   "outputs": [
    {
     "data": {
      "application/vnd.microsoft.datawrangler.viewer.v0+json": {
       "columns": [
        {
         "name": "index",
         "rawType": "int64",
         "type": "integer"
        },
        {
         "name": "Transaction ID",
         "rawType": "object",
         "type": "string"
        },
        {
         "name": "Item",
         "rawType": "object",
         "type": "string"
        },
        {
         "name": "Quantity",
         "rawType": "object",
         "type": "string"
        },
        {
         "name": "Price Per Unit",
         "rawType": "object",
         "type": "string"
        },
        {
         "name": "Total Spent",
         "rawType": "object",
         "type": "string"
        },
        {
         "name": "Payment Method",
         "rawType": "object",
         "type": "string"
        },
        {
         "name": "Location",
         "rawType": "object",
         "type": "string"
        },
        {
         "name": "Transaction Date",
         "rawType": "object",
         "type": "string"
        },
        {
         "name": "ilk_bes_satir_toplam",
         "rawType": "float64",
         "type": "float"
        }
       ],
       "ref": "11e86442-844c-4bbf-94bd-185e6b794211",
       "rows": [
        [
         "0",
         "TXN_1961373",
         "Coffee",
         "2",
         "2.0",
         "4.0",
         "Credit Card",
         "Takeaway",
         "2023-09-08",
         "4.0"
        ],
        [
         "1",
         "TXN_4977031",
         "Cake",
         "4",
         "3.0",
         "12.0",
         "Cash",
         "In-store",
         "2023-05-16",
         "12.0"
        ],
        [
         "2",
         "TXN_4271903",
         "Cookie",
         "4",
         "1.0",
         "ERROR",
         "Credit Card",
         "In-store",
         "2023-07-19",
         "4.0"
        ],
        [
         "3",
         "TXN_7034554",
         "Salad",
         "2",
         "5.0",
         "10.0",
         "UNKNOWN",
         "UNKNOWN",
         "2023-04-27",
         "10.0"
        ],
        [
         "4",
         "TXN_3160411",
         "Coffee",
         "2",
         "2.0",
         "4.0",
         "Digital Wallet",
         "In-store",
         "2023-06-11",
         "4.0"
        ]
       ],
       "shape": {
        "columns": 9,
        "rows": 5
       }
      },
      "text/html": [
       "<div>\n",
       "<style scoped>\n",
       "    .dataframe tbody tr th:only-of-type {\n",
       "        vertical-align: middle;\n",
       "    }\n",
       "\n",
       "    .dataframe tbody tr th {\n",
       "        vertical-align: top;\n",
       "    }\n",
       "\n",
       "    .dataframe thead th {\n",
       "        text-align: right;\n",
       "    }\n",
       "</style>\n",
       "<table border=\"1\" class=\"dataframe\">\n",
       "  <thead>\n",
       "    <tr style=\"text-align: right;\">\n",
       "      <th></th>\n",
       "      <th>Transaction ID</th>\n",
       "      <th>Item</th>\n",
       "      <th>Quantity</th>\n",
       "      <th>Price Per Unit</th>\n",
       "      <th>Total Spent</th>\n",
       "      <th>Payment Method</th>\n",
       "      <th>Location</th>\n",
       "      <th>Transaction Date</th>\n",
       "      <th>ilk_bes_satir_toplam</th>\n",
       "    </tr>\n",
       "  </thead>\n",
       "  <tbody>\n",
       "    <tr>\n",
       "      <th>0</th>\n",
       "      <td>TXN_1961373</td>\n",
       "      <td>Coffee</td>\n",
       "      <td>2</td>\n",
       "      <td>2.0</td>\n",
       "      <td>4.0</td>\n",
       "      <td>Credit Card</td>\n",
       "      <td>Takeaway</td>\n",
       "      <td>2023-09-08</td>\n",
       "      <td>4.0</td>\n",
       "    </tr>\n",
       "    <tr>\n",
       "      <th>1</th>\n",
       "      <td>TXN_4977031</td>\n",
       "      <td>Cake</td>\n",
       "      <td>4</td>\n",
       "      <td>3.0</td>\n",
       "      <td>12.0</td>\n",
       "      <td>Cash</td>\n",
       "      <td>In-store</td>\n",
       "      <td>2023-05-16</td>\n",
       "      <td>12.0</td>\n",
       "    </tr>\n",
       "    <tr>\n",
       "      <th>2</th>\n",
       "      <td>TXN_4271903</td>\n",
       "      <td>Cookie</td>\n",
       "      <td>4</td>\n",
       "      <td>1.0</td>\n",
       "      <td>ERROR</td>\n",
       "      <td>Credit Card</td>\n",
       "      <td>In-store</td>\n",
       "      <td>2023-07-19</td>\n",
       "      <td>4.0</td>\n",
       "    </tr>\n",
       "    <tr>\n",
       "      <th>3</th>\n",
       "      <td>TXN_7034554</td>\n",
       "      <td>Salad</td>\n",
       "      <td>2</td>\n",
       "      <td>5.0</td>\n",
       "      <td>10.0</td>\n",
       "      <td>UNKNOWN</td>\n",
       "      <td>UNKNOWN</td>\n",
       "      <td>2023-04-27</td>\n",
       "      <td>10.0</td>\n",
       "    </tr>\n",
       "    <tr>\n",
       "      <th>4</th>\n",
       "      <td>TXN_3160411</td>\n",
       "      <td>Coffee</td>\n",
       "      <td>2</td>\n",
       "      <td>2.0</td>\n",
       "      <td>4.0</td>\n",
       "      <td>Digital Wallet</td>\n",
       "      <td>In-store</td>\n",
       "      <td>2023-06-11</td>\n",
       "      <td>4.0</td>\n",
       "    </tr>\n",
       "  </tbody>\n",
       "</table>\n",
       "</div>"
      ],
      "text/plain": [
       "  Transaction ID    Item Quantity Price Per Unit Total Spent  Payment Method  \\\n",
       "0    TXN_1961373  Coffee        2            2.0         4.0     Credit Card   \n",
       "1    TXN_4977031    Cake        4            3.0        12.0            Cash   \n",
       "2    TXN_4271903  Cookie        4            1.0       ERROR     Credit Card   \n",
       "3    TXN_7034554   Salad        2            5.0        10.0         UNKNOWN   \n",
       "4    TXN_3160411  Coffee        2            2.0         4.0  Digital Wallet   \n",
       "\n",
       "   Location Transaction Date  ilk_bes_satir_toplam  \n",
       "0  Takeaway       2023-09-08                   4.0  \n",
       "1  In-store       2023-05-16                  12.0  \n",
       "2  In-store       2023-07-19                   4.0  \n",
       "3   UNKNOWN       2023-04-27                  10.0  \n",
       "4  In-store       2023-06-11                   4.0  "
      ]
     },
     "execution_count": 25,
     "metadata": {},
     "output_type": "execute_result"
    }
   ],
   "source": [
    "df.head()"
   ]
  },
  {
   "cell_type": "code",
   "execution_count": 26,
   "id": "66dced2c",
   "metadata": {},
   "outputs": [],
   "source": [
    "# \"Transaction ID\" sutununu index olarak ayarlar, drop = True ile sutunu siler, inplace = True ile kalici yapar\n",
    "df.set_index(\"Transaction ID\", drop = True, inplace = True) "
   ]
  },
  {
   "cell_type": "code",
   "execution_count": 27,
   "id": "c4c8c4fc",
   "metadata": {},
   "outputs": [
    {
     "data": {
      "application/vnd.microsoft.datawrangler.viewer.v0+json": {
       "columns": [
        {
         "name": "Transaction ID",
         "rawType": "object",
         "type": "string"
        },
        {
         "name": "Item",
         "rawType": "object",
         "type": "string"
        },
        {
         "name": "Quantity",
         "rawType": "object",
         "type": "string"
        },
        {
         "name": "Price Per Unit",
         "rawType": "object",
         "type": "string"
        },
        {
         "name": "Total Spent",
         "rawType": "object",
         "type": "string"
        },
        {
         "name": "Payment Method",
         "rawType": "object",
         "type": "string"
        },
        {
         "name": "Location",
         "rawType": "object",
         "type": "string"
        },
        {
         "name": "Transaction Date",
         "rawType": "object",
         "type": "string"
        },
        {
         "name": "ilk_bes_satir_toplam",
         "rawType": "float64",
         "type": "float"
        }
       ],
       "ref": "e67f8ea8-2201-4915-b6bb-92a7fd3422a4",
       "rows": [
        [
         "TXN_1961373",
         "Coffee",
         "2",
         "2.0",
         "4.0",
         "Credit Card",
         "Takeaway",
         "2023-09-08",
         "4.0"
        ],
        [
         "TXN_4977031",
         "Cake",
         "4",
         "3.0",
         "12.0",
         "Cash",
         "In-store",
         "2023-05-16",
         "12.0"
        ],
        [
         "TXN_4271903",
         "Cookie",
         "4",
         "1.0",
         "ERROR",
         "Credit Card",
         "In-store",
         "2023-07-19",
         "4.0"
        ],
        [
         "TXN_7034554",
         "Salad",
         "2",
         "5.0",
         "10.0",
         "UNKNOWN",
         "UNKNOWN",
         "2023-04-27",
         "10.0"
        ],
        [
         "TXN_3160411",
         "Coffee",
         "2",
         "2.0",
         "4.0",
         "Digital Wallet",
         "In-store",
         "2023-06-11",
         "4.0"
        ]
       ],
       "shape": {
        "columns": 8,
        "rows": 5
       }
      },
      "text/html": [
       "<div>\n",
       "<style scoped>\n",
       "    .dataframe tbody tr th:only-of-type {\n",
       "        vertical-align: middle;\n",
       "    }\n",
       "\n",
       "    .dataframe tbody tr th {\n",
       "        vertical-align: top;\n",
       "    }\n",
       "\n",
       "    .dataframe thead th {\n",
       "        text-align: right;\n",
       "    }\n",
       "</style>\n",
       "<table border=\"1\" class=\"dataframe\">\n",
       "  <thead>\n",
       "    <tr style=\"text-align: right;\">\n",
       "      <th></th>\n",
       "      <th>Item</th>\n",
       "      <th>Quantity</th>\n",
       "      <th>Price Per Unit</th>\n",
       "      <th>Total Spent</th>\n",
       "      <th>Payment Method</th>\n",
       "      <th>Location</th>\n",
       "      <th>Transaction Date</th>\n",
       "      <th>ilk_bes_satir_toplam</th>\n",
       "    </tr>\n",
       "    <tr>\n",
       "      <th>Transaction ID</th>\n",
       "      <th></th>\n",
       "      <th></th>\n",
       "      <th></th>\n",
       "      <th></th>\n",
       "      <th></th>\n",
       "      <th></th>\n",
       "      <th></th>\n",
       "      <th></th>\n",
       "    </tr>\n",
       "  </thead>\n",
       "  <tbody>\n",
       "    <tr>\n",
       "      <th>TXN_1961373</th>\n",
       "      <td>Coffee</td>\n",
       "      <td>2</td>\n",
       "      <td>2.0</td>\n",
       "      <td>4.0</td>\n",
       "      <td>Credit Card</td>\n",
       "      <td>Takeaway</td>\n",
       "      <td>2023-09-08</td>\n",
       "      <td>4.0</td>\n",
       "    </tr>\n",
       "    <tr>\n",
       "      <th>TXN_4977031</th>\n",
       "      <td>Cake</td>\n",
       "      <td>4</td>\n",
       "      <td>3.0</td>\n",
       "      <td>12.0</td>\n",
       "      <td>Cash</td>\n",
       "      <td>In-store</td>\n",
       "      <td>2023-05-16</td>\n",
       "      <td>12.0</td>\n",
       "    </tr>\n",
       "    <tr>\n",
       "      <th>TXN_4271903</th>\n",
       "      <td>Cookie</td>\n",
       "      <td>4</td>\n",
       "      <td>1.0</td>\n",
       "      <td>ERROR</td>\n",
       "      <td>Credit Card</td>\n",
       "      <td>In-store</td>\n",
       "      <td>2023-07-19</td>\n",
       "      <td>4.0</td>\n",
       "    </tr>\n",
       "    <tr>\n",
       "      <th>TXN_7034554</th>\n",
       "      <td>Salad</td>\n",
       "      <td>2</td>\n",
       "      <td>5.0</td>\n",
       "      <td>10.0</td>\n",
       "      <td>UNKNOWN</td>\n",
       "      <td>UNKNOWN</td>\n",
       "      <td>2023-04-27</td>\n",
       "      <td>10.0</td>\n",
       "    </tr>\n",
       "    <tr>\n",
       "      <th>TXN_3160411</th>\n",
       "      <td>Coffee</td>\n",
       "      <td>2</td>\n",
       "      <td>2.0</td>\n",
       "      <td>4.0</td>\n",
       "      <td>Digital Wallet</td>\n",
       "      <td>In-store</td>\n",
       "      <td>2023-06-11</td>\n",
       "      <td>4.0</td>\n",
       "    </tr>\n",
       "  </tbody>\n",
       "</table>\n",
       "</div>"
      ],
      "text/plain": [
       "                  Item Quantity Price Per Unit Total Spent  Payment Method  \\\n",
       "Transaction ID                                                               \n",
       "TXN_1961373     Coffee        2            2.0         4.0     Credit Card   \n",
       "TXN_4977031       Cake        4            3.0        12.0            Cash   \n",
       "TXN_4271903     Cookie        4            1.0       ERROR     Credit Card   \n",
       "TXN_7034554      Salad        2            5.0        10.0         UNKNOWN   \n",
       "TXN_3160411     Coffee        2            2.0         4.0  Digital Wallet   \n",
       "\n",
       "                Location Transaction Date  ilk_bes_satir_toplam  \n",
       "Transaction ID                                                   \n",
       "TXN_1961373     Takeaway       2023-09-08                   4.0  \n",
       "TXN_4977031     In-store       2023-05-16                  12.0  \n",
       "TXN_4271903     In-store       2023-07-19                   4.0  \n",
       "TXN_7034554      UNKNOWN       2023-04-27                  10.0  \n",
       "TXN_3160411     In-store       2023-06-11                   4.0  "
      ]
     },
     "execution_count": 27,
     "metadata": {},
     "output_type": "execute_result"
    }
   ],
   "source": [
    "df.head()"
   ]
  },
  {
   "cell_type": "code",
   "execution_count": 29,
   "id": "5315b007",
   "metadata": {},
   "outputs": [
    {
     "data": {
      "application/vnd.microsoft.datawrangler.viewer.v0+json": {
       "columns": [
        {
         "name": "index",
         "rawType": "object",
         "type": "string"
        },
        {
         "name": "TXN_1961373",
         "rawType": "object",
         "type": "unknown"
        }
       ],
       "ref": "996510e2-d72f-41fd-a82c-00cd602f8fb7",
       "rows": [
        [
         "Item",
         "Coffee"
        ],
        [
         "Quantity",
         "2"
        ],
        [
         "Price Per Unit",
         "2.0"
        ],
        [
         "Total Spent",
         "4.0"
        ],
        [
         "Payment Method",
         "Credit Card"
        ],
        [
         "Location",
         "Takeaway"
        ],
        [
         "Transaction Date",
         "2023-09-08"
        ],
        [
         "ilk_bes_satir_toplam",
         "4.0"
        ]
       ],
       "shape": {
        "columns": 1,
        "rows": 8
       }
      },
      "text/plain": [
       "Item                         Coffee\n",
       "Quantity                          2\n",
       "Price Per Unit                  2.0\n",
       "Total Spent                     4.0\n",
       "Payment Method          Credit Card\n",
       "Location                   Takeaway\n",
       "Transaction Date         2023-09-08\n",
       "ilk_bes_satir_toplam            4.0\n",
       "Name: TXN_1961373, dtype: object"
      ]
     },
     "execution_count": 29,
     "metadata": {},
     "output_type": "execute_result"
    }
   ],
   "source": [
    "df.iloc[0] # ilk satiri secer"
   ]
  },
  {
   "cell_type": "code",
   "execution_count": 30,
   "id": "cc86d641",
   "metadata": {},
   "outputs": [
    {
     "data": {
      "application/vnd.microsoft.datawrangler.viewer.v0+json": {
       "columns": [
        {
         "name": "index",
         "rawType": "object",
         "type": "string"
        },
        {
         "name": "TXN_4977031",
         "rawType": "object",
         "type": "unknown"
        }
       ],
       "ref": "53fb141d-9ef8-41e7-b818-04fe0e8cfb38",
       "rows": [
        [
         "Item",
         "Cake"
        ],
        [
         "Quantity",
         "4"
        ],
        [
         "Price Per Unit",
         "3.0"
        ],
        [
         "Total Spent",
         "12.0"
        ],
        [
         "Payment Method",
         "Cash"
        ],
        [
         "Location",
         "In-store"
        ],
        [
         "Transaction Date",
         "2023-05-16"
        ],
        [
         "ilk_bes_satir_toplam",
         "12.0"
        ]
       ],
       "shape": {
        "columns": 1,
        "rows": 8
       }
      },
      "text/plain": [
       "Item                          Cake\n",
       "Quantity                         4\n",
       "Price Per Unit                 3.0\n",
       "Total Spent                   12.0\n",
       "Payment Method                Cash\n",
       "Location                  In-store\n",
       "Transaction Date        2023-05-16\n",
       "ilk_bes_satir_toplam          12.0\n",
       "Name: TXN_4977031, dtype: object"
      ]
     },
     "execution_count": 30,
     "metadata": {},
     "output_type": "execute_result"
    }
   ],
   "source": [
    "df.loc[\"TXN_4977031\"] # \"TXN_4977031\" indexli satiri secer"
   ]
  },
  {
   "cell_type": "code",
   "execution_count": 31,
   "id": "1dc2d39a",
   "metadata": {},
   "outputs": [],
   "source": [
    "# .iloc ve .loc arasindaki fark:\n",
    "# .iloc: integer index ile satir secimi yapar, satir numarasina gore secim yapar\n",
    "# .loc: label index ile satir secimi yapar, index degerine gore secim yapar\n",
    "# yani .iloc ile satir numarasini, .loc ile index degerini kullanarak secim yapariz"
   ]
  },
  {
   "cell_type": "code",
   "execution_count": 36,
   "id": "e77e738f",
   "metadata": {},
   "outputs": [
    {
     "data": {
      "application/vnd.microsoft.datawrangler.viewer.v0+json": {
       "columns": [
        {
         "name": "Transaction ID",
         "rawType": "object",
         "type": "string"
        },
        {
         "name": "Item",
         "rawType": "object",
         "type": "string"
        },
        {
         "name": "Quantity",
         "rawType": "object",
         "type": "string"
        },
        {
         "name": "Price Per Unit",
         "rawType": "object",
         "type": "string"
        },
        {
         "name": "Total Spent",
         "rawType": "object",
         "type": "string"
        },
        {
         "name": "Payment Method",
         "rawType": "object",
         "type": "string"
        },
        {
         "name": "Location",
         "rawType": "object",
         "type": "string"
        },
        {
         "name": "Transaction Date",
         "rawType": "object",
         "type": "string"
        },
        {
         "name": "ilk_bes_satir_toplam",
         "rawType": "float64",
         "type": "float"
        }
       ],
       "ref": "f1f55403-ce0a-4f55-ba79-ceaeea578b78",
       "rows": [
        [
         "TXN_1961373",
         "Coffee",
         "2",
         "2.0",
         "4.0",
         "Credit Card",
         "Takeaway",
         "2023-09-08",
         "4.0"
        ],
        [
         "TXN_4977031",
         "Cake",
         "4",
         "3.0",
         "12.0",
         "Cash",
         "In-store",
         "2023-05-16",
         "12.0"
        ],
        [
         "TXN_4271903",
         "Cookie",
         "4",
         "1.0",
         "ERROR",
         "Credit Card",
         "In-store",
         "2023-07-19",
         "4.0"
        ],
        [
         "TXN_7034554",
         "Salad",
         "2",
         "5.0",
         "10.0",
         "UNKNOWN",
         "UNKNOWN",
         "2023-04-27",
         "10.0"
        ]
       ],
       "shape": {
        "columns": 8,
        "rows": 4
       }
      },
      "text/html": [
       "<div>\n",
       "<style scoped>\n",
       "    .dataframe tbody tr th:only-of-type {\n",
       "        vertical-align: middle;\n",
       "    }\n",
       "\n",
       "    .dataframe tbody tr th {\n",
       "        vertical-align: top;\n",
       "    }\n",
       "\n",
       "    .dataframe thead th {\n",
       "        text-align: right;\n",
       "    }\n",
       "</style>\n",
       "<table border=\"1\" class=\"dataframe\">\n",
       "  <thead>\n",
       "    <tr style=\"text-align: right;\">\n",
       "      <th></th>\n",
       "      <th>Item</th>\n",
       "      <th>Quantity</th>\n",
       "      <th>Price Per Unit</th>\n",
       "      <th>Total Spent</th>\n",
       "      <th>Payment Method</th>\n",
       "      <th>Location</th>\n",
       "      <th>Transaction Date</th>\n",
       "      <th>ilk_bes_satir_toplam</th>\n",
       "    </tr>\n",
       "    <tr>\n",
       "      <th>Transaction ID</th>\n",
       "      <th></th>\n",
       "      <th></th>\n",
       "      <th></th>\n",
       "      <th></th>\n",
       "      <th></th>\n",
       "      <th></th>\n",
       "      <th></th>\n",
       "      <th></th>\n",
       "    </tr>\n",
       "  </thead>\n",
       "  <tbody>\n",
       "    <tr>\n",
       "      <th>TXN_1961373</th>\n",
       "      <td>Coffee</td>\n",
       "      <td>2</td>\n",
       "      <td>2.0</td>\n",
       "      <td>4.0</td>\n",
       "      <td>Credit Card</td>\n",
       "      <td>Takeaway</td>\n",
       "      <td>2023-09-08</td>\n",
       "      <td>4.0</td>\n",
       "    </tr>\n",
       "    <tr>\n",
       "      <th>TXN_4977031</th>\n",
       "      <td>Cake</td>\n",
       "      <td>4</td>\n",
       "      <td>3.0</td>\n",
       "      <td>12.0</td>\n",
       "      <td>Cash</td>\n",
       "      <td>In-store</td>\n",
       "      <td>2023-05-16</td>\n",
       "      <td>12.0</td>\n",
       "    </tr>\n",
       "    <tr>\n",
       "      <th>TXN_4271903</th>\n",
       "      <td>Cookie</td>\n",
       "      <td>4</td>\n",
       "      <td>1.0</td>\n",
       "      <td>ERROR</td>\n",
       "      <td>Credit Card</td>\n",
       "      <td>In-store</td>\n",
       "      <td>2023-07-19</td>\n",
       "      <td>4.0</td>\n",
       "    </tr>\n",
       "    <tr>\n",
       "      <th>TXN_7034554</th>\n",
       "      <td>Salad</td>\n",
       "      <td>2</td>\n",
       "      <td>5.0</td>\n",
       "      <td>10.0</td>\n",
       "      <td>UNKNOWN</td>\n",
       "      <td>UNKNOWN</td>\n",
       "      <td>2023-04-27</td>\n",
       "      <td>10.0</td>\n",
       "    </tr>\n",
       "  </tbody>\n",
       "</table>\n",
       "</div>"
      ],
      "text/plain": [
       "                  Item Quantity Price Per Unit Total Spent Payment Method  \\\n",
       "Transaction ID                                                              \n",
       "TXN_1961373     Coffee        2            2.0         4.0    Credit Card   \n",
       "TXN_4977031       Cake        4            3.0        12.0           Cash   \n",
       "TXN_4271903     Cookie        4            1.0       ERROR    Credit Card   \n",
       "TXN_7034554      Salad        2            5.0        10.0        UNKNOWN   \n",
       "\n",
       "                Location Transaction Date  ilk_bes_satir_toplam  \n",
       "Transaction ID                                                   \n",
       "TXN_1961373     Takeaway       2023-09-08                   4.0  \n",
       "TXN_4977031     In-store       2023-05-16                  12.0  \n",
       "TXN_4271903     In-store       2023-07-19                   4.0  \n",
       "TXN_7034554      UNKNOWN       2023-04-27                  10.0  "
      ]
     },
     "execution_count": 36,
     "metadata": {},
     "output_type": "execute_result"
    }
   ],
   "source": [
    "df.loc[\"TXN_1961373\": \"TXN_7034554\"] # \"TXN_1961373\" ile \"TXN_7034554\" arasindaki satirlari secer, # \"TXN_1961373\" ve \"TXN_7034554\" dahil"
   ]
  },
  {
   "cell_type": "code",
   "execution_count": 37,
   "id": "b5837bed",
   "metadata": {},
   "outputs": [
    {
     "data": {
      "application/vnd.microsoft.datawrangler.viewer.v0+json": {
       "columns": [
        {
         "name": "Transaction ID",
         "rawType": "object",
         "type": "string"
        },
        {
         "name": "Item",
         "rawType": "object",
         "type": "string"
        },
        {
         "name": "Quantity",
         "rawType": "object",
         "type": "string"
        },
        {
         "name": "Price Per Unit",
         "rawType": "object",
         "type": "string"
        },
        {
         "name": "Total Spent",
         "rawType": "object",
         "type": "string"
        },
        {
         "name": "Payment Method",
         "rawType": "object",
         "type": "string"
        },
        {
         "name": "Location",
         "rawType": "object",
         "type": "string"
        },
        {
         "name": "Transaction Date",
         "rawType": "object",
         "type": "string"
        },
        {
         "name": "ilk_bes_satir_toplam",
         "rawType": "float64",
         "type": "float"
        }
       ],
       "ref": "3f921e65-dd8c-4a3d-995e-db27569a497b",
       "rows": [
        [
         "TXN_1961373",
         "Coffee",
         "2",
         "2.0",
         "4.0",
         "Credit Card",
         "Takeaway",
         "2023-09-08",
         "4.0"
        ],
        [
         "TXN_4977031",
         "Cake",
         "4",
         "3.0",
         "12.0",
         "Cash",
         "In-store",
         "2023-05-16",
         "12.0"
        ],
        [
         "TXN_4271903",
         "Cookie",
         "4",
         "1.0",
         "ERROR",
         "Credit Card",
         "In-store",
         "2023-07-19",
         "4.0"
        ],
        [
         "TXN_7034554",
         "Salad",
         "2",
         "5.0",
         "10.0",
         "UNKNOWN",
         "UNKNOWN",
         "2023-04-27",
         "10.0"
        ]
       ],
       "shape": {
        "columns": 8,
        "rows": 4
       }
      },
      "text/html": [
       "<div>\n",
       "<style scoped>\n",
       "    .dataframe tbody tr th:only-of-type {\n",
       "        vertical-align: middle;\n",
       "    }\n",
       "\n",
       "    .dataframe tbody tr th {\n",
       "        vertical-align: top;\n",
       "    }\n",
       "\n",
       "    .dataframe thead th {\n",
       "        text-align: right;\n",
       "    }\n",
       "</style>\n",
       "<table border=\"1\" class=\"dataframe\">\n",
       "  <thead>\n",
       "    <tr style=\"text-align: right;\">\n",
       "      <th></th>\n",
       "      <th>Item</th>\n",
       "      <th>Quantity</th>\n",
       "      <th>Price Per Unit</th>\n",
       "      <th>Total Spent</th>\n",
       "      <th>Payment Method</th>\n",
       "      <th>Location</th>\n",
       "      <th>Transaction Date</th>\n",
       "      <th>ilk_bes_satir_toplam</th>\n",
       "    </tr>\n",
       "    <tr>\n",
       "      <th>Transaction ID</th>\n",
       "      <th></th>\n",
       "      <th></th>\n",
       "      <th></th>\n",
       "      <th></th>\n",
       "      <th></th>\n",
       "      <th></th>\n",
       "      <th></th>\n",
       "      <th></th>\n",
       "    </tr>\n",
       "  </thead>\n",
       "  <tbody>\n",
       "    <tr>\n",
       "      <th>TXN_1961373</th>\n",
       "      <td>Coffee</td>\n",
       "      <td>2</td>\n",
       "      <td>2.0</td>\n",
       "      <td>4.0</td>\n",
       "      <td>Credit Card</td>\n",
       "      <td>Takeaway</td>\n",
       "      <td>2023-09-08</td>\n",
       "      <td>4.0</td>\n",
       "    </tr>\n",
       "    <tr>\n",
       "      <th>TXN_4977031</th>\n",
       "      <td>Cake</td>\n",
       "      <td>4</td>\n",
       "      <td>3.0</td>\n",
       "      <td>12.0</td>\n",
       "      <td>Cash</td>\n",
       "      <td>In-store</td>\n",
       "      <td>2023-05-16</td>\n",
       "      <td>12.0</td>\n",
       "    </tr>\n",
       "    <tr>\n",
       "      <th>TXN_4271903</th>\n",
       "      <td>Cookie</td>\n",
       "      <td>4</td>\n",
       "      <td>1.0</td>\n",
       "      <td>ERROR</td>\n",
       "      <td>Credit Card</td>\n",
       "      <td>In-store</td>\n",
       "      <td>2023-07-19</td>\n",
       "      <td>4.0</td>\n",
       "    </tr>\n",
       "    <tr>\n",
       "      <th>TXN_7034554</th>\n",
       "      <td>Salad</td>\n",
       "      <td>2</td>\n",
       "      <td>5.0</td>\n",
       "      <td>10.0</td>\n",
       "      <td>UNKNOWN</td>\n",
       "      <td>UNKNOWN</td>\n",
       "      <td>2023-04-27</td>\n",
       "      <td>10.0</td>\n",
       "    </tr>\n",
       "  </tbody>\n",
       "</table>\n",
       "</div>"
      ],
      "text/plain": [
       "                  Item Quantity Price Per Unit Total Spent Payment Method  \\\n",
       "Transaction ID                                                              \n",
       "TXN_1961373     Coffee        2            2.0         4.0    Credit Card   \n",
       "TXN_4977031       Cake        4            3.0        12.0           Cash   \n",
       "TXN_4271903     Cookie        4            1.0       ERROR    Credit Card   \n",
       "TXN_7034554      Salad        2            5.0        10.0        UNKNOWN   \n",
       "\n",
       "                Location Transaction Date  ilk_bes_satir_toplam  \n",
       "Transaction ID                                                   \n",
       "TXN_1961373     Takeaway       2023-09-08                   4.0  \n",
       "TXN_4977031     In-store       2023-05-16                  12.0  \n",
       "TXN_4271903     In-store       2023-07-19                   4.0  \n",
       "TXN_7034554      UNKNOWN       2023-04-27                  10.0  "
      ]
     },
     "execution_count": 37,
     "metadata": {},
     "output_type": "execute_result"
    }
   ],
   "source": [
    "df.iloc[0: 4] # ilk 4 satiri secer (integer index ile), # 0, 1, 2, 3 indexli satirlari getirir, 4. indexli satiri getirmez"
   ]
  },
  {
   "cell_type": "code",
   "execution_count": null,
   "id": "fe82baca",
   "metadata": {},
   "outputs": [
    {
     "data": {
      "application/vnd.microsoft.datawrangler.viewer.v0+json": {
       "columns": [
        {
         "name": "Transaction ID",
         "rawType": "object",
         "type": "string"
        },
        {
         "name": "Item",
         "rawType": "object",
         "type": "unknown"
        },
        {
         "name": "Quantity",
         "rawType": "object",
         "type": "unknown"
        },
        {
         "name": "Price Per Unit",
         "rawType": "object",
         "type": "unknown"
        },
        {
         "name": "Total Spent",
         "rawType": "object",
         "type": "unknown"
        },
        {
         "name": "Payment Method",
         "rawType": "object",
         "type": "unknown"
        },
        {
         "name": "Location",
         "rawType": "object",
         "type": "unknown"
        },
        {
         "name": "Transaction Date",
         "rawType": "object",
         "type": "unknown"
        },
        {
         "name": "ilk_bes_satir_toplam",
         "rawType": "float64",
         "type": "float"
        }
       ],
       "ref": "6146a383-9d1d-4f5c-bdd4-59baabdaca2c",
       "rows": [
        [
         "TXN_1961373",
         "Coffee",
         "2",
         "2.0",
         "4.0",
         "Credit Card",
         "Takeaway",
         "2023-09-08",
         "4.0"
        ],
        [
         "TXN_4271903",
         "Cookie",
         "4",
         "1.0",
         "ERROR",
         "Credit Card",
         "In-store",
         "2023-07-19",
         "4.0"
        ],
        [
         "TXN_7034554",
         "Salad",
         "2",
         "5.0",
         "10.0",
         "UNKNOWN",
         "UNKNOWN",
         "2023-04-27",
         "10.0"
        ],
        [
         "TXN_3160411",
         "Coffee",
         "2",
         "2.0",
         "4.0",
         "Digital Wallet",
         "In-store",
         "2023-06-11",
         "4.0"
        ],
        [
         "TXN_2602893",
         "Smoothie",
         "5",
         "4.0",
         "20.0",
         "Credit Card",
         null,
         "2023-03-31",
         null
        ],
        [
         "TXN_4433211",
         "UNKNOWN",
         "3",
         "3.0",
         "9.0",
         "ERROR",
         "Takeaway",
         "2023-10-06",
         null
        ],
        [
         "TXN_6699534",
         "Sandwich",
         "4",
         "4.0",
         "16.0",
         "Cash",
         "UNKNOWN",
         "2023-10-28",
         null
        ],
        [
         "TXN_4717867",
         null,
         "5",
         "3.0",
         "15.0",
         null,
         "Takeaway",
         "2023-07-28",
         null
        ],
        [
         "TXN_2064365",
         "Sandwich",
         "5",
         "4.0",
         "20.0",
         null,
         "In-store",
         "2023-12-31",
         null
        ],
        [
         "TXN_2548360",
         "Salad",
         "5",
         "5.0",
         "25.0",
         "Cash",
         "Takeaway",
         "2023-11-07",
         null
        ],
        [
         "TXN_3051279",
         "Sandwich",
         "2",
         "4.0",
         "8.0",
         "Credit Card",
         "Takeaway",
         "ERROR",
         null
        ],
        [
         "TXN_7619095",
         "Sandwich",
         "2",
         "4.0",
         "8.0",
         "Cash",
         "In-store",
         "2023-05-03",
         null
        ],
        [
         "TXN_9437049",
         "Cookie",
         "5",
         "1.0",
         "5.0",
         null,
         "Takeaway",
         "2023-06-01",
         null
        ],
        [
         "TXN_8915701",
         "ERROR",
         "2",
         "1.5",
         "3.0",
         null,
         "In-store",
         "2023-03-21",
         null
        ],
        [
         "TXN_2847255",
         "Salad",
         "3",
         "5.0",
         "15.0",
         "Credit Card",
         "In-store",
         "2023-11-15",
         null
        ],
        [
         "TXN_3765707",
         "Sandwich",
         "1",
         "4.0",
         "4.0",
         null,
         null,
         "2023-06-10",
         null
        ],
        [
         "TXN_6769710",
         "Juice",
         "2",
         "3.0",
         "6.0",
         "Cash",
         "In-store",
         "2023-02-24",
         null
        ],
        [
         "TXN_8876618",
         "Cake",
         "5",
         "3.0",
         "15.0",
         "Cash",
         "ERROR",
         "2023-03-25",
         null
        ],
        [
         "TXN_3709394",
         "Juice",
         "4",
         "3.0",
         "12.0",
         "Cash",
         "Takeaway",
         "2023-01-15",
         null
        ],
        [
         "TXN_3522028",
         "Smoothie",
         "ERROR",
         "4.0",
         "20.0",
         "Cash",
         "In-store",
         "2023-04-04",
         null
        ],
        [
         "TXN_3567645",
         "Smoothie",
         "4",
         "4.0",
         "16.0",
         "Credit Card",
         "Takeaway",
         "2023-03-30",
         null
        ],
        [
         "TXN_5132361",
         "Sandwich",
         "3",
         "4.0",
         "12.0",
         "Digital Wallet",
         "Takeaway",
         "2023-12-01",
         null
        ],
        [
         "TXN_2616390",
         "Sandwich",
         "2",
         "4.0",
         "8.0",
         null,
         null,
         "2023-09-18",
         null
        ],
        [
         "TXN_9400181",
         "Sandwich",
         "5",
         "4.0",
         "20.0",
         "Cash",
         "In-store",
         "2023-06-03",
         null
        ],
        [
         "TXN_7958992",
         "Smoothie",
         "3",
         "4.0",
         null,
         "UNKNOWN",
         "UNKNOWN",
         "2023-12-13",
         null
        ],
        [
         "TXN_5183041",
         "Cookie",
         "5",
         "1.0",
         "5.0",
         "Credit Card",
         "In-store",
         "2023-04-20",
         null
        ],
        [
         "TXN_5695074",
         "Juice",
         "4",
         "3.0",
         "12.0",
         "Credit Card",
         "Takeaway",
         "2023-04-10",
         null
        ],
        [
         "TXN_8467949",
         "Smoothie",
         "5",
         "4.0",
         "20.0",
         "Credit Card",
         null,
         "2023-03-11",
         null
        ],
        [
         "TXN_7640952",
         "Cake",
         "4",
         "3.0",
         "12.0",
         "Digital Wallet",
         "Takeaway",
         "ERROR",
         null
        ],
        [
         "TXN_1736287",
         null,
         "5",
         "2.0",
         "10.0",
         "Digital Wallet",
         null,
         "2023-06-02",
         null
        ],
        [
         "TXN_8927252",
         "UNKNOWN",
         "2",
         "1.0",
         "ERROR",
         "Credit Card",
         "ERROR",
         "2023-11-06",
         null
        ],
        [
         "TXN_9677376",
         "Smoothie",
         "4",
         "4.0",
         "16.0",
         null,
         "In-store",
         "2023-08-15",
         null
        ],
        [
         "TXN_7710508",
         "UNKNOWN",
         "5",
         "1.0",
         "5.0",
         "Cash",
         null,
         "ERROR",
         null
        ],
        [
         "TXN_8853997",
         "Smoothie",
         "2",
         "4.0",
         "8.0",
         "Digital Wallet",
         "Takeaway",
         "2023-10-09",
         null
        ],
        [
         "TXN_9130559",
         "Sandwich",
         "1",
         "4.0",
         "4.0",
         "Credit Card",
         "UNKNOWN",
         "2023-05-28",
         null
        ],
        [
         "TXN_6855453",
         "UNKNOWN",
         "4",
         "3.0",
         "12.0",
         null,
         "In-store",
         "2023-07-17",
         null
        ],
        [
         "TXN_1080432",
         "Salad",
         "2",
         "5.0",
         "10.0",
         "Credit Card",
         "In-store",
         "2023-04-29",
         null
        ],
        [
         "TXN_2655815",
         "Smoothie",
         "4",
         "4.0",
         "16.0",
         null,
         "Takeaway",
         "2023-06-08",
         null
        ],
        [
         "TXN_6688524",
         "Coffee",
         "4",
         "2.0",
         "8.0",
         "ERROR",
         null,
         "2023-06-29",
         null
        ],
        [
         "TXN_2083138",
         "Smoothie",
         "3",
         "4.0",
         "12.0",
         null,
         "In-store",
         "2023-04-17",
         null
        ],
        [
         "TXN_2427584",
         "Sandwich",
         "4",
         "4.0",
         "16.0",
         null,
         "Takeaway",
         "2023-12-22",
         null
        ],
        [
         "TXN_6650263",
         "Tea",
         "2",
         "1.5",
         "UNKNOWN",
         null,
         "Takeaway",
         "2023-01-10",
         null
        ],
        [
         "TXN_9620080",
         "Juice",
         "4",
         "3.0",
         "12.0",
         null,
         "Takeaway",
         "2023-10-02",
         null
        ],
        [
         "TXN_1491578",
         "Cookie",
         "2",
         "1.0",
         "2.0",
         null,
         null,
         "2023-02-23",
         null
        ],
        [
         "TXN_5455792",
         "Salad",
         "3",
         "5.0",
         "15.0",
         "Cash",
         null,
         "2023-03-22",
         null
        ],
        [
         "TXN_8078640",
         "Juice",
         "4",
         "3.0",
         "12.0",
         "Digital Wallet",
         "In-store",
         "2023-11-03",
         null
        ],
        [
         "TXN_9499313",
         "Juice",
         "5",
         "3.0",
         "15.0",
         null,
         null,
         "2023-03-02",
         null
        ],
        [
         "TXN_8201146",
         "Juice",
         "5",
         "3.0",
         "15.0",
         "Cash",
         null,
         "2023-06-26",
         null
        ],
        [
         "TXN_8230936",
         "Cake",
         "3",
         "3.0",
         "9.0",
         null,
         "ERROR",
         "2023-05-02",
         null
        ],
        [
         "TXN_7742742",
         "Cake",
         "5",
         "3.0",
         "15.0",
         null,
         "Takeaway",
         "2023-09-05",
         null
        ]
       ],
       "shape": {
        "columns": 8,
        "rows": 9999
       }
      },
      "text/html": [
       "<div>\n",
       "<style scoped>\n",
       "    .dataframe tbody tr th:only-of-type {\n",
       "        vertical-align: middle;\n",
       "    }\n",
       "\n",
       "    .dataframe tbody tr th {\n",
       "        vertical-align: top;\n",
       "    }\n",
       "\n",
       "    .dataframe thead th {\n",
       "        text-align: right;\n",
       "    }\n",
       "</style>\n",
       "<table border=\"1\" class=\"dataframe\">\n",
       "  <thead>\n",
       "    <tr style=\"text-align: right;\">\n",
       "      <th></th>\n",
       "      <th>Item</th>\n",
       "      <th>Quantity</th>\n",
       "      <th>Price Per Unit</th>\n",
       "      <th>Total Spent</th>\n",
       "      <th>Payment Method</th>\n",
       "      <th>Location</th>\n",
       "      <th>Transaction Date</th>\n",
       "      <th>ilk_bes_satir_toplam</th>\n",
       "    </tr>\n",
       "    <tr>\n",
       "      <th>Transaction ID</th>\n",
       "      <th></th>\n",
       "      <th></th>\n",
       "      <th></th>\n",
       "      <th></th>\n",
       "      <th></th>\n",
       "      <th></th>\n",
       "      <th></th>\n",
       "      <th></th>\n",
       "    </tr>\n",
       "  </thead>\n",
       "  <tbody>\n",
       "    <tr>\n",
       "      <th>TXN_1961373</th>\n",
       "      <td>Coffee</td>\n",
       "      <td>2</td>\n",
       "      <td>2.0</td>\n",
       "      <td>4.0</td>\n",
       "      <td>Credit Card</td>\n",
       "      <td>Takeaway</td>\n",
       "      <td>2023-09-08</td>\n",
       "      <td>4.0</td>\n",
       "    </tr>\n",
       "    <tr>\n",
       "      <th>TXN_4271903</th>\n",
       "      <td>Cookie</td>\n",
       "      <td>4</td>\n",
       "      <td>1.0</td>\n",
       "      <td>ERROR</td>\n",
       "      <td>Credit Card</td>\n",
       "      <td>In-store</td>\n",
       "      <td>2023-07-19</td>\n",
       "      <td>4.0</td>\n",
       "    </tr>\n",
       "    <tr>\n",
       "      <th>TXN_7034554</th>\n",
       "      <td>Salad</td>\n",
       "      <td>2</td>\n",
       "      <td>5.0</td>\n",
       "      <td>10.0</td>\n",
       "      <td>UNKNOWN</td>\n",
       "      <td>UNKNOWN</td>\n",
       "      <td>2023-04-27</td>\n",
       "      <td>10.0</td>\n",
       "    </tr>\n",
       "    <tr>\n",
       "      <th>TXN_3160411</th>\n",
       "      <td>Coffee</td>\n",
       "      <td>2</td>\n",
       "      <td>2.0</td>\n",
       "      <td>4.0</td>\n",
       "      <td>Digital Wallet</td>\n",
       "      <td>In-store</td>\n",
       "      <td>2023-06-11</td>\n",
       "      <td>4.0</td>\n",
       "    </tr>\n",
       "    <tr>\n",
       "      <th>TXN_2602893</th>\n",
       "      <td>Smoothie</td>\n",
       "      <td>5</td>\n",
       "      <td>4.0</td>\n",
       "      <td>20.0</td>\n",
       "      <td>Credit Card</td>\n",
       "      <td>NaN</td>\n",
       "      <td>2023-03-31</td>\n",
       "      <td>NaN</td>\n",
       "    </tr>\n",
       "    <tr>\n",
       "      <th>...</th>\n",
       "      <td>...</td>\n",
       "      <td>...</td>\n",
       "      <td>...</td>\n",
       "      <td>...</td>\n",
       "      <td>...</td>\n",
       "      <td>...</td>\n",
       "      <td>...</td>\n",
       "      <td>...</td>\n",
       "    </tr>\n",
       "    <tr>\n",
       "      <th>TXN_7672686</th>\n",
       "      <td>Coffee</td>\n",
       "      <td>2</td>\n",
       "      <td>2.0</td>\n",
       "      <td>4.0</td>\n",
       "      <td>NaN</td>\n",
       "      <td>UNKNOWN</td>\n",
       "      <td>2023-08-30</td>\n",
       "      <td>NaN</td>\n",
       "    </tr>\n",
       "    <tr>\n",
       "      <th>TXN_9659401</th>\n",
       "      <td>NaN</td>\n",
       "      <td>3</td>\n",
       "      <td>NaN</td>\n",
       "      <td>3.0</td>\n",
       "      <td>Digital Wallet</td>\n",
       "      <td>NaN</td>\n",
       "      <td>2023-06-02</td>\n",
       "      <td>NaN</td>\n",
       "    </tr>\n",
       "    <tr>\n",
       "      <th>TXN_5255387</th>\n",
       "      <td>Coffee</td>\n",
       "      <td>4</td>\n",
       "      <td>2.0</td>\n",
       "      <td>8.0</td>\n",
       "      <td>Digital Wallet</td>\n",
       "      <td>NaN</td>\n",
       "      <td>2023-03-02</td>\n",
       "      <td>NaN</td>\n",
       "    </tr>\n",
       "    <tr>\n",
       "      <th>TXN_7695629</th>\n",
       "      <td>Cookie</td>\n",
       "      <td>3</td>\n",
       "      <td>NaN</td>\n",
       "      <td>3.0</td>\n",
       "      <td>Digital Wallet</td>\n",
       "      <td>NaN</td>\n",
       "      <td>2023-12-02</td>\n",
       "      <td>NaN</td>\n",
       "    </tr>\n",
       "    <tr>\n",
       "      <th>TXN_6170729</th>\n",
       "      <td>Sandwich</td>\n",
       "      <td>3</td>\n",
       "      <td>4.0</td>\n",
       "      <td>12.0</td>\n",
       "      <td>Cash</td>\n",
       "      <td>In-store</td>\n",
       "      <td>2023-11-07</td>\n",
       "      <td>NaN</td>\n",
       "    </tr>\n",
       "  </tbody>\n",
       "</table>\n",
       "<p>9999 rows × 8 columns</p>\n",
       "</div>"
      ],
      "text/plain": [
       "                    Item Quantity Price Per Unit Total Spent  Payment Method  \\\n",
       "Transaction ID                                                                 \n",
       "TXN_1961373       Coffee        2            2.0         4.0     Credit Card   \n",
       "TXN_4271903       Cookie        4            1.0       ERROR     Credit Card   \n",
       "TXN_7034554        Salad        2            5.0        10.0         UNKNOWN   \n",
       "TXN_3160411       Coffee        2            2.0         4.0  Digital Wallet   \n",
       "TXN_2602893     Smoothie        5            4.0        20.0     Credit Card   \n",
       "...                  ...      ...            ...         ...             ...   \n",
       "TXN_7672686       Coffee        2            2.0         4.0             NaN   \n",
       "TXN_9659401          NaN        3            NaN         3.0  Digital Wallet   \n",
       "TXN_5255387       Coffee        4            2.0         8.0  Digital Wallet   \n",
       "TXN_7695629       Cookie        3            NaN         3.0  Digital Wallet   \n",
       "TXN_6170729     Sandwich        3            4.0        12.0            Cash   \n",
       "\n",
       "                Location Transaction Date  ilk_bes_satir_toplam  \n",
       "Transaction ID                                                   \n",
       "TXN_1961373     Takeaway       2023-09-08                   4.0  \n",
       "TXN_4271903     In-store       2023-07-19                   4.0  \n",
       "TXN_7034554      UNKNOWN       2023-04-27                  10.0  \n",
       "TXN_3160411     In-store       2023-06-11                   4.0  \n",
       "TXN_2602893          NaN       2023-03-31                   NaN  \n",
       "...                  ...              ...                   ...  \n",
       "TXN_7672686      UNKNOWN       2023-08-30                   NaN  \n",
       "TXN_9659401          NaN       2023-06-02                   NaN  \n",
       "TXN_5255387          NaN       2023-03-02                   NaN  \n",
       "TXN_7695629          NaN       2023-12-02                   NaN  \n",
       "TXN_6170729     In-store       2023-11-07                   NaN  \n",
       "\n",
       "[9999 rows x 8 columns]"
      ]
     },
     "execution_count": 38,
     "metadata": {},
     "output_type": "execute_result"
    }
   ],
   "source": [
    "df.drop(\"TXN_4977031\", axis = 0) # \"TXN_4977031\" indexli satiri siler (kalici degildir), axis=0 satir islemi oldugunu belirtir\n",
    "# axis = 0 yazmasak da olur, default olarak satir islemi yapar"
   ]
  },
  {
   "cell_type": "code",
   "execution_count": 39,
   "id": "6cc3a493",
   "metadata": {},
   "outputs": [],
   "source": [
    "# Bir sutunu index olarak atayip daha sonra baska bir sutunu index olarak atamak istersek .set_index() icine append = True yazarsak onceki sutun geri gelir"
   ]
  },
  {
   "cell_type": "markdown",
   "id": "8e2d76b5",
   "metadata": {},
   "source": [
    "***DataFrame'de Sorgu Islemleri***"
   ]
  },
  {
   "cell_type": "code",
   "execution_count": 45,
   "id": "e5323f0d",
   "metadata": {},
   "outputs": [
    {
     "data": {
      "application/vnd.microsoft.datawrangler.viewer.v0+json": {
       "columns": [
        {
         "name": "index",
         "rawType": "object",
         "type": "string"
        },
        {
         "name": "Year",
         "rawType": "int64",
         "type": "integer"
        },
        {
         "name": "Pop",
         "rawType": "int64",
         "type": "integer"
        },
        {
         "name": "GDP",
         "rawType": "float64",
         "type": "float"
        }
       ],
       "ref": "afd790ee-2756-4040-8f5c-a879fce76adc",
       "rows": [
        [
         "USA",
         "1776",
         "328",
         "20.5"
        ],
        [
         "Canada",
         "1867",
         "38",
         "1.7"
        ],
        [
         "Mexico",
         "1821",
         "126",
         "1.22"
        ]
       ],
       "shape": {
        "columns": 3,
        "rows": 3
       }
      },
      "text/html": [
       "<div>\n",
       "<style scoped>\n",
       "    .dataframe tbody tr th:only-of-type {\n",
       "        vertical-align: middle;\n",
       "    }\n",
       "\n",
       "    .dataframe tbody tr th {\n",
       "        vertical-align: top;\n",
       "    }\n",
       "\n",
       "    .dataframe thead th {\n",
       "        text-align: right;\n",
       "    }\n",
       "</style>\n",
       "<table border=\"1\" class=\"dataframe\">\n",
       "  <thead>\n",
       "    <tr style=\"text-align: right;\">\n",
       "      <th></th>\n",
       "      <th>Year</th>\n",
       "      <th>Pop</th>\n",
       "      <th>GDP</th>\n",
       "    </tr>\n",
       "  </thead>\n",
       "  <tbody>\n",
       "    <tr>\n",
       "      <th>USA</th>\n",
       "      <td>1776</td>\n",
       "      <td>328</td>\n",
       "      <td>20.50</td>\n",
       "    </tr>\n",
       "    <tr>\n",
       "      <th>Canada</th>\n",
       "      <td>1867</td>\n",
       "      <td>38</td>\n",
       "      <td>1.70</td>\n",
       "    </tr>\n",
       "    <tr>\n",
       "      <th>Mexico</th>\n",
       "      <td>1821</td>\n",
       "      <td>126</td>\n",
       "      <td>1.22</td>\n",
       "    </tr>\n",
       "  </tbody>\n",
       "</table>\n",
       "</div>"
      ],
      "text/plain": [
       "        Year  Pop    GDP\n",
       "USA     1776  328  20.50\n",
       "Canada  1867   38   1.70\n",
       "Mexico  1821  126   1.22"
      ]
     },
     "execution_count": 45,
     "metadata": {},
     "output_type": "execute_result"
    }
   ],
   "source": [
    "df = pd.DataFrame({\"Year\" : [1776, 1867, 1821], \"Pop\" : [328, 38, 126], \"GDP\" : [20.5, 1.7, 1.22]}, index = [\"USA\", \"Canada\", \"Mexico\"])\n",
    "df"
   ]
  },
  {
   "cell_type": "code",
   "execution_count": null,
   "id": "7c14c6cf",
   "metadata": {},
   "outputs": [
    {
     "data": {
      "application/vnd.microsoft.datawrangler.viewer.v0+json": {
       "columns": [
        {
         "name": "index",
         "rawType": "object",
         "type": "string"
        },
        {
         "name": "Pop",
         "rawType": "bool",
         "type": "boolean"
        }
       ],
       "ref": "4369c178-d736-411e-90d9-30a5c9854d1a",
       "rows": [
        [
         "USA",
         "True"
        ],
        [
         "Canada",
         "False"
        ],
        [
         "Mexico",
         "True"
        ]
       ],
       "shape": {
        "columns": 1,
        "rows": 3
       }
      },
      "text/plain": [
       "USA        True\n",
       "Canada    False\n",
       "Mexico     True\n",
       "Name: Pop, dtype: bool"
      ]
     },
     "execution_count": 48,
     "metadata": {},
     "output_type": "execute_result"
    }
   ],
   "source": [
    "df[\"Pop\"] > 50 # \"Pop\" sutunundaki degerlerin 50'den buyuk olup olmadigini kontrol eder, boolean deger dondurur"
   ]
  },
  {
   "cell_type": "code",
   "execution_count": 50,
   "id": "89a5f34f",
   "metadata": {},
   "outputs": [
    {
     "data": {
      "application/vnd.microsoft.datawrangler.viewer.v0+json": {
       "columns": [
        {
         "name": "index",
         "rawType": "object",
         "type": "string"
        },
        {
         "name": "Year",
         "rawType": "int64",
         "type": "integer"
        },
        {
         "name": "Pop",
         "rawType": "int64",
         "type": "integer"
        },
        {
         "name": "GDP",
         "rawType": "float64",
         "type": "float"
        }
       ],
       "ref": "2823e727-9fdf-47f3-bea0-36c8e2ff0d77",
       "rows": [
        [
         "USA",
         "1776",
         "328",
         "20.5"
        ],
        [
         "Mexico",
         "1821",
         "126",
         "1.22"
        ]
       ],
       "shape": {
        "columns": 3,
        "rows": 2
       }
      },
      "text/html": [
       "<div>\n",
       "<style scoped>\n",
       "    .dataframe tbody tr th:only-of-type {\n",
       "        vertical-align: middle;\n",
       "    }\n",
       "\n",
       "    .dataframe tbody tr th {\n",
       "        vertical-align: top;\n",
       "    }\n",
       "\n",
       "    .dataframe thead th {\n",
       "        text-align: right;\n",
       "    }\n",
       "</style>\n",
       "<table border=\"1\" class=\"dataframe\">\n",
       "  <thead>\n",
       "    <tr style=\"text-align: right;\">\n",
       "      <th></th>\n",
       "      <th>Year</th>\n",
       "      <th>Pop</th>\n",
       "      <th>GDP</th>\n",
       "    </tr>\n",
       "  </thead>\n",
       "  <tbody>\n",
       "    <tr>\n",
       "      <th>USA</th>\n",
       "      <td>1776</td>\n",
       "      <td>328</td>\n",
       "      <td>20.50</td>\n",
       "    </tr>\n",
       "    <tr>\n",
       "      <th>Mexico</th>\n",
       "      <td>1821</td>\n",
       "      <td>126</td>\n",
       "      <td>1.22</td>\n",
       "    </tr>\n",
       "  </tbody>\n",
       "</table>\n",
       "</div>"
      ],
      "text/plain": [
       "        Year  Pop    GDP\n",
       "USA     1776  328  20.50\n",
       "Mexico  1821  126   1.22"
      ]
     },
     "execution_count": 50,
     "metadata": {},
     "output_type": "execute_result"
    }
   ],
   "source": [
    "df[df[\"Pop\"] > 50] # \"Pop\" sutunundaki degerleri 50'den buyuk olan satirlari DataFrame olarak getirir"
   ]
  },
  {
   "cell_type": "code",
   "execution_count": 51,
   "id": "ae7c8d65",
   "metadata": {},
   "outputs": [
    {
     "data": {
      "application/vnd.microsoft.datawrangler.viewer.v0+json": {
       "columns": [
        {
         "name": "index",
         "rawType": "object",
         "type": "string"
        },
        {
         "name": "Year",
         "rawType": "bool",
         "type": "boolean"
        }
       ],
       "ref": "ad4f1a63-589f-4495-8f2b-6818b6b3cf67",
       "rows": [
        [
         "USA",
         "False"
        ],
        [
         "Canada",
         "True"
        ],
        [
         "Mexico",
         "True"
        ]
       ],
       "shape": {
        "columns": 1,
        "rows": 3
       }
      },
      "text/plain": [
       "USA       False\n",
       "Canada     True\n",
       "Mexico     True\n",
       "Name: Year, dtype: bool"
      ]
     },
     "execution_count": 51,
     "metadata": {},
     "output_type": "execute_result"
    }
   ],
   "source": [
    "df[\"Year\"] > 1800 # \"Year\" sutunundaki degerlerin 1800'den buyuk olup olmadigini kontrol eder, boolean deger dondurur"
   ]
  },
  {
   "cell_type": "code",
   "execution_count": 52,
   "id": "51e51a94",
   "metadata": {},
   "outputs": [
    {
     "data": {
      "application/vnd.microsoft.datawrangler.viewer.v0+json": {
       "columns": [
        {
         "name": "index",
         "rawType": "object",
         "type": "string"
        },
        {
         "name": "Year",
         "rawType": "int64",
         "type": "integer"
        },
        {
         "name": "Pop",
         "rawType": "int64",
         "type": "integer"
        },
        {
         "name": "GDP",
         "rawType": "float64",
         "type": "float"
        }
       ],
       "ref": "6478ae01-765d-4a36-b565-c8ec5ab882d9",
       "rows": [
        [
         "Canada",
         "1867",
         "38",
         "1.7"
        ],
        [
         "Mexico",
         "1821",
         "126",
         "1.22"
        ]
       ],
       "shape": {
        "columns": 3,
        "rows": 2
       }
      },
      "text/html": [
       "<div>\n",
       "<style scoped>\n",
       "    .dataframe tbody tr th:only-of-type {\n",
       "        vertical-align: middle;\n",
       "    }\n",
       "\n",
       "    .dataframe tbody tr th {\n",
       "        vertical-align: top;\n",
       "    }\n",
       "\n",
       "    .dataframe thead th {\n",
       "        text-align: right;\n",
       "    }\n",
       "</style>\n",
       "<table border=\"1\" class=\"dataframe\">\n",
       "  <thead>\n",
       "    <tr style=\"text-align: right;\">\n",
       "      <th></th>\n",
       "      <th>Year</th>\n",
       "      <th>Pop</th>\n",
       "      <th>GDP</th>\n",
       "    </tr>\n",
       "  </thead>\n",
       "  <tbody>\n",
       "    <tr>\n",
       "      <th>Canada</th>\n",
       "      <td>1867</td>\n",
       "      <td>38</td>\n",
       "      <td>1.70</td>\n",
       "    </tr>\n",
       "    <tr>\n",
       "      <th>Mexico</th>\n",
       "      <td>1821</td>\n",
       "      <td>126</td>\n",
       "      <td>1.22</td>\n",
       "    </tr>\n",
       "  </tbody>\n",
       "</table>\n",
       "</div>"
      ],
      "text/plain": [
       "        Year  Pop   GDP\n",
       "Canada  1867   38  1.70\n",
       "Mexico  1821  126  1.22"
      ]
     },
     "execution_count": 52,
     "metadata": {},
     "output_type": "execute_result"
    }
   ],
   "source": [
    "df[df[\"Year\"] > 1800] # \"Year\" sutunundaki degerleri 1800'den buyuk olan satirlari DataFrame olarak getirir"
   ]
  },
  {
   "cell_type": "code",
   "execution_count": null,
   "id": "4bb5733e",
   "metadata": {},
   "outputs": [
    {
     "data": {
      "application/vnd.microsoft.datawrangler.viewer.v0+json": {
       "columns": [
        {
         "name": "index",
         "rawType": "object",
         "type": "string"
        },
        {
         "name": "Year",
         "rawType": "int64",
         "type": "integer"
        },
        {
         "name": "Pop",
         "rawType": "int64",
         "type": "integer"
        },
        {
         "name": "GDP",
         "rawType": "float64",
         "type": "float"
        }
       ],
       "ref": "c2afa5b5-21bc-40a5-85d3-4968b5f25cfd",
       "rows": [
        [
         "Canada",
         "1867",
         "38",
         "1.7"
        ],
        [
         "Mexico",
         "1821",
         "126",
         "1.22"
        ]
       ],
       "shape": {
        "columns": 3,
        "rows": 2
       }
      },
      "text/html": [
       "<div>\n",
       "<style scoped>\n",
       "    .dataframe tbody tr th:only-of-type {\n",
       "        vertical-align: middle;\n",
       "    }\n",
       "\n",
       "    .dataframe tbody tr th {\n",
       "        vertical-align: top;\n",
       "    }\n",
       "\n",
       "    .dataframe thead th {\n",
       "        text-align: right;\n",
       "    }\n",
       "</style>\n",
       "<table border=\"1\" class=\"dataframe\">\n",
       "  <thead>\n",
       "    <tr style=\"text-align: right;\">\n",
       "      <th></th>\n",
       "      <th>Year</th>\n",
       "      <th>Pop</th>\n",
       "      <th>GDP</th>\n",
       "    </tr>\n",
       "  </thead>\n",
       "  <tbody>\n",
       "    <tr>\n",
       "      <th>Canada</th>\n",
       "      <td>1867</td>\n",
       "      <td>38</td>\n",
       "      <td>1.70</td>\n",
       "    </tr>\n",
       "    <tr>\n",
       "      <th>Mexico</th>\n",
       "      <td>1821</td>\n",
       "      <td>126</td>\n",
       "      <td>1.22</td>\n",
       "    </tr>\n",
       "  </tbody>\n",
       "</table>\n",
       "</div>"
      ],
      "text/plain": [
       "        Year  Pop   GDP\n",
       "Canada  1867   38  1.70\n",
       "Mexico  1821  126  1.22"
      ]
     },
     "execution_count": 53,
     "metadata": {},
     "output_type": "execute_result"
    }
   ],
   "source": [
    "df[(df[\"Year\"] > 1800) & (df[\"Pop\"] < 200)] # \"Year\" sutunundaki degerleri 1800'den buyuk VE \"Pop\" sutunundaki degerleri 200'den kucuk olan satirlari getirir"
   ]
  },
  {
   "cell_type": "code",
   "execution_count": null,
   "id": "5a3214ad",
   "metadata": {},
   "outputs": [
    {
     "data": {
      "application/vnd.microsoft.datawrangler.viewer.v0+json": {
       "columns": [
        {
         "name": "index",
         "rawType": "object",
         "type": "string"
        },
        {
         "name": "Year",
         "rawType": "int64",
         "type": "integer"
        },
        {
         "name": "Pop",
         "rawType": "int64",
         "type": "integer"
        },
        {
         "name": "GDP",
         "rawType": "float64",
         "type": "float"
        }
       ],
       "ref": "a5cd82cc-d616-4d7e-86d5-66fe4502f385",
       "rows": [
        [
         "USA",
         "1776",
         "328",
         "20.5"
        ],
        [
         "Mexico",
         "1821",
         "126",
         "1.22"
        ]
       ],
       "shape": {
        "columns": 3,
        "rows": 2
       }
      },
      "text/html": [
       "<div>\n",
       "<style scoped>\n",
       "    .dataframe tbody tr th:only-of-type {\n",
       "        vertical-align: middle;\n",
       "    }\n",
       "\n",
       "    .dataframe tbody tr th {\n",
       "        vertical-align: top;\n",
       "    }\n",
       "\n",
       "    .dataframe thead th {\n",
       "        text-align: right;\n",
       "    }\n",
       "</style>\n",
       "<table border=\"1\" class=\"dataframe\">\n",
       "  <thead>\n",
       "    <tr style=\"text-align: right;\">\n",
       "      <th></th>\n",
       "      <th>Year</th>\n",
       "      <th>Pop</th>\n",
       "      <th>GDP</th>\n",
       "    </tr>\n",
       "  </thead>\n",
       "  <tbody>\n",
       "    <tr>\n",
       "      <th>USA</th>\n",
       "      <td>1776</td>\n",
       "      <td>328</td>\n",
       "      <td>20.50</td>\n",
       "    </tr>\n",
       "    <tr>\n",
       "      <th>Mexico</th>\n",
       "      <td>1821</td>\n",
       "      <td>126</td>\n",
       "      <td>1.22</td>\n",
       "    </tr>\n",
       "  </tbody>\n",
       "</table>\n",
       "</div>"
      ],
      "text/plain": [
       "        Year  Pop    GDP\n",
       "USA     1776  328  20.50\n",
       "Mexico  1821  126   1.22"
      ]
     },
     "execution_count": 58,
     "metadata": {},
     "output_type": "execute_result"
    }
   ],
   "source": [
    "df[(df[\"Year\"] == 1776) | (df[\"GDP\"] < 1.5)] # \"Year\" sutununda 1776 degeri olan VEYA \"GDP\" sutunundaki degerleri 1.5'den kucuk olan satirlari getirir"
   ]
  },
  {
   "cell_type": "code",
   "execution_count": 57,
   "id": "9e297141",
   "metadata": {},
   "outputs": [],
   "source": [
    "# & ile | arasindaki fark : & (ve) her iki kosulun da dogru olmasini gerektirirken, | (veya) en az bir kosulun dogru olmasini gerektirir."
   ]
  },
  {
   "cell_type": "code",
   "execution_count": 60,
   "id": "e1f5acdc",
   "metadata": {},
   "outputs": [
    {
     "data": {
      "application/vnd.microsoft.datawrangler.viewer.v0+json": {
       "columns": [
        {
         "name": "index",
         "rawType": "object",
         "type": "string"
        },
        {
         "name": "Year",
         "rawType": "int64",
         "type": "integer"
        },
        {
         "name": "Pop",
         "rawType": "int64",
         "type": "integer"
        },
        {
         "name": "GDP",
         "rawType": "float64",
         "type": "float"
        }
       ],
       "ref": "56c883ae-8e93-4c3f-b97d-c7d98cbc1b12",
       "rows": [
        [
         "USA",
         "1776",
         "328",
         "20.5"
        ],
        [
         "Canada",
         "1867",
         "38",
         "1.7"
        ],
        [
         "Mexico",
         "1821",
         "126",
         "1.22"
        ]
       ],
       "shape": {
        "columns": 3,
        "rows": 3
       }
      },
      "text/html": [
       "<div>\n",
       "<style scoped>\n",
       "    .dataframe tbody tr th:only-of-type {\n",
       "        vertical-align: middle;\n",
       "    }\n",
       "\n",
       "    .dataframe tbody tr th {\n",
       "        vertical-align: top;\n",
       "    }\n",
       "\n",
       "    .dataframe thead th {\n",
       "        text-align: right;\n",
       "    }\n",
       "</style>\n",
       "<table border=\"1\" class=\"dataframe\">\n",
       "  <thead>\n",
       "    <tr style=\"text-align: right;\">\n",
       "      <th></th>\n",
       "      <th>Year</th>\n",
       "      <th>Pop</th>\n",
       "      <th>GDP</th>\n",
       "    </tr>\n",
       "  </thead>\n",
       "  <tbody>\n",
       "    <tr>\n",
       "      <th>USA</th>\n",
       "      <td>1776</td>\n",
       "      <td>328</td>\n",
       "      <td>20.50</td>\n",
       "    </tr>\n",
       "    <tr>\n",
       "      <th>Canada</th>\n",
       "      <td>1867</td>\n",
       "      <td>38</td>\n",
       "      <td>1.70</td>\n",
       "    </tr>\n",
       "    <tr>\n",
       "      <th>Mexico</th>\n",
       "      <td>1821</td>\n",
       "      <td>126</td>\n",
       "      <td>1.22</td>\n",
       "    </tr>\n",
       "  </tbody>\n",
       "</table>\n",
       "</div>"
      ],
      "text/plain": [
       "        Year  Pop    GDP\n",
       "USA     1776  328  20.50\n",
       "Canada  1867   38   1.70\n",
       "Mexico  1821  126   1.22"
      ]
     },
     "execution_count": 60,
     "metadata": {},
     "output_type": "execute_result"
    }
   ],
   "source": [
    "# \"Year\" sutununda 1776 degeri olan VEYA \"GDP\" sutunundaki degerleri 1.5'den kucuk OLAN VEYA \"Pop\" sutunundaki degerleri 30'dan buyuk olan satirlari getirir\n",
    "df[(df[\"Year\"] == 1776) | (df[\"GDP\"] < 1.5) | (df[\"Pop\"] > 30)] "
   ]
  },
  {
   "cell_type": "code",
   "execution_count": null,
   "id": "8d19073c",
   "metadata": {},
   "outputs": [],
   "source": [
    "# ustteki ornek ile alttaki ornek arasindaki fark: daha fazla olan sorgularda alttaki ornek hem performans acisindan hem de maliyet acisindan daha ondedir"
   ]
  },
  {
   "cell_type": "code",
   "execution_count": 63,
   "id": "0751d807",
   "metadata": {},
   "outputs": [
    {
     "data": {
      "application/vnd.microsoft.datawrangler.viewer.v0+json": {
       "columns": [
        {
         "name": "index",
         "rawType": "object",
         "type": "string"
        },
        {
         "name": "Year",
         "rawType": "bool",
         "type": "boolean"
        },
        {
         "name": "Pop",
         "rawType": "bool",
         "type": "boolean"
        },
        {
         "name": "GDP",
         "rawType": "bool",
         "type": "boolean"
        }
       ],
       "ref": "66fa7781-5e7d-42b6-9975-ca25e19c982e",
       "rows": [
        [
         "USA",
         "True",
         "True",
         "False"
        ],
        [
         "Canada",
         "False",
         "False",
         "True"
        ],
        [
         "Mexico",
         "False",
         "False",
         "False"
        ]
       ],
       "shape": {
        "columns": 3,
        "rows": 3
       }
      },
      "text/html": [
       "<div>\n",
       "<style scoped>\n",
       "    .dataframe tbody tr th:only-of-type {\n",
       "        vertical-align: middle;\n",
       "    }\n",
       "\n",
       "    .dataframe tbody tr th {\n",
       "        vertical-align: top;\n",
       "    }\n",
       "\n",
       "    .dataframe thead th {\n",
       "        text-align: right;\n",
       "    }\n",
       "</style>\n",
       "<table border=\"1\" class=\"dataframe\">\n",
       "  <thead>\n",
       "    <tr style=\"text-align: right;\">\n",
       "      <th></th>\n",
       "      <th>Year</th>\n",
       "      <th>Pop</th>\n",
       "      <th>GDP</th>\n",
       "    </tr>\n",
       "  </thead>\n",
       "  <tbody>\n",
       "    <tr>\n",
       "      <th>USA</th>\n",
       "      <td>True</td>\n",
       "      <td>True</td>\n",
       "      <td>False</td>\n",
       "    </tr>\n",
       "    <tr>\n",
       "      <th>Canada</th>\n",
       "      <td>False</td>\n",
       "      <td>False</td>\n",
       "      <td>True</td>\n",
       "    </tr>\n",
       "    <tr>\n",
       "      <th>Mexico</th>\n",
       "      <td>False</td>\n",
       "      <td>False</td>\n",
       "      <td>False</td>\n",
       "    </tr>\n",
       "  </tbody>\n",
       "</table>\n",
       "</div>"
      ],
      "text/plain": [
       "         Year    Pop    GDP\n",
       "USA      True   True  False\n",
       "Canada  False  False   True\n",
       "Mexico  False  False  False"
      ]
     },
     "execution_count": 63,
     "metadata": {},
     "output_type": "execute_result"
    }
   ],
   "source": [
    "df.isin([1776, 328, 1.7]) # belirtilen degerlerin DataFrame'de olup olmadigini kontrol eder, boolean deger dondurur"
   ]
  },
  {
   "cell_type": "code",
   "execution_count": 64,
   "id": "f0848d15",
   "metadata": {},
   "outputs": [
    {
     "data": {
      "application/vnd.microsoft.datawrangler.viewer.v0+json": {
       "columns": [
        {
         "name": "index",
         "rawType": "object",
         "type": "string"
        },
        {
         "name": "Year",
         "rawType": "float64",
         "type": "float"
        },
        {
         "name": "Pop",
         "rawType": "float64",
         "type": "float"
        },
        {
         "name": "GDP",
         "rawType": "float64",
         "type": "float"
        }
       ],
       "ref": "2a18c183-c1ec-4566-9c5b-d3d703e28432",
       "rows": [
        [
         "USA",
         "1776.0",
         "328.0",
         null
        ],
        [
         "Canada",
         null,
         null,
         "1.7"
        ],
        [
         "Mexico",
         null,
         null,
         null
        ]
       ],
       "shape": {
        "columns": 3,
        "rows": 3
       }
      },
      "text/html": [
       "<div>\n",
       "<style scoped>\n",
       "    .dataframe tbody tr th:only-of-type {\n",
       "        vertical-align: middle;\n",
       "    }\n",
       "\n",
       "    .dataframe tbody tr th {\n",
       "        vertical-align: top;\n",
       "    }\n",
       "\n",
       "    .dataframe thead th {\n",
       "        text-align: right;\n",
       "    }\n",
       "</style>\n",
       "<table border=\"1\" class=\"dataframe\">\n",
       "  <thead>\n",
       "    <tr style=\"text-align: right;\">\n",
       "      <th></th>\n",
       "      <th>Year</th>\n",
       "      <th>Pop</th>\n",
       "      <th>GDP</th>\n",
       "    </tr>\n",
       "  </thead>\n",
       "  <tbody>\n",
       "    <tr>\n",
       "      <th>USA</th>\n",
       "      <td>1776.0</td>\n",
       "      <td>328.0</td>\n",
       "      <td>NaN</td>\n",
       "    </tr>\n",
       "    <tr>\n",
       "      <th>Canada</th>\n",
       "      <td>NaN</td>\n",
       "      <td>NaN</td>\n",
       "      <td>1.7</td>\n",
       "    </tr>\n",
       "    <tr>\n",
       "      <th>Mexico</th>\n",
       "      <td>NaN</td>\n",
       "      <td>NaN</td>\n",
       "      <td>NaN</td>\n",
       "    </tr>\n",
       "  </tbody>\n",
       "</table>\n",
       "</div>"
      ],
      "text/plain": [
       "          Year    Pop  GDP\n",
       "USA     1776.0  328.0  NaN\n",
       "Canada     NaN    NaN  1.7\n",
       "Mexico     NaN    NaN  NaN"
      ]
     },
     "execution_count": 64,
     "metadata": {},
     "output_type": "execute_result"
    }
   ],
   "source": [
    "df[df.isin([1776, 328, 1.7])] # belirtilen degerlerin bulundugu satirlari getirir"
   ]
  },
  {
   "cell_type": "code",
   "execution_count": 72,
   "id": "e8063f86",
   "metadata": {},
   "outputs": [
    {
     "data": {
      "application/vnd.microsoft.datawrangler.viewer.v0+json": {
       "columns": [
        {
         "name": "index",
         "rawType": "object",
         "type": "string"
        },
        {
         "name": "Year",
         "rawType": "int64",
         "type": "integer"
        },
        {
         "name": "Pop",
         "rawType": "int64",
         "type": "integer"
        },
        {
         "name": "GDP",
         "rawType": "float64",
         "type": "float"
        }
       ],
       "ref": "5b278aed-0350-43db-b928-09170b6a46e6",
       "rows": [
        [
         "USA",
         "1776",
         "328",
         "20.5"
        ],
        [
         "Mexico",
         "1821",
         "126",
         "1.22"
        ]
       ],
       "shape": {
        "columns": 3,
        "rows": 2
       }
      },
      "text/html": [
       "<div>\n",
       "<style scoped>\n",
       "    .dataframe tbody tr th:only-of-type {\n",
       "        vertical-align: middle;\n",
       "    }\n",
       "\n",
       "    .dataframe tbody tr th {\n",
       "        vertical-align: top;\n",
       "    }\n",
       "\n",
       "    .dataframe thead th {\n",
       "        text-align: right;\n",
       "    }\n",
       "</style>\n",
       "<table border=\"1\" class=\"dataframe\">\n",
       "  <thead>\n",
       "    <tr style=\"text-align: right;\">\n",
       "      <th></th>\n",
       "      <th>Year</th>\n",
       "      <th>Pop</th>\n",
       "      <th>GDP</th>\n",
       "    </tr>\n",
       "  </thead>\n",
       "  <tbody>\n",
       "    <tr>\n",
       "      <th>USA</th>\n",
       "      <td>1776</td>\n",
       "      <td>328</td>\n",
       "      <td>20.50</td>\n",
       "    </tr>\n",
       "    <tr>\n",
       "      <th>Mexico</th>\n",
       "      <td>1821</td>\n",
       "      <td>126</td>\n",
       "      <td>1.22</td>\n",
       "    </tr>\n",
       "  </tbody>\n",
       "</table>\n",
       "</div>"
      ],
      "text/plain": [
       "        Year  Pop    GDP\n",
       "USA     1776  328  20.50\n",
       "Mexico  1821  126   1.22"
      ]
     },
     "execution_count": 72,
     "metadata": {},
     "output_type": "execute_result"
    }
   ],
   "source": [
    "df[df[\"Year\"].isin([1776, 1821])] # \"Year\" sutununda belirtilen degerlerin bulundugu satirlari getirir"
   ]
  },
  {
   "cell_type": "code",
   "execution_count": null,
   "id": "c38cc17a",
   "metadata": {},
   "outputs": [
    {
     "data": {
      "application/vnd.microsoft.datawrangler.viewer.v0+json": {
       "columns": [
        {
         "name": "index",
         "rawType": "object",
         "type": "string"
        },
        {
         "name": "Year",
         "rawType": "int64",
         "type": "integer"
        },
        {
         "name": "Pop",
         "rawType": "int64",
         "type": "integer"
        },
        {
         "name": "GDP",
         "rawType": "float64",
         "type": "float"
        }
       ],
       "ref": "552dcb1d-6559-4913-958f-9e6dc8724322",
       "rows": [
        [
         "Canada",
         "1867",
         "38",
         "1.7"
        ],
        [
         "Mexico",
         "1821",
         "126",
         "1.22"
        ]
       ],
       "shape": {
        "columns": 3,
        "rows": 2
       }
      },
      "text/html": [
       "<div>\n",
       "<style scoped>\n",
       "    .dataframe tbody tr th:only-of-type {\n",
       "        vertical-align: middle;\n",
       "    }\n",
       "\n",
       "    .dataframe tbody tr th {\n",
       "        vertical-align: top;\n",
       "    }\n",
       "\n",
       "    .dataframe thead th {\n",
       "        text-align: right;\n",
       "    }\n",
       "</style>\n",
       "<table border=\"1\" class=\"dataframe\">\n",
       "  <thead>\n",
       "    <tr style=\"text-align: right;\">\n",
       "      <th></th>\n",
       "      <th>Year</th>\n",
       "      <th>Pop</th>\n",
       "      <th>GDP</th>\n",
       "    </tr>\n",
       "  </thead>\n",
       "  <tbody>\n",
       "    <tr>\n",
       "      <th>Canada</th>\n",
       "      <td>1867</td>\n",
       "      <td>38</td>\n",
       "      <td>1.70</td>\n",
       "    </tr>\n",
       "    <tr>\n",
       "      <th>Mexico</th>\n",
       "      <td>1821</td>\n",
       "      <td>126</td>\n",
       "      <td>1.22</td>\n",
       "    </tr>\n",
       "  </tbody>\n",
       "</table>\n",
       "</div>"
      ],
      "text/plain": [
       "        Year  Pop   GDP\n",
       "Canada  1867   38  1.70\n",
       "Mexico  1821  126  1.22"
      ]
     },
     "execution_count": 73,
     "metadata": {},
     "output_type": "execute_result"
    }
   ],
   "source": [
    "df[df[\"Pop\"] != 328] # \"Pop\" sutununda 328 degerine esit olmayan satirlari getirir"
   ]
  },
  {
   "cell_type": "code",
   "execution_count": 77,
   "id": "92677bfb",
   "metadata": {},
   "outputs": [
    {
     "data": {
      "application/vnd.microsoft.datawrangler.viewer.v0+json": {
       "columns": [
        {
         "name": "index",
         "rawType": "object",
         "type": "string"
        },
        {
         "name": "Year",
         "rawType": "int64",
         "type": "integer"
        },
        {
         "name": "Pop",
         "rawType": "int64",
         "type": "integer"
        },
        {
         "name": "GDP",
         "rawType": "float64",
         "type": "float"
        }
       ],
       "ref": "15369c85-10a6-4072-bae6-a960046ccd4c",
       "rows": [
        [
         "USA",
         "1776",
         "328",
         "20.5"
        ],
        [
         "Canada",
         "1867",
         "38",
         "1.7"
        ]
       ],
       "shape": {
        "columns": 3,
        "rows": 2
       }
      },
      "text/html": [
       "<div>\n",
       "<style scoped>\n",
       "    .dataframe tbody tr th:only-of-type {\n",
       "        vertical-align: middle;\n",
       "    }\n",
       "\n",
       "    .dataframe tbody tr th {\n",
       "        vertical-align: top;\n",
       "    }\n",
       "\n",
       "    .dataframe thead th {\n",
       "        text-align: right;\n",
       "    }\n",
       "</style>\n",
       "<table border=\"1\" class=\"dataframe\">\n",
       "  <thead>\n",
       "    <tr style=\"text-align: right;\">\n",
       "      <th></th>\n",
       "      <th>Year</th>\n",
       "      <th>Pop</th>\n",
       "      <th>GDP</th>\n",
       "    </tr>\n",
       "  </thead>\n",
       "  <tbody>\n",
       "    <tr>\n",
       "      <th>USA</th>\n",
       "      <td>1776</td>\n",
       "      <td>328</td>\n",
       "      <td>20.5</td>\n",
       "    </tr>\n",
       "    <tr>\n",
       "      <th>Canada</th>\n",
       "      <td>1867</td>\n",
       "      <td>38</td>\n",
       "      <td>1.7</td>\n",
       "    </tr>\n",
       "  </tbody>\n",
       "</table>\n",
       "</div>"
      ],
      "text/plain": [
       "        Year  Pop   GDP\n",
       "USA     1776  328  20.5\n",
       "Canada  1867   38   1.7"
      ]
     },
     "execution_count": 77,
     "metadata": {},
     "output_type": "execute_result"
    }
   ],
   "source": [
    "df[~(df[\"GDP\"] == 1.22)] # ~ isareti : verilen kosulun tersini alir, yani \"GDP\" sutununda 1.22 degerine esit olmayan satirlari getirir"
   ]
  }
 ],
 "metadata": {
  "kernelspec": {
   "display_name": "Python 3",
   "language": "python",
   "name": "python3"
  },
  "language_info": {
   "codemirror_mode": {
    "name": "ipython",
    "version": 3
   },
   "file_extension": ".py",
   "mimetype": "text/x-python",
   "name": "python",
   "nbconvert_exporter": "python",
   "pygments_lexer": "ipython3",
   "version": "3.14.0"
  }
 },
 "nbformat": 4,
 "nbformat_minor": 5
}
