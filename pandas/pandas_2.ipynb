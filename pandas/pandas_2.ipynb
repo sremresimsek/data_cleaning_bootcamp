{
 "cells": [
  {
   "cell_type": "markdown",
   "id": "a160addb",
   "metadata": {},
   "source": [
    "# DataFrame\n",
    "\n",
    "df'in icerisinde bir ya da birden fazla sutunu secmek\n",
    "\n",
    "df'in icerisinde bir ya da birden fazla satiri secmek\n",
    "\n",
    "df'in icerisine sutun ve satir ekleme"
   ]
  },
  {
   "cell_type": "code",
   "execution_count": 2,
   "id": "b1e5cf9e",
   "metadata": {},
   "outputs": [],
   "source": [
    "import numpy as np\n",
    "import pandas as pd"
   ]
  },
  {
   "cell_type": "code",
   "execution_count": 3,
   "id": "f50d3009",
   "metadata": {},
   "outputs": [],
   "source": [
    "# pd.DataFrame() ile olusturulur"
   ]
  },
  {
   "cell_type": "code",
   "execution_count": null,
   "id": "6e3adc21",
   "metadata": {},
   "outputs": [
    {
     "data": {
      "text/plain": [
       "array([[49,  0,  4, 50],\n",
       "       [96, 67, 43, 11],\n",
       "       [62, 37, 13, 17],\n",
       "       [47,  2, 73, 72],\n",
       "       [86, 82, 97, 93]], dtype=int32)"
      ]
     },
     "execution_count": 5,
     "metadata": {},
     "output_type": "execute_result"
    }
   ],
   "source": [
    "my_data1 = np.random.randint(0, 101, (5, 4))\n",
    "my_data1"
   ]
  },
  {
   "cell_type": "code",
   "execution_count": null,
   "id": "54e54922",
   "metadata": {},
   "outputs": [
    {
     "data": {
      "application/vnd.microsoft.datawrangler.viewer.v0+json": {
       "columns": [
        {
         "name": "index",
         "rawType": "int64",
         "type": "integer"
        },
        {
         "name": "0",
         "rawType": "int32",
         "type": "integer"
        },
        {
         "name": "1",
         "rawType": "int32",
         "type": "integer"
        },
        {
         "name": "2",
         "rawType": "int32",
         "type": "integer"
        },
        {
         "name": "3",
         "rawType": "int32",
         "type": "integer"
        }
       ],
       "ref": "90518b18-84cf-4077-a4cb-99bafee7cc65",
       "rows": [
        [
         "0",
         "49",
         "0",
         "4",
         "50"
        ],
        [
         "1",
         "96",
         "67",
         "43",
         "11"
        ],
        [
         "2",
         "62",
         "37",
         "13",
         "17"
        ],
        [
         "3",
         "47",
         "2",
         "73",
         "72"
        ],
        [
         "4",
         "86",
         "82",
         "97",
         "93"
        ]
       ],
       "shape": {
        "columns": 4,
        "rows": 5
       }
      },
      "text/html": [
       "<div>\n",
       "<style scoped>\n",
       "    .dataframe tbody tr th:only-of-type {\n",
       "        vertical-align: middle;\n",
       "    }\n",
       "\n",
       "    .dataframe tbody tr th {\n",
       "        vertical-align: top;\n",
       "    }\n",
       "\n",
       "    .dataframe thead th {\n",
       "        text-align: right;\n",
       "    }\n",
       "</style>\n",
       "<table border=\"1\" class=\"dataframe\">\n",
       "  <thead>\n",
       "    <tr style=\"text-align: right;\">\n",
       "      <th></th>\n",
       "      <th>0</th>\n",
       "      <th>1</th>\n",
       "      <th>2</th>\n",
       "      <th>3</th>\n",
       "    </tr>\n",
       "  </thead>\n",
       "  <tbody>\n",
       "    <tr>\n",
       "      <th>0</th>\n",
       "      <td>49</td>\n",
       "      <td>0</td>\n",
       "      <td>4</td>\n",
       "      <td>50</td>\n",
       "    </tr>\n",
       "    <tr>\n",
       "      <th>1</th>\n",
       "      <td>96</td>\n",
       "      <td>67</td>\n",
       "      <td>43</td>\n",
       "      <td>11</td>\n",
       "    </tr>\n",
       "    <tr>\n",
       "      <th>2</th>\n",
       "      <td>62</td>\n",
       "      <td>37</td>\n",
       "      <td>13</td>\n",
       "      <td>17</td>\n",
       "    </tr>\n",
       "    <tr>\n",
       "      <th>3</th>\n",
       "      <td>47</td>\n",
       "      <td>2</td>\n",
       "      <td>73</td>\n",
       "      <td>72</td>\n",
       "    </tr>\n",
       "    <tr>\n",
       "      <th>4</th>\n",
       "      <td>86</td>\n",
       "      <td>82</td>\n",
       "      <td>97</td>\n",
       "      <td>93</td>\n",
       "    </tr>\n",
       "  </tbody>\n",
       "</table>\n",
       "</div>"
      ],
      "text/plain": [
       "    0   1   2   3\n",
       "0  49   0   4  50\n",
       "1  96  67  43  11\n",
       "2  62  37  13  17\n",
       "3  47   2  73  72\n",
       "4  86  82  97  93"
      ]
     },
     "execution_count": 7,
     "metadata": {},
     "output_type": "execute_result"
    }
   ],
   "source": [
    "pd.DataFrame(my_data1) # dataframe olusturuldu"
   ]
  },
  {
   "cell_type": "code",
   "execution_count": null,
   "id": "b14d19c7",
   "metadata": {},
   "outputs": [],
   "source": [
    "my_index = [\"TR\", \"BR\", \"USA\", \"RU\"] # satir isimleri\n",
    "my_cols = [\"Jan\", \"Feb\", \"Mar\"] # sutun isimleri\n",
    "my_data2 = np.random.randint(10, 100, (4, 3)) # 4 satir 3 sutunluk rastgele sayilar"
   ]
  },
  {
   "cell_type": "code",
   "execution_count": null,
   "id": "d928e1e9",
   "metadata": {},
   "outputs": [
    {
     "data": {
      "application/vnd.microsoft.datawrangler.viewer.v0+json": {
       "columns": [
        {
         "name": "index",
         "rawType": "object",
         "type": "string"
        },
        {
         "name": "Jan",
         "rawType": "int32",
         "type": "integer"
        },
        {
         "name": "Feb",
         "rawType": "int32",
         "type": "integer"
        },
        {
         "name": "Mar",
         "rawType": "int32",
         "type": "integer"
        }
       ],
       "ref": "c750c614-3bd7-4ac3-ad35-1cc674dceb16",
       "rows": [
        [
         "TR",
         "14",
         "87",
         "13"
        ],
        [
         "BR",
         "14",
         "97",
         "53"
        ],
        [
         "USA",
         "24",
         "14",
         "42"
        ],
        [
         "RU",
         "70",
         "10",
         "35"
        ]
       ],
       "shape": {
        "columns": 3,
        "rows": 4
       }
      },
      "text/html": [
       "<div>\n",
       "<style scoped>\n",
       "    .dataframe tbody tr th:only-of-type {\n",
       "        vertical-align: middle;\n",
       "    }\n",
       "\n",
       "    .dataframe tbody tr th {\n",
       "        vertical-align: top;\n",
       "    }\n",
       "\n",
       "    .dataframe thead th {\n",
       "        text-align: right;\n",
       "    }\n",
       "</style>\n",
       "<table border=\"1\" class=\"dataframe\">\n",
       "  <thead>\n",
       "    <tr style=\"text-align: right;\">\n",
       "      <th></th>\n",
       "      <th>Jan</th>\n",
       "      <th>Feb</th>\n",
       "      <th>Mar</th>\n",
       "    </tr>\n",
       "  </thead>\n",
       "  <tbody>\n",
       "    <tr>\n",
       "      <th>TR</th>\n",
       "      <td>14</td>\n",
       "      <td>87</td>\n",
       "      <td>13</td>\n",
       "    </tr>\n",
       "    <tr>\n",
       "      <th>BR</th>\n",
       "      <td>14</td>\n",
       "      <td>97</td>\n",
       "      <td>53</td>\n",
       "    </tr>\n",
       "    <tr>\n",
       "      <th>USA</th>\n",
       "      <td>24</td>\n",
       "      <td>14</td>\n",
       "      <td>42</td>\n",
       "    </tr>\n",
       "    <tr>\n",
       "      <th>RU</th>\n",
       "      <td>70</td>\n",
       "      <td>10</td>\n",
       "      <td>35</td>\n",
       "    </tr>\n",
       "  </tbody>\n",
       "</table>\n",
       "</div>"
      ],
      "text/plain": [
       "     Jan  Feb  Mar\n",
       "TR    14   87   13\n",
       "BR    14   97   53\n",
       "USA   24   14   42\n",
       "RU    70   10   35"
      ]
     },
     "execution_count": 15,
     "metadata": {},
     "output_type": "execute_result"
    }
   ],
   "source": [
    "pd.DataFrame(data = my_data2, index = my_index, columns = my_cols) # dataframe olustururken parametre isimlerini de kullanabiliriz"
   ]
  },
  {
   "cell_type": "code",
   "execution_count": null,
   "id": "f56b9f24",
   "metadata": {},
   "outputs": [
    {
     "data": {
      "application/vnd.microsoft.datawrangler.viewer.v0+json": {
       "columns": [
        {
         "name": "index",
         "rawType": "object",
         "type": "string"
        },
        {
         "name": "Jan",
         "rawType": "int32",
         "type": "integer"
        },
        {
         "name": "Feb",
         "rawType": "int32",
         "type": "integer"
        },
        {
         "name": "Mar",
         "rawType": "int32",
         "type": "integer"
        }
       ],
       "ref": "c38bc8f5-8642-4d30-bfae-e463c897dfc0",
       "rows": [
        [
         "TR",
         "14",
         "87",
         "13"
        ],
        [
         "BR",
         "14",
         "97",
         "53"
        ],
        [
         "USA",
         "24",
         "14",
         "42"
        ],
        [
         "RU",
         "70",
         "10",
         "35"
        ]
       ],
       "shape": {
        "columns": 3,
        "rows": 4
       }
      },
      "text/html": [
       "<div>\n",
       "<style scoped>\n",
       "    .dataframe tbody tr th:only-of-type {\n",
       "        vertical-align: middle;\n",
       "    }\n",
       "\n",
       "    .dataframe tbody tr th {\n",
       "        vertical-align: top;\n",
       "    }\n",
       "\n",
       "    .dataframe thead th {\n",
       "        text-align: right;\n",
       "    }\n",
       "</style>\n",
       "<table border=\"1\" class=\"dataframe\">\n",
       "  <thead>\n",
       "    <tr style=\"text-align: right;\">\n",
       "      <th></th>\n",
       "      <th>Jan</th>\n",
       "      <th>Feb</th>\n",
       "      <th>Mar</th>\n",
       "    </tr>\n",
       "  </thead>\n",
       "  <tbody>\n",
       "    <tr>\n",
       "      <th>TR</th>\n",
       "      <td>14</td>\n",
       "      <td>87</td>\n",
       "      <td>13</td>\n",
       "    </tr>\n",
       "    <tr>\n",
       "      <th>BR</th>\n",
       "      <td>14</td>\n",
       "      <td>97</td>\n",
       "      <td>53</td>\n",
       "    </tr>\n",
       "    <tr>\n",
       "      <th>USA</th>\n",
       "      <td>24</td>\n",
       "      <td>14</td>\n",
       "      <td>42</td>\n",
       "    </tr>\n",
       "    <tr>\n",
       "      <th>RU</th>\n",
       "      <td>70</td>\n",
       "      <td>10</td>\n",
       "      <td>35</td>\n",
       "    </tr>\n",
       "  </tbody>\n",
       "</table>\n",
       "</div>"
      ],
      "text/plain": [
       "     Jan  Feb  Mar\n",
       "TR    14   87   13\n",
       "BR    14   97   53\n",
       "USA   24   14   42\n",
       "RU    70   10   35"
      ]
     },
     "execution_count": 16,
     "metadata": {},
     "output_type": "execute_result"
    }
   ],
   "source": [
    "df = pd.DataFrame(my_data2, my_index, my_cols) # dataframe'i bir degiskene atayabiliriz\n",
    "df"
   ]
  },
  {
   "cell_type": "code",
   "execution_count": 22,
   "id": "5d29f2c7",
   "metadata": {},
   "outputs": [
    {
     "data": {
      "application/vnd.microsoft.datawrangler.viewer.v0+json": {
       "columns": [
        {
         "name": "index",
         "rawType": "object",
         "type": "string"
        },
        {
         "name": "January",
         "rawType": "int32",
         "type": "integer"
        },
        {
         "name": "February",
         "rawType": "int32",
         "type": "integer"
        },
        {
         "name": "March",
         "rawType": "int32",
         "type": "integer"
        }
       ],
       "ref": "fbb9e807-9075-4b24-a83f-42d911a56507",
       "rows": [
        [
         "KR",
         "14",
         "87",
         "13"
        ],
        [
         "BR",
         "14",
         "97",
         "53"
        ],
        [
         "USA",
         "24",
         "14",
         "42"
        ],
        [
         "RU",
         "70",
         "10",
         "35"
        ]
       ],
       "shape": {
        "columns": 3,
        "rows": 4
       }
      },
      "text/html": [
       "<div>\n",
       "<style scoped>\n",
       "    .dataframe tbody tr th:only-of-type {\n",
       "        vertical-align: middle;\n",
       "    }\n",
       "\n",
       "    .dataframe tbody tr th {\n",
       "        vertical-align: top;\n",
       "    }\n",
       "\n",
       "    .dataframe thead th {\n",
       "        text-align: right;\n",
       "    }\n",
       "</style>\n",
       "<table border=\"1\" class=\"dataframe\">\n",
       "  <thead>\n",
       "    <tr style=\"text-align: right;\">\n",
       "      <th></th>\n",
       "      <th>January</th>\n",
       "      <th>February</th>\n",
       "      <th>March</th>\n",
       "    </tr>\n",
       "  </thead>\n",
       "  <tbody>\n",
       "    <tr>\n",
       "      <th>KR</th>\n",
       "      <td>14</td>\n",
       "      <td>87</td>\n",
       "      <td>13</td>\n",
       "    </tr>\n",
       "    <tr>\n",
       "      <th>BR</th>\n",
       "      <td>14</td>\n",
       "      <td>97</td>\n",
       "      <td>53</td>\n",
       "    </tr>\n",
       "    <tr>\n",
       "      <th>USA</th>\n",
       "      <td>24</td>\n",
       "      <td>14</td>\n",
       "      <td>42</td>\n",
       "    </tr>\n",
       "    <tr>\n",
       "      <th>RU</th>\n",
       "      <td>70</td>\n",
       "      <td>10</td>\n",
       "      <td>35</td>\n",
       "    </tr>\n",
       "  </tbody>\n",
       "</table>\n",
       "</div>"
      ],
      "text/plain": [
       "     January  February  March\n",
       "KR        14        87     13\n",
       "BR        14        97     53\n",
       "USA       24        14     42\n",
       "RU        70        10     35"
      ]
     },
     "execution_count": 22,
     "metadata": {},
     "output_type": "execute_result"
    }
   ],
   "source": [
    "df.index = [\"KR\", \"BR\", \"USA\", \"RU\"] # index isimlerini degistirebiliriz \n",
    "df.columns = [\"January\", \"February\", \"March\"] #ayni sekilde sutun isimlerini de degistirebiliriz: \n",
    "df"
   ]
  },
  {
   "cell_type": "code",
   "execution_count": 23,
   "id": "7f9803bf",
   "metadata": {},
   "outputs": [
    {
     "name": "stdout",
     "output_type": "stream",
     "text": [
      "<class 'pandas.core.frame.DataFrame'>\n",
      "Index: 4 entries, KR to RU\n",
      "Data columns (total 3 columns):\n",
      " #   Column    Non-Null Count  Dtype\n",
      "---  ------    --------------  -----\n",
      " 0   January   4 non-null      int32\n",
      " 1   February  4 non-null      int32\n",
      " 2   March     4 non-null      int32\n",
      "dtypes: int32(3)\n",
      "memory usage: 80.0+ bytes\n"
     ]
    }
   ],
   "source": [
    "df.info() # dataframe icindeki butun sutunlarin temel bilgilerini gorebiliriz\n",
    "# non-null count: null olmayan deger sayisi\n",
    "# dtype: veri tipi"
   ]
  },
  {
   "cell_type": "markdown",
   "id": "1dd87919",
   "metadata": {},
   "source": [
    "# Hazir Bir Data Cagirmak"
   ]
  },
  {
   "cell_type": "code",
   "execution_count": 31,
   "id": "781c9022",
   "metadata": {},
   "outputs": [
    {
     "data": {
      "application/vnd.microsoft.datawrangler.viewer.v0+json": {
       "columns": [
        {
         "name": "index",
         "rawType": "int64",
         "type": "integer"
        },
        {
         "name": "Transaction ID",
         "rawType": "object",
         "type": "string"
        },
        {
         "name": "Item",
         "rawType": "object",
         "type": "unknown"
        },
        {
         "name": "Quantity",
         "rawType": "object",
         "type": "unknown"
        },
        {
         "name": "Price Per Unit",
         "rawType": "object",
         "type": "unknown"
        },
        {
         "name": "Total Spent",
         "rawType": "object",
         "type": "unknown"
        },
        {
         "name": "Payment Method",
         "rawType": "object",
         "type": "unknown"
        },
        {
         "name": "Location",
         "rawType": "object",
         "type": "unknown"
        },
        {
         "name": "Transaction Date",
         "rawType": "object",
         "type": "unknown"
        }
       ],
       "ref": "2b2c2b20-f65a-440c-8556-e35b756e528c",
       "rows": [
        [
         "0",
         "TXN_1961373",
         "Coffee",
         "2",
         "2.0",
         "4.0",
         "Credit Card",
         "Takeaway",
         "2023-09-08"
        ],
        [
         "1",
         "TXN_4977031",
         "Cake",
         "4",
         "3.0",
         "12.0",
         "Cash",
         "In-store",
         "2023-05-16"
        ],
        [
         "2",
         "TXN_4271903",
         "Cookie",
         "4",
         "1.0",
         "ERROR",
         "Credit Card",
         "In-store",
         "2023-07-19"
        ],
        [
         "3",
         "TXN_7034554",
         "Salad",
         "2",
         "5.0",
         "10.0",
         "UNKNOWN",
         "UNKNOWN",
         "2023-04-27"
        ],
        [
         "4",
         "TXN_3160411",
         "Coffee",
         "2",
         "2.0",
         "4.0",
         "Digital Wallet",
         "In-store",
         "2023-06-11"
        ],
        [
         "5",
         "TXN_2602893",
         "Smoothie",
         "5",
         "4.0",
         "20.0",
         "Credit Card",
         null,
         "2023-03-31"
        ],
        [
         "6",
         "TXN_4433211",
         "UNKNOWN",
         "3",
         "3.0",
         "9.0",
         "ERROR",
         "Takeaway",
         "2023-10-06"
        ],
        [
         "7",
         "TXN_6699534",
         "Sandwich",
         "4",
         "4.0",
         "16.0",
         "Cash",
         "UNKNOWN",
         "2023-10-28"
        ],
        [
         "8",
         "TXN_4717867",
         null,
         "5",
         "3.0",
         "15.0",
         null,
         "Takeaway",
         "2023-07-28"
        ],
        [
         "9",
         "TXN_2064365",
         "Sandwich",
         "5",
         "4.0",
         "20.0",
         null,
         "In-store",
         "2023-12-31"
        ],
        [
         "10",
         "TXN_2548360",
         "Salad",
         "5",
         "5.0",
         "25.0",
         "Cash",
         "Takeaway",
         "2023-11-07"
        ],
        [
         "11",
         "TXN_3051279",
         "Sandwich",
         "2",
         "4.0",
         "8.0",
         "Credit Card",
         "Takeaway",
         "ERROR"
        ],
        [
         "12",
         "TXN_7619095",
         "Sandwich",
         "2",
         "4.0",
         "8.0",
         "Cash",
         "In-store",
         "2023-05-03"
        ],
        [
         "13",
         "TXN_9437049",
         "Cookie",
         "5",
         "1.0",
         "5.0",
         null,
         "Takeaway",
         "2023-06-01"
        ],
        [
         "14",
         "TXN_8915701",
         "ERROR",
         "2",
         "1.5",
         "3.0",
         null,
         "In-store",
         "2023-03-21"
        ],
        [
         "15",
         "TXN_2847255",
         "Salad",
         "3",
         "5.0",
         "15.0",
         "Credit Card",
         "In-store",
         "2023-11-15"
        ],
        [
         "16",
         "TXN_3765707",
         "Sandwich",
         "1",
         "4.0",
         "4.0",
         null,
         null,
         "2023-06-10"
        ],
        [
         "17",
         "TXN_6769710",
         "Juice",
         "2",
         "3.0",
         "6.0",
         "Cash",
         "In-store",
         "2023-02-24"
        ],
        [
         "18",
         "TXN_8876618",
         "Cake",
         "5",
         "3.0",
         "15.0",
         "Cash",
         "ERROR",
         "2023-03-25"
        ],
        [
         "19",
         "TXN_3709394",
         "Juice",
         "4",
         "3.0",
         "12.0",
         "Cash",
         "Takeaway",
         "2023-01-15"
        ],
        [
         "20",
         "TXN_3522028",
         "Smoothie",
         "ERROR",
         "4.0",
         "20.0",
         "Cash",
         "In-store",
         "2023-04-04"
        ],
        [
         "21",
         "TXN_3567645",
         "Smoothie",
         "4",
         "4.0",
         "16.0",
         "Credit Card",
         "Takeaway",
         "2023-03-30"
        ],
        [
         "22",
         "TXN_5132361",
         "Sandwich",
         "3",
         "4.0",
         "12.0",
         "Digital Wallet",
         "Takeaway",
         "2023-12-01"
        ],
        [
         "23",
         "TXN_2616390",
         "Sandwich",
         "2",
         "4.0",
         "8.0",
         null,
         null,
         "2023-09-18"
        ],
        [
         "24",
         "TXN_9400181",
         "Sandwich",
         "5",
         "4.0",
         "20.0",
         "Cash",
         "In-store",
         "2023-06-03"
        ],
        [
         "25",
         "TXN_7958992",
         "Smoothie",
         "3",
         "4.0",
         null,
         "UNKNOWN",
         "UNKNOWN",
         "2023-12-13"
        ],
        [
         "26",
         "TXN_5183041",
         "Cookie",
         "5",
         "1.0",
         "5.0",
         "Credit Card",
         "In-store",
         "2023-04-20"
        ],
        [
         "27",
         "TXN_5695074",
         "Juice",
         "4",
         "3.0",
         "12.0",
         "Credit Card",
         "Takeaway",
         "2023-04-10"
        ],
        [
         "28",
         "TXN_8467949",
         "Smoothie",
         "5",
         "4.0",
         "20.0",
         "Credit Card",
         null,
         "2023-03-11"
        ],
        [
         "29",
         "TXN_7640952",
         "Cake",
         "4",
         "3.0",
         "12.0",
         "Digital Wallet",
         "Takeaway",
         "ERROR"
        ],
        [
         "30",
         "TXN_1736287",
         null,
         "5",
         "2.0",
         "10.0",
         "Digital Wallet",
         null,
         "2023-06-02"
        ],
        [
         "31",
         "TXN_8927252",
         "UNKNOWN",
         "2",
         "1.0",
         "ERROR",
         "Credit Card",
         "ERROR",
         "2023-11-06"
        ],
        [
         "32",
         "TXN_9677376",
         "Smoothie",
         "4",
         "4.0",
         "16.0",
         null,
         "In-store",
         "2023-08-15"
        ],
        [
         "33",
         "TXN_7710508",
         "UNKNOWN",
         "5",
         "1.0",
         "5.0",
         "Cash",
         null,
         "ERROR"
        ],
        [
         "34",
         "TXN_8853997",
         "Smoothie",
         "2",
         "4.0",
         "8.0",
         "Digital Wallet",
         "Takeaway",
         "2023-10-09"
        ],
        [
         "35",
         "TXN_9130559",
         "Sandwich",
         "1",
         "4.0",
         "4.0",
         "Credit Card",
         "UNKNOWN",
         "2023-05-28"
        ],
        [
         "36",
         "TXN_6855453",
         "UNKNOWN",
         "4",
         "3.0",
         "12.0",
         null,
         "In-store",
         "2023-07-17"
        ],
        [
         "37",
         "TXN_1080432",
         "Salad",
         "2",
         "5.0",
         "10.0",
         "Credit Card",
         "In-store",
         "2023-04-29"
        ],
        [
         "38",
         "TXN_2655815",
         "Smoothie",
         "4",
         "4.0",
         "16.0",
         null,
         "Takeaway",
         "2023-06-08"
        ],
        [
         "39",
         "TXN_6688524",
         "Coffee",
         "4",
         "2.0",
         "8.0",
         "ERROR",
         null,
         "2023-06-29"
        ],
        [
         "40",
         "TXN_2083138",
         "Smoothie",
         "3",
         "4.0",
         "12.0",
         null,
         "In-store",
         "2023-04-17"
        ],
        [
         "41",
         "TXN_2427584",
         "Sandwich",
         "4",
         "4.0",
         "16.0",
         null,
         "Takeaway",
         "2023-12-22"
        ],
        [
         "42",
         "TXN_6650263",
         "Tea",
         "2",
         "1.5",
         "UNKNOWN",
         null,
         "Takeaway",
         "2023-01-10"
        ],
        [
         "43",
         "TXN_9620080",
         "Juice",
         "4",
         "3.0",
         "12.0",
         null,
         "Takeaway",
         "2023-10-02"
        ],
        [
         "44",
         "TXN_1491578",
         "Cookie",
         "2",
         "1.0",
         "2.0",
         null,
         null,
         "2023-02-23"
        ],
        [
         "45",
         "TXN_5455792",
         "Salad",
         "3",
         "5.0",
         "15.0",
         "Cash",
         null,
         "2023-03-22"
        ],
        [
         "46",
         "TXN_8078640",
         "Juice",
         "4",
         "3.0",
         "12.0",
         "Digital Wallet",
         "In-store",
         "2023-11-03"
        ],
        [
         "47",
         "TXN_9499313",
         "Juice",
         "5",
         "3.0",
         "15.0",
         null,
         null,
         "2023-03-02"
        ],
        [
         "48",
         "TXN_8201146",
         "Juice",
         "5",
         "3.0",
         "15.0",
         "Cash",
         null,
         "2023-06-26"
        ],
        [
         "49",
         "TXN_8230936",
         "Cake",
         "3",
         "3.0",
         "9.0",
         null,
         "ERROR",
         "2023-05-02"
        ]
       ],
       "shape": {
        "columns": 8,
        "rows": 10000
       }
      },
      "text/html": [
       "<div>\n",
       "<style scoped>\n",
       "    .dataframe tbody tr th:only-of-type {\n",
       "        vertical-align: middle;\n",
       "    }\n",
       "\n",
       "    .dataframe tbody tr th {\n",
       "        vertical-align: top;\n",
       "    }\n",
       "\n",
       "    .dataframe thead th {\n",
       "        text-align: right;\n",
       "    }\n",
       "</style>\n",
       "<table border=\"1\" class=\"dataframe\">\n",
       "  <thead>\n",
       "    <tr style=\"text-align: right;\">\n",
       "      <th></th>\n",
       "      <th>Transaction ID</th>\n",
       "      <th>Item</th>\n",
       "      <th>Quantity</th>\n",
       "      <th>Price Per Unit</th>\n",
       "      <th>Total Spent</th>\n",
       "      <th>Payment Method</th>\n",
       "      <th>Location</th>\n",
       "      <th>Transaction Date</th>\n",
       "    </tr>\n",
       "  </thead>\n",
       "  <tbody>\n",
       "    <tr>\n",
       "      <th>0</th>\n",
       "      <td>TXN_1961373</td>\n",
       "      <td>Coffee</td>\n",
       "      <td>2</td>\n",
       "      <td>2.0</td>\n",
       "      <td>4.0</td>\n",
       "      <td>Credit Card</td>\n",
       "      <td>Takeaway</td>\n",
       "      <td>2023-09-08</td>\n",
       "    </tr>\n",
       "    <tr>\n",
       "      <th>1</th>\n",
       "      <td>TXN_4977031</td>\n",
       "      <td>Cake</td>\n",
       "      <td>4</td>\n",
       "      <td>3.0</td>\n",
       "      <td>12.0</td>\n",
       "      <td>Cash</td>\n",
       "      <td>In-store</td>\n",
       "      <td>2023-05-16</td>\n",
       "    </tr>\n",
       "    <tr>\n",
       "      <th>2</th>\n",
       "      <td>TXN_4271903</td>\n",
       "      <td>Cookie</td>\n",
       "      <td>4</td>\n",
       "      <td>1.0</td>\n",
       "      <td>ERROR</td>\n",
       "      <td>Credit Card</td>\n",
       "      <td>In-store</td>\n",
       "      <td>2023-07-19</td>\n",
       "    </tr>\n",
       "    <tr>\n",
       "      <th>3</th>\n",
       "      <td>TXN_7034554</td>\n",
       "      <td>Salad</td>\n",
       "      <td>2</td>\n",
       "      <td>5.0</td>\n",
       "      <td>10.0</td>\n",
       "      <td>UNKNOWN</td>\n",
       "      <td>UNKNOWN</td>\n",
       "      <td>2023-04-27</td>\n",
       "    </tr>\n",
       "    <tr>\n",
       "      <th>4</th>\n",
       "      <td>TXN_3160411</td>\n",
       "      <td>Coffee</td>\n",
       "      <td>2</td>\n",
       "      <td>2.0</td>\n",
       "      <td>4.0</td>\n",
       "      <td>Digital Wallet</td>\n",
       "      <td>In-store</td>\n",
       "      <td>2023-06-11</td>\n",
       "    </tr>\n",
       "    <tr>\n",
       "      <th>...</th>\n",
       "      <td>...</td>\n",
       "      <td>...</td>\n",
       "      <td>...</td>\n",
       "      <td>...</td>\n",
       "      <td>...</td>\n",
       "      <td>...</td>\n",
       "      <td>...</td>\n",
       "      <td>...</td>\n",
       "    </tr>\n",
       "    <tr>\n",
       "      <th>9995</th>\n",
       "      <td>TXN_7672686</td>\n",
       "      <td>Coffee</td>\n",
       "      <td>2</td>\n",
       "      <td>2.0</td>\n",
       "      <td>4.0</td>\n",
       "      <td>NaN</td>\n",
       "      <td>UNKNOWN</td>\n",
       "      <td>2023-08-30</td>\n",
       "    </tr>\n",
       "    <tr>\n",
       "      <th>9996</th>\n",
       "      <td>TXN_9659401</td>\n",
       "      <td>NaN</td>\n",
       "      <td>3</td>\n",
       "      <td>NaN</td>\n",
       "      <td>3.0</td>\n",
       "      <td>Digital Wallet</td>\n",
       "      <td>NaN</td>\n",
       "      <td>2023-06-02</td>\n",
       "    </tr>\n",
       "    <tr>\n",
       "      <th>9997</th>\n",
       "      <td>TXN_5255387</td>\n",
       "      <td>Coffee</td>\n",
       "      <td>4</td>\n",
       "      <td>2.0</td>\n",
       "      <td>8.0</td>\n",
       "      <td>Digital Wallet</td>\n",
       "      <td>NaN</td>\n",
       "      <td>2023-03-02</td>\n",
       "    </tr>\n",
       "    <tr>\n",
       "      <th>9998</th>\n",
       "      <td>TXN_7695629</td>\n",
       "      <td>Cookie</td>\n",
       "      <td>3</td>\n",
       "      <td>NaN</td>\n",
       "      <td>3.0</td>\n",
       "      <td>Digital Wallet</td>\n",
       "      <td>NaN</td>\n",
       "      <td>2023-12-02</td>\n",
       "    </tr>\n",
       "    <tr>\n",
       "      <th>9999</th>\n",
       "      <td>TXN_6170729</td>\n",
       "      <td>Sandwich</td>\n",
       "      <td>3</td>\n",
       "      <td>4.0</td>\n",
       "      <td>12.0</td>\n",
       "      <td>Cash</td>\n",
       "      <td>In-store</td>\n",
       "      <td>2023-11-07</td>\n",
       "    </tr>\n",
       "  </tbody>\n",
       "</table>\n",
       "<p>10000 rows × 8 columns</p>\n",
       "</div>"
      ],
      "text/plain": [
       "     Transaction ID      Item Quantity Price Per Unit Total Spent  \\\n",
       "0       TXN_1961373    Coffee        2            2.0         4.0   \n",
       "1       TXN_4977031      Cake        4            3.0        12.0   \n",
       "2       TXN_4271903    Cookie        4            1.0       ERROR   \n",
       "3       TXN_7034554     Salad        2            5.0        10.0   \n",
       "4       TXN_3160411    Coffee        2            2.0         4.0   \n",
       "...             ...       ...      ...            ...         ...   \n",
       "9995    TXN_7672686    Coffee        2            2.0         4.0   \n",
       "9996    TXN_9659401       NaN        3            NaN         3.0   \n",
       "9997    TXN_5255387    Coffee        4            2.0         8.0   \n",
       "9998    TXN_7695629    Cookie        3            NaN         3.0   \n",
       "9999    TXN_6170729  Sandwich        3            4.0        12.0   \n",
       "\n",
       "      Payment Method  Location Transaction Date  \n",
       "0        Credit Card  Takeaway       2023-09-08  \n",
       "1               Cash  In-store       2023-05-16  \n",
       "2        Credit Card  In-store       2023-07-19  \n",
       "3            UNKNOWN   UNKNOWN       2023-04-27  \n",
       "4     Digital Wallet  In-store       2023-06-11  \n",
       "...              ...       ...              ...  \n",
       "9995             NaN   UNKNOWN       2023-08-30  \n",
       "9996  Digital Wallet       NaN       2023-06-02  \n",
       "9997  Digital Wallet       NaN       2023-03-02  \n",
       "9998  Digital Wallet       NaN       2023-12-02  \n",
       "9999            Cash  In-store       2023-11-07  \n",
       "\n",
       "[10000 rows x 8 columns]"
      ]
     },
     "execution_count": 31,
     "metadata": {},
     "output_type": "execute_result"
    }
   ],
   "source": [
    "cafe_sales_df = pd.read_csv(\"csv1.csv\") # bu .ipynb dosyasi ile ayni yerde olan csv dosyasi bu sekilde okunur. eger ayni klasorde degilse dosya yolu yazilir\n",
    "cafe_sales_df"
   ]
  }
 ],
 "metadata": {
  "kernelspec": {
   "display_name": "Python 3",
   "language": "python",
   "name": "python3"
  },
  "language_info": {
   "codemirror_mode": {
    "name": "ipython",
    "version": 3
   },
   "file_extension": ".py",
   "mimetype": "text/x-python",
   "name": "python",
   "nbconvert_exporter": "python",
   "pygments_lexer": "ipython3",
   "version": "3.14.0"
  }
 },
 "nbformat": 4,
 "nbformat_minor": 5
}
