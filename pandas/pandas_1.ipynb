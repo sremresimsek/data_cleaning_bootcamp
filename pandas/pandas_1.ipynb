{
 "cells": [
  {
   "cell_type": "markdown",
   "id": "2585313b",
   "metadata": {},
   "source": [
    "# Pandas Nedir?\n",
    "\n",
    "Acik Kaynakli ve Ucretsiz Veri Isleme, Manipule Etme, Temizleme vb. Islemleri Yapabilecegimiz Efektif Bir Kutuphane\n",
    "\n",
    "NumPy uzerine kurulu bir kutuphane\n",
    "\n",
    "Veriyi sekillendirip islemeye ve veriden anlamli sonuclar cıkarmayi saglar\n",
    "\n",
    "Temel elemanlari : Series, DataFrame"
   ]
  },
  {
   "cell_type": "markdown",
   "id": "c13b68d7",
   "metadata": {},
   "source": []
  },
  {
   "cell_type": "code",
   "execution_count": 2,
   "id": "23658322",
   "metadata": {},
   "outputs": [],
   "source": [
    "import pandas as pd"
   ]
  },
  {
   "cell_type": "code",
   "execution_count": null,
   "id": "bebda250",
   "metadata": {},
   "outputs": [
    {
     "data": {
      "text/plain": [
       "['Emre', 'Merve', 'Tost', 'Panda']"
      ]
     },
     "execution_count": 3,
     "metadata": {},
     "output_type": "execute_result"
    }
   ],
   "source": [
    "name_list = [\"Emre\", \"Merve\", \"Tost\", \"Panda\"]\n",
    "name_list"
   ]
  },
  {
   "cell_type": "code",
   "execution_count": null,
   "id": "475089c9",
   "metadata": {},
   "outputs": [
    {
     "data": {
      "text/plain": [
       "0     Emre\n",
       "1    Merve\n",
       "2     Tost\n",
       "3    Panda\n",
       "dtype: object"
      ]
     },
     "execution_count": 5,
     "metadata": {},
     "output_type": "execute_result"
    }
   ],
   "source": [
    "pd.Series(name_list) # --> pandas serisi olusturur"
   ]
  },
  {
   "cell_type": "code",
   "execution_count": 6,
   "id": "465aa82f",
   "metadata": {},
   "outputs": [],
   "source": [
    "my_data = [1923, 1776, 1853]\n",
    "my_indexes = [\"TR\", \"US\", \"UK\"]"
   ]
  },
  {
   "cell_type": "code",
   "execution_count": null,
   "id": "929d1da9",
   "metadata": {},
   "outputs": [
    {
     "data": {
      "text/plain": [
       "TR    1923\n",
       "US    1776\n",
       "UK    1853\n",
       "dtype: int64"
      ]
     },
     "execution_count": 9,
     "metadata": {},
     "output_type": "execute_result"
    }
   ],
   "source": [
    "pd.Series(my_data, my_indexes) # --> indexleri belirleyerek pandas serisi olusturur"
   ]
  },
  {
   "cell_type": "markdown",
   "id": "b5ca32c4",
   "metadata": {},
   "source": [
    "***pd.Series() icine sozlukler de girebilir***"
   ]
  },
  {
   "cell_type": "code",
   "execution_count": 14,
   "id": "9f70e4c3",
   "metadata": {},
   "outputs": [],
   "source": [
    "my_dict = {\n",
    "    \"Emre\" : 21,\n",
    "    \"Merve\" : 20,\n",
    "    \"Elif\" : 1\n",
    "}"
   ]
  },
  {
   "cell_type": "code",
   "execution_count": 15,
   "id": "7076be5a",
   "metadata": {},
   "outputs": [
    {
     "data": {
      "text/plain": [
       "Emre     21\n",
       "Merve    20\n",
       "Elif      1\n",
       "dtype: int64"
      ]
     },
     "execution_count": 15,
     "metadata": {},
     "output_type": "execute_result"
    }
   ],
   "source": [
    "pd.Series(my_dict)"
   ]
  },
  {
   "cell_type": "code",
   "execution_count": 16,
   "id": "f510cfa1",
   "metadata": {},
   "outputs": [],
   "source": [
    "my_cities = [\"Istanbul\", \"Izmir\", \"Ankara\", \"Bursa\"]\n",
    "my_population = [15.4, 4.3, 5.6, 3.1]"
   ]
  },
  {
   "cell_type": "code",
   "execution_count": null,
   "id": "e895d8a8",
   "metadata": {},
   "outputs": [
    {
     "data": {
      "text/plain": [
       "15.4    Istanbul\n",
       "4.3        Izmir\n",
       "5.6       Ankara\n",
       "3.1        Bursa\n",
       "dtype: object"
      ]
     },
     "execution_count": 17,
     "metadata": {},
     "output_type": "execute_result"
    }
   ],
   "source": [
    "pd.Series(my_population, my_cities) # --> indexleri belirleyerek pandas serisi olusturur"
   ]
  },
  {
   "cell_type": "markdown",
   "id": "4a3530da",
   "metadata": {},
   "source": [
    "# Serilerde Islemler"
   ]
  },
  {
   "cell_type": "code",
   "execution_count": 18,
   "id": "d64d965a",
   "metadata": {},
   "outputs": [],
   "source": [
    "q1 = {\n",
    "    \"Japan\" : 180,\n",
    "    \"China\" : 450,\n",
    "    \"USA\" : 300,\n",
    "    \"Turkey\" : 100\n",
    "}\n",
    "\n",
    "q2 = {\n",
    "    \n",
    "    \"Japan\" : 220,\n",
    "    \"China\" : 550,\n",
    "    \"USA\" : 370,\n",
    "    \"Turkey\" : 120\n",
    "}"
   ]
  },
  {
   "cell_type": "code",
   "execution_count": null,
   "id": "a025d57d",
   "metadata": {},
   "outputs": [],
   "source": [
    "sales_q1 = pd.Series(q1)\n",
    "sales_q2 = pd.Series(q2)"
   ]
  },
  {
   "cell_type": "code",
   "execution_count": 20,
   "id": "15b0fffb",
   "metadata": {},
   "outputs": [
    {
     "data": {
      "text/plain": [
       "Japan     180\n",
       "China     450\n",
       "USA       300\n",
       "Turkey    100\n",
       "dtype: int64"
      ]
     },
     "execution_count": 20,
     "metadata": {},
     "output_type": "execute_result"
    }
   ],
   "source": [
    "sales_q1"
   ]
  },
  {
   "cell_type": "code",
   "execution_count": 21,
   "id": "0282a1b1",
   "metadata": {},
   "outputs": [
    {
     "data": {
      "text/plain": [
       "Japan     220\n",
       "China     550\n",
       "USA       370\n",
       "Turkey    120\n",
       "dtype: int64"
      ]
     },
     "execution_count": 21,
     "metadata": {},
     "output_type": "execute_result"
    }
   ],
   "source": [
    "sales_q2"
   ]
  },
  {
   "cell_type": "code",
   "execution_count": 27,
   "id": "df8a419f",
   "metadata": {},
   "outputs": [
    {
     "data": {
      "text/plain": [
       "Japan      400\n",
       "China     1000\n",
       "USA        670\n",
       "Turkey     220\n",
       "dtype: int64"
      ]
     },
     "execution_count": 27,
     "metadata": {},
     "output_type": "execute_result"
    }
   ],
   "source": [
    "sales_total = sales_q1 + sales_q2 # Toplama islemi yapar\n",
    "sales_total"
   ]
  },
  {
   "cell_type": "code",
   "execution_count": null,
   "id": "d761759a",
   "metadata": {},
   "outputs": [
    {
     "data": {
      "text/plain": [
       "Japan      40\n",
       "China     100\n",
       "USA        70\n",
       "Turkey     20\n",
       "dtype: int64"
      ]
     },
     "execution_count": 24,
     "metadata": {},
     "output_type": "execute_result"
    }
   ],
   "source": [
    "sales_q2 - sales_q1 # Cikarma islemi yapar"
   ]
  },
  {
   "cell_type": "code",
   "execution_count": null,
   "id": "73098a24",
   "metadata": {},
   "outputs": [
    {
     "data": {
      "text/plain": [
       "Index(['Japan', 'China', 'USA', 'Turkey'], dtype='object')"
      ]
     },
     "execution_count": 28,
     "metadata": {},
     "output_type": "execute_result"
    }
   ],
   "source": [
    "sales_total.index # indexleri gosterir"
   ]
  },
  {
   "cell_type": "code",
   "execution_count": null,
   "id": "c0fb0ff3",
   "metadata": {},
   "outputs": [
    {
     "data": {
      "text/plain": [
       "array([ 400, 1000,  670,  220])"
      ]
     },
     "execution_count": 29,
     "metadata": {},
     "output_type": "execute_result"
    }
   ],
   "source": [
    "sales_total.values # degerleri gosterir"
   ]
  },
  {
   "cell_type": "code",
   "execution_count": null,
   "id": "b7aea2dc",
   "metadata": {},
   "outputs": [
    {
     "data": {
      "text/plain": [
       "Index(['Japan', 'China', 'USA', 'Turkey'], dtype='object')"
      ]
     },
     "execution_count": 30,
     "metadata": {},
     "output_type": "execute_result"
    }
   ],
   "source": [
    "sales_total.keys() # indexleri gosterir"
   ]
  },
  {
   "cell_type": "code",
   "execution_count": 31,
   "id": "52b2efc5",
   "metadata": {},
   "outputs": [
    {
     "data": {
      "text/plain": [
       "Japan      800\n",
       "China     2000\n",
       "USA       1340\n",
       "Turkey     440\n",
       "dtype: int64"
      ]
     },
     "execution_count": 31,
     "metadata": {},
     "output_type": "execute_result"
    }
   ],
   "source": [
    "sales_total * 2 # Carpma islemi yapar"
   ]
  },
  {
   "cell_type": "code",
   "execution_count": 32,
   "id": "f7b29192",
   "metadata": {},
   "outputs": [
    {
     "data": {
      "text/plain": [
       "Japan     200.0\n",
       "China     500.0\n",
       "USA       335.0\n",
       "Turkey    110.0\n",
       "dtype: float64"
      ]
     },
     "execution_count": 32,
     "metadata": {},
     "output_type": "execute_result"
    }
   ],
   "source": [
    "sales_total / 2 # Bolme islemi yapar"
   ]
  },
  {
   "cell_type": "code",
   "execution_count": 36,
   "id": "43b91b29",
   "metadata": {},
   "outputs": [],
   "source": [
    "q3 = {\n",
    "    \"Korean\" : 180,\n",
    "    \"China\" : 450,\n",
    "    \"India\" : 300,\n",
    "    \"Germany\" : 250\n",
    "}\n",
    "\n",
    "q4 = {\n",
    "    \"Brazil\" : 160,\n",
    "    \"China\" : 400,\n",
    "    \"India\" : 320,\n",
    "    \"Germany\" : 270\n",
    "}"
   ]
  },
  {
   "cell_type": "code",
   "execution_count": 37,
   "id": "e148a608",
   "metadata": {},
   "outputs": [],
   "source": [
    "sales_q3 = pd.Series(q3)\n",
    "sales_q4 = pd.Series(q4)"
   ]
  },
  {
   "cell_type": "code",
   "execution_count": null,
   "id": "2d36a10e",
   "metadata": {},
   "outputs": [
    {
     "data": {
      "text/plain": [
       "Brazil       NaN\n",
       "China      850.0\n",
       "Germany    520.0\n",
       "India      620.0\n",
       "Korean       NaN\n",
       "dtype: float64"
      ]
     },
     "execution_count": 38,
     "metadata": {},
     "output_type": "execute_result"
    }
   ],
   "source": [
    "sales_q3 + sales_q4 # ortak indexlere gore toplama islemi yapar, ortak olmayan indexler icin NaN degeri verir"
   ]
  },
  {
   "cell_type": "code",
   "execution_count": 43,
   "id": "96dbe9fa",
   "metadata": {},
   "outputs": [
    {
     "data": {
      "text/plain": [
       "Brazil     160.0\n",
       "China      850.0\n",
       "Germany    520.0\n",
       "India      620.0\n",
       "Korean     180.0\n",
       "dtype: float64"
      ]
     },
     "execution_count": 43,
     "metadata": {},
     "output_type": "execute_result"
    }
   ],
   "source": [
    "sales_q3.add(sales_q4, fill_value = 0) \n",
    "# ortak indexlere gore toplama islemi yapar, ortak olmayan indexler icin hangi series icinde varsa onun degerini alir\n",
    "# fill_value parametresi ile ortak olmayan indexler icin kullanilacak degeri belirleyebiliriz"
   ]
  },
  {
   "cell_type": "code",
   "execution_count": null,
   "id": "979dbb06",
   "metadata": {},
   "outputs": [
    {
     "data": {
      "text/plain": [
       "dtype('int64')"
      ]
     },
     "execution_count": 44,
     "metadata": {},
     "output_type": "execute_result"
    }
   ],
   "source": [
    "sales_q1.dtype # serinin veri tipini gosterir"
   ]
  },
  {
   "cell_type": "code",
   "execution_count": 49,
   "id": "224d358e",
   "metadata": {},
   "outputs": [],
   "source": [
    "league_2020 = pd.Series(data = {\"Galatasaray\" : 84, \"Fenerbahce\" : 82, \"Besiktas\" : 84, \"Trabzonspor\" : 71})\n",
    "league_2021 = pd.Series(data = {\"Galatasaray\" : 68, \"Fenerbahce\" : 73, \"Besiktas\" : 59, \"Trabzonspor\" : 81})\n",
    "league_2022 = pd.Series(data = {\"Galatasaray\" : 60, \"Fenerbahce\" : 51, \"Besiktas\" : 48, \"Trabzonspor\" : 41})"
   ]
  },
  {
   "cell_type": "code",
   "execution_count": 50,
   "id": "00373b98",
   "metadata": {},
   "outputs": [
    {
     "data": {
      "text/plain": [
       "Galatasaray    212\n",
       "Fenerbahce     206\n",
       "Besiktas       191\n",
       "Trabzonspor    193\n",
       "dtype: int64"
      ]
     },
     "execution_count": 50,
     "metadata": {},
     "output_type": "execute_result"
    }
   ],
   "source": [
    "league_2020 + league_2021 + league_2022"
   ]
  }
 ],
 "metadata": {
  "kernelspec": {
   "display_name": "Python 3",
   "language": "python",
   "name": "python3"
  },
  "language_info": {
   "codemirror_mode": {
    "name": "ipython",
    "version": 3
   },
   "file_extension": ".py",
   "mimetype": "text/x-python",
   "name": "python",
   "nbconvert_exporter": "python",
   "pygments_lexer": "ipython3",
   "version": "3.14.0"
  }
 },
 "nbformat": 4,
 "nbformat_minor": 5
}
