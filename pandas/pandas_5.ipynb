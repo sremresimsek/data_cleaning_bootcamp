{
 "cells": [
  {
   "cell_type": "markdown",
   "id": "56559e67",
   "metadata": {},
   "source": [
    "## Eksik Veriler (Missing Values)"
   ]
  },
  {
   "cell_type": "code",
   "execution_count": 1,
   "id": "3f7c63a5",
   "metadata": {},
   "outputs": [],
   "source": [
    "import pandas as pd\n",
    "import numpy as np"
   ]
  },
  {
   "cell_type": "code",
   "execution_count": 2,
   "id": "00f15d66",
   "metadata": {},
   "outputs": [
    {
     "data": {
      "text/plain": [
       "nan"
      ]
     },
     "execution_count": 2,
     "metadata": {},
     "output_type": "execute_result"
    }
   ],
   "source": [
    "np.nan"
   ]
  },
  {
   "cell_type": "code",
   "execution_count": 3,
   "id": "19412e2f",
   "metadata": {},
   "outputs": [
    {
     "data": {
      "text/plain": [
       "<NA>"
      ]
     },
     "execution_count": 3,
     "metadata": {},
     "output_type": "execute_result"
    }
   ],
   "source": [
    "pd.NA"
   ]
  },
  {
   "cell_type": "code",
   "execution_count": 4,
   "id": "23a1bcbe",
   "metadata": {},
   "outputs": [
    {
     "data": {
      "text/plain": [
       "NaT"
      ]
     },
     "execution_count": 4,
     "metadata": {},
     "output_type": "execute_result"
    }
   ],
   "source": [
    "pd.NaT"
   ]
  },
  {
   "cell_type": "code",
   "execution_count": 5,
   "id": "a3f0c580",
   "metadata": {},
   "outputs": [
    {
     "data": {
      "text/plain": [
       "False"
      ]
     },
     "execution_count": 5,
     "metadata": {},
     "output_type": "execute_result"
    }
   ],
   "source": [
    "np.nan == np.nan # degerini bilmedigin icin esit degildir"
   ]
  },
  {
   "cell_type": "code",
   "execution_count": 6,
   "id": "0a21a705",
   "metadata": {},
   "outputs": [
    {
     "data": {
      "application/vnd.microsoft.datawrangler.viewer.v0+json": {
       "columns": [
        {
         "name": "index",
         "rawType": "int64",
         "type": "integer"
        },
        {
         "name": "first_name",
         "rawType": "object",
         "type": "unknown"
        },
        {
         "name": "last_name",
         "rawType": "object",
         "type": "unknown"
        },
        {
         "name": "age",
         "rawType": "float64",
         "type": "float"
        },
        {
         "name": "sex",
         "rawType": "object",
         "type": "unknown"
        },
        {
         "name": "pre_movie_score",
         "rawType": "float64",
         "type": "float"
        },
        {
         "name": "post_movie_score",
         "rawType": "float64",
         "type": "float"
        }
       ],
       "ref": "2ff3a805-1447-4562-ba89-aa391633f3cc",
       "rows": [
        [
         "0",
         "Tom",
         "Hanks",
         "63.0",
         "m",
         "8.0",
         "10.0"
        ],
        [
         "1",
         null,
         null,
         null,
         null,
         null,
         null
        ],
        [
         "2",
         "Hugh",
         "Jackman",
         "51.0",
         "m",
         null,
         null
        ],
        [
         "3",
         "Oprah",
         "Winfrey",
         "66.0",
         "f",
         "6.0",
         "8.0"
        ],
        [
         "4",
         "Emma",
         "Stone",
         "31.0",
         "f",
         "7.0",
         "9.0"
        ]
       ],
       "shape": {
        "columns": 6,
        "rows": 5
       }
      },
      "text/html": [
       "<div>\n",
       "<style scoped>\n",
       "    .dataframe tbody tr th:only-of-type {\n",
       "        vertical-align: middle;\n",
       "    }\n",
       "\n",
       "    .dataframe tbody tr th {\n",
       "        vertical-align: top;\n",
       "    }\n",
       "\n",
       "    .dataframe thead th {\n",
       "        text-align: right;\n",
       "    }\n",
       "</style>\n",
       "<table border=\"1\" class=\"dataframe\">\n",
       "  <thead>\n",
       "    <tr style=\"text-align: right;\">\n",
       "      <th></th>\n",
       "      <th>first_name</th>\n",
       "      <th>last_name</th>\n",
       "      <th>age</th>\n",
       "      <th>sex</th>\n",
       "      <th>pre_movie_score</th>\n",
       "      <th>post_movie_score</th>\n",
       "    </tr>\n",
       "  </thead>\n",
       "  <tbody>\n",
       "    <tr>\n",
       "      <th>0</th>\n",
       "      <td>Tom</td>\n",
       "      <td>Hanks</td>\n",
       "      <td>63.0</td>\n",
       "      <td>m</td>\n",
       "      <td>8.0</td>\n",
       "      <td>10.0</td>\n",
       "    </tr>\n",
       "    <tr>\n",
       "      <th>1</th>\n",
       "      <td>NaN</td>\n",
       "      <td>NaN</td>\n",
       "      <td>NaN</td>\n",
       "      <td>NaN</td>\n",
       "      <td>NaN</td>\n",
       "      <td>NaN</td>\n",
       "    </tr>\n",
       "    <tr>\n",
       "      <th>2</th>\n",
       "      <td>Hugh</td>\n",
       "      <td>Jackman</td>\n",
       "      <td>51.0</td>\n",
       "      <td>m</td>\n",
       "      <td>NaN</td>\n",
       "      <td>NaN</td>\n",
       "    </tr>\n",
       "    <tr>\n",
       "      <th>3</th>\n",
       "      <td>Oprah</td>\n",
       "      <td>Winfrey</td>\n",
       "      <td>66.0</td>\n",
       "      <td>f</td>\n",
       "      <td>6.0</td>\n",
       "      <td>8.0</td>\n",
       "    </tr>\n",
       "    <tr>\n",
       "      <th>4</th>\n",
       "      <td>Emma</td>\n",
       "      <td>Stone</td>\n",
       "      <td>31.0</td>\n",
       "      <td>f</td>\n",
       "      <td>7.0</td>\n",
       "      <td>9.0</td>\n",
       "    </tr>\n",
       "  </tbody>\n",
       "</table>\n",
       "</div>"
      ],
      "text/plain": [
       "  first_name last_name   age  sex  pre_movie_score  post_movie_score\n",
       "0        Tom     Hanks  63.0    m              8.0              10.0\n",
       "1        NaN       NaN   NaN  NaN              NaN               NaN\n",
       "2       Hugh   Jackman  51.0    m              NaN               NaN\n",
       "3      Oprah   Winfrey  66.0    f              6.0               8.0\n",
       "4       Emma     Stone  31.0    f              7.0               9.0"
      ]
     },
     "execution_count": 6,
     "metadata": {},
     "output_type": "execute_result"
    }
   ],
   "source": [
    "df_ms = pd.read_csv(\"movie_scores.csv\")\n",
    "df_ms"
   ]
  },
  {
   "cell_type": "code",
   "execution_count": 7,
   "id": "0cd2af0c",
   "metadata": {},
   "outputs": [
    {
     "data": {
      "application/vnd.microsoft.datawrangler.viewer.v0+json": {
       "columns": [
        {
         "name": "index",
         "rawType": "int64",
         "type": "integer"
        },
        {
         "name": "first_name",
         "rawType": "bool",
         "type": "boolean"
        },
        {
         "name": "last_name",
         "rawType": "bool",
         "type": "boolean"
        },
        {
         "name": "age",
         "rawType": "bool",
         "type": "boolean"
        },
        {
         "name": "sex",
         "rawType": "bool",
         "type": "boolean"
        },
        {
         "name": "pre_movie_score",
         "rawType": "bool",
         "type": "boolean"
        },
        {
         "name": "post_movie_score",
         "rawType": "bool",
         "type": "boolean"
        }
       ],
       "ref": "2fb36201-6ff6-4062-af8c-adf56758dce9",
       "rows": [
        [
         "0",
         "False",
         "False",
         "False",
         "False",
         "False",
         "False"
        ],
        [
         "1",
         "True",
         "True",
         "True",
         "True",
         "True",
         "True"
        ],
        [
         "2",
         "False",
         "False",
         "False",
         "False",
         "True",
         "True"
        ],
        [
         "3",
         "False",
         "False",
         "False",
         "False",
         "False",
         "False"
        ],
        [
         "4",
         "False",
         "False",
         "False",
         "False",
         "False",
         "False"
        ]
       ],
       "shape": {
        "columns": 6,
        "rows": 5
       }
      },
      "text/html": [
       "<div>\n",
       "<style scoped>\n",
       "    .dataframe tbody tr th:only-of-type {\n",
       "        vertical-align: middle;\n",
       "    }\n",
       "\n",
       "    .dataframe tbody tr th {\n",
       "        vertical-align: top;\n",
       "    }\n",
       "\n",
       "    .dataframe thead th {\n",
       "        text-align: right;\n",
       "    }\n",
       "</style>\n",
       "<table border=\"1\" class=\"dataframe\">\n",
       "  <thead>\n",
       "    <tr style=\"text-align: right;\">\n",
       "      <th></th>\n",
       "      <th>first_name</th>\n",
       "      <th>last_name</th>\n",
       "      <th>age</th>\n",
       "      <th>sex</th>\n",
       "      <th>pre_movie_score</th>\n",
       "      <th>post_movie_score</th>\n",
       "    </tr>\n",
       "  </thead>\n",
       "  <tbody>\n",
       "    <tr>\n",
       "      <th>0</th>\n",
       "      <td>False</td>\n",
       "      <td>False</td>\n",
       "      <td>False</td>\n",
       "      <td>False</td>\n",
       "      <td>False</td>\n",
       "      <td>False</td>\n",
       "    </tr>\n",
       "    <tr>\n",
       "      <th>1</th>\n",
       "      <td>True</td>\n",
       "      <td>True</td>\n",
       "      <td>True</td>\n",
       "      <td>True</td>\n",
       "      <td>True</td>\n",
       "      <td>True</td>\n",
       "    </tr>\n",
       "    <tr>\n",
       "      <th>2</th>\n",
       "      <td>False</td>\n",
       "      <td>False</td>\n",
       "      <td>False</td>\n",
       "      <td>False</td>\n",
       "      <td>True</td>\n",
       "      <td>True</td>\n",
       "    </tr>\n",
       "    <tr>\n",
       "      <th>3</th>\n",
       "      <td>False</td>\n",
       "      <td>False</td>\n",
       "      <td>False</td>\n",
       "      <td>False</td>\n",
       "      <td>False</td>\n",
       "      <td>False</td>\n",
       "    </tr>\n",
       "    <tr>\n",
       "      <th>4</th>\n",
       "      <td>False</td>\n",
       "      <td>False</td>\n",
       "      <td>False</td>\n",
       "      <td>False</td>\n",
       "      <td>False</td>\n",
       "      <td>False</td>\n",
       "    </tr>\n",
       "  </tbody>\n",
       "</table>\n",
       "</div>"
      ],
      "text/plain": [
       "   first_name  last_name    age    sex  pre_movie_score  post_movie_score\n",
       "0       False      False  False  False            False             False\n",
       "1        True       True   True   True             True              True\n",
       "2       False      False  False  False             True              True\n",
       "3       False      False  False  False            False             False\n",
       "4       False      False  False  False            False             False"
      ]
     },
     "execution_count": 7,
     "metadata": {},
     "output_type": "execute_result"
    }
   ],
   "source": [
    "df_ms.isna() # butun tablodaki eksik degerleri True olarak gosterir"
   ]
  },
  {
   "cell_type": "code",
   "execution_count": 8,
   "id": "09603adf",
   "metadata": {},
   "outputs": [
    {
     "data": {
      "application/vnd.microsoft.datawrangler.viewer.v0+json": {
       "columns": [
        {
         "name": "index",
         "rawType": "object",
         "type": "string"
        },
        {
         "name": "0",
         "rawType": "int64",
         "type": "integer"
        }
       ],
       "ref": "1b4fa2e4-5f61-40c0-bba0-b0f439a6fea9",
       "rows": [
        [
         "first_name",
         "1"
        ],
        [
         "last_name",
         "1"
        ],
        [
         "age",
         "1"
        ],
        [
         "sex",
         "1"
        ],
        [
         "pre_movie_score",
         "2"
        ],
        [
         "post_movie_score",
         "2"
        ]
       ],
       "shape": {
        "columns": 1,
        "rows": 6
       }
      },
      "text/plain": [
       "first_name          1\n",
       "last_name           1\n",
       "age                 1\n",
       "sex                 1\n",
       "pre_movie_score     2\n",
       "post_movie_score    2\n",
       "dtype: int64"
      ]
     },
     "execution_count": 8,
     "metadata": {},
     "output_type": "execute_result"
    }
   ],
   "source": [
    "df_ms.isna().sum() # her sutundaki eksik degerlerin sayisini gosterir"
   ]
  },
  {
   "cell_type": "code",
   "execution_count": 9,
   "id": "a11efbcd",
   "metadata": {},
   "outputs": [
    {
     "name": "stdout",
     "output_type": "stream",
     "text": [
      "<class 'pandas.core.frame.DataFrame'>\n",
      "RangeIndex: 5 entries, 0 to 4\n",
      "Data columns (total 6 columns):\n",
      " #   Column            Non-Null Count  Dtype  \n",
      "---  ------            --------------  -----  \n",
      " 0   first_name        4 non-null      object \n",
      " 1   last_name         4 non-null      object \n",
      " 2   age               4 non-null      float64\n",
      " 3   sex               4 non-null      object \n",
      " 4   pre_movie_score   3 non-null      float64\n",
      " 5   post_movie_score  3 non-null      float64\n",
      "dtypes: float64(3), object(3)\n",
      "memory usage: 372.0+ bytes\n"
     ]
    }
   ],
   "source": [
    "df_ms.info() # var olan ve olmayan degerleri gosterir"
   ]
  },
  {
   "cell_type": "code",
   "execution_count": 10,
   "id": "8e1b8b93",
   "metadata": {},
   "outputs": [
    {
     "data": {
      "application/vnd.microsoft.datawrangler.viewer.v0+json": {
       "columns": [
        {
         "name": "index",
         "rawType": "int64",
         "type": "integer"
        },
        {
         "name": "first_name",
         "rawType": "bool",
         "type": "boolean"
        },
        {
         "name": "last_name",
         "rawType": "bool",
         "type": "boolean"
        },
        {
         "name": "age",
         "rawType": "bool",
         "type": "boolean"
        },
        {
         "name": "sex",
         "rawType": "bool",
         "type": "boolean"
        },
        {
         "name": "pre_movie_score",
         "rawType": "bool",
         "type": "boolean"
        },
        {
         "name": "post_movie_score",
         "rawType": "bool",
         "type": "boolean"
        }
       ],
       "ref": "e9f51069-4533-425d-9af4-62a47011f7be",
       "rows": [
        [
         "0",
         "True",
         "True",
         "True",
         "True",
         "True",
         "True"
        ],
        [
         "1",
         "False",
         "False",
         "False",
         "False",
         "False",
         "False"
        ],
        [
         "2",
         "True",
         "True",
         "True",
         "True",
         "False",
         "False"
        ],
        [
         "3",
         "True",
         "True",
         "True",
         "True",
         "True",
         "True"
        ],
        [
         "4",
         "True",
         "True",
         "True",
         "True",
         "True",
         "True"
        ]
       ],
       "shape": {
        "columns": 6,
        "rows": 5
       }
      },
      "text/html": [
       "<div>\n",
       "<style scoped>\n",
       "    .dataframe tbody tr th:only-of-type {\n",
       "        vertical-align: middle;\n",
       "    }\n",
       "\n",
       "    .dataframe tbody tr th {\n",
       "        vertical-align: top;\n",
       "    }\n",
       "\n",
       "    .dataframe thead th {\n",
       "        text-align: right;\n",
       "    }\n",
       "</style>\n",
       "<table border=\"1\" class=\"dataframe\">\n",
       "  <thead>\n",
       "    <tr style=\"text-align: right;\">\n",
       "      <th></th>\n",
       "      <th>first_name</th>\n",
       "      <th>last_name</th>\n",
       "      <th>age</th>\n",
       "      <th>sex</th>\n",
       "      <th>pre_movie_score</th>\n",
       "      <th>post_movie_score</th>\n",
       "    </tr>\n",
       "  </thead>\n",
       "  <tbody>\n",
       "    <tr>\n",
       "      <th>0</th>\n",
       "      <td>True</td>\n",
       "      <td>True</td>\n",
       "      <td>True</td>\n",
       "      <td>True</td>\n",
       "      <td>True</td>\n",
       "      <td>True</td>\n",
       "    </tr>\n",
       "    <tr>\n",
       "      <th>1</th>\n",
       "      <td>False</td>\n",
       "      <td>False</td>\n",
       "      <td>False</td>\n",
       "      <td>False</td>\n",
       "      <td>False</td>\n",
       "      <td>False</td>\n",
       "    </tr>\n",
       "    <tr>\n",
       "      <th>2</th>\n",
       "      <td>True</td>\n",
       "      <td>True</td>\n",
       "      <td>True</td>\n",
       "      <td>True</td>\n",
       "      <td>False</td>\n",
       "      <td>False</td>\n",
       "    </tr>\n",
       "    <tr>\n",
       "      <th>3</th>\n",
       "      <td>True</td>\n",
       "      <td>True</td>\n",
       "      <td>True</td>\n",
       "      <td>True</td>\n",
       "      <td>True</td>\n",
       "      <td>True</td>\n",
       "    </tr>\n",
       "    <tr>\n",
       "      <th>4</th>\n",
       "      <td>True</td>\n",
       "      <td>True</td>\n",
       "      <td>True</td>\n",
       "      <td>True</td>\n",
       "      <td>True</td>\n",
       "      <td>True</td>\n",
       "    </tr>\n",
       "  </tbody>\n",
       "</table>\n",
       "</div>"
      ],
      "text/plain": [
       "   first_name  last_name    age    sex  pre_movie_score  post_movie_score\n",
       "0        True       True   True   True             True              True\n",
       "1       False      False  False  False            False             False\n",
       "2        True       True   True   True            False             False\n",
       "3        True       True   True   True             True              True\n",
       "4        True       True   True   True             True              True"
      ]
     },
     "execution_count": 10,
     "metadata": {},
     "output_type": "execute_result"
    }
   ],
   "source": [
    "df_ms.notna() # eksik olmayan degerleri True olarak gosterir"
   ]
  },
  {
   "cell_type": "code",
   "execution_count": 11,
   "id": "d94859dd",
   "metadata": {},
   "outputs": [
    {
     "data": {
      "application/vnd.microsoft.datawrangler.viewer.v0+json": {
       "columns": [
        {
         "name": "index",
         "rawType": "object",
         "type": "string"
        },
        {
         "name": "0",
         "rawType": "int64",
         "type": "integer"
        }
       ],
       "ref": "e67a94ad-c66e-421e-a6f1-261c87866450",
       "rows": [
        [
         "first_name",
         "4"
        ],
        [
         "last_name",
         "4"
        ],
        [
         "age",
         "4"
        ],
        [
         "sex",
         "4"
        ],
        [
         "pre_movie_score",
         "3"
        ],
        [
         "post_movie_score",
         "3"
        ]
       ],
       "shape": {
        "columns": 1,
        "rows": 6
       }
      },
      "text/plain": [
       "first_name          4\n",
       "last_name           4\n",
       "age                 4\n",
       "sex                 4\n",
       "pre_movie_score     3\n",
       "post_movie_score    3\n",
       "dtype: int64"
      ]
     },
     "execution_count": 11,
     "metadata": {},
     "output_type": "execute_result"
    }
   ],
   "source": [
    "df_ms.notna().sum() # her sutundaki eksik olmayan degerlerin sayisini gosterir"
   ]
  },
  {
   "cell_type": "code",
   "execution_count": 12,
   "id": "9c31b014",
   "metadata": {},
   "outputs": [
    {
     "data": {
      "application/vnd.microsoft.datawrangler.viewer.v0+json": {
       "columns": [
        {
         "name": "index",
         "rawType": "int64",
         "type": "integer"
        },
        {
         "name": "first_name",
         "rawType": "object",
         "type": "unknown"
        },
        {
         "name": "last_name",
         "rawType": "object",
         "type": "unknown"
        },
        {
         "name": "age",
         "rawType": "float64",
         "type": "float"
        },
        {
         "name": "sex",
         "rawType": "object",
         "type": "unknown"
        },
        {
         "name": "pre_movie_score",
         "rawType": "float64",
         "type": "float"
        },
        {
         "name": "post_movie_score",
         "rawType": "float64",
         "type": "float"
        }
       ],
       "ref": "c11ff780-4f51-4a2b-910c-d2eb6f912dc3",
       "rows": [
        [
         "0",
         "Tom",
         "Hanks",
         "63.0",
         "m",
         "8.0",
         "10.0"
        ],
        [
         "1",
         null,
         null,
         null,
         null,
         null,
         null
        ],
        [
         "2",
         "Hugh",
         "Jackman",
         "51.0",
         "m",
         null,
         null
        ],
        [
         "3",
         "Oprah",
         "Winfrey",
         "66.0",
         "f",
         "6.0",
         "8.0"
        ],
        [
         "4",
         "Emma",
         "Stone",
         "31.0",
         "f",
         "7.0",
         "9.0"
        ]
       ],
       "shape": {
        "columns": 6,
        "rows": 5
       }
      },
      "text/html": [
       "<div>\n",
       "<style scoped>\n",
       "    .dataframe tbody tr th:only-of-type {\n",
       "        vertical-align: middle;\n",
       "    }\n",
       "\n",
       "    .dataframe tbody tr th {\n",
       "        vertical-align: top;\n",
       "    }\n",
       "\n",
       "    .dataframe thead th {\n",
       "        text-align: right;\n",
       "    }\n",
       "</style>\n",
       "<table border=\"1\" class=\"dataframe\">\n",
       "  <thead>\n",
       "    <tr style=\"text-align: right;\">\n",
       "      <th></th>\n",
       "      <th>first_name</th>\n",
       "      <th>last_name</th>\n",
       "      <th>age</th>\n",
       "      <th>sex</th>\n",
       "      <th>pre_movie_score</th>\n",
       "      <th>post_movie_score</th>\n",
       "    </tr>\n",
       "  </thead>\n",
       "  <tbody>\n",
       "    <tr>\n",
       "      <th>0</th>\n",
       "      <td>Tom</td>\n",
       "      <td>Hanks</td>\n",
       "      <td>63.0</td>\n",
       "      <td>m</td>\n",
       "      <td>8.0</td>\n",
       "      <td>10.0</td>\n",
       "    </tr>\n",
       "    <tr>\n",
       "      <th>1</th>\n",
       "      <td>NaN</td>\n",
       "      <td>NaN</td>\n",
       "      <td>NaN</td>\n",
       "      <td>NaN</td>\n",
       "      <td>NaN</td>\n",
       "      <td>NaN</td>\n",
       "    </tr>\n",
       "    <tr>\n",
       "      <th>2</th>\n",
       "      <td>Hugh</td>\n",
       "      <td>Jackman</td>\n",
       "      <td>51.0</td>\n",
       "      <td>m</td>\n",
       "      <td>NaN</td>\n",
       "      <td>NaN</td>\n",
       "    </tr>\n",
       "    <tr>\n",
       "      <th>3</th>\n",
       "      <td>Oprah</td>\n",
       "      <td>Winfrey</td>\n",
       "      <td>66.0</td>\n",
       "      <td>f</td>\n",
       "      <td>6.0</td>\n",
       "      <td>8.0</td>\n",
       "    </tr>\n",
       "    <tr>\n",
       "      <th>4</th>\n",
       "      <td>Emma</td>\n",
       "      <td>Stone</td>\n",
       "      <td>31.0</td>\n",
       "      <td>f</td>\n",
       "      <td>7.0</td>\n",
       "      <td>9.0</td>\n",
       "    </tr>\n",
       "  </tbody>\n",
       "</table>\n",
       "</div>"
      ],
      "text/plain": [
       "  first_name last_name   age  sex  pre_movie_score  post_movie_score\n",
       "0        Tom     Hanks  63.0    m              8.0              10.0\n",
       "1        NaN       NaN   NaN  NaN              NaN               NaN\n",
       "2       Hugh   Jackman  51.0    m              NaN               NaN\n",
       "3      Oprah   Winfrey  66.0    f              6.0               8.0\n",
       "4       Emma     Stone  31.0    f              7.0               9.0"
      ]
     },
     "execution_count": 12,
     "metadata": {},
     "output_type": "execute_result"
    }
   ],
   "source": [
    "df_ms.head(6)"
   ]
  },
  {
   "cell_type": "code",
   "execution_count": 13,
   "id": "91cd70a9",
   "metadata": {},
   "outputs": [
    {
     "data": {
      "application/vnd.microsoft.datawrangler.viewer.v0+json": {
       "columns": [
        {
         "name": "index",
         "rawType": "int64",
         "type": "integer"
        },
        {
         "name": "pre_movie_score",
         "rawType": "bool",
         "type": "boolean"
        }
       ],
       "ref": "104dc1a2-7b4c-428d-a5d8-1acebb02a27f",
       "rows": [
        [
         "0",
         "True"
        ],
        [
         "1",
         "False"
        ],
        [
         "2",
         "False"
        ],
        [
         "3",
         "True"
        ],
        [
         "4",
         "True"
        ]
       ],
       "shape": {
        "columns": 1,
        "rows": 5
       }
      },
      "text/plain": [
       "0     True\n",
       "1    False\n",
       "2    False\n",
       "3     True\n",
       "4     True\n",
       "Name: pre_movie_score, dtype: bool"
      ]
     },
     "execution_count": 13,
     "metadata": {},
     "output_type": "execute_result"
    }
   ],
   "source": [
    "df_ms[\"pre_movie_score\"].notna()  # sadece pre_movie_score sutunundaki eksik olmayan degerleri True, False olarak gosterir"
   ]
  },
  {
   "cell_type": "code",
   "execution_count": 14,
   "id": "fa1792ed",
   "metadata": {},
   "outputs": [
    {
     "data": {
      "application/vnd.microsoft.datawrangler.viewer.v0+json": {
       "columns": [
        {
         "name": "index",
         "rawType": "int64",
         "type": "integer"
        },
        {
         "name": "first_name",
         "rawType": "object",
         "type": "string"
        },
        {
         "name": "last_name",
         "rawType": "object",
         "type": "string"
        },
        {
         "name": "age",
         "rawType": "float64",
         "type": "float"
        },
        {
         "name": "sex",
         "rawType": "object",
         "type": "string"
        },
        {
         "name": "pre_movie_score",
         "rawType": "float64",
         "type": "float"
        },
        {
         "name": "post_movie_score",
         "rawType": "float64",
         "type": "float"
        }
       ],
       "ref": "bf61bd95-8ec3-4335-9b5b-e121f6a0078a",
       "rows": [
        [
         "0",
         "Tom",
         "Hanks",
         "63.0",
         "m",
         "8.0",
         "10.0"
        ],
        [
         "3",
         "Oprah",
         "Winfrey",
         "66.0",
         "f",
         "6.0",
         "8.0"
        ],
        [
         "4",
         "Emma",
         "Stone",
         "31.0",
         "f",
         "7.0",
         "9.0"
        ]
       ],
       "shape": {
        "columns": 6,
        "rows": 3
       }
      },
      "text/html": [
       "<div>\n",
       "<style scoped>\n",
       "    .dataframe tbody tr th:only-of-type {\n",
       "        vertical-align: middle;\n",
       "    }\n",
       "\n",
       "    .dataframe tbody tr th {\n",
       "        vertical-align: top;\n",
       "    }\n",
       "\n",
       "    .dataframe thead th {\n",
       "        text-align: right;\n",
       "    }\n",
       "</style>\n",
       "<table border=\"1\" class=\"dataframe\">\n",
       "  <thead>\n",
       "    <tr style=\"text-align: right;\">\n",
       "      <th></th>\n",
       "      <th>first_name</th>\n",
       "      <th>last_name</th>\n",
       "      <th>age</th>\n",
       "      <th>sex</th>\n",
       "      <th>pre_movie_score</th>\n",
       "      <th>post_movie_score</th>\n",
       "    </tr>\n",
       "  </thead>\n",
       "  <tbody>\n",
       "    <tr>\n",
       "      <th>0</th>\n",
       "      <td>Tom</td>\n",
       "      <td>Hanks</td>\n",
       "      <td>63.0</td>\n",
       "      <td>m</td>\n",
       "      <td>8.0</td>\n",
       "      <td>10.0</td>\n",
       "    </tr>\n",
       "    <tr>\n",
       "      <th>3</th>\n",
       "      <td>Oprah</td>\n",
       "      <td>Winfrey</td>\n",
       "      <td>66.0</td>\n",
       "      <td>f</td>\n",
       "      <td>6.0</td>\n",
       "      <td>8.0</td>\n",
       "    </tr>\n",
       "    <tr>\n",
       "      <th>4</th>\n",
       "      <td>Emma</td>\n",
       "      <td>Stone</td>\n",
       "      <td>31.0</td>\n",
       "      <td>f</td>\n",
       "      <td>7.0</td>\n",
       "      <td>9.0</td>\n",
       "    </tr>\n",
       "  </tbody>\n",
       "</table>\n",
       "</div>"
      ],
      "text/plain": [
       "  first_name last_name   age sex  pre_movie_score  post_movie_score\n",
       "0        Tom     Hanks  63.0   m              8.0              10.0\n",
       "3      Oprah   Winfrey  66.0   f              6.0               8.0\n",
       "4       Emma     Stone  31.0   f              7.0               9.0"
      ]
     },
     "execution_count": 14,
     "metadata": {},
     "output_type": "execute_result"
    }
   ],
   "source": [
    "df_ms[df_ms[\"pre_movie_score\"].notna()] # sadece pre_movie_score sutunundaki eksik olmayan satirlari gosterir"
   ]
  },
  {
   "cell_type": "code",
   "execution_count": 15,
   "id": "f22cf7be",
   "metadata": {},
   "outputs": [
    {
     "data": {
      "application/vnd.microsoft.datawrangler.viewer.v0+json": {
       "columns": [
        {
         "name": "index",
         "rawType": "int64",
         "type": "integer"
        },
        {
         "name": "first_name",
         "rawType": "object",
         "type": "unknown"
        },
        {
         "name": "last_name",
         "rawType": "object",
         "type": "unknown"
        },
        {
         "name": "age",
         "rawType": "float64",
         "type": "float"
        },
        {
         "name": "sex",
         "rawType": "object",
         "type": "unknown"
        },
        {
         "name": "pre_movie_score",
         "rawType": "float64",
         "type": "float"
        },
        {
         "name": "post_movie_score",
         "rawType": "float64",
         "type": "float"
        }
       ],
       "ref": "85f0d514-649e-407d-a769-2016d1f8df57",
       "rows": [
        [
         "1",
         null,
         null,
         null,
         null,
         null,
         null
        ],
        [
         "2",
         "Hugh",
         "Jackman",
         "51.0",
         "m",
         null,
         null
        ]
       ],
       "shape": {
        "columns": 6,
        "rows": 2
       }
      },
      "text/html": [
       "<div>\n",
       "<style scoped>\n",
       "    .dataframe tbody tr th:only-of-type {\n",
       "        vertical-align: middle;\n",
       "    }\n",
       "\n",
       "    .dataframe tbody tr th {\n",
       "        vertical-align: top;\n",
       "    }\n",
       "\n",
       "    .dataframe thead th {\n",
       "        text-align: right;\n",
       "    }\n",
       "</style>\n",
       "<table border=\"1\" class=\"dataframe\">\n",
       "  <thead>\n",
       "    <tr style=\"text-align: right;\">\n",
       "      <th></th>\n",
       "      <th>first_name</th>\n",
       "      <th>last_name</th>\n",
       "      <th>age</th>\n",
       "      <th>sex</th>\n",
       "      <th>pre_movie_score</th>\n",
       "      <th>post_movie_score</th>\n",
       "    </tr>\n",
       "  </thead>\n",
       "  <tbody>\n",
       "    <tr>\n",
       "      <th>1</th>\n",
       "      <td>NaN</td>\n",
       "      <td>NaN</td>\n",
       "      <td>NaN</td>\n",
       "      <td>NaN</td>\n",
       "      <td>NaN</td>\n",
       "      <td>NaN</td>\n",
       "    </tr>\n",
       "    <tr>\n",
       "      <th>2</th>\n",
       "      <td>Hugh</td>\n",
       "      <td>Jackman</td>\n",
       "      <td>51.0</td>\n",
       "      <td>m</td>\n",
       "      <td>NaN</td>\n",
       "      <td>NaN</td>\n",
       "    </tr>\n",
       "  </tbody>\n",
       "</table>\n",
       "</div>"
      ],
      "text/plain": [
       "  first_name last_name   age  sex  pre_movie_score  post_movie_score\n",
       "1        NaN       NaN   NaN  NaN              NaN               NaN\n",
       "2       Hugh   Jackman  51.0    m              NaN               NaN"
      ]
     },
     "execution_count": 15,
     "metadata": {},
     "output_type": "execute_result"
    }
   ],
   "source": [
    "df_ms[df_ms[\"pre_movie_score\"].isna()] # sadece pre_movie_score sutunundaki eksik olan satirlari gosterir"
   ]
  },
  {
   "cell_type": "code",
   "execution_count": 16,
   "id": "06de5bb1",
   "metadata": {},
   "outputs": [
    {
     "data": {
      "application/vnd.microsoft.datawrangler.viewer.v0+json": {
       "columns": [
        {
         "name": "index",
         "rawType": "int64",
         "type": "integer"
        },
        {
         "name": "first_name",
         "rawType": "object",
         "type": "string"
        },
        {
         "name": "last_name",
         "rawType": "object",
         "type": "string"
        },
        {
         "name": "age",
         "rawType": "float64",
         "type": "float"
        },
        {
         "name": "sex",
         "rawType": "object",
         "type": "string"
        },
        {
         "name": "pre_movie_score",
         "rawType": "float64",
         "type": "float"
        },
        {
         "name": "post_movie_score",
         "rawType": "float64",
         "type": "float"
        }
       ],
       "ref": "c9a9271b-0b0e-44eb-b9ee-393c3cccb150",
       "rows": [
        [
         "2",
         "Hugh",
         "Jackman",
         "51.0",
         "m",
         null,
         null
        ]
       ],
       "shape": {
        "columns": 6,
        "rows": 1
       }
      },
      "text/html": [
       "<div>\n",
       "<style scoped>\n",
       "    .dataframe tbody tr th:only-of-type {\n",
       "        vertical-align: middle;\n",
       "    }\n",
       "\n",
       "    .dataframe tbody tr th {\n",
       "        vertical-align: top;\n",
       "    }\n",
       "\n",
       "    .dataframe thead th {\n",
       "        text-align: right;\n",
       "    }\n",
       "</style>\n",
       "<table border=\"1\" class=\"dataframe\">\n",
       "  <thead>\n",
       "    <tr style=\"text-align: right;\">\n",
       "      <th></th>\n",
       "      <th>first_name</th>\n",
       "      <th>last_name</th>\n",
       "      <th>age</th>\n",
       "      <th>sex</th>\n",
       "      <th>pre_movie_score</th>\n",
       "      <th>post_movie_score</th>\n",
       "    </tr>\n",
       "  </thead>\n",
       "  <tbody>\n",
       "    <tr>\n",
       "      <th>2</th>\n",
       "      <td>Hugh</td>\n",
       "      <td>Jackman</td>\n",
       "      <td>51.0</td>\n",
       "      <td>m</td>\n",
       "      <td>NaN</td>\n",
       "      <td>NaN</td>\n",
       "    </tr>\n",
       "  </tbody>\n",
       "</table>\n",
       "</div>"
      ],
      "text/plain": [
       "  first_name last_name   age sex  pre_movie_score  post_movie_score\n",
       "2       Hugh   Jackman  51.0   m              NaN               NaN"
      ]
     },
     "execution_count": 16,
     "metadata": {},
     "output_type": "execute_result"
    }
   ],
   "source": [
    "df_ms[(df_ms[\"pre_movie_score\"].isna()) & (df_ms[\"age\"].notna())] # pre_movie_score sutunundaki eksik olan ve age sutunundaki eksik olmayan satirlari gosterir"
   ]
  },
  {
   "cell_type": "markdown",
   "id": "550edf19",
   "metadata": {},
   "source": [
    "## Eksik  Verilere 3 Sey Yapilabilir"
   ]
  },
  {
   "cell_type": "code",
   "execution_count": 17,
   "id": "42a54a0e",
   "metadata": {},
   "outputs": [],
   "source": [
    "# 1 ) Dokunmadan birakilabilir\n",
    "# 2 ) Drop edilebilir (Satir veya Sutun olarak)(Genellikle veri silinmez cunku veri kaybi olur)\n",
    "# 3 ) Mantikli bir sekilde doldurulabilir (Arastirma, Ortalama, Medyan, Mod, Ileri Doldurma, Geri Doldurma vb.)"
   ]
  },
  {
   "cell_type": "code",
   "execution_count": 18,
   "id": "14e36777",
   "metadata": {},
   "outputs": [
    {
     "data": {
      "application/vnd.microsoft.datawrangler.viewer.v0+json": {
       "columns": [
        {
         "name": "index",
         "rawType": "int64",
         "type": "integer"
        },
        {
         "name": "first_name",
         "rawType": "object",
         "type": "unknown"
        },
        {
         "name": "last_name",
         "rawType": "object",
         "type": "unknown"
        },
        {
         "name": "age",
         "rawType": "float64",
         "type": "float"
        },
        {
         "name": "sex",
         "rawType": "object",
         "type": "unknown"
        },
        {
         "name": "pre_movie_score",
         "rawType": "float64",
         "type": "float"
        },
        {
         "name": "post_movie_score",
         "rawType": "float64",
         "type": "float"
        }
       ],
       "ref": "ba40726a-4974-44f1-a62d-dae3759eca48",
       "rows": [
        [
         "0",
         "Tom",
         "Hanks",
         "63.0",
         "m",
         "8.0",
         "10.0"
        ],
        [
         "1",
         null,
         null,
         null,
         null,
         null,
         null
        ],
        [
         "2",
         "Hugh",
         "Jackman",
         "51.0",
         "m",
         null,
         null
        ],
        [
         "3",
         "Oprah",
         "Winfrey",
         "66.0",
         "f",
         "6.0",
         "8.0"
        ],
        [
         "4",
         "Emma",
         "Stone",
         "31.0",
         "f",
         "7.0",
         "9.0"
        ]
       ],
       "shape": {
        "columns": 6,
        "rows": 5
       }
      },
      "text/html": [
       "<div>\n",
       "<style scoped>\n",
       "    .dataframe tbody tr th:only-of-type {\n",
       "        vertical-align: middle;\n",
       "    }\n",
       "\n",
       "    .dataframe tbody tr th {\n",
       "        vertical-align: top;\n",
       "    }\n",
       "\n",
       "    .dataframe thead th {\n",
       "        text-align: right;\n",
       "    }\n",
       "</style>\n",
       "<table border=\"1\" class=\"dataframe\">\n",
       "  <thead>\n",
       "    <tr style=\"text-align: right;\">\n",
       "      <th></th>\n",
       "      <th>first_name</th>\n",
       "      <th>last_name</th>\n",
       "      <th>age</th>\n",
       "      <th>sex</th>\n",
       "      <th>pre_movie_score</th>\n",
       "      <th>post_movie_score</th>\n",
       "    </tr>\n",
       "  </thead>\n",
       "  <tbody>\n",
       "    <tr>\n",
       "      <th>0</th>\n",
       "      <td>Tom</td>\n",
       "      <td>Hanks</td>\n",
       "      <td>63.0</td>\n",
       "      <td>m</td>\n",
       "      <td>8.0</td>\n",
       "      <td>10.0</td>\n",
       "    </tr>\n",
       "    <tr>\n",
       "      <th>1</th>\n",
       "      <td>NaN</td>\n",
       "      <td>NaN</td>\n",
       "      <td>NaN</td>\n",
       "      <td>NaN</td>\n",
       "      <td>NaN</td>\n",
       "      <td>NaN</td>\n",
       "    </tr>\n",
       "    <tr>\n",
       "      <th>2</th>\n",
       "      <td>Hugh</td>\n",
       "      <td>Jackman</td>\n",
       "      <td>51.0</td>\n",
       "      <td>m</td>\n",
       "      <td>NaN</td>\n",
       "      <td>NaN</td>\n",
       "    </tr>\n",
       "    <tr>\n",
       "      <th>3</th>\n",
       "      <td>Oprah</td>\n",
       "      <td>Winfrey</td>\n",
       "      <td>66.0</td>\n",
       "      <td>f</td>\n",
       "      <td>6.0</td>\n",
       "      <td>8.0</td>\n",
       "    </tr>\n",
       "    <tr>\n",
       "      <th>4</th>\n",
       "      <td>Emma</td>\n",
       "      <td>Stone</td>\n",
       "      <td>31.0</td>\n",
       "      <td>f</td>\n",
       "      <td>7.0</td>\n",
       "      <td>9.0</td>\n",
       "    </tr>\n",
       "  </tbody>\n",
       "</table>\n",
       "</div>"
      ],
      "text/plain": [
       "  first_name last_name   age  sex  pre_movie_score  post_movie_score\n",
       "0        Tom     Hanks  63.0    m              8.0              10.0\n",
       "1        NaN       NaN   NaN  NaN              NaN               NaN\n",
       "2       Hugh   Jackman  51.0    m              NaN               NaN\n",
       "3      Oprah   Winfrey  66.0    f              6.0               8.0\n",
       "4       Emma     Stone  31.0    f              7.0               9.0"
      ]
     },
     "execution_count": 18,
     "metadata": {},
     "output_type": "execute_result"
    }
   ],
   "source": [
    "# 1. Yol - Dokunmadan birakmak\n",
    "df_ms # eksik verilere yapabilecegimiz hicbir sey yoksa dokunmadan birakabiliriz"
   ]
  },
  {
   "cell_type": "code",
   "execution_count": 19,
   "id": "326bd577",
   "metadata": {},
   "outputs": [
    {
     "data": {
      "application/vnd.microsoft.datawrangler.viewer.v0+json": {
       "columns": [
        {
         "name": "index",
         "rawType": "int64",
         "type": "integer"
        },
        {
         "name": "first_name",
         "rawType": "object",
         "type": "string"
        },
        {
         "name": "last_name",
         "rawType": "object",
         "type": "string"
        },
        {
         "name": "age",
         "rawType": "float64",
         "type": "float"
        },
        {
         "name": "sex",
         "rawType": "object",
         "type": "string"
        },
        {
         "name": "pre_movie_score",
         "rawType": "float64",
         "type": "float"
        },
        {
         "name": "post_movie_score",
         "rawType": "float64",
         "type": "float"
        }
       ],
       "ref": "b8373a3b-d39f-4f9c-8581-47e8df7944e9",
       "rows": [
        [
         "0",
         "Tom",
         "Hanks",
         "63.0",
         "m",
         "8.0",
         "10.0"
        ],
        [
         "3",
         "Oprah",
         "Winfrey",
         "66.0",
         "f",
         "6.0",
         "8.0"
        ],
        [
         "4",
         "Emma",
         "Stone",
         "31.0",
         "f",
         "7.0",
         "9.0"
        ]
       ],
       "shape": {
        "columns": 6,
        "rows": 3
       }
      },
      "text/html": [
       "<div>\n",
       "<style scoped>\n",
       "    .dataframe tbody tr th:only-of-type {\n",
       "        vertical-align: middle;\n",
       "    }\n",
       "\n",
       "    .dataframe tbody tr th {\n",
       "        vertical-align: top;\n",
       "    }\n",
       "\n",
       "    .dataframe thead th {\n",
       "        text-align: right;\n",
       "    }\n",
       "</style>\n",
       "<table border=\"1\" class=\"dataframe\">\n",
       "  <thead>\n",
       "    <tr style=\"text-align: right;\">\n",
       "      <th></th>\n",
       "      <th>first_name</th>\n",
       "      <th>last_name</th>\n",
       "      <th>age</th>\n",
       "      <th>sex</th>\n",
       "      <th>pre_movie_score</th>\n",
       "      <th>post_movie_score</th>\n",
       "    </tr>\n",
       "  </thead>\n",
       "  <tbody>\n",
       "    <tr>\n",
       "      <th>0</th>\n",
       "      <td>Tom</td>\n",
       "      <td>Hanks</td>\n",
       "      <td>63.0</td>\n",
       "      <td>m</td>\n",
       "      <td>8.0</td>\n",
       "      <td>10.0</td>\n",
       "    </tr>\n",
       "    <tr>\n",
       "      <th>3</th>\n",
       "      <td>Oprah</td>\n",
       "      <td>Winfrey</td>\n",
       "      <td>66.0</td>\n",
       "      <td>f</td>\n",
       "      <td>6.0</td>\n",
       "      <td>8.0</td>\n",
       "    </tr>\n",
       "    <tr>\n",
       "      <th>4</th>\n",
       "      <td>Emma</td>\n",
       "      <td>Stone</td>\n",
       "      <td>31.0</td>\n",
       "      <td>f</td>\n",
       "      <td>7.0</td>\n",
       "      <td>9.0</td>\n",
       "    </tr>\n",
       "  </tbody>\n",
       "</table>\n",
       "</div>"
      ],
      "text/plain": [
       "  first_name last_name   age sex  pre_movie_score  post_movie_score\n",
       "0        Tom     Hanks  63.0   m              8.0              10.0\n",
       "3      Oprah   Winfrey  66.0   f              6.0               8.0\n",
       "4       Emma     Stone  31.0   f              7.0               9.0"
      ]
     },
     "execution_count": 19,
     "metadata": {},
     "output_type": "execute_result"
    }
   ],
   "source": [
    "# 2. Yol - Drop etmek\n",
    "df_ms.dropna() # eksik deger iceren tum satirlari siler"
   ]
  },
  {
   "cell_type": "code",
   "execution_count": 20,
   "id": "10972667",
   "metadata": {},
   "outputs": [
    {
     "data": {
      "application/vnd.microsoft.datawrangler.viewer.v0+json": {
       "columns": [
        {
         "name": "index",
         "rawType": "int64",
         "type": "integer"
        },
        {
         "name": "first_name",
         "rawType": "object",
         "type": "string"
        },
        {
         "name": "last_name",
         "rawType": "object",
         "type": "string"
        },
        {
         "name": "age",
         "rawType": "float64",
         "type": "float"
        },
        {
         "name": "sex",
         "rawType": "object",
         "type": "string"
        },
        {
         "name": "pre_movie_score",
         "rawType": "float64",
         "type": "float"
        },
        {
         "name": "post_movie_score",
         "rawType": "float64",
         "type": "float"
        }
       ],
       "ref": "cf7eafa9-89fb-4a70-8f4f-98f5fb85a1ba",
       "rows": [
        [
         "0",
         "Tom",
         "Hanks",
         "63.0",
         "m",
         "8.0",
         "10.0"
        ],
        [
         "3",
         "Oprah",
         "Winfrey",
         "66.0",
         "f",
         "6.0",
         "8.0"
        ],
        [
         "4",
         "Emma",
         "Stone",
         "31.0",
         "f",
         "7.0",
         "9.0"
        ]
       ],
       "shape": {
        "columns": 6,
        "rows": 3
       }
      },
      "text/html": [
       "<div>\n",
       "<style scoped>\n",
       "    .dataframe tbody tr th:only-of-type {\n",
       "        vertical-align: middle;\n",
       "    }\n",
       "\n",
       "    .dataframe tbody tr th {\n",
       "        vertical-align: top;\n",
       "    }\n",
       "\n",
       "    .dataframe thead th {\n",
       "        text-align: right;\n",
       "    }\n",
       "</style>\n",
       "<table border=\"1\" class=\"dataframe\">\n",
       "  <thead>\n",
       "    <tr style=\"text-align: right;\">\n",
       "      <th></th>\n",
       "      <th>first_name</th>\n",
       "      <th>last_name</th>\n",
       "      <th>age</th>\n",
       "      <th>sex</th>\n",
       "      <th>pre_movie_score</th>\n",
       "      <th>post_movie_score</th>\n",
       "    </tr>\n",
       "  </thead>\n",
       "  <tbody>\n",
       "    <tr>\n",
       "      <th>0</th>\n",
       "      <td>Tom</td>\n",
       "      <td>Hanks</td>\n",
       "      <td>63.0</td>\n",
       "      <td>m</td>\n",
       "      <td>8.0</td>\n",
       "      <td>10.0</td>\n",
       "    </tr>\n",
       "    <tr>\n",
       "      <th>3</th>\n",
       "      <td>Oprah</td>\n",
       "      <td>Winfrey</td>\n",
       "      <td>66.0</td>\n",
       "      <td>f</td>\n",
       "      <td>6.0</td>\n",
       "      <td>8.0</td>\n",
       "    </tr>\n",
       "    <tr>\n",
       "      <th>4</th>\n",
       "      <td>Emma</td>\n",
       "      <td>Stone</td>\n",
       "      <td>31.0</td>\n",
       "      <td>f</td>\n",
       "      <td>7.0</td>\n",
       "      <td>9.0</td>\n",
       "    </tr>\n",
       "  </tbody>\n",
       "</table>\n",
       "</div>"
      ],
      "text/plain": [
       "  first_name last_name   age sex  pre_movie_score  post_movie_score\n",
       "0        Tom     Hanks  63.0   m              8.0              10.0\n",
       "3      Oprah   Winfrey  66.0   f              6.0               8.0\n",
       "4       Emma     Stone  31.0   f              7.0               9.0"
      ]
     },
     "execution_count": 20,
     "metadata": {},
     "output_type": "execute_result"
    }
   ],
   "source": [
    "df_ms.dropna(axis = 0, how = \"any\") # axis=0 satir bazinda, how=any herhangi bir eksik deger varsa siler (default degerler)"
   ]
  },
  {
   "cell_type": "code",
   "execution_count": 21,
   "id": "88a18c45",
   "metadata": {},
   "outputs": [
    {
     "data": {
      "application/vnd.microsoft.datawrangler.viewer.v0+json": {
       "columns": [
        {
         "name": "index",
         "rawType": "int64",
         "type": "integer"
        },
        {
         "name": "first_name",
         "rawType": "object",
         "type": "string"
        },
        {
         "name": "last_name",
         "rawType": "object",
         "type": "string"
        },
        {
         "name": "age",
         "rawType": "float64",
         "type": "float"
        },
        {
         "name": "sex",
         "rawType": "object",
         "type": "string"
        },
        {
         "name": "pre_movie_score",
         "rawType": "float64",
         "type": "float"
        },
        {
         "name": "post_movie_score",
         "rawType": "float64",
         "type": "float"
        }
       ],
       "ref": "32b58ccf-898e-49b7-a755-79cda3665018",
       "rows": [
        [
         "0",
         "Tom",
         "Hanks",
         "63.0",
         "m",
         "8.0",
         "10.0"
        ],
        [
         "2",
         "Hugh",
         "Jackman",
         "51.0",
         "m",
         null,
         null
        ],
        [
         "3",
         "Oprah",
         "Winfrey",
         "66.0",
         "f",
         "6.0",
         "8.0"
        ],
        [
         "4",
         "Emma",
         "Stone",
         "31.0",
         "f",
         "7.0",
         "9.0"
        ]
       ],
       "shape": {
        "columns": 6,
        "rows": 4
       }
      },
      "text/html": [
       "<div>\n",
       "<style scoped>\n",
       "    .dataframe tbody tr th:only-of-type {\n",
       "        vertical-align: middle;\n",
       "    }\n",
       "\n",
       "    .dataframe tbody tr th {\n",
       "        vertical-align: top;\n",
       "    }\n",
       "\n",
       "    .dataframe thead th {\n",
       "        text-align: right;\n",
       "    }\n",
       "</style>\n",
       "<table border=\"1\" class=\"dataframe\">\n",
       "  <thead>\n",
       "    <tr style=\"text-align: right;\">\n",
       "      <th></th>\n",
       "      <th>first_name</th>\n",
       "      <th>last_name</th>\n",
       "      <th>age</th>\n",
       "      <th>sex</th>\n",
       "      <th>pre_movie_score</th>\n",
       "      <th>post_movie_score</th>\n",
       "    </tr>\n",
       "  </thead>\n",
       "  <tbody>\n",
       "    <tr>\n",
       "      <th>0</th>\n",
       "      <td>Tom</td>\n",
       "      <td>Hanks</td>\n",
       "      <td>63.0</td>\n",
       "      <td>m</td>\n",
       "      <td>8.0</td>\n",
       "      <td>10.0</td>\n",
       "    </tr>\n",
       "    <tr>\n",
       "      <th>2</th>\n",
       "      <td>Hugh</td>\n",
       "      <td>Jackman</td>\n",
       "      <td>51.0</td>\n",
       "      <td>m</td>\n",
       "      <td>NaN</td>\n",
       "      <td>NaN</td>\n",
       "    </tr>\n",
       "    <tr>\n",
       "      <th>3</th>\n",
       "      <td>Oprah</td>\n",
       "      <td>Winfrey</td>\n",
       "      <td>66.0</td>\n",
       "      <td>f</td>\n",
       "      <td>6.0</td>\n",
       "      <td>8.0</td>\n",
       "    </tr>\n",
       "    <tr>\n",
       "      <th>4</th>\n",
       "      <td>Emma</td>\n",
       "      <td>Stone</td>\n",
       "      <td>31.0</td>\n",
       "      <td>f</td>\n",
       "      <td>7.0</td>\n",
       "      <td>9.0</td>\n",
       "    </tr>\n",
       "  </tbody>\n",
       "</table>\n",
       "</div>"
      ],
      "text/plain": [
       "  first_name last_name   age sex  pre_movie_score  post_movie_score\n",
       "0        Tom     Hanks  63.0   m              8.0              10.0\n",
       "2       Hugh   Jackman  51.0   m              NaN               NaN\n",
       "3      Oprah   Winfrey  66.0   f              6.0               8.0\n",
       "4       Emma     Stone  31.0   f              7.0               9.0"
      ]
     },
     "execution_count": 21,
     "metadata": {},
     "output_type": "execute_result"
    }
   ],
   "source": [
    "df_ms.dropna(how = \"all\") # tum degerleri eksik olan satirlari siler\n",
    "# genellikle daha mantikli"
   ]
  },
  {
   "cell_type": "code",
   "execution_count": 22,
   "id": "50cee681",
   "metadata": {},
   "outputs": [
    {
     "data": {
      "application/vnd.microsoft.datawrangler.viewer.v0+json": {
       "columns": [
        {
         "name": "index",
         "rawType": "int64",
         "type": "integer"
        },
        {
         "name": "first_name",
         "rawType": "object",
         "type": "string"
        },
        {
         "name": "last_name",
         "rawType": "object",
         "type": "string"
        },
        {
         "name": "age",
         "rawType": "float64",
         "type": "float"
        },
        {
         "name": "sex",
         "rawType": "object",
         "type": "string"
        },
        {
         "name": "pre_movie_score",
         "rawType": "float64",
         "type": "float"
        },
        {
         "name": "post_movie_score",
         "rawType": "float64",
         "type": "float"
        }
       ],
       "ref": "9f336bf7-ce59-4edc-bf73-aecec2d4fdfb",
       "rows": [
        [
         "0",
         "Tom",
         "Hanks",
         "63.0",
         "m",
         "8.0",
         "10.0"
        ],
        [
         "2",
         "Hugh",
         "Jackman",
         "51.0",
         "m",
         null,
         null
        ],
        [
         "3",
         "Oprah",
         "Winfrey",
         "66.0",
         "f",
         "6.0",
         "8.0"
        ],
        [
         "4",
         "Emma",
         "Stone",
         "31.0",
         "f",
         "7.0",
         "9.0"
        ]
       ],
       "shape": {
        "columns": 6,
        "rows": 4
       }
      },
      "text/html": [
       "<div>\n",
       "<style scoped>\n",
       "    .dataframe tbody tr th:only-of-type {\n",
       "        vertical-align: middle;\n",
       "    }\n",
       "\n",
       "    .dataframe tbody tr th {\n",
       "        vertical-align: top;\n",
       "    }\n",
       "\n",
       "    .dataframe thead th {\n",
       "        text-align: right;\n",
       "    }\n",
       "</style>\n",
       "<table border=\"1\" class=\"dataframe\">\n",
       "  <thead>\n",
       "    <tr style=\"text-align: right;\">\n",
       "      <th></th>\n",
       "      <th>first_name</th>\n",
       "      <th>last_name</th>\n",
       "      <th>age</th>\n",
       "      <th>sex</th>\n",
       "      <th>pre_movie_score</th>\n",
       "      <th>post_movie_score</th>\n",
       "    </tr>\n",
       "  </thead>\n",
       "  <tbody>\n",
       "    <tr>\n",
       "      <th>0</th>\n",
       "      <td>Tom</td>\n",
       "      <td>Hanks</td>\n",
       "      <td>63.0</td>\n",
       "      <td>m</td>\n",
       "      <td>8.0</td>\n",
       "      <td>10.0</td>\n",
       "    </tr>\n",
       "    <tr>\n",
       "      <th>2</th>\n",
       "      <td>Hugh</td>\n",
       "      <td>Jackman</td>\n",
       "      <td>51.0</td>\n",
       "      <td>m</td>\n",
       "      <td>NaN</td>\n",
       "      <td>NaN</td>\n",
       "    </tr>\n",
       "    <tr>\n",
       "      <th>3</th>\n",
       "      <td>Oprah</td>\n",
       "      <td>Winfrey</td>\n",
       "      <td>66.0</td>\n",
       "      <td>f</td>\n",
       "      <td>6.0</td>\n",
       "      <td>8.0</td>\n",
       "    </tr>\n",
       "    <tr>\n",
       "      <th>4</th>\n",
       "      <td>Emma</td>\n",
       "      <td>Stone</td>\n",
       "      <td>31.0</td>\n",
       "      <td>f</td>\n",
       "      <td>7.0</td>\n",
       "      <td>9.0</td>\n",
       "    </tr>\n",
       "  </tbody>\n",
       "</table>\n",
       "</div>"
      ],
      "text/plain": [
       "  first_name last_name   age sex  pre_movie_score  post_movie_score\n",
       "0        Tom     Hanks  63.0   m              8.0              10.0\n",
       "2       Hugh   Jackman  51.0   m              NaN               NaN\n",
       "3      Oprah   Winfrey  66.0   f              6.0               8.0\n",
       "4       Emma     Stone  31.0   f              7.0               9.0"
      ]
     },
     "execution_count": 22,
     "metadata": {},
     "output_type": "execute_result"
    }
   ],
   "source": [
    "df_ms.dropna(thresh = 4) # satirda en az 4 adet dolu deger varsa satiri tutar"
   ]
  },
  {
   "cell_type": "code",
   "execution_count": 23,
   "id": "2598dbfd",
   "metadata": {},
   "outputs": [
    {
     "data": {
      "application/vnd.microsoft.datawrangler.viewer.v0+json": {
       "columns": [
        {
         "name": "index",
         "rawType": "int64",
         "type": "integer"
        },
        {
         "name": "first_name",
         "rawType": "object",
         "type": "string"
        },
        {
         "name": "last_name",
         "rawType": "object",
         "type": "string"
        },
        {
         "name": "age",
         "rawType": "float64",
         "type": "float"
        },
        {
         "name": "sex",
         "rawType": "object",
         "type": "string"
        },
        {
         "name": "pre_movie_score",
         "rawType": "float64",
         "type": "float"
        },
        {
         "name": "post_movie_score",
         "rawType": "float64",
         "type": "float"
        }
       ],
       "ref": "836d66bd-e4fb-4302-90af-4125c4b3f365",
       "rows": [
        [
         "0",
         "Tom",
         "Hanks",
         "63.0",
         "m",
         "8.0",
         "10.0"
        ],
        [
         "3",
         "Oprah",
         "Winfrey",
         "66.0",
         "f",
         "6.0",
         "8.0"
        ],
        [
         "4",
         "Emma",
         "Stone",
         "31.0",
         "f",
         "7.0",
         "9.0"
        ]
       ],
       "shape": {
        "columns": 6,
        "rows": 3
       }
      },
      "text/html": [
       "<div>\n",
       "<style scoped>\n",
       "    .dataframe tbody tr th:only-of-type {\n",
       "        vertical-align: middle;\n",
       "    }\n",
       "\n",
       "    .dataframe tbody tr th {\n",
       "        vertical-align: top;\n",
       "    }\n",
       "\n",
       "    .dataframe thead th {\n",
       "        text-align: right;\n",
       "    }\n",
       "</style>\n",
       "<table border=\"1\" class=\"dataframe\">\n",
       "  <thead>\n",
       "    <tr style=\"text-align: right;\">\n",
       "      <th></th>\n",
       "      <th>first_name</th>\n",
       "      <th>last_name</th>\n",
       "      <th>age</th>\n",
       "      <th>sex</th>\n",
       "      <th>pre_movie_score</th>\n",
       "      <th>post_movie_score</th>\n",
       "    </tr>\n",
       "  </thead>\n",
       "  <tbody>\n",
       "    <tr>\n",
       "      <th>0</th>\n",
       "      <td>Tom</td>\n",
       "      <td>Hanks</td>\n",
       "      <td>63.0</td>\n",
       "      <td>m</td>\n",
       "      <td>8.0</td>\n",
       "      <td>10.0</td>\n",
       "    </tr>\n",
       "    <tr>\n",
       "      <th>3</th>\n",
       "      <td>Oprah</td>\n",
       "      <td>Winfrey</td>\n",
       "      <td>66.0</td>\n",
       "      <td>f</td>\n",
       "      <td>6.0</td>\n",
       "      <td>8.0</td>\n",
       "    </tr>\n",
       "    <tr>\n",
       "      <th>4</th>\n",
       "      <td>Emma</td>\n",
       "      <td>Stone</td>\n",
       "      <td>31.0</td>\n",
       "      <td>f</td>\n",
       "      <td>7.0</td>\n",
       "      <td>9.0</td>\n",
       "    </tr>\n",
       "  </tbody>\n",
       "</table>\n",
       "</div>"
      ],
      "text/plain": [
       "  first_name last_name   age sex  pre_movie_score  post_movie_score\n",
       "0        Tom     Hanks  63.0   m              8.0              10.0\n",
       "3      Oprah   Winfrey  66.0   f              6.0               8.0\n",
       "4       Emma     Stone  31.0   f              7.0               9.0"
      ]
     },
     "execution_count": 23,
     "metadata": {},
     "output_type": "execute_result"
    }
   ],
   "source": [
    "df_ms.dropna(thresh = 5) # satirda en az 5 tane dolu deger varsa satiri tutar"
   ]
  },
  {
   "cell_type": "code",
   "execution_count": 24,
   "id": "8724e604",
   "metadata": {},
   "outputs": [
    {
     "data": {
      "application/vnd.microsoft.datawrangler.viewer.v0+json": {
       "columns": [
        {
         "name": "index",
         "rawType": "int64",
         "type": "integer"
        }
       ],
       "ref": "c00ea876-774e-4acf-b0bf-caa6fdac8248",
       "rows": [
        [
         "0"
        ],
        [
         "1"
        ],
        [
         "2"
        ],
        [
         "3"
        ],
        [
         "4"
        ]
       ],
       "shape": {
        "columns": 0,
        "rows": 5
       }
      },
      "text/html": [
       "<div>\n",
       "<style scoped>\n",
       "    .dataframe tbody tr th:only-of-type {\n",
       "        vertical-align: middle;\n",
       "    }\n",
       "\n",
       "    .dataframe tbody tr th {\n",
       "        vertical-align: top;\n",
       "    }\n",
       "\n",
       "    .dataframe thead th {\n",
       "        text-align: right;\n",
       "    }\n",
       "</style>\n",
       "<table border=\"1\" class=\"dataframe\">\n",
       "  <thead>\n",
       "    <tr style=\"text-align: right;\">\n",
       "      <th></th>\n",
       "    </tr>\n",
       "  </thead>\n",
       "  <tbody>\n",
       "    <tr>\n",
       "      <th>0</th>\n",
       "    </tr>\n",
       "    <tr>\n",
       "      <th>1</th>\n",
       "    </tr>\n",
       "    <tr>\n",
       "      <th>2</th>\n",
       "    </tr>\n",
       "    <tr>\n",
       "      <th>3</th>\n",
       "    </tr>\n",
       "    <tr>\n",
       "      <th>4</th>\n",
       "    </tr>\n",
       "  </tbody>\n",
       "</table>\n",
       "</div>"
      ],
      "text/plain": [
       "Empty DataFrame\n",
       "Columns: []\n",
       "Index: [0, 1, 2, 3, 4]"
      ]
     },
     "execution_count": 24,
     "metadata": {},
     "output_type": "execute_result"
    }
   ],
   "source": [
    "df_ms.dropna(axis = 1) # 1 tane bile eksik deger iceren tum sutunlari siler\n",
    "# tum satirlarda en az birer eksik veri oldugundan tum verileri siler"
   ]
  },
  {
   "cell_type": "code",
   "execution_count": 25,
   "id": "03193afb",
   "metadata": {},
   "outputs": [
    {
     "data": {
      "application/vnd.microsoft.datawrangler.viewer.v0+json": {
       "columns": [
        {
         "name": "index",
         "rawType": "int64",
         "type": "integer"
        },
        {
         "name": "first_name",
         "rawType": "object",
         "type": "unknown"
        },
        {
         "name": "last_name",
         "rawType": "object",
         "type": "unknown"
        },
        {
         "name": "age",
         "rawType": "float64",
         "type": "float"
        },
        {
         "name": "sex",
         "rawType": "object",
         "type": "unknown"
        }
       ],
       "ref": "11a464b7-d498-4b37-b45a-3d5be8dee77e",
       "rows": [
        [
         "0",
         "Tom",
         "Hanks",
         "63.0",
         "m"
        ],
        [
         "1",
         null,
         null,
         null,
         null
        ],
        [
         "2",
         "Hugh",
         "Jackman",
         "51.0",
         "m"
        ],
        [
         "3",
         "Oprah",
         "Winfrey",
         "66.0",
         "f"
        ],
        [
         "4",
         "Emma",
         "Stone",
         "31.0",
         "f"
        ]
       ],
       "shape": {
        "columns": 4,
        "rows": 5
       }
      },
      "text/html": [
       "<div>\n",
       "<style scoped>\n",
       "    .dataframe tbody tr th:only-of-type {\n",
       "        vertical-align: middle;\n",
       "    }\n",
       "\n",
       "    .dataframe tbody tr th {\n",
       "        vertical-align: top;\n",
       "    }\n",
       "\n",
       "    .dataframe thead th {\n",
       "        text-align: right;\n",
       "    }\n",
       "</style>\n",
       "<table border=\"1\" class=\"dataframe\">\n",
       "  <thead>\n",
       "    <tr style=\"text-align: right;\">\n",
       "      <th></th>\n",
       "      <th>first_name</th>\n",
       "      <th>last_name</th>\n",
       "      <th>age</th>\n",
       "      <th>sex</th>\n",
       "    </tr>\n",
       "  </thead>\n",
       "  <tbody>\n",
       "    <tr>\n",
       "      <th>0</th>\n",
       "      <td>Tom</td>\n",
       "      <td>Hanks</td>\n",
       "      <td>63.0</td>\n",
       "      <td>m</td>\n",
       "    </tr>\n",
       "    <tr>\n",
       "      <th>1</th>\n",
       "      <td>NaN</td>\n",
       "      <td>NaN</td>\n",
       "      <td>NaN</td>\n",
       "      <td>NaN</td>\n",
       "    </tr>\n",
       "    <tr>\n",
       "      <th>2</th>\n",
       "      <td>Hugh</td>\n",
       "      <td>Jackman</td>\n",
       "      <td>51.0</td>\n",
       "      <td>m</td>\n",
       "    </tr>\n",
       "    <tr>\n",
       "      <th>3</th>\n",
       "      <td>Oprah</td>\n",
       "      <td>Winfrey</td>\n",
       "      <td>66.0</td>\n",
       "      <td>f</td>\n",
       "    </tr>\n",
       "    <tr>\n",
       "      <th>4</th>\n",
       "      <td>Emma</td>\n",
       "      <td>Stone</td>\n",
       "      <td>31.0</td>\n",
       "      <td>f</td>\n",
       "    </tr>\n",
       "  </tbody>\n",
       "</table>\n",
       "</div>"
      ],
      "text/plain": [
       "  first_name last_name   age  sex\n",
       "0        Tom     Hanks  63.0    m\n",
       "1        NaN       NaN   NaN  NaN\n",
       "2       Hugh   Jackman  51.0    m\n",
       "3      Oprah   Winfrey  66.0    f\n",
       "4       Emma     Stone  31.0    f"
      ]
     },
     "execution_count": 25,
     "metadata": {},
     "output_type": "execute_result"
    }
   ],
   "source": [
    "df_ms.dropna(axis = 1, thresh = 4) # en az 4 tane dolu deger iceren sutunlari tutar\n",
    "# genellikle sutun dusurme olayi tercih edilmez cunku veri kaybi olur"
   ]
  },
  {
   "cell_type": "code",
   "execution_count": 26,
   "id": "4de90b4f",
   "metadata": {},
   "outputs": [
    {
     "data": {
      "application/vnd.microsoft.datawrangler.viewer.v0+json": {
       "columns": [
        {
         "name": "index",
         "rawType": "int64",
         "type": "integer"
        },
        {
         "name": "first_name",
         "rawType": "object",
         "type": "string"
        },
        {
         "name": "last_name",
         "rawType": "object",
         "type": "string"
        },
        {
         "name": "age",
         "rawType": "float64",
         "type": "float"
        },
        {
         "name": "sex",
         "rawType": "object",
         "type": "string"
        },
        {
         "name": "pre_movie_score",
         "rawType": "float64",
         "type": "float"
        },
        {
         "name": "post_movie_score",
         "rawType": "float64",
         "type": "float"
        }
       ],
       "ref": "abffcbec-97e5-4660-aefb-871ec80bae85",
       "rows": [
        [
         "0",
         "Tom",
         "Hanks",
         "63.0",
         "m",
         "8.0",
         "10.0"
        ],
        [
         "2",
         "Hugh",
         "Jackman",
         "51.0",
         "m",
         null,
         null
        ],
        [
         "3",
         "Oprah",
         "Winfrey",
         "66.0",
         "f",
         "6.0",
         "8.0"
        ],
        [
         "4",
         "Emma",
         "Stone",
         "31.0",
         "f",
         "7.0",
         "9.0"
        ]
       ],
       "shape": {
        "columns": 6,
        "rows": 4
       }
      },
      "text/html": [
       "<div>\n",
       "<style scoped>\n",
       "    .dataframe tbody tr th:only-of-type {\n",
       "        vertical-align: middle;\n",
       "    }\n",
       "\n",
       "    .dataframe tbody tr th {\n",
       "        vertical-align: top;\n",
       "    }\n",
       "\n",
       "    .dataframe thead th {\n",
       "        text-align: right;\n",
       "    }\n",
       "</style>\n",
       "<table border=\"1\" class=\"dataframe\">\n",
       "  <thead>\n",
       "    <tr style=\"text-align: right;\">\n",
       "      <th></th>\n",
       "      <th>first_name</th>\n",
       "      <th>last_name</th>\n",
       "      <th>age</th>\n",
       "      <th>sex</th>\n",
       "      <th>pre_movie_score</th>\n",
       "      <th>post_movie_score</th>\n",
       "    </tr>\n",
       "  </thead>\n",
       "  <tbody>\n",
       "    <tr>\n",
       "      <th>0</th>\n",
       "      <td>Tom</td>\n",
       "      <td>Hanks</td>\n",
       "      <td>63.0</td>\n",
       "      <td>m</td>\n",
       "      <td>8.0</td>\n",
       "      <td>10.0</td>\n",
       "    </tr>\n",
       "    <tr>\n",
       "      <th>2</th>\n",
       "      <td>Hugh</td>\n",
       "      <td>Jackman</td>\n",
       "      <td>51.0</td>\n",
       "      <td>m</td>\n",
       "      <td>NaN</td>\n",
       "      <td>NaN</td>\n",
       "    </tr>\n",
       "    <tr>\n",
       "      <th>3</th>\n",
       "      <td>Oprah</td>\n",
       "      <td>Winfrey</td>\n",
       "      <td>66.0</td>\n",
       "      <td>f</td>\n",
       "      <td>6.0</td>\n",
       "      <td>8.0</td>\n",
       "    </tr>\n",
       "    <tr>\n",
       "      <th>4</th>\n",
       "      <td>Emma</td>\n",
       "      <td>Stone</td>\n",
       "      <td>31.0</td>\n",
       "      <td>f</td>\n",
       "      <td>7.0</td>\n",
       "      <td>9.0</td>\n",
       "    </tr>\n",
       "  </tbody>\n",
       "</table>\n",
       "</div>"
      ],
      "text/plain": [
       "  first_name last_name   age sex  pre_movie_score  post_movie_score\n",
       "0        Tom     Hanks  63.0   m              8.0              10.0\n",
       "2       Hugh   Jackman  51.0   m              NaN               NaN\n",
       "3      Oprah   Winfrey  66.0   f              6.0               8.0\n",
       "4       Emma     Stone  31.0   f              7.0               9.0"
      ]
     },
     "execution_count": 26,
     "metadata": {},
     "output_type": "execute_result"
    }
   ],
   "source": [
    "# 3. Yol - Doldurmak\n",
    "df_ms.dropna(how = \"all\", inplace = True) # once tum degerleri eksik olan satirlari sileriz\n",
    "df_ms"
   ]
  },
  {
   "cell_type": "code",
   "execution_count": 27,
   "id": "4845466f",
   "metadata": {},
   "outputs": [
    {
     "data": {
      "application/vnd.microsoft.datawrangler.viewer.v0+json": {
       "columns": [
        {
         "name": "index",
         "rawType": "int64",
         "type": "integer"
        },
        {
         "name": "pre_movie_score",
         "rawType": "float64",
         "type": "float"
        }
       ],
       "ref": "1d1a1524-73d3-482f-9bc2-92cebc272fc3",
       "rows": [
        [
         "0",
         "8.0"
        ],
        [
         "2",
         "9.5"
        ],
        [
         "3",
         "6.0"
        ],
        [
         "4",
         "7.0"
        ]
       ],
       "shape": {
        "columns": 1,
        "rows": 4
       }
      },
      "text/plain": [
       "0    8.0\n",
       "2    9.5\n",
       "3    6.0\n",
       "4    7.0\n",
       "Name: pre_movie_score, dtype: float64"
      ]
     },
     "execution_count": 27,
     "metadata": {},
     "output_type": "execute_result"
    }
   ],
   "source": [
    "df_ms[\"pre_movie_score\"].fillna(9.5) # pre_movie_score sutunundaki eksik degerleri 9.5 ile doldurur"
   ]
  },
  {
   "cell_type": "code",
   "execution_count": 28,
   "id": "3d959a34",
   "metadata": {},
   "outputs": [
    {
     "data": {
      "application/vnd.microsoft.datawrangler.viewer.v0+json": {
       "columns": [
        {
         "name": "index",
         "rawType": "int64",
         "type": "integer"
        },
        {
         "name": "pre_movie_score",
         "rawType": "float64",
         "type": "float"
        }
       ],
       "ref": "35485f25-44fa-4af5-8110-128a6f6d961d",
       "rows": [
        [
         "0",
         "8.0"
        ],
        [
         "2",
         "7.0"
        ],
        [
         "3",
         "6.0"
        ],
        [
         "4",
         "7.0"
        ]
       ],
       "shape": {
        "columns": 1,
        "rows": 4
       }
      },
      "text/plain": [
       "0    8.0\n",
       "2    7.0\n",
       "3    6.0\n",
       "4    7.0\n",
       "Name: pre_movie_score, dtype: float64"
      ]
     },
     "execution_count": 28,
     "metadata": {},
     "output_type": "execute_result"
    }
   ],
   "source": [
    "df_ms[\"pre_movie_score\"].fillna(df_ms.pre_movie_score.mean()) # pre_movie_score sutunundaki eksik degerleri sutunun ortalamasi ile doldurur"
   ]
  },
  {
   "cell_type": "code",
   "execution_count": 31,
   "id": "99eb93e5",
   "metadata": {},
   "outputs": [
    {
     "data": {
      "application/vnd.microsoft.datawrangler.viewer.v0+json": {
       "columns": [
        {
         "name": "index",
         "rawType": "int64",
         "type": "integer"
        },
        {
         "name": "mpg",
         "rawType": "float64",
         "type": "float"
        },
        {
         "name": "cylinders",
         "rawType": "int64",
         "type": "integer"
        },
        {
         "name": "displacement",
         "rawType": "float64",
         "type": "float"
        },
        {
         "name": "horsepower",
         "rawType": "object",
         "type": "string"
        },
        {
         "name": "weight",
         "rawType": "int64",
         "type": "integer"
        },
        {
         "name": "acceleration",
         "rawType": "float64",
         "type": "float"
        },
        {
         "name": "model_year",
         "rawType": "int64",
         "type": "integer"
        },
        {
         "name": "origin",
         "rawType": "int64",
         "type": "integer"
        },
        {
         "name": "name",
         "rawType": "object",
         "type": "string"
        }
       ],
       "ref": "cf0c7d4a-dd47-4021-abb2-767c4b16f609",
       "rows": [
        [
         "0",
         "18.0",
         "8",
         "307.0",
         "130",
         "3504",
         "12.0",
         "70",
         "1",
         "chevrolet chevelle malibu"
        ],
        [
         "1",
         "15.0",
         "8",
         "350.0",
         "165",
         "3693",
         "11.5",
         "70",
         "1",
         "buick skylark 320"
        ],
        [
         "2",
         "18.0",
         "8",
         "318.0",
         "150",
         "3436",
         "11.0",
         "70",
         "1",
         "plymouth satellite"
        ],
        [
         "3",
         "16.0",
         "8",
         "304.0",
         "150",
         "3433",
         "12.0",
         "70",
         "1",
         "amc rebel sst"
        ],
        [
         "4",
         "17.0",
         "8",
         "302.0",
         "140",
         "3449",
         "10.5",
         "70",
         "1",
         "ford torino"
        ]
       ],
       "shape": {
        "columns": 9,
        "rows": 5
       }
      },
      "text/html": [
       "<div>\n",
       "<style scoped>\n",
       "    .dataframe tbody tr th:only-of-type {\n",
       "        vertical-align: middle;\n",
       "    }\n",
       "\n",
       "    .dataframe tbody tr th {\n",
       "        vertical-align: top;\n",
       "    }\n",
       "\n",
       "    .dataframe thead th {\n",
       "        text-align: right;\n",
       "    }\n",
       "</style>\n",
       "<table border=\"1\" class=\"dataframe\">\n",
       "  <thead>\n",
       "    <tr style=\"text-align: right;\">\n",
       "      <th></th>\n",
       "      <th>mpg</th>\n",
       "      <th>cylinders</th>\n",
       "      <th>displacement</th>\n",
       "      <th>horsepower</th>\n",
       "      <th>weight</th>\n",
       "      <th>acceleration</th>\n",
       "      <th>model_year</th>\n",
       "      <th>origin</th>\n",
       "      <th>name</th>\n",
       "    </tr>\n",
       "  </thead>\n",
       "  <tbody>\n",
       "    <tr>\n",
       "      <th>0</th>\n",
       "      <td>18.0</td>\n",
       "      <td>8</td>\n",
       "      <td>307.0</td>\n",
       "      <td>130</td>\n",
       "      <td>3504</td>\n",
       "      <td>12.0</td>\n",
       "      <td>70</td>\n",
       "      <td>1</td>\n",
       "      <td>chevrolet chevelle malibu</td>\n",
       "    </tr>\n",
       "    <tr>\n",
       "      <th>1</th>\n",
       "      <td>15.0</td>\n",
       "      <td>8</td>\n",
       "      <td>350.0</td>\n",
       "      <td>165</td>\n",
       "      <td>3693</td>\n",
       "      <td>11.5</td>\n",
       "      <td>70</td>\n",
       "      <td>1</td>\n",
       "      <td>buick skylark 320</td>\n",
       "    </tr>\n",
       "    <tr>\n",
       "      <th>2</th>\n",
       "      <td>18.0</td>\n",
       "      <td>8</td>\n",
       "      <td>318.0</td>\n",
       "      <td>150</td>\n",
       "      <td>3436</td>\n",
       "      <td>11.0</td>\n",
       "      <td>70</td>\n",
       "      <td>1</td>\n",
       "      <td>plymouth satellite</td>\n",
       "    </tr>\n",
       "    <tr>\n",
       "      <th>3</th>\n",
       "      <td>16.0</td>\n",
       "      <td>8</td>\n",
       "      <td>304.0</td>\n",
       "      <td>150</td>\n",
       "      <td>3433</td>\n",
       "      <td>12.0</td>\n",
       "      <td>70</td>\n",
       "      <td>1</td>\n",
       "      <td>amc rebel sst</td>\n",
       "    </tr>\n",
       "    <tr>\n",
       "      <th>4</th>\n",
       "      <td>17.0</td>\n",
       "      <td>8</td>\n",
       "      <td>302.0</td>\n",
       "      <td>140</td>\n",
       "      <td>3449</td>\n",
       "      <td>10.5</td>\n",
       "      <td>70</td>\n",
       "      <td>1</td>\n",
       "      <td>ford torino</td>\n",
       "    </tr>\n",
       "  </tbody>\n",
       "</table>\n",
       "</div>"
      ],
      "text/plain": [
       "    mpg  cylinders  displacement horsepower  weight  acceleration  model_year  \\\n",
       "0  18.0          8         307.0        130    3504          12.0          70   \n",
       "1  15.0          8         350.0        165    3693          11.5          70   \n",
       "2  18.0          8         318.0        150    3436          11.0          70   \n",
       "3  16.0          8         304.0        150    3433          12.0          70   \n",
       "4  17.0          8         302.0        140    3449          10.5          70   \n",
       "\n",
       "   origin                       name  \n",
       "0       1  chevrolet chevelle malibu  \n",
       "1       1          buick skylark 320  \n",
       "2       1         plymouth satellite  \n",
       "3       1              amc rebel sst  \n",
       "4       1                ford torino  "
      ]
     },
     "execution_count": 31,
     "metadata": {},
     "output_type": "execute_result"
    }
   ],
   "source": [
    "df_mpg = pd.read_csv(\"mpg.csv\")\n",
    "df_mpg.head()"
   ]
  },
  {
   "cell_type": "code",
   "execution_count": 32,
   "id": "b5909adc",
   "metadata": {},
   "outputs": [
    {
     "data": {
      "text/plain": [
       "(398, 9)"
      ]
     },
     "execution_count": 32,
     "metadata": {},
     "output_type": "execute_result"
    }
   ],
   "source": [
    "df_mpg.shape"
   ]
  },
  {
   "cell_type": "code",
   "execution_count": 33,
   "id": "f81d3c24",
   "metadata": {},
   "outputs": [
    {
     "name": "stdout",
     "output_type": "stream",
     "text": [
      "<class 'pandas.core.frame.DataFrame'>\n",
      "RangeIndex: 398 entries, 0 to 397\n",
      "Data columns (total 9 columns):\n",
      " #   Column        Non-Null Count  Dtype  \n",
      "---  ------        --------------  -----  \n",
      " 0   mpg           398 non-null    float64\n",
      " 1   cylinders     398 non-null    int64  \n",
      " 2   displacement  398 non-null    float64\n",
      " 3   horsepower    398 non-null    object \n",
      " 4   weight        398 non-null    int64  \n",
      " 5   acceleration  398 non-null    float64\n",
      " 6   model_year    398 non-null    int64  \n",
      " 7   origin        398 non-null    int64  \n",
      " 8   name          398 non-null    object \n",
      "dtypes: float64(3), int64(4), object(2)\n",
      "memory usage: 28.1+ KB\n"
     ]
    }
   ],
   "source": [
    "df_mpg.info()"
   ]
  },
  {
   "cell_type": "code",
   "execution_count": 34,
   "id": "c8fbe002",
   "metadata": {},
   "outputs": [
    {
     "data": {
      "application/vnd.microsoft.datawrangler.viewer.v0+json": {
       "columns": [
        {
         "name": "horsepower",
         "rawType": "object",
         "type": "string"
        },
        {
         "name": "count",
         "rawType": "int64",
         "type": "integer"
        }
       ],
       "ref": "6581e6f6-1e6a-4980-b8c5-f58b861037f1",
       "rows": [
        [
         "150",
         "22"
        ],
        [
         "90",
         "20"
        ],
        [
         "88",
         "19"
        ],
        [
         "110",
         "18"
        ],
        [
         "100",
         "17"
        ],
        [
         "95",
         "14"
        ],
        [
         "75",
         "14"
        ],
        [
         "105",
         "12"
        ],
        [
         "70",
         "12"
        ],
        [
         "67",
         "12"
        ],
        [
         "65",
         "10"
        ],
        [
         "97",
         "9"
        ],
        [
         "85",
         "9"
        ],
        [
         "140",
         "7"
        ],
        [
         "145",
         "7"
        ],
        [
         "80",
         "7"
        ],
        [
         "78",
         "6"
        ],
        [
         "92",
         "6"
        ],
        [
         "?",
         "6"
        ],
        [
         "72",
         "6"
        ],
        [
         "68",
         "6"
        ],
        [
         "84",
         "6"
        ],
        [
         "180",
         "5"
        ],
        [
         "175",
         "5"
        ],
        [
         "115",
         "5"
        ],
        [
         "71",
         "5"
        ],
        [
         "86",
         "5"
        ],
        [
         "60",
         "5"
        ],
        [
         "170",
         "5"
        ],
        [
         "130",
         "5"
        ],
        [
         "76",
         "4"
        ],
        [
         "120",
         "4"
        ],
        [
         "83",
         "4"
        ],
        [
         "52",
         "4"
        ],
        [
         "165",
         "4"
        ],
        [
         "63",
         "3"
        ],
        [
         "48",
         "3"
        ],
        [
         "125",
         "3"
        ],
        [
         "69",
         "3"
        ],
        [
         "112",
         "3"
        ],
        [
         "215",
         "3"
        ],
        [
         "225",
         "3"
        ],
        [
         "190",
         "3"
        ],
        [
         "74",
         "3"
        ],
        [
         "96",
         "3"
        ],
        [
         "198",
         "2"
        ],
        [
         "53",
         "2"
        ],
        [
         "98",
         "2"
        ],
        [
         "79",
         "2"
        ],
        [
         "155",
         "2"
        ]
       ],
       "shape": {
        "columns": 1,
        "rows": 94
       }
      },
      "text/plain": [
       "horsepower\n",
       "150    22\n",
       "90     20\n",
       "88     19\n",
       "110    18\n",
       "100    17\n",
       "       ..\n",
       "77      1\n",
       "132     1\n",
       "64      1\n",
       "116     1\n",
       "82      1\n",
       "Name: count, Length: 94, dtype: int64"
      ]
     },
     "execution_count": 34,
     "metadata": {},
     "output_type": "execute_result"
    }
   ],
   "source": [
    "df_mpg.horsepower.value_counts()"
   ]
  },
  {
   "cell_type": "code",
   "execution_count": 37,
   "id": "93a1edfb",
   "metadata": {},
   "outputs": [
    {
     "data": {
      "application/vnd.microsoft.datawrangler.viewer.v0+json": {
       "columns": [
        {
         "name": "index",
         "rawType": "int64",
         "type": "integer"
        },
        {
         "name": "mpg",
         "rawType": "float64",
         "type": "float"
        },
        {
         "name": "cylinders",
         "rawType": "int64",
         "type": "integer"
        },
        {
         "name": "displacement",
         "rawType": "float64",
         "type": "float"
        },
        {
         "name": "horsepower",
         "rawType": "object",
         "type": "string"
        },
        {
         "name": "weight",
         "rawType": "int64",
         "type": "integer"
        },
        {
         "name": "acceleration",
         "rawType": "float64",
         "type": "float"
        },
        {
         "name": "model_year",
         "rawType": "int64",
         "type": "integer"
        },
        {
         "name": "origin",
         "rawType": "int64",
         "type": "integer"
        },
        {
         "name": "name",
         "rawType": "object",
         "type": "string"
        }
       ],
       "ref": "1a31089c-199b-491b-b20a-dd1e6e1db63c",
       "rows": [
        [
         "32",
         "25.0",
         "4",
         "98.0",
         "?",
         "2046",
         "19.0",
         "71",
         "1",
         "ford pinto"
        ],
        [
         "126",
         "21.0",
         "6",
         "200.0",
         "?",
         "2875",
         "17.0",
         "74",
         "1",
         "ford maverick"
        ],
        [
         "330",
         "40.9",
         "4",
         "85.0",
         "?",
         "1835",
         "17.3",
         "80",
         "2",
         "renault lecar deluxe"
        ],
        [
         "336",
         "23.6",
         "4",
         "140.0",
         "?",
         "2905",
         "14.3",
         "80",
         "1",
         "ford mustang cobra"
        ],
        [
         "354",
         "34.5",
         "4",
         "100.0",
         "?",
         "2320",
         "15.8",
         "81",
         "2",
         "renault 18i"
        ],
        [
         "374",
         "23.0",
         "4",
         "151.0",
         "?",
         "3035",
         "20.5",
         "82",
         "1",
         "amc concord dl"
        ]
       ],
       "shape": {
        "columns": 9,
        "rows": 6
       }
      },
      "text/html": [
       "<div>\n",
       "<style scoped>\n",
       "    .dataframe tbody tr th:only-of-type {\n",
       "        vertical-align: middle;\n",
       "    }\n",
       "\n",
       "    .dataframe tbody tr th {\n",
       "        vertical-align: top;\n",
       "    }\n",
       "\n",
       "    .dataframe thead th {\n",
       "        text-align: right;\n",
       "    }\n",
       "</style>\n",
       "<table border=\"1\" class=\"dataframe\">\n",
       "  <thead>\n",
       "    <tr style=\"text-align: right;\">\n",
       "      <th></th>\n",
       "      <th>mpg</th>\n",
       "      <th>cylinders</th>\n",
       "      <th>displacement</th>\n",
       "      <th>horsepower</th>\n",
       "      <th>weight</th>\n",
       "      <th>acceleration</th>\n",
       "      <th>model_year</th>\n",
       "      <th>origin</th>\n",
       "      <th>name</th>\n",
       "    </tr>\n",
       "  </thead>\n",
       "  <tbody>\n",
       "    <tr>\n",
       "      <th>32</th>\n",
       "      <td>25.0</td>\n",
       "      <td>4</td>\n",
       "      <td>98.0</td>\n",
       "      <td>?</td>\n",
       "      <td>2046</td>\n",
       "      <td>19.0</td>\n",
       "      <td>71</td>\n",
       "      <td>1</td>\n",
       "      <td>ford pinto</td>\n",
       "    </tr>\n",
       "    <tr>\n",
       "      <th>126</th>\n",
       "      <td>21.0</td>\n",
       "      <td>6</td>\n",
       "      <td>200.0</td>\n",
       "      <td>?</td>\n",
       "      <td>2875</td>\n",
       "      <td>17.0</td>\n",
       "      <td>74</td>\n",
       "      <td>1</td>\n",
       "      <td>ford maverick</td>\n",
       "    </tr>\n",
       "    <tr>\n",
       "      <th>330</th>\n",
       "      <td>40.9</td>\n",
       "      <td>4</td>\n",
       "      <td>85.0</td>\n",
       "      <td>?</td>\n",
       "      <td>1835</td>\n",
       "      <td>17.3</td>\n",
       "      <td>80</td>\n",
       "      <td>2</td>\n",
       "      <td>renault lecar deluxe</td>\n",
       "    </tr>\n",
       "    <tr>\n",
       "      <th>336</th>\n",
       "      <td>23.6</td>\n",
       "      <td>4</td>\n",
       "      <td>140.0</td>\n",
       "      <td>?</td>\n",
       "      <td>2905</td>\n",
       "      <td>14.3</td>\n",
       "      <td>80</td>\n",
       "      <td>1</td>\n",
       "      <td>ford mustang cobra</td>\n",
       "    </tr>\n",
       "    <tr>\n",
       "      <th>354</th>\n",
       "      <td>34.5</td>\n",
       "      <td>4</td>\n",
       "      <td>100.0</td>\n",
       "      <td>?</td>\n",
       "      <td>2320</td>\n",
       "      <td>15.8</td>\n",
       "      <td>81</td>\n",
       "      <td>2</td>\n",
       "      <td>renault 18i</td>\n",
       "    </tr>\n",
       "    <tr>\n",
       "      <th>374</th>\n",
       "      <td>23.0</td>\n",
       "      <td>4</td>\n",
       "      <td>151.0</td>\n",
       "      <td>?</td>\n",
       "      <td>3035</td>\n",
       "      <td>20.5</td>\n",
       "      <td>82</td>\n",
       "      <td>1</td>\n",
       "      <td>amc concord dl</td>\n",
       "    </tr>\n",
       "  </tbody>\n",
       "</table>\n",
       "</div>"
      ],
      "text/plain": [
       "      mpg  cylinders  displacement horsepower  weight  acceleration  \\\n",
       "32   25.0          4          98.0          ?    2046          19.0   \n",
       "126  21.0          6         200.0          ?    2875          17.0   \n",
       "330  40.9          4          85.0          ?    1835          17.3   \n",
       "336  23.6          4         140.0          ?    2905          14.3   \n",
       "354  34.5          4         100.0          ?    2320          15.8   \n",
       "374  23.0          4         151.0          ?    3035          20.5   \n",
       "\n",
       "     model_year  origin                  name  \n",
       "32           71       1            ford pinto  \n",
       "126          74       1         ford maverick  \n",
       "330          80       2  renault lecar deluxe  \n",
       "336          80       1    ford mustang cobra  \n",
       "354          81       2           renault 18i  \n",
       "374          82       1        amc concord dl  "
      ]
     },
     "execution_count": 37,
     "metadata": {},
     "output_type": "execute_result"
    }
   ],
   "source": [
    "df_mpg[df_mpg.horsepower == \"?\"]"
   ]
  },
  {
   "cell_type": "markdown",
   "id": "b434b38e",
   "metadata": {},
   "source": [
    "***horsepower sutununda sayisal degerden farkli degerler olduğu icin bu sutunu .astype() ile float tipine ceviremeyiz***"
   ]
  },
  {
   "cell_type": "markdown",
   "id": "56bc04fe",
   "metadata": {},
   "source": [
    "***bu yuzden \"?\" olan degerleri once \"nan\" yapip daha sonra .astype() ile float tipine cevirebiliriz***"
   ]
  },
  {
   "cell_type": "markdown",
   "id": "7a241520",
   "metadata": {},
   "source": [
    "***\"nan\" olan degerleri int tipine donusturemeyiz ama float tipine donusturebiliriz***"
   ]
  },
  {
   "cell_type": "markdown",
   "id": "8b9d8fc6",
   "metadata": {},
   "source": [
    "***eger inte cevirmek istiyorsak once .dropna() ile o sutunlari atip daha sonra .astype(int) ile int yapabiliriz***"
   ]
  },
  {
   "cell_type": "code",
   "execution_count": 44,
   "id": "dcefdb71",
   "metadata": {},
   "outputs": [],
   "source": [
    "df_mpg[\"horsepower\"].replace(\"?\", np.nan, inplace = True) # \"?\" olan degerleri np.nan ile degistirir"
   ]
  },
  {
   "cell_type": "code",
   "execution_count": 39,
   "id": "a2953123",
   "metadata": {},
   "outputs": [
    {
     "data": {
      "application/vnd.microsoft.datawrangler.viewer.v0+json": {
       "columns": [
        {
         "name": "index",
         "rawType": "int64",
         "type": "integer"
        },
        {
         "name": "horsepower",
         "rawType": "float64",
         "type": "float"
        }
       ],
       "ref": "ef281f57-ce2e-4412-9ed9-d478eb686030",
       "rows": [
        [
         "0",
         "130.0"
        ],
        [
         "1",
         "165.0"
        ],
        [
         "2",
         "150.0"
        ],
        [
         "3",
         "150.0"
        ],
        [
         "4",
         "140.0"
        ],
        [
         "5",
         "198.0"
        ],
        [
         "6",
         "220.0"
        ],
        [
         "7",
         "215.0"
        ],
        [
         "8",
         "225.0"
        ],
        [
         "9",
         "190.0"
        ],
        [
         "10",
         "170.0"
        ],
        [
         "11",
         "160.0"
        ],
        [
         "12",
         "150.0"
        ],
        [
         "13",
         "225.0"
        ],
        [
         "14",
         "95.0"
        ],
        [
         "15",
         "95.0"
        ],
        [
         "16",
         "97.0"
        ],
        [
         "17",
         "85.0"
        ],
        [
         "18",
         "88.0"
        ],
        [
         "19",
         "46.0"
        ],
        [
         "20",
         "87.0"
        ],
        [
         "21",
         "90.0"
        ],
        [
         "22",
         "95.0"
        ],
        [
         "23",
         "113.0"
        ],
        [
         "24",
         "90.0"
        ],
        [
         "25",
         "215.0"
        ],
        [
         "26",
         "200.0"
        ],
        [
         "27",
         "210.0"
        ],
        [
         "28",
         "193.0"
        ],
        [
         "29",
         "88.0"
        ],
        [
         "30",
         "90.0"
        ],
        [
         "31",
         "95.0"
        ],
        [
         "32",
         null
        ],
        [
         "33",
         "100.0"
        ],
        [
         "34",
         "105.0"
        ],
        [
         "35",
         "100.0"
        ],
        [
         "36",
         "88.0"
        ],
        [
         "37",
         "100.0"
        ],
        [
         "38",
         "165.0"
        ],
        [
         "39",
         "175.0"
        ],
        [
         "40",
         "153.0"
        ],
        [
         "41",
         "150.0"
        ],
        [
         "42",
         "180.0"
        ],
        [
         "43",
         "170.0"
        ],
        [
         "44",
         "175.0"
        ],
        [
         "45",
         "110.0"
        ],
        [
         "46",
         "72.0"
        ],
        [
         "47",
         "100.0"
        ],
        [
         "48",
         "88.0"
        ],
        [
         "49",
         "86.0"
        ]
       ],
       "shape": {
        "columns": 1,
        "rows": 398
       }
      },
      "text/plain": [
       "0      130.0\n",
       "1      165.0\n",
       "2      150.0\n",
       "3      150.0\n",
       "4      140.0\n",
       "       ...  \n",
       "393     86.0\n",
       "394     52.0\n",
       "395     84.0\n",
       "396     79.0\n",
       "397     82.0\n",
       "Name: horsepower, Length: 398, dtype: float64"
      ]
     },
     "execution_count": 39,
     "metadata": {},
     "output_type": "execute_result"
    }
   ],
   "source": [
    "df_mpg[\"horsepower\"].astype(float) # artik bu sutunu float tipine cevirebiliriz"
   ]
  },
  {
   "cell_type": "code",
   "execution_count": 45,
   "id": "117c0b3d",
   "metadata": {},
   "outputs": [
    {
     "name": "stdout",
     "output_type": "stream",
     "text": [
      "<class 'pandas.core.frame.DataFrame'>\n",
      "RangeIndex: 398 entries, 0 to 397\n",
      "Data columns (total 9 columns):\n",
      " #   Column        Non-Null Count  Dtype  \n",
      "---  ------        --------------  -----  \n",
      " 0   mpg           398 non-null    float64\n",
      " 1   cylinders     398 non-null    int64  \n",
      " 2   displacement  398 non-null    float64\n",
      " 3   horsepower    392 non-null    float64\n",
      " 4   weight        398 non-null    int64  \n",
      " 5   acceleration  398 non-null    float64\n",
      " 6   model_year    398 non-null    int64  \n",
      " 7   origin        398 non-null    int64  \n",
      " 8   name          398 non-null    object \n",
      "dtypes: float64(4), int64(4), object(1)\n",
      "memory usage: 28.1+ KB\n"
     ]
    }
   ],
   "source": [
    "df_mpg.info()"
   ]
  },
  {
   "cell_type": "code",
   "execution_count": 46,
   "id": "3325c081",
   "metadata": {},
   "outputs": [
    {
     "data": {
      "text/plain": [
       "array([70, 71, 72, 73, 74, 75, 76, 77, 78, 79, 80, 81, 82])"
      ]
     },
     "execution_count": 46,
     "metadata": {},
     "output_type": "execute_result"
    }
   ],
   "source": [
    "df_mpg.model_year.unique()"
   ]
  },
  {
   "cell_type": "code",
   "execution_count": 47,
   "id": "84a387f8",
   "metadata": {},
   "outputs": [
    {
     "data": {
      "application/vnd.microsoft.datawrangler.viewer.v0+json": {
       "columns": [
        {
         "name": "model_year",
         "rawType": "int64",
         "type": "integer"
        },
        {
         "name": "count",
         "rawType": "int64",
         "type": "integer"
        }
       ],
       "ref": "a4999b6b-c17d-491c-8995-5ac8e0b0fe18",
       "rows": [
        [
         "73",
         "40"
        ],
        [
         "78",
         "36"
        ],
        [
         "76",
         "34"
        ],
        [
         "82",
         "31"
        ],
        [
         "75",
         "30"
        ],
        [
         "80",
         "29"
        ],
        [
         "79",
         "29"
        ],
        [
         "81",
         "29"
        ],
        [
         "70",
         "29"
        ],
        [
         "71",
         "28"
        ],
        [
         "72",
         "28"
        ],
        [
         "77",
         "28"
        ],
        [
         "74",
         "27"
        ]
       ],
       "shape": {
        "columns": 1,
        "rows": 13
       }
      },
      "text/plain": [
       "model_year\n",
       "73    40\n",
       "78    36\n",
       "76    34\n",
       "82    31\n",
       "75    30\n",
       "80    29\n",
       "79    29\n",
       "81    29\n",
       "70    29\n",
       "71    28\n",
       "72    28\n",
       "77    28\n",
       "74    27\n",
       "Name: count, dtype: int64"
      ]
     },
     "execution_count": 47,
     "metadata": {},
     "output_type": "execute_result"
    }
   ],
   "source": [
    "df_mpg.model_year.value_counts()"
   ]
  },
  {
   "cell_type": "markdown",
   "id": "8a274f47",
   "metadata": {},
   "source": [
    "### .groupby() metodu"
   ]
  },
  {
   "cell_type": "code",
   "execution_count": null,
   "id": "aee4acd0",
   "metadata": {},
   "outputs": [],
   "source": [
    "# .groupby(sutun ismi) bu metod ile bir sutundaki degerlere gore gruplama yapabiliriz"
   ]
  },
  {
   "cell_type": "markdown",
   "id": "d5ee4894",
   "metadata": {},
   "source": [
    "Common Options:\n",
    "\n",
    "    mean(): Compute mean of groups\n",
    "    sum(): Compute sum of group values\n",
    "    size(): Compute group sizes\n",
    "    count(): Compute count of group\n",
    "    std(): Standard deviation of groups\n",
    "    var(): Compute variance of groups\n",
    "    sem(): Standard error of the mean of groups\n",
    "    describe(): Generates descriptive statistics\n",
    "    first(): Compute first of group values\n",
    "    last(): Compute last of group values\n",
    "    nth() : Take nth value, or a subset if n is a list\n",
    "    min(): Compute min of group values\n",
    "    max(): Compute max of group values\n",
    "    \n",
    "Full List at the Online Documentation: https://pandas.pydata.org/docs/reference/groupby.html"
   ]
  },
  {
   "cell_type": "code",
   "execution_count": null,
   "id": "1835c93c",
   "metadata": {},
   "outputs": [
    {
     "data": {
      "text/plain": [
       "<pandas.core.groupby.generic.DataFrameGroupBy object at 0x000001EAEB9FC550>"
      ]
     },
     "execution_count": 50,
     "metadata": {},
     "output_type": "execute_result"
    }
   ],
   "source": [
    "df_mpg.groupby(\"model_year\") # model_year sutunundaki her bir yila gore gruplama yapar, arkaplanda gruplama yapilir ama gosterilmez"
   ]
  },
  {
   "cell_type": "code",
   "execution_count": 51,
   "id": "babcbde9",
   "metadata": {},
   "outputs": [
    {
     "data": {
      "application/vnd.microsoft.datawrangler.viewer.v0+json": {
       "columns": [
        {
         "name": "model_year",
         "rawType": "int64",
         "type": "integer"
        },
        {
         "name": "mpg",
         "rawType": "float64",
         "type": "float"
        }
       ],
       "ref": "15b55453-b200-443c-a616-672807f81a1c",
       "rows": [
        [
         "70",
         "17.689655172413794"
        ],
        [
         "71",
         "21.25"
        ],
        [
         "72",
         "18.714285714285715"
        ],
        [
         "73",
         "17.1"
        ],
        [
         "74",
         "22.703703703703702"
        ],
        [
         "75",
         "20.266666666666666"
        ],
        [
         "76",
         "21.573529411764707"
        ],
        [
         "77",
         "23.375"
        ],
        [
         "78",
         "24.061111111111114"
        ],
        [
         "79",
         "25.093103448275862"
        ],
        [
         "80",
         "33.69655172413793"
        ],
        [
         "81",
         "30.33448275862069"
        ],
        [
         "82",
         "31.70967741935484"
        ]
       ],
       "shape": {
        "columns": 1,
        "rows": 13
       }
      },
      "text/plain": [
       "model_year\n",
       "70    17.689655\n",
       "71    21.250000\n",
       "72    18.714286\n",
       "73    17.100000\n",
       "74    22.703704\n",
       "75    20.266667\n",
       "76    21.573529\n",
       "77    23.375000\n",
       "78    24.061111\n",
       "79    25.093103\n",
       "80    33.696552\n",
       "81    30.334483\n",
       "82    31.709677\n",
       "Name: mpg, dtype: float64"
      ]
     },
     "execution_count": 51,
     "metadata": {},
     "output_type": "execute_result"
    }
   ],
   "source": [
    "df_mpg.groupby(\"model_year\")[\"mpg\"].mean() # model_year sutunundaki her bir yila gore gruplama yapar ve mpg sutunundaki degerlerin ortalamasini alir"
   ]
  },
  {
   "cell_type": "code",
   "execution_count": 53,
   "id": "1cc8fe85",
   "metadata": {},
   "outputs": [],
   "source": [
    "# 70 yilindan 80 yilina gecildikce araclarin mpg degerlerinin arttigini goruyoruz"
   ]
  },
  {
   "cell_type": "code",
   "execution_count": 55,
   "id": "9b16f181",
   "metadata": {},
   "outputs": [
    {
     "data": {
      "application/vnd.microsoft.datawrangler.viewer.v0+json": {
       "columns": [
        {
         "name": "model_year",
         "rawType": "int64",
         "type": "integer"
        },
        {
         "name": "cylinders",
         "rawType": "float64",
         "type": "float"
        }
       ],
       "ref": "8c8fb6ec-4c9f-419c-889a-e75fa532ce3a",
       "rows": [
        [
         "70",
         "6.758620689655173"
        ],
        [
         "71",
         "5.571428571428571"
        ],
        [
         "72",
         "5.821428571428571"
        ],
        [
         "73",
         "6.375"
        ],
        [
         "74",
         "5.2592592592592595"
        ],
        [
         "75",
         "5.6"
        ],
        [
         "76",
         "5.647058823529412"
        ],
        [
         "77",
         "5.464285714285714"
        ],
        [
         "78",
         "5.361111111111111"
        ],
        [
         "79",
         "5.827586206896552"
        ],
        [
         "80",
         "4.137931034482759"
        ],
        [
         "81",
         "4.620689655172414"
        ],
        [
         "82",
         "4.193548387096774"
        ]
       ],
       "shape": {
        "columns": 1,
        "rows": 13
       }
      },
      "text/plain": [
       "model_year\n",
       "70    6.758621\n",
       "71    5.571429\n",
       "72    5.821429\n",
       "73    6.375000\n",
       "74    5.259259\n",
       "75    5.600000\n",
       "76    5.647059\n",
       "77    5.464286\n",
       "78    5.361111\n",
       "79    5.827586\n",
       "80    4.137931\n",
       "81    4.620690\n",
       "82    4.193548\n",
       "Name: cylinders, dtype: float64"
      ]
     },
     "execution_count": 55,
     "metadata": {},
     "output_type": "execute_result"
    }
   ],
   "source": [
    "df_mpg.groupby(\"model_year\")[\"cylinders\"].mean() # model_year sutunundaki her bir yila gore gruplama yapar ve cylinders sutunundaki degerlerin ortalamasini alir"
   ]
  },
  {
   "cell_type": "code",
   "execution_count": 65,
   "id": "ea9712cd",
   "metadata": {},
   "outputs": [
    {
     "data": {
      "application/vnd.microsoft.datawrangler.viewer.v0+json": {
       "columns": [
        {
         "name": "('model_year', 'cylinders')",
         "rawType": "object",
         "type": "unknown"
        },
        {
         "name": "mpg",
         "rawType": "float64",
         "type": "float"
        }
       ],
       "ref": "a94f17f1-46ba-429c-89a6-ea000a1bdcd3",
       "rows": [
        [
         "(np.int64(70), np.int64(4))",
         "25.285714285714285"
        ],
        [
         "(np.int64(70), np.int64(6))",
         "20.5"
        ],
        [
         "(np.int64(70), np.int64(8))",
         "14.11111111111111"
        ],
        [
         "(np.int64(71), np.int64(4))",
         "27.46153846153846"
        ],
        [
         "(np.int64(71), np.int64(6))",
         "18.0"
        ],
        [
         "(np.int64(71), np.int64(8))",
         "13.428571428571429"
        ],
        [
         "(np.int64(72), np.int64(3))",
         "19.0"
        ],
        [
         "(np.int64(72), np.int64(4))",
         "23.428571428571427"
        ],
        [
         "(np.int64(72), np.int64(8))",
         "13.615384615384615"
        ],
        [
         "(np.int64(73), np.int64(3))",
         "18.0"
        ],
        [
         "(np.int64(73), np.int64(4))",
         "22.727272727272727"
        ],
        [
         "(np.int64(73), np.int64(6))",
         "19.0"
        ],
        [
         "(np.int64(73), np.int64(8))",
         "13.2"
        ],
        [
         "(np.int64(74), np.int64(4))",
         "27.8"
        ],
        [
         "(np.int64(74), np.int64(6))",
         "17.857142857142858"
        ],
        [
         "(np.int64(74), np.int64(8))",
         "14.2"
        ],
        [
         "(np.int64(75), np.int64(4))",
         "25.25"
        ],
        [
         "(np.int64(75), np.int64(6))",
         "17.583333333333332"
        ],
        [
         "(np.int64(75), np.int64(8))",
         "15.666666666666666"
        ],
        [
         "(np.int64(76), np.int64(4))",
         "26.766666666666666"
        ],
        [
         "(np.int64(76), np.int64(6))",
         "20.0"
        ],
        [
         "(np.int64(76), np.int64(8))",
         "14.666666666666666"
        ],
        [
         "(np.int64(77), np.int64(3))",
         "21.5"
        ],
        [
         "(np.int64(77), np.int64(4))",
         "29.107142857142858"
        ],
        [
         "(np.int64(77), np.int64(6))",
         "19.5"
        ],
        [
         "(np.int64(77), np.int64(8))",
         "16.0"
        ],
        [
         "(np.int64(78), np.int64(4))",
         "29.576470588235296"
        ],
        [
         "(np.int64(78), np.int64(5))",
         "20.3"
        ],
        [
         "(np.int64(78), np.int64(6))",
         "19.066666666666666"
        ],
        [
         "(np.int64(78), np.int64(8))",
         "19.05"
        ],
        [
         "(np.int64(79), np.int64(4))",
         "31.525000000000002"
        ],
        [
         "(np.int64(79), np.int64(5))",
         "25.4"
        ],
        [
         "(np.int64(79), np.int64(6))",
         "22.95"
        ],
        [
         "(np.int64(79), np.int64(8))",
         "18.630000000000003"
        ],
        [
         "(np.int64(80), np.int64(3))",
         "23.7"
        ],
        [
         "(np.int64(80), np.int64(4))",
         "34.611999999999995"
        ],
        [
         "(np.int64(80), np.int64(5))",
         "36.4"
        ],
        [
         "(np.int64(80), np.int64(6))",
         "25.900000000000002"
        ],
        [
         "(np.int64(81), np.int64(4))",
         "32.81428571428572"
        ],
        [
         "(np.int64(81), np.int64(6))",
         "23.428571428571427"
        ],
        [
         "(np.int64(81), np.int64(8))",
         "26.6"
        ],
        [
         "(np.int64(82), np.int64(4))",
         "32.07142857142857"
        ],
        [
         "(np.int64(82), np.int64(6))",
         "28.333333333333332"
        ]
       ],
       "shape": {
        "columns": 1,
        "rows": 43
       }
      },
      "text/plain": [
       "model_year  cylinders\n",
       "70          4            25.285714\n",
       "            6            20.500000\n",
       "            8            14.111111\n",
       "71          4            27.461538\n",
       "            6            18.000000\n",
       "            8            13.428571\n",
       "72          3            19.000000\n",
       "            4            23.428571\n",
       "            8            13.615385\n",
       "73          3            18.000000\n",
       "            4            22.727273\n",
       "            6            19.000000\n",
       "            8            13.200000\n",
       "74          4            27.800000\n",
       "            6            17.857143\n",
       "            8            14.200000\n",
       "75          4            25.250000\n",
       "            6            17.583333\n",
       "            8            15.666667\n",
       "76          4            26.766667\n",
       "            6            20.000000\n",
       "            8            14.666667\n",
       "77          3            21.500000\n",
       "            4            29.107143\n",
       "            6            19.500000\n",
       "            8            16.000000\n",
       "78          4            29.576471\n",
       "            5            20.300000\n",
       "            6            19.066667\n",
       "            8            19.050000\n",
       "79          4            31.525000\n",
       "            5            25.400000\n",
       "            6            22.950000\n",
       "            8            18.630000\n",
       "80          3            23.700000\n",
       "            4            34.612000\n",
       "            5            36.400000\n",
       "            6            25.900000\n",
       "81          4            32.814286\n",
       "            6            23.428571\n",
       "            8            26.600000\n",
       "82          4            32.071429\n",
       "            6            28.333333\n",
       "Name: mpg, dtype: float64"
      ]
     },
     "execution_count": 65,
     "metadata": {},
     "output_type": "execute_result"
    }
   ],
   "source": [
    "df_mpg.groupby([\"model_year\", \"cylinders\"])[\"mpg\"].mean() # birden fazla sutuna gore gruplama yapabiliriz"
   ]
  },
  {
   "cell_type": "code",
   "execution_count": 66,
   "id": "7d24d663",
   "metadata": {},
   "outputs": [
    {
     "data": {
      "application/vnd.microsoft.datawrangler.viewer.v0+json": {
       "columns": [
        {
         "name": "model_year",
         "rawType": "int64",
         "type": "integer"
        },
        {
         "name": "('mpg', 'count')",
         "rawType": "float64",
         "type": "float"
        },
        {
         "name": "('mpg', 'mean')",
         "rawType": "float64",
         "type": "float"
        },
        {
         "name": "('mpg', 'std')",
         "rawType": "float64",
         "type": "float"
        },
        {
         "name": "('mpg', 'min')",
         "rawType": "float64",
         "type": "float"
        },
        {
         "name": "('mpg', '25%')",
         "rawType": "float64",
         "type": "float"
        },
        {
         "name": "('mpg', '50%')",
         "rawType": "float64",
         "type": "float"
        },
        {
         "name": "('mpg', '75%')",
         "rawType": "float64",
         "type": "float"
        },
        {
         "name": "('mpg', 'max')",
         "rawType": "float64",
         "type": "float"
        },
        {
         "name": "('cylinders', 'count')",
         "rawType": "float64",
         "type": "float"
        },
        {
         "name": "('cylinders', 'mean')",
         "rawType": "float64",
         "type": "float"
        },
        {
         "name": "('cylinders', 'std')",
         "rawType": "float64",
         "type": "float"
        },
        {
         "name": "('cylinders', 'min')",
         "rawType": "float64",
         "type": "float"
        },
        {
         "name": "('cylinders', '25%')",
         "rawType": "float64",
         "type": "float"
        },
        {
         "name": "('cylinders', '50%')",
         "rawType": "float64",
         "type": "float"
        },
        {
         "name": "('cylinders', '75%')",
         "rawType": "float64",
         "type": "float"
        },
        {
         "name": "('cylinders', 'max')",
         "rawType": "float64",
         "type": "float"
        },
        {
         "name": "('displacement', 'count')",
         "rawType": "float64",
         "type": "float"
        },
        {
         "name": "('displacement', 'mean')",
         "rawType": "float64",
         "type": "float"
        },
        {
         "name": "('displacement', 'std')",
         "rawType": "float64",
         "type": "float"
        },
        {
         "name": "('displacement', 'min')",
         "rawType": "float64",
         "type": "float"
        },
        {
         "name": "('displacement', '25%')",
         "rawType": "float64",
         "type": "float"
        },
        {
         "name": "('displacement', '50%')",
         "rawType": "float64",
         "type": "float"
        },
        {
         "name": "('displacement', '75%')",
         "rawType": "float64",
         "type": "float"
        },
        {
         "name": "('displacement', 'max')",
         "rawType": "float64",
         "type": "float"
        },
        {
         "name": "('horsepower', 'count')",
         "rawType": "float64",
         "type": "float"
        },
        {
         "name": "('horsepower', 'mean')",
         "rawType": "float64",
         "type": "float"
        },
        {
         "name": "('horsepower', 'std')",
         "rawType": "float64",
         "type": "float"
        },
        {
         "name": "('horsepower', 'min')",
         "rawType": "float64",
         "type": "float"
        },
        {
         "name": "('horsepower', '25%')",
         "rawType": "float64",
         "type": "float"
        },
        {
         "name": "('horsepower', '50%')",
         "rawType": "float64",
         "type": "float"
        },
        {
         "name": "('horsepower', '75%')",
         "rawType": "float64",
         "type": "float"
        },
        {
         "name": "('horsepower', 'max')",
         "rawType": "float64",
         "type": "float"
        },
        {
         "name": "('weight', 'count')",
         "rawType": "float64",
         "type": "float"
        },
        {
         "name": "('weight', 'mean')",
         "rawType": "float64",
         "type": "float"
        },
        {
         "name": "('weight', 'std')",
         "rawType": "float64",
         "type": "float"
        },
        {
         "name": "('weight', 'min')",
         "rawType": "float64",
         "type": "float"
        },
        {
         "name": "('weight', '25%')",
         "rawType": "float64",
         "type": "float"
        },
        {
         "name": "('weight', '50%')",
         "rawType": "float64",
         "type": "float"
        },
        {
         "name": "('weight', '75%')",
         "rawType": "float64",
         "type": "float"
        },
        {
         "name": "('weight', 'max')",
         "rawType": "float64",
         "type": "float"
        },
        {
         "name": "('acceleration', 'count')",
         "rawType": "float64",
         "type": "float"
        },
        {
         "name": "('acceleration', 'mean')",
         "rawType": "float64",
         "type": "float"
        },
        {
         "name": "('acceleration', 'std')",
         "rawType": "float64",
         "type": "float"
        },
        {
         "name": "('acceleration', 'min')",
         "rawType": "float64",
         "type": "float"
        },
        {
         "name": "('acceleration', '25%')",
         "rawType": "float64",
         "type": "float"
        },
        {
         "name": "('acceleration', '50%')",
         "rawType": "float64",
         "type": "float"
        },
        {
         "name": "('acceleration', '75%')",
         "rawType": "float64",
         "type": "float"
        },
        {
         "name": "('acceleration', 'max')",
         "rawType": "float64",
         "type": "float"
        },
        {
         "name": "('origin', 'count')",
         "rawType": "float64",
         "type": "float"
        },
        {
         "name": "('origin', 'mean')",
         "rawType": "float64",
         "type": "float"
        },
        {
         "name": "('origin', 'std')",
         "rawType": "float64",
         "type": "float"
        },
        {
         "name": "('origin', 'min')",
         "rawType": "float64",
         "type": "float"
        },
        {
         "name": "('origin', '25%')",
         "rawType": "float64",
         "type": "float"
        },
        {
         "name": "('origin', '50%')",
         "rawType": "float64",
         "type": "float"
        },
        {
         "name": "('origin', '75%')",
         "rawType": "float64",
         "type": "float"
        },
        {
         "name": "('origin', 'max')",
         "rawType": "float64",
         "type": "float"
        }
       ],
       "ref": "553abf40-fece-4300-82d1-3d2c5b3b9d8c",
       "rows": [
        [
         "70",
         "29.0",
         "17.689655172413794",
         "5.33923113964563",
         "9.0",
         "14.0",
         "16.0",
         "22.0",
         "27.0",
         "29.0",
         "6.758620689655173",
         "1.7249259283018732",
         "4.0",
         "6.0",
         "8.0",
         "8.0",
         "8.0",
         "29.0",
         "281.41379310344826",
         "124.42138000743951",
         "97.0",
         "198.0",
         "307.0",
         "383.0",
         "455.0",
         "29.0",
         "147.82758620689654",
         "53.734844352030514",
         "46.0",
         "95.0",
         "150.0",
         "198.0",
         "225.0",
         "29.0",
         "3372.793103448276",
         "852.8686626116736",
         "1835.0",
         "2648.0",
         "3449.0",
         "4312.0",
         "4732.0",
         "29.0",
         "12.948275862068966",
         "3.3309823400543115",
         "8.0",
         "10.0",
         "12.5",
         "15.0",
         "20.5",
         "29.0",
         "1.3103448275862069",
         "0.6037648712076858",
         "1.0",
         "1.0",
         "1.0",
         "1.0",
         "3.0"
        ],
        [
         "71",
         "28.0",
         "21.25",
         "6.591942331642754",
         "12.0",
         "15.5",
         "19.0",
         "27.0",
         "35.0",
         "28.0",
         "5.571428571428571",
         "1.6650786085007434",
         "4.0",
         "4.0",
         "6.0",
         "6.5",
         "8.0",
         "28.0",
         "209.75",
         "115.10241011731603",
         "71.0",
         "97.75",
         "228.5",
         "273.0",
         "400.0",
         "27.0",
         "107.03703703703704",
         "38.566108558483435",
         "60.0",
         "81.0",
         "95.0",
         "130.0",
         "180.0",
         "28.0",
         "2995.4285714285716",
         "1061.83085869962",
         "1613.0",
         "2110.75",
         "2798.0",
         "3603.25",
         "5140.0",
         "28.0",
         "15.142857142857142",
         "2.666170588778147",
         "11.5",
         "13.375",
         "14.5",
         "16.125",
         "20.5",
         "28.0",
         "1.4285714285714286",
         "0.7417981870189158",
         "1.0",
         "1.0",
         "1.0",
         "2.0",
         "3.0"
        ],
        [
         "72",
         "28.0",
         "18.714285714285715",
         "5.435528819257014",
         "11.0",
         "13.75",
         "18.5",
         "23.0",
         "28.0",
         "28.0",
         "5.821428571428571",
         "2.0737079230847697",
         "3.0",
         "4.0",
         "4.0",
         "8.0",
         "8.0",
         "28.0",
         "218.375",
         "123.78196369842028",
         "70.0",
         "109.25",
         "131.0",
         "326.0",
         "429.0",
         "28.0",
         "120.17857142857143",
         "41.12136830428836",
         "54.0",
         "86.75",
         "104.5",
         "150.75",
         "208.0",
         "28.0",
         "3237.714285714286",
         "974.5209595124677",
         "2100.0",
         "2285.5",
         "2956.0",
         "4169.75",
         "4633.0",
         "28.0",
         "15.125",
         "2.8500324884438046",
         "11.0",
         "13.375",
         "14.5",
         "16.625",
         "23.5",
         "28.0",
         "1.5357142857142858",
         "0.7926581093427848",
         "1.0",
         "1.0",
         "1.0",
         "2.0",
         "3.0"
        ],
        [
         "73",
         "40.0",
         "17.1",
         "4.700245492770319",
         "11.0",
         "13.0",
         "16.0",
         "20.0",
         "29.0",
         "40.0",
         "6.375",
         "1.8072148851272891",
         "3.0",
         "4.0",
         "7.0",
         "8.0",
         "8.0",
         "40.0",
         "256.875",
         "121.72208520084195",
         "68.0",
         "121.75",
         "276.0",
         "350.25",
         "455.0",
         "40.0",
         "130.475",
         "46.412303574342474",
         "46.0",
         "93.25",
         "129.5",
         "160.25",
         "230.0",
         "40.0",
         "3419.025",
         "974.8091328628494",
         "1867.0",
         "2554.5",
         "3338.5",
         "4247.25",
         "4997.0",
         "40.0",
         "14.3125",
         "2.7542217012229027",
         "9.5",
         "12.5",
         "14.0",
         "16.0",
         "21.0",
         "40.0",
         "1.375",
         "0.6674674677561601",
         "1.0",
         "1.0",
         "1.0",
         "2.0",
         "3.0"
        ],
        [
         "74",
         "27.0",
         "22.703703703703702",
         "6.42000967417684",
         "13.0",
         "16.0",
         "24.0",
         "27.0",
         "32.0",
         "27.0",
         "5.2592592592592595",
         "1.5833895626542784",
         "4.0",
         "4.0",
         "4.0",
         "6.0",
         "8.0",
         "27.0",
         "171.74074074074073",
         "92.60112667224227",
         "71.0",
         "90.0",
         "122.0",
         "250.0",
         "350.0",
         "26.0",
         "94.23076923076923",
         "29.6867750923642",
         "52.0",
         "75.0",
         "88.0",
         "103.75",
         "150.0",
         "27.0",
         "2877.925925925926",
         "949.3085712942675",
         "1649.0",
         "2116.5",
         "2489.0",
         "3622.5",
         "4699.0",
         "27.0",
         "16.203703703703702",
         "1.6885317886079614",
         "13.5",
         "15.25",
         "16.0",
         "17.0",
         "21.0",
         "27.0",
         "1.6666666666666667",
         "0.8320502943378437",
         "1.0",
         "1.0",
         "1.0",
         "2.0",
         "3.0"
        ],
        [
         "75",
         "30.0",
         "20.266666666666666",
         "4.940566303805552",
         "13.0",
         "16.0",
         "19.5",
         "23.0",
         "33.0",
         "30.0",
         "5.6",
         "1.5222487902147748",
         "4.0",
         "4.0",
         "6.0",
         "6.0",
         "8.0",
         "30.0",
         "205.53333333333333",
         "87.66973029042238",
         "90.0",
         "121.0",
         "228.0",
         "250.0",
         "400.0",
         "30.0",
         "101.06666666666666",
         "26.577062100334892",
         "53.0",
         "84.25",
         "97.0",
         "110.0",
         "170.0",
         "30.0",
         "3176.8",
         "765.1797805429285",
         "1795.0",
         "2676.75",
         "3098.5",
         "3662.25",
         "4668.0",
         "30.0",
         "16.05",
         "2.4717367899152793",
         "11.5",
         "14.125",
         "16.0",
         "17.375",
         "21.0",
         "30.0",
         "1.4666666666666666",
         "0.7302967433402214",
         "1.0",
         "1.0",
         "1.0",
         "2.0",
         "3.0"
        ],
        [
         "76",
         "34.0",
         "21.573529411764707",
         "5.8892973714537264",
         "13.0",
         "16.75",
         "21.0",
         "26.375",
         "33.0",
         "34.0",
         "5.647058823529412",
         "1.6675576940848567",
         "4.0",
         "4.0",
         "6.0",
         "7.5",
         "8.0",
         "34.0",
         "197.7941176470588",
         "94.42225579063339",
         "85.0",
         "102.5",
         "184.0",
         "291.0",
         "351.0",
         "34.0",
         "101.11764705882354",
         "32.43059227809479",
         "52.0",
         "78.25",
         "93.5",
         "120.0",
         "180.0",
         "34.0",
         "3078.735294117647",
         "821.3714808937966",
         "1795.0",
         "2228.75",
         "3171.5",
         "3803.75",
         "4380.0",
         "34.0",
         "15.941176470588236",
         "2.8014192990565623",
         "12.0",
         "13.925",
         "15.5",
         "17.55",
         "22.2",
         "34.0",
         "1.4705882352941178",
         "0.7064762801416988",
         "1.0",
         "1.0",
         "1.0",
         "2.0",
         "3.0"
        ],
        [
         "77",
         "28.0",
         "23.375",
         "6.67586171438786",
         "15.0",
         "17.375",
         "21.75",
         "30.0",
         "36.0",
         "28.0",
         "5.464285714285714",
         "1.8152061990235557",
         "3.0",
         "4.0",
         "4.0",
         "8.0",
         "8.0",
         "28.0",
         "191.39285714285714",
         "107.81374174961607",
         "79.0",
         "97.75",
         "143.0",
         "270.5",
         "400.0",
         "28.0",
         "105.07142857142857",
         "36.09547891195791",
         "58.0",
         "78.0",
         "97.5",
         "115.0",
         "190.0",
         "28.0",
         "2997.3571428571427",
         "912.8259017929579",
         "1825.0",
         "2135.0",
         "2747.5",
         "3925.0",
         "4335.0",
         "28.0",
         "15.435714285714285",
         "2.2733910526583143",
         "11.1",
         "14.0",
         "15.65",
         "16.924999999999997",
         "19.0",
         "28.0",
         "1.5714285714285714",
         "0.8357108940373451",
         "1.0",
         "1.0",
         "1.0",
         "2.0",
         "3.0"
        ],
        [
         "78",
         "36.0",
         "24.061111111111114",
         "6.898044351337259",
         "16.2",
         "19.349999999999998",
         "20.700000000000003",
         "28.0",
         "43.1",
         "36.0",
         "5.361111111111111",
         "1.495761206644158",
         "4.0",
         "4.0",
         "5.5",
         "6.0",
         "8.0",
         "36.0",
         "177.80555555555554",
         "76.01271301356465",
         "78.0",
         "115.5",
         "159.5",
         "231.0",
         "318.0",
         "36.0",
         "99.69444444444444",
         "28.436213776947415",
         "48.0",
         "82.5",
         "97.0",
         "116.25",
         "165.0",
         "36.0",
         "2861.8055555555557",
         "626.0239073227815",
         "1800.0",
         "2282.5",
         "2910.0",
         "3410.0",
         "4080.0",
         "36.0",
         "15.805555555555555",
         "2.129915416757126",
         "11.2",
         "14.475",
         "15.75",
         "16.825",
         "21.5",
         "36.0",
         "1.6111111111111112",
         "0.8376080835255243",
         "1.0",
         "1.0",
         "1.0",
         "2.0",
         "3.0"
        ],
        [
         "79",
         "29.0",
         "25.09310344827585",
         "6.794216607552694",
         "15.5",
         "19.2",
         "23.9",
         "31.8",
         "37.3",
         "29.0",
         "5.827586206896552",
         "1.7741993268039324",
         "4.0",
         "4.0",
         "6.0",
         "8.0",
         "8.0",
         "29.0",
         "206.68965517241378",
         "96.30758145808366",
         "85.0",
         "121.0",
         "183.0",
         "302.0",
         "360.0",
         "29.0",
         "101.20689655172414",
         "28.45595507640439",
         "65.0",
         "77.0",
         "90.0",
         "125.0",
         "155.0",
         "29.0",
         "3055.344827586207",
         "747.8814972909463",
         "1915.0",
         "2556.0",
         "3190.0",
         "3725.0",
         "4360.0",
         "29.0",
         "15.813793103448274",
         "2.9529312480423626",
         "11.3",
         "14.0",
         "15.0",
         "17.3",
         "24.8",
         "29.0",
         "1.2758620689655173",
         "0.5913997756013109",
         "1.0",
         "1.0",
         "1.0",
         "1.0",
         "3.0"
        ],
        [
         "80",
         "29.0",
         "33.69655172413793",
         "7.037982805495004",
         "19.1",
         "29.8",
         "32.7",
         "38.1",
         "46.6",
         "29.0",
         "4.137931034482759",
         "0.5808945030255669",
         "3.0",
         "4.0",
         "4.0",
         "4.0",
         "6.0",
         "29.0",
         "115.82758620689656",
         "33.74491386598372",
         "70.0",
         "90.0",
         "107.0",
         "140.0",
         "225.0",
         "27.0",
         "77.48148148148148",
         "18.173036599843716",
         "48.0",
         "66.0",
         "75.0",
         "90.0",
         "132.0",
         "29.0",
         "2436.655172413793",
         "432.23549102825126",
         "1835.0",
         "2110.0",
         "2335.0",
         "2800.0",
         "3381.0",
         "29.0",
         "16.93448275862069",
         "2.8266936594429497",
         "11.4",
         "15.1",
         "16.5",
         "18.7",
         "23.7",
         "29.0",
         "2.206896551724138",
         "0.8185051856379753",
         "1.0",
         "2.0",
         "2.0",
         "3.0",
         "3.0"
        ],
        [
         "81",
         "29.0",
         "30.334482758620695",
         "5.591465171010251",
         "17.6",
         "26.6",
         "31.6",
         "34.4",
         "39.1",
         "29.0",
         "4.620689655172414",
         "1.0827805840074194",
         "4.0",
         "4.0",
         "4.0",
         "6.0",
         "8.0",
         "29.0",
         "135.31034482758622",
         "58.38792894345044",
         "79.0",
         "98.0",
         "119.0",
         "151.0",
         "350.0",
         "28.0",
         "81.03571428571429",
         "18.10562045508223",
         "58.0",
         "65.0",
         "75.5",
         "89.0",
         "120.0",
         "29.0",
         "2522.9310344827586",
         "533.6005013808473",
         "1755.0",
         "2065.0",
         "2385.0",
         "2900.0",
         "3725.0",
         "29.0",
         "16.30689655172414",
         "2.1925085167586267",
         "12.6",
         "14.8",
         "16.2",
         "17.3",
         "20.7",
         "29.0",
         "1.9655172413793103",
         "0.9442592947721229",
         "1.0",
         "1.0",
         "2.0",
         "3.0",
         "3.0"
        ],
        [
         "82",
         "31.0",
         "31.70967741935484",
         "5.392547625424657",
         "22.0",
         "27.0",
         "32.0",
         "36.0",
         "44.0",
         "31.0",
         "4.193548387096774",
         "0.6010743070375286",
         "4.0",
         "4.0",
         "4.0",
         "4.0",
         "6.0",
         "31.0",
         "128.8709677419355",
         "39.352036741430865",
         "91.0",
         "105.0",
         "119.0",
         "142.0",
         "262.0",
         "30.0",
         "81.46666666666667",
         "13.296961886171548",
         "52.0",
         "70.0",
         "84.0",
         "88.0",
         "112.0",
         "31.0",
         "2453.548387096774",
         "354.2767128210826",
         "1965.0",
         "2127.5",
         "2525.0",
         "2727.5",
         "3035.0",
         "31.0",
         "16.638709677419357",
         "2.48484438404163",
         "11.6",
         "14.85",
         "16.4",
         "18.0",
         "24.6",
         "31.0",
         "1.6451612903225807",
         "0.9146360695844801",
         "1.0",
         "1.0",
         "1.0",
         "3.0",
         "3.0"
        ]
       ],
       "shape": {
        "columns": 56,
        "rows": 13
       }
      },
      "text/html": [
       "<div>\n",
       "<style scoped>\n",
       "    .dataframe tbody tr th:only-of-type {\n",
       "        vertical-align: middle;\n",
       "    }\n",
       "\n",
       "    .dataframe tbody tr th {\n",
       "        vertical-align: top;\n",
       "    }\n",
       "\n",
       "    .dataframe thead tr th {\n",
       "        text-align: left;\n",
       "    }\n",
       "\n",
       "    .dataframe thead tr:last-of-type th {\n",
       "        text-align: right;\n",
       "    }\n",
       "</style>\n",
       "<table border=\"1\" class=\"dataframe\">\n",
       "  <thead>\n",
       "    <tr>\n",
       "      <th></th>\n",
       "      <th colspan=\"8\" halign=\"left\">mpg</th>\n",
       "      <th colspan=\"2\" halign=\"left\">cylinders</th>\n",
       "      <th>...</th>\n",
       "      <th colspan=\"2\" halign=\"left\">acceleration</th>\n",
       "      <th colspan=\"8\" halign=\"left\">origin</th>\n",
       "    </tr>\n",
       "    <tr>\n",
       "      <th></th>\n",
       "      <th>count</th>\n",
       "      <th>mean</th>\n",
       "      <th>std</th>\n",
       "      <th>min</th>\n",
       "      <th>25%</th>\n",
       "      <th>50%</th>\n",
       "      <th>75%</th>\n",
       "      <th>max</th>\n",
       "      <th>count</th>\n",
       "      <th>mean</th>\n",
       "      <th>...</th>\n",
       "      <th>75%</th>\n",
       "      <th>max</th>\n",
       "      <th>count</th>\n",
       "      <th>mean</th>\n",
       "      <th>std</th>\n",
       "      <th>min</th>\n",
       "      <th>25%</th>\n",
       "      <th>50%</th>\n",
       "      <th>75%</th>\n",
       "      <th>max</th>\n",
       "    </tr>\n",
       "    <tr>\n",
       "      <th>model_year</th>\n",
       "      <th></th>\n",
       "      <th></th>\n",
       "      <th></th>\n",
       "      <th></th>\n",
       "      <th></th>\n",
       "      <th></th>\n",
       "      <th></th>\n",
       "      <th></th>\n",
       "      <th></th>\n",
       "      <th></th>\n",
       "      <th></th>\n",
       "      <th></th>\n",
       "      <th></th>\n",
       "      <th></th>\n",
       "      <th></th>\n",
       "      <th></th>\n",
       "      <th></th>\n",
       "      <th></th>\n",
       "      <th></th>\n",
       "      <th></th>\n",
       "      <th></th>\n",
       "    </tr>\n",
       "  </thead>\n",
       "  <tbody>\n",
       "    <tr>\n",
       "      <th>70</th>\n",
       "      <td>29.0</td>\n",
       "      <td>17.689655</td>\n",
       "      <td>5.339231</td>\n",
       "      <td>9.0</td>\n",
       "      <td>14.000</td>\n",
       "      <td>16.00</td>\n",
       "      <td>22.000</td>\n",
       "      <td>27.0</td>\n",
       "      <td>29.0</td>\n",
       "      <td>6.758621</td>\n",
       "      <td>...</td>\n",
       "      <td>15.000</td>\n",
       "      <td>20.5</td>\n",
       "      <td>29.0</td>\n",
       "      <td>1.310345</td>\n",
       "      <td>0.603765</td>\n",
       "      <td>1.0</td>\n",
       "      <td>1.0</td>\n",
       "      <td>1.0</td>\n",
       "      <td>1.0</td>\n",
       "      <td>3.0</td>\n",
       "    </tr>\n",
       "    <tr>\n",
       "      <th>71</th>\n",
       "      <td>28.0</td>\n",
       "      <td>21.250000</td>\n",
       "      <td>6.591942</td>\n",
       "      <td>12.0</td>\n",
       "      <td>15.500</td>\n",
       "      <td>19.00</td>\n",
       "      <td>27.000</td>\n",
       "      <td>35.0</td>\n",
       "      <td>28.0</td>\n",
       "      <td>5.571429</td>\n",
       "      <td>...</td>\n",
       "      <td>16.125</td>\n",
       "      <td>20.5</td>\n",
       "      <td>28.0</td>\n",
       "      <td>1.428571</td>\n",
       "      <td>0.741798</td>\n",
       "      <td>1.0</td>\n",
       "      <td>1.0</td>\n",
       "      <td>1.0</td>\n",
       "      <td>2.0</td>\n",
       "      <td>3.0</td>\n",
       "    </tr>\n",
       "    <tr>\n",
       "      <th>72</th>\n",
       "      <td>28.0</td>\n",
       "      <td>18.714286</td>\n",
       "      <td>5.435529</td>\n",
       "      <td>11.0</td>\n",
       "      <td>13.750</td>\n",
       "      <td>18.50</td>\n",
       "      <td>23.000</td>\n",
       "      <td>28.0</td>\n",
       "      <td>28.0</td>\n",
       "      <td>5.821429</td>\n",
       "      <td>...</td>\n",
       "      <td>16.625</td>\n",
       "      <td>23.5</td>\n",
       "      <td>28.0</td>\n",
       "      <td>1.535714</td>\n",
       "      <td>0.792658</td>\n",
       "      <td>1.0</td>\n",
       "      <td>1.0</td>\n",
       "      <td>1.0</td>\n",
       "      <td>2.0</td>\n",
       "      <td>3.0</td>\n",
       "    </tr>\n",
       "    <tr>\n",
       "      <th>73</th>\n",
       "      <td>40.0</td>\n",
       "      <td>17.100000</td>\n",
       "      <td>4.700245</td>\n",
       "      <td>11.0</td>\n",
       "      <td>13.000</td>\n",
       "      <td>16.00</td>\n",
       "      <td>20.000</td>\n",
       "      <td>29.0</td>\n",
       "      <td>40.0</td>\n",
       "      <td>6.375000</td>\n",
       "      <td>...</td>\n",
       "      <td>16.000</td>\n",
       "      <td>21.0</td>\n",
       "      <td>40.0</td>\n",
       "      <td>1.375000</td>\n",
       "      <td>0.667467</td>\n",
       "      <td>1.0</td>\n",
       "      <td>1.0</td>\n",
       "      <td>1.0</td>\n",
       "      <td>2.0</td>\n",
       "      <td>3.0</td>\n",
       "    </tr>\n",
       "    <tr>\n",
       "      <th>74</th>\n",
       "      <td>27.0</td>\n",
       "      <td>22.703704</td>\n",
       "      <td>6.420010</td>\n",
       "      <td>13.0</td>\n",
       "      <td>16.000</td>\n",
       "      <td>24.00</td>\n",
       "      <td>27.000</td>\n",
       "      <td>32.0</td>\n",
       "      <td>27.0</td>\n",
       "      <td>5.259259</td>\n",
       "      <td>...</td>\n",
       "      <td>17.000</td>\n",
       "      <td>21.0</td>\n",
       "      <td>27.0</td>\n",
       "      <td>1.666667</td>\n",
       "      <td>0.832050</td>\n",
       "      <td>1.0</td>\n",
       "      <td>1.0</td>\n",
       "      <td>1.0</td>\n",
       "      <td>2.0</td>\n",
       "      <td>3.0</td>\n",
       "    </tr>\n",
       "    <tr>\n",
       "      <th>75</th>\n",
       "      <td>30.0</td>\n",
       "      <td>20.266667</td>\n",
       "      <td>4.940566</td>\n",
       "      <td>13.0</td>\n",
       "      <td>16.000</td>\n",
       "      <td>19.50</td>\n",
       "      <td>23.000</td>\n",
       "      <td>33.0</td>\n",
       "      <td>30.0</td>\n",
       "      <td>5.600000</td>\n",
       "      <td>...</td>\n",
       "      <td>17.375</td>\n",
       "      <td>21.0</td>\n",
       "      <td>30.0</td>\n",
       "      <td>1.466667</td>\n",
       "      <td>0.730297</td>\n",
       "      <td>1.0</td>\n",
       "      <td>1.0</td>\n",
       "      <td>1.0</td>\n",
       "      <td>2.0</td>\n",
       "      <td>3.0</td>\n",
       "    </tr>\n",
       "    <tr>\n",
       "      <th>76</th>\n",
       "      <td>34.0</td>\n",
       "      <td>21.573529</td>\n",
       "      <td>5.889297</td>\n",
       "      <td>13.0</td>\n",
       "      <td>16.750</td>\n",
       "      <td>21.00</td>\n",
       "      <td>26.375</td>\n",
       "      <td>33.0</td>\n",
       "      <td>34.0</td>\n",
       "      <td>5.647059</td>\n",
       "      <td>...</td>\n",
       "      <td>17.550</td>\n",
       "      <td>22.2</td>\n",
       "      <td>34.0</td>\n",
       "      <td>1.470588</td>\n",
       "      <td>0.706476</td>\n",
       "      <td>1.0</td>\n",
       "      <td>1.0</td>\n",
       "      <td>1.0</td>\n",
       "      <td>2.0</td>\n",
       "      <td>3.0</td>\n",
       "    </tr>\n",
       "    <tr>\n",
       "      <th>77</th>\n",
       "      <td>28.0</td>\n",
       "      <td>23.375000</td>\n",
       "      <td>6.675862</td>\n",
       "      <td>15.0</td>\n",
       "      <td>17.375</td>\n",
       "      <td>21.75</td>\n",
       "      <td>30.000</td>\n",
       "      <td>36.0</td>\n",
       "      <td>28.0</td>\n",
       "      <td>5.464286</td>\n",
       "      <td>...</td>\n",
       "      <td>16.925</td>\n",
       "      <td>19.0</td>\n",
       "      <td>28.0</td>\n",
       "      <td>1.571429</td>\n",
       "      <td>0.835711</td>\n",
       "      <td>1.0</td>\n",
       "      <td>1.0</td>\n",
       "      <td>1.0</td>\n",
       "      <td>2.0</td>\n",
       "      <td>3.0</td>\n",
       "    </tr>\n",
       "    <tr>\n",
       "      <th>78</th>\n",
       "      <td>36.0</td>\n",
       "      <td>24.061111</td>\n",
       "      <td>6.898044</td>\n",
       "      <td>16.2</td>\n",
       "      <td>19.350</td>\n",
       "      <td>20.70</td>\n",
       "      <td>28.000</td>\n",
       "      <td>43.1</td>\n",
       "      <td>36.0</td>\n",
       "      <td>5.361111</td>\n",
       "      <td>...</td>\n",
       "      <td>16.825</td>\n",
       "      <td>21.5</td>\n",
       "      <td>36.0</td>\n",
       "      <td>1.611111</td>\n",
       "      <td>0.837608</td>\n",
       "      <td>1.0</td>\n",
       "      <td>1.0</td>\n",
       "      <td>1.0</td>\n",
       "      <td>2.0</td>\n",
       "      <td>3.0</td>\n",
       "    </tr>\n",
       "    <tr>\n",
       "      <th>79</th>\n",
       "      <td>29.0</td>\n",
       "      <td>25.093103</td>\n",
       "      <td>6.794217</td>\n",
       "      <td>15.5</td>\n",
       "      <td>19.200</td>\n",
       "      <td>23.90</td>\n",
       "      <td>31.800</td>\n",
       "      <td>37.3</td>\n",
       "      <td>29.0</td>\n",
       "      <td>5.827586</td>\n",
       "      <td>...</td>\n",
       "      <td>17.300</td>\n",
       "      <td>24.8</td>\n",
       "      <td>29.0</td>\n",
       "      <td>1.275862</td>\n",
       "      <td>0.591400</td>\n",
       "      <td>1.0</td>\n",
       "      <td>1.0</td>\n",
       "      <td>1.0</td>\n",
       "      <td>1.0</td>\n",
       "      <td>3.0</td>\n",
       "    </tr>\n",
       "    <tr>\n",
       "      <th>80</th>\n",
       "      <td>29.0</td>\n",
       "      <td>33.696552</td>\n",
       "      <td>7.037983</td>\n",
       "      <td>19.1</td>\n",
       "      <td>29.800</td>\n",
       "      <td>32.70</td>\n",
       "      <td>38.100</td>\n",
       "      <td>46.6</td>\n",
       "      <td>29.0</td>\n",
       "      <td>4.137931</td>\n",
       "      <td>...</td>\n",
       "      <td>18.700</td>\n",
       "      <td>23.7</td>\n",
       "      <td>29.0</td>\n",
       "      <td>2.206897</td>\n",
       "      <td>0.818505</td>\n",
       "      <td>1.0</td>\n",
       "      <td>2.0</td>\n",
       "      <td>2.0</td>\n",
       "      <td>3.0</td>\n",
       "      <td>3.0</td>\n",
       "    </tr>\n",
       "    <tr>\n",
       "      <th>81</th>\n",
       "      <td>29.0</td>\n",
       "      <td>30.334483</td>\n",
       "      <td>5.591465</td>\n",
       "      <td>17.6</td>\n",
       "      <td>26.600</td>\n",
       "      <td>31.60</td>\n",
       "      <td>34.400</td>\n",
       "      <td>39.1</td>\n",
       "      <td>29.0</td>\n",
       "      <td>4.620690</td>\n",
       "      <td>...</td>\n",
       "      <td>17.300</td>\n",
       "      <td>20.7</td>\n",
       "      <td>29.0</td>\n",
       "      <td>1.965517</td>\n",
       "      <td>0.944259</td>\n",
       "      <td>1.0</td>\n",
       "      <td>1.0</td>\n",
       "      <td>2.0</td>\n",
       "      <td>3.0</td>\n",
       "      <td>3.0</td>\n",
       "    </tr>\n",
       "    <tr>\n",
       "      <th>82</th>\n",
       "      <td>31.0</td>\n",
       "      <td>31.709677</td>\n",
       "      <td>5.392548</td>\n",
       "      <td>22.0</td>\n",
       "      <td>27.000</td>\n",
       "      <td>32.00</td>\n",
       "      <td>36.000</td>\n",
       "      <td>44.0</td>\n",
       "      <td>31.0</td>\n",
       "      <td>4.193548</td>\n",
       "      <td>...</td>\n",
       "      <td>18.000</td>\n",
       "      <td>24.6</td>\n",
       "      <td>31.0</td>\n",
       "      <td>1.645161</td>\n",
       "      <td>0.914636</td>\n",
       "      <td>1.0</td>\n",
       "      <td>1.0</td>\n",
       "      <td>1.0</td>\n",
       "      <td>3.0</td>\n",
       "      <td>3.0</td>\n",
       "    </tr>\n",
       "  </tbody>\n",
       "</table>\n",
       "<p>13 rows × 56 columns</p>\n",
       "</div>"
      ],
      "text/plain": [
       "             mpg                                                          \\\n",
       "           count       mean       std   min     25%    50%     75%   max   \n",
       "model_year                                                                 \n",
       "70          29.0  17.689655  5.339231   9.0  14.000  16.00  22.000  27.0   \n",
       "71          28.0  21.250000  6.591942  12.0  15.500  19.00  27.000  35.0   \n",
       "72          28.0  18.714286  5.435529  11.0  13.750  18.50  23.000  28.0   \n",
       "73          40.0  17.100000  4.700245  11.0  13.000  16.00  20.000  29.0   \n",
       "74          27.0  22.703704  6.420010  13.0  16.000  24.00  27.000  32.0   \n",
       "75          30.0  20.266667  4.940566  13.0  16.000  19.50  23.000  33.0   \n",
       "76          34.0  21.573529  5.889297  13.0  16.750  21.00  26.375  33.0   \n",
       "77          28.0  23.375000  6.675862  15.0  17.375  21.75  30.000  36.0   \n",
       "78          36.0  24.061111  6.898044  16.2  19.350  20.70  28.000  43.1   \n",
       "79          29.0  25.093103  6.794217  15.5  19.200  23.90  31.800  37.3   \n",
       "80          29.0  33.696552  7.037983  19.1  29.800  32.70  38.100  46.6   \n",
       "81          29.0  30.334483  5.591465  17.6  26.600  31.60  34.400  39.1   \n",
       "82          31.0  31.709677  5.392548  22.0  27.000  32.00  36.000  44.0   \n",
       "\n",
       "           cylinders            ... acceleration       origin            \\\n",
       "               count      mean  ...          75%   max  count      mean   \n",
       "model_year                      ...                                       \n",
       "70              29.0  6.758621  ...       15.000  20.5   29.0  1.310345   \n",
       "71              28.0  5.571429  ...       16.125  20.5   28.0  1.428571   \n",
       "72              28.0  5.821429  ...       16.625  23.5   28.0  1.535714   \n",
       "73              40.0  6.375000  ...       16.000  21.0   40.0  1.375000   \n",
       "74              27.0  5.259259  ...       17.000  21.0   27.0  1.666667   \n",
       "75              30.0  5.600000  ...       17.375  21.0   30.0  1.466667   \n",
       "76              34.0  5.647059  ...       17.550  22.2   34.0  1.470588   \n",
       "77              28.0  5.464286  ...       16.925  19.0   28.0  1.571429   \n",
       "78              36.0  5.361111  ...       16.825  21.5   36.0  1.611111   \n",
       "79              29.0  5.827586  ...       17.300  24.8   29.0  1.275862   \n",
       "80              29.0  4.137931  ...       18.700  23.7   29.0  2.206897   \n",
       "81              29.0  4.620690  ...       17.300  20.7   29.0  1.965517   \n",
       "82              31.0  4.193548  ...       18.000  24.6   31.0  1.645161   \n",
       "\n",
       "                                               \n",
       "                 std  min  25%  50%  75%  max  \n",
       "model_year                                     \n",
       "70          0.603765  1.0  1.0  1.0  1.0  3.0  \n",
       "71          0.741798  1.0  1.0  1.0  2.0  3.0  \n",
       "72          0.792658  1.0  1.0  1.0  2.0  3.0  \n",
       "73          0.667467  1.0  1.0  1.0  2.0  3.0  \n",
       "74          0.832050  1.0  1.0  1.0  2.0  3.0  \n",
       "75          0.730297  1.0  1.0  1.0  2.0  3.0  \n",
       "76          0.706476  1.0  1.0  1.0  2.0  3.0  \n",
       "77          0.835711  1.0  1.0  1.0  2.0  3.0  \n",
       "78          0.837608  1.0  1.0  1.0  2.0  3.0  \n",
       "79          0.591400  1.0  1.0  1.0  1.0  3.0  \n",
       "80          0.818505  1.0  2.0  2.0  3.0  3.0  \n",
       "81          0.944259  1.0  1.0  2.0  3.0  3.0  \n",
       "82          0.914636  1.0  1.0  1.0  3.0  3.0  \n",
       "\n",
       "[13 rows x 56 columns]"
      ]
     },
     "execution_count": 66,
     "metadata": {},
     "output_type": "execute_result"
    }
   ],
   "source": [
    "df_mpg.groupby(\"model_year\").describe() # her bir yila gore gruplama yapar ve tum sayisal sutunlarin istatistiksel ozetini verir"
   ]
  }
 ],
 "metadata": {
  "kernelspec": {
   "display_name": "Python 3",
   "language": "python",
   "name": "python3"
  },
  "language_info": {
   "codemirror_mode": {
    "name": "ipython",
    "version": 3
   },
   "file_extension": ".py",
   "mimetype": "text/x-python",
   "name": "python",
   "nbconvert_exporter": "python",
   "pygments_lexer": "ipython3",
   "version": "3.14.0"
  }
 },
 "nbformat": 4,
 "nbformat_minor": 5
}
