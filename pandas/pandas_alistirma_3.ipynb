{
 "cells": [
  {
   "cell_type": "markdown",
   "id": "16f32309",
   "metadata": {},
   "source": [
    "mpg.csv dosyasını okuyun ve df değişkenine atayın.\n",
    "\n",
    "1) df'in içindeki sütunların birbirleriyle olan korelasyonlarına(ilişkilerine) bakın.\n",
    "2) mpg sütunu ile diğer sütunların arasındaki korelasyonları özel olarak inceleyin.(Bunu göstermedik ama df.corr() çağırdıktan sonra aynı normal df'lerde olduğu gibi istediğiniz sütunu çağırabiliyorsunuz.)\n",
    "3) cylinders sütununda hangi unique değerler olduğuna liste halinde bakın.\n",
    "4) cylinders sütunundaki unique değerlerin her birinden kaçar adet olduğuna bakın.\n",
    "5) Arabanın modeli 75-80 yılları arasındaki arabaların hepsini getirin.(75 ve 80 dahil)\n",
    "6) horsepower'ı 155-180 arasındaki arabaların hepsini getirin.(155 dahil, 180 dahil değil)(Bu sorguyu yapabilmeniz için horsepower sütununu object durumdan float duruma getirmeniz gerekiyor.)\n",
    "7) Elinizdeki df'i horsepower'a göre büyükten küçüğe sıralayın ardından df'in indexlerini sıfırlayın.\n",
    "8) Elinizdeki df'den en küçük 5 acceralation'a sahip olan arabaları getirin."
   ]
  },
  {
   "cell_type": "code",
   "execution_count": 2,
   "id": "89cc0d48",
   "metadata": {},
   "outputs": [],
   "source": [
    "import pandas as pd\n",
    "import numpy as np"
   ]
  },
  {
   "cell_type": "code",
   "execution_count": 3,
   "id": "47421d6a",
   "metadata": {},
   "outputs": [
    {
     "data": {
      "application/vnd.microsoft.datawrangler.viewer.v0+json": {
       "columns": [
        {
         "name": "index",
         "rawType": "int64",
         "type": "integer"
        },
        {
         "name": "mpg",
         "rawType": "float64",
         "type": "float"
        },
        {
         "name": "cylinders",
         "rawType": "int64",
         "type": "integer"
        },
        {
         "name": "displacement",
         "rawType": "float64",
         "type": "float"
        },
        {
         "name": "horsepower",
         "rawType": "object",
         "type": "string"
        },
        {
         "name": "weight",
         "rawType": "int64",
         "type": "integer"
        },
        {
         "name": "acceleration",
         "rawType": "float64",
         "type": "float"
        },
        {
         "name": "model_year",
         "rawType": "int64",
         "type": "integer"
        },
        {
         "name": "origin",
         "rawType": "int64",
         "type": "integer"
        },
        {
         "name": "name",
         "rawType": "object",
         "type": "string"
        }
       ],
       "ref": "4701f0a4-fd62-4dea-a6ae-aff5bac4fbb1",
       "rows": [
        [
         "0",
         "18.0",
         "8",
         "307.0",
         "130",
         "3504",
         "12.0",
         "70",
         "1",
         "chevrolet chevelle malibu"
        ],
        [
         "1",
         "15.0",
         "8",
         "350.0",
         "165",
         "3693",
         "11.5",
         "70",
         "1",
         "buick skylark 320"
        ],
        [
         "2",
         "18.0",
         "8",
         "318.0",
         "150",
         "3436",
         "11.0",
         "70",
         "1",
         "plymouth satellite"
        ],
        [
         "3",
         "16.0",
         "8",
         "304.0",
         "150",
         "3433",
         "12.0",
         "70",
         "1",
         "amc rebel sst"
        ],
        [
         "4",
         "17.0",
         "8",
         "302.0",
         "140",
         "3449",
         "10.5",
         "70",
         "1",
         "ford torino"
        ]
       ],
       "shape": {
        "columns": 9,
        "rows": 5
       }
      },
      "text/html": [
       "<div>\n",
       "<style scoped>\n",
       "    .dataframe tbody tr th:only-of-type {\n",
       "        vertical-align: middle;\n",
       "    }\n",
       "\n",
       "    .dataframe tbody tr th {\n",
       "        vertical-align: top;\n",
       "    }\n",
       "\n",
       "    .dataframe thead th {\n",
       "        text-align: right;\n",
       "    }\n",
       "</style>\n",
       "<table border=\"1\" class=\"dataframe\">\n",
       "  <thead>\n",
       "    <tr style=\"text-align: right;\">\n",
       "      <th></th>\n",
       "      <th>mpg</th>\n",
       "      <th>cylinders</th>\n",
       "      <th>displacement</th>\n",
       "      <th>horsepower</th>\n",
       "      <th>weight</th>\n",
       "      <th>acceleration</th>\n",
       "      <th>model_year</th>\n",
       "      <th>origin</th>\n",
       "      <th>name</th>\n",
       "    </tr>\n",
       "  </thead>\n",
       "  <tbody>\n",
       "    <tr>\n",
       "      <th>0</th>\n",
       "      <td>18.0</td>\n",
       "      <td>8</td>\n",
       "      <td>307.0</td>\n",
       "      <td>130</td>\n",
       "      <td>3504</td>\n",
       "      <td>12.0</td>\n",
       "      <td>70</td>\n",
       "      <td>1</td>\n",
       "      <td>chevrolet chevelle malibu</td>\n",
       "    </tr>\n",
       "    <tr>\n",
       "      <th>1</th>\n",
       "      <td>15.0</td>\n",
       "      <td>8</td>\n",
       "      <td>350.0</td>\n",
       "      <td>165</td>\n",
       "      <td>3693</td>\n",
       "      <td>11.5</td>\n",
       "      <td>70</td>\n",
       "      <td>1</td>\n",
       "      <td>buick skylark 320</td>\n",
       "    </tr>\n",
       "    <tr>\n",
       "      <th>2</th>\n",
       "      <td>18.0</td>\n",
       "      <td>8</td>\n",
       "      <td>318.0</td>\n",
       "      <td>150</td>\n",
       "      <td>3436</td>\n",
       "      <td>11.0</td>\n",
       "      <td>70</td>\n",
       "      <td>1</td>\n",
       "      <td>plymouth satellite</td>\n",
       "    </tr>\n",
       "    <tr>\n",
       "      <th>3</th>\n",
       "      <td>16.0</td>\n",
       "      <td>8</td>\n",
       "      <td>304.0</td>\n",
       "      <td>150</td>\n",
       "      <td>3433</td>\n",
       "      <td>12.0</td>\n",
       "      <td>70</td>\n",
       "      <td>1</td>\n",
       "      <td>amc rebel sst</td>\n",
       "    </tr>\n",
       "    <tr>\n",
       "      <th>4</th>\n",
       "      <td>17.0</td>\n",
       "      <td>8</td>\n",
       "      <td>302.0</td>\n",
       "      <td>140</td>\n",
       "      <td>3449</td>\n",
       "      <td>10.5</td>\n",
       "      <td>70</td>\n",
       "      <td>1</td>\n",
       "      <td>ford torino</td>\n",
       "    </tr>\n",
       "  </tbody>\n",
       "</table>\n",
       "</div>"
      ],
      "text/plain": [
       "    mpg  cylinders  displacement horsepower  weight  acceleration  model_year  \\\n",
       "0  18.0          8         307.0        130    3504          12.0          70   \n",
       "1  15.0          8         350.0        165    3693          11.5          70   \n",
       "2  18.0          8         318.0        150    3436          11.0          70   \n",
       "3  16.0          8         304.0        150    3433          12.0          70   \n",
       "4  17.0          8         302.0        140    3449          10.5          70   \n",
       "\n",
       "   origin                       name  \n",
       "0       1  chevrolet chevelle malibu  \n",
       "1       1          buick skylark 320  \n",
       "2       1         plymouth satellite  \n",
       "3       1              amc rebel sst  \n",
       "4       1                ford torino  "
      ]
     },
     "execution_count": 3,
     "metadata": {},
     "output_type": "execute_result"
    }
   ],
   "source": [
    "df_mpg = pd.read_csv(\"mpg.csv\")\n",
    "df_mpg.head()"
   ]
  },
  {
   "cell_type": "code",
   "execution_count": 5,
   "id": "2a1a118f",
   "metadata": {},
   "outputs": [
    {
     "data": {
      "application/vnd.microsoft.datawrangler.viewer.v0+json": {
       "columns": [
        {
         "name": "index",
         "rawType": "object",
         "type": "string"
        },
        {
         "name": "mpg",
         "rawType": "float64",
         "type": "float"
        },
        {
         "name": "cylinders",
         "rawType": "float64",
         "type": "float"
        },
        {
         "name": "displacement",
         "rawType": "float64",
         "type": "float"
        },
        {
         "name": "weight",
         "rawType": "float64",
         "type": "float"
        },
        {
         "name": "acceleration",
         "rawType": "float64",
         "type": "float"
        },
        {
         "name": "model_year",
         "rawType": "float64",
         "type": "float"
        },
        {
         "name": "origin",
         "rawType": "float64",
         "type": "float"
        }
       ],
       "ref": "de3c68a0-5cfa-4838-8c8d-77e9031802a2",
       "rows": [
        [
         "mpg",
         "1.0",
         "-0.7753962854205539",
         "-0.8042028248058979",
         "-0.8317409332443344",
         "0.42028891210165054",
         "0.5792671330833092",
         "0.5634503597738431"
        ],
        [
         "cylinders",
         "-0.7753962854205539",
         "1.0",
         "0.9507213901392415",
         "0.8960167954533944",
         "-0.5054194890521758",
         "-0.34874579661359445",
         "-0.5625433459092405"
        ],
        [
         "displacement",
         "-0.8042028248058979",
         "0.9507213901392415",
         "1.0",
         "0.932824146841634",
         "-0.5436840835009299",
         "-0.3701641610793247",
         "-0.6094093990604151"
        ],
        [
         "weight",
         "-0.8317409332443344",
         "0.8960167954533944",
         "0.932824146841634",
         "1.0",
         "-0.4174573199403932",
         "-0.3065643342832892",
         "-0.5810239139727479"
        ],
        [
         "acceleration",
         "0.42028891210165054",
         "-0.5054194890521758",
         "-0.5436840835009299",
         "-0.4174573199403932",
         "1.0",
         "0.28813695429949115",
         "0.20587300741876546"
        ],
        [
         "model_year",
         "0.5792671330833092",
         "-0.34874579661359445",
         "-0.3701641610793247",
         "-0.3065643342832892",
         "0.28813695429949115",
         "1.0",
         "0.18066219530959746"
        ],
        [
         "origin",
         "0.5634503597738431",
         "-0.5625433459092405",
         "-0.6094093990604151",
         "-0.5810239139727479",
         "0.20587300741876546",
         "0.18066219530959746",
         "1.0"
        ]
       ],
       "shape": {
        "columns": 7,
        "rows": 7
       }
      },
      "text/html": [
       "<div>\n",
       "<style scoped>\n",
       "    .dataframe tbody tr th:only-of-type {\n",
       "        vertical-align: middle;\n",
       "    }\n",
       "\n",
       "    .dataframe tbody tr th {\n",
       "        vertical-align: top;\n",
       "    }\n",
       "\n",
       "    .dataframe thead th {\n",
       "        text-align: right;\n",
       "    }\n",
       "</style>\n",
       "<table border=\"1\" class=\"dataframe\">\n",
       "  <thead>\n",
       "    <tr style=\"text-align: right;\">\n",
       "      <th></th>\n",
       "      <th>mpg</th>\n",
       "      <th>cylinders</th>\n",
       "      <th>displacement</th>\n",
       "      <th>weight</th>\n",
       "      <th>acceleration</th>\n",
       "      <th>model_year</th>\n",
       "      <th>origin</th>\n",
       "    </tr>\n",
       "  </thead>\n",
       "  <tbody>\n",
       "    <tr>\n",
       "      <th>mpg</th>\n",
       "      <td>1.000000</td>\n",
       "      <td>-0.775396</td>\n",
       "      <td>-0.804203</td>\n",
       "      <td>-0.831741</td>\n",
       "      <td>0.420289</td>\n",
       "      <td>0.579267</td>\n",
       "      <td>0.563450</td>\n",
       "    </tr>\n",
       "    <tr>\n",
       "      <th>cylinders</th>\n",
       "      <td>-0.775396</td>\n",
       "      <td>1.000000</td>\n",
       "      <td>0.950721</td>\n",
       "      <td>0.896017</td>\n",
       "      <td>-0.505419</td>\n",
       "      <td>-0.348746</td>\n",
       "      <td>-0.562543</td>\n",
       "    </tr>\n",
       "    <tr>\n",
       "      <th>displacement</th>\n",
       "      <td>-0.804203</td>\n",
       "      <td>0.950721</td>\n",
       "      <td>1.000000</td>\n",
       "      <td>0.932824</td>\n",
       "      <td>-0.543684</td>\n",
       "      <td>-0.370164</td>\n",
       "      <td>-0.609409</td>\n",
       "    </tr>\n",
       "    <tr>\n",
       "      <th>weight</th>\n",
       "      <td>-0.831741</td>\n",
       "      <td>0.896017</td>\n",
       "      <td>0.932824</td>\n",
       "      <td>1.000000</td>\n",
       "      <td>-0.417457</td>\n",
       "      <td>-0.306564</td>\n",
       "      <td>-0.581024</td>\n",
       "    </tr>\n",
       "    <tr>\n",
       "      <th>acceleration</th>\n",
       "      <td>0.420289</td>\n",
       "      <td>-0.505419</td>\n",
       "      <td>-0.543684</td>\n",
       "      <td>-0.417457</td>\n",
       "      <td>1.000000</td>\n",
       "      <td>0.288137</td>\n",
       "      <td>0.205873</td>\n",
       "    </tr>\n",
       "    <tr>\n",
       "      <th>model_year</th>\n",
       "      <td>0.579267</td>\n",
       "      <td>-0.348746</td>\n",
       "      <td>-0.370164</td>\n",
       "      <td>-0.306564</td>\n",
       "      <td>0.288137</td>\n",
       "      <td>1.000000</td>\n",
       "      <td>0.180662</td>\n",
       "    </tr>\n",
       "    <tr>\n",
       "      <th>origin</th>\n",
       "      <td>0.563450</td>\n",
       "      <td>-0.562543</td>\n",
       "      <td>-0.609409</td>\n",
       "      <td>-0.581024</td>\n",
       "      <td>0.205873</td>\n",
       "      <td>0.180662</td>\n",
       "      <td>1.000000</td>\n",
       "    </tr>\n",
       "  </tbody>\n",
       "</table>\n",
       "</div>"
      ],
      "text/plain": [
       "                   mpg  cylinders  displacement    weight  acceleration  \\\n",
       "mpg           1.000000  -0.775396     -0.804203 -0.831741      0.420289   \n",
       "cylinders    -0.775396   1.000000      0.950721  0.896017     -0.505419   \n",
       "displacement -0.804203   0.950721      1.000000  0.932824     -0.543684   \n",
       "weight       -0.831741   0.896017      0.932824  1.000000     -0.417457   \n",
       "acceleration  0.420289  -0.505419     -0.543684 -0.417457      1.000000   \n",
       "model_year    0.579267  -0.348746     -0.370164 -0.306564      0.288137   \n",
       "origin        0.563450  -0.562543     -0.609409 -0.581024      0.205873   \n",
       "\n",
       "              model_year    origin  \n",
       "mpg             0.579267  0.563450  \n",
       "cylinders      -0.348746 -0.562543  \n",
       "displacement   -0.370164 -0.609409  \n",
       "weight         -0.306564 -0.581024  \n",
       "acceleration    0.288137  0.205873  \n",
       "model_year      1.000000  0.180662  \n",
       "origin          0.180662  1.000000  "
      ]
     },
     "execution_count": 5,
     "metadata": {},
     "output_type": "execute_result"
    }
   ],
   "source": [
    "df_mpg.corr(numeric_only = True)"
   ]
  },
  {
   "cell_type": "code",
   "execution_count": 18,
   "id": "830a773a",
   "metadata": {},
   "outputs": [
    {
     "data": {
      "application/vnd.microsoft.datawrangler.viewer.v0+json": {
       "columns": [
        {
         "name": "index",
         "rawType": "object",
         "type": "string"
        },
        {
         "name": "mpg",
         "rawType": "float64",
         "type": "float"
        },
        {
         "name": "cylinders",
         "rawType": "float64",
         "type": "float"
        }
       ],
       "ref": "809a0a9a-0a2e-4d41-a83c-078eed175a74",
       "rows": [
        [
         "mpg",
         "1.0",
         "-0.7753962854205539"
        ],
        [
         "cylinders",
         "-0.7753962854205539",
         "1.0"
        ]
       ],
       "shape": {
        "columns": 2,
        "rows": 2
       }
      },
      "text/html": [
       "<div>\n",
       "<style scoped>\n",
       "    .dataframe tbody tr th:only-of-type {\n",
       "        vertical-align: middle;\n",
       "    }\n",
       "\n",
       "    .dataframe tbody tr th {\n",
       "        vertical-align: top;\n",
       "    }\n",
       "\n",
       "    .dataframe thead th {\n",
       "        text-align: right;\n",
       "    }\n",
       "</style>\n",
       "<table border=\"1\" class=\"dataframe\">\n",
       "  <thead>\n",
       "    <tr style=\"text-align: right;\">\n",
       "      <th></th>\n",
       "      <th>mpg</th>\n",
       "      <th>cylinders</th>\n",
       "    </tr>\n",
       "  </thead>\n",
       "  <tbody>\n",
       "    <tr>\n",
       "      <th>mpg</th>\n",
       "      <td>1.000000</td>\n",
       "      <td>-0.775396</td>\n",
       "    </tr>\n",
       "    <tr>\n",
       "      <th>cylinders</th>\n",
       "      <td>-0.775396</td>\n",
       "      <td>1.000000</td>\n",
       "    </tr>\n",
       "  </tbody>\n",
       "</table>\n",
       "</div>"
      ],
      "text/plain": [
       "                mpg  cylinders\n",
       "mpg        1.000000  -0.775396\n",
       "cylinders -0.775396   1.000000"
      ]
     },
     "execution_count": 18,
     "metadata": {},
     "output_type": "execute_result"
    }
   ],
   "source": [
    "df_mpg[[\"mpg\", \"cylinders\"]].corr(numeric_only = True)"
   ]
  },
  {
   "cell_type": "code",
   "execution_count": 19,
   "id": "041fdbc9",
   "metadata": {},
   "outputs": [
    {
     "data": {
      "text/plain": [
       "array([8, 4, 6, 3, 5])"
      ]
     },
     "execution_count": 19,
     "metadata": {},
     "output_type": "execute_result"
    }
   ],
   "source": [
    "df_mpg[\"cylinders\"].unique()"
   ]
  },
  {
   "cell_type": "code",
   "execution_count": 21,
   "id": "ac87ba25",
   "metadata": {},
   "outputs": [
    {
     "data": {
      "application/vnd.microsoft.datawrangler.viewer.v0+json": {
       "columns": [
        {
         "name": "cylinders",
         "rawType": "int64",
         "type": "integer"
        },
        {
         "name": "count",
         "rawType": "int64",
         "type": "integer"
        }
       ],
       "ref": "bd6ea890-f52f-4abf-8910-48b31dceba25",
       "rows": [
        [
         "4",
         "204"
        ],
        [
         "8",
         "103"
        ],
        [
         "6",
         "84"
        ],
        [
         "3",
         "4"
        ],
        [
         "5",
         "3"
        ]
       ],
       "shape": {
        "columns": 1,
        "rows": 5
       }
      },
      "text/plain": [
       "cylinders\n",
       "4    204\n",
       "8    103\n",
       "6     84\n",
       "3      4\n",
       "5      3\n",
       "Name: count, dtype: int64"
      ]
     },
     "execution_count": 21,
     "metadata": {},
     "output_type": "execute_result"
    }
   ],
   "source": [
    "df_mpg[\"cylinders\"].value_counts()"
   ]
  },
  {
   "cell_type": "code",
   "execution_count": 23,
   "id": "887bdfb8",
   "metadata": {},
   "outputs": [
    {
     "data": {
      "application/vnd.microsoft.datawrangler.viewer.v0+json": {
       "columns": [
        {
         "name": "index",
         "rawType": "int64",
         "type": "integer"
        },
        {
         "name": "mpg",
         "rawType": "float64",
         "type": "float"
        },
        {
         "name": "cylinders",
         "rawType": "int64",
         "type": "integer"
        },
        {
         "name": "displacement",
         "rawType": "float64",
         "type": "float"
        },
        {
         "name": "horsepower",
         "rawType": "object",
         "type": "string"
        },
        {
         "name": "weight",
         "rawType": "int64",
         "type": "integer"
        },
        {
         "name": "acceleration",
         "rawType": "float64",
         "type": "float"
        },
        {
         "name": "model_year",
         "rawType": "int64",
         "type": "integer"
        },
        {
         "name": "origin",
         "rawType": "int64",
         "type": "integer"
        },
        {
         "name": "name",
         "rawType": "object",
         "type": "string"
        }
       ],
       "ref": "9c94a395-4dfe-4e09-a4f6-ad5d231e8e51",
       "rows": [
        [
         "152",
         "19.0",
         "6",
         "225.0",
         "95",
         "3264",
         "16.0",
         "75",
         "1",
         "plymouth valiant custom"
        ],
        [
         "153",
         "18.0",
         "6",
         "250.0",
         "105",
         "3459",
         "16.0",
         "75",
         "1",
         "chevrolet nova"
        ],
        [
         "154",
         "15.0",
         "6",
         "250.0",
         "72",
         "3432",
         "21.0",
         "75",
         "1",
         "mercury monarch"
        ],
        [
         "155",
         "15.0",
         "6",
         "250.0",
         "72",
         "3158",
         "19.5",
         "75",
         "1",
         "ford maverick"
        ],
        [
         "156",
         "16.0",
         "8",
         "400.0",
         "170",
         "4668",
         "11.5",
         "75",
         "1",
         "pontiac catalina"
        ],
        [
         "157",
         "15.0",
         "8",
         "350.0",
         "145",
         "4440",
         "14.0",
         "75",
         "1",
         "chevrolet bel air"
        ],
        [
         "158",
         "16.0",
         "8",
         "318.0",
         "150",
         "4498",
         "14.5",
         "75",
         "1",
         "plymouth grand fury"
        ],
        [
         "159",
         "14.0",
         "8",
         "351.0",
         "148",
         "4657",
         "13.5",
         "75",
         "1",
         "ford ltd"
        ],
        [
         "160",
         "17.0",
         "6",
         "231.0",
         "110",
         "3907",
         "21.0",
         "75",
         "1",
         "buick century"
        ],
        [
         "161",
         "16.0",
         "6",
         "250.0",
         "105",
         "3897",
         "18.5",
         "75",
         "1",
         "chevroelt chevelle malibu"
        ],
        [
         "162",
         "15.0",
         "6",
         "258.0",
         "110",
         "3730",
         "19.0",
         "75",
         "1",
         "amc matador"
        ],
        [
         "163",
         "18.0",
         "6",
         "225.0",
         "95",
         "3785",
         "19.0",
         "75",
         "1",
         "plymouth fury"
        ],
        [
         "164",
         "21.0",
         "6",
         "231.0",
         "110",
         "3039",
         "15.0",
         "75",
         "1",
         "buick skyhawk"
        ],
        [
         "165",
         "20.0",
         "8",
         "262.0",
         "110",
         "3221",
         "13.5",
         "75",
         "1",
         "chevrolet monza 2+2"
        ],
        [
         "166",
         "13.0",
         "8",
         "302.0",
         "129",
         "3169",
         "12.0",
         "75",
         "1",
         "ford mustang ii"
        ],
        [
         "167",
         "29.0",
         "4",
         "97.0",
         "75",
         "2171",
         "16.0",
         "75",
         "3",
         "toyota corolla"
        ],
        [
         "168",
         "23.0",
         "4",
         "140.0",
         "83",
         "2639",
         "17.0",
         "75",
         "1",
         "ford pinto"
        ],
        [
         "169",
         "20.0",
         "6",
         "232.0",
         "100",
         "2914",
         "16.0",
         "75",
         "1",
         "amc gremlin"
        ],
        [
         "170",
         "23.0",
         "4",
         "140.0",
         "78",
         "2592",
         "18.5",
         "75",
         "1",
         "pontiac astro"
        ],
        [
         "171",
         "24.0",
         "4",
         "134.0",
         "96",
         "2702",
         "13.5",
         "75",
         "3",
         "toyota corona"
        ],
        [
         "172",
         "25.0",
         "4",
         "90.0",
         "71",
         "2223",
         "16.5",
         "75",
         "2",
         "volkswagen dasher"
        ],
        [
         "173",
         "24.0",
         "4",
         "119.0",
         "97",
         "2545",
         "17.0",
         "75",
         "3",
         "datsun 710"
        ],
        [
         "174",
         "18.0",
         "6",
         "171.0",
         "97",
         "2984",
         "14.5",
         "75",
         "1",
         "ford pinto"
        ],
        [
         "175",
         "29.0",
         "4",
         "90.0",
         "70",
         "1937",
         "14.0",
         "75",
         "2",
         "volkswagen rabbit"
        ],
        [
         "176",
         "19.0",
         "6",
         "232.0",
         "90",
         "3211",
         "17.0",
         "75",
         "1",
         "amc pacer"
        ],
        [
         "177",
         "23.0",
         "4",
         "115.0",
         "95",
         "2694",
         "15.0",
         "75",
         "2",
         "audi 100ls"
        ],
        [
         "178",
         "23.0",
         "4",
         "120.0",
         "88",
         "2957",
         "17.0",
         "75",
         "2",
         "peugeot 504"
        ],
        [
         "179",
         "22.0",
         "4",
         "121.0",
         "98",
         "2945",
         "14.5",
         "75",
         "2",
         "volvo 244dl"
        ],
        [
         "180",
         "25.0",
         "4",
         "121.0",
         "115",
         "2671",
         "13.5",
         "75",
         "2",
         "saab 99le"
        ],
        [
         "181",
         "33.0",
         "4",
         "91.0",
         "53",
         "1795",
         "17.5",
         "75",
         "3",
         "honda civic cvcc"
        ],
        [
         "182",
         "28.0",
         "4",
         "107.0",
         "86",
         "2464",
         "15.5",
         "76",
         "2",
         "fiat 131"
        ],
        [
         "183",
         "25.0",
         "4",
         "116.0",
         "81",
         "2220",
         "16.9",
         "76",
         "2",
         "opel 1900"
        ],
        [
         "184",
         "25.0",
         "4",
         "140.0",
         "92",
         "2572",
         "14.9",
         "76",
         "1",
         "capri ii"
        ],
        [
         "185",
         "26.0",
         "4",
         "98.0",
         "79",
         "2255",
         "17.7",
         "76",
         "1",
         "dodge colt"
        ],
        [
         "186",
         "27.0",
         "4",
         "101.0",
         "83",
         "2202",
         "15.3",
         "76",
         "2",
         "renault 12tl"
        ],
        [
         "187",
         "17.5",
         "8",
         "305.0",
         "140",
         "4215",
         "13.0",
         "76",
         "1",
         "chevrolet chevelle malibu classic"
        ],
        [
         "188",
         "16.0",
         "8",
         "318.0",
         "150",
         "4190",
         "13.0",
         "76",
         "1",
         "dodge coronet brougham"
        ],
        [
         "189",
         "15.5",
         "8",
         "304.0",
         "120",
         "3962",
         "13.9",
         "76",
         "1",
         "amc matador"
        ],
        [
         "190",
         "14.5",
         "8",
         "351.0",
         "152",
         "4215",
         "12.8",
         "76",
         "1",
         "ford gran torino"
        ],
        [
         "191",
         "22.0",
         "6",
         "225.0",
         "100",
         "3233",
         "15.4",
         "76",
         "1",
         "plymouth valiant"
        ],
        [
         "192",
         "22.0",
         "6",
         "250.0",
         "105",
         "3353",
         "14.5",
         "76",
         "1",
         "chevrolet nova"
        ],
        [
         "193",
         "24.0",
         "6",
         "200.0",
         "81",
         "3012",
         "17.6",
         "76",
         "1",
         "ford maverick"
        ],
        [
         "194",
         "22.5",
         "6",
         "232.0",
         "90",
         "3085",
         "17.6",
         "76",
         "1",
         "amc hornet"
        ],
        [
         "195",
         "29.0",
         "4",
         "85.0",
         "52",
         "2035",
         "22.2",
         "76",
         "1",
         "chevrolet chevette"
        ],
        [
         "196",
         "24.5",
         "4",
         "98.0",
         "60",
         "2164",
         "22.1",
         "76",
         "1",
         "chevrolet woody"
        ],
        [
         "197",
         "29.0",
         "4",
         "90.0",
         "70",
         "1937",
         "14.2",
         "76",
         "2",
         "vw rabbit"
        ],
        [
         "198",
         "33.0",
         "4",
         "91.0",
         "53",
         "1795",
         "17.4",
         "76",
         "3",
         "honda civic"
        ],
        [
         "199",
         "20.0",
         "6",
         "225.0",
         "100",
         "3651",
         "17.7",
         "76",
         "1",
         "dodge aspen se"
        ],
        [
         "200",
         "18.0",
         "6",
         "250.0",
         "78",
         "3574",
         "21.0",
         "76",
         "1",
         "ford granada ghia"
        ],
        [
         "201",
         "18.5",
         "6",
         "250.0",
         "110",
         "3645",
         "16.2",
         "76",
         "1",
         "pontiac ventura sj"
        ]
       ],
       "shape": {
        "columns": 9,
        "rows": 186
       }
      },
      "text/html": [
       "<div>\n",
       "<style scoped>\n",
       "    .dataframe tbody tr th:only-of-type {\n",
       "        vertical-align: middle;\n",
       "    }\n",
       "\n",
       "    .dataframe tbody tr th {\n",
       "        vertical-align: top;\n",
       "    }\n",
       "\n",
       "    .dataframe thead th {\n",
       "        text-align: right;\n",
       "    }\n",
       "</style>\n",
       "<table border=\"1\" class=\"dataframe\">\n",
       "  <thead>\n",
       "    <tr style=\"text-align: right;\">\n",
       "      <th></th>\n",
       "      <th>mpg</th>\n",
       "      <th>cylinders</th>\n",
       "      <th>displacement</th>\n",
       "      <th>horsepower</th>\n",
       "      <th>weight</th>\n",
       "      <th>acceleration</th>\n",
       "      <th>model_year</th>\n",
       "      <th>origin</th>\n",
       "      <th>name</th>\n",
       "    </tr>\n",
       "  </thead>\n",
       "  <tbody>\n",
       "    <tr>\n",
       "      <th>152</th>\n",
       "      <td>19.0</td>\n",
       "      <td>6</td>\n",
       "      <td>225.0</td>\n",
       "      <td>95</td>\n",
       "      <td>3264</td>\n",
       "      <td>16.0</td>\n",
       "      <td>75</td>\n",
       "      <td>1</td>\n",
       "      <td>plymouth valiant custom</td>\n",
       "    </tr>\n",
       "    <tr>\n",
       "      <th>153</th>\n",
       "      <td>18.0</td>\n",
       "      <td>6</td>\n",
       "      <td>250.0</td>\n",
       "      <td>105</td>\n",
       "      <td>3459</td>\n",
       "      <td>16.0</td>\n",
       "      <td>75</td>\n",
       "      <td>1</td>\n",
       "      <td>chevrolet nova</td>\n",
       "    </tr>\n",
       "    <tr>\n",
       "      <th>154</th>\n",
       "      <td>15.0</td>\n",
       "      <td>6</td>\n",
       "      <td>250.0</td>\n",
       "      <td>72</td>\n",
       "      <td>3432</td>\n",
       "      <td>21.0</td>\n",
       "      <td>75</td>\n",
       "      <td>1</td>\n",
       "      <td>mercury monarch</td>\n",
       "    </tr>\n",
       "    <tr>\n",
       "      <th>155</th>\n",
       "      <td>15.0</td>\n",
       "      <td>6</td>\n",
       "      <td>250.0</td>\n",
       "      <td>72</td>\n",
       "      <td>3158</td>\n",
       "      <td>19.5</td>\n",
       "      <td>75</td>\n",
       "      <td>1</td>\n",
       "      <td>ford maverick</td>\n",
       "    </tr>\n",
       "    <tr>\n",
       "      <th>156</th>\n",
       "      <td>16.0</td>\n",
       "      <td>8</td>\n",
       "      <td>400.0</td>\n",
       "      <td>170</td>\n",
       "      <td>4668</td>\n",
       "      <td>11.5</td>\n",
       "      <td>75</td>\n",
       "      <td>1</td>\n",
       "      <td>pontiac catalina</td>\n",
       "    </tr>\n",
       "    <tr>\n",
       "      <th>...</th>\n",
       "      <td>...</td>\n",
       "      <td>...</td>\n",
       "      <td>...</td>\n",
       "      <td>...</td>\n",
       "      <td>...</td>\n",
       "      <td>...</td>\n",
       "      <td>...</td>\n",
       "      <td>...</td>\n",
       "      <td>...</td>\n",
       "    </tr>\n",
       "    <tr>\n",
       "      <th>333</th>\n",
       "      <td>32.7</td>\n",
       "      <td>6</td>\n",
       "      <td>168.0</td>\n",
       "      <td>132</td>\n",
       "      <td>2910</td>\n",
       "      <td>11.4</td>\n",
       "      <td>80</td>\n",
       "      <td>3</td>\n",
       "      <td>datsun 280-zx</td>\n",
       "    </tr>\n",
       "    <tr>\n",
       "      <th>334</th>\n",
       "      <td>23.7</td>\n",
       "      <td>3</td>\n",
       "      <td>70.0</td>\n",
       "      <td>100</td>\n",
       "      <td>2420</td>\n",
       "      <td>12.5</td>\n",
       "      <td>80</td>\n",
       "      <td>3</td>\n",
       "      <td>mazda rx-7 gs</td>\n",
       "    </tr>\n",
       "    <tr>\n",
       "      <th>335</th>\n",
       "      <td>35.0</td>\n",
       "      <td>4</td>\n",
       "      <td>122.0</td>\n",
       "      <td>88</td>\n",
       "      <td>2500</td>\n",
       "      <td>15.1</td>\n",
       "      <td>80</td>\n",
       "      <td>2</td>\n",
       "      <td>triumph tr7 coupe</td>\n",
       "    </tr>\n",
       "    <tr>\n",
       "      <th>336</th>\n",
       "      <td>23.6</td>\n",
       "      <td>4</td>\n",
       "      <td>140.0</td>\n",
       "      <td>?</td>\n",
       "      <td>2905</td>\n",
       "      <td>14.3</td>\n",
       "      <td>80</td>\n",
       "      <td>1</td>\n",
       "      <td>ford mustang cobra</td>\n",
       "    </tr>\n",
       "    <tr>\n",
       "      <th>337</th>\n",
       "      <td>32.4</td>\n",
       "      <td>4</td>\n",
       "      <td>107.0</td>\n",
       "      <td>72</td>\n",
       "      <td>2290</td>\n",
       "      <td>17.0</td>\n",
       "      <td>80</td>\n",
       "      <td>3</td>\n",
       "      <td>honda accord</td>\n",
       "    </tr>\n",
       "  </tbody>\n",
       "</table>\n",
       "<p>186 rows × 9 columns</p>\n",
       "</div>"
      ],
      "text/plain": [
       "      mpg  cylinders  displacement horsepower  weight  acceleration  \\\n",
       "152  19.0          6         225.0         95    3264          16.0   \n",
       "153  18.0          6         250.0        105    3459          16.0   \n",
       "154  15.0          6         250.0         72    3432          21.0   \n",
       "155  15.0          6         250.0         72    3158          19.5   \n",
       "156  16.0          8         400.0        170    4668          11.5   \n",
       "..    ...        ...           ...        ...     ...           ...   \n",
       "333  32.7          6         168.0        132    2910          11.4   \n",
       "334  23.7          3          70.0        100    2420          12.5   \n",
       "335  35.0          4         122.0         88    2500          15.1   \n",
       "336  23.6          4         140.0          ?    2905          14.3   \n",
       "337  32.4          4         107.0         72    2290          17.0   \n",
       "\n",
       "     model_year  origin                     name  \n",
       "152          75       1  plymouth valiant custom  \n",
       "153          75       1           chevrolet nova  \n",
       "154          75       1          mercury monarch  \n",
       "155          75       1            ford maverick  \n",
       "156          75       1         pontiac catalina  \n",
       "..          ...     ...                      ...  \n",
       "333          80       3            datsun 280-zx  \n",
       "334          80       3            mazda rx-7 gs  \n",
       "335          80       2        triumph tr7 coupe  \n",
       "336          80       1       ford mustang cobra  \n",
       "337          80       3             honda accord  \n",
       "\n",
       "[186 rows x 9 columns]"
      ]
     },
     "execution_count": 23,
     "metadata": {},
     "output_type": "execute_result"
    }
   ],
   "source": [
    "df_mpg[df_mpg[\"model_year\"].between(75, 80, inclusive = \"both\")]"
   ]
  },
  {
   "cell_type": "code",
   "execution_count": 27,
   "id": "d69aa380",
   "metadata": {},
   "outputs": [
    {
     "data": {
      "application/vnd.microsoft.datawrangler.viewer.v0+json": {
       "columns": [
        {
         "name": "index",
         "rawType": "int64",
         "type": "integer"
        },
        {
         "name": "mpg",
         "rawType": "float64",
         "type": "float"
        },
        {
         "name": "cylinders",
         "rawType": "int64",
         "type": "integer"
        },
        {
         "name": "displacement",
         "rawType": "float64",
         "type": "float"
        },
        {
         "name": "horsepower",
         "rawType": "object",
         "type": "string"
        },
        {
         "name": "weight",
         "rawType": "int64",
         "type": "integer"
        },
        {
         "name": "acceleration",
         "rawType": "float64",
         "type": "float"
        },
        {
         "name": "model_year",
         "rawType": "int64",
         "type": "integer"
        },
        {
         "name": "origin",
         "rawType": "int64",
         "type": "integer"
        },
        {
         "name": "name",
         "rawType": "object",
         "type": "string"
        }
       ],
       "ref": "947af2cf-6ba0-4c2a-885a-e3437d25a915",
       "rows": [
        [
         "1",
         "15.0",
         "8",
         "350.0",
         "165",
         "3693",
         "11.5",
         "70",
         "1",
         "buick skylark 320"
        ],
        [
         "10",
         "15.0",
         "8",
         "383.0",
         "170",
         "3563",
         "10.0",
         "70",
         "1",
         "dodge challenger se"
        ],
        [
         "11",
         "14.0",
         "8",
         "340.0",
         "160",
         "3609",
         "8.0",
         "70",
         "1",
         "plymouth 'cuda 340"
        ],
        [
         "38",
         "14.0",
         "8",
         "350.0",
         "165",
         "4209",
         "12.0",
         "71",
         "1",
         "chevrolet impala"
        ],
        [
         "39",
         "14.0",
         "8",
         "400.0",
         "175",
         "4464",
         "11.5",
         "71",
         "1",
         "pontiac catalina brougham"
        ],
        [
         "43",
         "13.0",
         "8",
         "400.0",
         "170",
         "4746",
         "12.0",
         "71",
         "1",
         "ford country squire (sw)"
        ],
        [
         "44",
         "13.0",
         "8",
         "400.0",
         "175",
         "5140",
         "12.0",
         "71",
         "1",
         "pontiac safari (sw)"
        ],
        [
         "62",
         "13.0",
         "8",
         "350.0",
         "165",
         "4274",
         "12.0",
         "72",
         "1",
         "chevrolet impala"
        ],
        [
         "63",
         "14.0",
         "8",
         "400.0",
         "175",
         "4385",
         "12.0",
         "72",
         "1",
         "pontiac catalina"
        ],
        [
         "68",
         "13.0",
         "8",
         "350.0",
         "155",
         "4502",
         "13.5",
         "72",
         "1",
         "buick lesabre custom"
        ],
        [
         "69",
         "12.0",
         "8",
         "350.0",
         "160",
         "4456",
         "13.5",
         "72",
         "1",
         "oldsmobile delta 88 royale"
        ],
        [
         "85",
         "13.0",
         "8",
         "350.0",
         "175",
         "4100",
         "13.0",
         "73",
         "1",
         "buick century 350"
        ],
        [
         "92",
         "13.0",
         "8",
         "351.0",
         "158",
         "4363",
         "13.0",
         "73",
         "1",
         "ford ltd"
        ],
        [
         "96",
         "13.0",
         "8",
         "360.0",
         "175",
         "3821",
         "11.0",
         "73",
         "1",
         "amc ambassador brougham"
        ],
        [
         "104",
         "12.0",
         "8",
         "400.0",
         "167",
         "4906",
         "12.5",
         "73",
         "1",
         "ford country"
        ],
        [
         "105",
         "13.0",
         "8",
         "360.0",
         "170",
         "4654",
         "13.0",
         "73",
         "1",
         "plymouth custom suburb"
        ],
        [
         "156",
         "16.0",
         "8",
         "400.0",
         "170",
         "4668",
         "11.5",
         "75",
         "1",
         "pontiac catalina"
        ],
        [
         "230",
         "15.5",
         "8",
         "350.0",
         "170",
         "4165",
         "11.4",
         "77",
         "1",
         "chevrolet monte carlo landau"
        ],
        [
         "263",
         "17.7",
         "6",
         "231.0",
         "165",
         "3445",
         "13.4",
         "78",
         "1",
         "buick regal sport coupe (turbo)"
        ],
        [
         "289",
         "16.9",
         "8",
         "350.0",
         "155",
         "4360",
         "14.9",
         "79",
         "1",
         "buick estate wagon (sw)"
        ]
       ],
       "shape": {
        "columns": 9,
        "rows": 20
       }
      },
      "text/html": [
       "<div>\n",
       "<style scoped>\n",
       "    .dataframe tbody tr th:only-of-type {\n",
       "        vertical-align: middle;\n",
       "    }\n",
       "\n",
       "    .dataframe tbody tr th {\n",
       "        vertical-align: top;\n",
       "    }\n",
       "\n",
       "    .dataframe thead th {\n",
       "        text-align: right;\n",
       "    }\n",
       "</style>\n",
       "<table border=\"1\" class=\"dataframe\">\n",
       "  <thead>\n",
       "    <tr style=\"text-align: right;\">\n",
       "      <th></th>\n",
       "      <th>mpg</th>\n",
       "      <th>cylinders</th>\n",
       "      <th>displacement</th>\n",
       "      <th>horsepower</th>\n",
       "      <th>weight</th>\n",
       "      <th>acceleration</th>\n",
       "      <th>model_year</th>\n",
       "      <th>origin</th>\n",
       "      <th>name</th>\n",
       "    </tr>\n",
       "  </thead>\n",
       "  <tbody>\n",
       "    <tr>\n",
       "      <th>1</th>\n",
       "      <td>15.0</td>\n",
       "      <td>8</td>\n",
       "      <td>350.0</td>\n",
       "      <td>165</td>\n",
       "      <td>3693</td>\n",
       "      <td>11.5</td>\n",
       "      <td>70</td>\n",
       "      <td>1</td>\n",
       "      <td>buick skylark 320</td>\n",
       "    </tr>\n",
       "    <tr>\n",
       "      <th>10</th>\n",
       "      <td>15.0</td>\n",
       "      <td>8</td>\n",
       "      <td>383.0</td>\n",
       "      <td>170</td>\n",
       "      <td>3563</td>\n",
       "      <td>10.0</td>\n",
       "      <td>70</td>\n",
       "      <td>1</td>\n",
       "      <td>dodge challenger se</td>\n",
       "    </tr>\n",
       "    <tr>\n",
       "      <th>11</th>\n",
       "      <td>14.0</td>\n",
       "      <td>8</td>\n",
       "      <td>340.0</td>\n",
       "      <td>160</td>\n",
       "      <td>3609</td>\n",
       "      <td>8.0</td>\n",
       "      <td>70</td>\n",
       "      <td>1</td>\n",
       "      <td>plymouth 'cuda 340</td>\n",
       "    </tr>\n",
       "    <tr>\n",
       "      <th>38</th>\n",
       "      <td>14.0</td>\n",
       "      <td>8</td>\n",
       "      <td>350.0</td>\n",
       "      <td>165</td>\n",
       "      <td>4209</td>\n",
       "      <td>12.0</td>\n",
       "      <td>71</td>\n",
       "      <td>1</td>\n",
       "      <td>chevrolet impala</td>\n",
       "    </tr>\n",
       "    <tr>\n",
       "      <th>39</th>\n",
       "      <td>14.0</td>\n",
       "      <td>8</td>\n",
       "      <td>400.0</td>\n",
       "      <td>175</td>\n",
       "      <td>4464</td>\n",
       "      <td>11.5</td>\n",
       "      <td>71</td>\n",
       "      <td>1</td>\n",
       "      <td>pontiac catalina brougham</td>\n",
       "    </tr>\n",
       "    <tr>\n",
       "      <th>43</th>\n",
       "      <td>13.0</td>\n",
       "      <td>8</td>\n",
       "      <td>400.0</td>\n",
       "      <td>170</td>\n",
       "      <td>4746</td>\n",
       "      <td>12.0</td>\n",
       "      <td>71</td>\n",
       "      <td>1</td>\n",
       "      <td>ford country squire (sw)</td>\n",
       "    </tr>\n",
       "    <tr>\n",
       "      <th>44</th>\n",
       "      <td>13.0</td>\n",
       "      <td>8</td>\n",
       "      <td>400.0</td>\n",
       "      <td>175</td>\n",
       "      <td>5140</td>\n",
       "      <td>12.0</td>\n",
       "      <td>71</td>\n",
       "      <td>1</td>\n",
       "      <td>pontiac safari (sw)</td>\n",
       "    </tr>\n",
       "    <tr>\n",
       "      <th>62</th>\n",
       "      <td>13.0</td>\n",
       "      <td>8</td>\n",
       "      <td>350.0</td>\n",
       "      <td>165</td>\n",
       "      <td>4274</td>\n",
       "      <td>12.0</td>\n",
       "      <td>72</td>\n",
       "      <td>1</td>\n",
       "      <td>chevrolet impala</td>\n",
       "    </tr>\n",
       "    <tr>\n",
       "      <th>63</th>\n",
       "      <td>14.0</td>\n",
       "      <td>8</td>\n",
       "      <td>400.0</td>\n",
       "      <td>175</td>\n",
       "      <td>4385</td>\n",
       "      <td>12.0</td>\n",
       "      <td>72</td>\n",
       "      <td>1</td>\n",
       "      <td>pontiac catalina</td>\n",
       "    </tr>\n",
       "    <tr>\n",
       "      <th>68</th>\n",
       "      <td>13.0</td>\n",
       "      <td>8</td>\n",
       "      <td>350.0</td>\n",
       "      <td>155</td>\n",
       "      <td>4502</td>\n",
       "      <td>13.5</td>\n",
       "      <td>72</td>\n",
       "      <td>1</td>\n",
       "      <td>buick lesabre custom</td>\n",
       "    </tr>\n",
       "    <tr>\n",
       "      <th>69</th>\n",
       "      <td>12.0</td>\n",
       "      <td>8</td>\n",
       "      <td>350.0</td>\n",
       "      <td>160</td>\n",
       "      <td>4456</td>\n",
       "      <td>13.5</td>\n",
       "      <td>72</td>\n",
       "      <td>1</td>\n",
       "      <td>oldsmobile delta 88 royale</td>\n",
       "    </tr>\n",
       "    <tr>\n",
       "      <th>85</th>\n",
       "      <td>13.0</td>\n",
       "      <td>8</td>\n",
       "      <td>350.0</td>\n",
       "      <td>175</td>\n",
       "      <td>4100</td>\n",
       "      <td>13.0</td>\n",
       "      <td>73</td>\n",
       "      <td>1</td>\n",
       "      <td>buick century 350</td>\n",
       "    </tr>\n",
       "    <tr>\n",
       "      <th>92</th>\n",
       "      <td>13.0</td>\n",
       "      <td>8</td>\n",
       "      <td>351.0</td>\n",
       "      <td>158</td>\n",
       "      <td>4363</td>\n",
       "      <td>13.0</td>\n",
       "      <td>73</td>\n",
       "      <td>1</td>\n",
       "      <td>ford ltd</td>\n",
       "    </tr>\n",
       "    <tr>\n",
       "      <th>96</th>\n",
       "      <td>13.0</td>\n",
       "      <td>8</td>\n",
       "      <td>360.0</td>\n",
       "      <td>175</td>\n",
       "      <td>3821</td>\n",
       "      <td>11.0</td>\n",
       "      <td>73</td>\n",
       "      <td>1</td>\n",
       "      <td>amc ambassador brougham</td>\n",
       "    </tr>\n",
       "    <tr>\n",
       "      <th>104</th>\n",
       "      <td>12.0</td>\n",
       "      <td>8</td>\n",
       "      <td>400.0</td>\n",
       "      <td>167</td>\n",
       "      <td>4906</td>\n",
       "      <td>12.5</td>\n",
       "      <td>73</td>\n",
       "      <td>1</td>\n",
       "      <td>ford country</td>\n",
       "    </tr>\n",
       "    <tr>\n",
       "      <th>105</th>\n",
       "      <td>13.0</td>\n",
       "      <td>8</td>\n",
       "      <td>360.0</td>\n",
       "      <td>170</td>\n",
       "      <td>4654</td>\n",
       "      <td>13.0</td>\n",
       "      <td>73</td>\n",
       "      <td>1</td>\n",
       "      <td>plymouth custom suburb</td>\n",
       "    </tr>\n",
       "    <tr>\n",
       "      <th>156</th>\n",
       "      <td>16.0</td>\n",
       "      <td>8</td>\n",
       "      <td>400.0</td>\n",
       "      <td>170</td>\n",
       "      <td>4668</td>\n",
       "      <td>11.5</td>\n",
       "      <td>75</td>\n",
       "      <td>1</td>\n",
       "      <td>pontiac catalina</td>\n",
       "    </tr>\n",
       "    <tr>\n",
       "      <th>230</th>\n",
       "      <td>15.5</td>\n",
       "      <td>8</td>\n",
       "      <td>350.0</td>\n",
       "      <td>170</td>\n",
       "      <td>4165</td>\n",
       "      <td>11.4</td>\n",
       "      <td>77</td>\n",
       "      <td>1</td>\n",
       "      <td>chevrolet monte carlo landau</td>\n",
       "    </tr>\n",
       "    <tr>\n",
       "      <th>263</th>\n",
       "      <td>17.7</td>\n",
       "      <td>6</td>\n",
       "      <td>231.0</td>\n",
       "      <td>165</td>\n",
       "      <td>3445</td>\n",
       "      <td>13.4</td>\n",
       "      <td>78</td>\n",
       "      <td>1</td>\n",
       "      <td>buick regal sport coupe (turbo)</td>\n",
       "    </tr>\n",
       "    <tr>\n",
       "      <th>289</th>\n",
       "      <td>16.9</td>\n",
       "      <td>8</td>\n",
       "      <td>350.0</td>\n",
       "      <td>155</td>\n",
       "      <td>4360</td>\n",
       "      <td>14.9</td>\n",
       "      <td>79</td>\n",
       "      <td>1</td>\n",
       "      <td>buick estate wagon (sw)</td>\n",
       "    </tr>\n",
       "  </tbody>\n",
       "</table>\n",
       "</div>"
      ],
      "text/plain": [
       "      mpg  cylinders  displacement horsepower  weight  acceleration  \\\n",
       "1    15.0          8         350.0        165    3693          11.5   \n",
       "10   15.0          8         383.0        170    3563          10.0   \n",
       "11   14.0          8         340.0        160    3609           8.0   \n",
       "38   14.0          8         350.0        165    4209          12.0   \n",
       "39   14.0          8         400.0        175    4464          11.5   \n",
       "43   13.0          8         400.0        170    4746          12.0   \n",
       "44   13.0          8         400.0        175    5140          12.0   \n",
       "62   13.0          8         350.0        165    4274          12.0   \n",
       "63   14.0          8         400.0        175    4385          12.0   \n",
       "68   13.0          8         350.0        155    4502          13.5   \n",
       "69   12.0          8         350.0        160    4456          13.5   \n",
       "85   13.0          8         350.0        175    4100          13.0   \n",
       "92   13.0          8         351.0        158    4363          13.0   \n",
       "96   13.0          8         360.0        175    3821          11.0   \n",
       "104  12.0          8         400.0        167    4906          12.5   \n",
       "105  13.0          8         360.0        170    4654          13.0   \n",
       "156  16.0          8         400.0        170    4668          11.5   \n",
       "230  15.5          8         350.0        170    4165          11.4   \n",
       "263  17.7          6         231.0        165    3445          13.4   \n",
       "289  16.9          8         350.0        155    4360          14.9   \n",
       "\n",
       "     model_year  origin                             name  \n",
       "1            70       1                buick skylark 320  \n",
       "10           70       1              dodge challenger se  \n",
       "11           70       1               plymouth 'cuda 340  \n",
       "38           71       1                 chevrolet impala  \n",
       "39           71       1        pontiac catalina brougham  \n",
       "43           71       1         ford country squire (sw)  \n",
       "44           71       1              pontiac safari (sw)  \n",
       "62           72       1                 chevrolet impala  \n",
       "63           72       1                 pontiac catalina  \n",
       "68           72       1             buick lesabre custom  \n",
       "69           72       1       oldsmobile delta 88 royale  \n",
       "85           73       1                buick century 350  \n",
       "92           73       1                         ford ltd  \n",
       "96           73       1          amc ambassador brougham  \n",
       "104          73       1                     ford country  \n",
       "105          73       1           plymouth custom suburb  \n",
       "156          75       1                 pontiac catalina  \n",
       "230          77       1     chevrolet monte carlo landau  \n",
       "263          78       1  buick regal sport coupe (turbo)  \n",
       "289          79       1          buick estate wagon (sw)  "
      ]
     },
     "execution_count": 27,
     "metadata": {},
     "output_type": "execute_result"
    }
   ],
   "source": [
    "df_mpg[df_mpg[\"horsepower\"].replace(\"?\", np.nan).astype(\"float\").between(155, 180, \"left\")]"
   ]
  },
  {
   "cell_type": "code",
   "execution_count": 29,
   "id": "807353d3",
   "metadata": {},
   "outputs": [
    {
     "data": {
      "application/vnd.microsoft.datawrangler.viewer.v0+json": {
       "columns": [
        {
         "name": "index",
         "rawType": "int64",
         "type": "integer"
        },
        {
         "name": "mpg",
         "rawType": "float64",
         "type": "float"
        },
        {
         "name": "cylinders",
         "rawType": "int64",
         "type": "integer"
        },
        {
         "name": "displacement",
         "rawType": "float64",
         "type": "float"
        },
        {
         "name": "horsepower",
         "rawType": "object",
         "type": "unknown"
        },
        {
         "name": "weight",
         "rawType": "int64",
         "type": "integer"
        },
        {
         "name": "acceleration",
         "rawType": "float64",
         "type": "float"
        },
        {
         "name": "model_year",
         "rawType": "int64",
         "type": "integer"
        },
        {
         "name": "origin",
         "rawType": "int64",
         "type": "integer"
        },
        {
         "name": "name",
         "rawType": "object",
         "type": "string"
        }
       ],
       "ref": "bcdc5f1b-f860-42da-9089-7f42ae92a586",
       "rows": [
        [
         "0",
         "20.5",
         "6",
         "225.0",
         "100",
         "3430",
         "17.2",
         "78",
         "1",
         "plymouth volare"
        ],
        [
         "1",
         "20.0",
         "6",
         "225.0",
         "100",
         "3651",
         "17.7",
         "76",
         "1",
         "dodge aspen se"
        ],
        [
         "2",
         "23.7",
         "3",
         "70.0",
         "100",
         "2420",
         "12.5",
         "80",
         "3",
         "mazda rx-7 gs"
        ],
        [
         "3",
         "16.0",
         "6",
         "250.0",
         "100",
         "3278",
         "18.0",
         "73",
         "1",
         "chevrolet nova custom"
        ],
        [
         "4",
         "18.0",
         "6",
         "232.0",
         "100",
         "2945",
         "16.0",
         "73",
         "1",
         "amc hornet"
        ],
        [
         "5",
         "22.0",
         "6",
         "225.0",
         "100",
         "3233",
         "15.4",
         "76",
         "1",
         "plymouth valiant"
        ],
        [
         "6",
         "18.0",
         "6",
         "232.0",
         "100",
         "2789",
         "15.0",
         "73",
         "1",
         "amc gremlin"
        ],
        [
         "7",
         "32.9",
         "4",
         "119.0",
         "100",
         "2615",
         "14.8",
         "81",
         "3",
         "datsun 200sx"
        ],
        [
         "8",
         "19.0",
         "6",
         "250.0",
         "100",
         "3282",
         "15.0",
         "71",
         "1",
         "pontiac firebird"
        ],
        [
         "9",
         "18.0",
         "6",
         "232.0",
         "100",
         "3288",
         "15.5",
         "71",
         "1",
         "amc matador"
        ],
        [
         "10",
         "19.0",
         "6",
         "232.0",
         "100",
         "2634",
         "13.0",
         "71",
         "1",
         "amc gremlin"
        ],
        [
         "11",
         "19.0",
         "6",
         "232.0",
         "100",
         "2901",
         "16.0",
         "74",
         "1",
         "amc hornet"
        ],
        [
         "12",
         "15.0",
         "6",
         "250.0",
         "100",
         "3336",
         "17.0",
         "74",
         "1",
         "chevrolet nova"
        ],
        [
         "13",
         "16.0",
         "6",
         "250.0",
         "100",
         "3781",
         "17.0",
         "74",
         "1",
         "chevrolet chevelle malibu classic"
        ],
        [
         "14",
         "19.0",
         "6",
         "225.0",
         "100",
         "3630",
         "17.7",
         "77",
         "1",
         "plymouth volare custom"
        ],
        [
         "15",
         "17.0",
         "6",
         "250.0",
         "100",
         "3329",
         "15.5",
         "71",
         "1",
         "chevrolet chevelle malibu"
        ],
        [
         "16",
         "20.0",
         "6",
         "232.0",
         "100",
         "2914",
         "16.0",
         "75",
         "1",
         "amc gremlin"
        ],
        [
         "17",
         "20.0",
         "4",
         "130.0",
         "102",
         "3150",
         "15.7",
         "76",
         "2",
         "volvo 245"
        ],
        [
         "18",
         "20.3",
         "5",
         "131.0",
         "103",
         "2830",
         "15.9",
         "78",
         "2",
         "audi 5000"
        ],
        [
         "19",
         "18.0",
         "6",
         "250.0",
         "105",
         "3459",
         "16.0",
         "75",
         "1",
         "chevrolet nova"
        ],
        [
         "20",
         "22.0",
         "6",
         "250.0",
         "105",
         "3353",
         "14.5",
         "76",
         "1",
         "chevrolet nova"
        ],
        [
         "21",
         "16.0",
         "6",
         "225.0",
         "105",
         "3439",
         "15.5",
         "71",
         "1",
         "plymouth satellite custom"
        ],
        [
         "22",
         "26.6",
         "8",
         "350.0",
         "105",
         "3725",
         "19.0",
         "81",
         "1",
         "oldsmobile cutlass ls"
        ],
        [
         "23",
         "16.0",
         "6",
         "250.0",
         "105",
         "3897",
         "18.5",
         "75",
         "1",
         "chevroelt chevelle malibu"
        ],
        [
         "24",
         "18.0",
         "6",
         "225.0",
         "105",
         "3121",
         "16.5",
         "73",
         "1",
         "plymouth valiant"
        ],
        [
         "25",
         "27.9",
         "4",
         "156.0",
         "105",
         "2800",
         "14.4",
         "80",
         "1",
         "dodge colt"
        ],
        [
         "26",
         "23.2",
         "4",
         "156.0",
         "105",
         "2745",
         "16.7",
         "78",
         "1",
         "plymouth sapporo"
        ],
        [
         "27",
         "18.0",
         "6",
         "225.0",
         "105",
         "3613",
         "16.5",
         "74",
         "1",
         "plymouth satellite sebring"
        ],
        [
         "28",
         "20.6",
         "6",
         "231.0",
         "105",
         "3380",
         "15.8",
         "78",
         "1",
         "buick century special"
        ],
        [
         "29",
         "19.2",
         "6",
         "231.0",
         "105",
         "3535",
         "19.2",
         "78",
         "1",
         "pontiac phoenix lj"
        ],
        [
         "30",
         "20.5",
         "6",
         "231.0",
         "105",
         "3425",
         "16.9",
         "77",
         "1",
         "buick skylark"
        ],
        [
         "31",
         "21.0",
         "6",
         "155.0",
         "107",
         "2472",
         "14.0",
         "73",
         "1",
         "mercury capri v6"
        ],
        [
         "32",
         "19.0",
         "6",
         "156.0",
         "108",
         "2930",
         "15.5",
         "76",
         "3",
         "toyota mark ii"
        ],
        [
         "33",
         "21.0",
         "6",
         "231.0",
         "110",
         "3039",
         "15.0",
         "75",
         "1",
         "buick skyhawk"
        ],
        [
         "34",
         "20.0",
         "8",
         "262.0",
         "110",
         "3221",
         "13.5",
         "75",
         "1",
         "chevrolet monza 2+2"
        ],
        [
         "35",
         "19.9",
         "8",
         "260.0",
         "110",
         "3365",
         "15.5",
         "78",
         "1",
         "oldsmobile cutlass salon brougham"
        ],
        [
         "36",
         "17.0",
         "6",
         "231.0",
         "110",
         "3907",
         "21.0",
         "75",
         "1",
         "buick century"
        ],
        [
         "37",
         "23.5",
         "6",
         "173.0",
         "110",
         "2725",
         "12.6",
         "81",
         "1",
         "chevrolet citation"
        ],
        [
         "38",
         "21.5",
         "3",
         "80.0",
         "110",
         "2720",
         "13.5",
         "77",
         "3",
         "mazda rx-4"
        ],
        [
         "39",
         "21.5",
         "4",
         "121.0",
         "110",
         "2600",
         "12.8",
         "77",
         "2",
         "bmw 320i"
        ],
        [
         "40",
         "15.0",
         "6",
         "258.0",
         "110",
         "3730",
         "19.0",
         "75",
         "1",
         "amc matador"
        ],
        [
         "41",
         "18.0",
         "6",
         "258.0",
         "110",
         "2962",
         "13.5",
         "71",
         "1",
         "amc hornet sportabout (sw)"
        ],
        [
         "42",
         "25.0",
         "6",
         "181.0",
         "110",
         "2945",
         "16.4",
         "82",
         "1",
         "buick century limited"
        ],
        [
         "43",
         "18.6",
         "6",
         "225.0",
         "110",
         "3620",
         "18.7",
         "78",
         "1",
         "dodge aspen"
        ],
        [
         "44",
         "20.6",
         "6",
         "225.0",
         "110",
         "3360",
         "16.6",
         "79",
         "1",
         "dodge aspen 6"
        ],
        [
         "45",
         "16.0",
         "6",
         "258.0",
         "110",
         "3632",
         "18.0",
         "74",
         "1",
         "amc matador"
        ],
        [
         "46",
         "17.5",
         "6",
         "250.0",
         "110",
         "3520",
         "16.4",
         "77",
         "1",
         "chevrolet concours"
        ],
        [
         "47",
         "17.0",
         "8",
         "260.0",
         "110",
         "4060",
         "19.0",
         "77",
         "1",
         "oldsmobile cutlass supreme"
        ],
        [
         "48",
         "22.4",
         "6",
         "231.0",
         "110",
         "3415",
         "15.8",
         "81",
         "1",
         "buick century"
        ],
        [
         "49",
         "18.5",
         "6",
         "250.0",
         "110",
         "3645",
         "16.2",
         "76",
         "1",
         "pontiac ventura sj"
        ]
       ],
       "shape": {
        "columns": 9,
        "rows": 398
       }
      },
      "text/html": [
       "<div>\n",
       "<style scoped>\n",
       "    .dataframe tbody tr th:only-of-type {\n",
       "        vertical-align: middle;\n",
       "    }\n",
       "\n",
       "    .dataframe tbody tr th {\n",
       "        vertical-align: top;\n",
       "    }\n",
       "\n",
       "    .dataframe thead th {\n",
       "        text-align: right;\n",
       "    }\n",
       "</style>\n",
       "<table border=\"1\" class=\"dataframe\">\n",
       "  <thead>\n",
       "    <tr style=\"text-align: right;\">\n",
       "      <th></th>\n",
       "      <th>mpg</th>\n",
       "      <th>cylinders</th>\n",
       "      <th>displacement</th>\n",
       "      <th>horsepower</th>\n",
       "      <th>weight</th>\n",
       "      <th>acceleration</th>\n",
       "      <th>model_year</th>\n",
       "      <th>origin</th>\n",
       "      <th>name</th>\n",
       "    </tr>\n",
       "  </thead>\n",
       "  <tbody>\n",
       "    <tr>\n",
       "      <th>0</th>\n",
       "      <td>20.5</td>\n",
       "      <td>6</td>\n",
       "      <td>225.0</td>\n",
       "      <td>100</td>\n",
       "      <td>3430</td>\n",
       "      <td>17.2</td>\n",
       "      <td>78</td>\n",
       "      <td>1</td>\n",
       "      <td>plymouth volare</td>\n",
       "    </tr>\n",
       "    <tr>\n",
       "      <th>1</th>\n",
       "      <td>20.0</td>\n",
       "      <td>6</td>\n",
       "      <td>225.0</td>\n",
       "      <td>100</td>\n",
       "      <td>3651</td>\n",
       "      <td>17.7</td>\n",
       "      <td>76</td>\n",
       "      <td>1</td>\n",
       "      <td>dodge aspen se</td>\n",
       "    </tr>\n",
       "    <tr>\n",
       "      <th>2</th>\n",
       "      <td>23.7</td>\n",
       "      <td>3</td>\n",
       "      <td>70.0</td>\n",
       "      <td>100</td>\n",
       "      <td>2420</td>\n",
       "      <td>12.5</td>\n",
       "      <td>80</td>\n",
       "      <td>3</td>\n",
       "      <td>mazda rx-7 gs</td>\n",
       "    </tr>\n",
       "    <tr>\n",
       "      <th>3</th>\n",
       "      <td>16.0</td>\n",
       "      <td>6</td>\n",
       "      <td>250.0</td>\n",
       "      <td>100</td>\n",
       "      <td>3278</td>\n",
       "      <td>18.0</td>\n",
       "      <td>73</td>\n",
       "      <td>1</td>\n",
       "      <td>chevrolet nova custom</td>\n",
       "    </tr>\n",
       "    <tr>\n",
       "      <th>4</th>\n",
       "      <td>18.0</td>\n",
       "      <td>6</td>\n",
       "      <td>232.0</td>\n",
       "      <td>100</td>\n",
       "      <td>2945</td>\n",
       "      <td>16.0</td>\n",
       "      <td>73</td>\n",
       "      <td>1</td>\n",
       "      <td>amc hornet</td>\n",
       "    </tr>\n",
       "    <tr>\n",
       "      <th>...</th>\n",
       "      <td>...</td>\n",
       "      <td>...</td>\n",
       "      <td>...</td>\n",
       "      <td>...</td>\n",
       "      <td>...</td>\n",
       "      <td>...</td>\n",
       "      <td>...</td>\n",
       "      <td>...</td>\n",
       "      <td>...</td>\n",
       "    </tr>\n",
       "    <tr>\n",
       "      <th>393</th>\n",
       "      <td>21.0</td>\n",
       "      <td>6</td>\n",
       "      <td>200.0</td>\n",
       "      <td>NaN</td>\n",
       "      <td>2875</td>\n",
       "      <td>17.0</td>\n",
       "      <td>74</td>\n",
       "      <td>1</td>\n",
       "      <td>ford maverick</td>\n",
       "    </tr>\n",
       "    <tr>\n",
       "      <th>394</th>\n",
       "      <td>40.9</td>\n",
       "      <td>4</td>\n",
       "      <td>85.0</td>\n",
       "      <td>NaN</td>\n",
       "      <td>1835</td>\n",
       "      <td>17.3</td>\n",
       "      <td>80</td>\n",
       "      <td>2</td>\n",
       "      <td>renault lecar deluxe</td>\n",
       "    </tr>\n",
       "    <tr>\n",
       "      <th>395</th>\n",
       "      <td>23.6</td>\n",
       "      <td>4</td>\n",
       "      <td>140.0</td>\n",
       "      <td>NaN</td>\n",
       "      <td>2905</td>\n",
       "      <td>14.3</td>\n",
       "      <td>80</td>\n",
       "      <td>1</td>\n",
       "      <td>ford mustang cobra</td>\n",
       "    </tr>\n",
       "    <tr>\n",
       "      <th>396</th>\n",
       "      <td>34.5</td>\n",
       "      <td>4</td>\n",
       "      <td>100.0</td>\n",
       "      <td>NaN</td>\n",
       "      <td>2320</td>\n",
       "      <td>15.8</td>\n",
       "      <td>81</td>\n",
       "      <td>2</td>\n",
       "      <td>renault 18i</td>\n",
       "    </tr>\n",
       "    <tr>\n",
       "      <th>397</th>\n",
       "      <td>23.0</td>\n",
       "      <td>4</td>\n",
       "      <td>151.0</td>\n",
       "      <td>NaN</td>\n",
       "      <td>3035</td>\n",
       "      <td>20.5</td>\n",
       "      <td>82</td>\n",
       "      <td>1</td>\n",
       "      <td>amc concord dl</td>\n",
       "    </tr>\n",
       "  </tbody>\n",
       "</table>\n",
       "<p>398 rows × 9 columns</p>\n",
       "</div>"
      ],
      "text/plain": [
       "      mpg  cylinders  displacement horsepower  weight  acceleration  \\\n",
       "0    20.5          6         225.0        100    3430          17.2   \n",
       "1    20.0          6         225.0        100    3651          17.7   \n",
       "2    23.7          3          70.0        100    2420          12.5   \n",
       "3    16.0          6         250.0        100    3278          18.0   \n",
       "4    18.0          6         232.0        100    2945          16.0   \n",
       "..    ...        ...           ...        ...     ...           ...   \n",
       "393  21.0          6         200.0        NaN    2875          17.0   \n",
       "394  40.9          4          85.0        NaN    1835          17.3   \n",
       "395  23.6          4         140.0        NaN    2905          14.3   \n",
       "396  34.5          4         100.0        NaN    2320          15.8   \n",
       "397  23.0          4         151.0        NaN    3035          20.5   \n",
       "\n",
       "     model_year  origin                   name  \n",
       "0            78       1        plymouth volare  \n",
       "1            76       1         dodge aspen se  \n",
       "2            80       3          mazda rx-7 gs  \n",
       "3            73       1  chevrolet nova custom  \n",
       "4            73       1             amc hornet  \n",
       "..          ...     ...                    ...  \n",
       "393          74       1          ford maverick  \n",
       "394          80       2   renault lecar deluxe  \n",
       "395          80       1     ford mustang cobra  \n",
       "396          81       2            renault 18i  \n",
       "397          82       1         amc concord dl  \n",
       "\n",
       "[398 rows x 9 columns]"
      ]
     },
     "execution_count": 29,
     "metadata": {},
     "output_type": "execute_result"
    }
   ],
   "source": [
    "df_mpg.sort_values(\"horsepower\").reset_index(drop = True)"
   ]
  },
  {
   "cell_type": "code",
   "execution_count": 43,
   "id": "f4ed758b",
   "metadata": {},
   "outputs": [
    {
     "data": {
      "application/vnd.microsoft.datawrangler.viewer.v0+json": {
       "columns": [
        {
         "name": "index",
         "rawType": "int64",
         "type": "integer"
        },
        {
         "name": "acceleration",
         "rawType": "float64",
         "type": "float"
        }
       ],
       "ref": "10d7f5f3-c6f3-4f8c-9f0c-9f1b1a06b4fb",
       "rows": [
        [
         "11",
         "8.0"
        ],
        [
         "7",
         "8.5"
        ],
        [
         "9",
         "8.5"
        ],
        [
         "6",
         "9.0"
        ],
        [
         "12",
         "9.5"
        ]
       ],
       "shape": {
        "columns": 1,
        "rows": 5
       }
      },
      "text/plain": [
       "11    8.0\n",
       "7     8.5\n",
       "9     8.5\n",
       "6     9.0\n",
       "12    9.5\n",
       "Name: acceleration, dtype: float64"
      ]
     },
     "execution_count": 43,
     "metadata": {},
     "output_type": "execute_result"
    }
   ],
   "source": [
    "df_mpg[\"acceleration\"].nsmallest(5)"
   ]
  },
  {
   "cell_type": "markdown",
   "id": "36f417c6",
   "metadata": {},
   "source": [
    "--- CIA_Country_Facts.csv dosyasını okuyun ve yeniden df değişkenine atayın.(Artık eski df ile işimiz kalmadığı için aynı ismi verebiliriz.)\n",
    "\n",
    "9) Elimizdeki CIA'in ülkeler hakkında topladığı basit açık kaynak verileri df'inde kaç ülkenin verisi olduğunu bulun.\n",
    "\n",
    "10) Elimizdeki sütunlardan hangilerinde kaçar tane nan veri olduğunu bulun.\n",
    "\n",
    "11) Elimizde tamamen nan değerlerden oluşan bir satır varsa o satırı düşürün.(Tamamen nan değerlerden oluşan bir satır olup olmadığını, herhangi bir satırın düşüp düşmediğini kontrol edin)\n",
    "\n",
    "12) Her Bölgedeki(Region) toplam kişi sayısına bakın.\n",
    "\n",
    "13) Climate değerleri nan olanlar, tüm df'in ortalama climate değeriyle doldurun.(Gerçek bir analiz yapıyor olsaydık bu çok mantıklı bir hareket olmazdı, belki her bulunduğu bölgenin ortalama climate değeriyle doldurmak daha mantıklı bir hareket olurdu. Fakat şimdilik bu kadar kasmaya gerek yok. nan değerleri tüm climate ortalamalarıyla doldursanız yeterli.)\n",
    "\n",
    "14) Bölgeler ve Ülkelere göre gruplama yapın ardından Doğum miktarlarına bakın.\n",
    "\n",
    "15) Veriyi istediğiniz şekilde inceleyerek bu zamana kadar öğrendiğiniz bilgilerle anlamlı 5 adet yargı cümlesi çıkartın. ( En çok insan Asya kıtasında yaşıyor, En çok insan Afrinın sahralarında ölüyor, Ortalama en yüksek telefon sahibi Kuzey Amerikada, En çok okuma yazma oranına sahip ülkeler Baltık ülkeleri vb.)\n"
   ]
  },
  {
   "cell_type": "code",
   "execution_count": 55,
   "id": "7d9628ab",
   "metadata": {},
   "outputs": [
    {
     "data": {
      "application/vnd.microsoft.datawrangler.viewer.v0+json": {
       "columns": [
        {
         "name": "index",
         "rawType": "int64",
         "type": "integer"
        },
        {
         "name": "Country",
         "rawType": "object",
         "type": "string"
        },
        {
         "name": "Region",
         "rawType": "object",
         "type": "string"
        },
        {
         "name": "Population",
         "rawType": "int64",
         "type": "integer"
        },
        {
         "name": "Area (sq. mi.)",
         "rawType": "int64",
         "type": "integer"
        },
        {
         "name": "Pop. Density (per sq. mi.)",
         "rawType": "float64",
         "type": "float"
        },
        {
         "name": "Coastline (coast/area ratio)",
         "rawType": "float64",
         "type": "float"
        },
        {
         "name": "Net migration",
         "rawType": "float64",
         "type": "float"
        },
        {
         "name": "Infant mortality (per 1000 births)",
         "rawType": "float64",
         "type": "float"
        },
        {
         "name": "GDP ($ per capita)",
         "rawType": "float64",
         "type": "float"
        },
        {
         "name": "Literacy (%)",
         "rawType": "float64",
         "type": "float"
        },
        {
         "name": "Phones (per 1000)",
         "rawType": "float64",
         "type": "float"
        },
        {
         "name": "Arable (%)",
         "rawType": "float64",
         "type": "float"
        },
        {
         "name": "Crops (%)",
         "rawType": "float64",
         "type": "float"
        },
        {
         "name": "Other (%)",
         "rawType": "float64",
         "type": "float"
        },
        {
         "name": "Climate",
         "rawType": "float64",
         "type": "float"
        },
        {
         "name": "Birthrate",
         "rawType": "float64",
         "type": "float"
        },
        {
         "name": "Deathrate",
         "rawType": "float64",
         "type": "float"
        },
        {
         "name": "Agriculture",
         "rawType": "float64",
         "type": "float"
        },
        {
         "name": "Industry",
         "rawType": "float64",
         "type": "float"
        },
        {
         "name": "Service",
         "rawType": "float64",
         "type": "float"
        }
       ],
       "ref": "975c5bd2-6ac0-4155-a3f4-40356a657068",
       "rows": [
        [
         "0",
         "Afghanistan",
         "ASIA (EX. NEAR EAST)         ",
         "31056997",
         "647500",
         "48.0",
         "0.0",
         "23.06",
         "163.07",
         "700.0",
         "36.0",
         "3.2",
         "12.13",
         "0.22",
         "87.65",
         "1.0",
         "46.6",
         "20.34",
         "0.38",
         "0.24",
         "0.38"
        ],
        [
         "1",
         "Albania",
         "EASTERN EUROPE                     ",
         "3581655",
         "28748",
         "124.6",
         "1.26",
         "-4.93",
         "21.52",
         "4500.0",
         "86.5",
         "71.2",
         "21.09",
         "4.42",
         "74.49",
         "3.0",
         "15.11",
         "5.22",
         "0.232",
         "0.188",
         "0.579"
        ],
        [
         "2",
         "Algeria",
         "NORTHERN AFRICA                    ",
         "32930091",
         "2381740",
         "13.8",
         "0.04",
         "-0.39",
         "31.0",
         "6000.0",
         "70.0",
         "78.1",
         "3.22",
         "0.25",
         "96.53",
         "1.0",
         "17.14",
         "4.61",
         "0.101",
         "0.6",
         "0.298"
        ],
        [
         "3",
         "American Samoa",
         "OCEANIA                            ",
         "57794",
         "199",
         "290.4",
         "58.29",
         "-20.71",
         "9.27",
         "8000.0",
         "97.0",
         "259.5",
         "10.0",
         "15.0",
         "75.0",
         "2.0",
         "22.46",
         "3.27",
         null,
         null,
         null
        ],
        [
         "4",
         "Andorra",
         "WESTERN EUROPE                     ",
         "71201",
         "468",
         "152.1",
         "0.0",
         "6.6",
         "4.05",
         "19000.0",
         "100.0",
         "497.2",
         "2.22",
         "0.0",
         "97.78",
         "3.0",
         "8.71",
         "6.25",
         null,
         null,
         null
        ],
        [
         "5",
         "Angola",
         "SUB-SAHARAN AFRICA                 ",
         "12127071",
         "1246700",
         "9.7",
         "0.13",
         "0.0",
         "191.19",
         "1900.0",
         "42.0",
         "7.8",
         "2.41",
         "0.24",
         "97.35",
         null,
         "45.11",
         "24.2",
         "0.096",
         "0.6579999999999999",
         "0.246"
        ],
        [
         "6",
         "Anguilla",
         "LATIN AMER. & CARIB    ",
         "13477",
         "102",
         "132.1",
         "59.8",
         "10.76",
         "21.03",
         "8600.0",
         "95.0",
         "460.0",
         "0.0",
         "0.0",
         "100.0",
         "2.0",
         "14.17",
         "5.34",
         "0.04",
         "0.18",
         "0.78"
        ],
        [
         "7",
         "Antigua & Barbuda",
         "LATIN AMER. & CARIB    ",
         "69108",
         "443",
         "156.0",
         "34.54",
         "-6.15",
         "19.46",
         "11000.0",
         "89.0",
         "549.9",
         "18.18",
         "4.55",
         "77.27",
         "2.0",
         "16.93",
         "5.37",
         "0.038",
         "0.22",
         "0.743"
        ],
        [
         "8",
         "Argentina",
         "LATIN AMER. & CARIB    ",
         "39921833",
         "2766890",
         "14.4",
         "0.18",
         "0.61",
         "15.18",
         "11200.0",
         "97.1",
         "220.4",
         "12.31",
         "0.48",
         "87.21",
         "3.0",
         "16.73",
         "7.55",
         "0.095",
         "0.358",
         "0.547"
        ],
        [
         "9",
         "Armenia",
         "C.W. OF IND. STATES ",
         "2976372",
         "29800",
         "99.9",
         "0.0",
         "-6.47",
         "23.28",
         "3500.0",
         "98.6",
         "195.7",
         "17.55",
         "2.3",
         "80.15",
         "4.0",
         "12.07",
         "8.23",
         "0.239",
         "0.343",
         "0.418"
        ],
        [
         "10",
         "Aruba",
         "LATIN AMER. & CARIB    ",
         "71891",
         "193",
         "372.5",
         "35.49",
         "0.0",
         "5.89",
         "28000.0",
         "97.0",
         "516.1",
         "10.53",
         "0.0",
         "89.47",
         "2.0",
         "11.03",
         "6.68",
         "0.004",
         "0.333",
         "0.6629999999999999"
        ],
        [
         "11",
         "Australia",
         "OCEANIA                            ",
         "20264082",
         "7686850",
         "2.6",
         "0.34",
         "3.98",
         "4.69",
         "29000.0",
         "100.0",
         "565.5",
         "6.55",
         "0.04",
         "93.41",
         "1.0",
         "12.14",
         "7.51",
         "0.038",
         "0.262",
         "0.7"
        ],
        [
         "12",
         "Austria",
         "WESTERN EUROPE                     ",
         "8192880",
         "83870",
         "97.7",
         "0.0",
         "2.0",
         "4.66",
         "30000.0",
         "98.0",
         "452.2",
         "16.91",
         "0.86",
         "82.23",
         "3.0",
         "8.74",
         "9.76",
         "0.018",
         "0.304",
         "0.6779999999999999"
        ],
        [
         "13",
         "Azerbaijan",
         "C.W. OF IND. STATES ",
         "7961619",
         "86600",
         "91.9",
         "0.0",
         "-4.9",
         "81.74",
         "3400.0",
         "97.0",
         "137.1",
         "19.63",
         "2.71",
         "77.66",
         "1.0",
         "20.74",
         "9.75",
         "0.141",
         "0.457",
         "0.402"
        ],
        [
         "14",
         "Bahamas, The",
         "LATIN AMER. & CARIB    ",
         "303770",
         "13940",
         "21.8",
         "25.41",
         "-2.2",
         "25.21",
         "16700.0",
         "95.6",
         "460.6",
         "0.8",
         "0.4",
         "98.8",
         "2.0",
         "17.57",
         "9.05",
         "0.03",
         "0.07",
         "0.9"
        ],
        [
         "15",
         "Bahrain",
         "NEAR EAST                          ",
         "698585",
         "665",
         "1050.5",
         "24.21",
         "1.05",
         "17.27",
         "16900.0",
         "89.1",
         "281.3",
         "2.82",
         "5.63",
         "91.55",
         "1.0",
         "17.8",
         "4.14",
         "0.005",
         "0.387",
         "0.608"
        ],
        [
         "16",
         "Bangladesh",
         "ASIA (EX. NEAR EAST)         ",
         "147365352",
         "144000",
         "1023.4",
         "0.4",
         "-0.71",
         "62.6",
         "1900.0",
         "43.1",
         "7.3",
         "62.11",
         "3.07",
         "34.82",
         "2.0",
         "29.8",
         "8.27",
         "0.199",
         "0.198",
         "0.603"
        ],
        [
         "17",
         "Barbados",
         "LATIN AMER. & CARIB    ",
         "279912",
         "431",
         "649.5",
         "22.51",
         "-0.31",
         "12.5",
         "15700.0",
         "97.4",
         "481.9",
         "37.21",
         "2.33",
         "60.46",
         "2.0",
         "12.71",
         "8.67",
         "0.06",
         "0.16",
         "0.78"
        ],
        [
         "18",
         "Belarus",
         "C.W. OF IND. STATES ",
         "10293011",
         "207600",
         "49.6",
         "0.0",
         "2.54",
         "13.37",
         "6100.0",
         "99.6",
         "319.1",
         "29.55",
         "0.6",
         "69.85",
         "4.0",
         "11.16",
         "14.02",
         "0.093",
         "0.316",
         "0.591"
        ],
        [
         "19",
         "Belgium",
         "WESTERN EUROPE                     ",
         "10379067",
         "30528",
         "340.0",
         "0.22",
         "1.23",
         "4.68",
         "29100.0",
         "98.0",
         "462.6",
         "23.28",
         "0.4",
         "76.32",
         "3.0",
         "10.38",
         "10.27",
         "0.01",
         "0.24",
         "0.7490000000000001"
        ],
        [
         "20",
         "Belize",
         "LATIN AMER. & CARIB    ",
         "287730",
         "22966",
         "12.5",
         "1.68",
         "0.0",
         "25.69",
         "4900.0",
         "94.1",
         "115.7",
         "2.85",
         "1.71",
         "95.44",
         "2.0",
         "28.84",
         "5.72",
         "0.142",
         "0.152",
         "0.612"
        ],
        [
         "21",
         "Benin",
         "SUB-SAHARAN AFRICA                 ",
         "7862944",
         "112620",
         "69.8",
         "0.11",
         "0.0",
         "85.0",
         "1100.0",
         "40.9",
         "9.7",
         "18.08",
         "2.4",
         "79.52",
         "2.0",
         "38.85",
         "12.22",
         "0.316",
         "0.138",
         "0.546"
        ],
        [
         "22",
         "Bermuda",
         "NORTHERN AMERICA                   ",
         "65773",
         "53",
         "1241.0",
         "194.34",
         "2.49",
         "8.53",
         "36000.0",
         "98.0",
         "851.4",
         "20.0",
         "0.0",
         "80.0",
         "2.0",
         "11.4",
         "7.74",
         "0.01",
         "0.1",
         "0.89"
        ],
        [
         "23",
         "Bhutan",
         "ASIA (EX. NEAR EAST)         ",
         "2279723",
         "47000",
         "48.5",
         "0.0",
         "0.0",
         "100.44",
         "1300.0",
         "42.2",
         "14.3",
         "3.09",
         "0.43",
         "96.48",
         "2.0",
         "33.65",
         "12.7",
         "0.258",
         "0.379",
         "0.363"
        ],
        [
         "24",
         "Bolivia",
         "LATIN AMER. & CARIB    ",
         "8989046",
         "1098580",
         "8.2",
         "0.0",
         "-1.32",
         "53.11",
         "2400.0",
         "87.2",
         "71.9",
         "2.67",
         "0.19",
         "97.14",
         "1.5",
         "23.3",
         "7.53",
         "0.128",
         "0.352",
         "0.52"
        ],
        [
         "25",
         "Bosnia & Herzegovina",
         "EASTERN EUROPE                     ",
         "4498976",
         "51129",
         "88.0",
         "0.04",
         "0.31",
         "21.05",
         "6100.0",
         null,
         "215.4",
         "13.6",
         "2.96",
         "83.44",
         "4.0",
         "8.77",
         "8.27",
         "0.142",
         "0.308",
         "0.55"
        ],
        [
         "26",
         "Botswana",
         "SUB-SAHARAN AFRICA                 ",
         "1639833",
         "600370",
         "2.7",
         "0.0",
         "0.0",
         "54.58",
         "9000.0",
         "79.8",
         "80.5",
         "0.65",
         "0.01",
         "99.34",
         "1.0",
         "23.08",
         "29.5",
         "0.024",
         "0.469",
         "0.507"
        ],
        [
         "27",
         "Brazil",
         "LATIN AMER. & CARIB    ",
         "188078227",
         "8511965",
         "22.1",
         "0.09",
         "-0.03",
         "29.61",
         "7600.0",
         "86.4",
         "225.3",
         "6.96",
         "0.9",
         "92.15",
         "2.0",
         "16.56",
         "6.17",
         "0.084",
         "0.4",
         "0.516"
        ],
        [
         "28",
         "British Virgin Is.",
         "LATIN AMER. & CARIB    ",
         "23098",
         "153",
         "151.0",
         "52.29",
         "10.01",
         "18.05",
         "16000.0",
         "97.8",
         "506.5",
         "20.0",
         "6.67",
         "73.33",
         "2.0",
         "14.89",
         "4.42",
         "0.018",
         "0.062",
         "0.92"
        ],
        [
         "29",
         "Brunei",
         "ASIA (EX. NEAR EAST)         ",
         "379444",
         "5770",
         "65.8",
         "2.79",
         "3.59",
         "12.61",
         "18600.0",
         "93.9",
         "237.2",
         "0.57",
         "0.76",
         "98.67",
         "2.0",
         "18.79",
         "3.45",
         "0.036",
         "0.561",
         "0.403"
        ],
        [
         "30",
         "Bulgaria",
         "EASTERN EUROPE                     ",
         "7385367",
         "110910",
         "66.6",
         "0.32",
         "-4.58",
         "20.55",
         "7600.0",
         "98.6",
         "336.3",
         "40.02",
         "1.92",
         "58.06",
         "3.0",
         "9.65",
         "14.27",
         "0.093",
         "0.304",
         "0.603"
        ],
        [
         "31",
         "Burkina Faso",
         "SUB-SAHARAN AFRICA                 ",
         "13902972",
         "274200",
         "50.7",
         "0.0",
         "0.0",
         "97.57",
         "1100.0",
         "26.6",
         "7.0",
         "14.43",
         "0.19",
         "85.38",
         "2.0",
         "45.62",
         "15.6",
         "0.322",
         "0.196",
         "0.482"
        ],
        [
         "32",
         "Burma",
         "ASIA (EX. NEAR EAST)         ",
         "47382633",
         "678500",
         "69.8",
         "0.28",
         "-1.8",
         "67.24",
         "1800.0",
         "85.3",
         "10.1",
         "15.19",
         "0.97",
         "83.84",
         "2.0",
         "17.91",
         "9.83",
         "0.564",
         "0.0819999999999999",
         "0.353"
        ],
        [
         "33",
         "Burundi",
         "SUB-SAHARAN AFRICA                 ",
         "8090068",
         "27830",
         "290.7",
         "0.0",
         "-0.06",
         "69.29",
         "600.0",
         "51.6",
         "3.4",
         "35.05",
         "14.02",
         "50.93",
         "2.0",
         "42.22",
         "13.46",
         "0.463",
         "0.203",
         "0.334"
        ],
        [
         "34",
         "Cambodia",
         "ASIA (EX. NEAR EAST)         ",
         "13881427",
         "181040",
         "76.7",
         "0.24",
         "0.0",
         "71.48",
         "1900.0",
         "69.4",
         "2.6",
         "20.96",
         "0.61",
         "78.43",
         "2.0",
         "26.9",
         "9.06",
         "0.35",
         "0.3",
         "0.35"
        ],
        [
         "35",
         "Cameroon",
         "SUB-SAHARAN AFRICA                 ",
         "17340702",
         "475440",
         "36.5",
         "0.08",
         "0.0",
         "68.26",
         "1800.0",
         "79.0",
         "5.7",
         "12.81",
         "2.58",
         "84.61",
         "1.5",
         "33.89",
         "13.47",
         "0.448",
         "0.17",
         "0.382"
        ],
        [
         "36",
         "Canada",
         "NORTHERN AMERICA                   ",
         "33098932",
         "9984670",
         "3.3",
         "2.02",
         "5.96",
         "4.75",
         "29800.0",
         "97.0",
         "552.2",
         "4.96",
         "0.02",
         "95.02",
         null,
         "10.78",
         "7.8",
         "0.022",
         "0.294",
         "0.684"
        ],
        [
         "37",
         "Cape Verde",
         "SUB-SAHARAN AFRICA                 ",
         "420979",
         "4033",
         "104.4",
         "23.93",
         "-12.07",
         "47.77",
         "1400.0",
         "76.6",
         "169.6",
         "9.68",
         "0.5",
         "89.82",
         "3.0",
         "24.87",
         "6.55",
         "0.121",
         "0.219",
         "0.66"
        ],
        [
         "38",
         "Cayman Islands",
         "LATIN AMER. & CARIB    ",
         "45436",
         "262",
         "173.4",
         "61.07",
         "18.75",
         "8.19",
         "35000.0",
         "98.0",
         "836.3",
         "3.85",
         "0.0",
         "96.15",
         "2.0",
         "12.74",
         "4.89",
         "0.014",
         "0.032",
         "0.954"
        ],
        [
         "39",
         "Central African Rep.",
         "SUB-SAHARAN AFRICA                 ",
         "4303356",
         "622984",
         "6.9",
         "0.0",
         "0.0",
         "91.0",
         "1100.0",
         "51.0",
         "2.3",
         "3.1",
         "0.14",
         "96.76",
         "2.0",
         "33.91",
         "18.65",
         "0.55",
         "0.2",
         "0.25"
        ],
        [
         "40",
         "Chad",
         "SUB-SAHARAN AFRICA                 ",
         "9944201",
         "1284000",
         "7.7",
         "0.0",
         "-0.11",
         "93.82",
         "1200.0",
         "47.5",
         "1.3",
         "2.86",
         "0.02",
         "97.12",
         "2.0",
         "45.73",
         "16.38",
         "0.335",
         "0.259",
         "0.406"
        ],
        [
         "41",
         "Chile",
         "LATIN AMER. & CARIB    ",
         "16134219",
         "756950",
         "21.3",
         "0.85",
         "0.0",
         "8.8",
         "9900.0",
         "96.2",
         "213.0",
         "2.65",
         "0.42",
         "96.93",
         "3.0",
         "15.23",
         "5.81",
         "0.06",
         "0.493",
         "0.447"
        ],
        [
         "42",
         "China",
         "ASIA (EX. NEAR EAST)         ",
         "1313973713",
         "9596960",
         "136.9",
         "0.15",
         "-0.4",
         "24.18",
         "5000.0",
         "90.9",
         "266.7",
         "15.4",
         "1.25",
         "83.35",
         "1.5",
         "13.25",
         "6.97",
         "0.125",
         "0.473",
         "0.403"
        ],
        [
         "43",
         "Colombia",
         "LATIN AMER. & CARIB    ",
         "43593035",
         "1138910",
         "38.3",
         "0.28",
         "-0.31",
         "20.97",
         "6300.0",
         "92.5",
         "176.2",
         "2.42",
         "1.67",
         "95.91",
         "2.0",
         "20.48",
         "5.58",
         "0.125",
         "0.342",
         "0.5329999999999999"
        ],
        [
         "44",
         "Comoros",
         "SUB-SAHARAN AFRICA                 ",
         "690948",
         "2170",
         "318.4",
         "15.67",
         "0.0",
         "74.93",
         "700.0",
         "56.5",
         "24.5",
         "35.87",
         "23.32",
         "40.81",
         "2.0",
         "36.93",
         "8.2",
         "0.4",
         "0.04",
         "0.56"
        ],
        [
         "45",
         "Congo, Dem. Rep.",
         "SUB-SAHARAN AFRICA                 ",
         "62660551",
         "2345410",
         "26.7",
         "0.0",
         "0.0",
         "94.69",
         "700.0",
         "65.5",
         "0.2",
         "2.96",
         "0.52",
         "96.52",
         "2.0",
         "43.69",
         "13.27",
         "0.55",
         "0.11",
         "0.34"
        ],
        [
         "46",
         "Congo, Repub. of the",
         "SUB-SAHARAN AFRICA                 ",
         "3702314",
         "342000",
         "10.8",
         "0.05",
         "-0.17",
         "93.86",
         "700.0",
         "83.8",
         "3.7",
         "0.51",
         "0.13",
         "99.36",
         "2.0",
         "42.57",
         "12.93",
         "0.062",
         "0.57",
         "0.369"
        ],
        [
         "47",
         "Cook Islands",
         "OCEANIA                            ",
         "21388",
         "240",
         "89.1",
         "50.0",
         null,
         null,
         "5000.0",
         "95.0",
         "289.9",
         "17.39",
         "13.04",
         "69.57",
         "2.0",
         "21.0",
         null,
         "0.151",
         "0.096",
         "0.753"
        ],
        [
         "48",
         "Costa Rica",
         "LATIN AMER. & CARIB    ",
         "4075261",
         "51100",
         "79.8",
         "2.52",
         "0.51",
         "9.95",
         "9100.0",
         "96.0",
         "340.7",
         "4.41",
         "5.88",
         "89.71",
         "2.0",
         "18.32",
         "4.36",
         "0.088",
         "0.299",
         "0.614"
        ],
        [
         "49",
         "Cote d'Ivoire",
         "SUB-SAHARAN AFRICA                 ",
         "17654843",
         "322460",
         "54.8",
         "0.16",
         "-0.07",
         "90.83",
         "1400.0",
         "50.9",
         "14.6",
         "9.75",
         "13.84",
         "76.41",
         "2.0",
         "35.11",
         "14.84",
         "0.279",
         "0.171",
         "0.55"
        ]
       ],
       "shape": {
        "columns": 20,
        "rows": 227
       }
      },
      "text/html": [
       "<div>\n",
       "<style scoped>\n",
       "    .dataframe tbody tr th:only-of-type {\n",
       "        vertical-align: middle;\n",
       "    }\n",
       "\n",
       "    .dataframe tbody tr th {\n",
       "        vertical-align: top;\n",
       "    }\n",
       "\n",
       "    .dataframe thead th {\n",
       "        text-align: right;\n",
       "    }\n",
       "</style>\n",
       "<table border=\"1\" class=\"dataframe\">\n",
       "  <thead>\n",
       "    <tr style=\"text-align: right;\">\n",
       "      <th></th>\n",
       "      <th>Country</th>\n",
       "      <th>Region</th>\n",
       "      <th>Population</th>\n",
       "      <th>Area (sq. mi.)</th>\n",
       "      <th>Pop. Density (per sq. mi.)</th>\n",
       "      <th>Coastline (coast/area ratio)</th>\n",
       "      <th>Net migration</th>\n",
       "      <th>Infant mortality (per 1000 births)</th>\n",
       "      <th>GDP ($ per capita)</th>\n",
       "      <th>Literacy (%)</th>\n",
       "      <th>Phones (per 1000)</th>\n",
       "      <th>Arable (%)</th>\n",
       "      <th>Crops (%)</th>\n",
       "      <th>Other (%)</th>\n",
       "      <th>Climate</th>\n",
       "      <th>Birthrate</th>\n",
       "      <th>Deathrate</th>\n",
       "      <th>Agriculture</th>\n",
       "      <th>Industry</th>\n",
       "      <th>Service</th>\n",
       "    </tr>\n",
       "  </thead>\n",
       "  <tbody>\n",
       "    <tr>\n",
       "      <th>0</th>\n",
       "      <td>Afghanistan</td>\n",
       "      <td>ASIA (EX. NEAR EAST)</td>\n",
       "      <td>31056997</td>\n",
       "      <td>647500</td>\n",
       "      <td>48.0</td>\n",
       "      <td>0.00</td>\n",
       "      <td>23.06</td>\n",
       "      <td>163.07</td>\n",
       "      <td>700.0</td>\n",
       "      <td>36.0</td>\n",
       "      <td>3.2</td>\n",
       "      <td>12.13</td>\n",
       "      <td>0.22</td>\n",
       "      <td>87.65</td>\n",
       "      <td>1.0</td>\n",
       "      <td>46.60</td>\n",
       "      <td>20.34</td>\n",
       "      <td>0.380</td>\n",
       "      <td>0.240</td>\n",
       "      <td>0.380</td>\n",
       "    </tr>\n",
       "    <tr>\n",
       "      <th>1</th>\n",
       "      <td>Albania</td>\n",
       "      <td>EASTERN EUROPE</td>\n",
       "      <td>3581655</td>\n",
       "      <td>28748</td>\n",
       "      <td>124.6</td>\n",
       "      <td>1.26</td>\n",
       "      <td>-4.93</td>\n",
       "      <td>21.52</td>\n",
       "      <td>4500.0</td>\n",
       "      <td>86.5</td>\n",
       "      <td>71.2</td>\n",
       "      <td>21.09</td>\n",
       "      <td>4.42</td>\n",
       "      <td>74.49</td>\n",
       "      <td>3.0</td>\n",
       "      <td>15.11</td>\n",
       "      <td>5.22</td>\n",
       "      <td>0.232</td>\n",
       "      <td>0.188</td>\n",
       "      <td>0.579</td>\n",
       "    </tr>\n",
       "    <tr>\n",
       "      <th>2</th>\n",
       "      <td>Algeria</td>\n",
       "      <td>NORTHERN AFRICA</td>\n",
       "      <td>32930091</td>\n",
       "      <td>2381740</td>\n",
       "      <td>13.8</td>\n",
       "      <td>0.04</td>\n",
       "      <td>-0.39</td>\n",
       "      <td>31.00</td>\n",
       "      <td>6000.0</td>\n",
       "      <td>70.0</td>\n",
       "      <td>78.1</td>\n",
       "      <td>3.22</td>\n",
       "      <td>0.25</td>\n",
       "      <td>96.53</td>\n",
       "      <td>1.0</td>\n",
       "      <td>17.14</td>\n",
       "      <td>4.61</td>\n",
       "      <td>0.101</td>\n",
       "      <td>0.600</td>\n",
       "      <td>0.298</td>\n",
       "    </tr>\n",
       "    <tr>\n",
       "      <th>3</th>\n",
       "      <td>American Samoa</td>\n",
       "      <td>OCEANIA</td>\n",
       "      <td>57794</td>\n",
       "      <td>199</td>\n",
       "      <td>290.4</td>\n",
       "      <td>58.29</td>\n",
       "      <td>-20.71</td>\n",
       "      <td>9.27</td>\n",
       "      <td>8000.0</td>\n",
       "      <td>97.0</td>\n",
       "      <td>259.5</td>\n",
       "      <td>10.00</td>\n",
       "      <td>15.00</td>\n",
       "      <td>75.00</td>\n",
       "      <td>2.0</td>\n",
       "      <td>22.46</td>\n",
       "      <td>3.27</td>\n",
       "      <td>NaN</td>\n",
       "      <td>NaN</td>\n",
       "      <td>NaN</td>\n",
       "    </tr>\n",
       "    <tr>\n",
       "      <th>4</th>\n",
       "      <td>Andorra</td>\n",
       "      <td>WESTERN EUROPE</td>\n",
       "      <td>71201</td>\n",
       "      <td>468</td>\n",
       "      <td>152.1</td>\n",
       "      <td>0.00</td>\n",
       "      <td>6.60</td>\n",
       "      <td>4.05</td>\n",
       "      <td>19000.0</td>\n",
       "      <td>100.0</td>\n",
       "      <td>497.2</td>\n",
       "      <td>2.22</td>\n",
       "      <td>0.00</td>\n",
       "      <td>97.78</td>\n",
       "      <td>3.0</td>\n",
       "      <td>8.71</td>\n",
       "      <td>6.25</td>\n",
       "      <td>NaN</td>\n",
       "      <td>NaN</td>\n",
       "      <td>NaN</td>\n",
       "    </tr>\n",
       "    <tr>\n",
       "      <th>...</th>\n",
       "      <td>...</td>\n",
       "      <td>...</td>\n",
       "      <td>...</td>\n",
       "      <td>...</td>\n",
       "      <td>...</td>\n",
       "      <td>...</td>\n",
       "      <td>...</td>\n",
       "      <td>...</td>\n",
       "      <td>...</td>\n",
       "      <td>...</td>\n",
       "      <td>...</td>\n",
       "      <td>...</td>\n",
       "      <td>...</td>\n",
       "      <td>...</td>\n",
       "      <td>...</td>\n",
       "      <td>...</td>\n",
       "      <td>...</td>\n",
       "      <td>...</td>\n",
       "      <td>...</td>\n",
       "      <td>...</td>\n",
       "    </tr>\n",
       "    <tr>\n",
       "      <th>222</th>\n",
       "      <td>West Bank</td>\n",
       "      <td>NEAR EAST</td>\n",
       "      <td>2460492</td>\n",
       "      <td>5860</td>\n",
       "      <td>419.9</td>\n",
       "      <td>0.00</td>\n",
       "      <td>2.98</td>\n",
       "      <td>19.62</td>\n",
       "      <td>800.0</td>\n",
       "      <td>NaN</td>\n",
       "      <td>145.2</td>\n",
       "      <td>16.90</td>\n",
       "      <td>18.97</td>\n",
       "      <td>64.13</td>\n",
       "      <td>3.0</td>\n",
       "      <td>31.67</td>\n",
       "      <td>3.92</td>\n",
       "      <td>0.090</td>\n",
       "      <td>0.280</td>\n",
       "      <td>0.630</td>\n",
       "    </tr>\n",
       "    <tr>\n",
       "      <th>223</th>\n",
       "      <td>Western Sahara</td>\n",
       "      <td>NORTHERN AFRICA</td>\n",
       "      <td>273008</td>\n",
       "      <td>266000</td>\n",
       "      <td>1.0</td>\n",
       "      <td>0.42</td>\n",
       "      <td>NaN</td>\n",
       "      <td>NaN</td>\n",
       "      <td>NaN</td>\n",
       "      <td>NaN</td>\n",
       "      <td>NaN</td>\n",
       "      <td>0.02</td>\n",
       "      <td>0.00</td>\n",
       "      <td>99.98</td>\n",
       "      <td>1.0</td>\n",
       "      <td>NaN</td>\n",
       "      <td>NaN</td>\n",
       "      <td>NaN</td>\n",
       "      <td>NaN</td>\n",
       "      <td>0.400</td>\n",
       "    </tr>\n",
       "    <tr>\n",
       "      <th>224</th>\n",
       "      <td>Yemen</td>\n",
       "      <td>NEAR EAST</td>\n",
       "      <td>21456188</td>\n",
       "      <td>527970</td>\n",
       "      <td>40.6</td>\n",
       "      <td>0.36</td>\n",
       "      <td>0.00</td>\n",
       "      <td>61.50</td>\n",
       "      <td>800.0</td>\n",
       "      <td>50.2</td>\n",
       "      <td>37.2</td>\n",
       "      <td>2.78</td>\n",
       "      <td>0.24</td>\n",
       "      <td>96.98</td>\n",
       "      <td>1.0</td>\n",
       "      <td>42.89</td>\n",
       "      <td>8.30</td>\n",
       "      <td>0.135</td>\n",
       "      <td>0.472</td>\n",
       "      <td>0.393</td>\n",
       "    </tr>\n",
       "    <tr>\n",
       "      <th>225</th>\n",
       "      <td>Zambia</td>\n",
       "      <td>SUB-SAHARAN AFRICA</td>\n",
       "      <td>11502010</td>\n",
       "      <td>752614</td>\n",
       "      <td>15.3</td>\n",
       "      <td>0.00</td>\n",
       "      <td>0.00</td>\n",
       "      <td>88.29</td>\n",
       "      <td>800.0</td>\n",
       "      <td>80.6</td>\n",
       "      <td>8.2</td>\n",
       "      <td>7.08</td>\n",
       "      <td>0.03</td>\n",
       "      <td>92.90</td>\n",
       "      <td>2.0</td>\n",
       "      <td>41.00</td>\n",
       "      <td>19.93</td>\n",
       "      <td>0.220</td>\n",
       "      <td>0.290</td>\n",
       "      <td>0.489</td>\n",
       "    </tr>\n",
       "    <tr>\n",
       "      <th>226</th>\n",
       "      <td>Zimbabwe</td>\n",
       "      <td>SUB-SAHARAN AFRICA</td>\n",
       "      <td>12236805</td>\n",
       "      <td>390580</td>\n",
       "      <td>31.3</td>\n",
       "      <td>0.00</td>\n",
       "      <td>0.00</td>\n",
       "      <td>67.69</td>\n",
       "      <td>1900.0</td>\n",
       "      <td>90.7</td>\n",
       "      <td>26.8</td>\n",
       "      <td>8.32</td>\n",
       "      <td>0.34</td>\n",
       "      <td>91.34</td>\n",
       "      <td>2.0</td>\n",
       "      <td>28.01</td>\n",
       "      <td>21.84</td>\n",
       "      <td>0.179</td>\n",
       "      <td>0.243</td>\n",
       "      <td>0.579</td>\n",
       "    </tr>\n",
       "  </tbody>\n",
       "</table>\n",
       "<p>227 rows × 20 columns</p>\n",
       "</div>"
      ],
      "text/plain": [
       "            Country                               Region  Population  \\\n",
       "0       Afghanistan        ASIA (EX. NEAR EAST)             31056997   \n",
       "1           Albania  EASTERN EUROPE                          3581655   \n",
       "2           Algeria  NORTHERN AFRICA                        32930091   \n",
       "3    American Samoa  OCEANIA                                   57794   \n",
       "4           Andorra  WESTERN EUROPE                            71201   \n",
       "..              ...                                  ...         ...   \n",
       "222       West Bank  NEAR EAST                               2460492   \n",
       "223  Western Sahara  NORTHERN AFRICA                          273008   \n",
       "224           Yemen  NEAR EAST                              21456188   \n",
       "225          Zambia  SUB-SAHARAN AFRICA                     11502010   \n",
       "226        Zimbabwe  SUB-SAHARAN AFRICA                     12236805   \n",
       "\n",
       "     Area (sq. mi.)  Pop. Density (per sq. mi.)  Coastline (coast/area ratio)  \\\n",
       "0            647500                        48.0                          0.00   \n",
       "1             28748                       124.6                          1.26   \n",
       "2           2381740                        13.8                          0.04   \n",
       "3               199                       290.4                         58.29   \n",
       "4               468                       152.1                          0.00   \n",
       "..              ...                         ...                           ...   \n",
       "222            5860                       419.9                          0.00   \n",
       "223          266000                         1.0                          0.42   \n",
       "224          527970                        40.6                          0.36   \n",
       "225          752614                        15.3                          0.00   \n",
       "226          390580                        31.3                          0.00   \n",
       "\n",
       "     Net migration  Infant mortality (per 1000 births)  GDP ($ per capita)  \\\n",
       "0            23.06                              163.07               700.0   \n",
       "1            -4.93                               21.52              4500.0   \n",
       "2            -0.39                               31.00              6000.0   \n",
       "3           -20.71                                9.27              8000.0   \n",
       "4             6.60                                4.05             19000.0   \n",
       "..             ...                                 ...                 ...   \n",
       "222           2.98                               19.62               800.0   \n",
       "223            NaN                                 NaN                 NaN   \n",
       "224           0.00                               61.50               800.0   \n",
       "225           0.00                               88.29               800.0   \n",
       "226           0.00                               67.69              1900.0   \n",
       "\n",
       "     Literacy (%)  Phones (per 1000)  Arable (%)  Crops (%)  Other (%)  \\\n",
       "0            36.0                3.2       12.13       0.22      87.65   \n",
       "1            86.5               71.2       21.09       4.42      74.49   \n",
       "2            70.0               78.1        3.22       0.25      96.53   \n",
       "3            97.0              259.5       10.00      15.00      75.00   \n",
       "4           100.0              497.2        2.22       0.00      97.78   \n",
       "..            ...                ...         ...        ...        ...   \n",
       "222           NaN              145.2       16.90      18.97      64.13   \n",
       "223           NaN                NaN        0.02       0.00      99.98   \n",
       "224          50.2               37.2        2.78       0.24      96.98   \n",
       "225          80.6                8.2        7.08       0.03      92.90   \n",
       "226          90.7               26.8        8.32       0.34      91.34   \n",
       "\n",
       "     Climate  Birthrate  Deathrate  Agriculture  Industry  Service  \n",
       "0        1.0      46.60      20.34        0.380     0.240    0.380  \n",
       "1        3.0      15.11       5.22        0.232     0.188    0.579  \n",
       "2        1.0      17.14       4.61        0.101     0.600    0.298  \n",
       "3        2.0      22.46       3.27          NaN       NaN      NaN  \n",
       "4        3.0       8.71       6.25          NaN       NaN      NaN  \n",
       "..       ...        ...        ...          ...       ...      ...  \n",
       "222      3.0      31.67       3.92        0.090     0.280    0.630  \n",
       "223      1.0        NaN        NaN          NaN       NaN    0.400  \n",
       "224      1.0      42.89       8.30        0.135     0.472    0.393  \n",
       "225      2.0      41.00      19.93        0.220     0.290    0.489  \n",
       "226      2.0      28.01      21.84        0.179     0.243    0.579  \n",
       "\n",
       "[227 rows x 20 columns]"
      ]
     },
     "execution_count": 55,
     "metadata": {},
     "output_type": "execute_result"
    }
   ],
   "source": [
    "df_ccf = pd.read_csv(\"CIA_Country_Facts.csv\")\n",
    "df_ccf"
   ]
  },
  {
   "cell_type": "code",
   "execution_count": 48,
   "id": "7885e030",
   "metadata": {},
   "outputs": [
    {
     "data": {
      "text/plain": [
       "np.int64(227)"
      ]
     },
     "execution_count": 48,
     "metadata": {},
     "output_type": "execute_result"
    }
   ],
   "source": [
    "df_ccf[\"Country\"].count()"
   ]
  },
  {
   "cell_type": "code",
   "execution_count": 49,
   "id": "3bded591",
   "metadata": {},
   "outputs": [
    {
     "name": "stdout",
     "output_type": "stream",
     "text": [
      "<class 'pandas.core.frame.DataFrame'>\n",
      "RangeIndex: 227 entries, 0 to 226\n",
      "Data columns (total 20 columns):\n",
      " #   Column                              Non-Null Count  Dtype  \n",
      "---  ------                              --------------  -----  \n",
      " 0   Country                             227 non-null    object \n",
      " 1   Region                              227 non-null    object \n",
      " 2   Population                          227 non-null    int64  \n",
      " 3   Area (sq. mi.)                      227 non-null    int64  \n",
      " 4   Pop. Density (per sq. mi.)          227 non-null    float64\n",
      " 5   Coastline (coast/area ratio)        227 non-null    float64\n",
      " 6   Net migration                       224 non-null    float64\n",
      " 7   Infant mortality (per 1000 births)  224 non-null    float64\n",
      " 8   GDP ($ per capita)                  226 non-null    float64\n",
      " 9   Literacy (%)                        209 non-null    float64\n",
      " 10  Phones (per 1000)                   223 non-null    float64\n",
      " 11  Arable (%)                          225 non-null    float64\n",
      " 12  Crops (%)                           225 non-null    float64\n",
      " 13  Other (%)                           225 non-null    float64\n",
      " 14  Climate                             205 non-null    float64\n",
      " 15  Birthrate                           224 non-null    float64\n",
      " 16  Deathrate                           223 non-null    float64\n",
      " 17  Agriculture                         212 non-null    float64\n",
      " 18  Industry                            211 non-null    float64\n",
      " 19  Service                             212 non-null    float64\n",
      "dtypes: float64(16), int64(2), object(2)\n",
      "memory usage: 35.6+ KB\n"
     ]
    }
   ],
   "source": [
    "df_ccf.info()"
   ]
  },
  {
   "cell_type": "code",
   "execution_count": 58,
   "id": "c3dfe2e6",
   "metadata": {},
   "outputs": [
    {
     "data": {
      "application/vnd.microsoft.datawrangler.viewer.v0+json": {
       "columns": [
        {
         "name": "index",
         "rawType": "object",
         "type": "string"
        },
        {
         "name": "0",
         "rawType": "int64",
         "type": "integer"
        }
       ],
       "ref": "7f023314-6da8-40be-979c-afd26fb1cd81",
       "rows": [
        [
         "Country",
         "0"
        ],
        [
         "Region",
         "0"
        ],
        [
         "Population",
         "0"
        ],
        [
         "Area (sq. mi.)",
         "0"
        ],
        [
         "Pop. Density (per sq. mi.)",
         "0"
        ],
        [
         "Coastline (coast/area ratio)",
         "0"
        ],
        [
         "Net migration",
         "3"
        ],
        [
         "Infant mortality (per 1000 births)",
         "3"
        ],
        [
         "GDP ($ per capita)",
         "1"
        ],
        [
         "Literacy (%)",
         "18"
        ],
        [
         "Phones (per 1000)",
         "4"
        ],
        [
         "Arable (%)",
         "2"
        ],
        [
         "Crops (%)",
         "2"
        ],
        [
         "Other (%)",
         "2"
        ],
        [
         "Climate",
         "22"
        ],
        [
         "Birthrate",
         "3"
        ],
        [
         "Deathrate",
         "4"
        ],
        [
         "Agriculture",
         "15"
        ],
        [
         "Industry",
         "16"
        ],
        [
         "Service",
         "15"
        ]
       ],
       "shape": {
        "columns": 1,
        "rows": 20
       }
      },
      "text/plain": [
       "Country                                0\n",
       "Region                                 0\n",
       "Population                             0\n",
       "Area (sq. mi.)                         0\n",
       "Pop. Density (per sq. mi.)             0\n",
       "Coastline (coast/area ratio)           0\n",
       "Net migration                          3\n",
       "Infant mortality (per 1000 births)     3\n",
       "GDP ($ per capita)                     1\n",
       "Literacy (%)                          18\n",
       "Phones (per 1000)                      4\n",
       "Arable (%)                             2\n",
       "Crops (%)                              2\n",
       "Other (%)                              2\n",
       "Climate                               22\n",
       "Birthrate                              3\n",
       "Deathrate                              4\n",
       "Agriculture                           15\n",
       "Industry                              16\n",
       "Service                               15\n",
       "dtype: int64"
      ]
     },
     "execution_count": 58,
     "metadata": {},
     "output_type": "execute_result"
    }
   ],
   "source": [
    "df_ccf.isna().sum()"
   ]
  },
  {
   "cell_type": "code",
   "execution_count": 59,
   "id": "a1f149cb",
   "metadata": {},
   "outputs": [
    {
     "data": {
      "application/vnd.microsoft.datawrangler.viewer.v0+json": {
       "columns": [
        {
         "name": "index",
         "rawType": "int64",
         "type": "integer"
        },
        {
         "name": "Country",
         "rawType": "object",
         "type": "string"
        },
        {
         "name": "Region",
         "rawType": "object",
         "type": "string"
        },
        {
         "name": "Population",
         "rawType": "int64",
         "type": "integer"
        },
        {
         "name": "Area (sq. mi.)",
         "rawType": "int64",
         "type": "integer"
        },
        {
         "name": "Pop. Density (per sq. mi.)",
         "rawType": "float64",
         "type": "float"
        },
        {
         "name": "Coastline (coast/area ratio)",
         "rawType": "float64",
         "type": "float"
        },
        {
         "name": "Net migration",
         "rawType": "float64",
         "type": "float"
        },
        {
         "name": "Infant mortality (per 1000 births)",
         "rawType": "float64",
         "type": "float"
        },
        {
         "name": "GDP ($ per capita)",
         "rawType": "float64",
         "type": "float"
        },
        {
         "name": "Literacy (%)",
         "rawType": "float64",
         "type": "float"
        },
        {
         "name": "Phones (per 1000)",
         "rawType": "float64",
         "type": "float"
        },
        {
         "name": "Arable (%)",
         "rawType": "float64",
         "type": "float"
        },
        {
         "name": "Crops (%)",
         "rawType": "float64",
         "type": "float"
        },
        {
         "name": "Other (%)",
         "rawType": "float64",
         "type": "float"
        },
        {
         "name": "Climate",
         "rawType": "float64",
         "type": "float"
        },
        {
         "name": "Birthrate",
         "rawType": "float64",
         "type": "float"
        },
        {
         "name": "Deathrate",
         "rawType": "float64",
         "type": "float"
        },
        {
         "name": "Agriculture",
         "rawType": "float64",
         "type": "float"
        },
        {
         "name": "Industry",
         "rawType": "float64",
         "type": "float"
        },
        {
         "name": "Service",
         "rawType": "float64",
         "type": "float"
        }
       ],
       "ref": "46ff881f-e909-486d-8e8a-122e6c695bae",
       "rows": [
        [
         "0",
         "Afghanistan",
         "ASIA (EX. NEAR EAST)         ",
         "31056997",
         "647500",
         "48.0",
         "0.0",
         "23.06",
         "163.07",
         "700.0",
         "36.0",
         "3.2",
         "12.13",
         "0.22",
         "87.65",
         "1.0",
         "46.6",
         "20.34",
         "0.38",
         "0.24",
         "0.38"
        ],
        [
         "1",
         "Albania",
         "EASTERN EUROPE                     ",
         "3581655",
         "28748",
         "124.6",
         "1.26",
         "-4.93",
         "21.52",
         "4500.0",
         "86.5",
         "71.2",
         "21.09",
         "4.42",
         "74.49",
         "3.0",
         "15.11",
         "5.22",
         "0.232",
         "0.188",
         "0.579"
        ],
        [
         "2",
         "Algeria",
         "NORTHERN AFRICA                    ",
         "32930091",
         "2381740",
         "13.8",
         "0.04",
         "-0.39",
         "31.0",
         "6000.0",
         "70.0",
         "78.1",
         "3.22",
         "0.25",
         "96.53",
         "1.0",
         "17.14",
         "4.61",
         "0.101",
         "0.6",
         "0.298"
        ],
        [
         "3",
         "American Samoa",
         "OCEANIA                            ",
         "57794",
         "199",
         "290.4",
         "58.29",
         "-20.71",
         "9.27",
         "8000.0",
         "97.0",
         "259.5",
         "10.0",
         "15.0",
         "75.0",
         "2.0",
         "22.46",
         "3.27",
         null,
         null,
         null
        ],
        [
         "4",
         "Andorra",
         "WESTERN EUROPE                     ",
         "71201",
         "468",
         "152.1",
         "0.0",
         "6.6",
         "4.05",
         "19000.0",
         "100.0",
         "497.2",
         "2.22",
         "0.0",
         "97.78",
         "3.0",
         "8.71",
         "6.25",
         null,
         null,
         null
        ],
        [
         "5",
         "Angola",
         "SUB-SAHARAN AFRICA                 ",
         "12127071",
         "1246700",
         "9.7",
         "0.13",
         "0.0",
         "191.19",
         "1900.0",
         "42.0",
         "7.8",
         "2.41",
         "0.24",
         "97.35",
         null,
         "45.11",
         "24.2",
         "0.096",
         "0.6579999999999999",
         "0.246"
        ],
        [
         "6",
         "Anguilla",
         "LATIN AMER. & CARIB    ",
         "13477",
         "102",
         "132.1",
         "59.8",
         "10.76",
         "21.03",
         "8600.0",
         "95.0",
         "460.0",
         "0.0",
         "0.0",
         "100.0",
         "2.0",
         "14.17",
         "5.34",
         "0.04",
         "0.18",
         "0.78"
        ],
        [
         "7",
         "Antigua & Barbuda",
         "LATIN AMER. & CARIB    ",
         "69108",
         "443",
         "156.0",
         "34.54",
         "-6.15",
         "19.46",
         "11000.0",
         "89.0",
         "549.9",
         "18.18",
         "4.55",
         "77.27",
         "2.0",
         "16.93",
         "5.37",
         "0.038",
         "0.22",
         "0.743"
        ],
        [
         "8",
         "Argentina",
         "LATIN AMER. & CARIB    ",
         "39921833",
         "2766890",
         "14.4",
         "0.18",
         "0.61",
         "15.18",
         "11200.0",
         "97.1",
         "220.4",
         "12.31",
         "0.48",
         "87.21",
         "3.0",
         "16.73",
         "7.55",
         "0.095",
         "0.358",
         "0.547"
        ],
        [
         "9",
         "Armenia",
         "C.W. OF IND. STATES ",
         "2976372",
         "29800",
         "99.9",
         "0.0",
         "-6.47",
         "23.28",
         "3500.0",
         "98.6",
         "195.7",
         "17.55",
         "2.3",
         "80.15",
         "4.0",
         "12.07",
         "8.23",
         "0.239",
         "0.343",
         "0.418"
        ],
        [
         "10",
         "Aruba",
         "LATIN AMER. & CARIB    ",
         "71891",
         "193",
         "372.5",
         "35.49",
         "0.0",
         "5.89",
         "28000.0",
         "97.0",
         "516.1",
         "10.53",
         "0.0",
         "89.47",
         "2.0",
         "11.03",
         "6.68",
         "0.004",
         "0.333",
         "0.6629999999999999"
        ],
        [
         "11",
         "Australia",
         "OCEANIA                            ",
         "20264082",
         "7686850",
         "2.6",
         "0.34",
         "3.98",
         "4.69",
         "29000.0",
         "100.0",
         "565.5",
         "6.55",
         "0.04",
         "93.41",
         "1.0",
         "12.14",
         "7.51",
         "0.038",
         "0.262",
         "0.7"
        ],
        [
         "12",
         "Austria",
         "WESTERN EUROPE                     ",
         "8192880",
         "83870",
         "97.7",
         "0.0",
         "2.0",
         "4.66",
         "30000.0",
         "98.0",
         "452.2",
         "16.91",
         "0.86",
         "82.23",
         "3.0",
         "8.74",
         "9.76",
         "0.018",
         "0.304",
         "0.6779999999999999"
        ],
        [
         "13",
         "Azerbaijan",
         "C.W. OF IND. STATES ",
         "7961619",
         "86600",
         "91.9",
         "0.0",
         "-4.9",
         "81.74",
         "3400.0",
         "97.0",
         "137.1",
         "19.63",
         "2.71",
         "77.66",
         "1.0",
         "20.74",
         "9.75",
         "0.141",
         "0.457",
         "0.402"
        ],
        [
         "14",
         "Bahamas, The",
         "LATIN AMER. & CARIB    ",
         "303770",
         "13940",
         "21.8",
         "25.41",
         "-2.2",
         "25.21",
         "16700.0",
         "95.6",
         "460.6",
         "0.8",
         "0.4",
         "98.8",
         "2.0",
         "17.57",
         "9.05",
         "0.03",
         "0.07",
         "0.9"
        ],
        [
         "15",
         "Bahrain",
         "NEAR EAST                          ",
         "698585",
         "665",
         "1050.5",
         "24.21",
         "1.05",
         "17.27",
         "16900.0",
         "89.1",
         "281.3",
         "2.82",
         "5.63",
         "91.55",
         "1.0",
         "17.8",
         "4.14",
         "0.005",
         "0.387",
         "0.608"
        ],
        [
         "16",
         "Bangladesh",
         "ASIA (EX. NEAR EAST)         ",
         "147365352",
         "144000",
         "1023.4",
         "0.4",
         "-0.71",
         "62.6",
         "1900.0",
         "43.1",
         "7.3",
         "62.11",
         "3.07",
         "34.82",
         "2.0",
         "29.8",
         "8.27",
         "0.199",
         "0.198",
         "0.603"
        ],
        [
         "17",
         "Barbados",
         "LATIN AMER. & CARIB    ",
         "279912",
         "431",
         "649.5",
         "22.51",
         "-0.31",
         "12.5",
         "15700.0",
         "97.4",
         "481.9",
         "37.21",
         "2.33",
         "60.46",
         "2.0",
         "12.71",
         "8.67",
         "0.06",
         "0.16",
         "0.78"
        ],
        [
         "18",
         "Belarus",
         "C.W. OF IND. STATES ",
         "10293011",
         "207600",
         "49.6",
         "0.0",
         "2.54",
         "13.37",
         "6100.0",
         "99.6",
         "319.1",
         "29.55",
         "0.6",
         "69.85",
         "4.0",
         "11.16",
         "14.02",
         "0.093",
         "0.316",
         "0.591"
        ],
        [
         "19",
         "Belgium",
         "WESTERN EUROPE                     ",
         "10379067",
         "30528",
         "340.0",
         "0.22",
         "1.23",
         "4.68",
         "29100.0",
         "98.0",
         "462.6",
         "23.28",
         "0.4",
         "76.32",
         "3.0",
         "10.38",
         "10.27",
         "0.01",
         "0.24",
         "0.7490000000000001"
        ],
        [
         "20",
         "Belize",
         "LATIN AMER. & CARIB    ",
         "287730",
         "22966",
         "12.5",
         "1.68",
         "0.0",
         "25.69",
         "4900.0",
         "94.1",
         "115.7",
         "2.85",
         "1.71",
         "95.44",
         "2.0",
         "28.84",
         "5.72",
         "0.142",
         "0.152",
         "0.612"
        ],
        [
         "21",
         "Benin",
         "SUB-SAHARAN AFRICA                 ",
         "7862944",
         "112620",
         "69.8",
         "0.11",
         "0.0",
         "85.0",
         "1100.0",
         "40.9",
         "9.7",
         "18.08",
         "2.4",
         "79.52",
         "2.0",
         "38.85",
         "12.22",
         "0.316",
         "0.138",
         "0.546"
        ],
        [
         "22",
         "Bermuda",
         "NORTHERN AMERICA                   ",
         "65773",
         "53",
         "1241.0",
         "194.34",
         "2.49",
         "8.53",
         "36000.0",
         "98.0",
         "851.4",
         "20.0",
         "0.0",
         "80.0",
         "2.0",
         "11.4",
         "7.74",
         "0.01",
         "0.1",
         "0.89"
        ],
        [
         "23",
         "Bhutan",
         "ASIA (EX. NEAR EAST)         ",
         "2279723",
         "47000",
         "48.5",
         "0.0",
         "0.0",
         "100.44",
         "1300.0",
         "42.2",
         "14.3",
         "3.09",
         "0.43",
         "96.48",
         "2.0",
         "33.65",
         "12.7",
         "0.258",
         "0.379",
         "0.363"
        ],
        [
         "24",
         "Bolivia",
         "LATIN AMER. & CARIB    ",
         "8989046",
         "1098580",
         "8.2",
         "0.0",
         "-1.32",
         "53.11",
         "2400.0",
         "87.2",
         "71.9",
         "2.67",
         "0.19",
         "97.14",
         "1.5",
         "23.3",
         "7.53",
         "0.128",
         "0.352",
         "0.52"
        ],
        [
         "25",
         "Bosnia & Herzegovina",
         "EASTERN EUROPE                     ",
         "4498976",
         "51129",
         "88.0",
         "0.04",
         "0.31",
         "21.05",
         "6100.0",
         null,
         "215.4",
         "13.6",
         "2.96",
         "83.44",
         "4.0",
         "8.77",
         "8.27",
         "0.142",
         "0.308",
         "0.55"
        ],
        [
         "26",
         "Botswana",
         "SUB-SAHARAN AFRICA                 ",
         "1639833",
         "600370",
         "2.7",
         "0.0",
         "0.0",
         "54.58",
         "9000.0",
         "79.8",
         "80.5",
         "0.65",
         "0.01",
         "99.34",
         "1.0",
         "23.08",
         "29.5",
         "0.024",
         "0.469",
         "0.507"
        ],
        [
         "27",
         "Brazil",
         "LATIN AMER. & CARIB    ",
         "188078227",
         "8511965",
         "22.1",
         "0.09",
         "-0.03",
         "29.61",
         "7600.0",
         "86.4",
         "225.3",
         "6.96",
         "0.9",
         "92.15",
         "2.0",
         "16.56",
         "6.17",
         "0.084",
         "0.4",
         "0.516"
        ],
        [
         "28",
         "British Virgin Is.",
         "LATIN AMER. & CARIB    ",
         "23098",
         "153",
         "151.0",
         "52.29",
         "10.01",
         "18.05",
         "16000.0",
         "97.8",
         "506.5",
         "20.0",
         "6.67",
         "73.33",
         "2.0",
         "14.89",
         "4.42",
         "0.018",
         "0.062",
         "0.92"
        ],
        [
         "29",
         "Brunei",
         "ASIA (EX. NEAR EAST)         ",
         "379444",
         "5770",
         "65.8",
         "2.79",
         "3.59",
         "12.61",
         "18600.0",
         "93.9",
         "237.2",
         "0.57",
         "0.76",
         "98.67",
         "2.0",
         "18.79",
         "3.45",
         "0.036",
         "0.561",
         "0.403"
        ],
        [
         "30",
         "Bulgaria",
         "EASTERN EUROPE                     ",
         "7385367",
         "110910",
         "66.6",
         "0.32",
         "-4.58",
         "20.55",
         "7600.0",
         "98.6",
         "336.3",
         "40.02",
         "1.92",
         "58.06",
         "3.0",
         "9.65",
         "14.27",
         "0.093",
         "0.304",
         "0.603"
        ],
        [
         "31",
         "Burkina Faso",
         "SUB-SAHARAN AFRICA                 ",
         "13902972",
         "274200",
         "50.7",
         "0.0",
         "0.0",
         "97.57",
         "1100.0",
         "26.6",
         "7.0",
         "14.43",
         "0.19",
         "85.38",
         "2.0",
         "45.62",
         "15.6",
         "0.322",
         "0.196",
         "0.482"
        ],
        [
         "32",
         "Burma",
         "ASIA (EX. NEAR EAST)         ",
         "47382633",
         "678500",
         "69.8",
         "0.28",
         "-1.8",
         "67.24",
         "1800.0",
         "85.3",
         "10.1",
         "15.19",
         "0.97",
         "83.84",
         "2.0",
         "17.91",
         "9.83",
         "0.564",
         "0.0819999999999999",
         "0.353"
        ],
        [
         "33",
         "Burundi",
         "SUB-SAHARAN AFRICA                 ",
         "8090068",
         "27830",
         "290.7",
         "0.0",
         "-0.06",
         "69.29",
         "600.0",
         "51.6",
         "3.4",
         "35.05",
         "14.02",
         "50.93",
         "2.0",
         "42.22",
         "13.46",
         "0.463",
         "0.203",
         "0.334"
        ],
        [
         "34",
         "Cambodia",
         "ASIA (EX. NEAR EAST)         ",
         "13881427",
         "181040",
         "76.7",
         "0.24",
         "0.0",
         "71.48",
         "1900.0",
         "69.4",
         "2.6",
         "20.96",
         "0.61",
         "78.43",
         "2.0",
         "26.9",
         "9.06",
         "0.35",
         "0.3",
         "0.35"
        ],
        [
         "35",
         "Cameroon",
         "SUB-SAHARAN AFRICA                 ",
         "17340702",
         "475440",
         "36.5",
         "0.08",
         "0.0",
         "68.26",
         "1800.0",
         "79.0",
         "5.7",
         "12.81",
         "2.58",
         "84.61",
         "1.5",
         "33.89",
         "13.47",
         "0.448",
         "0.17",
         "0.382"
        ],
        [
         "36",
         "Canada",
         "NORTHERN AMERICA                   ",
         "33098932",
         "9984670",
         "3.3",
         "2.02",
         "5.96",
         "4.75",
         "29800.0",
         "97.0",
         "552.2",
         "4.96",
         "0.02",
         "95.02",
         null,
         "10.78",
         "7.8",
         "0.022",
         "0.294",
         "0.684"
        ],
        [
         "37",
         "Cape Verde",
         "SUB-SAHARAN AFRICA                 ",
         "420979",
         "4033",
         "104.4",
         "23.93",
         "-12.07",
         "47.77",
         "1400.0",
         "76.6",
         "169.6",
         "9.68",
         "0.5",
         "89.82",
         "3.0",
         "24.87",
         "6.55",
         "0.121",
         "0.219",
         "0.66"
        ],
        [
         "38",
         "Cayman Islands",
         "LATIN AMER. & CARIB    ",
         "45436",
         "262",
         "173.4",
         "61.07",
         "18.75",
         "8.19",
         "35000.0",
         "98.0",
         "836.3",
         "3.85",
         "0.0",
         "96.15",
         "2.0",
         "12.74",
         "4.89",
         "0.014",
         "0.032",
         "0.954"
        ],
        [
         "39",
         "Central African Rep.",
         "SUB-SAHARAN AFRICA                 ",
         "4303356",
         "622984",
         "6.9",
         "0.0",
         "0.0",
         "91.0",
         "1100.0",
         "51.0",
         "2.3",
         "3.1",
         "0.14",
         "96.76",
         "2.0",
         "33.91",
         "18.65",
         "0.55",
         "0.2",
         "0.25"
        ],
        [
         "40",
         "Chad",
         "SUB-SAHARAN AFRICA                 ",
         "9944201",
         "1284000",
         "7.7",
         "0.0",
         "-0.11",
         "93.82",
         "1200.0",
         "47.5",
         "1.3",
         "2.86",
         "0.02",
         "97.12",
         "2.0",
         "45.73",
         "16.38",
         "0.335",
         "0.259",
         "0.406"
        ],
        [
         "41",
         "Chile",
         "LATIN AMER. & CARIB    ",
         "16134219",
         "756950",
         "21.3",
         "0.85",
         "0.0",
         "8.8",
         "9900.0",
         "96.2",
         "213.0",
         "2.65",
         "0.42",
         "96.93",
         "3.0",
         "15.23",
         "5.81",
         "0.06",
         "0.493",
         "0.447"
        ],
        [
         "42",
         "China",
         "ASIA (EX. NEAR EAST)         ",
         "1313973713",
         "9596960",
         "136.9",
         "0.15",
         "-0.4",
         "24.18",
         "5000.0",
         "90.9",
         "266.7",
         "15.4",
         "1.25",
         "83.35",
         "1.5",
         "13.25",
         "6.97",
         "0.125",
         "0.473",
         "0.403"
        ],
        [
         "43",
         "Colombia",
         "LATIN AMER. & CARIB    ",
         "43593035",
         "1138910",
         "38.3",
         "0.28",
         "-0.31",
         "20.97",
         "6300.0",
         "92.5",
         "176.2",
         "2.42",
         "1.67",
         "95.91",
         "2.0",
         "20.48",
         "5.58",
         "0.125",
         "0.342",
         "0.5329999999999999"
        ],
        [
         "44",
         "Comoros",
         "SUB-SAHARAN AFRICA                 ",
         "690948",
         "2170",
         "318.4",
         "15.67",
         "0.0",
         "74.93",
         "700.0",
         "56.5",
         "24.5",
         "35.87",
         "23.32",
         "40.81",
         "2.0",
         "36.93",
         "8.2",
         "0.4",
         "0.04",
         "0.56"
        ],
        [
         "45",
         "Congo, Dem. Rep.",
         "SUB-SAHARAN AFRICA                 ",
         "62660551",
         "2345410",
         "26.7",
         "0.0",
         "0.0",
         "94.69",
         "700.0",
         "65.5",
         "0.2",
         "2.96",
         "0.52",
         "96.52",
         "2.0",
         "43.69",
         "13.27",
         "0.55",
         "0.11",
         "0.34"
        ],
        [
         "46",
         "Congo, Repub. of the",
         "SUB-SAHARAN AFRICA                 ",
         "3702314",
         "342000",
         "10.8",
         "0.05",
         "-0.17",
         "93.86",
         "700.0",
         "83.8",
         "3.7",
         "0.51",
         "0.13",
         "99.36",
         "2.0",
         "42.57",
         "12.93",
         "0.062",
         "0.57",
         "0.369"
        ],
        [
         "47",
         "Cook Islands",
         "OCEANIA                            ",
         "21388",
         "240",
         "89.1",
         "50.0",
         null,
         null,
         "5000.0",
         "95.0",
         "289.9",
         "17.39",
         "13.04",
         "69.57",
         "2.0",
         "21.0",
         null,
         "0.151",
         "0.096",
         "0.753"
        ],
        [
         "48",
         "Costa Rica",
         "LATIN AMER. & CARIB    ",
         "4075261",
         "51100",
         "79.8",
         "2.52",
         "0.51",
         "9.95",
         "9100.0",
         "96.0",
         "340.7",
         "4.41",
         "5.88",
         "89.71",
         "2.0",
         "18.32",
         "4.36",
         "0.088",
         "0.299",
         "0.614"
        ],
        [
         "49",
         "Cote d'Ivoire",
         "SUB-SAHARAN AFRICA                 ",
         "17654843",
         "322460",
         "54.8",
         "0.16",
         "-0.07",
         "90.83",
         "1400.0",
         "50.9",
         "14.6",
         "9.75",
         "13.84",
         "76.41",
         "2.0",
         "35.11",
         "14.84",
         "0.279",
         "0.171",
         "0.55"
        ]
       ],
       "shape": {
        "columns": 20,
        "rows": 227
       }
      },
      "text/html": [
       "<div>\n",
       "<style scoped>\n",
       "    .dataframe tbody tr th:only-of-type {\n",
       "        vertical-align: middle;\n",
       "    }\n",
       "\n",
       "    .dataframe tbody tr th {\n",
       "        vertical-align: top;\n",
       "    }\n",
       "\n",
       "    .dataframe thead th {\n",
       "        text-align: right;\n",
       "    }\n",
       "</style>\n",
       "<table border=\"1\" class=\"dataframe\">\n",
       "  <thead>\n",
       "    <tr style=\"text-align: right;\">\n",
       "      <th></th>\n",
       "      <th>Country</th>\n",
       "      <th>Region</th>\n",
       "      <th>Population</th>\n",
       "      <th>Area (sq. mi.)</th>\n",
       "      <th>Pop. Density (per sq. mi.)</th>\n",
       "      <th>Coastline (coast/area ratio)</th>\n",
       "      <th>Net migration</th>\n",
       "      <th>Infant mortality (per 1000 births)</th>\n",
       "      <th>GDP ($ per capita)</th>\n",
       "      <th>Literacy (%)</th>\n",
       "      <th>Phones (per 1000)</th>\n",
       "      <th>Arable (%)</th>\n",
       "      <th>Crops (%)</th>\n",
       "      <th>Other (%)</th>\n",
       "      <th>Climate</th>\n",
       "      <th>Birthrate</th>\n",
       "      <th>Deathrate</th>\n",
       "      <th>Agriculture</th>\n",
       "      <th>Industry</th>\n",
       "      <th>Service</th>\n",
       "    </tr>\n",
       "  </thead>\n",
       "  <tbody>\n",
       "    <tr>\n",
       "      <th>0</th>\n",
       "      <td>Afghanistan</td>\n",
       "      <td>ASIA (EX. NEAR EAST)</td>\n",
       "      <td>31056997</td>\n",
       "      <td>647500</td>\n",
       "      <td>48.0</td>\n",
       "      <td>0.00</td>\n",
       "      <td>23.06</td>\n",
       "      <td>163.07</td>\n",
       "      <td>700.0</td>\n",
       "      <td>36.0</td>\n",
       "      <td>3.2</td>\n",
       "      <td>12.13</td>\n",
       "      <td>0.22</td>\n",
       "      <td>87.65</td>\n",
       "      <td>1.0</td>\n",
       "      <td>46.60</td>\n",
       "      <td>20.34</td>\n",
       "      <td>0.380</td>\n",
       "      <td>0.240</td>\n",
       "      <td>0.380</td>\n",
       "    </tr>\n",
       "    <tr>\n",
       "      <th>1</th>\n",
       "      <td>Albania</td>\n",
       "      <td>EASTERN EUROPE</td>\n",
       "      <td>3581655</td>\n",
       "      <td>28748</td>\n",
       "      <td>124.6</td>\n",
       "      <td>1.26</td>\n",
       "      <td>-4.93</td>\n",
       "      <td>21.52</td>\n",
       "      <td>4500.0</td>\n",
       "      <td>86.5</td>\n",
       "      <td>71.2</td>\n",
       "      <td>21.09</td>\n",
       "      <td>4.42</td>\n",
       "      <td>74.49</td>\n",
       "      <td>3.0</td>\n",
       "      <td>15.11</td>\n",
       "      <td>5.22</td>\n",
       "      <td>0.232</td>\n",
       "      <td>0.188</td>\n",
       "      <td>0.579</td>\n",
       "    </tr>\n",
       "    <tr>\n",
       "      <th>2</th>\n",
       "      <td>Algeria</td>\n",
       "      <td>NORTHERN AFRICA</td>\n",
       "      <td>32930091</td>\n",
       "      <td>2381740</td>\n",
       "      <td>13.8</td>\n",
       "      <td>0.04</td>\n",
       "      <td>-0.39</td>\n",
       "      <td>31.00</td>\n",
       "      <td>6000.0</td>\n",
       "      <td>70.0</td>\n",
       "      <td>78.1</td>\n",
       "      <td>3.22</td>\n",
       "      <td>0.25</td>\n",
       "      <td>96.53</td>\n",
       "      <td>1.0</td>\n",
       "      <td>17.14</td>\n",
       "      <td>4.61</td>\n",
       "      <td>0.101</td>\n",
       "      <td>0.600</td>\n",
       "      <td>0.298</td>\n",
       "    </tr>\n",
       "    <tr>\n",
       "      <th>3</th>\n",
       "      <td>American Samoa</td>\n",
       "      <td>OCEANIA</td>\n",
       "      <td>57794</td>\n",
       "      <td>199</td>\n",
       "      <td>290.4</td>\n",
       "      <td>58.29</td>\n",
       "      <td>-20.71</td>\n",
       "      <td>9.27</td>\n",
       "      <td>8000.0</td>\n",
       "      <td>97.0</td>\n",
       "      <td>259.5</td>\n",
       "      <td>10.00</td>\n",
       "      <td>15.00</td>\n",
       "      <td>75.00</td>\n",
       "      <td>2.0</td>\n",
       "      <td>22.46</td>\n",
       "      <td>3.27</td>\n",
       "      <td>NaN</td>\n",
       "      <td>NaN</td>\n",
       "      <td>NaN</td>\n",
       "    </tr>\n",
       "    <tr>\n",
       "      <th>4</th>\n",
       "      <td>Andorra</td>\n",
       "      <td>WESTERN EUROPE</td>\n",
       "      <td>71201</td>\n",
       "      <td>468</td>\n",
       "      <td>152.1</td>\n",
       "      <td>0.00</td>\n",
       "      <td>6.60</td>\n",
       "      <td>4.05</td>\n",
       "      <td>19000.0</td>\n",
       "      <td>100.0</td>\n",
       "      <td>497.2</td>\n",
       "      <td>2.22</td>\n",
       "      <td>0.00</td>\n",
       "      <td>97.78</td>\n",
       "      <td>3.0</td>\n",
       "      <td>8.71</td>\n",
       "      <td>6.25</td>\n",
       "      <td>NaN</td>\n",
       "      <td>NaN</td>\n",
       "      <td>NaN</td>\n",
       "    </tr>\n",
       "    <tr>\n",
       "      <th>...</th>\n",
       "      <td>...</td>\n",
       "      <td>...</td>\n",
       "      <td>...</td>\n",
       "      <td>...</td>\n",
       "      <td>...</td>\n",
       "      <td>...</td>\n",
       "      <td>...</td>\n",
       "      <td>...</td>\n",
       "      <td>...</td>\n",
       "      <td>...</td>\n",
       "      <td>...</td>\n",
       "      <td>...</td>\n",
       "      <td>...</td>\n",
       "      <td>...</td>\n",
       "      <td>...</td>\n",
       "      <td>...</td>\n",
       "      <td>...</td>\n",
       "      <td>...</td>\n",
       "      <td>...</td>\n",
       "      <td>...</td>\n",
       "    </tr>\n",
       "    <tr>\n",
       "      <th>222</th>\n",
       "      <td>West Bank</td>\n",
       "      <td>NEAR EAST</td>\n",
       "      <td>2460492</td>\n",
       "      <td>5860</td>\n",
       "      <td>419.9</td>\n",
       "      <td>0.00</td>\n",
       "      <td>2.98</td>\n",
       "      <td>19.62</td>\n",
       "      <td>800.0</td>\n",
       "      <td>NaN</td>\n",
       "      <td>145.2</td>\n",
       "      <td>16.90</td>\n",
       "      <td>18.97</td>\n",
       "      <td>64.13</td>\n",
       "      <td>3.0</td>\n",
       "      <td>31.67</td>\n",
       "      <td>3.92</td>\n",
       "      <td>0.090</td>\n",
       "      <td>0.280</td>\n",
       "      <td>0.630</td>\n",
       "    </tr>\n",
       "    <tr>\n",
       "      <th>223</th>\n",
       "      <td>Western Sahara</td>\n",
       "      <td>NORTHERN AFRICA</td>\n",
       "      <td>273008</td>\n",
       "      <td>266000</td>\n",
       "      <td>1.0</td>\n",
       "      <td>0.42</td>\n",
       "      <td>NaN</td>\n",
       "      <td>NaN</td>\n",
       "      <td>NaN</td>\n",
       "      <td>NaN</td>\n",
       "      <td>NaN</td>\n",
       "      <td>0.02</td>\n",
       "      <td>0.00</td>\n",
       "      <td>99.98</td>\n",
       "      <td>1.0</td>\n",
       "      <td>NaN</td>\n",
       "      <td>NaN</td>\n",
       "      <td>NaN</td>\n",
       "      <td>NaN</td>\n",
       "      <td>0.400</td>\n",
       "    </tr>\n",
       "    <tr>\n",
       "      <th>224</th>\n",
       "      <td>Yemen</td>\n",
       "      <td>NEAR EAST</td>\n",
       "      <td>21456188</td>\n",
       "      <td>527970</td>\n",
       "      <td>40.6</td>\n",
       "      <td>0.36</td>\n",
       "      <td>0.00</td>\n",
       "      <td>61.50</td>\n",
       "      <td>800.0</td>\n",
       "      <td>50.2</td>\n",
       "      <td>37.2</td>\n",
       "      <td>2.78</td>\n",
       "      <td>0.24</td>\n",
       "      <td>96.98</td>\n",
       "      <td>1.0</td>\n",
       "      <td>42.89</td>\n",
       "      <td>8.30</td>\n",
       "      <td>0.135</td>\n",
       "      <td>0.472</td>\n",
       "      <td>0.393</td>\n",
       "    </tr>\n",
       "    <tr>\n",
       "      <th>225</th>\n",
       "      <td>Zambia</td>\n",
       "      <td>SUB-SAHARAN AFRICA</td>\n",
       "      <td>11502010</td>\n",
       "      <td>752614</td>\n",
       "      <td>15.3</td>\n",
       "      <td>0.00</td>\n",
       "      <td>0.00</td>\n",
       "      <td>88.29</td>\n",
       "      <td>800.0</td>\n",
       "      <td>80.6</td>\n",
       "      <td>8.2</td>\n",
       "      <td>7.08</td>\n",
       "      <td>0.03</td>\n",
       "      <td>92.90</td>\n",
       "      <td>2.0</td>\n",
       "      <td>41.00</td>\n",
       "      <td>19.93</td>\n",
       "      <td>0.220</td>\n",
       "      <td>0.290</td>\n",
       "      <td>0.489</td>\n",
       "    </tr>\n",
       "    <tr>\n",
       "      <th>226</th>\n",
       "      <td>Zimbabwe</td>\n",
       "      <td>SUB-SAHARAN AFRICA</td>\n",
       "      <td>12236805</td>\n",
       "      <td>390580</td>\n",
       "      <td>31.3</td>\n",
       "      <td>0.00</td>\n",
       "      <td>0.00</td>\n",
       "      <td>67.69</td>\n",
       "      <td>1900.0</td>\n",
       "      <td>90.7</td>\n",
       "      <td>26.8</td>\n",
       "      <td>8.32</td>\n",
       "      <td>0.34</td>\n",
       "      <td>91.34</td>\n",
       "      <td>2.0</td>\n",
       "      <td>28.01</td>\n",
       "      <td>21.84</td>\n",
       "      <td>0.179</td>\n",
       "      <td>0.243</td>\n",
       "      <td>0.579</td>\n",
       "    </tr>\n",
       "  </tbody>\n",
       "</table>\n",
       "<p>227 rows × 20 columns</p>\n",
       "</div>"
      ],
      "text/plain": [
       "            Country                               Region  Population  \\\n",
       "0       Afghanistan        ASIA (EX. NEAR EAST)             31056997   \n",
       "1           Albania  EASTERN EUROPE                          3581655   \n",
       "2           Algeria  NORTHERN AFRICA                        32930091   \n",
       "3    American Samoa  OCEANIA                                   57794   \n",
       "4           Andorra  WESTERN EUROPE                            71201   \n",
       "..              ...                                  ...         ...   \n",
       "222       West Bank  NEAR EAST                               2460492   \n",
       "223  Western Sahara  NORTHERN AFRICA                          273008   \n",
       "224           Yemen  NEAR EAST                              21456188   \n",
       "225          Zambia  SUB-SAHARAN AFRICA                     11502010   \n",
       "226        Zimbabwe  SUB-SAHARAN AFRICA                     12236805   \n",
       "\n",
       "     Area (sq. mi.)  Pop. Density (per sq. mi.)  Coastline (coast/area ratio)  \\\n",
       "0            647500                        48.0                          0.00   \n",
       "1             28748                       124.6                          1.26   \n",
       "2           2381740                        13.8                          0.04   \n",
       "3               199                       290.4                         58.29   \n",
       "4               468                       152.1                          0.00   \n",
       "..              ...                         ...                           ...   \n",
       "222            5860                       419.9                          0.00   \n",
       "223          266000                         1.0                          0.42   \n",
       "224          527970                        40.6                          0.36   \n",
       "225          752614                        15.3                          0.00   \n",
       "226          390580                        31.3                          0.00   \n",
       "\n",
       "     Net migration  Infant mortality (per 1000 births)  GDP ($ per capita)  \\\n",
       "0            23.06                              163.07               700.0   \n",
       "1            -4.93                               21.52              4500.0   \n",
       "2            -0.39                               31.00              6000.0   \n",
       "3           -20.71                                9.27              8000.0   \n",
       "4             6.60                                4.05             19000.0   \n",
       "..             ...                                 ...                 ...   \n",
       "222           2.98                               19.62               800.0   \n",
       "223            NaN                                 NaN                 NaN   \n",
       "224           0.00                               61.50               800.0   \n",
       "225           0.00                               88.29               800.0   \n",
       "226           0.00                               67.69              1900.0   \n",
       "\n",
       "     Literacy (%)  Phones (per 1000)  Arable (%)  Crops (%)  Other (%)  \\\n",
       "0            36.0                3.2       12.13       0.22      87.65   \n",
       "1            86.5               71.2       21.09       4.42      74.49   \n",
       "2            70.0               78.1        3.22       0.25      96.53   \n",
       "3            97.0              259.5       10.00      15.00      75.00   \n",
       "4           100.0              497.2        2.22       0.00      97.78   \n",
       "..            ...                ...         ...        ...        ...   \n",
       "222           NaN              145.2       16.90      18.97      64.13   \n",
       "223           NaN                NaN        0.02       0.00      99.98   \n",
       "224          50.2               37.2        2.78       0.24      96.98   \n",
       "225          80.6                8.2        7.08       0.03      92.90   \n",
       "226          90.7               26.8        8.32       0.34      91.34   \n",
       "\n",
       "     Climate  Birthrate  Deathrate  Agriculture  Industry  Service  \n",
       "0        1.0      46.60      20.34        0.380     0.240    0.380  \n",
       "1        3.0      15.11       5.22        0.232     0.188    0.579  \n",
       "2        1.0      17.14       4.61        0.101     0.600    0.298  \n",
       "3        2.0      22.46       3.27          NaN       NaN      NaN  \n",
       "4        3.0       8.71       6.25          NaN       NaN      NaN  \n",
       "..       ...        ...        ...          ...       ...      ...  \n",
       "222      3.0      31.67       3.92        0.090     0.280    0.630  \n",
       "223      1.0        NaN        NaN          NaN       NaN    0.400  \n",
       "224      1.0      42.89       8.30        0.135     0.472    0.393  \n",
       "225      2.0      41.00      19.93        0.220     0.290    0.489  \n",
       "226      2.0      28.01      21.84        0.179     0.243    0.579  \n",
       "\n",
       "[227 rows x 20 columns]"
      ]
     },
     "execution_count": 59,
     "metadata": {},
     "output_type": "execute_result"
    }
   ],
   "source": [
    "df_ccf.dropna(how = \"all\")"
   ]
  },
  {
   "cell_type": "code",
   "execution_count": 65,
   "id": "e8c44028",
   "metadata": {},
   "outputs": [
    {
     "data": {
      "application/vnd.microsoft.datawrangler.viewer.v0+json": {
       "columns": [
        {
         "name": "Region",
         "rawType": "object",
         "type": "string"
        },
        {
         "name": "Population",
         "rawType": "int64",
         "type": "integer"
        }
       ],
       "ref": "de0aaf76-5390-4471-8e63-635ab9f7f381",
       "rows": [
        [
         "ASIA (EX. NEAR EAST)         ",
         "3687982236"
        ],
        [
         "BALTICS                            ",
         "7184974"
        ],
        [
         "C.W. OF IND. STATES ",
         "280081548"
        ],
        [
         "EASTERN EUROPE                     ",
         "119914717"
        ],
        [
         "LATIN AMER. & CARIB    ",
         "561824599"
        ],
        [
         "NEAR EAST                          ",
         "195068377"
        ],
        [
         "NORTHERN AFRICA                    ",
         "161407133"
        ],
        [
         "NORTHERN AMERICA                   ",
         "331672307"
        ],
        [
         "OCEANIA                            ",
         "33131662"
        ],
        [
         "SUB-SAHARAN AFRICA                 ",
         "749437000"
        ],
        [
         "WESTERN EUROPE                     ",
         "396339998"
        ]
       ],
       "shape": {
        "columns": 1,
        "rows": 11
       }
      },
      "text/plain": [
       "Region\n",
       "ASIA (EX. NEAR EAST)                   3687982236\n",
       "BALTICS                                   7184974\n",
       "C.W. OF IND. STATES                     280081548\n",
       "EASTERN EUROPE                          119914717\n",
       "LATIN AMER. & CARIB                     561824599\n",
       "NEAR EAST                               195068377\n",
       "NORTHERN AFRICA                         161407133\n",
       "NORTHERN AMERICA                        331672307\n",
       "OCEANIA                                  33131662\n",
       "SUB-SAHARAN AFRICA                      749437000\n",
       "WESTERN EUROPE                          396339998\n",
       "Name: Population, dtype: int64"
      ]
     },
     "execution_count": 65,
     "metadata": {},
     "output_type": "execute_result"
    }
   ],
   "source": [
    "df_ccf.groupby(\"Region\")[\"Population\"].sum()"
   ]
  },
  {
   "cell_type": "code",
   "execution_count": 66,
   "id": "6a368a74",
   "metadata": {},
   "outputs": [
    {
     "name": "stdout",
     "output_type": "stream",
     "text": [
      "<class 'pandas.core.frame.DataFrame'>\n",
      "RangeIndex: 227 entries, 0 to 226\n",
      "Data columns (total 20 columns):\n",
      " #   Column                              Non-Null Count  Dtype  \n",
      "---  ------                              --------------  -----  \n",
      " 0   Country                             227 non-null    object \n",
      " 1   Region                              227 non-null    object \n",
      " 2   Population                          227 non-null    int64  \n",
      " 3   Area (sq. mi.)                      227 non-null    int64  \n",
      " 4   Pop. Density (per sq. mi.)          227 non-null    float64\n",
      " 5   Coastline (coast/area ratio)        227 non-null    float64\n",
      " 6   Net migration                       224 non-null    float64\n",
      " 7   Infant mortality (per 1000 births)  224 non-null    float64\n",
      " 8   GDP ($ per capita)                  226 non-null    float64\n",
      " 9   Literacy (%)                        209 non-null    float64\n",
      " 10  Phones (per 1000)                   223 non-null    float64\n",
      " 11  Arable (%)                          225 non-null    float64\n",
      " 12  Crops (%)                           225 non-null    float64\n",
      " 13  Other (%)                           225 non-null    float64\n",
      " 14  Climate                             205 non-null    float64\n",
      " 15  Birthrate                           224 non-null    float64\n",
      " 16  Deathrate                           223 non-null    float64\n",
      " 17  Agriculture                         212 non-null    float64\n",
      " 18  Industry                            211 non-null    float64\n",
      " 19  Service                             212 non-null    float64\n",
      "dtypes: float64(16), int64(2), object(2)\n",
      "memory usage: 35.6+ KB\n"
     ]
    }
   ],
   "source": [
    "df_ccf.info()"
   ]
  },
  {
   "cell_type": "code",
   "execution_count": 67,
   "id": "dd984bf9",
   "metadata": {},
   "outputs": [
    {
     "data": {
      "application/vnd.microsoft.datawrangler.viewer.v0+json": {
       "columns": [
        {
         "name": "index",
         "rawType": "object",
         "type": "string"
        },
        {
         "name": "0",
         "rawType": "int64",
         "type": "integer"
        }
       ],
       "ref": "a00a6105-4c75-4b23-9ac4-bd6c20b43db4",
       "rows": [
        [
         "Country",
         "0"
        ],
        [
         "Region",
         "0"
        ],
        [
         "Population",
         "0"
        ],
        [
         "Area (sq. mi.)",
         "0"
        ],
        [
         "Pop. Density (per sq. mi.)",
         "0"
        ],
        [
         "Coastline (coast/area ratio)",
         "0"
        ],
        [
         "Net migration",
         "3"
        ],
        [
         "Infant mortality (per 1000 births)",
         "3"
        ],
        [
         "GDP ($ per capita)",
         "1"
        ],
        [
         "Literacy (%)",
         "18"
        ],
        [
         "Phones (per 1000)",
         "4"
        ],
        [
         "Arable (%)",
         "2"
        ],
        [
         "Crops (%)",
         "2"
        ],
        [
         "Other (%)",
         "2"
        ],
        [
         "Climate",
         "22"
        ],
        [
         "Birthrate",
         "3"
        ],
        [
         "Deathrate",
         "4"
        ],
        [
         "Agriculture",
         "15"
        ],
        [
         "Industry",
         "16"
        ],
        [
         "Service",
         "15"
        ]
       ],
       "shape": {
        "columns": 1,
        "rows": 20
       }
      },
      "text/plain": [
       "Country                                0\n",
       "Region                                 0\n",
       "Population                             0\n",
       "Area (sq. mi.)                         0\n",
       "Pop. Density (per sq. mi.)             0\n",
       "Coastline (coast/area ratio)           0\n",
       "Net migration                          3\n",
       "Infant mortality (per 1000 births)     3\n",
       "GDP ($ per capita)                     1\n",
       "Literacy (%)                          18\n",
       "Phones (per 1000)                      4\n",
       "Arable (%)                             2\n",
       "Crops (%)                              2\n",
       "Other (%)                              2\n",
       "Climate                               22\n",
       "Birthrate                              3\n",
       "Deathrate                              4\n",
       "Agriculture                           15\n",
       "Industry                              16\n",
       "Service                               15\n",
       "dtype: int64"
      ]
     },
     "execution_count": 67,
     "metadata": {},
     "output_type": "execute_result"
    }
   ],
   "source": [
    "df_ccf.isna().sum()"
   ]
  },
  {
   "cell_type": "code",
   "execution_count": 68,
   "id": "c259afa1",
   "metadata": {},
   "outputs": [
    {
     "data": {
      "application/vnd.microsoft.datawrangler.viewer.v0+json": {
       "columns": [
        {
         "name": "index",
         "rawType": "int64",
         "type": "integer"
        },
        {
         "name": "Climate",
         "rawType": "float64",
         "type": "float"
        }
       ],
       "ref": "bc883b59-89ba-4b2d-a3c5-24ad6c1547a9",
       "rows": [
        [
         "0",
         "1.0"
        ],
        [
         "1",
         "3.0"
        ],
        [
         "2",
         "1.0"
        ],
        [
         "3",
         "2.0"
        ],
        [
         "4",
         "3.0"
        ],
        [
         "5",
         "2.1390243902439026"
        ],
        [
         "6",
         "2.0"
        ],
        [
         "7",
         "2.0"
        ],
        [
         "8",
         "3.0"
        ],
        [
         "9",
         "4.0"
        ],
        [
         "10",
         "2.0"
        ],
        [
         "11",
         "1.0"
        ],
        [
         "12",
         "3.0"
        ],
        [
         "13",
         "1.0"
        ],
        [
         "14",
         "2.0"
        ],
        [
         "15",
         "1.0"
        ],
        [
         "16",
         "2.0"
        ],
        [
         "17",
         "2.0"
        ],
        [
         "18",
         "4.0"
        ],
        [
         "19",
         "3.0"
        ],
        [
         "20",
         "2.0"
        ],
        [
         "21",
         "2.0"
        ],
        [
         "22",
         "2.0"
        ],
        [
         "23",
         "2.0"
        ],
        [
         "24",
         "1.5"
        ],
        [
         "25",
         "4.0"
        ],
        [
         "26",
         "1.0"
        ],
        [
         "27",
         "2.0"
        ],
        [
         "28",
         "2.0"
        ],
        [
         "29",
         "2.0"
        ],
        [
         "30",
         "3.0"
        ],
        [
         "31",
         "2.0"
        ],
        [
         "32",
         "2.0"
        ],
        [
         "33",
         "2.0"
        ],
        [
         "34",
         "2.0"
        ],
        [
         "35",
         "1.5"
        ],
        [
         "36",
         "2.1390243902439026"
        ],
        [
         "37",
         "3.0"
        ],
        [
         "38",
         "2.0"
        ],
        [
         "39",
         "2.0"
        ],
        [
         "40",
         "2.0"
        ],
        [
         "41",
         "3.0"
        ],
        [
         "42",
         "1.5"
        ],
        [
         "43",
         "2.0"
        ],
        [
         "44",
         "2.0"
        ],
        [
         "45",
         "2.0"
        ],
        [
         "46",
         "2.0"
        ],
        [
         "47",
         "2.0"
        ],
        [
         "48",
         "2.0"
        ],
        [
         "49",
         "2.0"
        ]
       ],
       "shape": {
        "columns": 1,
        "rows": 227
       }
      },
      "text/plain": [
       "0      1.0\n",
       "1      3.0\n",
       "2      1.0\n",
       "3      2.0\n",
       "4      3.0\n",
       "      ... \n",
       "222    3.0\n",
       "223    1.0\n",
       "224    1.0\n",
       "225    2.0\n",
       "226    2.0\n",
       "Name: Climate, Length: 227, dtype: float64"
      ]
     },
     "execution_count": 68,
     "metadata": {},
     "output_type": "execute_result"
    }
   ],
   "source": [
    "df_ccf[\"Climate\"].fillna(df_ccf[\"Climate\"].mean())"
   ]
  },
  {
   "cell_type": "code",
   "execution_count": null,
   "id": "48d63234",
   "metadata": {},
   "outputs": [
    {
     "data": {
      "application/vnd.microsoft.datawrangler.viewer.v0+json": {
       "columns": [
        {
         "name": "('Region', 'Country')",
         "rawType": "object",
         "type": "unknown"
        },
        {
         "name": "Birthrate",
         "rawType": "float64",
         "type": "float"
        }
       ],
       "ref": "e0370f6e-9536-4a4e-a3d7-a49e295cdb1b",
       "rows": [
        [
         "('ASIA (EX. NEAR EAST)         ', 'Afghanistan')",
         "46.6"
        ],
        [
         "('ASIA (EX. NEAR EAST)         ', 'Bangladesh')",
         "29.8"
        ],
        [
         "('ASIA (EX. NEAR EAST)         ', 'Bhutan')",
         "33.65"
        ],
        [
         "('ASIA (EX. NEAR EAST)         ', 'Brunei')",
         "18.79"
        ],
        [
         "('ASIA (EX. NEAR EAST)         ', 'Burma')",
         "17.91"
        ],
        [
         "('ASIA (EX. NEAR EAST)         ', 'Cambodia')",
         "26.9"
        ],
        [
         "('ASIA (EX. NEAR EAST)         ', 'China')",
         "13.25"
        ],
        [
         "('ASIA (EX. NEAR EAST)         ', 'East Timor')",
         "26.99"
        ],
        [
         "('ASIA (EX. NEAR EAST)         ', 'Hong Kong')",
         "7.29"
        ],
        [
         "('ASIA (EX. NEAR EAST)         ', 'India')",
         "22.01"
        ],
        [
         "('ASIA (EX. NEAR EAST)         ', 'Indonesia')",
         "20.34"
        ],
        [
         "('ASIA (EX. NEAR EAST)         ', 'Iran')",
         "17.0"
        ],
        [
         "('ASIA (EX. NEAR EAST)         ', 'Japan')",
         "9.37"
        ],
        [
         "('ASIA (EX. NEAR EAST)         ', 'Korea, North')",
         "15.54"
        ],
        [
         "('ASIA (EX. NEAR EAST)         ', 'Korea, South')",
         "10.0"
        ],
        [
         "('ASIA (EX. NEAR EAST)         ', 'Laos')",
         "35.49"
        ],
        [
         "('ASIA (EX. NEAR EAST)         ', 'Macau')",
         "8.48"
        ],
        [
         "('ASIA (EX. NEAR EAST)         ', 'Malaysia')",
         "22.86"
        ],
        [
         "('ASIA (EX. NEAR EAST)         ', 'Maldives')",
         "34.81"
        ],
        [
         "('ASIA (EX. NEAR EAST)         ', 'Mongolia')",
         "21.59"
        ],
        [
         "('ASIA (EX. NEAR EAST)         ', 'Nepal')",
         "30.98"
        ],
        [
         "('ASIA (EX. NEAR EAST)         ', 'Pakistan')",
         "29.74"
        ],
        [
         "('ASIA (EX. NEAR EAST)         ', 'Philippines')",
         "24.89"
        ],
        [
         "('ASIA (EX. NEAR EAST)         ', 'Singapore')",
         "9.34"
        ],
        [
         "('ASIA (EX. NEAR EAST)         ', 'Sri Lanka')",
         "15.51"
        ],
        [
         "('ASIA (EX. NEAR EAST)         ', 'Taiwan')",
         "12.56"
        ],
        [
         "('ASIA (EX. NEAR EAST)         ', 'Thailand')",
         "13.87"
        ],
        [
         "('ASIA (EX. NEAR EAST)         ', 'Vietnam')",
         "16.86"
        ],
        [
         "('BALTICS                            ', 'Estonia')",
         "10.04"
        ],
        [
         "('BALTICS                            ', 'Latvia')",
         "9.24"
        ],
        [
         "('BALTICS                            ', 'Lithuania')",
         "8.75"
        ],
        [
         "('C.W. OF IND. STATES ', 'Armenia')",
         "12.07"
        ],
        [
         "('C.W. OF IND. STATES ', 'Azerbaijan')",
         "20.74"
        ],
        [
         "('C.W. OF IND. STATES ', 'Belarus')",
         "11.16"
        ],
        [
         "('C.W. OF IND. STATES ', 'Georgia')",
         "10.41"
        ],
        [
         "('C.W. OF IND. STATES ', 'Kazakhstan')",
         "16.0"
        ],
        [
         "('C.W. OF IND. STATES ', 'Kyrgyzstan')",
         "22.8"
        ],
        [
         "('C.W. OF IND. STATES ', 'Moldova')",
         "15.7"
        ],
        [
         "('C.W. OF IND. STATES ', 'Russia')",
         "9.95"
        ],
        [
         "('C.W. OF IND. STATES ', 'Tajikistan')",
         "32.65"
        ],
        [
         "('C.W. OF IND. STATES ', 'Turkmenistan')",
         "27.61"
        ],
        [
         "('C.W. OF IND. STATES ', 'Ukraine')",
         "8.82"
        ],
        [
         "('C.W. OF IND. STATES ', 'Uzbekistan')",
         "26.36"
        ],
        [
         "('EASTERN EUROPE                     ', 'Albania')",
         "15.11"
        ],
        [
         "('EASTERN EUROPE                     ', 'Bosnia & Herzegovina')",
         "8.77"
        ],
        [
         "('EASTERN EUROPE                     ', 'Bulgaria')",
         "9.65"
        ],
        [
         "('EASTERN EUROPE                     ', 'Croatia')",
         "9.61"
        ],
        [
         "('EASTERN EUROPE                     ', 'Czech Republic')",
         "9.02"
        ],
        [
         "('EASTERN EUROPE                     ', 'Hungary')",
         "9.72"
        ],
        [
         "('EASTERN EUROPE                     ', 'Macedonia')",
         "12.02"
        ]
       ],
       "shape": {
        "columns": 1,
        "rows": 227
       }
      },
      "text/plain": [
       "Region                               Country       \n",
       "ASIA (EX. NEAR EAST)                 Afghanistan       46.60\n",
       "                                     Bangladesh        29.80\n",
       "                                     Bhutan            33.65\n",
       "                                     Brunei            18.79\n",
       "                                     Burma             17.91\n",
       "                                                       ...  \n",
       "WESTERN EUROPE                       San Marino        10.02\n",
       "                                     Spain             10.06\n",
       "                                     Sweden            10.27\n",
       "                                     Switzerland        9.71\n",
       "                                     United Kingdom    10.71\n",
       "Name: Birthrate, Length: 227, dtype: float64"
      ]
     },
     "execution_count": 75,
     "metadata": {},
     "output_type": "execute_result"
    }
   ],
   "source": [
    "df_ccf.groupby([\"Region\", \"Country\"])[\"Birthrate\"].mean()"
   ]
  },
  {
   "cell_type": "code",
   "execution_count": 76,
   "id": "79521bc0",
   "metadata": {},
   "outputs": [
    {
     "data": {
      "application/vnd.microsoft.datawrangler.viewer.v0+json": {
       "columns": [
        {
         "name": "index",
         "rawType": "int64",
         "type": "integer"
        },
        {
         "name": "Country",
         "rawType": "object",
         "type": "string"
        },
        {
         "name": "Region",
         "rawType": "object",
         "type": "string"
        },
        {
         "name": "Population",
         "rawType": "int64",
         "type": "integer"
        },
        {
         "name": "Area (sq. mi.)",
         "rawType": "int64",
         "type": "integer"
        },
        {
         "name": "Pop. Density (per sq. mi.)",
         "rawType": "float64",
         "type": "float"
        },
        {
         "name": "Coastline (coast/area ratio)",
         "rawType": "float64",
         "type": "float"
        },
        {
         "name": "Net migration",
         "rawType": "float64",
         "type": "float"
        },
        {
         "name": "Infant mortality (per 1000 births)",
         "rawType": "float64",
         "type": "float"
        },
        {
         "name": "GDP ($ per capita)",
         "rawType": "float64",
         "type": "float"
        },
        {
         "name": "Literacy (%)",
         "rawType": "float64",
         "type": "float"
        },
        {
         "name": "Phones (per 1000)",
         "rawType": "float64",
         "type": "float"
        },
        {
         "name": "Arable (%)",
         "rawType": "float64",
         "type": "float"
        },
        {
         "name": "Crops (%)",
         "rawType": "float64",
         "type": "float"
        },
        {
         "name": "Other (%)",
         "rawType": "float64",
         "type": "float"
        },
        {
         "name": "Climate",
         "rawType": "float64",
         "type": "float"
        },
        {
         "name": "Birthrate",
         "rawType": "float64",
         "type": "float"
        },
        {
         "name": "Deathrate",
         "rawType": "float64",
         "type": "float"
        },
        {
         "name": "Agriculture",
         "rawType": "float64",
         "type": "float"
        },
        {
         "name": "Industry",
         "rawType": "float64",
         "type": "float"
        },
        {
         "name": "Service",
         "rawType": "float64",
         "type": "float"
        }
       ],
       "ref": "d674e1df-92b1-43fc-91d0-b3ac76d5a1fa",
       "rows": [
        [
         "0",
         "Afghanistan",
         "ASIA (EX. NEAR EAST)         ",
         "31056997",
         "647500",
         "48.0",
         "0.0",
         "23.06",
         "163.07",
         "700.0",
         "36.0",
         "3.2",
         "12.13",
         "0.22",
         "87.65",
         "1.0",
         "46.6",
         "20.34",
         "0.38",
         "0.24",
         "0.38"
        ],
        [
         "1",
         "Albania",
         "EASTERN EUROPE                     ",
         "3581655",
         "28748",
         "124.6",
         "1.26",
         "-4.93",
         "21.52",
         "4500.0",
         "86.5",
         "71.2",
         "21.09",
         "4.42",
         "74.49",
         "3.0",
         "15.11",
         "5.22",
         "0.232",
         "0.188",
         "0.579"
        ],
        [
         "2",
         "Algeria",
         "NORTHERN AFRICA                    ",
         "32930091",
         "2381740",
         "13.8",
         "0.04",
         "-0.39",
         "31.0",
         "6000.0",
         "70.0",
         "78.1",
         "3.22",
         "0.25",
         "96.53",
         "1.0",
         "17.14",
         "4.61",
         "0.101",
         "0.6",
         "0.298"
        ],
        [
         "3",
         "American Samoa",
         "OCEANIA                            ",
         "57794",
         "199",
         "290.4",
         "58.29",
         "-20.71",
         "9.27",
         "8000.0",
         "97.0",
         "259.5",
         "10.0",
         "15.0",
         "75.0",
         "2.0",
         "22.46",
         "3.27",
         null,
         null,
         null
        ],
        [
         "4",
         "Andorra",
         "WESTERN EUROPE                     ",
         "71201",
         "468",
         "152.1",
         "0.0",
         "6.6",
         "4.05",
         "19000.0",
         "100.0",
         "497.2",
         "2.22",
         "0.0",
         "97.78",
         "3.0",
         "8.71",
         "6.25",
         null,
         null,
         null
        ]
       ],
       "shape": {
        "columns": 20,
        "rows": 5
       }
      },
      "text/html": [
       "<div>\n",
       "<style scoped>\n",
       "    .dataframe tbody tr th:only-of-type {\n",
       "        vertical-align: middle;\n",
       "    }\n",
       "\n",
       "    .dataframe tbody tr th {\n",
       "        vertical-align: top;\n",
       "    }\n",
       "\n",
       "    .dataframe thead th {\n",
       "        text-align: right;\n",
       "    }\n",
       "</style>\n",
       "<table border=\"1\" class=\"dataframe\">\n",
       "  <thead>\n",
       "    <tr style=\"text-align: right;\">\n",
       "      <th></th>\n",
       "      <th>Country</th>\n",
       "      <th>Region</th>\n",
       "      <th>Population</th>\n",
       "      <th>Area (sq. mi.)</th>\n",
       "      <th>Pop. Density (per sq. mi.)</th>\n",
       "      <th>Coastline (coast/area ratio)</th>\n",
       "      <th>Net migration</th>\n",
       "      <th>Infant mortality (per 1000 births)</th>\n",
       "      <th>GDP ($ per capita)</th>\n",
       "      <th>Literacy (%)</th>\n",
       "      <th>Phones (per 1000)</th>\n",
       "      <th>Arable (%)</th>\n",
       "      <th>Crops (%)</th>\n",
       "      <th>Other (%)</th>\n",
       "      <th>Climate</th>\n",
       "      <th>Birthrate</th>\n",
       "      <th>Deathrate</th>\n",
       "      <th>Agriculture</th>\n",
       "      <th>Industry</th>\n",
       "      <th>Service</th>\n",
       "    </tr>\n",
       "  </thead>\n",
       "  <tbody>\n",
       "    <tr>\n",
       "      <th>0</th>\n",
       "      <td>Afghanistan</td>\n",
       "      <td>ASIA (EX. NEAR EAST)</td>\n",
       "      <td>31056997</td>\n",
       "      <td>647500</td>\n",
       "      <td>48.0</td>\n",
       "      <td>0.00</td>\n",
       "      <td>23.06</td>\n",
       "      <td>163.07</td>\n",
       "      <td>700.0</td>\n",
       "      <td>36.0</td>\n",
       "      <td>3.2</td>\n",
       "      <td>12.13</td>\n",
       "      <td>0.22</td>\n",
       "      <td>87.65</td>\n",
       "      <td>1.0</td>\n",
       "      <td>46.60</td>\n",
       "      <td>20.34</td>\n",
       "      <td>0.380</td>\n",
       "      <td>0.240</td>\n",
       "      <td>0.380</td>\n",
       "    </tr>\n",
       "    <tr>\n",
       "      <th>1</th>\n",
       "      <td>Albania</td>\n",
       "      <td>EASTERN EUROPE</td>\n",
       "      <td>3581655</td>\n",
       "      <td>28748</td>\n",
       "      <td>124.6</td>\n",
       "      <td>1.26</td>\n",
       "      <td>-4.93</td>\n",
       "      <td>21.52</td>\n",
       "      <td>4500.0</td>\n",
       "      <td>86.5</td>\n",
       "      <td>71.2</td>\n",
       "      <td>21.09</td>\n",
       "      <td>4.42</td>\n",
       "      <td>74.49</td>\n",
       "      <td>3.0</td>\n",
       "      <td>15.11</td>\n",
       "      <td>5.22</td>\n",
       "      <td>0.232</td>\n",
       "      <td>0.188</td>\n",
       "      <td>0.579</td>\n",
       "    </tr>\n",
       "    <tr>\n",
       "      <th>2</th>\n",
       "      <td>Algeria</td>\n",
       "      <td>NORTHERN AFRICA</td>\n",
       "      <td>32930091</td>\n",
       "      <td>2381740</td>\n",
       "      <td>13.8</td>\n",
       "      <td>0.04</td>\n",
       "      <td>-0.39</td>\n",
       "      <td>31.00</td>\n",
       "      <td>6000.0</td>\n",
       "      <td>70.0</td>\n",
       "      <td>78.1</td>\n",
       "      <td>3.22</td>\n",
       "      <td>0.25</td>\n",
       "      <td>96.53</td>\n",
       "      <td>1.0</td>\n",
       "      <td>17.14</td>\n",
       "      <td>4.61</td>\n",
       "      <td>0.101</td>\n",
       "      <td>0.600</td>\n",
       "      <td>0.298</td>\n",
       "    </tr>\n",
       "    <tr>\n",
       "      <th>3</th>\n",
       "      <td>American Samoa</td>\n",
       "      <td>OCEANIA</td>\n",
       "      <td>57794</td>\n",
       "      <td>199</td>\n",
       "      <td>290.4</td>\n",
       "      <td>58.29</td>\n",
       "      <td>-20.71</td>\n",
       "      <td>9.27</td>\n",
       "      <td>8000.0</td>\n",
       "      <td>97.0</td>\n",
       "      <td>259.5</td>\n",
       "      <td>10.00</td>\n",
       "      <td>15.00</td>\n",
       "      <td>75.00</td>\n",
       "      <td>2.0</td>\n",
       "      <td>22.46</td>\n",
       "      <td>3.27</td>\n",
       "      <td>NaN</td>\n",
       "      <td>NaN</td>\n",
       "      <td>NaN</td>\n",
       "    </tr>\n",
       "    <tr>\n",
       "      <th>4</th>\n",
       "      <td>Andorra</td>\n",
       "      <td>WESTERN EUROPE</td>\n",
       "      <td>71201</td>\n",
       "      <td>468</td>\n",
       "      <td>152.1</td>\n",
       "      <td>0.00</td>\n",
       "      <td>6.60</td>\n",
       "      <td>4.05</td>\n",
       "      <td>19000.0</td>\n",
       "      <td>100.0</td>\n",
       "      <td>497.2</td>\n",
       "      <td>2.22</td>\n",
       "      <td>0.00</td>\n",
       "      <td>97.78</td>\n",
       "      <td>3.0</td>\n",
       "      <td>8.71</td>\n",
       "      <td>6.25</td>\n",
       "      <td>NaN</td>\n",
       "      <td>NaN</td>\n",
       "      <td>NaN</td>\n",
       "    </tr>\n",
       "  </tbody>\n",
       "</table>\n",
       "</div>"
      ],
      "text/plain": [
       "          Country                               Region  Population  \\\n",
       "0     Afghanistan        ASIA (EX. NEAR EAST)             31056997   \n",
       "1         Albania  EASTERN EUROPE                          3581655   \n",
       "2         Algeria  NORTHERN AFRICA                        32930091   \n",
       "3  American Samoa  OCEANIA                                   57794   \n",
       "4         Andorra  WESTERN EUROPE                            71201   \n",
       "\n",
       "   Area (sq. mi.)  Pop. Density (per sq. mi.)  Coastline (coast/area ratio)  \\\n",
       "0          647500                        48.0                          0.00   \n",
       "1           28748                       124.6                          1.26   \n",
       "2         2381740                        13.8                          0.04   \n",
       "3             199                       290.4                         58.29   \n",
       "4             468                       152.1                          0.00   \n",
       "\n",
       "   Net migration  Infant mortality (per 1000 births)  GDP ($ per capita)  \\\n",
       "0          23.06                              163.07               700.0   \n",
       "1          -4.93                               21.52              4500.0   \n",
       "2          -0.39                               31.00              6000.0   \n",
       "3         -20.71                                9.27              8000.0   \n",
       "4           6.60                                4.05             19000.0   \n",
       "\n",
       "   Literacy (%)  Phones (per 1000)  Arable (%)  Crops (%)  Other (%)  Climate  \\\n",
       "0          36.0                3.2       12.13       0.22      87.65      1.0   \n",
       "1          86.5               71.2       21.09       4.42      74.49      3.0   \n",
       "2          70.0               78.1        3.22       0.25      96.53      1.0   \n",
       "3          97.0              259.5       10.00      15.00      75.00      2.0   \n",
       "4         100.0              497.2        2.22       0.00      97.78      3.0   \n",
       "\n",
       "   Birthrate  Deathrate  Agriculture  Industry  Service  \n",
       "0      46.60      20.34        0.380     0.240    0.380  \n",
       "1      15.11       5.22        0.232     0.188    0.579  \n",
       "2      17.14       4.61        0.101     0.600    0.298  \n",
       "3      22.46       3.27          NaN       NaN      NaN  \n",
       "4       8.71       6.25          NaN       NaN      NaN  "
      ]
     },
     "execution_count": 76,
     "metadata": {},
     "output_type": "execute_result"
    }
   ],
   "source": [
    "df_ccf.head()"
   ]
  },
  {
   "cell_type": "code",
   "execution_count": 77,
   "id": "10e17f2a",
   "metadata": {},
   "outputs": [
    {
     "data": {
      "application/vnd.microsoft.datawrangler.viewer.v0+json": {
       "columns": [
        {
         "name": "Region",
         "rawType": "object",
         "type": "string"
        },
        {
         "name": "Population",
         "rawType": "int64",
         "type": "integer"
        }
       ],
       "ref": "ad29cfe4-19a8-4f96-882c-eee196bdceb8",
       "rows": [
        [
         "ASIA (EX. NEAR EAST)         ",
         "3687982236"
        ],
        [
         "SUB-SAHARAN AFRICA                 ",
         "749437000"
        ],
        [
         "LATIN AMER. & CARIB    ",
         "561824599"
        ],
        [
         "WESTERN EUROPE                     ",
         "396339998"
        ],
        [
         "NORTHERN AMERICA                   ",
         "331672307"
        ],
        [
         "C.W. OF IND. STATES ",
         "280081548"
        ],
        [
         "NEAR EAST                          ",
         "195068377"
        ],
        [
         "NORTHERN AFRICA                    ",
         "161407133"
        ],
        [
         "EASTERN EUROPE                     ",
         "119914717"
        ],
        [
         "OCEANIA                            ",
         "33131662"
        ],
        [
         "BALTICS                            ",
         "7184974"
        ]
       ],
       "shape": {
        "columns": 1,
        "rows": 11
       }
      },
      "text/plain": [
       "Region\n",
       "ASIA (EX. NEAR EAST)                   3687982236\n",
       "SUB-SAHARAN AFRICA                      749437000\n",
       "LATIN AMER. & CARIB                     561824599\n",
       "WESTERN EUROPE                          396339998\n",
       "NORTHERN AMERICA                        331672307\n",
       "C.W. OF IND. STATES                     280081548\n",
       "NEAR EAST                               195068377\n",
       "NORTHERN AFRICA                         161407133\n",
       "EASTERN EUROPE                          119914717\n",
       "OCEANIA                                  33131662\n",
       "BALTICS                                   7184974\n",
       "Name: Population, dtype: int64"
      ]
     },
     "execution_count": 77,
     "metadata": {},
     "output_type": "execute_result"
    }
   ],
   "source": [
    "df_ccf.groupby(\"Region\")[\"Population\"].sum().sort_values(ascending=False)"
   ]
  },
  {
   "cell_type": "code",
   "execution_count": 78,
   "id": "ebf80bac",
   "metadata": {},
   "outputs": [],
   "source": [
    "# Nufusu en yuksek olan bolge Asya bolgesidir."
   ]
  },
  {
   "cell_type": "code",
   "execution_count": 82,
   "id": "dd274407",
   "metadata": {},
   "outputs": [
    {
     "data": {
      "application/vnd.microsoft.datawrangler.viewer.v0+json": {
       "columns": [
        {
         "name": "Country",
         "rawType": "object",
         "type": "string"
        },
        {
         "name": "Area (sq. mi.)",
         "rawType": "int64",
         "type": "integer"
        }
       ],
       "ref": "652cdc00-5866-45f3-99ed-3f3fd518f4ec",
       "rows": [
        [
         "Monaco",
         "2"
        ],
        [
         "Gibraltar",
         "7"
        ],
        [
         "Nauru",
         "21"
        ],
        [
         "Tuvalu",
         "26"
        ],
        [
         "Macau",
         "28"
        ],
        [
         "Bermuda",
         "53"
        ],
        [
         "San Marino",
         "61"
        ],
        [
         "Guernsey",
         "78"
        ],
        [
         "Anguilla",
         "102"
        ],
        [
         "Montserrat",
         "102"
        ],
        [
         "Jersey",
         "116"
        ],
        [
         "British Virgin Is.",
         "153"
        ],
        [
         "Liechtenstein",
         "160"
        ],
        [
         "Aruba",
         "193"
        ],
        [
         "American Samoa",
         "199"
        ],
        [
         "Cook Islands",
         "240"
        ],
        [
         "St Pierre & Miquelon",
         "242"
        ],
        [
         "Saint Kitts & Nevis",
         "261"
        ],
        [
         "Cayman Islands",
         "262"
        ],
        [
         "Wallis and Futuna",
         "274"
        ],
        [
         "Maldives",
         "300"
        ],
        [
         "Malta",
         "316"
        ],
        [
         "Grenada",
         "344"
        ],
        [
         "Gaza Strip",
         "360"
        ],
        [
         "Mayotte",
         "374"
        ],
        [
         "Saint Vincent and the Grenadines",
         "389"
        ],
        [
         "Saint Helena",
         "413"
        ],
        [
         "Turks & Caicos Is",
         "430"
        ],
        [
         "Barbados",
         "431"
        ],
        [
         "Antigua & Barbuda",
         "443"
        ],
        [
         "Seychelles",
         "455"
        ],
        [
         "Palau",
         "458"
        ],
        [
         "Andorra",
         "468"
        ],
        [
         "N. Mariana Islands",
         "477"
        ],
        [
         "Guam",
         "541"
        ],
        [
         "Isle of Man",
         "572"
        ],
        [
         "Saint Lucia",
         "616"
        ],
        [
         "Bahrain",
         "665"
        ],
        [
         "Singapore",
         "693"
        ],
        [
         "Micronesia, Fed. St.",
         "702"
        ],
        [
         "Tonga",
         "748"
        ],
        [
         "Dominica",
         "754"
        ],
        [
         "Kiribati",
         "811"
        ],
        [
         "Netherlands Antilles",
         "960"
        ],
        [
         "Sao Tome & Principe",
         "1001"
        ],
        [
         "Hong Kong",
         "1092"
        ],
        [
         "Martinique",
         "1100"
        ],
        [
         "Faroe Islands",
         "1399"
        ],
        [
         "Guadeloupe",
         "1780"
        ],
        [
         "Virgin Islands",
         "1910"
        ]
       ],
       "shape": {
        "columns": 1,
        "rows": 227
       }
      },
      "text/plain": [
       "Country\n",
       "Monaco                  2\n",
       "Gibraltar               7\n",
       "Nauru                  21\n",
       "Tuvalu                 26\n",
       "Macau                  28\n",
       "                   ...   \n",
       "Brazil            8511965\n",
       "China             9596960\n",
       "United States     9631420\n",
       "Canada            9984670\n",
       "Russia           17075200\n",
       "Name: Area (sq. mi.), Length: 227, dtype: int64"
      ]
     },
     "execution_count": 82,
     "metadata": {},
     "output_type": "execute_result"
    }
   ],
   "source": [
    "df_ccf.groupby(\"Country\")[\"Area (sq. mi.)\"].sum().sort_values()"
   ]
  },
  {
   "cell_type": "code",
   "execution_count": 83,
   "id": "ed4e9ad6",
   "metadata": {},
   "outputs": [],
   "source": [
    "# Alani en kucuk olan ulke Monaco'dur."
   ]
  },
  {
   "cell_type": "code",
   "execution_count": 84,
   "id": "2e7a9076",
   "metadata": {},
   "outputs": [
    {
     "data": {
      "application/vnd.microsoft.datawrangler.viewer.v0+json": {
       "columns": [
        {
         "name": "Country",
         "rawType": "object",
         "type": "string"
        },
        {
         "name": "Area (sq. mi.)",
         "rawType": "int64",
         "type": "integer"
        }
       ],
       "ref": "bc0d766d-dd2d-461b-ba85-4cd54908ff67",
       "rows": [
        [
         "Russia",
         "17075200"
        ],
        [
         "Canada",
         "9984670"
        ],
        [
         "United States",
         "9631420"
        ],
        [
         "China",
         "9596960"
        ],
        [
         "Brazil",
         "8511965"
        ],
        [
         "Australia",
         "7686850"
        ],
        [
         "India",
         "3287590"
        ],
        [
         "Argentina",
         "2766890"
        ],
        [
         "Kazakhstan",
         "2717300"
        ],
        [
         "Sudan",
         "2505810"
        ],
        [
         "Algeria",
         "2381740"
        ],
        [
         "Congo, Dem. Rep.",
         "2345410"
        ],
        [
         "Greenland",
         "2166086"
        ],
        [
         "Mexico",
         "1972550"
        ],
        [
         "Saudi Arabia",
         "1960582"
        ],
        [
         "Indonesia",
         "1919440"
        ],
        [
         "Libya",
         "1759540"
        ],
        [
         "Iran",
         "1648000"
        ],
        [
         "Mongolia",
         "1564116"
        ],
        [
         "Peru",
         "1285220"
        ],
        [
         "Chad",
         "1284000"
        ],
        [
         "Niger",
         "1267000"
        ],
        [
         "Angola",
         "1246700"
        ],
        [
         "Mali",
         "1240000"
        ],
        [
         "South Africa",
         "1219912"
        ],
        [
         "Colombia",
         "1138910"
        ],
        [
         "Ethiopia",
         "1127127"
        ],
        [
         "Bolivia",
         "1098580"
        ],
        [
         "Mauritania",
         "1030700"
        ],
        [
         "Egypt",
         "1001450"
        ],
        [
         "Tanzania",
         "945087"
        ],
        [
         "Nigeria",
         "923768"
        ],
        [
         "Venezuela",
         "912050"
        ],
        [
         "Namibia",
         "825418"
        ],
        [
         "Pakistan",
         "803940"
        ],
        [
         "Mozambique",
         "801590"
        ],
        [
         "Turkey",
         "780580"
        ],
        [
         "Chile",
         "756950"
        ],
        [
         "Zambia",
         "752614"
        ],
        [
         "Burma",
         "678500"
        ],
        [
         "Afghanistan",
         "647500"
        ],
        [
         "Somalia",
         "637657"
        ],
        [
         "Central African Rep.",
         "622984"
        ],
        [
         "Ukraine",
         "603700"
        ],
        [
         "Botswana",
         "600370"
        ],
        [
         "Madagascar",
         "587040"
        ],
        [
         "Kenya",
         "582650"
        ],
        [
         "France",
         "547030"
        ],
        [
         "Yemen",
         "527970"
        ],
        [
         "Thailand",
         "514000"
        ]
       ],
       "shape": {
        "columns": 1,
        "rows": 227
       }
      },
      "text/plain": [
       "Country\n",
       "Russia           17075200\n",
       "Canada            9984670\n",
       "United States     9631420\n",
       "China             9596960\n",
       "Brazil            8511965\n",
       "                   ...   \n",
       "Macau                  28\n",
       "Tuvalu                 26\n",
       "Nauru                  21\n",
       "Gibraltar               7\n",
       "Monaco                  2\n",
       "Name: Area (sq. mi.), Length: 227, dtype: int64"
      ]
     },
     "execution_count": 84,
     "metadata": {},
     "output_type": "execute_result"
    }
   ],
   "source": [
    "df_ccf.groupby(\"Country\")[\"Area (sq. mi.)\"].sum().sort_values(ascending=False)"
   ]
  },
  {
   "cell_type": "code",
   "execution_count": 85,
   "id": "7f334a98",
   "metadata": {},
   "outputs": [],
   "source": [
    "# Alani en buyuk olan ulke Rusya'dir."
   ]
  },
  {
   "cell_type": "code",
   "execution_count": 86,
   "id": "da73a2d4",
   "metadata": {},
   "outputs": [
    {
     "data": {
      "application/vnd.microsoft.datawrangler.viewer.v0+json": {
       "columns": [
        {
         "name": "Country",
         "rawType": "object",
         "type": "string"
        },
        {
         "name": "Deathrate",
         "rawType": "float64",
         "type": "float"
        }
       ],
       "ref": "6ef5529c-0145-4aa9-ac5c-cd195c982ae5",
       "rows": [
        [
         "Cook Islands",
         "0.0"
        ],
        [
         "Wallis and Futuna",
         "0.0"
        ],
        [
         "Western Sahara",
         "0.0"
        ],
        [
         "Serbia",
         "0.0"
        ],
        [
         "N. Mariana Islands",
         "2.29"
        ],
        [
         "Kuwait",
         "2.41"
        ],
        [
         "Saudi Arabia",
         "2.58"
        ],
        [
         "Jordan",
         "2.65"
        ],
        [
         "American Samoa",
         "3.27"
        ],
        [
         "Brunei",
         "3.45"
        ],
        [
         "Libya",
         "3.48"
        ],
        [
         "Gaza Strip",
         "3.8"
        ],
        [
         "Oman",
         "3.81"
        ],
        [
         "Solomon Islands",
         "3.92"
        ],
        [
         "West Bank",
         "3.92"
        ],
        [
         "Bahrain",
         "4.14"
        ],
        [
         "Turks & Caicos Is",
         "4.21"
        ],
        [
         "Ecuador",
         "4.23"
        ],
        [
         "Singapore",
         "4.28"
        ],
        [
         "Costa Rica",
         "4.36"
        ],
        [
         "United Arab Emirates",
         "4.4"
        ],
        [
         "British Virgin Is.",
         "4.42"
        ],
        [
         "Nicaragua",
         "4.45"
        ],
        [
         "Macau",
         "4.47"
        ],
        [
         "Guam",
         "4.48"
        ],
        [
         "Paraguay",
         "4.49"
        ],
        [
         "Algeria",
         "4.61"
        ],
        [
         "French Polynesia",
         "4.69"
        ],
        [
         "Qatar",
         "4.72"
        ],
        [
         "Mexico",
         "4.74"
        ],
        [
         "Micronesia, Fed. St.",
         "4.75"
        ],
        [
         "Marshall Islands",
         "4.78"
        ],
        [
         "Syria",
         "4.81"
        ],
        [
         "French Guiana",
         "4.88"
        ],
        [
         "Cayman Islands",
         "4.89"
        ],
        [
         "Venezuela",
         "4.92"
        ],
        [
         "Malaysia",
         "5.05"
        ],
        [
         "Saint Lucia",
         "5.08"
        ],
        [
         "Tunisia",
         "5.13"
        ],
        [
         "Guatemala",
         "5.2"
        ],
        [
         "Albania",
         "5.22"
        ],
        [
         "Egypt",
         "5.23"
        ],
        [
         "Tonga",
         "5.28"
        ],
        [
         "Honduras",
         "5.28"
        ],
        [
         "Anguilla",
         "5.34"
        ],
        [
         "Panama",
         "5.36"
        ],
        [
         "Antigua & Barbuda",
         "5.37"
        ],
        [
         "Iraq",
         "5.37"
        ],
        [
         "Philippines",
         "5.41"
        ],
        [
         "Reunion",
         "5.49"
        ]
       ],
       "shape": {
        "columns": 1,
        "rows": 227
       }
      },
      "text/plain": [
       "Country\n",
       "Cook Islands           0.00\n",
       "Wallis and Futuna      0.00\n",
       "Western Sahara         0.00\n",
       "Serbia                 0.00\n",
       "N. Mariana Islands     2.29\n",
       "                      ...  \n",
       "Liberia               23.10\n",
       "Angola                24.20\n",
       "Lesotho               28.71\n",
       "Botswana              29.50\n",
       "Swaziland             29.74\n",
       "Name: Deathrate, Length: 227, dtype: float64"
      ]
     },
     "execution_count": 86,
     "metadata": {},
     "output_type": "execute_result"
    }
   ],
   "source": [
    "df_ccf.groupby(\"Country\")[\"Deathrate\"].sum().sort_values()"
   ]
  },
  {
   "cell_type": "code",
   "execution_count": 87,
   "id": "8829a9ea",
   "metadata": {},
   "outputs": [],
   "source": [
    "# Olum orani en yuksek olan ulke Swaziland'dir."
   ]
  },
  {
   "cell_type": "code",
   "execution_count": 88,
   "id": "ee03e5c4",
   "metadata": {},
   "outputs": [
    {
     "data": {
      "application/vnd.microsoft.datawrangler.viewer.v0+json": {
       "columns": [
        {
         "name": "Country",
         "rawType": "object",
         "type": "string"
        },
        {
         "name": "Birthrate",
         "rawType": "float64",
         "type": "float"
        }
       ],
       "ref": "ca6d40a1-a972-4a77-a97f-4258e4fd7c1b",
       "rows": [
        [
         "Western Sahara",
         "0.0"
        ],
        [
         "Wallis and Futuna",
         "0.0"
        ],
        [
         "Serbia",
         "0.0"
        ],
        [
         "Hong Kong",
         "7.29"
        ],
        [
         "Germany",
         "8.25"
        ],
        [
         "Macau",
         "8.48"
        ],
        [
         "Andorra",
         "8.71"
        ],
        [
         "Italy",
         "8.72"
        ],
        [
         "Austria",
         "8.74"
        ],
        [
         "Lithuania",
         "8.75"
        ],
        [
         "Bosnia & Herzegovina",
         "8.77"
        ],
        [
         "Guernsey",
         "8.81"
        ],
        [
         "Ukraine",
         "8.82"
        ],
        [
         "Slovenia",
         "8.98"
        ],
        [
         "Czech Republic",
         "9.02"
        ],
        [
         "Monaco",
         "9.19"
        ],
        [
         "Latvia",
         "9.24"
        ],
        [
         "Jersey",
         "9.3"
        ],
        [
         "Singapore",
         "9.34"
        ],
        [
         "Japan",
         "9.37"
        ],
        [
         "Croatia",
         "9.61"
        ],
        [
         "Bulgaria",
         "9.65"
        ],
        [
         "Greece",
         "9.68"
        ],
        [
         "Switzerland",
         "9.71"
        ],
        [
         "Hungary",
         "9.72"
        ],
        [
         "Poland",
         "9.85"
        ],
        [
         "Russia",
         "9.95"
        ],
        [
         "Korea, South",
         "10.0"
        ],
        [
         "San Marino",
         "10.02"
        ],
        [
         "Estonia",
         "10.04"
        ],
        [
         "Spain",
         "10.06"
        ],
        [
         "Liechtenstein",
         "10.21"
        ],
        [
         "Malta",
         "10.22"
        ],
        [
         "Sweden",
         "10.27"
        ],
        [
         "Belgium",
         "10.38"
        ],
        [
         "Georgia",
         "10.41"
        ],
        [
         "Finland",
         "10.45"
        ],
        [
         "Slovakia",
         "10.65"
        ],
        [
         "Romania",
         "10.7"
        ],
        [
         "United Kingdom",
         "10.71"
        ],
        [
         "Portugal",
         "10.72"
        ],
        [
         "Gibraltar",
         "10.74"
        ],
        [
         "Canada",
         "10.78"
        ],
        [
         "Netherlands",
         "10.9"
        ],
        [
         "Aruba",
         "11.03"
        ],
        [
         "Isle of Man",
         "11.05"
        ],
        [
         "Denmark",
         "11.13"
        ],
        [
         "Belarus",
         "11.16"
        ],
        [
         "Bermuda",
         "11.4"
        ],
        [
         "Norway",
         "11.46"
        ]
       ],
       "shape": {
        "columns": 1,
        "rows": 227
       }
      },
      "text/plain": [
       "Country\n",
       "Western Sahara        0.00\n",
       "Wallis and Futuna     0.00\n",
       "Serbia                0.00\n",
       "Hong Kong             7.29\n",
       "Germany               8.25\n",
       "                     ...  \n",
       "Sierra Leone         45.76\n",
       "Afghanistan          46.60\n",
       "Uganda               47.35\n",
       "Mali                 49.82\n",
       "Niger                50.73\n",
       "Name: Birthrate, Length: 227, dtype: float64"
      ]
     },
     "execution_count": 88,
     "metadata": {},
     "output_type": "execute_result"
    }
   ],
   "source": [
    "df_ccf.groupby(\"Country\")[\"Birthrate\"].sum().sort_values()"
   ]
  },
  {
   "cell_type": "code",
   "execution_count": 89,
   "id": "8a7ab948",
   "metadata": {},
   "outputs": [],
   "source": [
    "# Dogum orani en yuksek olan ulke Niger'dir."
   ]
  },
  {
   "cell_type": "code",
   "execution_count": 94,
   "id": "fe4fff18",
   "metadata": {},
   "outputs": [
    {
     "data": {
      "application/vnd.microsoft.datawrangler.viewer.v0+json": {
       "columns": [
        {
         "name": "Country",
         "rawType": "object",
         "type": "string"
        },
        {
         "name": "Phones (per 1000)",
         "rawType": "float64",
         "type": "float"
        }
       ],
       "ref": "c867d2a1-f1ee-4eba-98f5-9de74d693b3a",
       "rows": [
        [
         "Congo, Dem. Rep.",
         "0.2"
        ],
        [
         "Chad",
         "1.3"
        ],
        [
         "Niger",
         "1.9"
        ],
        [
         "Central African Rep.",
         "2.3"
        ],
        [
         "Liberia",
         "2.3"
        ],
        [
         "Cambodia",
         "2.6"
        ],
        [
         "Rwanda",
         "2.7"
        ],
        [
         "Guinea",
         "2.7"
        ],
        [
         "Afghanistan",
         "3.2"
        ],
        [
         "Burundi",
         "3.4"
        ],
        [
         "Mozambique",
         "3.5"
        ],
        [
         "Madagascar",
         "3.6"
        ],
        [
         "Uganda",
         "3.6"
        ],
        [
         "Congo, Repub. of the",
         "3.7"
        ],
        [
         "Sierra Leone",
         "4.0"
        ],
        [
         "Tanzania",
         "4.0"
        ],
        [
         "Cameroon",
         "5.7"
        ],
        [
         "Mali",
         "6.4"
        ],
        [
         "Burkina Faso",
         "7.0"
        ],
        [
         "Bangladesh",
         "7.3"
        ],
        [
         "Guinea-Bissau",
         "7.4"
        ],
        [
         "Angola",
         "7.8"
        ],
        [
         "Malawi",
         "7.9"
        ],
        [
         "Eritrea",
         "7.9"
        ],
        [
         "Kenya",
         "8.1"
        ],
        [
         "Zambia",
         "8.2"
        ],
        [
         "Ethiopia",
         "8.2"
        ],
        [
         "Nigeria",
         "9.3"
        ],
        [
         "Benin",
         "9.7"
        ],
        [
         "Burma",
         "10.1"
        ],
        [
         "Togo",
         "10.6"
        ],
        [
         "Papua New Guinea",
         "10.9"
        ],
        [
         "Somalia",
         "11.3"
        ],
        [
         "Mauritania",
         "12.9"
        ],
        [
         "Solomon Islands",
         "13.4"
        ],
        [
         "Laos",
         "14.1"
        ],
        [
         "Bhutan",
         "14.3"
        ],
        [
         "Ghana",
         "14.4"
        ],
        [
         "Cote d'Ivoire",
         "14.6"
        ],
        [
         "Nepal",
         "15.9"
        ],
        [
         "Sudan",
         "16.3"
        ],
        [
         "Haiti",
         "16.9"
        ],
        [
         "Equatorial Guinea",
         "18.5"
        ],
        [
         "Senegal",
         "22.2"
        ],
        [
         "Djibouti",
         "22.8"
        ],
        [
         "Lesotho",
         "23.7"
        ],
        [
         "Comoros",
         "24.5"
        ],
        [
         "Zimbabwe",
         "26.8"
        ],
        [
         "Gambia, The",
         "26.8"
        ],
        [
         "Gabon",
         "27.4"
        ]
       ],
       "shape": {
        "columns": 1,
        "rows": 227
       }
      },
      "text/plain": [
       "Country\n",
       "Congo, Dem. Rep.           0.2\n",
       "Chad                       1.3\n",
       "Niger                      1.9\n",
       "Central African Rep.       2.3\n",
       "Liberia                    2.3\n",
       "                         ...  \n",
       "Monaco                  1035.6\n",
       "Cyprus                     NaN\n",
       "East Timor                 NaN\n",
       "Montserrat                 NaN\n",
       "Western Sahara             NaN\n",
       "Name: Phones (per 1000), Length: 227, dtype: float64"
      ]
     },
     "execution_count": 94,
     "metadata": {},
     "output_type": "execute_result"
    }
   ],
   "source": [
    "df_ccf.groupby(\"Country\")[\"Phones (per 1000)\"].mean().sort_values()"
   ]
  },
  {
   "cell_type": "code",
   "execution_count": 91,
   "id": "a661a5a4",
   "metadata": {},
   "outputs": [],
   "source": [
    "# 1000 kisi basina en fazla telefon dusen ulke Monaco'dur."
   ]
  },
  {
   "cell_type": "code",
   "execution_count": 103,
   "id": "f2bdb280",
   "metadata": {},
   "outputs": [
    {
     "data": {
      "application/vnd.microsoft.datawrangler.viewer.v0+json": {
       "columns": [
        {
         "name": "index",
         "rawType": "int64",
         "type": "integer"
        },
        {
         "name": "Phones (per 1000)",
         "rawType": "float64",
         "type": "float"
        }
       ],
       "ref": "12f01c49-76e5-4e47-918f-c9812b4ec7dc",
       "rows": [
        [
         "206",
         "269.5"
        ]
       ],
       "shape": {
        "columns": 1,
        "rows": 1
       }
      },
      "text/plain": [
       "206    269.5\n",
       "Name: Phones (per 1000), dtype: float64"
      ]
     },
     "execution_count": 103,
     "metadata": {},
     "output_type": "execute_result"
    }
   ],
   "source": [
    "df_ccf[df_ccf[\"Country\"] == \"Turkey\"][\"Phones (per 1000)\"]"
   ]
  },
  {
   "cell_type": "code",
   "execution_count": 104,
   "id": "fb73dc9b",
   "metadata": {},
   "outputs": [],
   "source": [
    "# Turkiye'de 1000 kisi basina dusen telefon sayisi 200'un ustundedir."
   ]
  }
 ],
 "metadata": {
  "kernelspec": {
   "display_name": "Python 3",
   "language": "python",
   "name": "python3"
  },
  "language_info": {
   "codemirror_mode": {
    "name": "ipython",
    "version": 3
   },
   "file_extension": ".py",
   "mimetype": "text/x-python",
   "name": "python",
   "nbconvert_exporter": "python",
   "pygments_lexer": "ipython3",
   "version": "3.14.0"
  }
 },
 "nbformat": 4,
 "nbformat_minor": 5
}
