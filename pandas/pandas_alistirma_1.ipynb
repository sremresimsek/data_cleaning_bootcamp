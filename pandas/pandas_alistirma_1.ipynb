{
 "cells": [
  {
   "cell_type": "markdown",
   "id": "df18e4cb",
   "metadata": {},
   "source": [
    "1) İndexlerinde \"Breaking Bad\" , \"Chernobyl\" , \"Leyla ile Mecnun\" , \"X-Men\"  , \"Captain America\"  , \"Disaster Movie\" olan \n",
    "   Datasında 9.4 , 9.3 , 8.8 , 8.4 , 3.8 , 2.1 olan bir seri oluşturun.(2 Farklı yolla da oluşturun) (Datayı ve İndexleri liste olarak göndererek ve doğrudan dictionary göndererek.)\n",
    "\n",
    "\n",
    "2) donem1_mat adında bir seri oluşturun. Bu serinin içinde \"Ali\" ,\"Deniz\" ,\"Aslı\" ,\"Burak\" ,\"Kerem\" ,\"Yasemin\" ,\"Derya\" index değerleri olsun, \n",
    "   85, 80 , 94 , 74 , 91 , 96 , 70 data değerleri olsun. Bu şekilde donem1 adında öğrencilerin 1.dönem matematik nor ortalamalarının tutulduğu bir seri oluşturun.\n",
    "\n",
    "   donem2_mat adında başka bir seri oluşturun. Okula yeni bir öğrenci gelmiş olsun ve indexlerde bu sefer \"Ali\" ,\"Deniz\" ,\"Aslı\" ,\"Burak\" ,\"Kerem\" ,\"Yasemin\" ,\"Derya\" ,\"Mert\"         indexleri olsun. 80, 92 , 85 , 87, 90 , 92, 100, 83 ise dataları olsun. Bu iki seriyi birleştirerek bütün öğrencilerin yıl sonu matematik ORTALAMASINI hesaplayın.\n",
    "\n",
    "   Not : Eğer bir öğrencinin sadece ikinci dönem notu bulunuyorsa, birinci dönem hesaba eklenmeden ikinci dönem notu yıl sonu notu olarak hesaplansın.\n",
    "\n",
    "\n",
    "3) İndexlerinde \"Osman\", \"Ozlem\", \"İnci\", \"Koray\", \"Melek\" olan, columnlarında \"Sınıf\" , \"Cinsiyet\" , \"Favori Ders\" isimlerinde 3 column bulunan bir DF oluşturacaksınız. Osman'ın sınıfı 8 , cinsiyeti \"E\" , Favori Dersi \"Fen\"\n",
    "Ozlem'in sınıfı 11 , cinsiyeti \"K\" , Favori Dersi \"Mat\"\n",
    "İnci'nin sınıfı 5 , cinsiyeti \"K\" , Favori Dersi \"Sosyal\"\n",
    "Koray'ın sınıfı 9 , cinsiyeti \"E\" , Favori Dersi \"Mat\"\n",
    "Meleğin sınıfı 7 , cinsiyeti \"K\" , Favori Dersi \"Ing\"          Olacak şekilde bir df oluşturun.\n"
   ]
  },
  {
   "cell_type": "code",
   "execution_count": 1,
   "id": "b5022752",
   "metadata": {},
   "outputs": [],
   "source": [
    "import pandas as pd\n",
    "import numpy as np"
   ]
  },
  {
   "cell_type": "code",
   "execution_count": 2,
   "id": "a71569b8",
   "metadata": {},
   "outputs": [],
   "source": [
    "my_datas = [\"Breaking Bad\", \"Chernobyl\", \"Leyla ile Mecnun\", \"X-Men\", \"Captain America\", \"Disaster Movie\"]\n",
    "my_indexes = [9.3, 9.4, 8.8, 8.4, 3.8, 2.1]"
   ]
  },
  {
   "cell_type": "code",
   "execution_count": 3,
   "id": "bf956571",
   "metadata": {},
   "outputs": [
    {
     "data": {
      "application/vnd.microsoft.datawrangler.viewer.v0+json": {
       "columns": [
        {
         "name": "index",
         "rawType": "float64",
         "type": "float"
        },
        {
         "name": "0",
         "rawType": "object",
         "type": "string"
        }
       ],
       "ref": "821e7e67-ed0e-4134-9898-a434b1cdcd0e",
       "rows": [
        [
         "9.3",
         "Breaking Bad"
        ],
        [
         "9.4",
         "Chernobyl"
        ],
        [
         "8.8",
         "Leyla ile Mecnun"
        ],
        [
         "8.4",
         "X-Men"
        ],
        [
         "3.8",
         "Captain America"
        ],
        [
         "2.1",
         "Disaster Movie"
        ]
       ],
       "shape": {
        "columns": 1,
        "rows": 6
       }
      },
      "text/plain": [
       "9.3        Breaking Bad\n",
       "9.4           Chernobyl\n",
       "8.8    Leyla ile Mecnun\n",
       "8.4               X-Men\n",
       "3.8     Captain America\n",
       "2.1      Disaster Movie\n",
       "dtype: object"
      ]
     },
     "execution_count": 3,
     "metadata": {},
     "output_type": "execute_result"
    }
   ],
   "source": [
    "my_series1 = pd.Series(my_datas, my_indexes)\n",
    "my_series1"
   ]
  },
  {
   "cell_type": "code",
   "execution_count": 4,
   "id": "2a17277c",
   "metadata": {},
   "outputs": [],
   "source": [
    "my_data_dict = {\n",
    "    \"Breaking Bad\" : 9.4,\n",
    "    \"Chernobyl\" : 9.3,\n",
    "    \"Leyla ile Mecnun\" : 8.8,\n",
    "    \"X-Men\" : 8.4,\n",
    "    \"Captain America\" : 3.8,\n",
    "    \"Disaster Movie\" : 2.1\n",
    "}"
   ]
  },
  {
   "cell_type": "code",
   "execution_count": 5,
   "id": "e49b57bd",
   "metadata": {},
   "outputs": [
    {
     "data": {
      "application/vnd.microsoft.datawrangler.viewer.v0+json": {
       "columns": [
        {
         "name": "index",
         "rawType": "object",
         "type": "string"
        },
        {
         "name": "0",
         "rawType": "float64",
         "type": "float"
        }
       ],
       "ref": "fb5ace15-483d-46d5-b16f-23bd1e40f39e",
       "rows": [
        [
         "Breaking Bad",
         "9.4"
        ],
        [
         "Chernobyl",
         "9.3"
        ],
        [
         "Leyla ile Mecnun",
         "8.8"
        ],
        [
         "X-Men",
         "8.4"
        ],
        [
         "Captain America",
         "3.8"
        ],
        [
         "Disaster Movie",
         "2.1"
        ]
       ],
       "shape": {
        "columns": 1,
        "rows": 6
       }
      },
      "text/plain": [
       "Breaking Bad        9.4\n",
       "Chernobyl           9.3\n",
       "Leyla ile Mecnun    8.8\n",
       "X-Men               8.4\n",
       "Captain America     3.8\n",
       "Disaster Movie      2.1\n",
       "dtype: float64"
      ]
     },
     "execution_count": 5,
     "metadata": {},
     "output_type": "execute_result"
    }
   ],
   "source": [
    "my_series2 = pd.Series(my_data_dict)\n",
    "my_series2"
   ]
  },
  {
   "cell_type": "code",
   "execution_count": 6,
   "id": "2157d5e6",
   "metadata": {},
   "outputs": [],
   "source": [
    "names = [\"Ali\", \"Deniz\", \"Aslı\", \"Burak\", \"Kerem\", \"Yasemin\", \"Derya\"]\n",
    "notes_1 = [85, 80, 94, 74, 91, 96, 70]"
   ]
  },
  {
   "cell_type": "code",
   "execution_count": 7,
   "id": "88fcac62",
   "metadata": {},
   "outputs": [
    {
     "data": {
      "application/vnd.microsoft.datawrangler.viewer.v0+json": {
       "columns": [
        {
         "name": "index",
         "rawType": "object",
         "type": "string"
        },
        {
         "name": "0",
         "rawType": "int64",
         "type": "integer"
        }
       ],
       "ref": "ee6d4c03-9585-4973-8514-03bfb07853b8",
       "rows": [
        [
         "Ali",
         "85"
        ],
        [
         "Deniz",
         "80"
        ],
        [
         "Aslı",
         "94"
        ],
        [
         "Burak",
         "74"
        ],
        [
         "Kerem",
         "91"
        ],
        [
         "Yasemin",
         "96"
        ],
        [
         "Derya",
         "70"
        ]
       ],
       "shape": {
        "columns": 1,
        "rows": 7
       }
      },
      "text/plain": [
       "Ali        85\n",
       "Deniz      80\n",
       "Aslı       94\n",
       "Burak      74\n",
       "Kerem      91\n",
       "Yasemin    96\n",
       "Derya      70\n",
       "dtype: int64"
      ]
     },
     "execution_count": 7,
     "metadata": {},
     "output_type": "execute_result"
    }
   ],
   "source": [
    "donem1_mat = pd.Series(notes_1, names)\n",
    "donem1_mat"
   ]
  },
  {
   "cell_type": "code",
   "execution_count": 8,
   "id": "c2e62d8f",
   "metadata": {},
   "outputs": [
    {
     "data": {
      "text/plain": [
       "['Ali', 'Deniz', 'Aslı', 'Burak', 'Kerem', 'Yasemin', 'Derya', 'Mert']"
      ]
     },
     "execution_count": 8,
     "metadata": {},
     "output_type": "execute_result"
    }
   ],
   "source": [
    "names.append(\"Mert\")\n",
    "names"
   ]
  },
  {
   "cell_type": "code",
   "execution_count": 9,
   "id": "15df2d59",
   "metadata": {},
   "outputs": [],
   "source": [
    "notes_2 = [80, 92, 85, 87, 90, 92, 100, 83]"
   ]
  },
  {
   "cell_type": "code",
   "execution_count": 10,
   "id": "8731d082",
   "metadata": {},
   "outputs": [
    {
     "data": {
      "application/vnd.microsoft.datawrangler.viewer.v0+json": {
       "columns": [
        {
         "name": "index",
         "rawType": "object",
         "type": "string"
        },
        {
         "name": "0",
         "rawType": "int64",
         "type": "integer"
        }
       ],
       "ref": "a402cf12-684f-4e6d-a563-b22d3d56c50a",
       "rows": [
        [
         "Ali",
         "80"
        ],
        [
         "Deniz",
         "92"
        ],
        [
         "Aslı",
         "85"
        ],
        [
         "Burak",
         "87"
        ],
        [
         "Kerem",
         "90"
        ],
        [
         "Yasemin",
         "92"
        ],
        [
         "Derya",
         "100"
        ],
        [
         "Mert",
         "83"
        ]
       ],
       "shape": {
        "columns": 1,
        "rows": 8
       }
      },
      "text/plain": [
       "Ali         80\n",
       "Deniz       92\n",
       "Aslı        85\n",
       "Burak       87\n",
       "Kerem       90\n",
       "Yasemin     92\n",
       "Derya      100\n",
       "Mert        83\n",
       "dtype: int64"
      ]
     },
     "execution_count": 10,
     "metadata": {},
     "output_type": "execute_result"
    }
   ],
   "source": [
    "donem2_mat = pd.Series(notes_2, names)\n",
    "donem2_mat"
   ]
  },
  {
   "cell_type": "code",
   "execution_count": 11,
   "id": "4f3cc9c8",
   "metadata": {},
   "outputs": [
    {
     "data": {
      "application/vnd.microsoft.datawrangler.viewer.v0+json": {
       "columns": [
        {
         "name": "index",
         "rawType": "object",
         "type": "string"
        },
        {
         "name": "0",
         "rawType": "float64",
         "type": "float"
        }
       ],
       "ref": "2a05c891-de99-4ca8-b1a1-89a76b920e89",
       "rows": [
        [
         "Ali",
         "165.0"
        ],
        [
         "Aslı",
         "179.0"
        ],
        [
         "Burak",
         "161.0"
        ],
        [
         "Deniz",
         "172.0"
        ],
        [
         "Derya",
         "170.0"
        ],
        [
         "Kerem",
         "181.0"
        ],
        [
         "Mert",
         "83.0"
        ],
        [
         "Yasemin",
         "188.0"
        ]
       ],
       "shape": {
        "columns": 1,
        "rows": 8
       }
      },
      "text/plain": [
       "Ali        165.0\n",
       "Aslı       179.0\n",
       "Burak      161.0\n",
       "Deniz      172.0\n",
       "Derya      170.0\n",
       "Kerem      181.0\n",
       "Mert        83.0\n",
       "Yasemin    188.0\n",
       "dtype: float64"
      ]
     },
     "execution_count": 11,
     "metadata": {},
     "output_type": "execute_result"
    }
   ],
   "source": [
    "donem1_mat.add(donem2_mat, fill_value=0) # 1. donem notu olmayanlara 0 ekleyerek toplar"
   ]
  },
  {
   "cell_type": "code",
   "execution_count": 12,
   "id": "2e8b44c6",
   "metadata": {},
   "outputs": [
    {
     "data": {
      "application/vnd.microsoft.datawrangler.viewer.v0+json": {
       "columns": [
        {
         "name": "index",
         "rawType": "object",
         "type": "string"
        },
        {
         "name": "0",
         "rawType": "float64",
         "type": "float"
        }
       ],
       "ref": "c5e59e2b-a3e9-40a7-95de-6a464dba0799",
       "rows": [
        [
         "Ali",
         "82.5"
        ],
        [
         "Aslı",
         "89.5"
        ],
        [
         "Burak",
         "80.5"
        ],
        [
         "Deniz",
         "86.0"
        ],
        [
         "Derya",
         "85.0"
        ],
        [
         "Kerem",
         "90.5"
        ],
        [
         "Mert",
         "41.5"
        ],
        [
         "Yasemin",
         "94.0"
        ]
       ],
       "shape": {
        "columns": 1,
        "rows": 8
       }
      },
      "text/plain": [
       "Ali        82.5\n",
       "Aslı       89.5\n",
       "Burak      80.5\n",
       "Deniz      86.0\n",
       "Derya      85.0\n",
       "Kerem      90.5\n",
       "Mert       41.5\n",
       "Yasemin    94.0\n",
       "dtype: float64"
      ]
     },
     "execution_count": 12,
     "metadata": {},
     "output_type": "execute_result"
    }
   ],
   "source": [
    "toplam_not = donem1_mat.add(donem2_mat, fill_value=0)\n",
    "ortalama_not = toplam_not / 2\n",
    "ortalama_not"
   ]
  },
  {
   "cell_type": "code",
   "execution_count": 13,
   "id": "8cfbc14c",
   "metadata": {},
   "outputs": [
    {
     "data": {
      "application/vnd.microsoft.datawrangler.viewer.v0+json": {
       "columns": [
        {
         "name": "index",
         "rawType": "object",
         "type": "string"
        },
        {
         "name": "Sinif",
         "rawType": "int64",
         "type": "integer"
        },
        {
         "name": "Cinsiyet",
         "rawType": "object",
         "type": "string"
        },
        {
         "name": "Favori Ders",
         "rawType": "object",
         "type": "string"
        }
       ],
       "ref": "036353c6-e3e7-4fc0-bd39-b612d2b6db6a",
       "rows": [
        [
         "Osman",
         "8",
         "E",
         "Fen"
        ],
        [
         "Ozlem",
         "11",
         "K",
         "Matematik"
        ],
        [
         "Inci",
         "5",
         "K",
         "Sosyal"
        ],
        [
         "Koray",
         "9",
         "E",
         "Matematik"
        ],
        [
         "Melek",
         "7",
         "K",
         "Ingilizce"
        ]
       ],
       "shape": {
        "columns": 3,
        "rows": 5
       }
      },
      "text/html": [
       "<div>\n",
       "<style scoped>\n",
       "    .dataframe tbody tr th:only-of-type {\n",
       "        vertical-align: middle;\n",
       "    }\n",
       "\n",
       "    .dataframe tbody tr th {\n",
       "        vertical-align: top;\n",
       "    }\n",
       "\n",
       "    .dataframe thead th {\n",
       "        text-align: right;\n",
       "    }\n",
       "</style>\n",
       "<table border=\"1\" class=\"dataframe\">\n",
       "  <thead>\n",
       "    <tr style=\"text-align: right;\">\n",
       "      <th></th>\n",
       "      <th>Sinif</th>\n",
       "      <th>Cinsiyet</th>\n",
       "      <th>Favori Ders</th>\n",
       "    </tr>\n",
       "  </thead>\n",
       "  <tbody>\n",
       "    <tr>\n",
       "      <th>Osman</th>\n",
       "      <td>8</td>\n",
       "      <td>E</td>\n",
       "      <td>Fen</td>\n",
       "    </tr>\n",
       "    <tr>\n",
       "      <th>Ozlem</th>\n",
       "      <td>11</td>\n",
       "      <td>K</td>\n",
       "      <td>Matematik</td>\n",
       "    </tr>\n",
       "    <tr>\n",
       "      <th>Inci</th>\n",
       "      <td>5</td>\n",
       "      <td>K</td>\n",
       "      <td>Sosyal</td>\n",
       "    </tr>\n",
       "    <tr>\n",
       "      <th>Koray</th>\n",
       "      <td>9</td>\n",
       "      <td>E</td>\n",
       "      <td>Matematik</td>\n",
       "    </tr>\n",
       "    <tr>\n",
       "      <th>Melek</th>\n",
       "      <td>7</td>\n",
       "      <td>K</td>\n",
       "      <td>Ingilizce</td>\n",
       "    </tr>\n",
       "  </tbody>\n",
       "</table>\n",
       "</div>"
      ],
      "text/plain": [
       "       Sinif Cinsiyet Favori Ders\n",
       "Osman      8        E         Fen\n",
       "Ozlem     11        K   Matematik\n",
       "Inci       5        K      Sosyal\n",
       "Koray      9        E   Matematik\n",
       "Melek      7        K   Ingilizce"
      ]
     },
     "execution_count": 13,
     "metadata": {},
     "output_type": "execute_result"
    }
   ],
   "source": [
    "isimler = [\"Osman\", \"Ozlem\", \"Inci\", \"Koray\", \"Melek\"]\n",
    "data = {\n",
    "    \"Sinif\" : [8, 11, 5, 9, 7],\n",
    "    \"Cinsiyet\" : [\"E\", \"K\", \"K\", \"E\", \"K\"],\n",
    "    \"Favori Ders\" : [\"Fen\", \"Matematik\", \"Sosyal\", \"Matematik\", \"Ingilizce\"]\n",
    "}\n",
    "\n",
    "df3 = pd.DataFrame(data = data, index=isimler)\n",
    "df3\n"
   ]
  },
  {
   "cell_type": "markdown",
   "id": "66642ec1",
   "metadata": {},
   "source": [
    "4) GitHubda bulunan \"Advertising.csv\" reklam datasını herhangi bir platformda DF olarak okuyun ve \"df_adv\" adında bir değişkene atayın. Ardından df_adv değişkeninin ilk 3 satırına, son 3 satırına , rastgele 3 satırına bakın.\n",
    "\n",
    "5) Elde ettiğiniz \"df_adv\" infosuna ve describe'ına bakın ve yorumlamaya çalışın.\n",
    "\n",
    "6) df_adv içinden sadece \"TV\" sütununu seri olarak çekin.\n",
    "\n",
    "7) df_adv içinden \"TV\" ve \"sales\" sütununu çekin ve df_salesTV adında bir değişkene atayın.\n",
    "\n",
    "8) df_adv içindeki \"TV\" , \"radio\" , \"newspaper\" sütunlarındaki değerleri toplayarak \"total_adv\" adında yeni bir sütun oluşturun.\n",
    "\n",
    "9) df_adv içindeki \"sales\" sütununun drop edilmiş halini ekrana yazdırın. (Kalıcı hale getirmeyin. Sadece ekrana bastırın)\n",
    "\n",
    "10) df_adv içindeki son 50 index'i(satırı) çekin ve ekrana yazdırın.\n",
    "\n",
    "11) df_adv içinde satışları 25'den fazla olanları getirin.\n",
    "\n",
    "12) df_adv içinde \"TV\" reklamlarına 250'den fazla VE \"newspaper\" reklamlarına 60'dan fazla harcama yapanları getirin.\n",
    "\n",
    "13) df_adv içinde \"newspaper\" reklam harcamaları 70'den fazla VEYA \"radio\" reklam harcamaları 50'den fazla olanları getirin.\n",
    "\n",
    "14) df_adv içinde \"sales\" ları 10 ile 15(10 ve 15 dahil) arasında olanları getirin.\n",
    "\n",
    "15) df_adv içinde \"sales\" ları tam olarak 18.3 veya 14.0 veya 25.5 veya 21.7 veya 13.6 veya 6.9 olanları getirin.\n"
   ]
  },
  {
   "cell_type": "code",
   "execution_count": 17,
   "id": "e48e4034",
   "metadata": {},
   "outputs": [
    {
     "data": {
      "application/vnd.microsoft.datawrangler.viewer.v0+json": {
       "columns": [
        {
         "name": "index",
         "rawType": "int64",
         "type": "integer"
        },
        {
         "name": "TV",
         "rawType": "float64",
         "type": "float"
        },
        {
         "name": "radio",
         "rawType": "float64",
         "type": "float"
        },
        {
         "name": "newspaper",
         "rawType": "float64",
         "type": "float"
        },
        {
         "name": "sales",
         "rawType": "float64",
         "type": "float"
        }
       ],
       "ref": "90a82203-d31d-440e-8467-26388a12c184",
       "rows": [
        [
         "0",
         "230.1",
         "37.8",
         "69.2",
         "22.1"
        ],
        [
         "1",
         "44.5",
         "39.3",
         "45.1",
         "10.4"
        ],
        [
         "2",
         "17.2",
         "45.9",
         "69.3",
         "9.3"
        ],
        [
         "3",
         "151.5",
         "41.3",
         "58.5",
         "18.5"
        ],
        [
         "4",
         "180.8",
         "10.8",
         "58.4",
         "12.9"
        ],
        [
         "5",
         "8.7",
         "48.9",
         "75.0",
         "7.2"
        ],
        [
         "6",
         "57.5",
         "32.8",
         "23.5",
         "11.8"
        ],
        [
         "7",
         "120.2",
         "19.6",
         "11.6",
         "13.2"
        ],
        [
         "8",
         "8.6",
         "2.1",
         "1.0",
         "4.8"
        ],
        [
         "9",
         "199.8",
         "2.6",
         "21.2",
         "10.6"
        ],
        [
         "10",
         "66.1",
         "5.8",
         "24.2",
         "8.6"
        ],
        [
         "11",
         "214.7",
         "24.0",
         "4.0",
         "17.4"
        ],
        [
         "12",
         "23.8",
         "35.1",
         "65.9",
         "9.2"
        ],
        [
         "13",
         "97.5",
         "7.6",
         "7.2",
         "9.7"
        ],
        [
         "14",
         "204.1",
         "32.9",
         "46.0",
         "19.0"
        ],
        [
         "15",
         "195.4",
         "47.7",
         "52.9",
         "22.4"
        ],
        [
         "16",
         "67.8",
         "36.6",
         "114.0",
         "12.5"
        ],
        [
         "17",
         "281.4",
         "39.6",
         "55.8",
         "24.4"
        ],
        [
         "18",
         "69.2",
         "20.5",
         "18.3",
         "11.3"
        ],
        [
         "19",
         "147.3",
         "23.9",
         "19.1",
         "14.6"
        ],
        [
         "20",
         "218.4",
         "27.7",
         "53.4",
         "18.0"
        ],
        [
         "21",
         "237.4",
         "5.1",
         "23.5",
         "12.5"
        ],
        [
         "22",
         "13.2",
         "15.9",
         "49.6",
         "5.6"
        ],
        [
         "23",
         "228.3",
         "16.9",
         "26.2",
         "15.5"
        ],
        [
         "24",
         "62.3",
         "12.6",
         "18.3",
         "9.7"
        ],
        [
         "25",
         "262.9",
         "3.5",
         "19.5",
         "12.0"
        ],
        [
         "26",
         "142.9",
         "29.3",
         "12.6",
         "15.0"
        ],
        [
         "27",
         "240.1",
         "16.7",
         "22.9",
         "15.9"
        ],
        [
         "28",
         "248.8",
         "27.1",
         "22.9",
         "18.9"
        ],
        [
         "29",
         "70.6",
         "16.0",
         "40.8",
         "10.5"
        ],
        [
         "30",
         "292.9",
         "28.3",
         "43.2",
         "21.4"
        ],
        [
         "31",
         "112.9",
         "17.4",
         "38.6",
         "11.9"
        ],
        [
         "32",
         "97.2",
         "1.5",
         "30.0",
         "9.6"
        ],
        [
         "33",
         "265.6",
         "20.0",
         "0.3",
         "17.4"
        ],
        [
         "34",
         "95.7",
         "1.4",
         "7.4",
         "9.5"
        ],
        [
         "35",
         "290.7",
         "4.1",
         "8.5",
         "12.8"
        ],
        [
         "36",
         "266.9",
         "43.8",
         "5.0",
         "25.4"
        ],
        [
         "37",
         "74.7",
         "49.4",
         "45.7",
         "14.7"
        ],
        [
         "38",
         "43.1",
         "26.7",
         "35.1",
         "10.1"
        ],
        [
         "39",
         "228.0",
         "37.7",
         "32.0",
         "21.5"
        ],
        [
         "40",
         "202.5",
         "22.3",
         "31.6",
         "16.6"
        ],
        [
         "41",
         "177.0",
         "33.4",
         "38.7",
         "17.1"
        ],
        [
         "42",
         "293.6",
         "27.7",
         "1.8",
         "20.7"
        ],
        [
         "43",
         "206.9",
         "8.4",
         "26.4",
         "12.9"
        ],
        [
         "44",
         "25.1",
         "25.7",
         "43.3",
         "8.5"
        ],
        [
         "45",
         "175.1",
         "22.5",
         "31.5",
         "14.9"
        ],
        [
         "46",
         "89.7",
         "9.9",
         "35.7",
         "10.6"
        ],
        [
         "47",
         "239.9",
         "41.5",
         "18.5",
         "23.2"
        ],
        [
         "48",
         "227.2",
         "15.8",
         "49.9",
         "14.8"
        ],
        [
         "49",
         "66.9",
         "11.7",
         "36.8",
         "9.7"
        ]
       ],
       "shape": {
        "columns": 4,
        "rows": 200
       }
      },
      "text/html": [
       "<div>\n",
       "<style scoped>\n",
       "    .dataframe tbody tr th:only-of-type {\n",
       "        vertical-align: middle;\n",
       "    }\n",
       "\n",
       "    .dataframe tbody tr th {\n",
       "        vertical-align: top;\n",
       "    }\n",
       "\n",
       "    .dataframe thead th {\n",
       "        text-align: right;\n",
       "    }\n",
       "</style>\n",
       "<table border=\"1\" class=\"dataframe\">\n",
       "  <thead>\n",
       "    <tr style=\"text-align: right;\">\n",
       "      <th></th>\n",
       "      <th>TV</th>\n",
       "      <th>radio</th>\n",
       "      <th>newspaper</th>\n",
       "      <th>sales</th>\n",
       "    </tr>\n",
       "  </thead>\n",
       "  <tbody>\n",
       "    <tr>\n",
       "      <th>0</th>\n",
       "      <td>230.1</td>\n",
       "      <td>37.8</td>\n",
       "      <td>69.2</td>\n",
       "      <td>22.1</td>\n",
       "    </tr>\n",
       "    <tr>\n",
       "      <th>1</th>\n",
       "      <td>44.5</td>\n",
       "      <td>39.3</td>\n",
       "      <td>45.1</td>\n",
       "      <td>10.4</td>\n",
       "    </tr>\n",
       "    <tr>\n",
       "      <th>2</th>\n",
       "      <td>17.2</td>\n",
       "      <td>45.9</td>\n",
       "      <td>69.3</td>\n",
       "      <td>9.3</td>\n",
       "    </tr>\n",
       "    <tr>\n",
       "      <th>3</th>\n",
       "      <td>151.5</td>\n",
       "      <td>41.3</td>\n",
       "      <td>58.5</td>\n",
       "      <td>18.5</td>\n",
       "    </tr>\n",
       "    <tr>\n",
       "      <th>4</th>\n",
       "      <td>180.8</td>\n",
       "      <td>10.8</td>\n",
       "      <td>58.4</td>\n",
       "      <td>12.9</td>\n",
       "    </tr>\n",
       "    <tr>\n",
       "      <th>...</th>\n",
       "      <td>...</td>\n",
       "      <td>...</td>\n",
       "      <td>...</td>\n",
       "      <td>...</td>\n",
       "    </tr>\n",
       "    <tr>\n",
       "      <th>195</th>\n",
       "      <td>38.2</td>\n",
       "      <td>3.7</td>\n",
       "      <td>13.8</td>\n",
       "      <td>7.6</td>\n",
       "    </tr>\n",
       "    <tr>\n",
       "      <th>196</th>\n",
       "      <td>94.2</td>\n",
       "      <td>4.9</td>\n",
       "      <td>8.1</td>\n",
       "      <td>9.7</td>\n",
       "    </tr>\n",
       "    <tr>\n",
       "      <th>197</th>\n",
       "      <td>177.0</td>\n",
       "      <td>9.3</td>\n",
       "      <td>6.4</td>\n",
       "      <td>12.8</td>\n",
       "    </tr>\n",
       "    <tr>\n",
       "      <th>198</th>\n",
       "      <td>283.6</td>\n",
       "      <td>42.0</td>\n",
       "      <td>66.2</td>\n",
       "      <td>25.5</td>\n",
       "    </tr>\n",
       "    <tr>\n",
       "      <th>199</th>\n",
       "      <td>232.1</td>\n",
       "      <td>8.6</td>\n",
       "      <td>8.7</td>\n",
       "      <td>13.4</td>\n",
       "    </tr>\n",
       "  </tbody>\n",
       "</table>\n",
       "<p>200 rows × 4 columns</p>\n",
       "</div>"
      ],
      "text/plain": [
       "        TV  radio  newspaper  sales\n",
       "0    230.1   37.8       69.2   22.1\n",
       "1     44.5   39.3       45.1   10.4\n",
       "2     17.2   45.9       69.3    9.3\n",
       "3    151.5   41.3       58.5   18.5\n",
       "4    180.8   10.8       58.4   12.9\n",
       "..     ...    ...        ...    ...\n",
       "195   38.2    3.7       13.8    7.6\n",
       "196   94.2    4.9        8.1    9.7\n",
       "197  177.0    9.3        6.4   12.8\n",
       "198  283.6   42.0       66.2   25.5\n",
       "199  232.1    8.6        8.7   13.4\n",
       "\n",
       "[200 rows x 4 columns]"
      ]
     },
     "execution_count": 17,
     "metadata": {},
     "output_type": "execute_result"
    }
   ],
   "source": [
    "df_adv = pd.read_csv(\"Advertising.csv\")\n",
    "df_adv"
   ]
  },
  {
   "cell_type": "code",
   "execution_count": null,
   "id": "afaff62d",
   "metadata": {},
   "outputs": [
    {
     "data": {
      "application/vnd.microsoft.datawrangler.viewer.v0+json": {
       "columns": [
        {
         "name": "index",
         "rawType": "int64",
         "type": "integer"
        },
        {
         "name": "TV",
         "rawType": "float64",
         "type": "float"
        },
        {
         "name": "radio",
         "rawType": "float64",
         "type": "float"
        },
        {
         "name": "newspaper",
         "rawType": "float64",
         "type": "float"
        },
        {
         "name": "sales",
         "rawType": "float64",
         "type": "float"
        }
       ],
       "ref": "c77ff98c-524e-4400-9304-25e5a20c959e",
       "rows": [
        [
         "0",
         "230.1",
         "37.8",
         "69.2",
         "22.1"
        ],
        [
         "1",
         "44.5",
         "39.3",
         "45.1",
         "10.4"
        ],
        [
         "2",
         "17.2",
         "45.9",
         "69.3",
         "9.3"
        ]
       ],
       "shape": {
        "columns": 4,
        "rows": 3
       }
      },
      "text/html": [
       "<div>\n",
       "<style scoped>\n",
       "    .dataframe tbody tr th:only-of-type {\n",
       "        vertical-align: middle;\n",
       "    }\n",
       "\n",
       "    .dataframe tbody tr th {\n",
       "        vertical-align: top;\n",
       "    }\n",
       "\n",
       "    .dataframe thead th {\n",
       "        text-align: right;\n",
       "    }\n",
       "</style>\n",
       "<table border=\"1\" class=\"dataframe\">\n",
       "  <thead>\n",
       "    <tr style=\"text-align: right;\">\n",
       "      <th></th>\n",
       "      <th>TV</th>\n",
       "      <th>radio</th>\n",
       "      <th>newspaper</th>\n",
       "      <th>sales</th>\n",
       "    </tr>\n",
       "  </thead>\n",
       "  <tbody>\n",
       "    <tr>\n",
       "      <th>0</th>\n",
       "      <td>230.1</td>\n",
       "      <td>37.8</td>\n",
       "      <td>69.2</td>\n",
       "      <td>22.1</td>\n",
       "    </tr>\n",
       "    <tr>\n",
       "      <th>1</th>\n",
       "      <td>44.5</td>\n",
       "      <td>39.3</td>\n",
       "      <td>45.1</td>\n",
       "      <td>10.4</td>\n",
       "    </tr>\n",
       "    <tr>\n",
       "      <th>2</th>\n",
       "      <td>17.2</td>\n",
       "      <td>45.9</td>\n",
       "      <td>69.3</td>\n",
       "      <td>9.3</td>\n",
       "    </tr>\n",
       "  </tbody>\n",
       "</table>\n",
       "</div>"
      ],
      "text/plain": [
       "      TV  radio  newspaper  sales\n",
       "0  230.1   37.8       69.2   22.1\n",
       "1   44.5   39.3       45.1   10.4\n",
       "2   17.2   45.9       69.3    9.3"
      ]
     },
     "execution_count": 18,
     "metadata": {},
     "output_type": "execute_result"
    }
   ],
   "source": [
    "df_adv.head(3) # ilk 3 satiri gosterir"
   ]
  },
  {
   "cell_type": "code",
   "execution_count": 19,
   "id": "576d8dec",
   "metadata": {},
   "outputs": [
    {
     "data": {
      "application/vnd.microsoft.datawrangler.viewer.v0+json": {
       "columns": [
        {
         "name": "index",
         "rawType": "int64",
         "type": "integer"
        },
        {
         "name": "TV",
         "rawType": "float64",
         "type": "float"
        },
        {
         "name": "radio",
         "rawType": "float64",
         "type": "float"
        },
        {
         "name": "newspaper",
         "rawType": "float64",
         "type": "float"
        },
        {
         "name": "sales",
         "rawType": "float64",
         "type": "float"
        }
       ],
       "ref": "7075faa6-e42d-49ae-aa6a-d3462165b9aa",
       "rows": [
        [
         "197",
         "177.0",
         "9.3",
         "6.4",
         "12.8"
        ],
        [
         "198",
         "283.6",
         "42.0",
         "66.2",
         "25.5"
        ],
        [
         "199",
         "232.1",
         "8.6",
         "8.7",
         "13.4"
        ]
       ],
       "shape": {
        "columns": 4,
        "rows": 3
       }
      },
      "text/html": [
       "<div>\n",
       "<style scoped>\n",
       "    .dataframe tbody tr th:only-of-type {\n",
       "        vertical-align: middle;\n",
       "    }\n",
       "\n",
       "    .dataframe tbody tr th {\n",
       "        vertical-align: top;\n",
       "    }\n",
       "\n",
       "    .dataframe thead th {\n",
       "        text-align: right;\n",
       "    }\n",
       "</style>\n",
       "<table border=\"1\" class=\"dataframe\">\n",
       "  <thead>\n",
       "    <tr style=\"text-align: right;\">\n",
       "      <th></th>\n",
       "      <th>TV</th>\n",
       "      <th>radio</th>\n",
       "      <th>newspaper</th>\n",
       "      <th>sales</th>\n",
       "    </tr>\n",
       "  </thead>\n",
       "  <tbody>\n",
       "    <tr>\n",
       "      <th>197</th>\n",
       "      <td>177.0</td>\n",
       "      <td>9.3</td>\n",
       "      <td>6.4</td>\n",
       "      <td>12.8</td>\n",
       "    </tr>\n",
       "    <tr>\n",
       "      <th>198</th>\n",
       "      <td>283.6</td>\n",
       "      <td>42.0</td>\n",
       "      <td>66.2</td>\n",
       "      <td>25.5</td>\n",
       "    </tr>\n",
       "    <tr>\n",
       "      <th>199</th>\n",
       "      <td>232.1</td>\n",
       "      <td>8.6</td>\n",
       "      <td>8.7</td>\n",
       "      <td>13.4</td>\n",
       "    </tr>\n",
       "  </tbody>\n",
       "</table>\n",
       "</div>"
      ],
      "text/plain": [
       "        TV  radio  newspaper  sales\n",
       "197  177.0    9.3        6.4   12.8\n",
       "198  283.6   42.0       66.2   25.5\n",
       "199  232.1    8.6        8.7   13.4"
      ]
     },
     "execution_count": 19,
     "metadata": {},
     "output_type": "execute_result"
    }
   ],
   "source": [
    "df_adv.tail(3) # son 3 satiri gosterir"
   ]
  },
  {
   "cell_type": "code",
   "execution_count": 20,
   "id": "4c39bdad",
   "metadata": {},
   "outputs": [
    {
     "data": {
      "application/vnd.microsoft.datawrangler.viewer.v0+json": {
       "columns": [
        {
         "name": "index",
         "rawType": "int64",
         "type": "integer"
        },
        {
         "name": "TV",
         "rawType": "float64",
         "type": "float"
        },
        {
         "name": "radio",
         "rawType": "float64",
         "type": "float"
        },
        {
         "name": "newspaper",
         "rawType": "float64",
         "type": "float"
        },
        {
         "name": "sales",
         "rawType": "float64",
         "type": "float"
        }
       ],
       "ref": "2bffb6c2-74a2-4974-b4d0-74af332b6ad4",
       "rows": [
        [
         "129",
         "59.6",
         "12.0",
         "43.1",
         "9.7"
        ],
        [
         "83",
         "68.4",
         "44.5",
         "35.6",
         "13.6"
        ],
        [
         "42",
         "293.6",
         "27.7",
         "1.8",
         "20.7"
        ]
       ],
       "shape": {
        "columns": 4,
        "rows": 3
       }
      },
      "text/html": [
       "<div>\n",
       "<style scoped>\n",
       "    .dataframe tbody tr th:only-of-type {\n",
       "        vertical-align: middle;\n",
       "    }\n",
       "\n",
       "    .dataframe tbody tr th {\n",
       "        vertical-align: top;\n",
       "    }\n",
       "\n",
       "    .dataframe thead th {\n",
       "        text-align: right;\n",
       "    }\n",
       "</style>\n",
       "<table border=\"1\" class=\"dataframe\">\n",
       "  <thead>\n",
       "    <tr style=\"text-align: right;\">\n",
       "      <th></th>\n",
       "      <th>TV</th>\n",
       "      <th>radio</th>\n",
       "      <th>newspaper</th>\n",
       "      <th>sales</th>\n",
       "    </tr>\n",
       "  </thead>\n",
       "  <tbody>\n",
       "    <tr>\n",
       "      <th>129</th>\n",
       "      <td>59.6</td>\n",
       "      <td>12.0</td>\n",
       "      <td>43.1</td>\n",
       "      <td>9.7</td>\n",
       "    </tr>\n",
       "    <tr>\n",
       "      <th>83</th>\n",
       "      <td>68.4</td>\n",
       "      <td>44.5</td>\n",
       "      <td>35.6</td>\n",
       "      <td>13.6</td>\n",
       "    </tr>\n",
       "    <tr>\n",
       "      <th>42</th>\n",
       "      <td>293.6</td>\n",
       "      <td>27.7</td>\n",
       "      <td>1.8</td>\n",
       "      <td>20.7</td>\n",
       "    </tr>\n",
       "  </tbody>\n",
       "</table>\n",
       "</div>"
      ],
      "text/plain": [
       "        TV  radio  newspaper  sales\n",
       "129   59.6   12.0       43.1    9.7\n",
       "83    68.4   44.5       35.6   13.6\n",
       "42   293.6   27.7        1.8   20.7"
      ]
     },
     "execution_count": 20,
     "metadata": {},
     "output_type": "execute_result"
    }
   ],
   "source": [
    "df_adv.sample(3) # rastgele 3 satır getirir"
   ]
  },
  {
   "cell_type": "code",
   "execution_count": 21,
   "id": "91e32275",
   "metadata": {},
   "outputs": [
    {
     "name": "stdout",
     "output_type": "stream",
     "text": [
      "<class 'pandas.core.frame.DataFrame'>\n",
      "RangeIndex: 200 entries, 0 to 199\n",
      "Data columns (total 4 columns):\n",
      " #   Column     Non-Null Count  Dtype  \n",
      "---  ------     --------------  -----  \n",
      " 0   TV         200 non-null    float64\n",
      " 1   radio      200 non-null    float64\n",
      " 2   newspaper  200 non-null    float64\n",
      " 3   sales      200 non-null    float64\n",
      "dtypes: float64(4)\n",
      "memory usage: 6.4 KB\n"
     ]
    }
   ],
   "source": [
    "df_adv.info() # DataFrame hakkinda bilgi verir"
   ]
  },
  {
   "cell_type": "code",
   "execution_count": 22,
   "id": "153360e5",
   "metadata": {},
   "outputs": [
    {
     "data": {
      "application/vnd.microsoft.datawrangler.viewer.v0+json": {
       "columns": [
        {
         "name": "index",
         "rawType": "object",
         "type": "string"
        },
        {
         "name": "TV",
         "rawType": "float64",
         "type": "float"
        },
        {
         "name": "radio",
         "rawType": "float64",
         "type": "float"
        },
        {
         "name": "newspaper",
         "rawType": "float64",
         "type": "float"
        },
        {
         "name": "sales",
         "rawType": "float64",
         "type": "float"
        }
       ],
       "ref": "047785dd-d0b8-431f-a998-a258d069087e",
       "rows": [
        [
         "count",
         "200.0",
         "200.0",
         "200.0",
         "200.0"
        ],
        [
         "mean",
         "147.0425",
         "23.264000000000006",
         "30.553999999999995",
         "14.0225"
        ],
        [
         "std",
         "85.85423631490808",
         "14.846809176168724",
         "21.778620838522826",
         "5.217456565710478"
        ],
        [
         "min",
         "0.7",
         "0.0",
         "0.3",
         "1.6"
        ],
        [
         "25%",
         "74.375",
         "9.975",
         "12.75",
         "10.375"
        ],
        [
         "50%",
         "149.75",
         "22.9",
         "25.75",
         "12.9"
        ],
        [
         "75%",
         "218.825",
         "36.525",
         "45.1",
         "17.4"
        ],
        [
         "max",
         "296.4",
         "49.6",
         "114.0",
         "27.0"
        ]
       ],
       "shape": {
        "columns": 4,
        "rows": 8
       }
      },
      "text/html": [
       "<div>\n",
       "<style scoped>\n",
       "    .dataframe tbody tr th:only-of-type {\n",
       "        vertical-align: middle;\n",
       "    }\n",
       "\n",
       "    .dataframe tbody tr th {\n",
       "        vertical-align: top;\n",
       "    }\n",
       "\n",
       "    .dataframe thead th {\n",
       "        text-align: right;\n",
       "    }\n",
       "</style>\n",
       "<table border=\"1\" class=\"dataframe\">\n",
       "  <thead>\n",
       "    <tr style=\"text-align: right;\">\n",
       "      <th></th>\n",
       "      <th>TV</th>\n",
       "      <th>radio</th>\n",
       "      <th>newspaper</th>\n",
       "      <th>sales</th>\n",
       "    </tr>\n",
       "  </thead>\n",
       "  <tbody>\n",
       "    <tr>\n",
       "      <th>count</th>\n",
       "      <td>200.000000</td>\n",
       "      <td>200.000000</td>\n",
       "      <td>200.000000</td>\n",
       "      <td>200.000000</td>\n",
       "    </tr>\n",
       "    <tr>\n",
       "      <th>mean</th>\n",
       "      <td>147.042500</td>\n",
       "      <td>23.264000</td>\n",
       "      <td>30.554000</td>\n",
       "      <td>14.022500</td>\n",
       "    </tr>\n",
       "    <tr>\n",
       "      <th>std</th>\n",
       "      <td>85.854236</td>\n",
       "      <td>14.846809</td>\n",
       "      <td>21.778621</td>\n",
       "      <td>5.217457</td>\n",
       "    </tr>\n",
       "    <tr>\n",
       "      <th>min</th>\n",
       "      <td>0.700000</td>\n",
       "      <td>0.000000</td>\n",
       "      <td>0.300000</td>\n",
       "      <td>1.600000</td>\n",
       "    </tr>\n",
       "    <tr>\n",
       "      <th>25%</th>\n",
       "      <td>74.375000</td>\n",
       "      <td>9.975000</td>\n",
       "      <td>12.750000</td>\n",
       "      <td>10.375000</td>\n",
       "    </tr>\n",
       "    <tr>\n",
       "      <th>50%</th>\n",
       "      <td>149.750000</td>\n",
       "      <td>22.900000</td>\n",
       "      <td>25.750000</td>\n",
       "      <td>12.900000</td>\n",
       "    </tr>\n",
       "    <tr>\n",
       "      <th>75%</th>\n",
       "      <td>218.825000</td>\n",
       "      <td>36.525000</td>\n",
       "      <td>45.100000</td>\n",
       "      <td>17.400000</td>\n",
       "    </tr>\n",
       "    <tr>\n",
       "      <th>max</th>\n",
       "      <td>296.400000</td>\n",
       "      <td>49.600000</td>\n",
       "      <td>114.000000</td>\n",
       "      <td>27.000000</td>\n",
       "    </tr>\n",
       "  </tbody>\n",
       "</table>\n",
       "</div>"
      ],
      "text/plain": [
       "               TV       radio   newspaper       sales\n",
       "count  200.000000  200.000000  200.000000  200.000000\n",
       "mean   147.042500   23.264000   30.554000   14.022500\n",
       "std     85.854236   14.846809   21.778621    5.217457\n",
       "min      0.700000    0.000000    0.300000    1.600000\n",
       "25%     74.375000    9.975000   12.750000   10.375000\n",
       "50%    149.750000   22.900000   25.750000   12.900000\n",
       "75%    218.825000   36.525000   45.100000   17.400000\n",
       "max    296.400000   49.600000  114.000000   27.000000"
      ]
     },
     "execution_count": 22,
     "metadata": {},
     "output_type": "execute_result"
    }
   ],
   "source": [
    "df_adv.describe() # sayisal kolonlarin istatistiksel bilgilerini verir"
   ]
  },
  {
   "cell_type": "code",
   "execution_count": 23,
   "id": "bfb33cdd",
   "metadata": {},
   "outputs": [
    {
     "data": {
      "application/vnd.microsoft.datawrangler.viewer.v0+json": {
       "columns": [
        {
         "name": "index",
         "rawType": "object",
         "type": "string"
        },
        {
         "name": "count",
         "rawType": "float64",
         "type": "float"
        },
        {
         "name": "mean",
         "rawType": "float64",
         "type": "float"
        },
        {
         "name": "std",
         "rawType": "float64",
         "type": "float"
        },
        {
         "name": "min",
         "rawType": "float64",
         "type": "float"
        },
        {
         "name": "25%",
         "rawType": "float64",
         "type": "float"
        },
        {
         "name": "50%",
         "rawType": "float64",
         "type": "float"
        },
        {
         "name": "75%",
         "rawType": "float64",
         "type": "float"
        },
        {
         "name": "max",
         "rawType": "float64",
         "type": "float"
        }
       ],
       "ref": "d07eb41b-e3d4-4a46-a8d1-831ea03913e3",
       "rows": [
        [
         "TV",
         "200.0",
         "147.0425",
         "85.85423631490808",
         "0.7",
         "74.375",
         "149.75",
         "218.825",
         "296.4"
        ],
        [
         "radio",
         "200.0",
         "23.264000000000006",
         "14.846809176168724",
         "0.0",
         "9.975",
         "22.9",
         "36.525",
         "49.6"
        ],
        [
         "newspaper",
         "200.0",
         "30.553999999999995",
         "21.778620838522826",
         "0.3",
         "12.75",
         "25.75",
         "45.1",
         "114.0"
        ],
        [
         "sales",
         "200.0",
         "14.0225",
         "5.217456565710478",
         "1.6",
         "10.375",
         "12.9",
         "17.4",
         "27.0"
        ]
       ],
       "shape": {
        "columns": 8,
        "rows": 4
       }
      },
      "text/html": [
       "<div>\n",
       "<style scoped>\n",
       "    .dataframe tbody tr th:only-of-type {\n",
       "        vertical-align: middle;\n",
       "    }\n",
       "\n",
       "    .dataframe tbody tr th {\n",
       "        vertical-align: top;\n",
       "    }\n",
       "\n",
       "    .dataframe thead th {\n",
       "        text-align: right;\n",
       "    }\n",
       "</style>\n",
       "<table border=\"1\" class=\"dataframe\">\n",
       "  <thead>\n",
       "    <tr style=\"text-align: right;\">\n",
       "      <th></th>\n",
       "      <th>count</th>\n",
       "      <th>mean</th>\n",
       "      <th>std</th>\n",
       "      <th>min</th>\n",
       "      <th>25%</th>\n",
       "      <th>50%</th>\n",
       "      <th>75%</th>\n",
       "      <th>max</th>\n",
       "    </tr>\n",
       "  </thead>\n",
       "  <tbody>\n",
       "    <tr>\n",
       "      <th>TV</th>\n",
       "      <td>200.0</td>\n",
       "      <td>147.0425</td>\n",
       "      <td>85.854236</td>\n",
       "      <td>0.7</td>\n",
       "      <td>74.375</td>\n",
       "      <td>149.75</td>\n",
       "      <td>218.825</td>\n",
       "      <td>296.4</td>\n",
       "    </tr>\n",
       "    <tr>\n",
       "      <th>radio</th>\n",
       "      <td>200.0</td>\n",
       "      <td>23.2640</td>\n",
       "      <td>14.846809</td>\n",
       "      <td>0.0</td>\n",
       "      <td>9.975</td>\n",
       "      <td>22.90</td>\n",
       "      <td>36.525</td>\n",
       "      <td>49.6</td>\n",
       "    </tr>\n",
       "    <tr>\n",
       "      <th>newspaper</th>\n",
       "      <td>200.0</td>\n",
       "      <td>30.5540</td>\n",
       "      <td>21.778621</td>\n",
       "      <td>0.3</td>\n",
       "      <td>12.750</td>\n",
       "      <td>25.75</td>\n",
       "      <td>45.100</td>\n",
       "      <td>114.0</td>\n",
       "    </tr>\n",
       "    <tr>\n",
       "      <th>sales</th>\n",
       "      <td>200.0</td>\n",
       "      <td>14.0225</td>\n",
       "      <td>5.217457</td>\n",
       "      <td>1.6</td>\n",
       "      <td>10.375</td>\n",
       "      <td>12.90</td>\n",
       "      <td>17.400</td>\n",
       "      <td>27.0</td>\n",
       "    </tr>\n",
       "  </tbody>\n",
       "</table>\n",
       "</div>"
      ],
      "text/plain": [
       "           count      mean        std  min     25%     50%      75%    max\n",
       "TV         200.0  147.0425  85.854236  0.7  74.375  149.75  218.825  296.4\n",
       "radio      200.0   23.2640  14.846809  0.0   9.975   22.90   36.525   49.6\n",
       "newspaper  200.0   30.5540  21.778621  0.3  12.750   25.75   45.100  114.0\n",
       "sales      200.0   14.0225   5.217457  1.6  10.375   12.90   17.400   27.0"
      ]
     },
     "execution_count": 23,
     "metadata": {},
     "output_type": "execute_result"
    }
   ],
   "source": [
    "df_adv.describe().T # transpoze ederek satir ve sutunlari degistirir"
   ]
  },
  {
   "cell_type": "code",
   "execution_count": 27,
   "id": "a561f4be",
   "metadata": {},
   "outputs": [
    {
     "data": {
      "application/vnd.microsoft.datawrangler.viewer.v0+json": {
       "columns": [
        {
         "name": "index",
         "rawType": "int64",
         "type": "integer"
        },
        {
         "name": "TV",
         "rawType": "float64",
         "type": "float"
        }
       ],
       "ref": "6b21b130-4e01-4b50-96c4-876542f33b98",
       "rows": [
        [
         "0",
         "230.1"
        ],
        [
         "1",
         "44.5"
        ],
        [
         "2",
         "17.2"
        ],
        [
         "3",
         "151.5"
        ],
        [
         "4",
         "180.8"
        ],
        [
         "5",
         "8.7"
        ],
        [
         "6",
         "57.5"
        ],
        [
         "7",
         "120.2"
        ],
        [
         "8",
         "8.6"
        ],
        [
         "9",
         "199.8"
        ],
        [
         "10",
         "66.1"
        ],
        [
         "11",
         "214.7"
        ],
        [
         "12",
         "23.8"
        ],
        [
         "13",
         "97.5"
        ],
        [
         "14",
         "204.1"
        ],
        [
         "15",
         "195.4"
        ],
        [
         "16",
         "67.8"
        ],
        [
         "17",
         "281.4"
        ],
        [
         "18",
         "69.2"
        ],
        [
         "19",
         "147.3"
        ],
        [
         "20",
         "218.4"
        ],
        [
         "21",
         "237.4"
        ],
        [
         "22",
         "13.2"
        ],
        [
         "23",
         "228.3"
        ],
        [
         "24",
         "62.3"
        ],
        [
         "25",
         "262.9"
        ],
        [
         "26",
         "142.9"
        ],
        [
         "27",
         "240.1"
        ],
        [
         "28",
         "248.8"
        ],
        [
         "29",
         "70.6"
        ],
        [
         "30",
         "292.9"
        ],
        [
         "31",
         "112.9"
        ],
        [
         "32",
         "97.2"
        ],
        [
         "33",
         "265.6"
        ],
        [
         "34",
         "95.7"
        ],
        [
         "35",
         "290.7"
        ],
        [
         "36",
         "266.9"
        ],
        [
         "37",
         "74.7"
        ],
        [
         "38",
         "43.1"
        ],
        [
         "39",
         "228.0"
        ],
        [
         "40",
         "202.5"
        ],
        [
         "41",
         "177.0"
        ],
        [
         "42",
         "293.6"
        ],
        [
         "43",
         "206.9"
        ],
        [
         "44",
         "25.1"
        ],
        [
         "45",
         "175.1"
        ],
        [
         "46",
         "89.7"
        ],
        [
         "47",
         "239.9"
        ],
        [
         "48",
         "227.2"
        ],
        [
         "49",
         "66.9"
        ]
       ],
       "shape": {
        "columns": 1,
        "rows": 200
       }
      },
      "text/plain": [
       "0      230.1\n",
       "1       44.5\n",
       "2       17.2\n",
       "3      151.5\n",
       "4      180.8\n",
       "       ...  \n",
       "195     38.2\n",
       "196     94.2\n",
       "197    177.0\n",
       "198    283.6\n",
       "199    232.1\n",
       "Name: TV, Length: 200, dtype: float64"
      ]
     },
     "execution_count": 27,
     "metadata": {},
     "output_type": "execute_result"
    }
   ],
   "source": [
    "df_adv[\"TV\"]"
   ]
  },
  {
   "cell_type": "code",
   "execution_count": 33,
   "id": "b5595d36",
   "metadata": {},
   "outputs": [
    {
     "data": {
      "application/vnd.microsoft.datawrangler.viewer.v0+json": {
       "columns": [
        {
         "name": "index",
         "rawType": "int64",
         "type": "integer"
        },
        {
         "name": "sales",
         "rawType": "float64",
         "type": "float"
        },
        {
         "name": "TV",
         "rawType": "float64",
         "type": "float"
        }
       ],
       "ref": "08ec9110-ac6a-4bf7-bae8-beef489db215",
       "rows": [
        [
         "0",
         "22.1",
         "230.1"
        ],
        [
         "1",
         "10.4",
         "44.5"
        ],
        [
         "2",
         "9.3",
         "17.2"
        ],
        [
         "3",
         "18.5",
         "151.5"
        ],
        [
         "4",
         "12.9",
         "180.8"
        ],
        [
         "5",
         "7.2",
         "8.7"
        ],
        [
         "6",
         "11.8",
         "57.5"
        ],
        [
         "7",
         "13.2",
         "120.2"
        ],
        [
         "8",
         "4.8",
         "8.6"
        ],
        [
         "9",
         "10.6",
         "199.8"
        ],
        [
         "10",
         "8.6",
         "66.1"
        ],
        [
         "11",
         "17.4",
         "214.7"
        ],
        [
         "12",
         "9.2",
         "23.8"
        ],
        [
         "13",
         "9.7",
         "97.5"
        ],
        [
         "14",
         "19.0",
         "204.1"
        ],
        [
         "15",
         "22.4",
         "195.4"
        ],
        [
         "16",
         "12.5",
         "67.8"
        ],
        [
         "17",
         "24.4",
         "281.4"
        ],
        [
         "18",
         "11.3",
         "69.2"
        ],
        [
         "19",
         "14.6",
         "147.3"
        ],
        [
         "20",
         "18.0",
         "218.4"
        ],
        [
         "21",
         "12.5",
         "237.4"
        ],
        [
         "22",
         "5.6",
         "13.2"
        ],
        [
         "23",
         "15.5",
         "228.3"
        ],
        [
         "24",
         "9.7",
         "62.3"
        ],
        [
         "25",
         "12.0",
         "262.9"
        ],
        [
         "26",
         "15.0",
         "142.9"
        ],
        [
         "27",
         "15.9",
         "240.1"
        ],
        [
         "28",
         "18.9",
         "248.8"
        ],
        [
         "29",
         "10.5",
         "70.6"
        ],
        [
         "30",
         "21.4",
         "292.9"
        ],
        [
         "31",
         "11.9",
         "112.9"
        ],
        [
         "32",
         "9.6",
         "97.2"
        ],
        [
         "33",
         "17.4",
         "265.6"
        ],
        [
         "34",
         "9.5",
         "95.7"
        ],
        [
         "35",
         "12.8",
         "290.7"
        ],
        [
         "36",
         "25.4",
         "266.9"
        ],
        [
         "37",
         "14.7",
         "74.7"
        ],
        [
         "38",
         "10.1",
         "43.1"
        ],
        [
         "39",
         "21.5",
         "228.0"
        ],
        [
         "40",
         "16.6",
         "202.5"
        ],
        [
         "41",
         "17.1",
         "177.0"
        ],
        [
         "42",
         "20.7",
         "293.6"
        ],
        [
         "43",
         "12.9",
         "206.9"
        ],
        [
         "44",
         "8.5",
         "25.1"
        ],
        [
         "45",
         "14.9",
         "175.1"
        ],
        [
         "46",
         "10.6",
         "89.7"
        ],
        [
         "47",
         "23.2",
         "239.9"
        ],
        [
         "48",
         "14.8",
         "227.2"
        ],
        [
         "49",
         "9.7",
         "66.9"
        ]
       ],
       "shape": {
        "columns": 2,
        "rows": 200
       }
      },
      "text/html": [
       "<div>\n",
       "<style scoped>\n",
       "    .dataframe tbody tr th:only-of-type {\n",
       "        vertical-align: middle;\n",
       "    }\n",
       "\n",
       "    .dataframe tbody tr th {\n",
       "        vertical-align: top;\n",
       "    }\n",
       "\n",
       "    .dataframe thead th {\n",
       "        text-align: right;\n",
       "    }\n",
       "</style>\n",
       "<table border=\"1\" class=\"dataframe\">\n",
       "  <thead>\n",
       "    <tr style=\"text-align: right;\">\n",
       "      <th></th>\n",
       "      <th>sales</th>\n",
       "      <th>TV</th>\n",
       "    </tr>\n",
       "  </thead>\n",
       "  <tbody>\n",
       "    <tr>\n",
       "      <th>0</th>\n",
       "      <td>22.1</td>\n",
       "      <td>230.1</td>\n",
       "    </tr>\n",
       "    <tr>\n",
       "      <th>1</th>\n",
       "      <td>10.4</td>\n",
       "      <td>44.5</td>\n",
       "    </tr>\n",
       "    <tr>\n",
       "      <th>2</th>\n",
       "      <td>9.3</td>\n",
       "      <td>17.2</td>\n",
       "    </tr>\n",
       "    <tr>\n",
       "      <th>3</th>\n",
       "      <td>18.5</td>\n",
       "      <td>151.5</td>\n",
       "    </tr>\n",
       "    <tr>\n",
       "      <th>4</th>\n",
       "      <td>12.9</td>\n",
       "      <td>180.8</td>\n",
       "    </tr>\n",
       "    <tr>\n",
       "      <th>...</th>\n",
       "      <td>...</td>\n",
       "      <td>...</td>\n",
       "    </tr>\n",
       "    <tr>\n",
       "      <th>195</th>\n",
       "      <td>7.6</td>\n",
       "      <td>38.2</td>\n",
       "    </tr>\n",
       "    <tr>\n",
       "      <th>196</th>\n",
       "      <td>9.7</td>\n",
       "      <td>94.2</td>\n",
       "    </tr>\n",
       "    <tr>\n",
       "      <th>197</th>\n",
       "      <td>12.8</td>\n",
       "      <td>177.0</td>\n",
       "    </tr>\n",
       "    <tr>\n",
       "      <th>198</th>\n",
       "      <td>25.5</td>\n",
       "      <td>283.6</td>\n",
       "    </tr>\n",
       "    <tr>\n",
       "      <th>199</th>\n",
       "      <td>13.4</td>\n",
       "      <td>232.1</td>\n",
       "    </tr>\n",
       "  </tbody>\n",
       "</table>\n",
       "<p>200 rows × 2 columns</p>\n",
       "</div>"
      ],
      "text/plain": [
       "     sales     TV\n",
       "0     22.1  230.1\n",
       "1     10.4   44.5\n",
       "2      9.3   17.2\n",
       "3     18.5  151.5\n",
       "4     12.9  180.8\n",
       "..     ...    ...\n",
       "195    7.6   38.2\n",
       "196    9.7   94.2\n",
       "197   12.8  177.0\n",
       "198   25.5  283.6\n",
       "199   13.4  232.1\n",
       "\n",
       "[200 rows x 2 columns]"
      ]
     },
     "execution_count": 33,
     "metadata": {},
     "output_type": "execute_result"
    }
   ],
   "source": [
    "df_adv[[\"sales\", \"TV\"]] # birden fazla kolon secimi"
   ]
  },
  {
   "cell_type": "code",
   "execution_count": 35,
   "id": "55765108",
   "metadata": {},
   "outputs": [
    {
     "data": {
      "application/vnd.microsoft.datawrangler.viewer.v0+json": {
       "columns": [
        {
         "name": "index",
         "rawType": "int64",
         "type": "integer"
        },
        {
         "name": "sales",
         "rawType": "float64",
         "type": "float"
        },
        {
         "name": "TV",
         "rawType": "float64",
         "type": "float"
        }
       ],
       "ref": "b23e5544-f239-47d2-8efd-7045fe23ca58",
       "rows": [
        [
         "0",
         "22.1",
         "230.1"
        ],
        [
         "1",
         "10.4",
         "44.5"
        ],
        [
         "2",
         "9.3",
         "17.2"
        ],
        [
         "3",
         "18.5",
         "151.5"
        ],
        [
         "4",
         "12.9",
         "180.8"
        ],
        [
         "5",
         "7.2",
         "8.7"
        ],
        [
         "6",
         "11.8",
         "57.5"
        ],
        [
         "7",
         "13.2",
         "120.2"
        ],
        [
         "8",
         "4.8",
         "8.6"
        ],
        [
         "9",
         "10.6",
         "199.8"
        ],
        [
         "10",
         "8.6",
         "66.1"
        ],
        [
         "11",
         "17.4",
         "214.7"
        ],
        [
         "12",
         "9.2",
         "23.8"
        ],
        [
         "13",
         "9.7",
         "97.5"
        ],
        [
         "14",
         "19.0",
         "204.1"
        ],
        [
         "15",
         "22.4",
         "195.4"
        ],
        [
         "16",
         "12.5",
         "67.8"
        ],
        [
         "17",
         "24.4",
         "281.4"
        ],
        [
         "18",
         "11.3",
         "69.2"
        ],
        [
         "19",
         "14.6",
         "147.3"
        ],
        [
         "20",
         "18.0",
         "218.4"
        ],
        [
         "21",
         "12.5",
         "237.4"
        ],
        [
         "22",
         "5.6",
         "13.2"
        ],
        [
         "23",
         "15.5",
         "228.3"
        ],
        [
         "24",
         "9.7",
         "62.3"
        ],
        [
         "25",
         "12.0",
         "262.9"
        ],
        [
         "26",
         "15.0",
         "142.9"
        ],
        [
         "27",
         "15.9",
         "240.1"
        ],
        [
         "28",
         "18.9",
         "248.8"
        ],
        [
         "29",
         "10.5",
         "70.6"
        ],
        [
         "30",
         "21.4",
         "292.9"
        ],
        [
         "31",
         "11.9",
         "112.9"
        ],
        [
         "32",
         "9.6",
         "97.2"
        ],
        [
         "33",
         "17.4",
         "265.6"
        ],
        [
         "34",
         "9.5",
         "95.7"
        ],
        [
         "35",
         "12.8",
         "290.7"
        ],
        [
         "36",
         "25.4",
         "266.9"
        ],
        [
         "37",
         "14.7",
         "74.7"
        ],
        [
         "38",
         "10.1",
         "43.1"
        ],
        [
         "39",
         "21.5",
         "228.0"
        ],
        [
         "40",
         "16.6",
         "202.5"
        ],
        [
         "41",
         "17.1",
         "177.0"
        ],
        [
         "42",
         "20.7",
         "293.6"
        ],
        [
         "43",
         "12.9",
         "206.9"
        ],
        [
         "44",
         "8.5",
         "25.1"
        ],
        [
         "45",
         "14.9",
         "175.1"
        ],
        [
         "46",
         "10.6",
         "89.7"
        ],
        [
         "47",
         "23.2",
         "239.9"
        ],
        [
         "48",
         "14.8",
         "227.2"
        ],
        [
         "49",
         "9.7",
         "66.9"
        ]
       ],
       "shape": {
        "columns": 2,
        "rows": 200
       }
      },
      "text/html": [
       "<div>\n",
       "<style scoped>\n",
       "    .dataframe tbody tr th:only-of-type {\n",
       "        vertical-align: middle;\n",
       "    }\n",
       "\n",
       "    .dataframe tbody tr th {\n",
       "        vertical-align: top;\n",
       "    }\n",
       "\n",
       "    .dataframe thead th {\n",
       "        text-align: right;\n",
       "    }\n",
       "</style>\n",
       "<table border=\"1\" class=\"dataframe\">\n",
       "  <thead>\n",
       "    <tr style=\"text-align: right;\">\n",
       "      <th></th>\n",
       "      <th>sales</th>\n",
       "      <th>TV</th>\n",
       "    </tr>\n",
       "  </thead>\n",
       "  <tbody>\n",
       "    <tr>\n",
       "      <th>0</th>\n",
       "      <td>22.1</td>\n",
       "      <td>230.1</td>\n",
       "    </tr>\n",
       "    <tr>\n",
       "      <th>1</th>\n",
       "      <td>10.4</td>\n",
       "      <td>44.5</td>\n",
       "    </tr>\n",
       "    <tr>\n",
       "      <th>2</th>\n",
       "      <td>9.3</td>\n",
       "      <td>17.2</td>\n",
       "    </tr>\n",
       "    <tr>\n",
       "      <th>3</th>\n",
       "      <td>18.5</td>\n",
       "      <td>151.5</td>\n",
       "    </tr>\n",
       "    <tr>\n",
       "      <th>4</th>\n",
       "      <td>12.9</td>\n",
       "      <td>180.8</td>\n",
       "    </tr>\n",
       "    <tr>\n",
       "      <th>...</th>\n",
       "      <td>...</td>\n",
       "      <td>...</td>\n",
       "    </tr>\n",
       "    <tr>\n",
       "      <th>195</th>\n",
       "      <td>7.6</td>\n",
       "      <td>38.2</td>\n",
       "    </tr>\n",
       "    <tr>\n",
       "      <th>196</th>\n",
       "      <td>9.7</td>\n",
       "      <td>94.2</td>\n",
       "    </tr>\n",
       "    <tr>\n",
       "      <th>197</th>\n",
       "      <td>12.8</td>\n",
       "      <td>177.0</td>\n",
       "    </tr>\n",
       "    <tr>\n",
       "      <th>198</th>\n",
       "      <td>25.5</td>\n",
       "      <td>283.6</td>\n",
       "    </tr>\n",
       "    <tr>\n",
       "      <th>199</th>\n",
       "      <td>13.4</td>\n",
       "      <td>232.1</td>\n",
       "    </tr>\n",
       "  </tbody>\n",
       "</table>\n",
       "<p>200 rows × 2 columns</p>\n",
       "</div>"
      ],
      "text/plain": [
       "     sales     TV\n",
       "0     22.1  230.1\n",
       "1     10.4   44.5\n",
       "2      9.3   17.2\n",
       "3     18.5  151.5\n",
       "4     12.9  180.8\n",
       "..     ...    ...\n",
       "195    7.6   38.2\n",
       "196    9.7   94.2\n",
       "197   12.8  177.0\n",
       "198   25.5  283.6\n",
       "199   13.4  232.1\n",
       "\n",
       "[200 rows x 2 columns]"
      ]
     },
     "execution_count": 35,
     "metadata": {},
     "output_type": "execute_result"
    }
   ],
   "source": [
    "df_salesTV = df_adv[[\"sales\", \"TV\"]]\n",
    "df_salesTV"
   ]
  },
  {
   "cell_type": "code",
   "execution_count": 36,
   "id": "079c8a42",
   "metadata": {},
   "outputs": [
    {
     "data": {
      "application/vnd.microsoft.datawrangler.viewer.v0+json": {
       "columns": [
        {
         "name": "index",
         "rawType": "int64",
         "type": "integer"
        },
        {
         "name": "TV",
         "rawType": "float64",
         "type": "float"
        },
        {
         "name": "radio",
         "rawType": "float64",
         "type": "float"
        },
        {
         "name": "newspaper",
         "rawType": "float64",
         "type": "float"
        },
        {
         "name": "sales",
         "rawType": "float64",
         "type": "float"
        },
        {
         "name": "total_adv",
         "rawType": "float64",
         "type": "float"
        }
       ],
       "ref": "8e9c9e8a-1fd3-48a1-992f-e983b68cd763",
       "rows": [
        [
         "0",
         "230.1",
         "37.8",
         "69.2",
         "22.1",
         "337.09999999999997"
        ],
        [
         "1",
         "44.5",
         "39.3",
         "45.1",
         "10.4",
         "128.9"
        ],
        [
         "2",
         "17.2",
         "45.9",
         "69.3",
         "9.3",
         "132.39999999999998"
        ],
        [
         "3",
         "151.5",
         "41.3",
         "58.5",
         "18.5",
         "251.3"
        ],
        [
         "4",
         "180.8",
         "10.8",
         "58.4",
         "12.9",
         "250.00000000000003"
        ],
        [
         "5",
         "8.7",
         "48.9",
         "75.0",
         "7.2",
         "132.6"
        ],
        [
         "6",
         "57.5",
         "32.8",
         "23.5",
         "11.8",
         "113.8"
        ],
        [
         "7",
         "120.2",
         "19.6",
         "11.6",
         "13.2",
         "151.4"
        ],
        [
         "8",
         "8.6",
         "2.1",
         "1.0",
         "4.8",
         "11.7"
        ],
        [
         "9",
         "199.8",
         "2.6",
         "21.2",
         "10.6",
         "223.6"
        ],
        [
         "10",
         "66.1",
         "5.8",
         "24.2",
         "8.6",
         "96.1"
        ],
        [
         "11",
         "214.7",
         "24.0",
         "4.0",
         "17.4",
         "242.7"
        ],
        [
         "12",
         "23.8",
         "35.1",
         "65.9",
         "9.2",
         "124.80000000000001"
        ],
        [
         "13",
         "97.5",
         "7.6",
         "7.2",
         "9.7",
         "112.3"
        ],
        [
         "14",
         "204.1",
         "32.9",
         "46.0",
         "19.0",
         "283.0"
        ],
        [
         "15",
         "195.4",
         "47.7",
         "52.9",
         "22.4",
         "296.0"
        ],
        [
         "16",
         "67.8",
         "36.6",
         "114.0",
         "12.5",
         "218.4"
        ],
        [
         "17",
         "281.4",
         "39.6",
         "55.8",
         "24.4",
         "376.8"
        ],
        [
         "18",
         "69.2",
         "20.5",
         "18.3",
         "11.3",
         "108.0"
        ],
        [
         "19",
         "147.3",
         "23.9",
         "19.1",
         "14.6",
         "190.3"
        ],
        [
         "20",
         "218.4",
         "27.7",
         "53.4",
         "18.0",
         "299.5"
        ],
        [
         "21",
         "237.4",
         "5.1",
         "23.5",
         "12.5",
         "266.0"
        ],
        [
         "22",
         "13.2",
         "15.9",
         "49.6",
         "5.6",
         "78.7"
        ],
        [
         "23",
         "228.3",
         "16.9",
         "26.2",
         "15.5",
         "271.40000000000003"
        ],
        [
         "24",
         "62.3",
         "12.6",
         "18.3",
         "9.7",
         "93.19999999999999"
        ],
        [
         "25",
         "262.9",
         "3.5",
         "19.5",
         "12.0",
         "285.9"
        ],
        [
         "26",
         "142.9",
         "29.3",
         "12.6",
         "15.0",
         "184.8"
        ],
        [
         "27",
         "240.1",
         "16.7",
         "22.9",
         "15.9",
         "279.7"
        ],
        [
         "28",
         "248.8",
         "27.1",
         "22.9",
         "18.9",
         "298.8"
        ],
        [
         "29",
         "70.6",
         "16.0",
         "40.8",
         "10.5",
         "127.39999999999999"
        ],
        [
         "30",
         "292.9",
         "28.3",
         "43.2",
         "21.4",
         "364.4"
        ],
        [
         "31",
         "112.9",
         "17.4",
         "38.6",
         "11.9",
         "168.9"
        ],
        [
         "32",
         "97.2",
         "1.5",
         "30.0",
         "9.6",
         "128.7"
        ],
        [
         "33",
         "265.6",
         "20.0",
         "0.3",
         "17.4",
         "285.90000000000003"
        ],
        [
         "34",
         "95.7",
         "1.4",
         "7.4",
         "9.5",
         "104.50000000000001"
        ],
        [
         "35",
         "290.7",
         "4.1",
         "8.5",
         "12.8",
         "303.3"
        ],
        [
         "36",
         "266.9",
         "43.8",
         "5.0",
         "25.4",
         "315.7"
        ],
        [
         "37",
         "74.7",
         "49.4",
         "45.7",
         "14.7",
         "169.8"
        ],
        [
         "38",
         "43.1",
         "26.7",
         "35.1",
         "10.1",
         "104.9"
        ],
        [
         "39",
         "228.0",
         "37.7",
         "32.0",
         "21.5",
         "297.7"
        ],
        [
         "40",
         "202.5",
         "22.3",
         "31.6",
         "16.6",
         "256.40000000000003"
        ],
        [
         "41",
         "177.0",
         "33.4",
         "38.7",
         "17.1",
         "249.10000000000002"
        ],
        [
         "42",
         "293.6",
         "27.7",
         "1.8",
         "20.7",
         "323.1"
        ],
        [
         "43",
         "206.9",
         "8.4",
         "26.4",
         "12.9",
         "241.70000000000002"
        ],
        [
         "44",
         "25.1",
         "25.7",
         "43.3",
         "8.5",
         "94.1"
        ],
        [
         "45",
         "175.1",
         "22.5",
         "31.5",
         "14.9",
         "229.1"
        ],
        [
         "46",
         "89.7",
         "9.9",
         "35.7",
         "10.6",
         "135.3"
        ],
        [
         "47",
         "239.9",
         "41.5",
         "18.5",
         "23.2",
         "299.9"
        ],
        [
         "48",
         "227.2",
         "15.8",
         "49.9",
         "14.8",
         "292.9"
        ],
        [
         "49",
         "66.9",
         "11.7",
         "36.8",
         "9.7",
         "115.4"
        ]
       ],
       "shape": {
        "columns": 5,
        "rows": 200
       }
      },
      "text/html": [
       "<div>\n",
       "<style scoped>\n",
       "    .dataframe tbody tr th:only-of-type {\n",
       "        vertical-align: middle;\n",
       "    }\n",
       "\n",
       "    .dataframe tbody tr th {\n",
       "        vertical-align: top;\n",
       "    }\n",
       "\n",
       "    .dataframe thead th {\n",
       "        text-align: right;\n",
       "    }\n",
       "</style>\n",
       "<table border=\"1\" class=\"dataframe\">\n",
       "  <thead>\n",
       "    <tr style=\"text-align: right;\">\n",
       "      <th></th>\n",
       "      <th>TV</th>\n",
       "      <th>radio</th>\n",
       "      <th>newspaper</th>\n",
       "      <th>sales</th>\n",
       "      <th>total_adv</th>\n",
       "    </tr>\n",
       "  </thead>\n",
       "  <tbody>\n",
       "    <tr>\n",
       "      <th>0</th>\n",
       "      <td>230.1</td>\n",
       "      <td>37.8</td>\n",
       "      <td>69.2</td>\n",
       "      <td>22.1</td>\n",
       "      <td>337.1</td>\n",
       "    </tr>\n",
       "    <tr>\n",
       "      <th>1</th>\n",
       "      <td>44.5</td>\n",
       "      <td>39.3</td>\n",
       "      <td>45.1</td>\n",
       "      <td>10.4</td>\n",
       "      <td>128.9</td>\n",
       "    </tr>\n",
       "    <tr>\n",
       "      <th>2</th>\n",
       "      <td>17.2</td>\n",
       "      <td>45.9</td>\n",
       "      <td>69.3</td>\n",
       "      <td>9.3</td>\n",
       "      <td>132.4</td>\n",
       "    </tr>\n",
       "    <tr>\n",
       "      <th>3</th>\n",
       "      <td>151.5</td>\n",
       "      <td>41.3</td>\n",
       "      <td>58.5</td>\n",
       "      <td>18.5</td>\n",
       "      <td>251.3</td>\n",
       "    </tr>\n",
       "    <tr>\n",
       "      <th>4</th>\n",
       "      <td>180.8</td>\n",
       "      <td>10.8</td>\n",
       "      <td>58.4</td>\n",
       "      <td>12.9</td>\n",
       "      <td>250.0</td>\n",
       "    </tr>\n",
       "    <tr>\n",
       "      <th>...</th>\n",
       "      <td>...</td>\n",
       "      <td>...</td>\n",
       "      <td>...</td>\n",
       "      <td>...</td>\n",
       "      <td>...</td>\n",
       "    </tr>\n",
       "    <tr>\n",
       "      <th>195</th>\n",
       "      <td>38.2</td>\n",
       "      <td>3.7</td>\n",
       "      <td>13.8</td>\n",
       "      <td>7.6</td>\n",
       "      <td>55.7</td>\n",
       "    </tr>\n",
       "    <tr>\n",
       "      <th>196</th>\n",
       "      <td>94.2</td>\n",
       "      <td>4.9</td>\n",
       "      <td>8.1</td>\n",
       "      <td>9.7</td>\n",
       "      <td>107.2</td>\n",
       "    </tr>\n",
       "    <tr>\n",
       "      <th>197</th>\n",
       "      <td>177.0</td>\n",
       "      <td>9.3</td>\n",
       "      <td>6.4</td>\n",
       "      <td>12.8</td>\n",
       "      <td>192.7</td>\n",
       "    </tr>\n",
       "    <tr>\n",
       "      <th>198</th>\n",
       "      <td>283.6</td>\n",
       "      <td>42.0</td>\n",
       "      <td>66.2</td>\n",
       "      <td>25.5</td>\n",
       "      <td>391.8</td>\n",
       "    </tr>\n",
       "    <tr>\n",
       "      <th>199</th>\n",
       "      <td>232.1</td>\n",
       "      <td>8.6</td>\n",
       "      <td>8.7</td>\n",
       "      <td>13.4</td>\n",
       "      <td>249.4</td>\n",
       "    </tr>\n",
       "  </tbody>\n",
       "</table>\n",
       "<p>200 rows × 5 columns</p>\n",
       "</div>"
      ],
      "text/plain": [
       "        TV  radio  newspaper  sales  total_adv\n",
       "0    230.1   37.8       69.2   22.1      337.1\n",
       "1     44.5   39.3       45.1   10.4      128.9\n",
       "2     17.2   45.9       69.3    9.3      132.4\n",
       "3    151.5   41.3       58.5   18.5      251.3\n",
       "4    180.8   10.8       58.4   12.9      250.0\n",
       "..     ...    ...        ...    ...        ...\n",
       "195   38.2    3.7       13.8    7.6       55.7\n",
       "196   94.2    4.9        8.1    9.7      107.2\n",
       "197  177.0    9.3        6.4   12.8      192.7\n",
       "198  283.6   42.0       66.2   25.5      391.8\n",
       "199  232.1    8.6        8.7   13.4      249.4\n",
       "\n",
       "[200 rows x 5 columns]"
      ]
     },
     "execution_count": 36,
     "metadata": {},
     "output_type": "execute_result"
    }
   ],
   "source": [
    "df_adv[\"total_adv\"] = df_adv[\"TV\"] + df_adv[\"radio\"] + df_adv[\"newspaper\"]\n",
    "df_adv"
   ]
  },
  {
   "cell_type": "code",
   "execution_count": 37,
   "id": "e73c8706",
   "metadata": {},
   "outputs": [
    {
     "data": {
      "application/vnd.microsoft.datawrangler.viewer.v0+json": {
       "columns": [
        {
         "name": "index",
         "rawType": "int64",
         "type": "integer"
        },
        {
         "name": "TV",
         "rawType": "float64",
         "type": "float"
        },
        {
         "name": "radio",
         "rawType": "float64",
         "type": "float"
        },
        {
         "name": "newspaper",
         "rawType": "float64",
         "type": "float"
        },
        {
         "name": "total_adv",
         "rawType": "float64",
         "type": "float"
        }
       ],
       "ref": "1ae8a05a-9979-4ec0-a180-06d4458d610d",
       "rows": [
        [
         "0",
         "230.1",
         "37.8",
         "69.2",
         "337.09999999999997"
        ],
        [
         "1",
         "44.5",
         "39.3",
         "45.1",
         "128.9"
        ],
        [
         "2",
         "17.2",
         "45.9",
         "69.3",
         "132.39999999999998"
        ],
        [
         "3",
         "151.5",
         "41.3",
         "58.5",
         "251.3"
        ],
        [
         "4",
         "180.8",
         "10.8",
         "58.4",
         "250.00000000000003"
        ],
        [
         "5",
         "8.7",
         "48.9",
         "75.0",
         "132.6"
        ],
        [
         "6",
         "57.5",
         "32.8",
         "23.5",
         "113.8"
        ],
        [
         "7",
         "120.2",
         "19.6",
         "11.6",
         "151.4"
        ],
        [
         "8",
         "8.6",
         "2.1",
         "1.0",
         "11.7"
        ],
        [
         "9",
         "199.8",
         "2.6",
         "21.2",
         "223.6"
        ],
        [
         "10",
         "66.1",
         "5.8",
         "24.2",
         "96.1"
        ],
        [
         "11",
         "214.7",
         "24.0",
         "4.0",
         "242.7"
        ],
        [
         "12",
         "23.8",
         "35.1",
         "65.9",
         "124.80000000000001"
        ],
        [
         "13",
         "97.5",
         "7.6",
         "7.2",
         "112.3"
        ],
        [
         "14",
         "204.1",
         "32.9",
         "46.0",
         "283.0"
        ],
        [
         "15",
         "195.4",
         "47.7",
         "52.9",
         "296.0"
        ],
        [
         "16",
         "67.8",
         "36.6",
         "114.0",
         "218.4"
        ],
        [
         "17",
         "281.4",
         "39.6",
         "55.8",
         "376.8"
        ],
        [
         "18",
         "69.2",
         "20.5",
         "18.3",
         "108.0"
        ],
        [
         "19",
         "147.3",
         "23.9",
         "19.1",
         "190.3"
        ],
        [
         "20",
         "218.4",
         "27.7",
         "53.4",
         "299.5"
        ],
        [
         "21",
         "237.4",
         "5.1",
         "23.5",
         "266.0"
        ],
        [
         "22",
         "13.2",
         "15.9",
         "49.6",
         "78.7"
        ],
        [
         "23",
         "228.3",
         "16.9",
         "26.2",
         "271.40000000000003"
        ],
        [
         "24",
         "62.3",
         "12.6",
         "18.3",
         "93.19999999999999"
        ],
        [
         "25",
         "262.9",
         "3.5",
         "19.5",
         "285.9"
        ],
        [
         "26",
         "142.9",
         "29.3",
         "12.6",
         "184.8"
        ],
        [
         "27",
         "240.1",
         "16.7",
         "22.9",
         "279.7"
        ],
        [
         "28",
         "248.8",
         "27.1",
         "22.9",
         "298.8"
        ],
        [
         "29",
         "70.6",
         "16.0",
         "40.8",
         "127.39999999999999"
        ],
        [
         "30",
         "292.9",
         "28.3",
         "43.2",
         "364.4"
        ],
        [
         "31",
         "112.9",
         "17.4",
         "38.6",
         "168.9"
        ],
        [
         "32",
         "97.2",
         "1.5",
         "30.0",
         "128.7"
        ],
        [
         "33",
         "265.6",
         "20.0",
         "0.3",
         "285.90000000000003"
        ],
        [
         "34",
         "95.7",
         "1.4",
         "7.4",
         "104.50000000000001"
        ],
        [
         "35",
         "290.7",
         "4.1",
         "8.5",
         "303.3"
        ],
        [
         "36",
         "266.9",
         "43.8",
         "5.0",
         "315.7"
        ],
        [
         "37",
         "74.7",
         "49.4",
         "45.7",
         "169.8"
        ],
        [
         "38",
         "43.1",
         "26.7",
         "35.1",
         "104.9"
        ],
        [
         "39",
         "228.0",
         "37.7",
         "32.0",
         "297.7"
        ],
        [
         "40",
         "202.5",
         "22.3",
         "31.6",
         "256.40000000000003"
        ],
        [
         "41",
         "177.0",
         "33.4",
         "38.7",
         "249.10000000000002"
        ],
        [
         "42",
         "293.6",
         "27.7",
         "1.8",
         "323.1"
        ],
        [
         "43",
         "206.9",
         "8.4",
         "26.4",
         "241.70000000000002"
        ],
        [
         "44",
         "25.1",
         "25.7",
         "43.3",
         "94.1"
        ],
        [
         "45",
         "175.1",
         "22.5",
         "31.5",
         "229.1"
        ],
        [
         "46",
         "89.7",
         "9.9",
         "35.7",
         "135.3"
        ],
        [
         "47",
         "239.9",
         "41.5",
         "18.5",
         "299.9"
        ],
        [
         "48",
         "227.2",
         "15.8",
         "49.9",
         "292.9"
        ],
        [
         "49",
         "66.9",
         "11.7",
         "36.8",
         "115.4"
        ]
       ],
       "shape": {
        "columns": 4,
        "rows": 200
       }
      },
      "text/html": [
       "<div>\n",
       "<style scoped>\n",
       "    .dataframe tbody tr th:only-of-type {\n",
       "        vertical-align: middle;\n",
       "    }\n",
       "\n",
       "    .dataframe tbody tr th {\n",
       "        vertical-align: top;\n",
       "    }\n",
       "\n",
       "    .dataframe thead th {\n",
       "        text-align: right;\n",
       "    }\n",
       "</style>\n",
       "<table border=\"1\" class=\"dataframe\">\n",
       "  <thead>\n",
       "    <tr style=\"text-align: right;\">\n",
       "      <th></th>\n",
       "      <th>TV</th>\n",
       "      <th>radio</th>\n",
       "      <th>newspaper</th>\n",
       "      <th>total_adv</th>\n",
       "    </tr>\n",
       "  </thead>\n",
       "  <tbody>\n",
       "    <tr>\n",
       "      <th>0</th>\n",
       "      <td>230.1</td>\n",
       "      <td>37.8</td>\n",
       "      <td>69.2</td>\n",
       "      <td>337.1</td>\n",
       "    </tr>\n",
       "    <tr>\n",
       "      <th>1</th>\n",
       "      <td>44.5</td>\n",
       "      <td>39.3</td>\n",
       "      <td>45.1</td>\n",
       "      <td>128.9</td>\n",
       "    </tr>\n",
       "    <tr>\n",
       "      <th>2</th>\n",
       "      <td>17.2</td>\n",
       "      <td>45.9</td>\n",
       "      <td>69.3</td>\n",
       "      <td>132.4</td>\n",
       "    </tr>\n",
       "    <tr>\n",
       "      <th>3</th>\n",
       "      <td>151.5</td>\n",
       "      <td>41.3</td>\n",
       "      <td>58.5</td>\n",
       "      <td>251.3</td>\n",
       "    </tr>\n",
       "    <tr>\n",
       "      <th>4</th>\n",
       "      <td>180.8</td>\n",
       "      <td>10.8</td>\n",
       "      <td>58.4</td>\n",
       "      <td>250.0</td>\n",
       "    </tr>\n",
       "    <tr>\n",
       "      <th>...</th>\n",
       "      <td>...</td>\n",
       "      <td>...</td>\n",
       "      <td>...</td>\n",
       "      <td>...</td>\n",
       "    </tr>\n",
       "    <tr>\n",
       "      <th>195</th>\n",
       "      <td>38.2</td>\n",
       "      <td>3.7</td>\n",
       "      <td>13.8</td>\n",
       "      <td>55.7</td>\n",
       "    </tr>\n",
       "    <tr>\n",
       "      <th>196</th>\n",
       "      <td>94.2</td>\n",
       "      <td>4.9</td>\n",
       "      <td>8.1</td>\n",
       "      <td>107.2</td>\n",
       "    </tr>\n",
       "    <tr>\n",
       "      <th>197</th>\n",
       "      <td>177.0</td>\n",
       "      <td>9.3</td>\n",
       "      <td>6.4</td>\n",
       "      <td>192.7</td>\n",
       "    </tr>\n",
       "    <tr>\n",
       "      <th>198</th>\n",
       "      <td>283.6</td>\n",
       "      <td>42.0</td>\n",
       "      <td>66.2</td>\n",
       "      <td>391.8</td>\n",
       "    </tr>\n",
       "    <tr>\n",
       "      <th>199</th>\n",
       "      <td>232.1</td>\n",
       "      <td>8.6</td>\n",
       "      <td>8.7</td>\n",
       "      <td>249.4</td>\n",
       "    </tr>\n",
       "  </tbody>\n",
       "</table>\n",
       "<p>200 rows × 4 columns</p>\n",
       "</div>"
      ],
      "text/plain": [
       "        TV  radio  newspaper  total_adv\n",
       "0    230.1   37.8       69.2      337.1\n",
       "1     44.5   39.3       45.1      128.9\n",
       "2     17.2   45.9       69.3      132.4\n",
       "3    151.5   41.3       58.5      251.3\n",
       "4    180.8   10.8       58.4      250.0\n",
       "..     ...    ...        ...        ...\n",
       "195   38.2    3.7       13.8       55.7\n",
       "196   94.2    4.9        8.1      107.2\n",
       "197  177.0    9.3        6.4      192.7\n",
       "198  283.6   42.0       66.2      391.8\n",
       "199  232.1    8.6        8.7      249.4\n",
       "\n",
       "[200 rows x 4 columns]"
      ]
     },
     "execution_count": 37,
     "metadata": {},
     "output_type": "execute_result"
    }
   ],
   "source": [
    "df_adv.drop(\"sales\", axis = 1, inplace = False)"
   ]
  },
  {
   "cell_type": "code",
   "execution_count": 39,
   "id": "4364b47e",
   "metadata": {},
   "outputs": [
    {
     "data": {
      "application/vnd.microsoft.datawrangler.viewer.v0+json": {
       "columns": [
        {
         "name": "index",
         "rawType": "int64",
         "type": "integer"
        },
        {
         "name": "TV",
         "rawType": "float64",
         "type": "float"
        },
        {
         "name": "radio",
         "rawType": "float64",
         "type": "float"
        },
        {
         "name": "newspaper",
         "rawType": "float64",
         "type": "float"
        },
        {
         "name": "sales",
         "rawType": "float64",
         "type": "float"
        },
        {
         "name": "total_adv",
         "rawType": "float64",
         "type": "float"
        }
       ],
       "ref": "032dda83-fe41-4e0b-ad21-f4a61ee9c446",
       "rows": [
        [
         "150",
         "280.7",
         "13.9",
         "37.0",
         "16.1",
         "331.59999999999997"
        ],
        [
         "151",
         "121.0",
         "8.4",
         "48.7",
         "11.6",
         "178.10000000000002"
        ],
        [
         "152",
         "197.6",
         "23.3",
         "14.2",
         "16.6",
         "235.1"
        ],
        [
         "153",
         "171.3",
         "39.7",
         "37.7",
         "19.0",
         "248.7"
        ],
        [
         "154",
         "187.8",
         "21.1",
         "9.5",
         "15.6",
         "218.4"
        ],
        [
         "155",
         "4.1",
         "11.6",
         "5.7",
         "3.2",
         "21.4"
        ],
        [
         "156",
         "93.9",
         "43.5",
         "50.5",
         "15.3",
         "187.9"
        ],
        [
         "157",
         "149.8",
         "1.3",
         "24.3",
         "10.1",
         "175.40000000000003"
        ],
        [
         "158",
         "11.7",
         "36.9",
         "45.2",
         "7.3",
         "93.8"
        ],
        [
         "159",
         "131.7",
         "18.4",
         "34.6",
         "12.9",
         "184.7"
        ],
        [
         "160",
         "172.5",
         "18.1",
         "30.7",
         "14.4",
         "221.29999999999998"
        ],
        [
         "161",
         "85.7",
         "35.8",
         "49.3",
         "13.3",
         "170.8"
        ],
        [
         "162",
         "188.4",
         "18.1",
         "25.6",
         "14.9",
         "232.1"
        ],
        [
         "163",
         "163.5",
         "36.8",
         "7.4",
         "18.0",
         "207.70000000000002"
        ],
        [
         "164",
         "117.2",
         "14.7",
         "5.4",
         "11.9",
         "137.3"
        ],
        [
         "165",
         "234.5",
         "3.4",
         "84.8",
         "11.9",
         "322.7"
        ],
        [
         "166",
         "17.9",
         "37.6",
         "21.6",
         "8.0",
         "77.1"
        ],
        [
         "167",
         "206.8",
         "5.2",
         "19.4",
         "12.2",
         "231.4"
        ],
        [
         "168",
         "215.4",
         "23.6",
         "57.6",
         "17.1",
         "296.6"
        ],
        [
         "169",
         "284.3",
         "10.6",
         "6.4",
         "15.0",
         "301.3"
        ],
        [
         "170",
         "50.0",
         "11.6",
         "18.4",
         "8.4",
         "80.0"
        ],
        [
         "171",
         "164.5",
         "20.9",
         "47.4",
         "14.5",
         "232.8"
        ],
        [
         "172",
         "19.6",
         "20.1",
         "17.0",
         "7.6",
         "56.7"
        ],
        [
         "173",
         "168.4",
         "7.1",
         "12.8",
         "11.7",
         "188.3"
        ],
        [
         "174",
         "222.4",
         "3.4",
         "13.1",
         "11.5",
         "238.9"
        ],
        [
         "175",
         "276.9",
         "48.9",
         "41.8",
         "27.0",
         "367.59999999999997"
        ],
        [
         "176",
         "248.4",
         "30.2",
         "20.3",
         "20.2",
         "298.90000000000003"
        ],
        [
         "177",
         "170.2",
         "7.8",
         "35.2",
         "11.7",
         "213.2"
        ],
        [
         "178",
         "276.7",
         "2.3",
         "23.7",
         "11.8",
         "302.7"
        ],
        [
         "179",
         "165.6",
         "10.0",
         "17.6",
         "12.6",
         "193.2"
        ],
        [
         "180",
         "156.6",
         "2.6",
         "8.3",
         "10.5",
         "167.5"
        ],
        [
         "181",
         "218.5",
         "5.4",
         "27.4",
         "12.2",
         "251.3"
        ],
        [
         "182",
         "56.2",
         "5.7",
         "29.7",
         "8.7",
         "91.60000000000001"
        ],
        [
         "183",
         "287.6",
         "43.0",
         "71.8",
         "26.2",
         "402.40000000000003"
        ],
        [
         "184",
         "253.8",
         "21.3",
         "30.0",
         "17.6",
         "305.1"
        ],
        [
         "185",
         "205.0",
         "45.1",
         "19.6",
         "22.6",
         "269.7"
        ],
        [
         "186",
         "139.5",
         "2.1",
         "26.6",
         "10.3",
         "168.2"
        ],
        [
         "187",
         "191.1",
         "28.7",
         "18.2",
         "17.3",
         "237.99999999999997"
        ],
        [
         "188",
         "286.0",
         "13.9",
         "3.7",
         "15.9",
         "303.59999999999997"
        ],
        [
         "189",
         "18.7",
         "12.1",
         "23.4",
         "6.7",
         "54.199999999999996"
        ],
        [
         "190",
         "39.5",
         "41.1",
         "5.8",
         "10.8",
         "86.39999999999999"
        ],
        [
         "191",
         "75.5",
         "10.8",
         "6.0",
         "9.9",
         "92.3"
        ],
        [
         "192",
         "17.2",
         "4.1",
         "31.6",
         "5.9",
         "52.9"
        ],
        [
         "193",
         "166.8",
         "42.0",
         "3.6",
         "19.6",
         "212.4"
        ],
        [
         "194",
         "149.7",
         "35.6",
         "6.0",
         "17.3",
         "191.29999999999998"
        ],
        [
         "195",
         "38.2",
         "3.7",
         "13.8",
         "7.6",
         "55.7"
        ],
        [
         "196",
         "94.2",
         "4.9",
         "8.1",
         "9.7",
         "107.2"
        ],
        [
         "197",
         "177.0",
         "9.3",
         "6.4",
         "12.8",
         "192.70000000000002"
        ],
        [
         "198",
         "283.6",
         "42.0",
         "66.2",
         "25.5",
         "391.8"
        ],
        [
         "199",
         "232.1",
         "8.6",
         "8.7",
         "13.4",
         "249.39999999999998"
        ]
       ],
       "shape": {
        "columns": 5,
        "rows": 50
       }
      },
      "text/html": [
       "<div>\n",
       "<style scoped>\n",
       "    .dataframe tbody tr th:only-of-type {\n",
       "        vertical-align: middle;\n",
       "    }\n",
       "\n",
       "    .dataframe tbody tr th {\n",
       "        vertical-align: top;\n",
       "    }\n",
       "\n",
       "    .dataframe thead th {\n",
       "        text-align: right;\n",
       "    }\n",
       "</style>\n",
       "<table border=\"1\" class=\"dataframe\">\n",
       "  <thead>\n",
       "    <tr style=\"text-align: right;\">\n",
       "      <th></th>\n",
       "      <th>TV</th>\n",
       "      <th>radio</th>\n",
       "      <th>newspaper</th>\n",
       "      <th>sales</th>\n",
       "      <th>total_adv</th>\n",
       "    </tr>\n",
       "  </thead>\n",
       "  <tbody>\n",
       "    <tr>\n",
       "      <th>150</th>\n",
       "      <td>280.7</td>\n",
       "      <td>13.9</td>\n",
       "      <td>37.0</td>\n",
       "      <td>16.1</td>\n",
       "      <td>331.6</td>\n",
       "    </tr>\n",
       "    <tr>\n",
       "      <th>151</th>\n",
       "      <td>121.0</td>\n",
       "      <td>8.4</td>\n",
       "      <td>48.7</td>\n",
       "      <td>11.6</td>\n",
       "      <td>178.1</td>\n",
       "    </tr>\n",
       "    <tr>\n",
       "      <th>152</th>\n",
       "      <td>197.6</td>\n",
       "      <td>23.3</td>\n",
       "      <td>14.2</td>\n",
       "      <td>16.6</td>\n",
       "      <td>235.1</td>\n",
       "    </tr>\n",
       "    <tr>\n",
       "      <th>153</th>\n",
       "      <td>171.3</td>\n",
       "      <td>39.7</td>\n",
       "      <td>37.7</td>\n",
       "      <td>19.0</td>\n",
       "      <td>248.7</td>\n",
       "    </tr>\n",
       "    <tr>\n",
       "      <th>154</th>\n",
       "      <td>187.8</td>\n",
       "      <td>21.1</td>\n",
       "      <td>9.5</td>\n",
       "      <td>15.6</td>\n",
       "      <td>218.4</td>\n",
       "    </tr>\n",
       "    <tr>\n",
       "      <th>155</th>\n",
       "      <td>4.1</td>\n",
       "      <td>11.6</td>\n",
       "      <td>5.7</td>\n",
       "      <td>3.2</td>\n",
       "      <td>21.4</td>\n",
       "    </tr>\n",
       "    <tr>\n",
       "      <th>156</th>\n",
       "      <td>93.9</td>\n",
       "      <td>43.5</td>\n",
       "      <td>50.5</td>\n",
       "      <td>15.3</td>\n",
       "      <td>187.9</td>\n",
       "    </tr>\n",
       "    <tr>\n",
       "      <th>157</th>\n",
       "      <td>149.8</td>\n",
       "      <td>1.3</td>\n",
       "      <td>24.3</td>\n",
       "      <td>10.1</td>\n",
       "      <td>175.4</td>\n",
       "    </tr>\n",
       "    <tr>\n",
       "      <th>158</th>\n",
       "      <td>11.7</td>\n",
       "      <td>36.9</td>\n",
       "      <td>45.2</td>\n",
       "      <td>7.3</td>\n",
       "      <td>93.8</td>\n",
       "    </tr>\n",
       "    <tr>\n",
       "      <th>159</th>\n",
       "      <td>131.7</td>\n",
       "      <td>18.4</td>\n",
       "      <td>34.6</td>\n",
       "      <td>12.9</td>\n",
       "      <td>184.7</td>\n",
       "    </tr>\n",
       "    <tr>\n",
       "      <th>160</th>\n",
       "      <td>172.5</td>\n",
       "      <td>18.1</td>\n",
       "      <td>30.7</td>\n",
       "      <td>14.4</td>\n",
       "      <td>221.3</td>\n",
       "    </tr>\n",
       "    <tr>\n",
       "      <th>161</th>\n",
       "      <td>85.7</td>\n",
       "      <td>35.8</td>\n",
       "      <td>49.3</td>\n",
       "      <td>13.3</td>\n",
       "      <td>170.8</td>\n",
       "    </tr>\n",
       "    <tr>\n",
       "      <th>162</th>\n",
       "      <td>188.4</td>\n",
       "      <td>18.1</td>\n",
       "      <td>25.6</td>\n",
       "      <td>14.9</td>\n",
       "      <td>232.1</td>\n",
       "    </tr>\n",
       "    <tr>\n",
       "      <th>163</th>\n",
       "      <td>163.5</td>\n",
       "      <td>36.8</td>\n",
       "      <td>7.4</td>\n",
       "      <td>18.0</td>\n",
       "      <td>207.7</td>\n",
       "    </tr>\n",
       "    <tr>\n",
       "      <th>164</th>\n",
       "      <td>117.2</td>\n",
       "      <td>14.7</td>\n",
       "      <td>5.4</td>\n",
       "      <td>11.9</td>\n",
       "      <td>137.3</td>\n",
       "    </tr>\n",
       "    <tr>\n",
       "      <th>165</th>\n",
       "      <td>234.5</td>\n",
       "      <td>3.4</td>\n",
       "      <td>84.8</td>\n",
       "      <td>11.9</td>\n",
       "      <td>322.7</td>\n",
       "    </tr>\n",
       "    <tr>\n",
       "      <th>166</th>\n",
       "      <td>17.9</td>\n",
       "      <td>37.6</td>\n",
       "      <td>21.6</td>\n",
       "      <td>8.0</td>\n",
       "      <td>77.1</td>\n",
       "    </tr>\n",
       "    <tr>\n",
       "      <th>167</th>\n",
       "      <td>206.8</td>\n",
       "      <td>5.2</td>\n",
       "      <td>19.4</td>\n",
       "      <td>12.2</td>\n",
       "      <td>231.4</td>\n",
       "    </tr>\n",
       "    <tr>\n",
       "      <th>168</th>\n",
       "      <td>215.4</td>\n",
       "      <td>23.6</td>\n",
       "      <td>57.6</td>\n",
       "      <td>17.1</td>\n",
       "      <td>296.6</td>\n",
       "    </tr>\n",
       "    <tr>\n",
       "      <th>169</th>\n",
       "      <td>284.3</td>\n",
       "      <td>10.6</td>\n",
       "      <td>6.4</td>\n",
       "      <td>15.0</td>\n",
       "      <td>301.3</td>\n",
       "    </tr>\n",
       "    <tr>\n",
       "      <th>170</th>\n",
       "      <td>50.0</td>\n",
       "      <td>11.6</td>\n",
       "      <td>18.4</td>\n",
       "      <td>8.4</td>\n",
       "      <td>80.0</td>\n",
       "    </tr>\n",
       "    <tr>\n",
       "      <th>171</th>\n",
       "      <td>164.5</td>\n",
       "      <td>20.9</td>\n",
       "      <td>47.4</td>\n",
       "      <td>14.5</td>\n",
       "      <td>232.8</td>\n",
       "    </tr>\n",
       "    <tr>\n",
       "      <th>172</th>\n",
       "      <td>19.6</td>\n",
       "      <td>20.1</td>\n",
       "      <td>17.0</td>\n",
       "      <td>7.6</td>\n",
       "      <td>56.7</td>\n",
       "    </tr>\n",
       "    <tr>\n",
       "      <th>173</th>\n",
       "      <td>168.4</td>\n",
       "      <td>7.1</td>\n",
       "      <td>12.8</td>\n",
       "      <td>11.7</td>\n",
       "      <td>188.3</td>\n",
       "    </tr>\n",
       "    <tr>\n",
       "      <th>174</th>\n",
       "      <td>222.4</td>\n",
       "      <td>3.4</td>\n",
       "      <td>13.1</td>\n",
       "      <td>11.5</td>\n",
       "      <td>238.9</td>\n",
       "    </tr>\n",
       "    <tr>\n",
       "      <th>175</th>\n",
       "      <td>276.9</td>\n",
       "      <td>48.9</td>\n",
       "      <td>41.8</td>\n",
       "      <td>27.0</td>\n",
       "      <td>367.6</td>\n",
       "    </tr>\n",
       "    <tr>\n",
       "      <th>176</th>\n",
       "      <td>248.4</td>\n",
       "      <td>30.2</td>\n",
       "      <td>20.3</td>\n",
       "      <td>20.2</td>\n",
       "      <td>298.9</td>\n",
       "    </tr>\n",
       "    <tr>\n",
       "      <th>177</th>\n",
       "      <td>170.2</td>\n",
       "      <td>7.8</td>\n",
       "      <td>35.2</td>\n",
       "      <td>11.7</td>\n",
       "      <td>213.2</td>\n",
       "    </tr>\n",
       "    <tr>\n",
       "      <th>178</th>\n",
       "      <td>276.7</td>\n",
       "      <td>2.3</td>\n",
       "      <td>23.7</td>\n",
       "      <td>11.8</td>\n",
       "      <td>302.7</td>\n",
       "    </tr>\n",
       "    <tr>\n",
       "      <th>179</th>\n",
       "      <td>165.6</td>\n",
       "      <td>10.0</td>\n",
       "      <td>17.6</td>\n",
       "      <td>12.6</td>\n",
       "      <td>193.2</td>\n",
       "    </tr>\n",
       "    <tr>\n",
       "      <th>180</th>\n",
       "      <td>156.6</td>\n",
       "      <td>2.6</td>\n",
       "      <td>8.3</td>\n",
       "      <td>10.5</td>\n",
       "      <td>167.5</td>\n",
       "    </tr>\n",
       "    <tr>\n",
       "      <th>181</th>\n",
       "      <td>218.5</td>\n",
       "      <td>5.4</td>\n",
       "      <td>27.4</td>\n",
       "      <td>12.2</td>\n",
       "      <td>251.3</td>\n",
       "    </tr>\n",
       "    <tr>\n",
       "      <th>182</th>\n",
       "      <td>56.2</td>\n",
       "      <td>5.7</td>\n",
       "      <td>29.7</td>\n",
       "      <td>8.7</td>\n",
       "      <td>91.6</td>\n",
       "    </tr>\n",
       "    <tr>\n",
       "      <th>183</th>\n",
       "      <td>287.6</td>\n",
       "      <td>43.0</td>\n",
       "      <td>71.8</td>\n",
       "      <td>26.2</td>\n",
       "      <td>402.4</td>\n",
       "    </tr>\n",
       "    <tr>\n",
       "      <th>184</th>\n",
       "      <td>253.8</td>\n",
       "      <td>21.3</td>\n",
       "      <td>30.0</td>\n",
       "      <td>17.6</td>\n",
       "      <td>305.1</td>\n",
       "    </tr>\n",
       "    <tr>\n",
       "      <th>185</th>\n",
       "      <td>205.0</td>\n",
       "      <td>45.1</td>\n",
       "      <td>19.6</td>\n",
       "      <td>22.6</td>\n",
       "      <td>269.7</td>\n",
       "    </tr>\n",
       "    <tr>\n",
       "      <th>186</th>\n",
       "      <td>139.5</td>\n",
       "      <td>2.1</td>\n",
       "      <td>26.6</td>\n",
       "      <td>10.3</td>\n",
       "      <td>168.2</td>\n",
       "    </tr>\n",
       "    <tr>\n",
       "      <th>187</th>\n",
       "      <td>191.1</td>\n",
       "      <td>28.7</td>\n",
       "      <td>18.2</td>\n",
       "      <td>17.3</td>\n",
       "      <td>238.0</td>\n",
       "    </tr>\n",
       "    <tr>\n",
       "      <th>188</th>\n",
       "      <td>286.0</td>\n",
       "      <td>13.9</td>\n",
       "      <td>3.7</td>\n",
       "      <td>15.9</td>\n",
       "      <td>303.6</td>\n",
       "    </tr>\n",
       "    <tr>\n",
       "      <th>189</th>\n",
       "      <td>18.7</td>\n",
       "      <td>12.1</td>\n",
       "      <td>23.4</td>\n",
       "      <td>6.7</td>\n",
       "      <td>54.2</td>\n",
       "    </tr>\n",
       "    <tr>\n",
       "      <th>190</th>\n",
       "      <td>39.5</td>\n",
       "      <td>41.1</td>\n",
       "      <td>5.8</td>\n",
       "      <td>10.8</td>\n",
       "      <td>86.4</td>\n",
       "    </tr>\n",
       "    <tr>\n",
       "      <th>191</th>\n",
       "      <td>75.5</td>\n",
       "      <td>10.8</td>\n",
       "      <td>6.0</td>\n",
       "      <td>9.9</td>\n",
       "      <td>92.3</td>\n",
       "    </tr>\n",
       "    <tr>\n",
       "      <th>192</th>\n",
       "      <td>17.2</td>\n",
       "      <td>4.1</td>\n",
       "      <td>31.6</td>\n",
       "      <td>5.9</td>\n",
       "      <td>52.9</td>\n",
       "    </tr>\n",
       "    <tr>\n",
       "      <th>193</th>\n",
       "      <td>166.8</td>\n",
       "      <td>42.0</td>\n",
       "      <td>3.6</td>\n",
       "      <td>19.6</td>\n",
       "      <td>212.4</td>\n",
       "    </tr>\n",
       "    <tr>\n",
       "      <th>194</th>\n",
       "      <td>149.7</td>\n",
       "      <td>35.6</td>\n",
       "      <td>6.0</td>\n",
       "      <td>17.3</td>\n",
       "      <td>191.3</td>\n",
       "    </tr>\n",
       "    <tr>\n",
       "      <th>195</th>\n",
       "      <td>38.2</td>\n",
       "      <td>3.7</td>\n",
       "      <td>13.8</td>\n",
       "      <td>7.6</td>\n",
       "      <td>55.7</td>\n",
       "    </tr>\n",
       "    <tr>\n",
       "      <th>196</th>\n",
       "      <td>94.2</td>\n",
       "      <td>4.9</td>\n",
       "      <td>8.1</td>\n",
       "      <td>9.7</td>\n",
       "      <td>107.2</td>\n",
       "    </tr>\n",
       "    <tr>\n",
       "      <th>197</th>\n",
       "      <td>177.0</td>\n",
       "      <td>9.3</td>\n",
       "      <td>6.4</td>\n",
       "      <td>12.8</td>\n",
       "      <td>192.7</td>\n",
       "    </tr>\n",
       "    <tr>\n",
       "      <th>198</th>\n",
       "      <td>283.6</td>\n",
       "      <td>42.0</td>\n",
       "      <td>66.2</td>\n",
       "      <td>25.5</td>\n",
       "      <td>391.8</td>\n",
       "    </tr>\n",
       "    <tr>\n",
       "      <th>199</th>\n",
       "      <td>232.1</td>\n",
       "      <td>8.6</td>\n",
       "      <td>8.7</td>\n",
       "      <td>13.4</td>\n",
       "      <td>249.4</td>\n",
       "    </tr>\n",
       "  </tbody>\n",
       "</table>\n",
       "</div>"
      ],
      "text/plain": [
       "        TV  radio  newspaper  sales  total_adv\n",
       "150  280.7   13.9       37.0   16.1      331.6\n",
       "151  121.0    8.4       48.7   11.6      178.1\n",
       "152  197.6   23.3       14.2   16.6      235.1\n",
       "153  171.3   39.7       37.7   19.0      248.7\n",
       "154  187.8   21.1        9.5   15.6      218.4\n",
       "155    4.1   11.6        5.7    3.2       21.4\n",
       "156   93.9   43.5       50.5   15.3      187.9\n",
       "157  149.8    1.3       24.3   10.1      175.4\n",
       "158   11.7   36.9       45.2    7.3       93.8\n",
       "159  131.7   18.4       34.6   12.9      184.7\n",
       "160  172.5   18.1       30.7   14.4      221.3\n",
       "161   85.7   35.8       49.3   13.3      170.8\n",
       "162  188.4   18.1       25.6   14.9      232.1\n",
       "163  163.5   36.8        7.4   18.0      207.7\n",
       "164  117.2   14.7        5.4   11.9      137.3\n",
       "165  234.5    3.4       84.8   11.9      322.7\n",
       "166   17.9   37.6       21.6    8.0       77.1\n",
       "167  206.8    5.2       19.4   12.2      231.4\n",
       "168  215.4   23.6       57.6   17.1      296.6\n",
       "169  284.3   10.6        6.4   15.0      301.3\n",
       "170   50.0   11.6       18.4    8.4       80.0\n",
       "171  164.5   20.9       47.4   14.5      232.8\n",
       "172   19.6   20.1       17.0    7.6       56.7\n",
       "173  168.4    7.1       12.8   11.7      188.3\n",
       "174  222.4    3.4       13.1   11.5      238.9\n",
       "175  276.9   48.9       41.8   27.0      367.6\n",
       "176  248.4   30.2       20.3   20.2      298.9\n",
       "177  170.2    7.8       35.2   11.7      213.2\n",
       "178  276.7    2.3       23.7   11.8      302.7\n",
       "179  165.6   10.0       17.6   12.6      193.2\n",
       "180  156.6    2.6        8.3   10.5      167.5\n",
       "181  218.5    5.4       27.4   12.2      251.3\n",
       "182   56.2    5.7       29.7    8.7       91.6\n",
       "183  287.6   43.0       71.8   26.2      402.4\n",
       "184  253.8   21.3       30.0   17.6      305.1\n",
       "185  205.0   45.1       19.6   22.6      269.7\n",
       "186  139.5    2.1       26.6   10.3      168.2\n",
       "187  191.1   28.7       18.2   17.3      238.0\n",
       "188  286.0   13.9        3.7   15.9      303.6\n",
       "189   18.7   12.1       23.4    6.7       54.2\n",
       "190   39.5   41.1        5.8   10.8       86.4\n",
       "191   75.5   10.8        6.0    9.9       92.3\n",
       "192   17.2    4.1       31.6    5.9       52.9\n",
       "193  166.8   42.0        3.6   19.6      212.4\n",
       "194  149.7   35.6        6.0   17.3      191.3\n",
       "195   38.2    3.7       13.8    7.6       55.7\n",
       "196   94.2    4.9        8.1    9.7      107.2\n",
       "197  177.0    9.3        6.4   12.8      192.7\n",
       "198  283.6   42.0       66.2   25.5      391.8\n",
       "199  232.1    8.6        8.7   13.4      249.4"
      ]
     },
     "execution_count": 39,
     "metadata": {},
     "output_type": "execute_result"
    }
   ],
   "source": [
    "df_adv[150:] # son 50 satiri gosterir"
   ]
  },
  {
   "cell_type": "code",
   "execution_count": 44,
   "id": "41e04ee2",
   "metadata": {},
   "outputs": [
    {
     "data": {
      "application/vnd.microsoft.datawrangler.viewer.v0+json": {
       "columns": [
        {
         "name": "index",
         "rawType": "int64",
         "type": "integer"
        },
        {
         "name": "sales",
         "rawType": "bool",
         "type": "boolean"
        }
       ],
       "ref": "b7bac5c9-a5e9-49d4-88fb-a5c3eaf30d68",
       "rows": [
        [
         "0",
         "False"
        ],
        [
         "1",
         "False"
        ],
        [
         "2",
         "False"
        ],
        [
         "3",
         "False"
        ],
        [
         "4",
         "False"
        ],
        [
         "5",
         "False"
        ],
        [
         "6",
         "False"
        ],
        [
         "7",
         "False"
        ],
        [
         "8",
         "False"
        ],
        [
         "9",
         "False"
        ],
        [
         "10",
         "False"
        ],
        [
         "11",
         "False"
        ],
        [
         "12",
         "False"
        ],
        [
         "13",
         "False"
        ],
        [
         "14",
         "False"
        ],
        [
         "15",
         "False"
        ],
        [
         "16",
         "False"
        ],
        [
         "17",
         "False"
        ],
        [
         "18",
         "False"
        ],
        [
         "19",
         "False"
        ],
        [
         "20",
         "False"
        ],
        [
         "21",
         "False"
        ],
        [
         "22",
         "False"
        ],
        [
         "23",
         "False"
        ],
        [
         "24",
         "False"
        ],
        [
         "25",
         "False"
        ],
        [
         "26",
         "False"
        ],
        [
         "27",
         "False"
        ],
        [
         "28",
         "False"
        ],
        [
         "29",
         "False"
        ],
        [
         "30",
         "False"
        ],
        [
         "31",
         "False"
        ],
        [
         "32",
         "False"
        ],
        [
         "33",
         "False"
        ],
        [
         "34",
         "False"
        ],
        [
         "35",
         "False"
        ],
        [
         "36",
         "True"
        ],
        [
         "37",
         "False"
        ],
        [
         "38",
         "False"
        ],
        [
         "39",
         "False"
        ],
        [
         "40",
         "False"
        ],
        [
         "41",
         "False"
        ],
        [
         "42",
         "False"
        ],
        [
         "43",
         "False"
        ],
        [
         "44",
         "False"
        ],
        [
         "45",
         "False"
        ],
        [
         "46",
         "False"
        ],
        [
         "47",
         "False"
        ],
        [
         "48",
         "False"
        ],
        [
         "49",
         "False"
        ]
       ],
       "shape": {
        "columns": 1,
        "rows": 200
       }
      },
      "text/plain": [
       "0      False\n",
       "1      False\n",
       "2      False\n",
       "3      False\n",
       "4      False\n",
       "       ...  \n",
       "195    False\n",
       "196    False\n",
       "197    False\n",
       "198     True\n",
       "199    False\n",
       "Name: sales, Length: 200, dtype: bool"
      ]
     },
     "execution_count": 44,
     "metadata": {},
     "output_type": "execute_result"
    }
   ],
   "source": [
    "df_adv[\"sales\"] > 25 # sales kolonundaki degerlerin 25'ten buyuk olup olmadigini kontrol eder"
   ]
  },
  {
   "cell_type": "code",
   "execution_count": 45,
   "id": "ef2a0d07",
   "metadata": {},
   "outputs": [
    {
     "data": {
      "application/vnd.microsoft.datawrangler.viewer.v0+json": {
       "columns": [
        {
         "name": "index",
         "rawType": "int64",
         "type": "integer"
        },
        {
         "name": "TV",
         "rawType": "float64",
         "type": "float"
        },
        {
         "name": "radio",
         "rawType": "float64",
         "type": "float"
        },
        {
         "name": "newspaper",
         "rawType": "float64",
         "type": "float"
        },
        {
         "name": "sales",
         "rawType": "float64",
         "type": "float"
        },
        {
         "name": "total_adv",
         "rawType": "float64",
         "type": "float"
        }
       ],
       "ref": "a77960dd-1a76-4c11-8126-748a5cc0bf85",
       "rows": [
        [
         "36",
         "266.9",
         "43.8",
         "5.0",
         "25.4",
         "315.7"
        ],
        [
         "98",
         "289.7",
         "42.3",
         "51.2",
         "25.4",
         "383.2"
        ],
        [
         "147",
         "243.2",
         "49.0",
         "44.3",
         "25.4",
         "336.5"
        ],
        [
         "175",
         "276.9",
         "48.9",
         "41.8",
         "27.0",
         "367.59999999999997"
        ],
        [
         "183",
         "287.6",
         "43.0",
         "71.8",
         "26.2",
         "402.40000000000003"
        ],
        [
         "198",
         "283.6",
         "42.0",
         "66.2",
         "25.5",
         "391.8"
        ]
       ],
       "shape": {
        "columns": 5,
        "rows": 6
       }
      },
      "text/html": [
       "<div>\n",
       "<style scoped>\n",
       "    .dataframe tbody tr th:only-of-type {\n",
       "        vertical-align: middle;\n",
       "    }\n",
       "\n",
       "    .dataframe tbody tr th {\n",
       "        vertical-align: top;\n",
       "    }\n",
       "\n",
       "    .dataframe thead th {\n",
       "        text-align: right;\n",
       "    }\n",
       "</style>\n",
       "<table border=\"1\" class=\"dataframe\">\n",
       "  <thead>\n",
       "    <tr style=\"text-align: right;\">\n",
       "      <th></th>\n",
       "      <th>TV</th>\n",
       "      <th>radio</th>\n",
       "      <th>newspaper</th>\n",
       "      <th>sales</th>\n",
       "      <th>total_adv</th>\n",
       "    </tr>\n",
       "  </thead>\n",
       "  <tbody>\n",
       "    <tr>\n",
       "      <th>36</th>\n",
       "      <td>266.9</td>\n",
       "      <td>43.8</td>\n",
       "      <td>5.0</td>\n",
       "      <td>25.4</td>\n",
       "      <td>315.7</td>\n",
       "    </tr>\n",
       "    <tr>\n",
       "      <th>98</th>\n",
       "      <td>289.7</td>\n",
       "      <td>42.3</td>\n",
       "      <td>51.2</td>\n",
       "      <td>25.4</td>\n",
       "      <td>383.2</td>\n",
       "    </tr>\n",
       "    <tr>\n",
       "      <th>147</th>\n",
       "      <td>243.2</td>\n",
       "      <td>49.0</td>\n",
       "      <td>44.3</td>\n",
       "      <td>25.4</td>\n",
       "      <td>336.5</td>\n",
       "    </tr>\n",
       "    <tr>\n",
       "      <th>175</th>\n",
       "      <td>276.9</td>\n",
       "      <td>48.9</td>\n",
       "      <td>41.8</td>\n",
       "      <td>27.0</td>\n",
       "      <td>367.6</td>\n",
       "    </tr>\n",
       "    <tr>\n",
       "      <th>183</th>\n",
       "      <td>287.6</td>\n",
       "      <td>43.0</td>\n",
       "      <td>71.8</td>\n",
       "      <td>26.2</td>\n",
       "      <td>402.4</td>\n",
       "    </tr>\n",
       "    <tr>\n",
       "      <th>198</th>\n",
       "      <td>283.6</td>\n",
       "      <td>42.0</td>\n",
       "      <td>66.2</td>\n",
       "      <td>25.5</td>\n",
       "      <td>391.8</td>\n",
       "    </tr>\n",
       "  </tbody>\n",
       "</table>\n",
       "</div>"
      ],
      "text/plain": [
       "        TV  radio  newspaper  sales  total_adv\n",
       "36   266.9   43.8        5.0   25.4      315.7\n",
       "98   289.7   42.3       51.2   25.4      383.2\n",
       "147  243.2   49.0       44.3   25.4      336.5\n",
       "175  276.9   48.9       41.8   27.0      367.6\n",
       "183  287.6   43.0       71.8   26.2      402.4\n",
       "198  283.6   42.0       66.2   25.5      391.8"
      ]
     },
     "execution_count": 45,
     "metadata": {},
     "output_type": "execute_result"
    }
   ],
   "source": [
    "df_adv[df_adv[\"sales\"] > 25] # sales kolonundaki degerlerin 25'ten buyuk oldugu satirlari getirir"
   ]
  },
  {
   "cell_type": "code",
   "execution_count": 46,
   "id": "fd36f412",
   "metadata": {},
   "outputs": [
    {
     "data": {
      "application/vnd.microsoft.datawrangler.viewer.v0+json": {
       "columns": [
        {
         "name": "index",
         "rawType": "int64",
         "type": "integer"
        },
        {
         "name": "TV",
         "rawType": "float64",
         "type": "float"
        },
        {
         "name": "radio",
         "rawType": "float64",
         "type": "float"
        },
        {
         "name": "newspaper",
         "rawType": "float64",
         "type": "float"
        },
        {
         "name": "sales",
         "rawType": "float64",
         "type": "float"
        },
        {
         "name": "total_adv",
         "rawType": "float64",
         "type": "float"
        }
       ],
       "ref": "e5af7e3c-2d1a-4d1c-b0c2-ff9328ade50c",
       "rows": [
        [
         "93",
         "250.9",
         "36.5",
         "72.3",
         "22.2",
         "359.7"
        ],
        [
         "101",
         "296.4",
         "36.3",
         "100.9",
         "23.8",
         "433.6"
        ],
        [
         "183",
         "287.6",
         "43.0",
         "71.8",
         "26.2",
         "402.40000000000003"
        ],
        [
         "198",
         "283.6",
         "42.0",
         "66.2",
         "25.5",
         "391.8"
        ]
       ],
       "shape": {
        "columns": 5,
        "rows": 4
       }
      },
      "text/html": [
       "<div>\n",
       "<style scoped>\n",
       "    .dataframe tbody tr th:only-of-type {\n",
       "        vertical-align: middle;\n",
       "    }\n",
       "\n",
       "    .dataframe tbody tr th {\n",
       "        vertical-align: top;\n",
       "    }\n",
       "\n",
       "    .dataframe thead th {\n",
       "        text-align: right;\n",
       "    }\n",
       "</style>\n",
       "<table border=\"1\" class=\"dataframe\">\n",
       "  <thead>\n",
       "    <tr style=\"text-align: right;\">\n",
       "      <th></th>\n",
       "      <th>TV</th>\n",
       "      <th>radio</th>\n",
       "      <th>newspaper</th>\n",
       "      <th>sales</th>\n",
       "      <th>total_adv</th>\n",
       "    </tr>\n",
       "  </thead>\n",
       "  <tbody>\n",
       "    <tr>\n",
       "      <th>93</th>\n",
       "      <td>250.9</td>\n",
       "      <td>36.5</td>\n",
       "      <td>72.3</td>\n",
       "      <td>22.2</td>\n",
       "      <td>359.7</td>\n",
       "    </tr>\n",
       "    <tr>\n",
       "      <th>101</th>\n",
       "      <td>296.4</td>\n",
       "      <td>36.3</td>\n",
       "      <td>100.9</td>\n",
       "      <td>23.8</td>\n",
       "      <td>433.6</td>\n",
       "    </tr>\n",
       "    <tr>\n",
       "      <th>183</th>\n",
       "      <td>287.6</td>\n",
       "      <td>43.0</td>\n",
       "      <td>71.8</td>\n",
       "      <td>26.2</td>\n",
       "      <td>402.4</td>\n",
       "    </tr>\n",
       "    <tr>\n",
       "      <th>198</th>\n",
       "      <td>283.6</td>\n",
       "      <td>42.0</td>\n",
       "      <td>66.2</td>\n",
       "      <td>25.5</td>\n",
       "      <td>391.8</td>\n",
       "    </tr>\n",
       "  </tbody>\n",
       "</table>\n",
       "</div>"
      ],
      "text/plain": [
       "        TV  radio  newspaper  sales  total_adv\n",
       "93   250.9   36.5       72.3   22.2      359.7\n",
       "101  296.4   36.3      100.9   23.8      433.6\n",
       "183  287.6   43.0       71.8   26.2      402.4\n",
       "198  283.6   42.0       66.2   25.5      391.8"
      ]
     },
     "execution_count": 46,
     "metadata": {},
     "output_type": "execute_result"
    }
   ],
   "source": [
    "df_adv[(df_adv[\"TV\"] > 250) & (df_adv[\"newspaper\"] > 60)] # TV kolonundaki degerlerin 250'den buyuk ve newspaper kolonundaki degerlerin 60'tan buyuk oldugu satirlari getirir"
   ]
  },
  {
   "cell_type": "code",
   "execution_count": 47,
   "id": "bf73c9ad",
   "metadata": {},
   "outputs": [
    {
     "data": {
      "application/vnd.microsoft.datawrangler.viewer.v0+json": {
       "columns": [
        {
         "name": "index",
         "rawType": "int64",
         "type": "integer"
        },
        {
         "name": "TV",
         "rawType": "float64",
         "type": "float"
        },
        {
         "name": "radio",
         "rawType": "float64",
         "type": "float"
        },
        {
         "name": "newspaper",
         "rawType": "float64",
         "type": "float"
        },
        {
         "name": "sales",
         "rawType": "float64",
         "type": "float"
        },
        {
         "name": "total_adv",
         "rawType": "float64",
         "type": "float"
        }
       ],
       "ref": "b6d4fcac-06cb-4a05-a583-d31e9d41704c",
       "rows": [
        [
         "5",
         "8.7",
         "48.9",
         "75.0",
         "7.2",
         "132.6"
        ],
        [
         "16",
         "67.8",
         "36.6",
         "114.0",
         "12.5",
         "218.4"
        ],
        [
         "75",
         "16.9",
         "43.7",
         "89.4",
         "8.7",
         "150.0"
        ],
        [
         "88",
         "88.3",
         "25.5",
         "73.4",
         "12.9",
         "187.2"
        ],
        [
         "93",
         "250.9",
         "36.5",
         "72.3",
         "22.2",
         "359.7"
        ],
        [
         "101",
         "296.4",
         "36.3",
         "100.9",
         "23.8",
         "433.6"
        ],
        [
         "118",
         "125.7",
         "36.9",
         "79.2",
         "15.9",
         "241.8"
        ],
        [
         "124",
         "229.5",
         "32.3",
         "74.2",
         "19.7",
         "336.0"
        ],
        [
         "141",
         "193.7",
         "35.4",
         "75.6",
         "19.2",
         "304.7"
        ],
        [
         "165",
         "234.5",
         "3.4",
         "84.8",
         "11.9",
         "322.7"
        ],
        [
         "183",
         "287.6",
         "43.0",
         "71.8",
         "26.2",
         "402.40000000000003"
        ]
       ],
       "shape": {
        "columns": 5,
        "rows": 11
       }
      },
      "text/html": [
       "<div>\n",
       "<style scoped>\n",
       "    .dataframe tbody tr th:only-of-type {\n",
       "        vertical-align: middle;\n",
       "    }\n",
       "\n",
       "    .dataframe tbody tr th {\n",
       "        vertical-align: top;\n",
       "    }\n",
       "\n",
       "    .dataframe thead th {\n",
       "        text-align: right;\n",
       "    }\n",
       "</style>\n",
       "<table border=\"1\" class=\"dataframe\">\n",
       "  <thead>\n",
       "    <tr style=\"text-align: right;\">\n",
       "      <th></th>\n",
       "      <th>TV</th>\n",
       "      <th>radio</th>\n",
       "      <th>newspaper</th>\n",
       "      <th>sales</th>\n",
       "      <th>total_adv</th>\n",
       "    </tr>\n",
       "  </thead>\n",
       "  <tbody>\n",
       "    <tr>\n",
       "      <th>5</th>\n",
       "      <td>8.7</td>\n",
       "      <td>48.9</td>\n",
       "      <td>75.0</td>\n",
       "      <td>7.2</td>\n",
       "      <td>132.6</td>\n",
       "    </tr>\n",
       "    <tr>\n",
       "      <th>16</th>\n",
       "      <td>67.8</td>\n",
       "      <td>36.6</td>\n",
       "      <td>114.0</td>\n",
       "      <td>12.5</td>\n",
       "      <td>218.4</td>\n",
       "    </tr>\n",
       "    <tr>\n",
       "      <th>75</th>\n",
       "      <td>16.9</td>\n",
       "      <td>43.7</td>\n",
       "      <td>89.4</td>\n",
       "      <td>8.7</td>\n",
       "      <td>150.0</td>\n",
       "    </tr>\n",
       "    <tr>\n",
       "      <th>88</th>\n",
       "      <td>88.3</td>\n",
       "      <td>25.5</td>\n",
       "      <td>73.4</td>\n",
       "      <td>12.9</td>\n",
       "      <td>187.2</td>\n",
       "    </tr>\n",
       "    <tr>\n",
       "      <th>93</th>\n",
       "      <td>250.9</td>\n",
       "      <td>36.5</td>\n",
       "      <td>72.3</td>\n",
       "      <td>22.2</td>\n",
       "      <td>359.7</td>\n",
       "    </tr>\n",
       "    <tr>\n",
       "      <th>101</th>\n",
       "      <td>296.4</td>\n",
       "      <td>36.3</td>\n",
       "      <td>100.9</td>\n",
       "      <td>23.8</td>\n",
       "      <td>433.6</td>\n",
       "    </tr>\n",
       "    <tr>\n",
       "      <th>118</th>\n",
       "      <td>125.7</td>\n",
       "      <td>36.9</td>\n",
       "      <td>79.2</td>\n",
       "      <td>15.9</td>\n",
       "      <td>241.8</td>\n",
       "    </tr>\n",
       "    <tr>\n",
       "      <th>124</th>\n",
       "      <td>229.5</td>\n",
       "      <td>32.3</td>\n",
       "      <td>74.2</td>\n",
       "      <td>19.7</td>\n",
       "      <td>336.0</td>\n",
       "    </tr>\n",
       "    <tr>\n",
       "      <th>141</th>\n",
       "      <td>193.7</td>\n",
       "      <td>35.4</td>\n",
       "      <td>75.6</td>\n",
       "      <td>19.2</td>\n",
       "      <td>304.7</td>\n",
       "    </tr>\n",
       "    <tr>\n",
       "      <th>165</th>\n",
       "      <td>234.5</td>\n",
       "      <td>3.4</td>\n",
       "      <td>84.8</td>\n",
       "      <td>11.9</td>\n",
       "      <td>322.7</td>\n",
       "    </tr>\n",
       "    <tr>\n",
       "      <th>183</th>\n",
       "      <td>287.6</td>\n",
       "      <td>43.0</td>\n",
       "      <td>71.8</td>\n",
       "      <td>26.2</td>\n",
       "      <td>402.4</td>\n",
       "    </tr>\n",
       "  </tbody>\n",
       "</table>\n",
       "</div>"
      ],
      "text/plain": [
       "        TV  radio  newspaper  sales  total_adv\n",
       "5      8.7   48.9       75.0    7.2      132.6\n",
       "16    67.8   36.6      114.0   12.5      218.4\n",
       "75    16.9   43.7       89.4    8.7      150.0\n",
       "88    88.3   25.5       73.4   12.9      187.2\n",
       "93   250.9   36.5       72.3   22.2      359.7\n",
       "101  296.4   36.3      100.9   23.8      433.6\n",
       "118  125.7   36.9       79.2   15.9      241.8\n",
       "124  229.5   32.3       74.2   19.7      336.0\n",
       "141  193.7   35.4       75.6   19.2      304.7\n",
       "165  234.5    3.4       84.8   11.9      322.7\n",
       "183  287.6   43.0       71.8   26.2      402.4"
      ]
     },
     "execution_count": 47,
     "metadata": {},
     "output_type": "execute_result"
    }
   ],
   "source": [
    "df_adv[(df_adv[\"newspaper\"] > 70) | (df_adv[\"radio\"] > 50)]"
   ]
  },
  {
   "cell_type": "code",
   "execution_count": 51,
   "id": "717cccac",
   "metadata": {},
   "outputs": [
    {
     "data": {
      "application/vnd.microsoft.datawrangler.viewer.v0+json": {
       "columns": [
        {
         "name": "index",
         "rawType": "int64",
         "type": "integer"
        },
        {
         "name": "sales",
         "rawType": "float64",
         "type": "float"
        }
       ],
       "ref": "48d1a982-f042-4413-aad6-d4f2bc1e3aeb",
       "rows": [
        [
         "10",
         "8.6"
        ],
        [
         "11",
         "17.4"
        ],
        [
         "12",
         "9.2"
        ],
        [
         "13",
         "9.7"
        ],
        [
         "14",
         "19.0"
        ],
        [
         "15",
         "22.4"
        ]
       ],
       "shape": {
        "columns": 1,
        "rows": 6
       }
      },
      "text/plain": [
       "10     8.6\n",
       "11    17.4\n",
       "12     9.2\n",
       "13     9.7\n",
       "14    19.0\n",
       "15    22.4\n",
       "Name: sales, dtype: float64"
      ]
     },
     "execution_count": 51,
     "metadata": {},
     "output_type": "execute_result"
    }
   ],
   "source": [
    "df_adv[\"sales\"][10: 16]"
   ]
  },
  {
   "cell_type": "code",
   "execution_count": 54,
   "id": "aa58718f",
   "metadata": {},
   "outputs": [
    {
     "data": {
      "application/vnd.microsoft.datawrangler.viewer.v0+json": {
       "columns": [
        {
         "name": "index",
         "rawType": "int64",
         "type": "integer"
        },
        {
         "name": "TV",
         "rawType": "float64",
         "type": "float"
        },
        {
         "name": "radio",
         "rawType": "float64",
         "type": "float"
        },
        {
         "name": "newspaper",
         "rawType": "float64",
         "type": "float"
        },
        {
         "name": "sales",
         "rawType": "float64",
         "type": "float"
        },
        {
         "name": "total_adv",
         "rawType": "float64",
         "type": "float"
        }
       ],
       "ref": "1508e8b8-bd5f-4abf-be47-6c57234a561f",
       "rows": [
        [
         "63",
         "102.7",
         "29.6",
         "8.4",
         "14.0",
         "140.70000000000002"
        ],
        [
         "70",
         "199.1",
         "30.6",
         "38.7",
         "18.3",
         "268.4"
        ],
        [
         "76",
         "27.5",
         "1.6",
         "20.7",
         "6.9",
         "49.8"
        ],
        [
         "83",
         "68.4",
         "44.5",
         "35.6",
         "13.6",
         "148.5"
        ],
        [
         "84",
         "213.5",
         "43.0",
         "33.8",
         "21.7",
         "290.3"
        ],
        [
         "198",
         "283.6",
         "42.0",
         "66.2",
         "25.5",
         "391.8"
        ]
       ],
       "shape": {
        "columns": 5,
        "rows": 6
       }
      },
      "text/html": [
       "<div>\n",
       "<style scoped>\n",
       "    .dataframe tbody tr th:only-of-type {\n",
       "        vertical-align: middle;\n",
       "    }\n",
       "\n",
       "    .dataframe tbody tr th {\n",
       "        vertical-align: top;\n",
       "    }\n",
       "\n",
       "    .dataframe thead th {\n",
       "        text-align: right;\n",
       "    }\n",
       "</style>\n",
       "<table border=\"1\" class=\"dataframe\">\n",
       "  <thead>\n",
       "    <tr style=\"text-align: right;\">\n",
       "      <th></th>\n",
       "      <th>TV</th>\n",
       "      <th>radio</th>\n",
       "      <th>newspaper</th>\n",
       "      <th>sales</th>\n",
       "      <th>total_adv</th>\n",
       "    </tr>\n",
       "  </thead>\n",
       "  <tbody>\n",
       "    <tr>\n",
       "      <th>63</th>\n",
       "      <td>102.7</td>\n",
       "      <td>29.6</td>\n",
       "      <td>8.4</td>\n",
       "      <td>14.0</td>\n",
       "      <td>140.7</td>\n",
       "    </tr>\n",
       "    <tr>\n",
       "      <th>70</th>\n",
       "      <td>199.1</td>\n",
       "      <td>30.6</td>\n",
       "      <td>38.7</td>\n",
       "      <td>18.3</td>\n",
       "      <td>268.4</td>\n",
       "    </tr>\n",
       "    <tr>\n",
       "      <th>76</th>\n",
       "      <td>27.5</td>\n",
       "      <td>1.6</td>\n",
       "      <td>20.7</td>\n",
       "      <td>6.9</td>\n",
       "      <td>49.8</td>\n",
       "    </tr>\n",
       "    <tr>\n",
       "      <th>83</th>\n",
       "      <td>68.4</td>\n",
       "      <td>44.5</td>\n",
       "      <td>35.6</td>\n",
       "      <td>13.6</td>\n",
       "      <td>148.5</td>\n",
       "    </tr>\n",
       "    <tr>\n",
       "      <th>84</th>\n",
       "      <td>213.5</td>\n",
       "      <td>43.0</td>\n",
       "      <td>33.8</td>\n",
       "      <td>21.7</td>\n",
       "      <td>290.3</td>\n",
       "    </tr>\n",
       "    <tr>\n",
       "      <th>198</th>\n",
       "      <td>283.6</td>\n",
       "      <td>42.0</td>\n",
       "      <td>66.2</td>\n",
       "      <td>25.5</td>\n",
       "      <td>391.8</td>\n",
       "    </tr>\n",
       "  </tbody>\n",
       "</table>\n",
       "</div>"
      ],
      "text/plain": [
       "        TV  radio  newspaper  sales  total_adv\n",
       "63   102.7   29.6        8.4   14.0      140.7\n",
       "70   199.1   30.6       38.7   18.3      268.4\n",
       "76    27.5    1.6       20.7    6.9       49.8\n",
       "83    68.4   44.5       35.6   13.6      148.5\n",
       "84   213.5   43.0       33.8   21.7      290.3\n",
       "198  283.6   42.0       66.2   25.5      391.8"
      ]
     },
     "execution_count": 54,
     "metadata": {},
     "output_type": "execute_result"
    }
   ],
   "source": [
    "df_adv[df_adv[\"sales\"].isin([18.3, 14.0, 25.5, 21.7, 13.6, 6.9])]"
   ]
  },
  {
   "cell_type": "markdown",
   "id": "5e158a1e",
   "metadata": {},
   "source": [
    "16) GitHubda bulunan \"tips.csv\" restoran datasını \"df_tips\" adıyla okuyun. Ardından ilk 5 satırına bakın.\n",
    "\n",
    "17) df_tips'in \"CC Number\" ve \"Payment ID\" column'larını kalıcı olarak düşürün.\n",
    "\n",
    "18) df_tips'in \"Payer Name\" column'unu kalıcı olarak index yapın ve artık columndan düşürün.\n",
    "\n",
    "19) df_tips içindeki kayıtlardan kişi sayısı 4 veya 4'den fazla olan siparişlerin kaç tane olduğunu bulun.(Sorguyu yazıp istediğimiz satırları getirdikten sonra basitçe len() fonksiyonunu kullanarak sayılarını bulabilirsiniz. Veya daha güzeli .shape[0] yaparak elde ettiğiniz sorguda kaç satır olduğunun sayısına ulaşabilirsiniz.)\n",
    "\n",
    "20) df_tips içindeki Kişi sayısı 2 ya da 3 olan, sigara içen, erkek olan ve ödediği ücret 20 dolardan az olan kişi sayısını bulalım."
   ]
  },
  {
   "cell_type": "code",
   "execution_count": 56,
   "id": "97e50609",
   "metadata": {},
   "outputs": [
    {
     "data": {
      "application/vnd.microsoft.datawrangler.viewer.v0+json": {
       "columns": [
        {
         "name": "index",
         "rawType": "int64",
         "type": "integer"
        },
        {
         "name": "total_bill",
         "rawType": "float64",
         "type": "float"
        },
        {
         "name": "tip",
         "rawType": "float64",
         "type": "float"
        },
        {
         "name": "sex",
         "rawType": "object",
         "type": "string"
        },
        {
         "name": "smoker",
         "rawType": "object",
         "type": "string"
        },
        {
         "name": "day",
         "rawType": "object",
         "type": "string"
        },
        {
         "name": "time",
         "rawType": "object",
         "type": "string"
        },
        {
         "name": "size",
         "rawType": "int64",
         "type": "integer"
        },
        {
         "name": "price_per_person",
         "rawType": "float64",
         "type": "float"
        },
        {
         "name": "Payer Name",
         "rawType": "object",
         "type": "string"
        },
        {
         "name": "CC Number",
         "rawType": "int64",
         "type": "integer"
        },
        {
         "name": "Payment ID",
         "rawType": "object",
         "type": "string"
        }
       ],
       "ref": "33a0e04e-a67b-48af-b38d-8f88d7963f06",
       "rows": [
        [
         "0",
         "16.99",
         "1.01",
         "Female",
         "No",
         "Sun",
         "Dinner",
         "2",
         "8.49",
         "Christy Cunningham",
         "3560325168603410",
         "Sun2959"
        ],
        [
         "1",
         "10.34",
         "1.66",
         "Male",
         "No",
         "Sun",
         "Dinner",
         "3",
         "3.45",
         "Douglas Tucker",
         "4478071379779230",
         "Sun4608"
        ],
        [
         "2",
         "21.01",
         "3.5",
         "Male",
         "No",
         "Sun",
         "Dinner",
         "3",
         "7.0",
         "Travis Walters",
         "6011812112971322",
         "Sun4458"
        ],
        [
         "3",
         "23.68",
         "3.31",
         "Male",
         "No",
         "Sun",
         "Dinner",
         "2",
         "11.84",
         "Nathaniel Harris",
         "4676137647685994",
         "Sun5260"
        ],
        [
         "4",
         "24.59",
         "3.61",
         "Female",
         "No",
         "Sun",
         "Dinner",
         "4",
         "6.15",
         "Tonya Carter",
         "4832732618637221",
         "Sun2251"
        ],
        [
         "5",
         "25.29",
         "4.71",
         "Male",
         "No",
         "Sun",
         "Dinner",
         "4",
         "6.32",
         "Erik Smith",
         "213140353657882",
         "Sun9679"
        ],
        [
         "6",
         "8.77",
         "2.0",
         "Male",
         "No",
         "Sun",
         "Dinner",
         "2",
         "4.38",
         "Kristopher Johnson",
         "2223727524230344",
         "Sun5985"
        ],
        [
         "7",
         "26.88",
         "3.12",
         "Male",
         "No",
         "Sun",
         "Dinner",
         "4",
         "6.72",
         "Robert Buck",
         "3514785077705092",
         "Sun8157"
        ],
        [
         "8",
         "15.04",
         "1.96",
         "Male",
         "No",
         "Sun",
         "Dinner",
         "2",
         "7.52",
         "Joseph Mcdonald",
         "3522866365840377",
         "Sun6820"
        ],
        [
         "9",
         "14.78",
         "3.23",
         "Male",
         "No",
         "Sun",
         "Dinner",
         "2",
         "7.39",
         "Jerome Abbott",
         "3532124519049786",
         "Sun3775"
        ],
        [
         "10",
         "10.27",
         "1.71",
         "Male",
         "No",
         "Sun",
         "Dinner",
         "2",
         "5.14",
         "William Riley",
         "566287581219",
         "Sun2546"
        ],
        [
         "11",
         "35.26",
         "5.0",
         "Female",
         "No",
         "Sun",
         "Dinner",
         "4",
         "8.82",
         "Diane Macias",
         "4577817359320969",
         "Sun6686"
        ],
        [
         "12",
         "15.42",
         "1.57",
         "Male",
         "No",
         "Sun",
         "Dinner",
         "2",
         "7.71",
         "Chad Harrington",
         "577040572932",
         "Sun1300"
        ],
        [
         "13",
         "18.43",
         "3.0",
         "Male",
         "No",
         "Sun",
         "Dinner",
         "4",
         "4.61",
         "Joshua Jones",
         "6011163105616890",
         "Sun2971"
        ],
        [
         "14",
         "14.83",
         "3.02",
         "Female",
         "No",
         "Sun",
         "Dinner",
         "2",
         "7.42",
         "Vanessa Jones",
         "30016702287574",
         "Sun3848"
        ],
        [
         "15",
         "21.58",
         "3.92",
         "Male",
         "No",
         "Sun",
         "Dinner",
         "2",
         "10.79",
         "Matthew Reilly",
         "180073029785069",
         "Sun1878"
        ],
        [
         "16",
         "10.33",
         "1.67",
         "Female",
         "No",
         "Sun",
         "Dinner",
         "3",
         "3.44",
         "Elizabeth Foster",
         "4240025044626033",
         "Sun9715"
        ],
        [
         "17",
         "16.29",
         "3.71",
         "Male",
         "No",
         "Sun",
         "Dinner",
         "3",
         "5.43",
         "John Pittman",
         "6521340257218708",
         "Sun2998"
        ],
        [
         "18",
         "16.97",
         "3.5",
         "Female",
         "No",
         "Sun",
         "Dinner",
         "3",
         "5.66",
         "Laura Martinez",
         "30422275171379",
         "Sun2789"
        ],
        [
         "19",
         "20.65",
         "3.35",
         "Male",
         "No",
         "Sat",
         "Dinner",
         "3",
         "6.88",
         "Timothy Oneal",
         "6568069240986485",
         "Sat9213"
        ],
        [
         "20",
         "17.92",
         "4.08",
         "Male",
         "No",
         "Sat",
         "Dinner",
         "2",
         "8.96",
         "Thomas Rice",
         "4403296224639756",
         "Sat1709"
        ],
        [
         "21",
         "20.29",
         "2.75",
         "Female",
         "No",
         "Sat",
         "Dinner",
         "2",
         "10.14",
         "Natalie Gardner",
         "5448125351489749",
         "Sat9618"
        ],
        [
         "22",
         "15.77",
         "2.23",
         "Female",
         "No",
         "Sat",
         "Dinner",
         "2",
         "7.88",
         "Ashley Shelton",
         "3524119516293213",
         "Sat9786"
        ],
        [
         "23",
         "39.42",
         "7.58",
         "Male",
         "No",
         "Sat",
         "Dinner",
         "4",
         "9.86",
         "Lance Peterson",
         "3542584061609808",
         "Sat239"
        ],
        [
         "24",
         "19.82",
         "3.18",
         "Male",
         "No",
         "Sat",
         "Dinner",
         "2",
         "9.91",
         "Christopher Ross",
         "36739148167928",
         "Sat6236"
        ],
        [
         "25",
         "17.81",
         "2.34",
         "Male",
         "No",
         "Sat",
         "Dinner",
         "4",
         "4.45",
         "Robert Perkins",
         "30502930499388",
         "Sat907"
        ],
        [
         "26",
         "13.37",
         "2.0",
         "Male",
         "No",
         "Sat",
         "Dinner",
         "2",
         "6.68",
         "Kyle Avery",
         "6531339539615499",
         "Sat6651"
        ],
        [
         "27",
         "12.69",
         "2.0",
         "Male",
         "No",
         "Sat",
         "Dinner",
         "2",
         "6.34",
         "Patrick Barber",
         "30155551880343",
         "Sat394"
        ],
        [
         "28",
         "21.7",
         "4.3",
         "Male",
         "No",
         "Sat",
         "Dinner",
         "2",
         "10.85",
         "David Collier",
         "5529694315416009",
         "Sat3697"
        ],
        [
         "29",
         "19.65",
         "3.0",
         "Female",
         "No",
         "Sat",
         "Dinner",
         "2",
         "9.82",
         "Melinda Murphy",
         "5489272944576051",
         "Sat2467"
        ],
        [
         "30",
         "9.55",
         "1.45",
         "Male",
         "No",
         "Sat",
         "Dinner",
         "2",
         "4.78",
         "Grant Hall",
         "30196517521548",
         "Sat4099"
        ],
        [
         "31",
         "18.35",
         "2.5",
         "Male",
         "No",
         "Sat",
         "Dinner",
         "4",
         "4.59",
         "Danny Santiago",
         "630415546013",
         "Sat4947"
        ],
        [
         "32",
         "15.06",
         "3.0",
         "Female",
         "No",
         "Sat",
         "Dinner",
         "2",
         "7.53",
         "Amanda Wilson",
         "213186304291560",
         "Sat1327"
        ],
        [
         "33",
         "20.69",
         "2.45",
         "Female",
         "No",
         "Sat",
         "Dinner",
         "4",
         "5.17",
         "Amber Francis",
         "377742985258914",
         "Sat6649"
        ],
        [
         "34",
         "17.78",
         "3.27",
         "Male",
         "No",
         "Sat",
         "Dinner",
         "2",
         "8.89",
         "Jacob Castillo",
         "3551492000704805",
         "Sat8124"
        ],
        [
         "35",
         "24.06",
         "3.6",
         "Male",
         "No",
         "Sat",
         "Dinner",
         "3",
         "8.02",
         "Joseph Mullins",
         "5519770449260299",
         "Sat632"
        ],
        [
         "36",
         "16.31",
         "2.0",
         "Male",
         "No",
         "Sat",
         "Dinner",
         "3",
         "5.44",
         "William Ford",
         "3527691170179398",
         "Sat9139"
        ],
        [
         "37",
         "16.93",
         "3.07",
         "Female",
         "No",
         "Sat",
         "Dinner",
         "3",
         "5.64",
         "Erin Lewis",
         "5161695527390786",
         "Sat6406"
        ],
        [
         "38",
         "18.69",
         "2.31",
         "Male",
         "No",
         "Sat",
         "Dinner",
         "3",
         "6.23",
         "Brandon Bradley",
         "4427601595688633",
         "Sat4056"
        ],
        [
         "39",
         "31.27",
         "5.0",
         "Male",
         "No",
         "Sat",
         "Dinner",
         "3",
         "10.42",
         "Mr. Brandon Berry",
         "6011525851069856",
         "Sat6373"
        ],
        [
         "40",
         "16.04",
         "2.24",
         "Male",
         "No",
         "Sat",
         "Dinner",
         "3",
         "5.35",
         "Adam Edwards",
         "3544447755679420",
         "Sat8549"
        ],
        [
         "41",
         "17.46",
         "2.54",
         "Male",
         "No",
         "Sun",
         "Dinner",
         "2",
         "8.73",
         "David Boyer",
         "3536678244278149",
         "Sun9460"
        ],
        [
         "42",
         "13.94",
         "3.06",
         "Male",
         "No",
         "Sun",
         "Dinner",
         "2",
         "6.97",
         "Bryan Brown",
         "36231182760859",
         "Sun1699"
        ],
        [
         "43",
         "9.68",
         "1.32",
         "Male",
         "No",
         "Sun",
         "Dinner",
         "2",
         "4.84",
         "Christopher Spears",
         "4387671121369212",
         "Sun3279"
        ],
        [
         "44",
         "30.4",
         "5.6",
         "Male",
         "No",
         "Sun",
         "Dinner",
         "4",
         "7.6",
         "Todd Cooper",
         "503846761263",
         "Sun2274"
        ],
        [
         "45",
         "18.29",
         "3.0",
         "Male",
         "No",
         "Sun",
         "Dinner",
         "2",
         "9.14",
         "Richard Fitzgerald",
         "375156610762053",
         "Sun8643"
        ],
        [
         "46",
         "22.23",
         "5.0",
         "Male",
         "No",
         "Sun",
         "Dinner",
         "2",
         "11.12",
         "Joshua Gilmore",
         "4292072734899",
         "Sun7097"
        ],
        [
         "47",
         "32.4",
         "6.0",
         "Male",
         "No",
         "Sun",
         "Dinner",
         "4",
         "8.1",
         "James Barnes",
         "3552002592874186",
         "Sun9677"
        ],
        [
         "48",
         "28.55",
         "2.05",
         "Male",
         "No",
         "Sun",
         "Dinner",
         "3",
         "9.52",
         "Austin Fisher",
         "6011481668986587",
         "Sun4142"
        ],
        [
         "49",
         "18.04",
         "3.0",
         "Male",
         "No",
         "Sun",
         "Dinner",
         "2",
         "9.02",
         "William Roth",
         "6573923967142503",
         "Sun9774"
        ]
       ],
       "shape": {
        "columns": 11,
        "rows": 244
       }
      },
      "text/html": [
       "<div>\n",
       "<style scoped>\n",
       "    .dataframe tbody tr th:only-of-type {\n",
       "        vertical-align: middle;\n",
       "    }\n",
       "\n",
       "    .dataframe tbody tr th {\n",
       "        vertical-align: top;\n",
       "    }\n",
       "\n",
       "    .dataframe thead th {\n",
       "        text-align: right;\n",
       "    }\n",
       "</style>\n",
       "<table border=\"1\" class=\"dataframe\">\n",
       "  <thead>\n",
       "    <tr style=\"text-align: right;\">\n",
       "      <th></th>\n",
       "      <th>total_bill</th>\n",
       "      <th>tip</th>\n",
       "      <th>sex</th>\n",
       "      <th>smoker</th>\n",
       "      <th>day</th>\n",
       "      <th>time</th>\n",
       "      <th>size</th>\n",
       "      <th>price_per_person</th>\n",
       "      <th>Payer Name</th>\n",
       "      <th>CC Number</th>\n",
       "      <th>Payment ID</th>\n",
       "    </tr>\n",
       "  </thead>\n",
       "  <tbody>\n",
       "    <tr>\n",
       "      <th>0</th>\n",
       "      <td>16.99</td>\n",
       "      <td>1.01</td>\n",
       "      <td>Female</td>\n",
       "      <td>No</td>\n",
       "      <td>Sun</td>\n",
       "      <td>Dinner</td>\n",
       "      <td>2</td>\n",
       "      <td>8.49</td>\n",
       "      <td>Christy Cunningham</td>\n",
       "      <td>3560325168603410</td>\n",
       "      <td>Sun2959</td>\n",
       "    </tr>\n",
       "    <tr>\n",
       "      <th>1</th>\n",
       "      <td>10.34</td>\n",
       "      <td>1.66</td>\n",
       "      <td>Male</td>\n",
       "      <td>No</td>\n",
       "      <td>Sun</td>\n",
       "      <td>Dinner</td>\n",
       "      <td>3</td>\n",
       "      <td>3.45</td>\n",
       "      <td>Douglas Tucker</td>\n",
       "      <td>4478071379779230</td>\n",
       "      <td>Sun4608</td>\n",
       "    </tr>\n",
       "    <tr>\n",
       "      <th>2</th>\n",
       "      <td>21.01</td>\n",
       "      <td>3.50</td>\n",
       "      <td>Male</td>\n",
       "      <td>No</td>\n",
       "      <td>Sun</td>\n",
       "      <td>Dinner</td>\n",
       "      <td>3</td>\n",
       "      <td>7.00</td>\n",
       "      <td>Travis Walters</td>\n",
       "      <td>6011812112971322</td>\n",
       "      <td>Sun4458</td>\n",
       "    </tr>\n",
       "    <tr>\n",
       "      <th>3</th>\n",
       "      <td>23.68</td>\n",
       "      <td>3.31</td>\n",
       "      <td>Male</td>\n",
       "      <td>No</td>\n",
       "      <td>Sun</td>\n",
       "      <td>Dinner</td>\n",
       "      <td>2</td>\n",
       "      <td>11.84</td>\n",
       "      <td>Nathaniel Harris</td>\n",
       "      <td>4676137647685994</td>\n",
       "      <td>Sun5260</td>\n",
       "    </tr>\n",
       "    <tr>\n",
       "      <th>4</th>\n",
       "      <td>24.59</td>\n",
       "      <td>3.61</td>\n",
       "      <td>Female</td>\n",
       "      <td>No</td>\n",
       "      <td>Sun</td>\n",
       "      <td>Dinner</td>\n",
       "      <td>4</td>\n",
       "      <td>6.15</td>\n",
       "      <td>Tonya Carter</td>\n",
       "      <td>4832732618637221</td>\n",
       "      <td>Sun2251</td>\n",
       "    </tr>\n",
       "    <tr>\n",
       "      <th>...</th>\n",
       "      <td>...</td>\n",
       "      <td>...</td>\n",
       "      <td>...</td>\n",
       "      <td>...</td>\n",
       "      <td>...</td>\n",
       "      <td>...</td>\n",
       "      <td>...</td>\n",
       "      <td>...</td>\n",
       "      <td>...</td>\n",
       "      <td>...</td>\n",
       "      <td>...</td>\n",
       "    </tr>\n",
       "    <tr>\n",
       "      <th>239</th>\n",
       "      <td>29.03</td>\n",
       "      <td>5.92</td>\n",
       "      <td>Male</td>\n",
       "      <td>No</td>\n",
       "      <td>Sat</td>\n",
       "      <td>Dinner</td>\n",
       "      <td>3</td>\n",
       "      <td>9.68</td>\n",
       "      <td>Michael Avila</td>\n",
       "      <td>5296068606052842</td>\n",
       "      <td>Sat2657</td>\n",
       "    </tr>\n",
       "    <tr>\n",
       "      <th>240</th>\n",
       "      <td>27.18</td>\n",
       "      <td>2.00</td>\n",
       "      <td>Female</td>\n",
       "      <td>Yes</td>\n",
       "      <td>Sat</td>\n",
       "      <td>Dinner</td>\n",
       "      <td>2</td>\n",
       "      <td>13.59</td>\n",
       "      <td>Monica Sanders</td>\n",
       "      <td>3506806155565404</td>\n",
       "      <td>Sat1766</td>\n",
       "    </tr>\n",
       "    <tr>\n",
       "      <th>241</th>\n",
       "      <td>22.67</td>\n",
       "      <td>2.00</td>\n",
       "      <td>Male</td>\n",
       "      <td>Yes</td>\n",
       "      <td>Sat</td>\n",
       "      <td>Dinner</td>\n",
       "      <td>2</td>\n",
       "      <td>11.34</td>\n",
       "      <td>Keith Wong</td>\n",
       "      <td>6011891618747196</td>\n",
       "      <td>Sat3880</td>\n",
       "    </tr>\n",
       "    <tr>\n",
       "      <th>242</th>\n",
       "      <td>17.82</td>\n",
       "      <td>1.75</td>\n",
       "      <td>Male</td>\n",
       "      <td>No</td>\n",
       "      <td>Sat</td>\n",
       "      <td>Dinner</td>\n",
       "      <td>2</td>\n",
       "      <td>8.91</td>\n",
       "      <td>Dennis Dixon</td>\n",
       "      <td>4375220550950</td>\n",
       "      <td>Sat17</td>\n",
       "    </tr>\n",
       "    <tr>\n",
       "      <th>243</th>\n",
       "      <td>18.78</td>\n",
       "      <td>3.00</td>\n",
       "      <td>Female</td>\n",
       "      <td>No</td>\n",
       "      <td>Thur</td>\n",
       "      <td>Dinner</td>\n",
       "      <td>2</td>\n",
       "      <td>9.39</td>\n",
       "      <td>Michelle Hardin</td>\n",
       "      <td>3511451626698139</td>\n",
       "      <td>Thur672</td>\n",
       "    </tr>\n",
       "  </tbody>\n",
       "</table>\n",
       "<p>244 rows × 11 columns</p>\n",
       "</div>"
      ],
      "text/plain": [
       "     total_bill   tip     sex smoker   day    time  size  price_per_person  \\\n",
       "0         16.99  1.01  Female     No   Sun  Dinner     2              8.49   \n",
       "1         10.34  1.66    Male     No   Sun  Dinner     3              3.45   \n",
       "2         21.01  3.50    Male     No   Sun  Dinner     3              7.00   \n",
       "3         23.68  3.31    Male     No   Sun  Dinner     2             11.84   \n",
       "4         24.59  3.61  Female     No   Sun  Dinner     4              6.15   \n",
       "..          ...   ...     ...    ...   ...     ...   ...               ...   \n",
       "239       29.03  5.92    Male     No   Sat  Dinner     3              9.68   \n",
       "240       27.18  2.00  Female    Yes   Sat  Dinner     2             13.59   \n",
       "241       22.67  2.00    Male    Yes   Sat  Dinner     2             11.34   \n",
       "242       17.82  1.75    Male     No   Sat  Dinner     2              8.91   \n",
       "243       18.78  3.00  Female     No  Thur  Dinner     2              9.39   \n",
       "\n",
       "             Payer Name         CC Number Payment ID  \n",
       "0    Christy Cunningham  3560325168603410    Sun2959  \n",
       "1        Douglas Tucker  4478071379779230    Sun4608  \n",
       "2        Travis Walters  6011812112971322    Sun4458  \n",
       "3      Nathaniel Harris  4676137647685994    Sun5260  \n",
       "4          Tonya Carter  4832732618637221    Sun2251  \n",
       "..                  ...               ...        ...  \n",
       "239       Michael Avila  5296068606052842    Sat2657  \n",
       "240      Monica Sanders  3506806155565404    Sat1766  \n",
       "241          Keith Wong  6011891618747196    Sat3880  \n",
       "242        Dennis Dixon     4375220550950      Sat17  \n",
       "243     Michelle Hardin  3511451626698139    Thur672  \n",
       "\n",
       "[244 rows x 11 columns]"
      ]
     },
     "execution_count": 56,
     "metadata": {},
     "output_type": "execute_result"
    }
   ],
   "source": [
    "df_tips = pd.read_csv(\"tips.csv\")\n",
    "df_tips"
   ]
  },
  {
   "cell_type": "code",
   "execution_count": 57,
   "id": "8a05cfb1",
   "metadata": {},
   "outputs": [],
   "source": [
    "df_tips.drop([\"CC Number\", \"Payment ID\"], axis = 1, inplace = True) # \"CC Number\" ve \"Payment ID\" kolonlarini siler"
   ]
  },
  {
   "cell_type": "code",
   "execution_count": 59,
   "id": "0e4ea6cb",
   "metadata": {},
   "outputs": [
    {
     "data": {
      "application/vnd.microsoft.datawrangler.viewer.v0+json": {
       "columns": [
        {
         "name": "index",
         "rawType": "int64",
         "type": "integer"
        },
        {
         "name": "total_bill",
         "rawType": "float64",
         "type": "float"
        },
        {
         "name": "tip",
         "rawType": "float64",
         "type": "float"
        },
        {
         "name": "sex",
         "rawType": "object",
         "type": "string"
        },
        {
         "name": "smoker",
         "rawType": "object",
         "type": "string"
        },
        {
         "name": "day",
         "rawType": "object",
         "type": "string"
        },
        {
         "name": "time",
         "rawType": "object",
         "type": "string"
        },
        {
         "name": "size",
         "rawType": "int64",
         "type": "integer"
        },
        {
         "name": "price_per_person",
         "rawType": "float64",
         "type": "float"
        },
        {
         "name": "Payer Name",
         "rawType": "object",
         "type": "string"
        }
       ],
       "ref": "6868a49e-ec79-4e2d-a1d3-db52aa4a3b05",
       "rows": [
        [
         "0",
         "16.99",
         "1.01",
         "Female",
         "No",
         "Sun",
         "Dinner",
         "2",
         "8.49",
         "Christy Cunningham"
        ],
        [
         "1",
         "10.34",
         "1.66",
         "Male",
         "No",
         "Sun",
         "Dinner",
         "3",
         "3.45",
         "Douglas Tucker"
        ],
        [
         "2",
         "21.01",
         "3.5",
         "Male",
         "No",
         "Sun",
         "Dinner",
         "3",
         "7.0",
         "Travis Walters"
        ],
        [
         "3",
         "23.68",
         "3.31",
         "Male",
         "No",
         "Sun",
         "Dinner",
         "2",
         "11.84",
         "Nathaniel Harris"
        ],
        [
         "4",
         "24.59",
         "3.61",
         "Female",
         "No",
         "Sun",
         "Dinner",
         "4",
         "6.15",
         "Tonya Carter"
        ],
        [
         "5",
         "25.29",
         "4.71",
         "Male",
         "No",
         "Sun",
         "Dinner",
         "4",
         "6.32",
         "Erik Smith"
        ],
        [
         "6",
         "8.77",
         "2.0",
         "Male",
         "No",
         "Sun",
         "Dinner",
         "2",
         "4.38",
         "Kristopher Johnson"
        ],
        [
         "7",
         "26.88",
         "3.12",
         "Male",
         "No",
         "Sun",
         "Dinner",
         "4",
         "6.72",
         "Robert Buck"
        ],
        [
         "8",
         "15.04",
         "1.96",
         "Male",
         "No",
         "Sun",
         "Dinner",
         "2",
         "7.52",
         "Joseph Mcdonald"
        ],
        [
         "9",
         "14.78",
         "3.23",
         "Male",
         "No",
         "Sun",
         "Dinner",
         "2",
         "7.39",
         "Jerome Abbott"
        ],
        [
         "10",
         "10.27",
         "1.71",
         "Male",
         "No",
         "Sun",
         "Dinner",
         "2",
         "5.14",
         "William Riley"
        ],
        [
         "11",
         "35.26",
         "5.0",
         "Female",
         "No",
         "Sun",
         "Dinner",
         "4",
         "8.82",
         "Diane Macias"
        ],
        [
         "12",
         "15.42",
         "1.57",
         "Male",
         "No",
         "Sun",
         "Dinner",
         "2",
         "7.71",
         "Chad Harrington"
        ],
        [
         "13",
         "18.43",
         "3.0",
         "Male",
         "No",
         "Sun",
         "Dinner",
         "4",
         "4.61",
         "Joshua Jones"
        ],
        [
         "14",
         "14.83",
         "3.02",
         "Female",
         "No",
         "Sun",
         "Dinner",
         "2",
         "7.42",
         "Vanessa Jones"
        ],
        [
         "15",
         "21.58",
         "3.92",
         "Male",
         "No",
         "Sun",
         "Dinner",
         "2",
         "10.79",
         "Matthew Reilly"
        ],
        [
         "16",
         "10.33",
         "1.67",
         "Female",
         "No",
         "Sun",
         "Dinner",
         "3",
         "3.44",
         "Elizabeth Foster"
        ],
        [
         "17",
         "16.29",
         "3.71",
         "Male",
         "No",
         "Sun",
         "Dinner",
         "3",
         "5.43",
         "John Pittman"
        ],
        [
         "18",
         "16.97",
         "3.5",
         "Female",
         "No",
         "Sun",
         "Dinner",
         "3",
         "5.66",
         "Laura Martinez"
        ],
        [
         "19",
         "20.65",
         "3.35",
         "Male",
         "No",
         "Sat",
         "Dinner",
         "3",
         "6.88",
         "Timothy Oneal"
        ],
        [
         "20",
         "17.92",
         "4.08",
         "Male",
         "No",
         "Sat",
         "Dinner",
         "2",
         "8.96",
         "Thomas Rice"
        ],
        [
         "21",
         "20.29",
         "2.75",
         "Female",
         "No",
         "Sat",
         "Dinner",
         "2",
         "10.14",
         "Natalie Gardner"
        ],
        [
         "22",
         "15.77",
         "2.23",
         "Female",
         "No",
         "Sat",
         "Dinner",
         "2",
         "7.88",
         "Ashley Shelton"
        ],
        [
         "23",
         "39.42",
         "7.58",
         "Male",
         "No",
         "Sat",
         "Dinner",
         "4",
         "9.86",
         "Lance Peterson"
        ],
        [
         "24",
         "19.82",
         "3.18",
         "Male",
         "No",
         "Sat",
         "Dinner",
         "2",
         "9.91",
         "Christopher Ross"
        ],
        [
         "25",
         "17.81",
         "2.34",
         "Male",
         "No",
         "Sat",
         "Dinner",
         "4",
         "4.45",
         "Robert Perkins"
        ],
        [
         "26",
         "13.37",
         "2.0",
         "Male",
         "No",
         "Sat",
         "Dinner",
         "2",
         "6.68",
         "Kyle Avery"
        ],
        [
         "27",
         "12.69",
         "2.0",
         "Male",
         "No",
         "Sat",
         "Dinner",
         "2",
         "6.34",
         "Patrick Barber"
        ],
        [
         "28",
         "21.7",
         "4.3",
         "Male",
         "No",
         "Sat",
         "Dinner",
         "2",
         "10.85",
         "David Collier"
        ],
        [
         "29",
         "19.65",
         "3.0",
         "Female",
         "No",
         "Sat",
         "Dinner",
         "2",
         "9.82",
         "Melinda Murphy"
        ],
        [
         "30",
         "9.55",
         "1.45",
         "Male",
         "No",
         "Sat",
         "Dinner",
         "2",
         "4.78",
         "Grant Hall"
        ],
        [
         "31",
         "18.35",
         "2.5",
         "Male",
         "No",
         "Sat",
         "Dinner",
         "4",
         "4.59",
         "Danny Santiago"
        ],
        [
         "32",
         "15.06",
         "3.0",
         "Female",
         "No",
         "Sat",
         "Dinner",
         "2",
         "7.53",
         "Amanda Wilson"
        ],
        [
         "33",
         "20.69",
         "2.45",
         "Female",
         "No",
         "Sat",
         "Dinner",
         "4",
         "5.17",
         "Amber Francis"
        ],
        [
         "34",
         "17.78",
         "3.27",
         "Male",
         "No",
         "Sat",
         "Dinner",
         "2",
         "8.89",
         "Jacob Castillo"
        ],
        [
         "35",
         "24.06",
         "3.6",
         "Male",
         "No",
         "Sat",
         "Dinner",
         "3",
         "8.02",
         "Joseph Mullins"
        ],
        [
         "36",
         "16.31",
         "2.0",
         "Male",
         "No",
         "Sat",
         "Dinner",
         "3",
         "5.44",
         "William Ford"
        ],
        [
         "37",
         "16.93",
         "3.07",
         "Female",
         "No",
         "Sat",
         "Dinner",
         "3",
         "5.64",
         "Erin Lewis"
        ],
        [
         "38",
         "18.69",
         "2.31",
         "Male",
         "No",
         "Sat",
         "Dinner",
         "3",
         "6.23",
         "Brandon Bradley"
        ],
        [
         "39",
         "31.27",
         "5.0",
         "Male",
         "No",
         "Sat",
         "Dinner",
         "3",
         "10.42",
         "Mr. Brandon Berry"
        ],
        [
         "40",
         "16.04",
         "2.24",
         "Male",
         "No",
         "Sat",
         "Dinner",
         "3",
         "5.35",
         "Adam Edwards"
        ],
        [
         "41",
         "17.46",
         "2.54",
         "Male",
         "No",
         "Sun",
         "Dinner",
         "2",
         "8.73",
         "David Boyer"
        ],
        [
         "42",
         "13.94",
         "3.06",
         "Male",
         "No",
         "Sun",
         "Dinner",
         "2",
         "6.97",
         "Bryan Brown"
        ],
        [
         "43",
         "9.68",
         "1.32",
         "Male",
         "No",
         "Sun",
         "Dinner",
         "2",
         "4.84",
         "Christopher Spears"
        ],
        [
         "44",
         "30.4",
         "5.6",
         "Male",
         "No",
         "Sun",
         "Dinner",
         "4",
         "7.6",
         "Todd Cooper"
        ],
        [
         "45",
         "18.29",
         "3.0",
         "Male",
         "No",
         "Sun",
         "Dinner",
         "2",
         "9.14",
         "Richard Fitzgerald"
        ],
        [
         "46",
         "22.23",
         "5.0",
         "Male",
         "No",
         "Sun",
         "Dinner",
         "2",
         "11.12",
         "Joshua Gilmore"
        ],
        [
         "47",
         "32.4",
         "6.0",
         "Male",
         "No",
         "Sun",
         "Dinner",
         "4",
         "8.1",
         "James Barnes"
        ],
        [
         "48",
         "28.55",
         "2.05",
         "Male",
         "No",
         "Sun",
         "Dinner",
         "3",
         "9.52",
         "Austin Fisher"
        ],
        [
         "49",
         "18.04",
         "3.0",
         "Male",
         "No",
         "Sun",
         "Dinner",
         "2",
         "9.02",
         "William Roth"
        ]
       ],
       "shape": {
        "columns": 9,
        "rows": 244
       }
      },
      "text/html": [
       "<div>\n",
       "<style scoped>\n",
       "    .dataframe tbody tr th:only-of-type {\n",
       "        vertical-align: middle;\n",
       "    }\n",
       "\n",
       "    .dataframe tbody tr th {\n",
       "        vertical-align: top;\n",
       "    }\n",
       "\n",
       "    .dataframe thead th {\n",
       "        text-align: right;\n",
       "    }\n",
       "</style>\n",
       "<table border=\"1\" class=\"dataframe\">\n",
       "  <thead>\n",
       "    <tr style=\"text-align: right;\">\n",
       "      <th></th>\n",
       "      <th>total_bill</th>\n",
       "      <th>tip</th>\n",
       "      <th>sex</th>\n",
       "      <th>smoker</th>\n",
       "      <th>day</th>\n",
       "      <th>time</th>\n",
       "      <th>size</th>\n",
       "      <th>price_per_person</th>\n",
       "      <th>Payer Name</th>\n",
       "    </tr>\n",
       "  </thead>\n",
       "  <tbody>\n",
       "    <tr>\n",
       "      <th>0</th>\n",
       "      <td>16.99</td>\n",
       "      <td>1.01</td>\n",
       "      <td>Female</td>\n",
       "      <td>No</td>\n",
       "      <td>Sun</td>\n",
       "      <td>Dinner</td>\n",
       "      <td>2</td>\n",
       "      <td>8.49</td>\n",
       "      <td>Christy Cunningham</td>\n",
       "    </tr>\n",
       "    <tr>\n",
       "      <th>1</th>\n",
       "      <td>10.34</td>\n",
       "      <td>1.66</td>\n",
       "      <td>Male</td>\n",
       "      <td>No</td>\n",
       "      <td>Sun</td>\n",
       "      <td>Dinner</td>\n",
       "      <td>3</td>\n",
       "      <td>3.45</td>\n",
       "      <td>Douglas Tucker</td>\n",
       "    </tr>\n",
       "    <tr>\n",
       "      <th>2</th>\n",
       "      <td>21.01</td>\n",
       "      <td>3.50</td>\n",
       "      <td>Male</td>\n",
       "      <td>No</td>\n",
       "      <td>Sun</td>\n",
       "      <td>Dinner</td>\n",
       "      <td>3</td>\n",
       "      <td>7.00</td>\n",
       "      <td>Travis Walters</td>\n",
       "    </tr>\n",
       "    <tr>\n",
       "      <th>3</th>\n",
       "      <td>23.68</td>\n",
       "      <td>3.31</td>\n",
       "      <td>Male</td>\n",
       "      <td>No</td>\n",
       "      <td>Sun</td>\n",
       "      <td>Dinner</td>\n",
       "      <td>2</td>\n",
       "      <td>11.84</td>\n",
       "      <td>Nathaniel Harris</td>\n",
       "    </tr>\n",
       "    <tr>\n",
       "      <th>4</th>\n",
       "      <td>24.59</td>\n",
       "      <td>3.61</td>\n",
       "      <td>Female</td>\n",
       "      <td>No</td>\n",
       "      <td>Sun</td>\n",
       "      <td>Dinner</td>\n",
       "      <td>4</td>\n",
       "      <td>6.15</td>\n",
       "      <td>Tonya Carter</td>\n",
       "    </tr>\n",
       "    <tr>\n",
       "      <th>...</th>\n",
       "      <td>...</td>\n",
       "      <td>...</td>\n",
       "      <td>...</td>\n",
       "      <td>...</td>\n",
       "      <td>...</td>\n",
       "      <td>...</td>\n",
       "      <td>...</td>\n",
       "      <td>...</td>\n",
       "      <td>...</td>\n",
       "    </tr>\n",
       "    <tr>\n",
       "      <th>239</th>\n",
       "      <td>29.03</td>\n",
       "      <td>5.92</td>\n",
       "      <td>Male</td>\n",
       "      <td>No</td>\n",
       "      <td>Sat</td>\n",
       "      <td>Dinner</td>\n",
       "      <td>3</td>\n",
       "      <td>9.68</td>\n",
       "      <td>Michael Avila</td>\n",
       "    </tr>\n",
       "    <tr>\n",
       "      <th>240</th>\n",
       "      <td>27.18</td>\n",
       "      <td>2.00</td>\n",
       "      <td>Female</td>\n",
       "      <td>Yes</td>\n",
       "      <td>Sat</td>\n",
       "      <td>Dinner</td>\n",
       "      <td>2</td>\n",
       "      <td>13.59</td>\n",
       "      <td>Monica Sanders</td>\n",
       "    </tr>\n",
       "    <tr>\n",
       "      <th>241</th>\n",
       "      <td>22.67</td>\n",
       "      <td>2.00</td>\n",
       "      <td>Male</td>\n",
       "      <td>Yes</td>\n",
       "      <td>Sat</td>\n",
       "      <td>Dinner</td>\n",
       "      <td>2</td>\n",
       "      <td>11.34</td>\n",
       "      <td>Keith Wong</td>\n",
       "    </tr>\n",
       "    <tr>\n",
       "      <th>242</th>\n",
       "      <td>17.82</td>\n",
       "      <td>1.75</td>\n",
       "      <td>Male</td>\n",
       "      <td>No</td>\n",
       "      <td>Sat</td>\n",
       "      <td>Dinner</td>\n",
       "      <td>2</td>\n",
       "      <td>8.91</td>\n",
       "      <td>Dennis Dixon</td>\n",
       "    </tr>\n",
       "    <tr>\n",
       "      <th>243</th>\n",
       "      <td>18.78</td>\n",
       "      <td>3.00</td>\n",
       "      <td>Female</td>\n",
       "      <td>No</td>\n",
       "      <td>Thur</td>\n",
       "      <td>Dinner</td>\n",
       "      <td>2</td>\n",
       "      <td>9.39</td>\n",
       "      <td>Michelle Hardin</td>\n",
       "    </tr>\n",
       "  </tbody>\n",
       "</table>\n",
       "<p>244 rows × 9 columns</p>\n",
       "</div>"
      ],
      "text/plain": [
       "     total_bill   tip     sex smoker   day    time  size  price_per_person  \\\n",
       "0         16.99  1.01  Female     No   Sun  Dinner     2              8.49   \n",
       "1         10.34  1.66    Male     No   Sun  Dinner     3              3.45   \n",
       "2         21.01  3.50    Male     No   Sun  Dinner     3              7.00   \n",
       "3         23.68  3.31    Male     No   Sun  Dinner     2             11.84   \n",
       "4         24.59  3.61  Female     No   Sun  Dinner     4              6.15   \n",
       "..          ...   ...     ...    ...   ...     ...   ...               ...   \n",
       "239       29.03  5.92    Male     No   Sat  Dinner     3              9.68   \n",
       "240       27.18  2.00  Female    Yes   Sat  Dinner     2             13.59   \n",
       "241       22.67  2.00    Male    Yes   Sat  Dinner     2             11.34   \n",
       "242       17.82  1.75    Male     No   Sat  Dinner     2              8.91   \n",
       "243       18.78  3.00  Female     No  Thur  Dinner     2              9.39   \n",
       "\n",
       "             Payer Name  \n",
       "0    Christy Cunningham  \n",
       "1        Douglas Tucker  \n",
       "2        Travis Walters  \n",
       "3      Nathaniel Harris  \n",
       "4          Tonya Carter  \n",
       "..                  ...  \n",
       "239       Michael Avila  \n",
       "240      Monica Sanders  \n",
       "241          Keith Wong  \n",
       "242        Dennis Dixon  \n",
       "243     Michelle Hardin  \n",
       "\n",
       "[244 rows x 9 columns]"
      ]
     },
     "execution_count": 59,
     "metadata": {},
     "output_type": "execute_result"
    }
   ],
   "source": [
    "df_tips"
   ]
  },
  {
   "cell_type": "code",
   "execution_count": 60,
   "id": "bf1b190a",
   "metadata": {},
   "outputs": [],
   "source": [
    "df_tips.set_index(\"Payer Name\", inplace = True) # \"Payer Name\" kolonunu indeks olarak ayarlar"
   ]
  },
  {
   "cell_type": "code",
   "execution_count": 61,
   "id": "72cc49ef",
   "metadata": {},
   "outputs": [
    {
     "data": {
      "application/vnd.microsoft.datawrangler.viewer.v0+json": {
       "columns": [
        {
         "name": "Payer Name",
         "rawType": "object",
         "type": "string"
        },
        {
         "name": "total_bill",
         "rawType": "float64",
         "type": "float"
        },
        {
         "name": "tip",
         "rawType": "float64",
         "type": "float"
        },
        {
         "name": "sex",
         "rawType": "object",
         "type": "string"
        },
        {
         "name": "smoker",
         "rawType": "object",
         "type": "string"
        },
        {
         "name": "day",
         "rawType": "object",
         "type": "string"
        },
        {
         "name": "time",
         "rawType": "object",
         "type": "string"
        },
        {
         "name": "size",
         "rawType": "int64",
         "type": "integer"
        },
        {
         "name": "price_per_person",
         "rawType": "float64",
         "type": "float"
        }
       ],
       "ref": "f4ce7c39-65bf-4d28-8899-c1dc10cb6968",
       "rows": [
        [
         "Christy Cunningham",
         "16.99",
         "1.01",
         "Female",
         "No",
         "Sun",
         "Dinner",
         "2",
         "8.49"
        ],
        [
         "Douglas Tucker",
         "10.34",
         "1.66",
         "Male",
         "No",
         "Sun",
         "Dinner",
         "3",
         "3.45"
        ],
        [
         "Travis Walters",
         "21.01",
         "3.5",
         "Male",
         "No",
         "Sun",
         "Dinner",
         "3",
         "7.0"
        ],
        [
         "Nathaniel Harris",
         "23.68",
         "3.31",
         "Male",
         "No",
         "Sun",
         "Dinner",
         "2",
         "11.84"
        ],
        [
         "Tonya Carter",
         "24.59",
         "3.61",
         "Female",
         "No",
         "Sun",
         "Dinner",
         "4",
         "6.15"
        ],
        [
         "Erik Smith",
         "25.29",
         "4.71",
         "Male",
         "No",
         "Sun",
         "Dinner",
         "4",
         "6.32"
        ],
        [
         "Kristopher Johnson",
         "8.77",
         "2.0",
         "Male",
         "No",
         "Sun",
         "Dinner",
         "2",
         "4.38"
        ],
        [
         "Robert Buck",
         "26.88",
         "3.12",
         "Male",
         "No",
         "Sun",
         "Dinner",
         "4",
         "6.72"
        ],
        [
         "Joseph Mcdonald",
         "15.04",
         "1.96",
         "Male",
         "No",
         "Sun",
         "Dinner",
         "2",
         "7.52"
        ],
        [
         "Jerome Abbott",
         "14.78",
         "3.23",
         "Male",
         "No",
         "Sun",
         "Dinner",
         "2",
         "7.39"
        ],
        [
         "William Riley",
         "10.27",
         "1.71",
         "Male",
         "No",
         "Sun",
         "Dinner",
         "2",
         "5.14"
        ],
        [
         "Diane Macias",
         "35.26",
         "5.0",
         "Female",
         "No",
         "Sun",
         "Dinner",
         "4",
         "8.82"
        ],
        [
         "Chad Harrington",
         "15.42",
         "1.57",
         "Male",
         "No",
         "Sun",
         "Dinner",
         "2",
         "7.71"
        ],
        [
         "Joshua Jones",
         "18.43",
         "3.0",
         "Male",
         "No",
         "Sun",
         "Dinner",
         "4",
         "4.61"
        ],
        [
         "Vanessa Jones",
         "14.83",
         "3.02",
         "Female",
         "No",
         "Sun",
         "Dinner",
         "2",
         "7.42"
        ],
        [
         "Matthew Reilly",
         "21.58",
         "3.92",
         "Male",
         "No",
         "Sun",
         "Dinner",
         "2",
         "10.79"
        ],
        [
         "Elizabeth Foster",
         "10.33",
         "1.67",
         "Female",
         "No",
         "Sun",
         "Dinner",
         "3",
         "3.44"
        ],
        [
         "John Pittman",
         "16.29",
         "3.71",
         "Male",
         "No",
         "Sun",
         "Dinner",
         "3",
         "5.43"
        ],
        [
         "Laura Martinez",
         "16.97",
         "3.5",
         "Female",
         "No",
         "Sun",
         "Dinner",
         "3",
         "5.66"
        ],
        [
         "Timothy Oneal",
         "20.65",
         "3.35",
         "Male",
         "No",
         "Sat",
         "Dinner",
         "3",
         "6.88"
        ],
        [
         "Thomas Rice",
         "17.92",
         "4.08",
         "Male",
         "No",
         "Sat",
         "Dinner",
         "2",
         "8.96"
        ],
        [
         "Natalie Gardner",
         "20.29",
         "2.75",
         "Female",
         "No",
         "Sat",
         "Dinner",
         "2",
         "10.14"
        ],
        [
         "Ashley Shelton",
         "15.77",
         "2.23",
         "Female",
         "No",
         "Sat",
         "Dinner",
         "2",
         "7.88"
        ],
        [
         "Lance Peterson",
         "39.42",
         "7.58",
         "Male",
         "No",
         "Sat",
         "Dinner",
         "4",
         "9.86"
        ],
        [
         "Christopher Ross",
         "19.82",
         "3.18",
         "Male",
         "No",
         "Sat",
         "Dinner",
         "2",
         "9.91"
        ],
        [
         "Robert Perkins",
         "17.81",
         "2.34",
         "Male",
         "No",
         "Sat",
         "Dinner",
         "4",
         "4.45"
        ],
        [
         "Kyle Avery",
         "13.37",
         "2.0",
         "Male",
         "No",
         "Sat",
         "Dinner",
         "2",
         "6.68"
        ],
        [
         "Patrick Barber",
         "12.69",
         "2.0",
         "Male",
         "No",
         "Sat",
         "Dinner",
         "2",
         "6.34"
        ],
        [
         "David Collier",
         "21.7",
         "4.3",
         "Male",
         "No",
         "Sat",
         "Dinner",
         "2",
         "10.85"
        ],
        [
         "Melinda Murphy",
         "19.65",
         "3.0",
         "Female",
         "No",
         "Sat",
         "Dinner",
         "2",
         "9.82"
        ],
        [
         "Grant Hall",
         "9.55",
         "1.45",
         "Male",
         "No",
         "Sat",
         "Dinner",
         "2",
         "4.78"
        ],
        [
         "Danny Santiago",
         "18.35",
         "2.5",
         "Male",
         "No",
         "Sat",
         "Dinner",
         "4",
         "4.59"
        ],
        [
         "Amanda Wilson",
         "15.06",
         "3.0",
         "Female",
         "No",
         "Sat",
         "Dinner",
         "2",
         "7.53"
        ],
        [
         "Amber Francis",
         "20.69",
         "2.45",
         "Female",
         "No",
         "Sat",
         "Dinner",
         "4",
         "5.17"
        ],
        [
         "Jacob Castillo",
         "17.78",
         "3.27",
         "Male",
         "No",
         "Sat",
         "Dinner",
         "2",
         "8.89"
        ],
        [
         "Joseph Mullins",
         "24.06",
         "3.6",
         "Male",
         "No",
         "Sat",
         "Dinner",
         "3",
         "8.02"
        ],
        [
         "William Ford",
         "16.31",
         "2.0",
         "Male",
         "No",
         "Sat",
         "Dinner",
         "3",
         "5.44"
        ],
        [
         "Erin Lewis",
         "16.93",
         "3.07",
         "Female",
         "No",
         "Sat",
         "Dinner",
         "3",
         "5.64"
        ],
        [
         "Brandon Bradley",
         "18.69",
         "2.31",
         "Male",
         "No",
         "Sat",
         "Dinner",
         "3",
         "6.23"
        ],
        [
         "Mr. Brandon Berry",
         "31.27",
         "5.0",
         "Male",
         "No",
         "Sat",
         "Dinner",
         "3",
         "10.42"
        ],
        [
         "Adam Edwards",
         "16.04",
         "2.24",
         "Male",
         "No",
         "Sat",
         "Dinner",
         "3",
         "5.35"
        ],
        [
         "David Boyer",
         "17.46",
         "2.54",
         "Male",
         "No",
         "Sun",
         "Dinner",
         "2",
         "8.73"
        ],
        [
         "Bryan Brown",
         "13.94",
         "3.06",
         "Male",
         "No",
         "Sun",
         "Dinner",
         "2",
         "6.97"
        ],
        [
         "Christopher Spears",
         "9.68",
         "1.32",
         "Male",
         "No",
         "Sun",
         "Dinner",
         "2",
         "4.84"
        ],
        [
         "Todd Cooper",
         "30.4",
         "5.6",
         "Male",
         "No",
         "Sun",
         "Dinner",
         "4",
         "7.6"
        ],
        [
         "Richard Fitzgerald",
         "18.29",
         "3.0",
         "Male",
         "No",
         "Sun",
         "Dinner",
         "2",
         "9.14"
        ],
        [
         "Joshua Gilmore",
         "22.23",
         "5.0",
         "Male",
         "No",
         "Sun",
         "Dinner",
         "2",
         "11.12"
        ],
        [
         "James Barnes",
         "32.4",
         "6.0",
         "Male",
         "No",
         "Sun",
         "Dinner",
         "4",
         "8.1"
        ],
        [
         "Austin Fisher",
         "28.55",
         "2.05",
         "Male",
         "No",
         "Sun",
         "Dinner",
         "3",
         "9.52"
        ],
        [
         "William Roth",
         "18.04",
         "3.0",
         "Male",
         "No",
         "Sun",
         "Dinner",
         "2",
         "9.02"
        ]
       ],
       "shape": {
        "columns": 8,
        "rows": 244
       }
      },
      "text/html": [
       "<div>\n",
       "<style scoped>\n",
       "    .dataframe tbody tr th:only-of-type {\n",
       "        vertical-align: middle;\n",
       "    }\n",
       "\n",
       "    .dataframe tbody tr th {\n",
       "        vertical-align: top;\n",
       "    }\n",
       "\n",
       "    .dataframe thead th {\n",
       "        text-align: right;\n",
       "    }\n",
       "</style>\n",
       "<table border=\"1\" class=\"dataframe\">\n",
       "  <thead>\n",
       "    <tr style=\"text-align: right;\">\n",
       "      <th></th>\n",
       "      <th>total_bill</th>\n",
       "      <th>tip</th>\n",
       "      <th>sex</th>\n",
       "      <th>smoker</th>\n",
       "      <th>day</th>\n",
       "      <th>time</th>\n",
       "      <th>size</th>\n",
       "      <th>price_per_person</th>\n",
       "    </tr>\n",
       "    <tr>\n",
       "      <th>Payer Name</th>\n",
       "      <th></th>\n",
       "      <th></th>\n",
       "      <th></th>\n",
       "      <th></th>\n",
       "      <th></th>\n",
       "      <th></th>\n",
       "      <th></th>\n",
       "      <th></th>\n",
       "    </tr>\n",
       "  </thead>\n",
       "  <tbody>\n",
       "    <tr>\n",
       "      <th>Christy Cunningham</th>\n",
       "      <td>16.99</td>\n",
       "      <td>1.01</td>\n",
       "      <td>Female</td>\n",
       "      <td>No</td>\n",
       "      <td>Sun</td>\n",
       "      <td>Dinner</td>\n",
       "      <td>2</td>\n",
       "      <td>8.49</td>\n",
       "    </tr>\n",
       "    <tr>\n",
       "      <th>Douglas Tucker</th>\n",
       "      <td>10.34</td>\n",
       "      <td>1.66</td>\n",
       "      <td>Male</td>\n",
       "      <td>No</td>\n",
       "      <td>Sun</td>\n",
       "      <td>Dinner</td>\n",
       "      <td>3</td>\n",
       "      <td>3.45</td>\n",
       "    </tr>\n",
       "    <tr>\n",
       "      <th>Travis Walters</th>\n",
       "      <td>21.01</td>\n",
       "      <td>3.50</td>\n",
       "      <td>Male</td>\n",
       "      <td>No</td>\n",
       "      <td>Sun</td>\n",
       "      <td>Dinner</td>\n",
       "      <td>3</td>\n",
       "      <td>7.00</td>\n",
       "    </tr>\n",
       "    <tr>\n",
       "      <th>Nathaniel Harris</th>\n",
       "      <td>23.68</td>\n",
       "      <td>3.31</td>\n",
       "      <td>Male</td>\n",
       "      <td>No</td>\n",
       "      <td>Sun</td>\n",
       "      <td>Dinner</td>\n",
       "      <td>2</td>\n",
       "      <td>11.84</td>\n",
       "    </tr>\n",
       "    <tr>\n",
       "      <th>Tonya Carter</th>\n",
       "      <td>24.59</td>\n",
       "      <td>3.61</td>\n",
       "      <td>Female</td>\n",
       "      <td>No</td>\n",
       "      <td>Sun</td>\n",
       "      <td>Dinner</td>\n",
       "      <td>4</td>\n",
       "      <td>6.15</td>\n",
       "    </tr>\n",
       "    <tr>\n",
       "      <th>...</th>\n",
       "      <td>...</td>\n",
       "      <td>...</td>\n",
       "      <td>...</td>\n",
       "      <td>...</td>\n",
       "      <td>...</td>\n",
       "      <td>...</td>\n",
       "      <td>...</td>\n",
       "      <td>...</td>\n",
       "    </tr>\n",
       "    <tr>\n",
       "      <th>Michael Avila</th>\n",
       "      <td>29.03</td>\n",
       "      <td>5.92</td>\n",
       "      <td>Male</td>\n",
       "      <td>No</td>\n",
       "      <td>Sat</td>\n",
       "      <td>Dinner</td>\n",
       "      <td>3</td>\n",
       "      <td>9.68</td>\n",
       "    </tr>\n",
       "    <tr>\n",
       "      <th>Monica Sanders</th>\n",
       "      <td>27.18</td>\n",
       "      <td>2.00</td>\n",
       "      <td>Female</td>\n",
       "      <td>Yes</td>\n",
       "      <td>Sat</td>\n",
       "      <td>Dinner</td>\n",
       "      <td>2</td>\n",
       "      <td>13.59</td>\n",
       "    </tr>\n",
       "    <tr>\n",
       "      <th>Keith Wong</th>\n",
       "      <td>22.67</td>\n",
       "      <td>2.00</td>\n",
       "      <td>Male</td>\n",
       "      <td>Yes</td>\n",
       "      <td>Sat</td>\n",
       "      <td>Dinner</td>\n",
       "      <td>2</td>\n",
       "      <td>11.34</td>\n",
       "    </tr>\n",
       "    <tr>\n",
       "      <th>Dennis Dixon</th>\n",
       "      <td>17.82</td>\n",
       "      <td>1.75</td>\n",
       "      <td>Male</td>\n",
       "      <td>No</td>\n",
       "      <td>Sat</td>\n",
       "      <td>Dinner</td>\n",
       "      <td>2</td>\n",
       "      <td>8.91</td>\n",
       "    </tr>\n",
       "    <tr>\n",
       "      <th>Michelle Hardin</th>\n",
       "      <td>18.78</td>\n",
       "      <td>3.00</td>\n",
       "      <td>Female</td>\n",
       "      <td>No</td>\n",
       "      <td>Thur</td>\n",
       "      <td>Dinner</td>\n",
       "      <td>2</td>\n",
       "      <td>9.39</td>\n",
       "    </tr>\n",
       "  </tbody>\n",
       "</table>\n",
       "<p>244 rows × 8 columns</p>\n",
       "</div>"
      ],
      "text/plain": [
       "                    total_bill   tip     sex smoker   day    time  size  \\\n",
       "Payer Name                                                                \n",
       "Christy Cunningham       16.99  1.01  Female     No   Sun  Dinner     2   \n",
       "Douglas Tucker           10.34  1.66    Male     No   Sun  Dinner     3   \n",
       "Travis Walters           21.01  3.50    Male     No   Sun  Dinner     3   \n",
       "Nathaniel Harris         23.68  3.31    Male     No   Sun  Dinner     2   \n",
       "Tonya Carter             24.59  3.61  Female     No   Sun  Dinner     4   \n",
       "...                        ...   ...     ...    ...   ...     ...   ...   \n",
       "Michael Avila            29.03  5.92    Male     No   Sat  Dinner     3   \n",
       "Monica Sanders           27.18  2.00  Female    Yes   Sat  Dinner     2   \n",
       "Keith Wong               22.67  2.00    Male    Yes   Sat  Dinner     2   \n",
       "Dennis Dixon             17.82  1.75    Male     No   Sat  Dinner     2   \n",
       "Michelle Hardin          18.78  3.00  Female     No  Thur  Dinner     2   \n",
       "\n",
       "                    price_per_person  \n",
       "Payer Name                            \n",
       "Christy Cunningham              8.49  \n",
       "Douglas Tucker                  3.45  \n",
       "Travis Walters                  7.00  \n",
       "Nathaniel Harris               11.84  \n",
       "Tonya Carter                    6.15  \n",
       "...                              ...  \n",
       "Michael Avila                   9.68  \n",
       "Monica Sanders                 13.59  \n",
       "Keith Wong                     11.34  \n",
       "Dennis Dixon                    8.91  \n",
       "Michelle Hardin                 9.39  \n",
       "\n",
       "[244 rows x 8 columns]"
      ]
     },
     "execution_count": 61,
     "metadata": {},
     "output_type": "execute_result"
    }
   ],
   "source": [
    "df_tips"
   ]
  },
  {
   "cell_type": "code",
   "execution_count": 66,
   "id": "3d166bb9",
   "metadata": {},
   "outputs": [
    {
     "data": {
      "text/plain": [
       "46"
      ]
     },
     "execution_count": 66,
     "metadata": {},
     "output_type": "execute_result"
    }
   ],
   "source": [
    "df_tips[df_tips[\"size\"] > 3].shape[0] # 3'ten buyuk boyutlu masalarin sayisini verir"
   ]
  },
  {
   "cell_type": "code",
   "execution_count": 67,
   "id": "dec68234",
   "metadata": {},
   "outputs": [
    {
     "data": {
      "text/plain": [
       "46"
      ]
     },
     "execution_count": 67,
     "metadata": {},
     "output_type": "execute_result"
    }
   ],
   "source": [
    "len(df_tips[df_tips[\"size\"] > 3]) # 3'ten buyuk boyutlu masalarin sayisini verir"
   ]
  },
  {
   "cell_type": "code",
   "execution_count": 71,
   "id": "0fd66ae1",
   "metadata": {},
   "outputs": [],
   "source": [
    "filter1 = (\n",
    "    (df_tips[\"size\"].isin([2, 3])) &\n",
    "    (df_tips[\"smoker\"] == \"Yes\") &\n",
    "    (df_tips[\"sex\"] == \"Male\") &\n",
    "    (df_tips[\"total_bill\"] < 20)\n",
    ")"
   ]
  },
  {
   "cell_type": "code",
   "execution_count": 74,
   "id": "252f31d9",
   "metadata": {},
   "outputs": [
    {
     "data": {
      "application/vnd.microsoft.datawrangler.viewer.v0+json": {
       "columns": [
        {
         "name": "Payer Name",
         "rawType": "object",
         "type": "string"
        },
        {
         "name": "total_bill",
         "rawType": "float64",
         "type": "float"
        },
        {
         "name": "tip",
         "rawType": "float64",
         "type": "float"
        },
        {
         "name": "sex",
         "rawType": "object",
         "type": "string"
        },
        {
         "name": "smoker",
         "rawType": "object",
         "type": "string"
        },
        {
         "name": "day",
         "rawType": "object",
         "type": "string"
        },
        {
         "name": "time",
         "rawType": "object",
         "type": "string"
        },
        {
         "name": "size",
         "rawType": "int64",
         "type": "integer"
        },
        {
         "name": "price_per_person",
         "rawType": "float64",
         "type": "float"
        }
       ],
       "ref": "efed2b30-cee1-4eb6-b74e-c5a976c8f3ee",
       "rows": [
        [
         "Troy Guerrero",
         "11.24",
         "1.76",
         "Male",
         "Yes",
         "Sat",
         "Dinner",
         "2",
         "5.62"
        ],
        [
         "Ryan Hernandez",
         "13.81",
         "2.0",
         "Male",
         "Yes",
         "Sat",
         "Dinner",
         "2",
         "6.9"
        ],
        [
         "Joseph Hart",
         "11.02",
         "1.98",
         "Male",
         "Yes",
         "Sat",
         "Dinner",
         "2",
         "5.51"
        ],
        [
         "Adam Hall",
         "15.01",
         "2.09",
         "Male",
         "Yes",
         "Sat",
         "Dinner",
         "2",
         "7.5"
        ],
        [
         "Mark Smith",
         "17.92",
         "3.08",
         "Male",
         "Yes",
         "Sat",
         "Dinner",
         "2",
         "8.96"
        ],
        [
         "Louis Torres",
         "19.44",
         "3.0",
         "Male",
         "Yes",
         "Thur",
         "Lunch",
         "2",
         "9.72"
        ],
        [
         "Eric Herrera",
         "12.03",
         "1.5",
         "Male",
         "Yes",
         "Fri",
         "Dinner",
         "2",
         "6.02"
        ],
        [
         "David Price",
         "15.36",
         "1.64",
         "Male",
         "Yes",
         "Sat",
         "Dinner",
         "2",
         "7.68"
        ],
        [
         "Jason Burgess",
         "16.0",
         "2.0",
         "Male",
         "Yes",
         "Thur",
         "Lunch",
         "2",
         "8.0"
        ],
        [
         "David Hall",
         "15.81",
         "3.16",
         "Male",
         "Yes",
         "Sat",
         "Dinner",
         "2",
         "7.9"
        ],
        [
         "Larry White",
         "7.25",
         "5.15",
         "Male",
         "Yes",
         "Sun",
         "Dinner",
         "2",
         "3.62"
        ],
        [
         "Brian Miles",
         "16.82",
         "4.0",
         "Male",
         "Yes",
         "Sun",
         "Dinner",
         "2",
         "8.41"
        ],
        [
         "Walter Simmons",
         "17.89",
         "2.0",
         "Male",
         "Yes",
         "Sun",
         "Dinner",
         "2",
         "8.94"
        ],
        [
         "John Dudley",
         "14.48",
         "2.0",
         "Male",
         "Yes",
         "Sun",
         "Dinner",
         "2",
         "7.24"
        ],
        [
         "Riley Barnes",
         "15.69",
         "1.5",
         "Male",
         "Yes",
         "Sun",
         "Dinner",
         "2",
         "7.84"
        ],
        [
         "Raymond Sullivan",
         "15.48",
         "2.02",
         "Male",
         "Yes",
         "Thur",
         "Lunch",
         "2",
         "7.74"
        ],
        [
         "Benjamin Weber",
         "16.58",
         "4.0",
         "Male",
         "Yes",
         "Thur",
         "Lunch",
         "2",
         "8.29"
        ],
        [
         "Eric Martin",
         "10.34",
         "2.0",
         "Male",
         "Yes",
         "Thur",
         "Lunch",
         "2",
         "5.17"
        ],
        [
         "Joseph Murphy MD",
         "13.51",
         "2.0",
         "Male",
         "Yes",
         "Thur",
         "Lunch",
         "2",
         "6.76"
        ],
        [
         "Jason Conrad",
         "18.71",
         "4.0",
         "Male",
         "Yes",
         "Thur",
         "Lunch",
         "3",
         "6.24"
        ],
        [
         "Gary Orr",
         "11.59",
         "1.5",
         "Male",
         "Yes",
         "Sat",
         "Dinner",
         "2",
         "5.8"
        ],
        [
         "Nicholas Archer",
         "7.74",
         "1.44",
         "Male",
         "Yes",
         "Sat",
         "Dinner",
         "2",
         "3.87"
        ],
        [
         "Ricky Johnson",
         "12.16",
         "2.2",
         "Male",
         "Yes",
         "Fri",
         "Lunch",
         "2",
         "6.08"
        ],
        [
         "Ronald Vaughn DVM",
         "13.42",
         "1.58",
         "Male",
         "Yes",
         "Fri",
         "Lunch",
         "2",
         "6.71"
        ],
        [
         "Jason Parks",
         "15.69",
         "3.0",
         "Male",
         "Yes",
         "Sat",
         "Dinner",
         "3",
         "5.23"
        ],
        [
         "Tracy Douglas",
         "15.53",
         "3.0",
         "Male",
         "Yes",
         "Sat",
         "Dinner",
         "2",
         "7.76"
        ],
        [
         "Matthew Myers",
         "12.6",
         "1.0",
         "Male",
         "Yes",
         "Sat",
         "Dinner",
         "2",
         "6.3"
        ]
       ],
       "shape": {
        "columns": 8,
        "rows": 27
       }
      },
      "text/html": [
       "<div>\n",
       "<style scoped>\n",
       "    .dataframe tbody tr th:only-of-type {\n",
       "        vertical-align: middle;\n",
       "    }\n",
       "\n",
       "    .dataframe tbody tr th {\n",
       "        vertical-align: top;\n",
       "    }\n",
       "\n",
       "    .dataframe thead th {\n",
       "        text-align: right;\n",
       "    }\n",
       "</style>\n",
       "<table border=\"1\" class=\"dataframe\">\n",
       "  <thead>\n",
       "    <tr style=\"text-align: right;\">\n",
       "      <th></th>\n",
       "      <th>total_bill</th>\n",
       "      <th>tip</th>\n",
       "      <th>sex</th>\n",
       "      <th>smoker</th>\n",
       "      <th>day</th>\n",
       "      <th>time</th>\n",
       "      <th>size</th>\n",
       "      <th>price_per_person</th>\n",
       "    </tr>\n",
       "    <tr>\n",
       "      <th>Payer Name</th>\n",
       "      <th></th>\n",
       "      <th></th>\n",
       "      <th></th>\n",
       "      <th></th>\n",
       "      <th></th>\n",
       "      <th></th>\n",
       "      <th></th>\n",
       "      <th></th>\n",
       "    </tr>\n",
       "  </thead>\n",
       "  <tbody>\n",
       "    <tr>\n",
       "      <th>Troy Guerrero</th>\n",
       "      <td>11.24</td>\n",
       "      <td>1.76</td>\n",
       "      <td>Male</td>\n",
       "      <td>Yes</td>\n",
       "      <td>Sat</td>\n",
       "      <td>Dinner</td>\n",
       "      <td>2</td>\n",
       "      <td>5.62</td>\n",
       "    </tr>\n",
       "    <tr>\n",
       "      <th>Ryan Hernandez</th>\n",
       "      <td>13.81</td>\n",
       "      <td>2.00</td>\n",
       "      <td>Male</td>\n",
       "      <td>Yes</td>\n",
       "      <td>Sat</td>\n",
       "      <td>Dinner</td>\n",
       "      <td>2</td>\n",
       "      <td>6.90</td>\n",
       "    </tr>\n",
       "    <tr>\n",
       "      <th>Joseph Hart</th>\n",
       "      <td>11.02</td>\n",
       "      <td>1.98</td>\n",
       "      <td>Male</td>\n",
       "      <td>Yes</td>\n",
       "      <td>Sat</td>\n",
       "      <td>Dinner</td>\n",
       "      <td>2</td>\n",
       "      <td>5.51</td>\n",
       "    </tr>\n",
       "    <tr>\n",
       "      <th>Adam Hall</th>\n",
       "      <td>15.01</td>\n",
       "      <td>2.09</td>\n",
       "      <td>Male</td>\n",
       "      <td>Yes</td>\n",
       "      <td>Sat</td>\n",
       "      <td>Dinner</td>\n",
       "      <td>2</td>\n",
       "      <td>7.50</td>\n",
       "    </tr>\n",
       "    <tr>\n",
       "      <th>Mark Smith</th>\n",
       "      <td>17.92</td>\n",
       "      <td>3.08</td>\n",
       "      <td>Male</td>\n",
       "      <td>Yes</td>\n",
       "      <td>Sat</td>\n",
       "      <td>Dinner</td>\n",
       "      <td>2</td>\n",
       "      <td>8.96</td>\n",
       "    </tr>\n",
       "    <tr>\n",
       "      <th>Louis Torres</th>\n",
       "      <td>19.44</td>\n",
       "      <td>3.00</td>\n",
       "      <td>Male</td>\n",
       "      <td>Yes</td>\n",
       "      <td>Thur</td>\n",
       "      <td>Lunch</td>\n",
       "      <td>2</td>\n",
       "      <td>9.72</td>\n",
       "    </tr>\n",
       "    <tr>\n",
       "      <th>Eric Herrera</th>\n",
       "      <td>12.03</td>\n",
       "      <td>1.50</td>\n",
       "      <td>Male</td>\n",
       "      <td>Yes</td>\n",
       "      <td>Fri</td>\n",
       "      <td>Dinner</td>\n",
       "      <td>2</td>\n",
       "      <td>6.02</td>\n",
       "    </tr>\n",
       "    <tr>\n",
       "      <th>David Price</th>\n",
       "      <td>15.36</td>\n",
       "      <td>1.64</td>\n",
       "      <td>Male</td>\n",
       "      <td>Yes</td>\n",
       "      <td>Sat</td>\n",
       "      <td>Dinner</td>\n",
       "      <td>2</td>\n",
       "      <td>7.68</td>\n",
       "    </tr>\n",
       "    <tr>\n",
       "      <th>Jason Burgess</th>\n",
       "      <td>16.00</td>\n",
       "      <td>2.00</td>\n",
       "      <td>Male</td>\n",
       "      <td>Yes</td>\n",
       "      <td>Thur</td>\n",
       "      <td>Lunch</td>\n",
       "      <td>2</td>\n",
       "      <td>8.00</td>\n",
       "    </tr>\n",
       "    <tr>\n",
       "      <th>David Hall</th>\n",
       "      <td>15.81</td>\n",
       "      <td>3.16</td>\n",
       "      <td>Male</td>\n",
       "      <td>Yes</td>\n",
       "      <td>Sat</td>\n",
       "      <td>Dinner</td>\n",
       "      <td>2</td>\n",
       "      <td>7.90</td>\n",
       "    </tr>\n",
       "    <tr>\n",
       "      <th>Larry White</th>\n",
       "      <td>7.25</td>\n",
       "      <td>5.15</td>\n",
       "      <td>Male</td>\n",
       "      <td>Yes</td>\n",
       "      <td>Sun</td>\n",
       "      <td>Dinner</td>\n",
       "      <td>2</td>\n",
       "      <td>3.62</td>\n",
       "    </tr>\n",
       "    <tr>\n",
       "      <th>Brian Miles</th>\n",
       "      <td>16.82</td>\n",
       "      <td>4.00</td>\n",
       "      <td>Male</td>\n",
       "      <td>Yes</td>\n",
       "      <td>Sun</td>\n",
       "      <td>Dinner</td>\n",
       "      <td>2</td>\n",
       "      <td>8.41</td>\n",
       "    </tr>\n",
       "    <tr>\n",
       "      <th>Walter Simmons</th>\n",
       "      <td>17.89</td>\n",
       "      <td>2.00</td>\n",
       "      <td>Male</td>\n",
       "      <td>Yes</td>\n",
       "      <td>Sun</td>\n",
       "      <td>Dinner</td>\n",
       "      <td>2</td>\n",
       "      <td>8.94</td>\n",
       "    </tr>\n",
       "    <tr>\n",
       "      <th>John Dudley</th>\n",
       "      <td>14.48</td>\n",
       "      <td>2.00</td>\n",
       "      <td>Male</td>\n",
       "      <td>Yes</td>\n",
       "      <td>Sun</td>\n",
       "      <td>Dinner</td>\n",
       "      <td>2</td>\n",
       "      <td>7.24</td>\n",
       "    </tr>\n",
       "    <tr>\n",
       "      <th>Riley Barnes</th>\n",
       "      <td>15.69</td>\n",
       "      <td>1.50</td>\n",
       "      <td>Male</td>\n",
       "      <td>Yes</td>\n",
       "      <td>Sun</td>\n",
       "      <td>Dinner</td>\n",
       "      <td>2</td>\n",
       "      <td>7.84</td>\n",
       "    </tr>\n",
       "    <tr>\n",
       "      <th>Raymond Sullivan</th>\n",
       "      <td>15.48</td>\n",
       "      <td>2.02</td>\n",
       "      <td>Male</td>\n",
       "      <td>Yes</td>\n",
       "      <td>Thur</td>\n",
       "      <td>Lunch</td>\n",
       "      <td>2</td>\n",
       "      <td>7.74</td>\n",
       "    </tr>\n",
       "    <tr>\n",
       "      <th>Benjamin Weber</th>\n",
       "      <td>16.58</td>\n",
       "      <td>4.00</td>\n",
       "      <td>Male</td>\n",
       "      <td>Yes</td>\n",
       "      <td>Thur</td>\n",
       "      <td>Lunch</td>\n",
       "      <td>2</td>\n",
       "      <td>8.29</td>\n",
       "    </tr>\n",
       "    <tr>\n",
       "      <th>Eric Martin</th>\n",
       "      <td>10.34</td>\n",
       "      <td>2.00</td>\n",
       "      <td>Male</td>\n",
       "      <td>Yes</td>\n",
       "      <td>Thur</td>\n",
       "      <td>Lunch</td>\n",
       "      <td>2</td>\n",
       "      <td>5.17</td>\n",
       "    </tr>\n",
       "    <tr>\n",
       "      <th>Joseph Murphy MD</th>\n",
       "      <td>13.51</td>\n",
       "      <td>2.00</td>\n",
       "      <td>Male</td>\n",
       "      <td>Yes</td>\n",
       "      <td>Thur</td>\n",
       "      <td>Lunch</td>\n",
       "      <td>2</td>\n",
       "      <td>6.76</td>\n",
       "    </tr>\n",
       "    <tr>\n",
       "      <th>Jason Conrad</th>\n",
       "      <td>18.71</td>\n",
       "      <td>4.00</td>\n",
       "      <td>Male</td>\n",
       "      <td>Yes</td>\n",
       "      <td>Thur</td>\n",
       "      <td>Lunch</td>\n",
       "      <td>3</td>\n",
       "      <td>6.24</td>\n",
       "    </tr>\n",
       "    <tr>\n",
       "      <th>Gary Orr</th>\n",
       "      <td>11.59</td>\n",
       "      <td>1.50</td>\n",
       "      <td>Male</td>\n",
       "      <td>Yes</td>\n",
       "      <td>Sat</td>\n",
       "      <td>Dinner</td>\n",
       "      <td>2</td>\n",
       "      <td>5.80</td>\n",
       "    </tr>\n",
       "    <tr>\n",
       "      <th>Nicholas Archer</th>\n",
       "      <td>7.74</td>\n",
       "      <td>1.44</td>\n",
       "      <td>Male</td>\n",
       "      <td>Yes</td>\n",
       "      <td>Sat</td>\n",
       "      <td>Dinner</td>\n",
       "      <td>2</td>\n",
       "      <td>3.87</td>\n",
       "    </tr>\n",
       "    <tr>\n",
       "      <th>Ricky Johnson</th>\n",
       "      <td>12.16</td>\n",
       "      <td>2.20</td>\n",
       "      <td>Male</td>\n",
       "      <td>Yes</td>\n",
       "      <td>Fri</td>\n",
       "      <td>Lunch</td>\n",
       "      <td>2</td>\n",
       "      <td>6.08</td>\n",
       "    </tr>\n",
       "    <tr>\n",
       "      <th>Ronald Vaughn DVM</th>\n",
       "      <td>13.42</td>\n",
       "      <td>1.58</td>\n",
       "      <td>Male</td>\n",
       "      <td>Yes</td>\n",
       "      <td>Fri</td>\n",
       "      <td>Lunch</td>\n",
       "      <td>2</td>\n",
       "      <td>6.71</td>\n",
       "    </tr>\n",
       "    <tr>\n",
       "      <th>Jason Parks</th>\n",
       "      <td>15.69</td>\n",
       "      <td>3.00</td>\n",
       "      <td>Male</td>\n",
       "      <td>Yes</td>\n",
       "      <td>Sat</td>\n",
       "      <td>Dinner</td>\n",
       "      <td>3</td>\n",
       "      <td>5.23</td>\n",
       "    </tr>\n",
       "    <tr>\n",
       "      <th>Tracy Douglas</th>\n",
       "      <td>15.53</td>\n",
       "      <td>3.00</td>\n",
       "      <td>Male</td>\n",
       "      <td>Yes</td>\n",
       "      <td>Sat</td>\n",
       "      <td>Dinner</td>\n",
       "      <td>2</td>\n",
       "      <td>7.76</td>\n",
       "    </tr>\n",
       "    <tr>\n",
       "      <th>Matthew Myers</th>\n",
       "      <td>12.60</td>\n",
       "      <td>1.00</td>\n",
       "      <td>Male</td>\n",
       "      <td>Yes</td>\n",
       "      <td>Sat</td>\n",
       "      <td>Dinner</td>\n",
       "      <td>2</td>\n",
       "      <td>6.30</td>\n",
       "    </tr>\n",
       "  </tbody>\n",
       "</table>\n",
       "</div>"
      ],
      "text/plain": [
       "                   total_bill   tip   sex smoker   day    time  size  \\\n",
       "Payer Name                                                             \n",
       "Troy Guerrero           11.24  1.76  Male    Yes   Sat  Dinner     2   \n",
       "Ryan Hernandez          13.81  2.00  Male    Yes   Sat  Dinner     2   \n",
       "Joseph Hart             11.02  1.98  Male    Yes   Sat  Dinner     2   \n",
       "Adam Hall               15.01  2.09  Male    Yes   Sat  Dinner     2   \n",
       "Mark Smith              17.92  3.08  Male    Yes   Sat  Dinner     2   \n",
       "Louis Torres            19.44  3.00  Male    Yes  Thur   Lunch     2   \n",
       "Eric Herrera            12.03  1.50  Male    Yes   Fri  Dinner     2   \n",
       "David Price             15.36  1.64  Male    Yes   Sat  Dinner     2   \n",
       "Jason Burgess           16.00  2.00  Male    Yes  Thur   Lunch     2   \n",
       "David Hall              15.81  3.16  Male    Yes   Sat  Dinner     2   \n",
       "Larry White              7.25  5.15  Male    Yes   Sun  Dinner     2   \n",
       "Brian Miles             16.82  4.00  Male    Yes   Sun  Dinner     2   \n",
       "Walter Simmons          17.89  2.00  Male    Yes   Sun  Dinner     2   \n",
       "John Dudley             14.48  2.00  Male    Yes   Sun  Dinner     2   \n",
       "Riley Barnes            15.69  1.50  Male    Yes   Sun  Dinner     2   \n",
       "Raymond Sullivan        15.48  2.02  Male    Yes  Thur   Lunch     2   \n",
       "Benjamin Weber          16.58  4.00  Male    Yes  Thur   Lunch     2   \n",
       "Eric Martin             10.34  2.00  Male    Yes  Thur   Lunch     2   \n",
       "Joseph Murphy MD        13.51  2.00  Male    Yes  Thur   Lunch     2   \n",
       "Jason Conrad            18.71  4.00  Male    Yes  Thur   Lunch     3   \n",
       "Gary Orr                11.59  1.50  Male    Yes   Sat  Dinner     2   \n",
       "Nicholas Archer          7.74  1.44  Male    Yes   Sat  Dinner     2   \n",
       "Ricky Johnson           12.16  2.20  Male    Yes   Fri   Lunch     2   \n",
       "Ronald Vaughn DVM       13.42  1.58  Male    Yes   Fri   Lunch     2   \n",
       "Jason Parks             15.69  3.00  Male    Yes   Sat  Dinner     3   \n",
       "Tracy Douglas           15.53  3.00  Male    Yes   Sat  Dinner     2   \n",
       "Matthew Myers           12.60  1.00  Male    Yes   Sat  Dinner     2   \n",
       "\n",
       "                   price_per_person  \n",
       "Payer Name                           \n",
       "Troy Guerrero                  5.62  \n",
       "Ryan Hernandez                 6.90  \n",
       "Joseph Hart                    5.51  \n",
       "Adam Hall                      7.50  \n",
       "Mark Smith                     8.96  \n",
       "Louis Torres                   9.72  \n",
       "Eric Herrera                   6.02  \n",
       "David Price                    7.68  \n",
       "Jason Burgess                  8.00  \n",
       "David Hall                     7.90  \n",
       "Larry White                    3.62  \n",
       "Brian Miles                    8.41  \n",
       "Walter Simmons                 8.94  \n",
       "John Dudley                    7.24  \n",
       "Riley Barnes                   7.84  \n",
       "Raymond Sullivan               7.74  \n",
       "Benjamin Weber                 8.29  \n",
       "Eric Martin                    5.17  \n",
       "Joseph Murphy MD               6.76  \n",
       "Jason Conrad                   6.24  \n",
       "Gary Orr                       5.80  \n",
       "Nicholas Archer                3.87  \n",
       "Ricky Johnson                  6.08  \n",
       "Ronald Vaughn DVM              6.71  \n",
       "Jason Parks                    5.23  \n",
       "Tracy Douglas                  7.76  \n",
       "Matthew Myers                  6.30  "
      ]
     },
     "execution_count": 74,
     "metadata": {},
     "output_type": "execute_result"
    }
   ],
   "source": [
    "df_tips[filter1] "
   ]
  }
 ],
 "metadata": {
  "kernelspec": {
   "display_name": "Python 3",
   "language": "python",
   "name": "python3"
  },
  "language_info": {
   "codemirror_mode": {
    "name": "ipython",
    "version": 3
   },
   "file_extension": ".py",
   "mimetype": "text/x-python",
   "name": "python",
   "nbconvert_exporter": "python",
   "pygments_lexer": "ipython3",
   "version": "3.14.0"
  }
 },
 "nbformat": 4,
 "nbformat_minor": 5
}
