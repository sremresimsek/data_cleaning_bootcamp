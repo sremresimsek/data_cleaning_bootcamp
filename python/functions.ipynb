{
  "nbformat": 4,
  "nbformat_minor": 0,
  "metadata": {
    "colab": {
      "provenance": []
    },
    "kernelspec": {
      "name": "python3",
      "display_name": "Python 3"
    },
    "language_info": {
      "name": "python"
    }
  },
  "cells": [
    {
      "cell_type": "code",
      "execution_count": 18,
      "metadata": {
        "id": "aF6PzUnMjo87"
      },
      "outputs": [],
      "source": [
        "def bes_yazdiran():\n",
        "  \"\"\"\n",
        "  ekrana 5 yazdırır\n",
        "  \"\"\"\n",
        "  print(5) #fonksiyon çağrıldığında sadece ekrana yazdırma yapar, herhangi bir atama işlemi yapmaz."
      ]
    },
    {
      "cell_type": "code",
      "source": [
        "bes_yazdiran()"
      ],
      "metadata": {
        "colab": {
          "base_uri": "https://localhost:8080/"
        },
        "id": "8FRJPWHLktOR",
        "outputId": "028b62e4-00d2-45ac-b037-bd1edfe33f9d"
      },
      "execution_count": 19,
      "outputs": [
        {
          "output_type": "stream",
          "name": "stdout",
          "text": [
            "5\n"
          ]
        }
      ]
    },
    {
      "cell_type": "code",
      "source": [
        "def dort_yazdir():\n",
        "  return 4 #fonksiyonun değerine atama yapar\n",
        "\n",
        "dort_yazdir()"
      ],
      "metadata": {
        "colab": {
          "base_uri": "https://localhost:8080/"
        },
        "id": "P0rqyQT0kvQF",
        "outputId": "9b9c6195-236f-48b9-9170-8223feb23c5d"
      },
      "execution_count": 20,
      "outputs": [
        {
          "output_type": "execute_result",
          "data": {
            "text/plain": [
              "4"
            ]
          },
          "metadata": {},
          "execution_count": 20
        }
      ]
    },
    {
      "cell_type": "code",
      "source": [
        "a = bes_yazdiran() #fonksiyon çağrıldığı için 5 çıktısını verir.\n",
        "b = dort_yazdir()\n",
        "\n",
        "print(a) #None\n",
        "print(b) #4"
      ],
      "metadata": {
        "colab": {
          "base_uri": "https://localhost:8080/"
        },
        "id": "9oXkbSdcljRb",
        "outputId": "dc8f95e3-e233-484f-adb9-80f597b9717e"
      },
      "execution_count": 21,
      "outputs": [
        {
          "output_type": "stream",
          "name": "stdout",
          "text": [
            "5\n",
            "None\n",
            "4\n"
          ]
        }
      ]
    },
    {
      "cell_type": "code",
      "source": [
        "def sayi_dondur(sayi):\n",
        "  return sayi\n",
        "\n",
        "sayi_dondur(150)"
      ],
      "metadata": {
        "colab": {
          "base_uri": "https://localhost:8080/"
        },
        "id": "HII2tnT7mCVx",
        "outputId": "7e4ee0ac-0aff-42c5-9587-910a2d5bac5d"
      },
      "execution_count": 22,
      "outputs": [
        {
          "output_type": "execute_result",
          "data": {
            "text/plain": [
              "150"
            ]
          },
          "metadata": {},
          "execution_count": 22
        }
      ]
    },
    {
      "cell_type": "code",
      "source": [
        "def default_sayi_dondur(sayi = 250):\n",
        "  return sayi\n",
        "\n",
        "print(default_sayi_dondur(100))\n",
        "default_sayi_dondur()"
      ],
      "metadata": {
        "colab": {
          "base_uri": "https://localhost:8080/"
        },
        "id": "7OM60-ChmgWY",
        "outputId": "08b94cc6-9f1d-4e80-b0da-c3c985fce977"
      },
      "execution_count": 23,
      "outputs": [
        {
          "output_type": "stream",
          "name": "stdout",
          "text": [
            "100\n"
          ]
        },
        {
          "output_type": "execute_result",
          "data": {
            "text/plain": [
              "250"
            ]
          },
          "metadata": {},
          "execution_count": 23
        }
      ]
    },
    {
      "cell_type": "code",
      "source": [
        "def buyuk_sayi_dondur(sayi1, sayi2):\n",
        "  if sayi1 > sayi2:\n",
        "    return sayi1\n",
        "  elif sayi1 == sayi2:\n",
        "    return sayi1, sayi2\n",
        "  else:\n",
        "    return sayi2\n",
        "\n",
        "print(buyuk_sayi_dondur(15, 18))\n",
        "print(buyuk_sayi_dondur(12.1, 12))\n",
        "print(buyuk_sayi_dondur(19, 11))"
      ],
      "metadata": {
        "colab": {
          "base_uri": "https://localhost:8080/"
        },
        "id": "iSycbKIbmv_q",
        "outputId": "00fff140-e143-42b3-a359-92a3ee4a01ee"
      },
      "execution_count": 24,
      "outputs": [
        {
          "output_type": "stream",
          "name": "stdout",
          "text": [
            "18\n",
            "12.1\n",
            "19\n"
          ]
        }
      ]
    },
    {
      "cell_type": "code",
      "source": [
        "def metin_yazdir(a, b):\n",
        "  buyuk_sayi = buyuk_sayi_dondur(a, b)\n",
        "  sablon_metin = f\"{buyuk_sayi} daha büyük sayıdır.\"\n",
        "  print(sablon_metin)\n",
        "\n",
        "metin_yazdir(105, 87)"
      ],
      "metadata": {
        "colab": {
          "base_uri": "https://localhost:8080/"
        },
        "id": "-7OnBPNwnLCQ",
        "outputId": "bdf08754-29cf-4b24-e7c8-45c705b6526d"
      },
      "execution_count": 26,
      "outputs": [
        {
          "output_type": "stream",
          "name": "stdout",
          "text": [
            "105 daha büyük sayıdır.\n"
          ]
        }
      ]
    },
    {
      "cell_type": "code",
      "source": [
        "def isim_soyisim_ayirma(isim_soyisim):\n",
        "  isim = isim_soyisim.split()[0]\n",
        "  soyisim = isim_soyisim.split()[1]\n",
        "  return isim, soyisim"
      ],
      "metadata": {
        "id": "iTshJ7eO53eL"
      },
      "execution_count": 29,
      "outputs": []
    },
    {
      "cell_type": "code",
      "source": [
        "isim_soyisim_ayirma(\"Emre Şimşek\")"
      ],
      "metadata": {
        "colab": {
          "base_uri": "https://localhost:8080/"
        },
        "id": "POWZUdw56a5o",
        "outputId": "9a84f230-f244-4c42-8f8b-3246e88dd201"
      },
      "execution_count": 30,
      "outputs": [
        {
          "output_type": "execute_result",
          "data": {
            "text/plain": [
              "('Emre', 'Şimşek')"
            ]
          },
          "metadata": {},
          "execution_count": 30
        }
      ]
    },
    {
      "cell_type": "code",
      "source": [
        "a, b = isim_soyisim_ayirma(\"Yunus Şimşek\")"
      ],
      "metadata": {
        "id": "zXG1cz626zgq"
      },
      "execution_count": 31,
      "outputs": []
    },
    {
      "cell_type": "code",
      "source": [
        "print(a)\n",
        "print(b)"
      ],
      "metadata": {
        "colab": {
          "base_uri": "https://localhost:8080/"
        },
        "id": "rwETCrAP69Pw",
        "outputId": "de287182-5f17-4162-d5c5-7c186c7de846"
      },
      "execution_count": 33,
      "outputs": [
        {
          "output_type": "stream",
          "name": "stdout",
          "text": [
            "Yunus\n",
            "Şimşek\n"
          ]
        }
      ]
    },
    {
      "cell_type": "code",
      "source": [
        "def isim_soyisim_birlestir(isim, soyisim):\n",
        "  isim_soyisim = \" \".join([isim, soyisim])\n",
        "  return isim_soyisim"
      ],
      "metadata": {
        "id": "Evbz19Yi7Y-x"
      },
      "execution_count": 34,
      "outputs": []
    },
    {
      "cell_type": "code",
      "source": [
        "isim_soyisim_birlestir(\"Merve\", \"Şimşek\")"
      ],
      "metadata": {
        "colab": {
          "base_uri": "https://localhost:8080/",
          "height": 36
        },
        "id": "26uzZCIG7rQv",
        "outputId": "fb758fca-4abe-48e3-a150-d2237a830b62"
      },
      "execution_count": 36,
      "outputs": [
        {
          "output_type": "execute_result",
          "data": {
            "text/plain": [
              "'Merve Şimşek'"
            ],
            "application/vnd.google.colaboratory.intrinsic+json": {
              "type": "string"
            }
          },
          "metadata": {},
          "execution_count": 36
        }
      ]
    },
    {
      "cell_type": "markdown",
      "source": [
        "***args**"
      ],
      "metadata": {
        "id": "aI5qkXQG7GXa"
      }
    },
    {
      "cell_type": "code",
      "source": [
        "def isim_soyisim_birlestir3(*args): #*args daha fazla değişken alabilir\n",
        "  isim_soyisim = \" \".join(args)\n",
        "  return isim_soyisim"
      ],
      "metadata": {
        "id": "xXUV9JwI6_bH"
      },
      "execution_count": 40,
      "outputs": []
    },
    {
      "cell_type": "code",
      "source": [
        "isim_soyisim_birlestir3(\"Yunus\", \"Emre\", \"Şimşek\")"
      ],
      "metadata": {
        "colab": {
          "base_uri": "https://localhost:8080/",
          "height": 36
        },
        "id": "wGqNW45r8Qw3",
        "outputId": "fd42ba22-9661-406a-aca2-133e038f3e1f"
      },
      "execution_count": 41,
      "outputs": [
        {
          "output_type": "execute_result",
          "data": {
            "text/plain": [
              "'Yunus Emre Şimşek'"
            ],
            "application/vnd.google.colaboratory.intrinsic+json": {
              "type": "string"
            }
          },
          "metadata": {},
          "execution_count": 41
        }
      ]
    },
    {
      "cell_type": "markdown",
      "source": [
        "****kwargs**"
      ],
      "metadata": {
        "id": "GhVlvwk98nzx"
      }
    },
    {
      "cell_type": "code",
      "source": [
        "def gobek_adi_yazdir(**kwargs):\n",
        "  if \"gobek_adi\" in kwargs:\n",
        "    print(kwargs[\"gobek_adi\"])\n",
        "  else:\n",
        "    print(\"gobek_adi yok\")"
      ],
      "metadata": {
        "id": "WC5dRGxx8XGR"
      },
      "execution_count": 42,
      "outputs": []
    },
    {
      "cell_type": "code",
      "source": [
        "gobek_adi_yazdir(ad = \"Emre\", gobek_adi = \"Yunus\", soyad = \"Şimşek\")"
      ],
      "metadata": {
        "colab": {
          "base_uri": "https://localhost:8080/"
        },
        "id": "JGWkDFAn9VLJ",
        "outputId": "0a50afa3-8418-4d09-dee6-40bc8831acc0"
      },
      "execution_count": 43,
      "outputs": [
        {
          "output_type": "stream",
          "name": "stdout",
          "text": [
            "Yunus\n"
          ]
        }
      ]
    },
    {
      "cell_type": "code",
      "source": [
        "gobek_adi_yazdir(ad = \"Emre\", soyad = \"Şimşek\")"
      ],
      "metadata": {
        "colab": {
          "base_uri": "https://localhost:8080/"
        },
        "id": "qUt8BL1P9dXE",
        "outputId": "3bfead98-64bf-440e-da81-f965ec5e0ed2"
      },
      "execution_count": 44,
      "outputs": [
        {
          "output_type": "stream",
          "name": "stdout",
          "text": [
            "gobek_adi yok\n"
          ]
        }
      ]
    },
    {
      "cell_type": "code",
      "source": [],
      "metadata": {
        "id": "tQDj_RCP9f-D"
      },
      "execution_count": null,
      "outputs": []
    }
  ]
}