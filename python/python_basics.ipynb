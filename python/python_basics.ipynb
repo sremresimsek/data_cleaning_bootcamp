{
  "nbformat": 4,
  "nbformat_minor": 0,
  "metadata": {
    "colab": {
      "provenance": []
    },
    "kernelspec": {
      "name": "python3",
      "display_name": "Python 3"
    },
    "language_info": {
      "name": "python"
    }
  },
  "cells": [
    {
      "cell_type": "code",
      "execution_count": 3,
      "metadata": {
        "colab": {
          "base_uri": "https://localhost:8080/"
        },
        "id": "ctT55i5eNNTT",
        "outputId": "ee738cbd-7eca-4e0b-83f9-3595f447dca1"
      },
      "outputs": [
        {
          "output_type": "stream",
          "name": "stdout",
          "text": [
            "['a', 'b', 'c', 'd', 'e', 'a']\n"
          ]
        }
      ],
      "source": [
        "liste = [\"a\", \"b\", \"c\", \"d\", \"e\", \"a\"]\n",
        "print(liste)"
      ]
    },
    {
      "cell_type": "code",
      "source": [
        "liste = liste + [\"m\"]\n",
        "print(liste)"
      ],
      "metadata": {
        "colab": {
          "base_uri": "https://localhost:8080/"
        },
        "id": "fWqHV1TXN1jT",
        "outputId": "ef96ac64-9629-4f55-9431-0d81f3f992d9"
      },
      "execution_count": 6,
      "outputs": [
        {
          "output_type": "stream",
          "name": "stdout",
          "text": [
            "['a', 'b', 'c', 'd', 'e', 'a', 'm', 'm']\n"
          ]
        }
      ]
    },
    {
      "cell_type": "code",
      "source": [
        "liste[3: 5]"
      ],
      "metadata": {
        "colab": {
          "base_uri": "https://localhost:8080/"
        },
        "id": "v9wg3bIkOU6K",
        "outputId": "998f6131-9f3e-43ac-fa9b-77235770b0cd"
      },
      "execution_count": 7,
      "outputs": [
        {
          "output_type": "execute_result",
          "data": {
            "text/plain": [
              "['d', 'e']"
            ]
          },
          "metadata": {},
          "execution_count": 7
        }
      ]
    },
    {
      "cell_type": "code",
      "source": [
        "liste.pop()"
      ],
      "metadata": {
        "colab": {
          "base_uri": "https://localhost:8080/",
          "height": 36
        },
        "id": "Ar2mKAEYOusV",
        "outputId": "ce3dd219-8382-4461-a4b4-eb2a04c473cc"
      },
      "execution_count": 8,
      "outputs": [
        {
          "output_type": "execute_result",
          "data": {
            "text/plain": [
              "'m'"
            ],
            "application/vnd.google.colaboratory.intrinsic+json": {
              "type": "string"
            }
          },
          "metadata": {},
          "execution_count": 8
        }
      ]
    },
    {
      "cell_type": "code",
      "source": [
        "liste"
      ],
      "metadata": {
        "colab": {
          "base_uri": "https://localhost:8080/"
        },
        "id": "97zGT0OyO15a",
        "outputId": "840ab9f5-5072-446f-89a7-eeffca1cd693"
      },
      "execution_count": 9,
      "outputs": [
        {
          "output_type": "execute_result",
          "data": {
            "text/plain": [
              "['a', 'b', 'c', 'd', 'e', 'a', 'm']"
            ]
          },
          "metadata": {},
          "execution_count": 9
        }
      ]
    },
    {
      "cell_type": "code",
      "source": [
        "liste.append(\"g\")\n",
        "liste"
      ],
      "metadata": {
        "colab": {
          "base_uri": "https://localhost:8080/"
        },
        "id": "bRAL79n-O25N",
        "outputId": "a0e0f9e2-2eff-41a8-e0c0-617217fdc6dc"
      },
      "execution_count": 10,
      "outputs": [
        {
          "output_type": "execute_result",
          "data": {
            "text/plain": [
              "['a', 'b', 'c', 'd', 'e', 'a', 'm', 'g']"
            ]
          },
          "metadata": {},
          "execution_count": 10
        }
      ]
    },
    {
      "cell_type": "code",
      "source": [
        "#soneleman = liste.pop() #bu şekilde yazılırsa listeden atılan son elemanı oluşturduğumuz değişkere atama yapar."
      ],
      "metadata": {
        "id": "VjhY4OjfO70z"
      },
      "execution_count": 11,
      "outputs": []
    },
    {
      "cell_type": "code",
      "source": [
        "liste.pop(3) #3. indexteki elemanı atar"
      ],
      "metadata": {
        "colab": {
          "base_uri": "https://localhost:8080/",
          "height": 36
        },
        "id": "K2rcIMGmPHtK",
        "outputId": "cdeb4bcd-1138-461a-d494-308c614e2987"
      },
      "execution_count": 12,
      "outputs": [
        {
          "output_type": "execute_result",
          "data": {
            "text/plain": [
              "'d'"
            ],
            "application/vnd.google.colaboratory.intrinsic+json": {
              "type": "string"
            }
          },
          "metadata": {},
          "execution_count": 12
        }
      ]
    },
    {
      "cell_type": "code",
      "source": [
        "sayilar = [123, 4324, 5423, 12215, 1214231, 323]"
      ],
      "metadata": {
        "id": "5I2OO62rPm7B"
      },
      "execution_count": 13,
      "outputs": []
    },
    {
      "cell_type": "code",
      "source": [
        "sayilar.sort()"
      ],
      "metadata": {
        "id": "85NgY054PsHq"
      },
      "execution_count": 14,
      "outputs": []
    },
    {
      "cell_type": "code",
      "source": [
        "sayilar"
      ],
      "metadata": {
        "colab": {
          "base_uri": "https://localhost:8080/"
        },
        "id": "3IkxrxTDPvHJ",
        "outputId": "920380c9-c637-44eb-d87a-3c09e26b7343"
      },
      "execution_count": 15,
      "outputs": [
        {
          "output_type": "execute_result",
          "data": {
            "text/plain": [
              "[123, 323, 4324, 5423, 12215, 1214231]"
            ]
          },
          "metadata": {},
          "execution_count": 15
        }
      ]
    },
    {
      "cell_type": "code",
      "source": [
        "sayilar.reverse()\n",
        "sayilar"
      ],
      "metadata": {
        "colab": {
          "base_uri": "https://localhost:8080/"
        },
        "id": "lVRBa_XrPv_G",
        "outputId": "6c7fcbf8-30c9-4627-f096-9a7f7d112051"
      },
      "execution_count": 16,
      "outputs": [
        {
          "output_type": "execute_result",
          "data": {
            "text/plain": [
              "[1214231, 12215, 5423, 4324, 323, 123]"
            ]
          },
          "metadata": {},
          "execution_count": 16
        }
      ]
    },
    {
      "cell_type": "code",
      "source": [
        "set(sayilar) #birden fazla aynı eleman varsa onu 1 defa yazar ve bunu set olarak atama yapar."
      ],
      "metadata": {
        "colab": {
          "base_uri": "https://localhost:8080/"
        },
        "id": "_Y3USqZ8P10v",
        "outputId": "93b42512-4659-4db4-8778-6aee872ea1ee"
      },
      "execution_count": 17,
      "outputs": [
        {
          "output_type": "execute_result",
          "data": {
            "text/plain": [
              "{123, 323, 4324, 5423, 12215, 1214231}"
            ]
          },
          "metadata": {},
          "execution_count": 17
        }
      ]
    },
    {
      "cell_type": "code",
      "source": [
        "type(set(sayilar))"
      ],
      "metadata": {
        "colab": {
          "base_uri": "https://localhost:8080/"
        },
        "id": "-vIYzmnAQAcm",
        "outputId": "f80e11a9-3d21-448f-eb30-77d90d5b4400"
      },
      "execution_count": 21,
      "outputs": [
        {
          "output_type": "execute_result",
          "data": {
            "text/plain": [
              "set"
            ]
          },
          "metadata": {},
          "execution_count": 21
        }
      ]
    },
    {
      "cell_type": "markdown",
      "source": [
        "**Tuple**"
      ],
      "metadata": {
        "id": "kaWklTzOQWTH"
      }
    },
    {
      "cell_type": "code",
      "source": [
        "liste = ['a', 'b', 'c', 'd', 'e', 'a'] #değiştirilebilir\n",
        "print(liste)\n",
        "tup = ('a', 'b', 'c', 'd', 'e', 'a') #değiştirilemez\n",
        "print(tup)"
      ],
      "metadata": {
        "colab": {
          "base_uri": "https://localhost:8080/"
        },
        "id": "5fL0YQG7QC8U",
        "outputId": "44d087f6-18b1-4b1b-8f73-fb0f7e9f684e"
      },
      "execution_count": 23,
      "outputs": [
        {
          "output_type": "stream",
          "name": "stdout",
          "text": [
            "['a', 'b', 'c', 'd', 'e', 'a']\n",
            "('a', 'b', 'c', 'd', 'e', 'a')\n"
          ]
        }
      ]
    },
    {
      "cell_type": "code",
      "source": [
        "liste[0] = 12312\n",
        "liste"
      ],
      "metadata": {
        "colab": {
          "base_uri": "https://localhost:8080/"
        },
        "id": "seeNbov0QzI7",
        "outputId": "a9392634-1a64-4668-fefd-c3b5d1ce2c32"
      },
      "execution_count": 24,
      "outputs": [
        {
          "output_type": "execute_result",
          "data": {
            "text/plain": [
              "[12312, 'b', 'c', 'd', 'e', 'a']"
            ]
          },
          "metadata": {},
          "execution_count": 24
        }
      ]
    },
    {
      "cell_type": "code",
      "source": [
        "tup[0] = 12312 #kod hata verir çünkü tuple verileri değiştirilemez\n",
        "tup"
      ],
      "metadata": {
        "id": "jc-BXphnQ8j9"
      },
      "execution_count": null,
      "outputs": []
    },
    {
      "cell_type": "code",
      "source": [
        "tup.count('a')"
      ],
      "metadata": {
        "colab": {
          "base_uri": "https://localhost:8080/"
        },
        "id": "WUjaW_EsRKXw",
        "outputId": "72edb0e7-e258-4eae-a7e4-772867862e65"
      },
      "execution_count": 27,
      "outputs": [
        {
          "output_type": "execute_result",
          "data": {
            "text/plain": [
              "2"
            ]
          },
          "metadata": {},
          "execution_count": 27
        }
      ]
    },
    {
      "cell_type": "code",
      "source": [
        "tup.index('e') #iki aynı eleman varsa ilk elemanın indexini verir"
      ],
      "metadata": {
        "colab": {
          "base_uri": "https://localhost:8080/"
        },
        "id": "BhO9mle3RN4F",
        "outputId": "b3e899ee-b5bb-44ab-85ee-226af3c881bb"
      },
      "execution_count": 32,
      "outputs": [
        {
          "output_type": "execute_result",
          "data": {
            "text/plain": [
              "4"
            ]
          },
          "metadata": {},
          "execution_count": 32
        }
      ]
    },
    {
      "cell_type": "markdown",
      "source": [
        "**Dictionary**"
      ],
      "metadata": {
        "id": "R_ghULphWDWV"
      }
    },
    {
      "cell_type": "code",
      "source": [
        "dict1 = {'isim' : 'Mesut', 'yas' : 32, 'lokasyon' : 'Berlin'}\n",
        "dict1"
      ],
      "metadata": {
        "colab": {
          "base_uri": "https://localhost:8080/"
        },
        "id": "KGgAw9xlRRs0",
        "outputId": "98992fc9-739a-4981-ac3b-7be320b9b00d"
      },
      "execution_count": 33,
      "outputs": [
        {
          "output_type": "execute_result",
          "data": {
            "text/plain": [
              "{'isim': 'Mesut', 'yas': 32, 'lokasyon': 'Berlin'}"
            ]
          },
          "metadata": {},
          "execution_count": 33
        }
      ]
    },
    {
      "cell_type": "code",
      "source": [
        "dict2 = {\n",
        "    'isim' : 'Mesut',\n",
        "    'yas' : 32,\n",
        "    'doğduğu sehir' : 'Istanbul',\n",
        "    'lokasyon' : 'Berlin'\n",
        "}\n",
        "dict2"
      ],
      "metadata": {
        "colab": {
          "base_uri": "https://localhost:8080/"
        },
        "id": "PMzaPtS0Wfmq",
        "outputId": "01586067-8b9b-4fc8-e63e-dbec0130899c"
      },
      "execution_count": 42,
      "outputs": [
        {
          "output_type": "execute_result",
          "data": {
            "text/plain": [
              "{'isim': 'Mesut', 'yas': 32, 'doğduğu sehir': 'Istanbul', 'lokasyon': 'Berlin'}"
            ]
          },
          "metadata": {},
          "execution_count": 42
        }
      ]
    },
    {
      "cell_type": "code",
      "source": [
        "dict3 = {\n",
        "    \"isim\" : \"Emre\",\n",
        "    \"yas\" : 21,\n",
        "    \"doğduğu sehir\" : \"Şanlıurfa\",\n",
        "    \"Bildiği diller ve öğrenme yılları\" : {\n",
        "        \"C#\" : 2024,\n",
        "        \"Python\" : 2025\n",
        "    }\n",
        "}\n",
        "dict3"
      ],
      "metadata": {
        "colab": {
          "base_uri": "https://localhost:8080/"
        },
        "id": "kr6PeTnyWtCn",
        "outputId": "71edb0e0-f556-4cfa-90bf-0439f869ef65"
      },
      "execution_count": 44,
      "outputs": [
        {
          "output_type": "execute_result",
          "data": {
            "text/plain": [
              "{'isim': 'Emre',\n",
              " 'yas': 21,\n",
              " 'doğduğu sehir': 'Şanlıurfa',\n",
              " 'Bildiği diller ve öğrenme yılları': {'C#': 2024, 'Python': 2025}}"
            ]
          },
          "metadata": {},
          "execution_count": 44
        }
      ]
    },
    {
      "cell_type": "code",
      "source": [
        "dict3[\"yas\"]"
      ],
      "metadata": {
        "colab": {
          "base_uri": "https://localhost:8080/"
        },
        "id": "N1ql8RZJXcMF",
        "outputId": "bea74d7e-2cd6-4930-b6ac-a4157453ed45"
      },
      "execution_count": 45,
      "outputs": [
        {
          "output_type": "execute_result",
          "data": {
            "text/plain": [
              "21"
            ]
          },
          "metadata": {},
          "execution_count": 45
        }
      ]
    },
    {
      "cell_type": "code",
      "source": [
        "dict3[\"Bildiği diller ve öğrenme yılları\"][\"Python\"]"
      ],
      "metadata": {
        "colab": {
          "base_uri": "https://localhost:8080/"
        },
        "id": "Q0l12zu3YQ2V",
        "outputId": "efb2bed2-7d54-44ba-f6b3-f5a578d45f7e"
      },
      "execution_count": 47,
      "outputs": [
        {
          "output_type": "execute_result",
          "data": {
            "text/plain": [
              "2025"
            ]
          },
          "metadata": {},
          "execution_count": 47
        }
      ]
    },
    {
      "cell_type": "code",
      "source": [
        "dict3.get(\"isim\")"
      ],
      "metadata": {
        "colab": {
          "base_uri": "https://localhost:8080/",
          "height": 36
        },
        "id": "Ioz8BfkLYcsF",
        "outputId": "671d7b42-23c6-460a-81d1-2c9f7567c4a6"
      },
      "execution_count": 48,
      "outputs": [
        {
          "output_type": "execute_result",
          "data": {
            "text/plain": [
              "'Emre'"
            ],
            "application/vnd.google.colaboratory.intrinsic+json": {
              "type": "string"
            }
          },
          "metadata": {},
          "execution_count": 48
        }
      ]
    },
    {
      "cell_type": "code",
      "source": [
        "dict3.keys()"
      ],
      "metadata": {
        "colab": {
          "base_uri": "https://localhost:8080/"
        },
        "id": "EyRaKiewYk_e",
        "outputId": "08bf992a-c4a0-4556-fcba-6aca09c6a412"
      },
      "execution_count": 49,
      "outputs": [
        {
          "output_type": "execute_result",
          "data": {
            "text/plain": [
              "dict_keys(['isim', 'yas', 'doğduğu sehir', 'Bildiği diller ve öğrenme yılları'])"
            ]
          },
          "metadata": {},
          "execution_count": 49
        }
      ]
    },
    {
      "cell_type": "code",
      "source": [
        "dict3.values()"
      ],
      "metadata": {
        "colab": {
          "base_uri": "https://localhost:8080/"
        },
        "id": "y2IShvCZYyjw",
        "outputId": "1e7ea0d5-90d6-4ad8-eaaf-3b0d5dbf5d93"
      },
      "execution_count": 51,
      "outputs": [
        {
          "output_type": "execute_result",
          "data": {
            "text/plain": [
              "dict_values(['Emre', 21, 'Şanlıurfa', {'C#': 2024, 'Python': 2025}])"
            ]
          },
          "metadata": {},
          "execution_count": 51
        }
      ]
    },
    {
      "cell_type": "code",
      "source": [
        "dict3.items()"
      ],
      "metadata": {
        "colab": {
          "base_uri": "https://localhost:8080/"
        },
        "id": "SdvcllynYtA3",
        "outputId": "98d5af20-4d70-4118-8b40-dacc366730b1"
      },
      "execution_count": 52,
      "outputs": [
        {
          "output_type": "execute_result",
          "data": {
            "text/plain": [
              "dict_items([('isim', 'Emre'), ('yas', 21), ('doğduğu sehir', 'Şanlıurfa'), ('Bildiği diller ve öğrenme yılları', {'C#': 2024, 'Python': 2025})])"
            ]
          },
          "metadata": {},
          "execution_count": 52
        }
      ]
    },
    {
      "cell_type": "code",
      "source": [
        "type(dict3)"
      ],
      "metadata": {
        "colab": {
          "base_uri": "https://localhost:8080/"
        },
        "id": "Y80LVY60Yvu5",
        "outputId": "8c6dfa95-6790-4a3c-d0bc-1832c1304a5e"
      },
      "execution_count": 53,
      "outputs": [
        {
          "output_type": "execute_result",
          "data": {
            "text/plain": [
              "dict"
            ]
          },
          "metadata": {},
          "execution_count": 53
        }
      ]
    }
  ]
}