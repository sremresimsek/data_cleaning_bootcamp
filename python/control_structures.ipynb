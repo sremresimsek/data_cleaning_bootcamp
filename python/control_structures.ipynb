{
  "nbformat": 4,
  "nbformat_minor": 0,
  "metadata": {
    "colab": {
      "provenance": []
    },
    "kernelspec": {
      "name": "python3",
      "display_name": "Python 3"
    },
    "language_info": {
      "name": "python"
    }
  },
  "cells": [
    {
      "cell_type": "markdown",
      "source": [
        "***For ve If***"
      ],
      "metadata": {
        "id": "3YBvNvdV3eQP"
      }
    },
    {
      "cell_type": "code",
      "execution_count": null,
      "metadata": {
        "id": "Evsomrzikg0b"
      },
      "outputs": [],
      "source": [
        "liste = [\"mitsuri\", \"gyomei\", \"giyu\", \"rengoku\", \"akaza\"]"
      ]
    },
    {
      "cell_type": "code",
      "source": [
        "for kullanici in liste:\n",
        "  print(kullanici)"
      ],
      "metadata": {
        "colab": {
          "base_uri": "https://localhost:8080/"
        },
        "id": "y2EmHZWBrOKE",
        "outputId": "3af8f37a-6114-4fba-8d24-85b0f8763aae"
      },
      "execution_count": null,
      "outputs": [
        {
          "output_type": "stream",
          "name": "stdout",
          "text": [
            "mitsuri\n",
            "gyomei\n",
            "giyu\n",
            "rengoku\n",
            "akaza\n"
          ]
        }
      ]
    },
    {
      "cell_type": "code",
      "source": [
        "kullanici_sayisi = 0\n",
        "for kullanici in liste:\n",
        "  kullanici_sayisi += 1\n",
        "  print(kullanici_sayisi, \" \", kullanici)"
      ],
      "metadata": {
        "colab": {
          "base_uri": "https://localhost:8080/"
        },
        "id": "HuCpDLGkrYxS",
        "outputId": "76e27bf0-b40c-4a1e-a568-191f9355ed43"
      },
      "execution_count": null,
      "outputs": [
        {
          "output_type": "stream",
          "name": "stdout",
          "text": [
            "1   mitsuri\n",
            "2   gyomei\n",
            "3   giyu\n",
            "4   rengoku\n",
            "5   akaza\n"
          ]
        }
      ]
    },
    {
      "cell_type": "code",
      "source": [
        "kullanicilar = [\"muzan kibutsuji\", \"iguro obanai\", \"tanjiro kamado\"]\n",
        "demon = \"kibutsuji muzan\"\n",
        "kullanici_sayisi = 0\n",
        "demon_sayisi = 0\n",
        "for kullanici in kullanicilar:\n",
        "  ad, soyad = kullanici.split()[0], kullanici.split()[1]\n",
        "\n",
        "  if (kullanici == demon):\n",
        "    demon_sayisi += 1\n",
        "    print(f\"{demon_sayisi}. demonun adı: {ad}, soyadı: {soyad}\")\n",
        "  else:\n",
        "    kullanici_sayisi += 1\n",
        "    print(f\"{kullanici_sayisi}. hashira adı: {ad}, soyadı: {soyad}\")"
      ],
      "metadata": {
        "colab": {
          "base_uri": "https://localhost:8080/"
        },
        "id": "ea88GWHRroS-",
        "outputId": "629673c2-148f-4bd5-97c3-5d1231426453"
      },
      "execution_count": null,
      "outputs": [
        {
          "output_type": "stream",
          "name": "stdout",
          "text": [
            "1. hashira adı: muzan, soyadı: kibutsuji\n",
            "2. hashira adı: iguro, soyadı: obanai\n",
            "3. hashira adı: tanjiro, soyadı: kamado\n"
          ]
        }
      ]
    },
    {
      "cell_type": "code",
      "source": [
        "liste = [[1, 3], [2, 4]]\n",
        "\n",
        "for x,y in liste:\n",
        "  print(y)"
      ],
      "metadata": {
        "colab": {
          "base_uri": "https://localhost:8080/"
        },
        "id": "8c_fPfTr09jc",
        "outputId": "4651cc9c-073b-4e61-c9a9-bdfd082bd73a"
      },
      "execution_count": null,
      "outputs": [
        {
          "output_type": "stream",
          "name": "stdout",
          "text": [
            "3\n",
            "4\n"
          ]
        }
      ]
    },
    {
      "cell_type": "code",
      "source": [
        "liste1 = [[1, 2, 3], [4, 5, 6], [\"a\", \"b\", \"c\"]]\n",
        "\n",
        "for x, y, z in liste1:\n",
        "  print(z)"
      ],
      "metadata": {
        "colab": {
          "base_uri": "https://localhost:8080/"
        },
        "id": "YGb0df4T1GQP",
        "outputId": "62a79cf3-db60-40d9-f8c4-1712bb00ddbd"
      },
      "execution_count": null,
      "outputs": [
        {
          "output_type": "stream",
          "name": "stdout",
          "text": [
            "3\n",
            "6\n",
            "c\n"
          ]
        }
      ]
    },
    {
      "cell_type": "code",
      "source": [
        "liste3 = [[1, 2], [3, 4]]\n",
        "\n",
        "for x,y in liste:\n",
        "  print(x * y) #1 ile 3, 2 ile 4 çarpılır"
      ],
      "metadata": {
        "colab": {
          "base_uri": "https://localhost:8080/"
        },
        "id": "Xxlj9nN21YGi",
        "outputId": "10ef813c-d07d-46fe-f940-8fcb37693dd8"
      },
      "execution_count": null,
      "outputs": [
        {
          "output_type": "stream",
          "name": "stdout",
          "text": [
            "3\n",
            "8\n"
          ]
        }
      ]
    },
    {
      "cell_type": "code",
      "source": [
        "isimSoyisim = {\n",
        "    \"ad\" : \"Emre\",\n",
        "    \"soyadı\" : \"Şimşek\"\n",
        "}\n",
        "isimSoyisim"
      ],
      "metadata": {
        "colab": {
          "base_uri": "https://localhost:8080/"
        },
        "id": "p9J539pH1ti9",
        "outputId": "50211c89-10ed-4e53-9834-d0f7e13fd34f"
      },
      "execution_count": null,
      "outputs": [
        {
          "output_type": "execute_result",
          "data": {
            "text/plain": [
              "{'ad': 'Emre', 'soyadı': 'Şimşek'}"
            ]
          },
          "metadata": {},
          "execution_count": 28
        }
      ]
    },
    {
      "cell_type": "code",
      "source": [
        "for k, v in isimSoyisim.items(): # .items() dicti listeye çevirir.\n",
        "  print(f\"Keys : {k} \\n Values : {v}\")"
      ],
      "metadata": {
        "colab": {
          "base_uri": "https://localhost:8080/"
        },
        "id": "v88Ijpdp2K8y",
        "outputId": "43e9f174-5e6f-4906-e407-a6f868ee1ad4"
      },
      "execution_count": null,
      "outputs": [
        {
          "output_type": "stream",
          "name": "stdout",
          "text": [
            "Keys : ad \n",
            " Values : Emre\n",
            "Keys : soyadı \n",
            " Values : Şimşek\n"
          ]
        }
      ]
    },
    {
      "cell_type": "markdown",
      "source": [
        "***While***"
      ],
      "metadata": {
        "id": "PIK-VSxL3j0L"
      }
    },
    {
      "cell_type": "code",
      "source": [
        "x = 0\n",
        "\n",
        "while x < 10:\n",
        "  print(f\"{x} değeri 10'dan küçüktür.\")\n",
        "  x += 1"
      ],
      "metadata": {
        "id": "Ge8gCpPl3lhl",
        "colab": {
          "base_uri": "https://localhost:8080/"
        },
        "outputId": "053cb78c-7d98-4eda-e950-eb43a67f7a50"
      },
      "execution_count": 5,
      "outputs": [
        {
          "output_type": "stream",
          "name": "stdout",
          "text": [
            "0 değeri 10'dan küçüktür.\n",
            "1 değeri 10'dan küçüktür.\n",
            "2 değeri 10'dan küçüktür.\n",
            "3 değeri 10'dan küçüktür.\n",
            "4 değeri 10'dan küçüktür.\n",
            "5 değeri 10'dan küçüktür.\n",
            "6 değeri 10'dan küçüktür.\n",
            "7 değeri 10'dan küçüktür.\n",
            "8 değeri 10'dan küçüktür.\n",
            "9 değeri 10'dan küçüktür.\n"
          ]
        }
      ]
    },
    {
      "cell_type": "code",
      "source": [
        "x = 0\n",
        "while x < 10:\n",
        "  print(f\"{x} değeri 10'dan küçüktür.\")\n",
        "  x += 1\n",
        "else:\n",
        "  print(f\"{x} değeri 10'dan küçük değildir.\")"
      ],
      "metadata": {
        "colab": {
          "base_uri": "https://localhost:8080/"
        },
        "id": "M82ab_XTZaFQ",
        "outputId": "38004de5-4ddf-4c04-f5a3-aeec8225b7d5"
      },
      "execution_count": 9,
      "outputs": [
        {
          "output_type": "stream",
          "name": "stdout",
          "text": [
            "0 değeri 10'dan küçüktür.\n",
            "1 değeri 10'dan küçüktür.\n",
            "2 değeri 10'dan küçüktür.\n",
            "3 değeri 10'dan küçüktür.\n",
            "4 değeri 10'dan küçüktür.\n",
            "5 değeri 10'dan küçüktür.\n",
            "6 değeri 10'dan küçüktür.\n",
            "7 değeri 10'dan küçüktür.\n",
            "8 değeri 10'dan küçüktür.\n",
            "9 değeri 10'dan küçüktür.\n",
            "10 değeri 10'dan küçük değildir.\n"
          ]
        }
      ]
    },
    {
      "cell_type": "code",
      "source": [
        "#faktöriyel\n",
        "\n",
        "sayi = int(input())\n",
        "sonuc = 1\n",
        "orijinal_sayi = sayi # Orijinal sayıyı sakla\n",
        "\n",
        "while sayi > 0:\n",
        "  sonuc *= sayi\n",
        "  sayi -= 1\n",
        "\n",
        "print(f\"{orijinal_sayi} sayısının faktöriyeli = {sonuc}\")"
      ],
      "metadata": {
        "colab": {
          "base_uri": "https://localhost:8080/"
        },
        "id": "J5wEANKxaFI1",
        "outputId": "7da6250a-4bb5-4f80-c870-cc8b75e9d5fc"
      },
      "execution_count": 18,
      "outputs": [
        {
          "output_type": "stream",
          "name": "stdout",
          "text": [
            "5\n",
            "5 sayısının faktöriyeli = 120\n"
          ]
        }
      ]
    },
    {
      "cell_type": "markdown",
      "source": [
        "**range**"
      ],
      "metadata": {
        "id": "rfJKCdfYcdlP"
      }
    },
    {
      "cell_type": "code",
      "source": [
        "list(range(10))"
      ],
      "metadata": {
        "colab": {
          "base_uri": "https://localhost:8080/"
        },
        "id": "mS9GsWKba7st",
        "outputId": "3aefd41e-1149-4006-d501-22485081a2cc"
      },
      "execution_count": 21,
      "outputs": [
        {
          "output_type": "execute_result",
          "data": {
            "text/plain": [
              "[0, 1, 2, 3, 4, 5, 6, 7, 8, 9]"
            ]
          },
          "metadata": {},
          "execution_count": 21
        }
      ]
    },
    {
      "cell_type": "code",
      "source": [
        "[*range(10)]"
      ],
      "metadata": {
        "colab": {
          "base_uri": "https://localhost:8080/"
        },
        "id": "5g5Fjp8ccgVa",
        "outputId": "be82bb9b-8984-4c37-e0ea-2e5f2337106a"
      },
      "execution_count": 22,
      "outputs": [
        {
          "output_type": "execute_result",
          "data": {
            "text/plain": [
              "[0, 1, 2, 3, 4, 5, 6, 7, 8, 9]"
            ]
          },
          "metadata": {},
          "execution_count": 22
        }
      ]
    },
    {
      "cell_type": "code",
      "source": [
        "list(range(2, 7)) #2 dahil, 7 dahil değil."
      ],
      "metadata": {
        "colab": {
          "base_uri": "https://localhost:8080/"
        },
        "id": "0mNP9VnkczEj",
        "outputId": "fbd00c23-a1d6-43a2-d916-ac9aa74958bf"
      },
      "execution_count": 24,
      "outputs": [
        {
          "output_type": "execute_result",
          "data": {
            "text/plain": [
              "[2, 3, 4, 5, 6]"
            ]
          },
          "metadata": {},
          "execution_count": 24
        }
      ]
    },
    {
      "cell_type": "code",
      "source": [
        "list(range(2, 12, 3))"
      ],
      "metadata": {
        "colab": {
          "base_uri": "https://localhost:8080/"
        },
        "id": "iA3A8-lKc3i9",
        "outputId": "e969792d-920b-4030-bc12-ea11ef36e94a"
      },
      "execution_count": 25,
      "outputs": [
        {
          "output_type": "execute_result",
          "data": {
            "text/plain": [
              "[2, 5, 8, 11]"
            ]
          },
          "metadata": {},
          "execution_count": 25
        }
      ]
    },
    {
      "cell_type": "code",
      "source": [
        "for sayi in range(10):\n",
        "  print(sayi)"
      ],
      "metadata": {
        "colab": {
          "base_uri": "https://localhost:8080/"
        },
        "id": "k6VtmmqhdCd2",
        "outputId": "a0271538-147e-417c-e286-37ef121fe295"
      },
      "execution_count": 27,
      "outputs": [
        {
          "output_type": "stream",
          "name": "stdout",
          "text": [
            "0\n",
            "1\n",
            "2\n",
            "3\n",
            "4\n",
            "5\n",
            "6\n",
            "7\n",
            "8\n",
            "9\n"
          ]
        }
      ]
    },
    {
      "cell_type": "code",
      "source": [
        "for sayi in range(16):\n",
        "  if sayi % 3 == 0:\n",
        "    print(sayi)"
      ],
      "metadata": {
        "colab": {
          "base_uri": "https://localhost:8080/"
        },
        "id": "8vLoBQWKdHyR",
        "outputId": "4a3f4b7f-f04f-4fcd-c53a-22574cc0c5af"
      },
      "execution_count": 29,
      "outputs": [
        {
          "output_type": "stream",
          "name": "stdout",
          "text": [
            "0\n",
            "3\n",
            "6\n",
            "9\n",
            "12\n",
            "15\n"
          ]
        }
      ]
    },
    {
      "cell_type": "markdown",
      "source": [
        "**enumerate**"
      ],
      "metadata": {
        "id": "bPHrYCcXdcq5"
      }
    },
    {
      "cell_type": "code",
      "source": [
        "harfler = [\"a\", \"b\", \"c\", \"d\", \"e\"]\n",
        "\n",
        "for harf in enumerate(harfler):\n",
        "  print(harf)"
      ],
      "metadata": {
        "colab": {
          "base_uri": "https://localhost:8080/"
        },
        "id": "jDI_ZpPodY1Z",
        "outputId": "ac0771a5-e74e-4e98-d350-317a9b305fd9"
      },
      "execution_count": 30,
      "outputs": [
        {
          "output_type": "stream",
          "name": "stdout",
          "text": [
            "(0, 'a')\n",
            "(1, 'b')\n",
            "(2, 'c')\n",
            "(3, 'd')\n",
            "(4, 'e')\n"
          ]
        }
      ]
    },
    {
      "cell_type": "code",
      "source": [
        "for index, harf in enumerate(harfler):\n",
        "  print(f\"{index + 1}. harf \\t {harf}\")"
      ],
      "metadata": {
        "colab": {
          "base_uri": "https://localhost:8080/"
        },
        "id": "uuRY2sjGdydA",
        "outputId": "e8f04fdb-47c9-4fbd-c4b7-3101280572a7"
      },
      "execution_count": 41,
      "outputs": [
        {
          "output_type": "stream",
          "name": "stdout",
          "text": [
            "1. harf \t a\n",
            "2. harf \t b\n",
            "3. harf \t c\n",
            "4. harf \t d\n",
            "5. harf \t e\n"
          ]
        }
      ]
    },
    {
      "cell_type": "markdown",
      "source": [
        "**zip**"
      ],
      "metadata": {
        "id": "HKdGWw-7egoe"
      }
    },
    {
      "cell_type": "code",
      "source": [
        "ulkeler = [\"tr\", \"fr\", \"eng\", \"de\"]\n",
        "siralamalar = range(1, 5)\n",
        "\n",
        "for ulke in zip(ulkeler, siralamalar):\n",
        "  print(ulke)"
      ],
      "metadata": {
        "colab": {
          "base_uri": "https://localhost:8080/"
        },
        "id": "Aju4-rHReAmJ",
        "outputId": "9f6bae50-3cce-4dba-fa1b-bf4744aef385"
      },
      "execution_count": 43,
      "outputs": [
        {
          "output_type": "stream",
          "name": "stdout",
          "text": [
            "('tr', 1)\n",
            "('fr', 2)\n",
            "('eng', 3)\n",
            "('de', 4)\n"
          ]
        }
      ]
    },
    {
      "cell_type": "markdown",
      "source": [
        "**break**"
      ],
      "metadata": {
        "id": "k7H4if4RfGgJ"
      }
    },
    {
      "cell_type": "code",
      "source": [
        "harfler = [\"a\", \"b\", \"c\", \"d\", \"e\"] * 3\n",
        "\n",
        "for index, harf in enumerate(harfler):\n",
        "  if harf == \"c\":\n",
        "    print(f\"{index}. indexteki harf {harf}\")"
      ],
      "metadata": {
        "colab": {
          "base_uri": "https://localhost:8080/"
        },
        "id": "ANvd952oevZb",
        "outputId": "234ef5fb-1c89-4c2e-9e6c-333d869b571e"
      },
      "execution_count": 52,
      "outputs": [
        {
          "output_type": "stream",
          "name": "stdout",
          "text": [
            "2. indexteki harf c\n",
            "7. indexteki harf c\n",
            "12. indexteki harf c\n"
          ]
        }
      ]
    },
    {
      "cell_type": "code",
      "source": [
        "harfler = [\"a\", \"b\", \"c\", \"d\", \"e\"] * 3\n",
        "\n",
        "for index, harf in enumerate(harfler):\n",
        "  if harf == \"c\":\n",
        "    print(f\"{index}. indexteki harf {harf}\")\n",
        "    break # bulduğu anda işlemden çıkar"
      ],
      "metadata": {
        "colab": {
          "base_uri": "https://localhost:8080/"
        },
        "id": "iMuGGgyDfoRS",
        "outputId": "d6277381-3bac-4d27-95c1-3784515ad37b"
      },
      "execution_count": 54,
      "outputs": [
        {
          "output_type": "stream",
          "name": "stdout",
          "text": [
            "2. indexteki harf c\n"
          ]
        }
      ]
    },
    {
      "cell_type": "markdown",
      "source": [
        "**continue**"
      ],
      "metadata": {
        "id": "4J8D2XyPf_Qa"
      }
    },
    {
      "cell_type": "code",
      "source": [
        "for sayi in range(2, 9):\n",
        "  if sayi % 2 == 0:\n",
        "    continue # sayı çift ise devam et\n",
        "  print(sayi)"
      ],
      "metadata": {
        "colab": {
          "base_uri": "https://localhost:8080/"
        },
        "id": "-wEezDDzf5JS",
        "outputId": "1fc4b165-1d30-4b99-b15e-5c4f51375956"
      },
      "execution_count": 57,
      "outputs": [
        {
          "output_type": "stream",
          "name": "stdout",
          "text": [
            "3\n",
            "5\n",
            "7\n"
          ]
        }
      ]
    },
    {
      "cell_type": "markdown",
      "source": [
        "**pass**"
      ],
      "metadata": {
        "id": "nbktS2S8gZBz"
      }
    },
    {
      "cell_type": "code",
      "source": [
        "for sayi in range(2, 9):\n",
        "  if sayi % 2 == 0:\n",
        "    pass # sayı çift ise pas geç\n",
        "  else:\n",
        "    print(sayi)"
      ],
      "metadata": {
        "colab": {
          "base_uri": "https://localhost:8080/"
        },
        "id": "C0OQA-G3gPjT",
        "outputId": "f6bca637-bc31-4ad4-a4a6-f6d4ef6aff66"
      },
      "execution_count": 58,
      "outputs": [
        {
          "output_type": "stream",
          "name": "stdout",
          "text": [
            "3\n",
            "5\n",
            "7\n"
          ]
        }
      ]
    }
  ]
}