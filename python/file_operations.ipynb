{
 "cells": [
  {
   "cell_type": "code",
   "execution_count": 22,
   "id": "c24e0e33",
   "metadata": {},
   "outputs": [
    {
     "name": "stdout",
     "output_type": "stream",
     "text": [
      "Merhaba benim adım Emre Şimşek\n"
     ]
    }
   ],
   "source": [
    "f = open(\"deneme.txt\", \"r\", encoding=\"utf-8\") # r = read, w = write, a = append\n",
    "icerik = f.read()\n",
    "print(icerik)\n",
    "f.close()"
   ]
  },
  {
   "cell_type": "code",
   "execution_count": 45,
   "id": "43a36890",
   "metadata": {},
   "outputs": [
    {
     "name": "stdout",
     "output_type": "stream",
     "text": [
      "Merhaba benim adım Emre Şimşek\n",
      "Selam benim adım Yunus\n"
     ]
    }
   ],
   "source": [
    "#daha pratik yontem (otomatik kapanma)\n",
    "#r olmadan da calisir ama r yazmak daha guvenli, bu durumda python amacimizi anlar. \n",
    "#encoding eklemenin nedeni dosyada turkce karakterler varsa hata vermemesi icin\n",
    "with open(\"deneme.txt\", \"r\", encoding=\"utf-8\") as f:\n",
    "    icerik = f.read()\n",
    "    print(icerik)"
   ]
  },
  {
   "cell_type": "code",
   "execution_count": 46,
   "id": "3c7678c1",
   "metadata": {},
   "outputs": [
    {
     "name": "stdout",
     "output_type": "stream",
     "text": [
      "Merhaba benim adım Emre\n"
     ]
    }
   ],
   "source": [
    "with open(\"deneme.txt\", \"r\", encoding=\"utf-8\") as f:\n",
    "    icerik = f.read(23) #10 karakter okur\n",
    "    print(icerik)"
   ]
  },
  {
   "cell_type": "code",
   "execution_count": 47,
   "id": "4bb2aaf5",
   "metadata": {},
   "outputs": [
    {
     "name": "stdout",
     "output_type": "stream",
     "text": [
      "['Merhaba benim adım Emre Şimşek\\n', 'Selam benim adım Yunus'] \n",
      "\n",
      "Merhaba benim adım Emre Şimşek\n",
      "Selam benim adım Yunus"
     ]
    }
   ],
   "source": [
    "with open(\"deneme.txt\", \"r\", encoding=\"utf-8\") as f:\n",
    "    icerik = f.readlines() #readlines dosyadaki tum satirlari liste olarak getirir\n",
    "    print(icerik, \"\\n\")\n",
    "\n",
    "    for i in icerik: #liste elemanlarini tek tek yazdirmak icin\n",
    "        print(i, end = '') #end='' satir sonuna ekstra satir eklemez"
   ]
  },
  {
   "cell_type": "code",
   "execution_count": 48,
   "id": "1943e102",
   "metadata": {},
   "outputs": [
    {
     "name": "stdout",
     "output_type": "stream",
     "text": [
      "Merhaba benim adım Emre Şimşek\n",
      "\n",
      "Pozisyon: 35 \n",
      "\n",
      "Selam benim adım Yunus\n"
     ]
    }
   ],
   "source": [
    "with open(\"deneme.txt\", \"r\", encoding=\"utf-8\") as f:\n",
    "    icerik = f.readline() #readline satir satir okumayi saglar\n",
    "    print(icerik)\n",
    "\n",
    "    pozisyon = f.tell() #imlecin bulundugu pozisyonu verir\n",
    "    print(\"Pozisyon:\", pozisyon, \"\\n\")\n",
    "\n",
    "    icerik = f.readline() #2. satiri okur\n",
    "    print(icerik)"
   ]
  },
  {
   "cell_type": "code",
   "execution_count": 49,
   "id": "98dd0dc2",
   "metadata": {},
   "outputs": [
    {
     "name": "stdout",
     "output_type": "stream",
     "text": [
      "Merhaba benim adım Emre Şimşek\n",
      "\n",
      "Imlec pozisyonu: 35 \n",
      "\n",
      "Imlec basa alindi.\n",
      "\n",
      "Merhaba benim adım Emre Şimşek\n",
      "\n"
     ]
    }
   ],
   "source": [
    "with open(\"deneme.txt\", \"r\", encoding=\"utf-8\") as f:\n",
    "    icerik = f.readline() #readline satir satir okumayi saglar\n",
    "    print(icerik)\n",
    "\n",
    "    pozisyon = f.tell() #imlecin bulundugu pozisyonu verir\n",
    "    print(\"Imlec pozisyonu:\", pozisyon, \"\\n\")\n",
    "\n",
    "    f.seek(0) #imleci basa alir\n",
    "    print(\"Imlec basa alindi.\\n\")\n",
    "\n",
    "    icerik = f.readline() #2. satiri okur\n",
    "    print(icerik)"
   ]
  },
  {
   "cell_type": "code",
   "execution_count": null,
   "id": "3bfc7c88",
   "metadata": {},
   "outputs": [],
   "source": [
    "with open(\"denemeWrite.txt\", \"w\", encoding=\"utf-8\") as f: #eger dosya yoksa kendi olusturur ve icine yazar\n",
    "    f.write(\"Ben yazilim muhendisi ogrencisiyim. \\n\") #dosya icerigini siler ve yeniden yazar"
   ]
  },
  {
   "cell_type": "code",
   "execution_count": null,
   "id": "ffa64d96",
   "metadata": {},
   "outputs": [],
   "source": [
    "#deneme.txt dosyasindaki icerigi denemeWrite.txt dosyasina kopyalama islemi yapar\n",
    "with open(\"deneme.txt\", \"r\", encoding=\"utf-8\") as okunacak:\n",
    "    with open(\"denemeWrite.txt\", \"w\", encoding=\"utf-8\") as yazilacak:\n",
    "        for satir in okunacak:\n",
    "            yazilacak.write(satir)"
   ]
  },
  {
   "cell_type": "code",
   "execution_count": 53,
   "id": "90907c5d",
   "metadata": {},
   "outputs": [],
   "source": [
    "#binary dosyalar (resim, video, ses dosyalari) icin kopyalama islemi\n",
    "with open(\"pitonLogo.png\", \"rb\") as okunacak_logo: #binary dosyalar icin \"rb\" (read binary) kullanilir\n",
    "    with open(\"pythonL_logo_kopyalanan.png\", \"wb\") as yazilacak_logo: #binary dosyalar icin \"wb\" (write binary) kullanilir\n",
    "        #okunacak miktar belirlenmesinin nedeni dosyanin cok buyuk olabilecegi ve bellekte sorun cikabilecegidir\n",
    "        okunacak_miktar = 1024 #1 KB\n",
    "        icerik = okunacak_logo.read(okunacak_miktar) #dosyayi 1 KB'lik parcalar halinde okur\n",
    "        while len(icerik) > 0:\n",
    "            yazilacak_logo.write(icerik)\n",
    "            icerik = okunacak_logo.read(okunacak_miktar)"
   ]
  },
  {
   "cell_type": "code",
   "execution_count": null,
   "id": "1f03c92d",
   "metadata": {},
   "outputs": [],
   "source": []
  }
 ],
 "metadata": {
  "kernelspec": {
   "display_name": "Python 3",
   "language": "python",
   "name": "python3"
  },
  "language_info": {
   "codemirror_mode": {
    "name": "ipython",
    "version": 3
   },
   "file_extension": ".py",
   "mimetype": "text/x-python",
   "name": "python",
   "nbconvert_exporter": "python",
   "pygments_lexer": "ipython3",
   "version": "3.14.0"
  }
 },
 "nbformat": 4,
 "nbformat_minor": 5
}
