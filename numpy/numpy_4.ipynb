{
 "cells": [
  {
   "cell_type": "markdown",
   "id": "8bb17fc8",
   "metadata": {},
   "source": [
    "# Array Elemanlari Arasinda 4 Islem"
   ]
  },
  {
   "cell_type": "code",
   "execution_count": 2,
   "id": "e61e970c",
   "metadata": {},
   "outputs": [],
   "source": [
    "import numpy as np"
   ]
  },
  {
   "cell_type": "code",
   "execution_count": 14,
   "id": "c835276f",
   "metadata": {},
   "outputs": [],
   "source": [
    "arr1 = np.array([10, 20, 40, 80])\n",
    "arr2 = np.array([3, 9, 17, 4])"
   ]
  },
  {
   "cell_type": "code",
   "execution_count": 15,
   "id": "ae906c55",
   "metadata": {},
   "outputs": [
    {
     "data": {
      "text/plain": [
       "array([10, 20, 40, 80])"
      ]
     },
     "execution_count": 15,
     "metadata": {},
     "output_type": "execute_result"
    }
   ],
   "source": [
    "arr1"
   ]
  },
  {
   "cell_type": "code",
   "execution_count": 16,
   "id": "c611e6c1",
   "metadata": {},
   "outputs": [
    {
     "data": {
      "text/plain": [
       "array([ 3,  9, 17,  4])"
      ]
     },
     "execution_count": 16,
     "metadata": {},
     "output_type": "execute_result"
    }
   ],
   "source": [
    "arr2"
   ]
  },
  {
   "cell_type": "code",
   "execution_count": 17,
   "id": "e62242a6",
   "metadata": {},
   "outputs": [
    {
     "data": {
      "text/plain": [
       "array([13, 29, 57, 84])"
      ]
     },
     "execution_count": 17,
     "metadata": {},
     "output_type": "execute_result"
    }
   ],
   "source": [
    "arr1 + arr2 # arraylerin elemanlari arasinda toplama islemi yapar"
   ]
  },
  {
   "cell_type": "code",
   "execution_count": 18,
   "id": "0553a7ba",
   "metadata": {},
   "outputs": [
    {
     "data": {
      "text/plain": [
       "array([13, 29, 57, 84])"
      ]
     },
     "execution_count": 18,
     "metadata": {},
     "output_type": "execute_result"
    }
   ],
   "source": [
    "arr1.__add__(arr2) # ustteki ile ayni islemi yapar"
   ]
  },
  {
   "cell_type": "code",
   "execution_count": 19,
   "id": "b5d889f1",
   "metadata": {},
   "outputs": [
    {
     "data": {
      "text/plain": [
       "array([ 7, 11, 23, 76])"
      ]
     },
     "execution_count": 19,
     "metadata": {},
     "output_type": "execute_result"
    }
   ],
   "source": [
    "arr1 - arr2 # cikarma islemi"
   ]
  },
  {
   "cell_type": "code",
   "execution_count": 20,
   "id": "702a4a99",
   "metadata": {},
   "outputs": [
    {
     "data": {
      "text/plain": [
       "array([ 7, 11, 23, 76])"
      ]
     },
     "execution_count": 20,
     "metadata": {},
     "output_type": "execute_result"
    }
   ],
   "source": [
    "arr1.__sub__ (arr2) # ustteki ile ayni islemi yapar"
   ]
  },
  {
   "cell_type": "code",
   "execution_count": 21,
   "id": "18bfcfa7",
   "metadata": {},
   "outputs": [
    {
     "data": {
      "text/plain": [
       "array([ 30, 180, 680, 320])"
      ]
     },
     "execution_count": 21,
     "metadata": {},
     "output_type": "execute_result"
    }
   ],
   "source": [
    "arr1 * arr2 # carpma islemi"
   ]
  },
  {
   "cell_type": "code",
   "execution_count": null,
   "id": "c3c9aa18",
   "metadata": {},
   "outputs": [
    {
     "data": {
      "text/plain": [
       "array([               1000,        512000000000, 8514055095543922688,\n",
       "                  40960000])"
      ]
     },
     "execution_count": 22,
     "metadata": {},
     "output_type": "execute_result"
    }
   ],
   "source": [
    "arr1 ** arr2 # us alma islemi"
   ]
  },
  {
   "cell_type": "code",
   "execution_count": 23,
   "id": "3d603ac6",
   "metadata": {},
   "outputs": [
    {
     "data": {
      "text/plain": [
       "array([ 3.33333333,  2.22222222,  2.35294118, 20.        ])"
      ]
     },
     "execution_count": 23,
     "metadata": {},
     "output_type": "execute_result"
    }
   ],
   "source": [
    "arr1 / arr2 # bolme islemi"
   ]
  },
  {
   "cell_type": "code",
   "execution_count": null,
   "id": "0ae3a548",
   "metadata": {},
   "outputs": [
    {
     "data": {
      "text/plain": [
       "array([ 3,  2,  2, 20])"
      ]
     },
     "execution_count": 24,
     "metadata": {},
     "output_type": "execute_result"
    }
   ],
   "source": [
    "arr1 // arr2 # floor = tam sayi bolme islemi"
   ]
  },
  {
   "cell_type": "markdown",
   "id": "82df6b2b",
   "metadata": {},
   "source": [
    "# Arrayin icindeki elemanlarin toplami/ortalamasi/varyansi/standart sapmasi"
   ]
  },
  {
   "cell_type": "code",
   "execution_count": 25,
   "id": "84fcbe87",
   "metadata": {},
   "outputs": [
    {
     "data": {
      "text/plain": [
       "array([11,  0, 12, 23,  7, 19,  8,  5, 20,  9, 15,  5], dtype=int32)"
      ]
     },
     "execution_count": 25,
     "metadata": {},
     "output_type": "execute_result"
    }
   ],
   "source": [
    "arr3 = np.random.randint(0, 24, 12)\n",
    "arr3"
   ]
  },
  {
   "cell_type": "code",
   "execution_count": 28,
   "id": "8d4357d6",
   "metadata": {},
   "outputs": [
    {
     "data": {
      "text/plain": [
       "np.int64(134)"
      ]
     },
     "execution_count": 28,
     "metadata": {},
     "output_type": "execute_result"
    }
   ],
   "source": [
    "arr3.sum() # sum() bir arrayin icindeki elemanlarin toplamini verir"
   ]
  },
  {
   "cell_type": "code",
   "execution_count": 29,
   "id": "8bf49d69",
   "metadata": {},
   "outputs": [
    {
     "data": {
      "text/plain": [
       "np.float64(11.166666666666666)"
      ]
     },
     "execution_count": 29,
     "metadata": {},
     "output_type": "execute_result"
    }
   ],
   "source": [
    "arr3.mean() # mean() bir arrayin icindeki elemanlarin ortalamasini verir"
   ]
  },
  {
   "cell_type": "code",
   "execution_count": null,
   "id": "cbc7dc8f",
   "metadata": {},
   "outputs": [
    {
     "data": {
      "text/plain": [
       "np.float64(43.97222222222223)"
      ]
     },
     "execution_count": 30,
     "metadata": {},
     "output_type": "execute_result"
    }
   ],
   "source": [
    "arr3.var() # var() bir arrayin icindeki elemanlarin varyansini verir\n",
    "# varyans: verilerin ortalamaya olan uzakliklarinin ortalamasi"
   ]
  },
  {
   "cell_type": "code",
   "execution_count": null,
   "id": "343e2b9c",
   "metadata": {},
   "outputs": [
    {
     "data": {
      "text/plain": [
       "np.float64(6.631155421359254)"
      ]
     },
     "execution_count": 31,
     "metadata": {},
     "output_type": "execute_result"
    }
   ],
   "source": [
    "arr3.std() # std() bir arrayin icindeki elemanlarin standart sapmasini verir\n",
    "# standart sapma: verilerin ortalamaya olan uzakliklarinin ortalamadan ne kadar saptigini gosterir"
   ]
  },
  {
   "cell_type": "code",
   "execution_count": 32,
   "id": "83220a53",
   "metadata": {},
   "outputs": [
    {
     "data": {
      "text/plain": [
       "array([3.31662479, 0.        , 3.46410162, 4.79583152, 2.64575131,\n",
       "       4.35889894, 2.82842712, 2.23606798, 4.47213595, 3.        ,\n",
       "       3.87298335, 2.23606798])"
      ]
     },
     "execution_count": 32,
     "metadata": {},
     "output_type": "execute_result"
    }
   ],
   "source": [
    "np.sqrt(arr3) # sqrt() bir arrayin icindeki elemanlarin karekokenini verir"
   ]
  },
  {
   "cell_type": "code",
   "execution_count": 33,
   "id": "4efa7224",
   "metadata": {},
   "outputs": [
    {
     "data": {
      "text/plain": [
       "array([-0.99999021,  0.        , -0.53657292, -0.8462204 ,  0.6569866 ,\n",
       "        0.14987721,  0.98935825, -0.95892427,  0.91294525,  0.41211849,\n",
       "        0.65028784, -0.95892427])"
      ]
     },
     "execution_count": 33,
     "metadata": {},
     "output_type": "execute_result"
    }
   ],
   "source": [
    "np.sin(arr3) # sin() bir arrayin icindeki elemanlarin sinus degerlerini verir"
   ]
  },
  {
   "cell_type": "code",
   "execution_count": 34,
   "id": "7c285e53",
   "metadata": {},
   "outputs": [
    {
     "data": {
      "text/plain": [
       "array([ 0.0044257 ,  1.        ,  0.84385396, -0.53283302,  0.75390225,\n",
       "        0.98870462, -0.14550003,  0.28366219,  0.40808206, -0.91113026,\n",
       "       -0.75968791,  0.28366219])"
      ]
     },
     "execution_count": 34,
     "metadata": {},
     "output_type": "execute_result"
    }
   ],
   "source": [
    "np.cos(arr3) # cos() bir arrayin icindeki elemanlarin cosinus degerlerini verir"
   ]
  },
  {
   "cell_type": "code",
   "execution_count": 36,
   "id": "87e1e5db",
   "metadata": {},
   "outputs": [
    {
     "data": {
      "text/plain": [
       "np.int32(23)"
      ]
     },
     "execution_count": 36,
     "metadata": {},
     "output_type": "execute_result"
    }
   ],
   "source": [
    "arr3.max() # max() bir arrayin icindeki en buyuk elemani verir"
   ]
  },
  {
   "cell_type": "code",
   "execution_count": 37,
   "id": "d00df84d",
   "metadata": {},
   "outputs": [
    {
     "data": {
      "text/plain": [
       "np.int32(0)"
      ]
     },
     "execution_count": 37,
     "metadata": {},
     "output_type": "execute_result"
    }
   ],
   "source": [
    "arr3.min() # min() bir arrayin icindeki en kucuk elemani verir"
   ]
  },
  {
   "cell_type": "markdown",
   "id": "77d5ab60",
   "metadata": {},
   "source": [
    "# (Concatenate) NumPy Arraylari Birlestirme"
   ]
  },
  {
   "cell_type": "code",
   "execution_count": 38,
   "id": "6cf18776",
   "metadata": {},
   "outputs": [
    {
     "data": {
      "text/plain": [
       "array([10, 20, 40, 80])"
      ]
     },
     "execution_count": 38,
     "metadata": {},
     "output_type": "execute_result"
    }
   ],
   "source": [
    "arr1"
   ]
  },
  {
   "cell_type": "code",
   "execution_count": 39,
   "id": "9ef6f374",
   "metadata": {},
   "outputs": [
    {
     "data": {
      "text/plain": [
       "array([ 3,  9, 17,  4])"
      ]
     },
     "execution_count": 39,
     "metadata": {},
     "output_type": "execute_result"
    }
   ],
   "source": [
    "arr2"
   ]
  },
  {
   "cell_type": "code",
   "execution_count": 42,
   "id": "72593788",
   "metadata": {},
   "outputs": [],
   "source": [
    "arr4 = np.concatenate((arr1, arr2)) # concatenate() iki veya daha fazla arrayi birlestirir\n",
    "# default olarak axis=0 (satir bazinda) birlestirme yapar"
   ]
  },
  {
   "cell_type": "code",
   "execution_count": 41,
   "id": "a52ff803",
   "metadata": {},
   "outputs": [
    {
     "data": {
      "text/plain": [
       "array([10, 20, 40, 80,  3,  9, 17,  4])"
      ]
     },
     "execution_count": 41,
     "metadata": {},
     "output_type": "execute_result"
    }
   ],
   "source": [
    "arr4"
   ]
  },
  {
   "cell_type": "code",
   "execution_count": 43,
   "id": "5e201fe3",
   "metadata": {},
   "outputs": [],
   "source": [
    "arr2d1 = np.array([[1, 2, 3], [4, 5, 6]])\n",
    "arr2d2 = np.array([[7, 8, 9], [10, 11, 12]])"
   ]
  },
  {
   "cell_type": "code",
   "execution_count": 44,
   "id": "60d70c81",
   "metadata": {},
   "outputs": [],
   "source": [
    "arr2d3 = np.concatenate((arr2d1, arr2d2), axis = 1) # axis=1 (sutun bazinda) birlestirme yapar"
   ]
  },
  {
   "cell_type": "code",
   "execution_count": 45,
   "id": "363cb9d9",
   "metadata": {},
   "outputs": [
    {
     "data": {
      "text/plain": [
       "array([[ 1,  2,  3,  7,  8,  9],\n",
       "       [ 4,  5,  6, 10, 11, 12]])"
      ]
     },
     "execution_count": 45,
     "metadata": {},
     "output_type": "execute_result"
    }
   ],
   "source": [
    "arr2d3"
   ]
  },
  {
   "cell_type": "markdown",
   "id": "b2e2c227",
   "metadata": {},
   "source": [
    "# (Yiginlama) Arrayleri Stackleme"
   ]
  },
  {
   "cell_type": "code",
   "execution_count": 48,
   "id": "c9992e95",
   "metadata": {},
   "outputs": [],
   "source": [
    "# Concatenate ile farki yeni bir boyut ekler\n",
    "arr2d4 = np.stack((arr2d1, arr2d2), axis = 0)"
   ]
  },
  {
   "cell_type": "code",
   "execution_count": 49,
   "id": "a377d4c0",
   "metadata": {},
   "outputs": [
    {
     "data": {
      "text/plain": [
       "array([[[ 1,  2,  3],\n",
       "        [ 4,  5,  6]],\n",
       "\n",
       "       [[ 7,  8,  9],\n",
       "        [10, 11, 12]]])"
      ]
     },
     "execution_count": 49,
     "metadata": {},
     "output_type": "execute_result"
    }
   ],
   "source": [
    "arr2d4"
   ]
  },
  {
   "cell_type": "code",
   "execution_count": null,
   "id": "1770b743",
   "metadata": {},
   "outputs": [],
   "source": [
    "#np.vstack((arr2d1, arr2d2)) # vertical stack (dikey yiginlama) yapar\n",
    "#np.hstack((arr2d1, arr2d2)) # horizontal stack (yatay yiginlama) yapar"
   ]
  },
  {
   "cell_type": "markdown",
   "id": "65701eee",
   "metadata": {},
   "source": [
    "# NumPy Arraylerinde Arama"
   ]
  },
  {
   "cell_type": "code",
   "execution_count": null,
   "id": "629d5fd8",
   "metadata": {},
   "outputs": [
    {
     "data": {
      "text/plain": [
       "(array([1]), array([0]), array([1]))"
      ]
     },
     "execution_count": 50,
     "metadata": {},
     "output_type": "execute_result"
    }
   ],
   "source": [
    "np.where(arr2d4 == 8) # arr2d4 icindeki 8 sayisinin indeksini verir"
   ]
  },
  {
   "cell_type": "code",
   "execution_count": 53,
   "id": "36739fc0",
   "metadata": {},
   "outputs": [
    {
     "data": {
      "text/plain": [
       "array([23, 13,  1,  5, 17,  5,  3, 19, 45, 37, 36, 21,  4, 24, 49, 38,  6,\n",
       "       38], dtype=int32)"
      ]
     },
     "execution_count": 53,
     "metadata": {},
     "output_type": "execute_result"
    }
   ],
   "source": [
    "arr5 = np.random.randint(0, 50, 18)\n",
    "arr5"
   ]
  },
  {
   "cell_type": "code",
   "execution_count": null,
   "id": "a87b8eff",
   "metadata": {},
   "outputs": [
    {
     "data": {
      "text/plain": [
       "(array([ 8,  9, 10, 14, 15, 17]),)"
      ]
     },
     "execution_count": 54,
     "metadata": {},
     "output_type": "execute_result"
    }
   ],
   "source": [
    "np.where(arr5 > 25) # arr5 icindeki 25'ten buyuk elemanlarin indekslerini verir"
   ]
  },
  {
   "cell_type": "code",
   "execution_count": null,
   "id": "a0e4e635",
   "metadata": {},
   "outputs": [
    {
     "data": {
      "text/plain": [
       "(array([ 0,  1,  2,  3,  4,  5,  6,  7,  8,  9, 11, 14]),)"
      ]
     },
     "execution_count": 56,
     "metadata": {},
     "output_type": "execute_result"
    }
   ],
   "source": [
    "np.where(arr5 % 2 != 0) # arr5 icindeki tek sayilarin indekslerini verir"
   ]
  }
 ],
 "metadata": {
  "kernelspec": {
   "display_name": "Python 3",
   "language": "python",
   "name": "python3"
  },
  "language_info": {
   "codemirror_mode": {
    "name": "ipython",
    "version": 3
   },
   "file_extension": ".py",
   "mimetype": "text/x-python",
   "name": "python",
   "nbconvert_exporter": "python",
   "pygments_lexer": "ipython3",
   "version": "3.14.0"
  }
 },
 "nbformat": 4,
 "nbformat_minor": 5
}
