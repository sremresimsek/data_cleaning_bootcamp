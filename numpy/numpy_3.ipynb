{
 "cells": [
  {
   "cell_type": "code",
   "execution_count": 3,
   "id": "f420d200",
   "metadata": {},
   "outputs": [],
   "source": [
    "import numpy as np"
   ]
  },
  {
   "cell_type": "code",
   "execution_count": 5,
   "id": "acfca8c8",
   "metadata": {},
   "outputs": [
    {
     "data": {
      "text/plain": [
       "array([0, 1, 2, 3, 4, 5, 6, 7, 8, 9])"
      ]
     },
     "execution_count": 5,
     "metadata": {},
     "output_type": "execute_result"
    }
   ],
   "source": [
    "np.arange(10)"
   ]
  },
  {
   "cell_type": "code",
   "execution_count": 7,
   "id": "580c822c",
   "metadata": {},
   "outputs": [
    {
     "data": {
      "text/plain": [
       "array([[0, 1, 2, 3, 4],\n",
       "       [5, 6, 7, 8, 9]])"
      ]
     },
     "execution_count": 7,
     "metadata": {},
     "output_type": "execute_result"
    }
   ],
   "source": [
    "np.arange(10).reshape(2, 5) # reshape arrayin seklini degistirir\n",
    "# np.arange(10).reshape(2, 3) -> hata verir cunku 2*3=6 oldugundan 10'a esit degil "
   ]
  },
  {
   "cell_type": "markdown",
   "id": "f724bd06",
   "metadata": {},
   "source": [
    "***arange ile array oluştururken tek boyutlu oldugundan reshape bu konuda cok kullanisli oluyor***"
   ]
  },
  {
   "cell_type": "code",
   "execution_count": 10,
   "id": "999c7531",
   "metadata": {},
   "outputs": [
    {
     "name": "stdout",
     "output_type": "stream",
     "text": [
      "[1. 1. 1. 1. 1. 1. 1. 1. 1. 1. 1. 1.] \n",
      "\n",
      "[[1. 1. 1. 1.]\n",
      " [1. 1. 1. 1.]\n",
      " [1. 1. 1. 1.]]\n"
     ]
    }
   ],
   "source": [
    "print(np.ones(12), \"\\n\")\n",
    "print(np.ones(12).reshape(3, 4))"
   ]
  },
  {
   "cell_type": "markdown",
   "id": "17142984",
   "metadata": {},
   "source": [
    "***Bilinmeyen Boyut !***\n",
    "\n",
    "reshape methodu kullanilirken hesaplamak istedigimiz boyut yerine -1 yazip otomatik hesaplatabiliriz."
   ]
  },
  {
   "cell_type": "code",
   "execution_count": 20,
   "id": "9a2fd197",
   "metadata": {},
   "outputs": [
    {
     "data": {
      "text/plain": [
       "array([[[  0,   1,   2,   3,   4,   5,   6,   7],\n",
       "        [  8,   9,  10,  11,  12,  13,  14,  15],\n",
       "        [ 16,  17,  18,  19,  20,  21,  22,  23]],\n",
       "\n",
       "       [[ 24,  25,  26,  27,  28,  29,  30,  31],\n",
       "        [ 32,  33,  34,  35,  36,  37,  38,  39],\n",
       "        [ 40,  41,  42,  43,  44,  45,  46,  47]],\n",
       "\n",
       "       [[ 48,  49,  50,  51,  52,  53,  54,  55],\n",
       "        [ 56,  57,  58,  59,  60,  61,  62,  63],\n",
       "        [ 64,  65,  66,  67,  68,  69,  70,  71]],\n",
       "\n",
       "       [[ 72,  73,  74,  75,  76,  77,  78,  79],\n",
       "        [ 80,  81,  82,  83,  84,  85,  86,  87],\n",
       "        [ 88,  89,  90,  91,  92,  93,  94,  95]],\n",
       "\n",
       "       [[ 96,  97,  98,  99, 100, 101, 102, 103],\n",
       "        [104, 105, 106, 107, 108, 109, 110, 111],\n",
       "        [112, 113, 114, 115, 116, 117, 118, 119]]])"
      ]
     },
     "execution_count": 20,
     "metadata": {},
     "output_type": "execute_result"
    }
   ],
   "source": [
    "np.arange(120).reshape(5, -1, 8) # -1 yazinca numpy otomatik hesapliyor"
   ]
  },
  {
   "cell_type": "code",
   "execution_count": 29,
   "id": "cac0bccf",
   "metadata": {},
   "outputs": [],
   "source": [
    "arr1 = np.arange(60)\n",
    "arr1 = arr1.reshape(3, 2, -1) # 3 tane 2 satir 10 sutun arraye donusturur"
   ]
  },
  {
   "cell_type": "code",
   "execution_count": 31,
   "id": "2024e7a4",
   "metadata": {},
   "outputs": [
    {
     "data": {
      "text/plain": [
       "array([[ 1,  2,  3,  4],\n",
       "       [ 5,  6,  7,  8],\n",
       "       [ 9, 10, 11, 12]])"
      ]
     },
     "execution_count": 31,
     "metadata": {},
     "output_type": "execute_result"
    }
   ],
   "source": [
    "arr2d = np.arange(1, 13).reshape(3, 4)\n",
    "arr2d"
   ]
  },
  {
   "cell_type": "code",
   "execution_count": 33,
   "id": "956b863a",
   "metadata": {},
   "outputs": [
    {
     "data": {
      "text/plain": [
       "array([ 1,  2,  3,  4,  5,  6,  7,  8,  9, 10, 11, 12])"
      ]
     },
     "execution_count": 33,
     "metadata": {},
     "output_type": "execute_result"
    }
   ],
   "source": [
    "arr2d.reshape(-1) # (flatten) tek boyutlu hale getirir "
   ]
  },
  {
   "cell_type": "code",
   "execution_count": 38,
   "id": "fae4a296",
   "metadata": {},
   "outputs": [
    {
     "data": {
      "text/plain": [
       "array([[[ 0,  1],\n",
       "        [ 2,  3],\n",
       "        [ 4,  5]],\n",
       "\n",
       "       [[ 6,  7],\n",
       "        [ 8,  9],\n",
       "        [10, 11]]])"
      ]
     },
     "execution_count": 38,
     "metadata": {},
     "output_type": "execute_result"
    }
   ],
   "source": [
    "arr3d = np.arange(12).reshape(2, 3, 2)\n",
    "arr3d"
   ]
  },
  {
   "cell_type": "code",
   "execution_count": 47,
   "id": "bc0f2ec9",
   "metadata": {},
   "outputs": [
    {
     "name": "stdout",
     "output_type": "stream",
     "text": [
      "(2, 3, 2)\n",
      "3 \n",
      "\n",
      "[[ 0  1  2  3]\n",
      " [ 4  5  6  7]\n",
      " [ 8  9 10 11]] \n",
      "\n",
      "[ 0  1  2  3  4  5  6  7  8  9 10 11]\n"
     ]
    }
   ],
   "source": [
    "print(arr3d.shape)\n",
    "print(arr3d.ndim, \"\\n\")\n",
    "print(arr3d.reshape(3, -1), \"\\n\") # 3 boyutlu arrayi 2 boyutluya cevirir\n",
    "print(arr3d.reshape(-1)) # 3 boyutlu arrayi tek boyutlu hale getirir\n"
   ]
  },
  {
   "cell_type": "code",
   "execution_count": 51,
   "id": "fad24347",
   "metadata": {},
   "outputs": [
    {
     "data": {
      "text/plain": [
       "array([ 1,  2,  3,  4,  5,  6,  7,  8,  9, 10, 11, 12])"
      ]
     },
     "execution_count": 51,
     "metadata": {},
     "output_type": "execute_result"
    }
   ],
   "source": [
    "arr1d = np.arange(1, 13)\n",
    "arr1d"
   ]
  },
  {
   "cell_type": "code",
   "execution_count": 52,
   "id": "67a2df6f",
   "metadata": {},
   "outputs": [
    {
     "name": "stdout",
     "output_type": "stream",
     "text": [
      "1\n",
      "2\n",
      "3\n",
      "4\n",
      "5\n",
      "6\n",
      "7\n",
      "8\n",
      "9\n",
      "10\n",
      "11\n",
      "12\n"
     ]
    }
   ],
   "source": [
    "for i in arr1d:\n",
    "    print(i)"
   ]
  },
  {
   "cell_type": "code",
   "execution_count": 53,
   "id": "7057c39b",
   "metadata": {},
   "outputs": [
    {
     "data": {
      "text/plain": [
       "array([[ 1,  2,  3,  4],\n",
       "       [ 5,  6,  7,  8],\n",
       "       [ 9, 10, 11, 12]])"
      ]
     },
     "execution_count": 53,
     "metadata": {},
     "output_type": "execute_result"
    }
   ],
   "source": [
    "arr2d = np.arange(1, 13).reshape(3, 4)\n",
    "arr2d"
   ]
  },
  {
   "cell_type": "code",
   "execution_count": 55,
   "id": "1787c0cd",
   "metadata": {},
   "outputs": [
    {
     "name": "stdout",
     "output_type": "stream",
     "text": [
      "[1 2 3 4]\n",
      "[5 6 7 8]\n",
      "[ 9 10 11 12]\n"
     ]
    }
   ],
   "source": [
    "for i in arr2d:\n",
    "    print(i) #satirlari birer eleman olarak alir"
   ]
  },
  {
   "cell_type": "code",
   "execution_count": null,
   "id": "cb281c9e",
   "metadata": {},
   "outputs": [
    {
     "name": "stdout",
     "output_type": "stream",
     "text": [
      "1\n",
      "2\n",
      "3\n",
      "4\n",
      "5\n",
      "6\n",
      "7\n",
      "8\n",
      "9\n",
      "10\n",
      "11\n",
      "12\n"
     ]
    }
   ],
   "source": [
    "for i in arr2d:\n",
    "    for j in i:\n",
    "        print(j)\n",
    "# her bir elemani tek tek yazdirir, satir satir degil\n",
    "# karmasik yapilar icin kullanilabilir\n",
    "# verimli degil"
   ]
  },
  {
   "cell_type": "code",
   "execution_count": 57,
   "id": "26649765",
   "metadata": {},
   "outputs": [
    {
     "data": {
      "text/plain": [
       "array([[[ 0,  1],\n",
       "        [ 2,  3],\n",
       "        [ 4,  5]],\n",
       "\n",
       "       [[ 6,  7],\n",
       "        [ 8,  9],\n",
       "        [10, 11]]])"
      ]
     },
     "execution_count": 57,
     "metadata": {},
     "output_type": "execute_result"
    }
   ],
   "source": [
    "arr3d"
   ]
  },
  {
   "cell_type": "code",
   "execution_count": 59,
   "id": "db0bb1a1",
   "metadata": {},
   "outputs": [
    {
     "name": "stdout",
     "output_type": "stream",
     "text": [
      "0\n",
      "1\n",
      "2\n",
      "3\n",
      "4\n",
      "5\n",
      "6\n",
      "7\n",
      "8\n",
      "9\n",
      "10\n",
      "11\n"
     ]
    }
   ],
   "source": [
    "for i in arr3d:\n",
    "    for j in i:\n",
    "        for k in j:\n",
    "            print(k)\n",
    "# 3 boyutlu arraydeki her bir elemani tek tek yazdirir\n",
    "# performans olarak cok verimli degil ancak karmasik yapilar icin kullanilabilir\n",
    "# zaman acisindan maliyetli olabilir\n",
    "# genellikle ic ice for yazmaktan kacinilir\n",
    "# arrayin boyutu kac ise o kadar for kullanilarak o arrayin butun elemanlarina erisilir"
   ]
  },
  {
   "cell_type": "markdown",
   "id": "8693d3f1",
   "metadata": {},
   "source": [
    "***cok boyutlu arraylerde nditer() kullanilir***\n",
    "\n",
    "***for dongusune gore cok daha efektif ve hizli bir sekilde tum elemanlari donmeyi saglar***\n"
   ]
  },
  {
   "cell_type": "code",
   "execution_count": 60,
   "id": "fe66af32",
   "metadata": {},
   "outputs": [
    {
     "data": {
      "text/plain": [
       "array([[[ 0,  1],\n",
       "        [ 2,  3],\n",
       "        [ 4,  5]],\n",
       "\n",
       "       [[ 6,  7],\n",
       "        [ 8,  9],\n",
       "        [10, 11]]])"
      ]
     },
     "execution_count": 60,
     "metadata": {},
     "output_type": "execute_result"
    }
   ],
   "source": [
    "arr3d"
   ]
  },
  {
   "cell_type": "code",
   "execution_count": 62,
   "id": "f3f1b54c",
   "metadata": {},
   "outputs": [
    {
     "data": {
      "text/plain": [
       "<numpy.nditer at 0x1d0dfa5ecd0>"
      ]
     },
     "execution_count": 62,
     "metadata": {},
     "output_type": "execute_result"
    }
   ],
   "source": [
    "np.nditer(arr3d) # bunun veri tipi nditer objesidir, for dongusu ile icindeki elemanlar gezilebilir"
   ]
  },
  {
   "cell_type": "code",
   "execution_count": 70,
   "id": "e8e9bcef",
   "metadata": {},
   "outputs": [
    {
     "name": "stdout",
     "output_type": "stream",
     "text": [
      "0\n",
      "1\n",
      "2\n",
      "3\n",
      "4\n",
      "5\n",
      "6\n",
      "7\n",
      "8\n",
      "9\n",
      "10\n",
      "11\n"
     ]
    }
   ],
   "source": [
    "for i in np.nditer(arr3d): # 1 for ile 3 boyutlu arraydeki tum elemanlara erisilir\n",
    "    print(i)"
   ]
  }
 ],
 "metadata": {
  "kernelspec": {
   "display_name": "Python 3",
   "language": "python",
   "name": "python3"
  },
  "language_info": {
   "codemirror_mode": {
    "name": "ipython",
    "version": 3
   },
   "file_extension": ".py",
   "mimetype": "text/x-python",
   "name": "python",
   "nbconvert_exporter": "python",
   "pygments_lexer": "ipython3",
   "version": "3.14.0"
  }
 },
 "nbformat": 4,
 "nbformat_minor": 5
}
