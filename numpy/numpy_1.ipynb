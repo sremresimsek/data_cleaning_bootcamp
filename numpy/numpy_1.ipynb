{
 "cells": [
  {
   "cell_type": "markdown",
   "id": "886db17a",
   "metadata": {},
   "source": [
    "# NumPy : Numerical Python"
   ]
  },
  {
   "cell_type": "code",
   "execution_count": 4,
   "id": "a9a68cc0",
   "metadata": {},
   "outputs": [],
   "source": [
    "import numpy as np"
   ]
  },
  {
   "cell_type": "code",
   "execution_count": null,
   "id": "67d44eac",
   "metadata": {},
   "outputs": [
    {
     "data": {
      "text/plain": [
       "array(53)"
      ]
     },
     "execution_count": 3,
     "metadata": {},
     "output_type": "execute_result"
    }
   ],
   "source": [
    "np.array(53) # 0 boyutlu array"
   ]
  },
  {
   "cell_type": "code",
   "execution_count": 6,
   "id": "c6b62f42",
   "metadata": {},
   "outputs": [
    {
     "data": {
      "text/plain": [
       "array([1, 2, 3, 4, 5])"
      ]
     },
     "execution_count": 6,
     "metadata": {},
     "output_type": "execute_result"
    }
   ],
   "source": [
    "np.array([1, 2, 3, 4, 5]) # 1 tane koseli parantez oldugundan 1 boyutlu array olur"
   ]
  },
  {
   "cell_type": "code",
   "execution_count": null,
   "id": "54544901",
   "metadata": {},
   "outputs": [
    {
     "data": {
      "text/plain": [
       "array([[1, 2, 3],\n",
       "       [4, 5, 6],\n",
       "       [7, 8, 9]])"
      ]
     },
     "execution_count": 7,
     "metadata": {},
     "output_type": "execute_result"
    }
   ],
   "source": [
    "np.array([ # 2 tane koseli parantez oldugundan 2 boyutlu array olur\n",
    "    [1, 2, 3],\n",
    "    [4, 5, 6],\n",
    "    [7, 8, 9]\n",
    "])"
   ]
  },
  {
   "cell_type": "code",
   "execution_count": 23,
   "id": "a52ad08b",
   "metadata": {},
   "outputs": [
    {
     "name": "stdout",
     "output_type": "stream",
     "text": [
      "[[1 2 3]\n",
      " [4 5 6]] \n",
      "\n",
      "[1 2 3] \n",
      "\n",
      "1 \n",
      "\n",
      "3\n"
     ]
    }
   ],
   "source": [
    "arr3d = np.array([[[1, 2, 3], [4, 5, 6]], [[7, 8, 9], [10, 11, 12]]]) # 3 boyutlu array\n",
    "print(arr3d[0], \"\\n\") # 3 boyutlu arrayin 0. indexindeki 2 boyutlu arrayi verir\n",
    "print(arr3d[0][0], \"\\n\") # 3 boyutlu arrayin 0. indexindeki 2 boyutlu arrayin 0. indexindeki 1 boyutlu arrayi verir\n",
    "print(arr3d[0][0][0], \"\\n\") # 3 boyutlu arrayin 0. indexindeki 2 boyutlu arrayin 0. indexindeki 1 boyutlu arrayin 0. indexindeki elemani verir\n",
    "print(arr3d.ndim) # arrayin boyut sayisini verir"
   ]
  },
  {
   "cell_type": "code",
   "execution_count": 52,
   "id": "55ff2462",
   "metadata": {},
   "outputs": [
    {
     "name": "stdout",
     "output_type": "stream",
     "text": [
      "[ 1  2  3  4  5  6  7  8  9 10]\n",
      "[ 1  2  3  4  5  6  7  8  9 10]\n",
      "[1 3 5 7 9]\n",
      "[ 2.  4.  6.  8. 10.]\n"
     ]
    }
   ],
   "source": [
    "print(np.array([1, 2, 3, 4, 5, 6, 7, 8, 9, 10]))\n",
    "print(np.arange(1, 11)) # 1'den 11'e kadar (11 dahil degil) sayilarla array olusturur, daha pratik yol\n",
    "print(np.arange(1, 11, 2)) # 1'den 11'e kadar 2ser 2ser artarak sayilarla array olusturur\n",
    "print(np.linspace(2, 10, 5)) # 1 ile 10 arasinda esit araliklarla 5 sayi olusturur, 10 dahil\n",
    "# arange ile linspace arasindaki fark: arange'de artis miktarini belirtiyoruz, linspace'de ise kac sayi olusturacagimizi belirtiyoruz"
   ]
  },
  {
   "cell_type": "code",
   "execution_count": 51,
   "id": "f3ee122c",
   "metadata": {},
   "outputs": [
    {
     "name": "stdout",
     "output_type": "stream",
     "text": [
      "[  10.           31.6227766   100.          316.22776602 1000.        ]\n",
      "[  1   3  10  31 100]\n"
     ]
    }
   ],
   "source": [
    "print(np.logspace(1, 3, 5)) # 10^1 ile 10^3 arasinda esit araliklarla 5 sayi olusturur, 10^3 dahil\n",
    "print(np.logspace(0, 2, 5, dtype = int)) # 10^0 ile 10^2 arasinda esit araliklarla 5 sayi olusturur, 10^2 dahil, sayilari integer yapar"
   ]
  },
  {
   "cell_type": "code",
   "execution_count": 53,
   "id": "3756f87c",
   "metadata": {},
   "outputs": [
    {
     "name": "stdout",
     "output_type": "stream",
     "text": [
      "[0. 0. 0. 0. 0.]\n",
      "[[0. 0. 0.]\n",
      " [0. 0. 0.]\n",
      " [0. 0. 0.]]\n",
      "[[1. 1. 1. 1. 1.]\n",
      " [1. 1. 1. 1. 1.]\n",
      " [1. 1. 1. 1. 1.]]\n",
      "[[9 9 9 9]\n",
      " [9 9 9 9]\n",
      " [9 9 9 9]]\n",
      "[[1. 0. 0. 0. 0.]\n",
      " [0. 1. 0. 0. 0.]\n",
      " [0. 0. 1. 0. 0.]\n",
      " [0. 0. 0. 1. 0.]\n",
      " [0. 0. 0. 0. 1.]]\n"
     ]
    }
   ],
   "source": [
    "print(np.zeros(5)) # 5 tane 0'dan olusan array olusturur\n",
    "print(np.zeros((3, 3))) # 3 satir 3 sutunluk 0'lardan olusan array olusturur\n",
    "print(np.ones((3, 5))) # 3 satir 5 sutunluk 1'lerden olusan array olusturur\n",
    "print(np.full((3, 4), 9)) # 3 satir 4 sutunluk 9'lardan olusan array olusturur\n",
    "print(np.eye(5)) # 5x5'lik birim matris olusturur"
   ]
  },
  {
   "cell_type": "code",
   "execution_count": 50,
   "id": "abfbed3d",
   "metadata": {},
   "outputs": [
    {
     "data": {
      "text/plain": [
       "array([[0, 0, 0, 0, 0, 0],\n",
       "       [0, 0, 0, 0, 0, 0]])"
      ]
     },
     "execution_count": 50,
     "metadata": {},
     "output_type": "execute_result"
    }
   ],
   "source": [
    "np.zeros((2,6), dtype = int)"
   ]
  },
  {
   "cell_type": "code",
   "execution_count": 57,
   "id": "e2e261b1",
   "metadata": {},
   "outputs": [
    {
     "data": {
      "text/plain": [
       "array([   0,   40,   80,  120,  160,  200,  240,  280,  320,  360,  400,\n",
       "        440,  480,  520,  560,  600,  640,  680,  720,  760,  800,  840,\n",
       "        880,  920,  960, 1000])"
      ]
     },
     "execution_count": 57,
     "metadata": {},
     "output_type": "execute_result"
    }
   ],
   "source": [
    "np.linspace(0, 1000, 26, dtype = int)"
   ]
  },
  {
   "cell_type": "code",
   "execution_count": 58,
   "id": "9f77c195",
   "metadata": {},
   "outputs": [
    {
     "data": {
      "text/plain": [
       "array([0.14424031, 0.47117072, 0.81503074])"
      ]
     },
     "execution_count": 58,
     "metadata": {},
     "output_type": "execute_result"
    }
   ],
   "source": [
    "np.random.rand(3) # 0 ile 1 arasinda 3 tane random sayi olusturur"
   ]
  },
  {
   "cell_type": "code",
   "execution_count": 59,
   "id": "aa483775",
   "metadata": {},
   "outputs": [
    {
     "data": {
      "text/plain": [
       "array([[0.53146197, 0.06761239, 0.81229897, 0.0527118 ],\n",
       "       [0.7012193 , 0.35534464, 0.45933818, 0.26703035],\n",
       "       [0.91065889, 0.54157609, 0.77673042, 0.56546893]])"
      ]
     },
     "execution_count": 59,
     "metadata": {},
     "output_type": "execute_result"
    }
   ],
   "source": [
    "np.random.rand(3, 4) # 0 ile 1 arasinda 3 satir 4 sutunluk random sayilarla dolu array olusturur"
   ]
  },
  {
   "cell_type": "code",
   "execution_count": 60,
   "id": "f22efb97",
   "metadata": {},
   "outputs": [
    {
     "data": {
      "text/plain": [
       "array([5.83198835, 2.12995071, 1.88289832])"
      ]
     },
     "execution_count": 60,
     "metadata": {},
     "output_type": "execute_result"
    }
   ],
   "source": [
    "np.random.rand(3) * 10 # 0 ile 10 arasinda 3 tane random sayi olusturur"
   ]
  },
  {
   "cell_type": "code",
   "execution_count": 62,
   "id": "3b1f3a81",
   "metadata": {},
   "outputs": [
    {
     "data": {
      "text/plain": [
       "array([34, 92, 20,  4, 67], dtype=int32)"
      ]
     },
     "execution_count": 62,
     "metadata": {},
     "output_type": "execute_result"
    }
   ],
   "source": [
    "np.random.randint(0, 100, 5) # 0 ile 100 arasinda 5 tane random tam sayi olusturur, 100 dahil degil"
   ]
  },
  {
   "cell_type": "code",
   "execution_count": 63,
   "id": "ee2d7d2a",
   "metadata": {},
   "outputs": [
    {
     "data": {
      "text/plain": [
       "array([[45, 44],\n",
       "       [88, 55],\n",
       "       [57, 24]], dtype=int32)"
      ]
     },
     "execution_count": 63,
     "metadata": {},
     "output_type": "execute_result"
    }
   ],
   "source": [
    "np.random.randint(15, 100, (3, 2)) # 15 ile 100 arasinda 3 satir 2 sutun random tam sayi olusturur, 100 dahil degil"
   ]
  },
  {
   "cell_type": "code",
   "execution_count": 64,
   "id": "9f7ca379",
   "metadata": {},
   "outputs": [
    {
     "data": {
      "text/plain": [
       "array([[ 4, 15, 34, 46, 44, 15],\n",
       "       [49, 39, 20, 15,  5, 13],\n",
       "       [ 4, 32, 29, 15, 35, 13],\n",
       "       [44, 29, 48, 18, 35,  2]], dtype=int32)"
      ]
     },
     "execution_count": 64,
     "metadata": {},
     "output_type": "execute_result"
    }
   ],
   "source": [
    "np.random.randint(0, 50, (4, 6))"
   ]
  }
 ],
 "metadata": {
  "kernelspec": {
   "display_name": "Python 3",
   "language": "python",
   "name": "python3"
  },
  "language_info": {
   "codemirror_mode": {
    "name": "ipython",
    "version": 3
   },
   "file_extension": ".py",
   "mimetype": "text/x-python",
   "name": "python",
   "nbconvert_exporter": "python",
   "pygments_lexer": "ipython3",
   "version": "3.14.0"
  }
 },
 "nbformat": 4,
 "nbformat_minor": 5
}
