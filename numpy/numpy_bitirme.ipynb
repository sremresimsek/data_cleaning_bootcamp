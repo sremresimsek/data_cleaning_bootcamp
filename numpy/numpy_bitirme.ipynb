{
 "cells": [
  {
   "cell_type": "markdown",
   "id": "05f1593c",
   "metadata": {},
   "source": [
    "# NumPy Egzersizleri"
   ]
  },
  {
   "cell_type": "markdown",
   "id": "2935f0d0",
   "metadata": {},
   "source": [
    "1. NumPy kütüphanesi np kısaltması ile import edin"
   ]
  },
  {
   "cell_type": "code",
   "execution_count": 3,
   "id": "10488175",
   "metadata": {},
   "outputs": [],
   "source": [
    "import numpy as np"
   ]
  },
  {
   "cell_type": "markdown",
   "id": "babfa1fe",
   "metadata": {},
   "source": [
    "2. 10 tane 0 değerinden oluşan bir array oluşturun"
   ]
  },
  {
   "cell_type": "code",
   "execution_count": 5,
   "id": "58b2cb17",
   "metadata": {},
   "outputs": [
    {
     "data": {
      "text/plain": [
       "array([0., 0., 0., 0., 0., 0., 0., 0., 0., 0.])"
      ]
     },
     "execution_count": 5,
     "metadata": {},
     "output_type": "execute_result"
    }
   ],
   "source": [
    "soru2 = np.zeros(10)\n",
    "soru2"
   ]
  },
  {
   "cell_type": "markdown",
   "id": "61500fa9",
   "metadata": {},
   "source": [
    "3. 10 tane 1 değerinden oluşan bir array oluşturun"
   ]
  },
  {
   "cell_type": "code",
   "execution_count": 7,
   "id": "770cf582",
   "metadata": {},
   "outputs": [
    {
     "data": {
      "text/plain": [
       "array([1., 1., 1., 1., 1., 1., 1., 1., 1., 1.])"
      ]
     },
     "execution_count": 7,
     "metadata": {},
     "output_type": "execute_result"
    }
   ],
   "source": [
    "soru3 = np.ones(10)\n",
    "soru3"
   ]
  },
  {
   "cell_type": "markdown",
   "id": "d60d94a6",
   "metadata": {},
   "source": [
    "4. 10 tane 5 değerinden oluşan bir array oluşturun"
   ]
  },
  {
   "cell_type": "code",
   "execution_count": 8,
   "id": "2f639873",
   "metadata": {},
   "outputs": [
    {
     "data": {
      "text/plain": [
       "array([5., 5., 5., 5., 5., 5., 5., 5., 5., 5.])"
      ]
     },
     "execution_count": 8,
     "metadata": {},
     "output_type": "execute_result"
    }
   ],
   "source": [
    "soru4 = np.ones(10) * 5\n",
    "soru4"
   ]
  },
  {
   "cell_type": "markdown",
   "id": "15814813",
   "metadata": {},
   "source": [
    "5. 10'dan 50'ye kadar(10 ve 50 dahil) ardışık tam sayılardan oluşan bir array oluşturalım"
   ]
  },
  {
   "cell_type": "code",
   "execution_count": 9,
   "id": "93f01ed5",
   "metadata": {},
   "outputs": [
    {
     "data": {
      "text/plain": [
       "array([10, 11, 12, 13, 14, 15, 16, 17, 18, 19, 20, 21, 22, 23, 24, 25, 26,\n",
       "       27, 28, 29, 30, 31, 32, 33, 34, 35, 36, 37, 38, 39, 40, 41, 42, 43,\n",
       "       44, 45, 46, 47, 48, 49, 50])"
      ]
     },
     "execution_count": 9,
     "metadata": {},
     "output_type": "execute_result"
    }
   ],
   "source": [
    "np.arange(10, 51)"
   ]
  },
  {
   "cell_type": "markdown",
   "id": "9f1a9a36",
   "metadata": {},
   "source": [
    "6. 10 ve 50 arasındaki çift tam sayılardan oluşan bir array oluşturalım. (10 ve 50 dahil)"
   ]
  },
  {
   "cell_type": "code",
   "execution_count": 10,
   "id": "be7b03bc",
   "metadata": {},
   "outputs": [
    {
     "data": {
      "text/plain": [
       "array([10, 12, 14, 16, 18, 20, 22, 24, 26, 28, 30, 32, 34, 36, 38, 40, 42,\n",
       "       44, 46, 48, 50])"
      ]
     },
     "execution_count": 10,
     "metadata": {},
     "output_type": "execute_result"
    }
   ],
   "source": [
    "np.arange(10 ,51 ,2)"
   ]
  },
  {
   "cell_type": "markdown",
   "id": "21373694",
   "metadata": {},
   "source": [
    "7. 3x3 shape'inde 0'dan 8'e kadar toplam 9 tam sayıdan oluşan bir array oluşturalım"
   ]
  },
  {
   "cell_type": "code",
   "execution_count": 11,
   "id": "7e51648a",
   "metadata": {},
   "outputs": [
    {
     "data": {
      "text/plain": [
       "array([[0, 1, 2],\n",
       "       [3, 4, 5],\n",
       "       [6, 7, 8]])"
      ]
     },
     "execution_count": 11,
     "metadata": {},
     "output_type": "execute_result"
    }
   ],
   "source": [
    "np.arange(0, 9).reshape(3, 3)"
   ]
  },
  {
   "cell_type": "markdown",
   "id": "c5531960",
   "metadata": {},
   "source": [
    "8. 3x3 boyutlarında birim matris oluşturun"
   ]
  },
  {
   "cell_type": "code",
   "execution_count": 12,
   "id": "b0db4224",
   "metadata": {},
   "outputs": [
    {
     "data": {
      "text/plain": [
       "array([[1., 0., 0.],\n",
       "       [0., 1., 0.],\n",
       "       [0., 0., 1.]])"
      ]
     },
     "execution_count": 12,
     "metadata": {},
     "output_type": "execute_result"
    }
   ],
   "source": [
    "np.eye(3)"
   ]
  },
  {
   "cell_type": "markdown",
   "id": "4781fd9e",
   "metadata": {},
   "source": [
    "9. NumPy kullanarak 0-1 arasından rastgele bir sayı oluşturun.\n",
    "\n",
    " NOT: Değerler random seçildiği için sizin sonucunuz aşağıdaki çıktıdan farklı olacaktır"
   ]
  },
  {
   "cell_type": "code",
   "execution_count": 13,
   "id": "9187fa38",
   "metadata": {},
   "outputs": [
    {
     "data": {
      "text/plain": [
       "0.3170229667152641"
      ]
     },
     "execution_count": 13,
     "metadata": {},
     "output_type": "execute_result"
    }
   ],
   "source": [
    "np.random.rand()"
   ]
  },
  {
   "cell_type": "markdown",
   "id": "c952c63d",
   "metadata": {},
   "source": [
    "10. NumPy kullanarak standart dağılıma sahip 25 random sayıdan oluşan bir array oluşturalım.\n",
    "\n",
    "  NOT: Sizin cevabınız aşağıdaki çıktıdan farklı olacaktır"
   ]
  },
  {
   "cell_type": "code",
   "execution_count": 14,
   "id": "2f72edb1",
   "metadata": {},
   "outputs": [
    {
     "data": {
      "text/plain": [
       "array([-0.08967818, -0.32384211, -0.67106516,  0.70626628,  0.8142416 ,\n",
       "        1.42472435, -1.80634854,  0.76582895,  0.63609741, -0.60468111,\n",
       "       -0.14255076, -1.03920898, -0.32412872,  0.82082067, -0.63407505,\n",
       "       -0.29061263, -0.54590779,  1.00497046,  1.09070308,  0.49527491,\n",
       "        0.10627624,  0.99199002,  0.98453642,  0.62796783,  0.02847465])"
      ]
     },
     "execution_count": 14,
     "metadata": {},
     "output_type": "execute_result"
    }
   ],
   "source": [
    "np.random.randn(25)"
   ]
  },
  {
   "cell_type": "markdown",
   "id": "dde0a240",
   "metadata": {},
   "source": [
    "11. Aşağıdaki çıktıdakine benzer array'i oluşturmaya çalışın\n",
    "\n",
    "array([[0.01, 0.02, 0.03, 0.04, 0.05, 0.06, 0.07, 0.08, 0.09, 0.1 ],\n",
    "       [0.11, 0.12, 0.13, 0.14, 0.15, 0.16, 0.17, 0.18, 0.19, 0.2 ],\n",
    "       [0.21, 0.22, 0.23, 0.24, 0.25, 0.26, 0.27, 0.28, 0.29, 0.3 ],\n",
    "       [0.31, 0.32, 0.33, 0.34, 0.35, 0.36, 0.37, 0.38, 0.39, 0.4 ],\n",
    "       [0.41, 0.42, 0.43, 0.44, 0.45, 0.46, 0.47, 0.48, 0.49, 0.5 ],\n",
    "       [0.51, 0.52, 0.53, 0.54, 0.55, 0.56, 0.57, 0.58, 0.59, 0.6 ],\n",
    "       [0.61, 0.62, 0.63, 0.64, 0.65, 0.66, 0.67, 0.68, 0.69, 0.7 ],\n",
    "       [0.71, 0.72, 0.73, 0.74, 0.75, 0.76, 0.77, 0.78, 0.79, 0.8 ],\n",
    "       [0.81, 0.82, 0.83, 0.84, 0.85, 0.86, 0.87, 0.88, 0.89, 0.9 ],\n",
    "       [0.91, 0.92, 0.93, 0.94, 0.95, 0.96, 0.97, 0.98, 0.99, 1.  ]])"
   ]
  },
  {
   "cell_type": "code",
   "execution_count": 15,
   "id": "0616995a",
   "metadata": {},
   "outputs": [
    {
     "data": {
      "text/plain": [
       "array([[0.01, 0.02, 0.03, 0.04, 0.05, 0.06, 0.07, 0.08, 0.09, 0.1 ],\n",
       "       [0.11, 0.12, 0.13, 0.14, 0.15, 0.16, 0.17, 0.18, 0.19, 0.2 ],\n",
       "       [0.21, 0.22, 0.23, 0.24, 0.25, 0.26, 0.27, 0.28, 0.29, 0.3 ],\n",
       "       [0.31, 0.32, 0.33, 0.34, 0.35, 0.36, 0.37, 0.38, 0.39, 0.4 ],\n",
       "       [0.41, 0.42, 0.43, 0.44, 0.45, 0.46, 0.47, 0.48, 0.49, 0.5 ],\n",
       "       [0.51, 0.52, 0.53, 0.54, 0.55, 0.56, 0.57, 0.58, 0.59, 0.6 ],\n",
       "       [0.61, 0.62, 0.63, 0.64, 0.65, 0.66, 0.67, 0.68, 0.69, 0.7 ],\n",
       "       [0.71, 0.72, 0.73, 0.74, 0.75, 0.76, 0.77, 0.78, 0.79, 0.8 ],\n",
       "       [0.81, 0.82, 0.83, 0.84, 0.85, 0.86, 0.87, 0.88, 0.89, 0.9 ],\n",
       "       [0.91, 0.92, 0.93, 0.94, 0.95, 0.96, 0.97, 0.98, 0.99, 1.  ]])"
      ]
     },
     "execution_count": 15,
     "metadata": {},
     "output_type": "execute_result"
    }
   ],
   "source": [
    "np.arange(0.01, 1.01, 0.01).reshape(10, -1)"
   ]
  },
  {
   "cell_type": "markdown",
   "id": "f04745de",
   "metadata": {},
   "source": [
    "12. 0-1 arasında lineer artış gösteren ve 20 sayıdan oluşan bir array oluşturun:"
   ]
  },
  {
   "cell_type": "code",
   "execution_count": 16,
   "id": "d70b8036",
   "metadata": {},
   "outputs": [
    {
     "data": {
      "text/plain": [
       "array([0.        , 0.05263158, 0.10526316, 0.15789474, 0.21052632,\n",
       "       0.26315789, 0.31578947, 0.36842105, 0.42105263, 0.47368421,\n",
       "       0.52631579, 0.57894737, 0.63157895, 0.68421053, 0.73684211,\n",
       "       0.78947368, 0.84210526, 0.89473684, 0.94736842, 1.        ])"
      ]
     },
     "execution_count": 16,
     "metadata": {},
     "output_type": "execute_result"
    }
   ],
   "source": [
    "np.linspace(0, 1, 20)"
   ]
  },
  {
   "cell_type": "markdown",
   "id": "c495a997",
   "metadata": {},
   "source": [
    "# NumPy Indexleme ve Secme"
   ]
  },
  {
   "cell_type": "markdown",
   "id": "1825d3f6",
   "metadata": {},
   "source": [
    "Aşağıdaki matris sıradaki sorular için bizim başlangıç matrisimiz. (Aşağıdaki kod hücresini çalıştırarak devam edin.), devamında sorduğumuz soruları cevaplamaya çalışın:"
   ]
  },
  {
   "cell_type": "code",
   "execution_count": 17,
   "id": "151d3a87",
   "metadata": {},
   "outputs": [
    {
     "data": {
      "text/plain": [
       "array([[ 1,  2,  3,  4,  5],\n",
       "       [ 6,  7,  8,  9, 10],\n",
       "       [11, 12, 13, 14, 15],\n",
       "       [16, 17, 18, 19, 20],\n",
       "       [21, 22, 23, 24, 25]])"
      ]
     },
     "execution_count": 17,
     "metadata": {},
     "output_type": "execute_result"
    }
   ],
   "source": [
    "mat = np.arange(1,26).reshape(5,5)\n",
    "mat"
   ]
  },
  {
   "cell_type": "markdown",
   "id": "2bdf3e81",
   "metadata": {},
   "source": [
    "13. Aşağıda verilen matrisleri oluşturmaya çalışın.\n",
    "\n",
    "array([[ 1,  2,  3,  4,  5],\n",
    "       [ 6,  7,  8,  9, 10],\n",
    "       [11, 12, 13, 14, 15],\n",
    "       [16, 17, 18, 19, 20],\n",
    "       [21, 22, 23, 24, 25]])"
   ]
  },
  {
   "cell_type": "code",
   "execution_count": 20,
   "id": "309b16d7",
   "metadata": {},
   "outputs": [
    {
     "data": {
      "text/plain": [
       "array([[12, 13, 14, 15],\n",
       "       [17, 18, 19, 20],\n",
       "       [22, 23, 24, 25]])"
      ]
     },
     "execution_count": 20,
     "metadata": {},
     "output_type": "execute_result"
    }
   ],
   "source": [
    "mat[2: , 1:]"
   ]
  },
  {
   "cell_type": "markdown",
   "id": "987cb922",
   "metadata": {},
   "source": [
    "14. Parantez içinde gösterilen çıktıyı üreten kodu yazın. (20)"
   ]
  },
  {
   "cell_type": "code",
   "execution_count": 21,
   "id": "f4a05298",
   "metadata": {},
   "outputs": [
    {
     "data": {
      "text/plain": [
       "np.int64(20)"
      ]
     },
     "execution_count": 21,
     "metadata": {},
     "output_type": "execute_result"
    }
   ],
   "source": [
    "mat[3][4]"
   ]
  },
  {
   "cell_type": "markdown",
   "id": "b9eb3a28",
   "metadata": {},
   "source": [
    "15. mat arrayini kullanarak aşağıdaki matris çıktısını verecek kodları oluşturun\n",
    "\n",
    "array([[ 2],\n",
    "       [ 7],\n",
    "       [12]])"
   ]
  },
  {
   "cell_type": "code",
   "execution_count": 22,
   "id": "0d613174",
   "metadata": {},
   "outputs": [
    {
     "data": {
      "text/plain": [
       "array([[ 2],\n",
       "       [ 7],\n",
       "       [12]])"
      ]
     },
     "execution_count": 22,
     "metadata": {},
     "output_type": "execute_result"
    }
   ],
   "source": [
    "mat[0: 3, 1: 2]"
   ]
  },
  {
   "cell_type": "markdown",
   "id": "eff3effa",
   "metadata": {},
   "source": [
    "16. mat arrayini kullanarak aşağıdaki matris çıktısını verecek kodları oluşturun\n",
    "\n",
    "array([21, 22, 23, 24, 25])"
   ]
  },
  {
   "cell_type": "code",
   "execution_count": 26,
   "id": "ef53f20b",
   "metadata": {},
   "outputs": [
    {
     "data": {
      "text/plain": [
       "array([21, 22, 23, 24, 25])"
      ]
     },
     "execution_count": 26,
     "metadata": {},
     "output_type": "execute_result"
    }
   ],
   "source": [
    "mat[4]"
   ]
  },
  {
   "cell_type": "markdown",
   "id": "dfcb4a8c",
   "metadata": {},
   "source": [
    "17. mat arrayini kullanarak aşağıdaki matris çıktısını verecek kodları oluşturun\n",
    "\n",
    "array([[16, 17, 18, 19, 20],\n",
    "       [21, 22, 23, 24, 25]])"
   ]
  },
  {
   "cell_type": "code",
   "execution_count": 25,
   "id": "e01e3ef6",
   "metadata": {},
   "outputs": [
    {
     "data": {
      "text/plain": [
       "array([[16, 17, 18, 19, 20],\n",
       "       [21, 22, 23, 24, 25]])"
      ]
     },
     "execution_count": 25,
     "metadata": {},
     "output_type": "execute_result"
    }
   ],
   "source": [
    "mat[3: 5]"
   ]
  },
  {
   "cell_type": "markdown",
   "id": "34bc5e63",
   "metadata": {},
   "source": [
    "# NumPy Operasyonlari"
   ]
  },
  {
   "cell_type": "markdown",
   "id": "425039bb",
   "metadata": {},
   "source": [
    "18. Mat arrayindeki bütün değerlerin toplamını bulun"
   ]
  },
  {
   "cell_type": "code",
   "execution_count": 27,
   "id": "5dc52cef",
   "metadata": {},
   "outputs": [
    {
     "data": {
      "text/plain": [
       "np.int64(325)"
      ]
     },
     "execution_count": 27,
     "metadata": {},
     "output_type": "execute_result"
    }
   ],
   "source": [
    "mat.sum()"
   ]
  },
  {
   "cell_type": "markdown",
   "id": "3e58cbbf",
   "metadata": {},
   "source": [
    "19. Mat arrayindeki değerlerin standart sapmasını bulun"
   ]
  },
  {
   "cell_type": "code",
   "execution_count": 28,
   "id": "7f873fbb",
   "metadata": {},
   "outputs": [
    {
     "data": {
      "text/plain": [
       "np.float64(7.211102550927978)"
      ]
     },
     "execution_count": 28,
     "metadata": {},
     "output_type": "execute_result"
    }
   ],
   "source": [
    "mat.std()"
   ]
  },
  {
   "cell_type": "markdown",
   "id": "58e7de66",
   "metadata": {},
   "source": [
    "20. Mat arrayindeki her sütunun kendi içinde toplamlarını bularak yeni bir array oluşturun"
   ]
  },
  {
   "cell_type": "code",
   "execution_count": 44,
   "id": "516e4b56",
   "metadata": {},
   "outputs": [
    {
     "data": {
      "text/plain": [
       "array([ 15,  40,  65,  90, 115])"
      ]
     },
     "execution_count": 44,
     "metadata": {},
     "output_type": "execute_result"
    }
   ],
   "source": [
    "mat1 = np.sum(mat, axis = 1) # np.sum() : satırları toplamak için axis=1, sütunları toplamak için axis=0 kullanılır.\n",
    "mat1"
   ]
  },
  {
   "cell_type": "markdown",
   "id": "c4f19e9e",
   "metadata": {},
   "source": [
    "# Tebrikler, NumPy temelleri öğrenilmiş!"
   ]
  }
 ],
 "metadata": {
  "kernelspec": {
   "display_name": "Python 3",
   "language": "python",
   "name": "python3"
  },
  "language_info": {
   "codemirror_mode": {
    "name": "ipython",
    "version": 3
   },
   "file_extension": ".py",
   "mimetype": "text/x-python",
   "name": "python",
   "nbconvert_exporter": "python",
   "pygments_lexer": "ipython3",
   "version": "3.14.0"
  }
 },
 "nbformat": 4,
 "nbformat_minor": 5
}
